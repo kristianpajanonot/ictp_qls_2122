{
  "nbformat": 4,
  "nbformat_minor": 0,
  "metadata": {
    "colab": {
      "name": "Exer B.ipynb",
      "provenance": [],
      "collapsed_sections": []
    },
    "kernelspec": {
      "name": "python3",
      "display_name": "Python 3"
    },
    "language_info": {
      "name": "python"
    }
  },
  "cells": [
    {
      "cell_type": "code",
      "source": [
        "import numpy as np\n",
        "import matplotlib.pyplot as plt\n",
        "from tqdm import tqdm\n",
        "from google.colab import files"
      ],
      "metadata": {
        "id": "yWXJ9Zrjc7cl"
      },
      "execution_count": null,
      "outputs": []
    },
    {
      "cell_type": "code",
      "execution_count": null,
      "metadata": {
        "id": "dbK8lpH6LJij"
      },
      "outputs": [],
      "source": [
        "#calculate maximum real eigenvalue\n",
        "def maxEig(N,sigma):\n",
        "  A = np.random.normal(scale=sigma/np.sqrt(N),size=(N,N))\n",
        "  np.fill_diagonal(A, -1)\n",
        "  Eigenvalues = np.real(np.linalg.eig(A)[0])\n",
        "  maxEigenvalue = np.amax(Eigenvalues)\n",
        "  return maxEigenvalue"
      ]
    },
    {
      "cell_type": "code",
      "source": [
        "N=547\n",
        "meanMaxEigs =[]\n",
        "errorMaxEigs = []\n",
        "range_sigma=np.linspace(0,5,num=10)\n",
        "\n",
        "#calculate max eigenvalue for different values of sigma\n",
        "for j in tqdm(range_sigma):\n",
        "  maxEigenvalues = []\n",
        "  sigma = j\n",
        "  for i in range(30):\n",
        "    maxEigenvalues.append(maxEig(N,sigma))\n",
        "  \n",
        "  #take average and std\n",
        "  meanMaxEigs.append(np.mean(maxEigenvalues))\n",
        "  errorMaxEigs.append(np.std(maxEigenvalues))"
      ],
      "metadata": {
        "colab": {
          "base_uri": "https://localhost:8080/"
        },
        "id": "mjHAmDQbbvxE",
        "outputId": "5d0423db-cbdd-4e9e-d55c-fe52a70f5cff"
      },
      "execution_count": null,
      "outputs": [
        {
          "output_type": "stream",
          "name": "stderr",
          "text": [
            "100%|██████████| 10/10 [02:15<00:00, 13.56s/it]\n"
          ]
        }
      ]
    },
    {
      "cell_type": "markdown",
      "source": [
        "Plotting maximum eigenvalues as a function of sigma"
      ],
      "metadata": {
        "id": "BvRZrjM8ZR-m"
      }
    },
    {
      "cell_type": "code",
      "source": [
        "plt.errorbar(range_sigma,meanMaxEigs,errorMaxEigs,uplims=True,lolims=True,color='black')\n",
        "plt.xlabel('σ')\n",
        "plt.ylabel('Max Eigenvalue')\n",
        "plt.axhline(0,color='black',ls='--')\n",
        "plt.savefig('exercise_b', dpi=300)\n",
        "files.download('exercise_b.png')\n",
        "plt.show()"
      ],
      "metadata": {
        "colab": {
          "base_uri": "https://localhost:8080/",
          "height": 296
        },
        "id": "4txVQ7ImdlT3",
        "outputId": "7d45ad9f-50b2-4846-9ac0-5329c8425073"
      },
      "execution_count": null,
      "outputs": [
        {
          "output_type": "display_data",
          "data": {
            "application/javascript": [
              "\n",
              "    async function download(id, filename, size) {\n",
              "      if (!google.colab.kernel.accessAllowed) {\n",
              "        return;\n",
              "      }\n",
              "      const div = document.createElement('div');\n",
              "      const label = document.createElement('label');\n",
              "      label.textContent = `Downloading \"${filename}\": `;\n",
              "      div.appendChild(label);\n",
              "      const progress = document.createElement('progress');\n",
              "      progress.max = size;\n",
              "      div.appendChild(progress);\n",
              "      document.body.appendChild(div);\n",
              "\n",
              "      const buffers = [];\n",
              "      let downloaded = 0;\n",
              "\n",
              "      const channel = await google.colab.kernel.comms.open(id);\n",
              "      // Send a message to notify the kernel that we're ready.\n",
              "      channel.send({})\n",
              "\n",
              "      for await (const message of channel.messages) {\n",
              "        // Send a message to notify the kernel that we're ready.\n",
              "        channel.send({})\n",
              "        if (message.buffers) {\n",
              "          for (const buffer of message.buffers) {\n",
              "            buffers.push(buffer);\n",
              "            downloaded += buffer.byteLength;\n",
              "            progress.value = downloaded;\n",
              "          }\n",
              "        }\n",
              "      }\n",
              "      const blob = new Blob(buffers, {type: 'application/binary'});\n",
              "      const a = document.createElement('a');\n",
              "      a.href = window.URL.createObjectURL(blob);\n",
              "      a.download = filename;\n",
              "      div.appendChild(a);\n",
              "      a.click();\n",
              "      div.remove();\n",
              "    }\n",
              "  "
            ],
            "text/plain": [
              "<IPython.core.display.Javascript object>"
            ]
          },
          "metadata": {}
        },
        {
          "output_type": "display_data",
          "data": {
            "application/javascript": [
              "download(\"download_868a250c-25c3-4f9a-a544-70596360999a\", \"exercise_b.png\", 67520)"
            ],
            "text/plain": [
              "<IPython.core.display.Javascript object>"
            ]
          },
          "metadata": {}
        },
        {
          "output_type": "display_data",
          "data": {
            "image/png": "[encoded data removed]",
            "text/plain": [
              "<Figure size 432x288 with 1 Axes>"
            ]
          },
          "metadata": {
            "needs_background": "light"
          }
        }
      ]
    },
    {
      "cell_type": "code",
      "source": [
        ""
      ],
      "metadata": {
        "id": "MZspD5RCi4pe"
      },
      "execution_count": null,
      "outputs": []
    }
  ]
}