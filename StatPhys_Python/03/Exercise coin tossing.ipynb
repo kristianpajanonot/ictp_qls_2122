{
 "cells": [
  {
   "cell_type": "code",
   "execution_count": 1,
   "metadata": {
    "id": "lb8k9dd1Yzk7"
   },
   "outputs": [],
   "source": [
    "import numpy as np\n",
    "import matplotlib.pyplot as plt"
   ]
  },
  {
   "cell_type": "markdown",
   "metadata": {
    "id": "tFuSvXJKY6Us"
   },
   "source": [
    "# Coin tossing\n",
    "\n",
    "Let's try to solve this exercise: \n",
    "\n",
    "I'm tossing a fair coin (prob. of head is $p_1 = 0.5$) $n_1 = 10$ times. An opponent has a biased coin (prob. of head is $p_2 = 0.75$) $n_2 = 6$ times.\n",
    "The number of heads are counted in each of the two sequences $h_1$, $h_2$.\n",
    "According to those numbers I win/loose an amount of money equal to $h_1 - h_2$.\n",
    "How much I can expect to win (or loose)?"
   ]
  },
  {
   "cell_type": "markdown",
   "metadata": {
    "id": "LTd5FRJSWyOP"
   },
   "source": [
    "## 1 - Coin tossing generator\n",
    "\n",
    "### 1a - Write a function that generates the outcome of a coin, where the head probability is $p$\n",
    "\n",
    "Remember that this corresponds to generate a Bernoulli variable:\n",
    "$$\n",
    "X = \n",
    "\\begin{cases}\n",
    "1 \\hspace{1cm} \\text{w.p.} \\hspace{0.5cm} p \\\\\n",
    "0 \\hspace{1cm} \\text{w.p.} \\hspace{0.5cm} 1 - p\n",
    "\\end{cases}\n",
    "$$\n",
    "Its probability distribution is:\n",
    "$$\n",
    "p(x=0) = 1-p \\hspace{1cm} p(x=1) = p\n",
    "$$\n",
    "The cumulative of its probability distribution reads:\n",
    "$$\n",
    "C(x=0) = 1-p \\hspace{1cm} C(x=1) = 1\n",
    "$$\n",
    "From which we can get sample given a  $U$ a uniform random variable in $[0,1]$:\n",
    "$$\n",
    "X = \n",
    "\\begin{cases}\n",
    "0 \\hspace{1cm} \\text{if} \\hspace{0.5cm} U \\le 1-p \\\\\n",
    "1 \\hspace{1cm} \\text{if} \\hspace{0.5cm} 1-p < U \\le 1\n",
    "\\end{cases}\n",
    "$$"
   ]
  },
  {
   "cell_type": "code",
   "execution_count": 3,
   "metadata": {},
   "outputs": [],
   "source": [
    "def coin_toss_generator(p):\n",
    "    random_unif = np.random.rand()\n",
    "    return (random_unif <= p)*1"
   ]
  },
  {
   "cell_type": "code",
   "execution_count": 4,
   "metadata": {},
   "outputs": [
    {
     "data": {
      "text/plain": [
       "1"
      ]
     },
     "execution_count": 4,
     "metadata": {},
     "output_type": "execute_result"
    }
   ],
   "source": [
    "coin_toss_generator(0.5)"
   ]
  },
  {
   "cell_type": "markdown",
   "metadata": {
    "id": "9z5bkMHBaigi"
   },
   "source": [
    "### 1b - Statistics of coin tossing: Bernoulli distribution\n",
    "\n",
    "Write a function that generates the outcome of $n$ coins with bias $p$.\n",
    "\n",
    "**Extra**: Do not use python loops."
   ]
  },
  {
   "cell_type": "code",
   "execution_count": 5,
   "metadata": {
    "id": "ibQqqnyFaWkX"
   },
   "outputs": [],
   "source": [
    "def coin_tossing(n, p):\n",
    "    random_unif = np.random.rand(n)\n",
    "    return (random_unif <= p)*1"
   ]
  },
  {
   "cell_type": "code",
   "execution_count": 6,
   "metadata": {},
   "outputs": [
    {
     "data": {
      "text/plain": [
       "array([1, 0, 1, 1, 0, 1, 1, 0, 1, 0])"
      ]
     },
     "execution_count": 6,
     "metadata": {},
     "output_type": "execute_result"
    }
   ],
   "source": [
    "coin_tossing(10, 0.5)"
   ]
  },
  {
   "cell_type": "code",
   "execution_count": 7,
   "metadata": {},
   "outputs": [],
   "source": [
    "coin_toss = coin_tossing(1000, 0.8)"
   ]
  },
  {
   "cell_type": "code",
   "execution_count": 19,
   "metadata": {},
   "outputs": [
    {
     "data": {
      "image/png": "[encoded data removed]",
      "text/plain": [
       "<Figure size 432x288 with 1 Axes>"
      ]
     },
     "metadata": {
      "needs_background": "light"
     },
     "output_type": "display_data"
    }
   ],
   "source": [
    "plt.hist(coin_toss, bins = [-0.5,0.5,1.5])\n",
    "plt.show()"
   ]
  },
  {
   "cell_type": "markdown",
   "metadata": {
    "id": "N07CtJ-f5PC9"
   },
   "source": [
    "Plot a density histogram of 10000 outcomes. You will get the Bernoulli distribution having parameter $p$: https://en.wikipedia.org/wiki/Bernoulli_distribution (the outcome of coin tossing is a Bernoulli stochastic variable).\n",
    "\n",
    "Hint: You have only two values on the x-asis. If you let python doing the histogram using the default generation of bins it can make a mess. Instead specify the bin boundaries using the argument `bins=[-0.5,0.5,1.5]`."
   ]
  },
  {
   "cell_type": "markdown",
   "metadata": {
    "id": "a73wpIZL8YAE"
   },
   "source": [
    "## 2 - Computing the observable average genereting the whole sequence\n",
    "\n",
    "To solve the exercise stated at the beginning, we need to compute the avearge of the observable, which is the amount of money that I'm going to win or loose:\n",
    "\n",
    "$$\n",
    "A \\left(\\vec{X}_{1}, \\vec{X}_{2} \\right) = \\text{N. heads}\\left[\\vec{X}_{1}\\right] - \\text{N. heads}\\left[\\vec{X}_{2}\\right]\n",
    "$$\n",
    "\n",
    "where $\\vec{X}_{i} = (X_i^{(1)}, \\ldots, X_{i}^{(n_i)})$ is the sequence of the coin outcomes for the player $i$ ($X$ is a Bernoulli variable with probability $p_i$ of obtaining head). ((Remember that player $1$ plays $10$ times and player $2$ only $6$, so $|\\vec{X}_{1}| = 10$ and $|\\vec{X}_{2}| = 6$))\n",
    "\n",
    "The average of the observable is defined as:\n",
    "\n",
    "$$\n",
    "\\langle A \\rangle = \\sum_{\\vec{x}_{1}} \\sum_{\\vec{x}_{2}} P(\\vec{x}_1) P(\\vec{x}_2) A(\\vec{x}_1, \\vec{x}_2)\n",
    "$$\n",
    "\n",
    "Note that the two sequences are independent, and this allows us to factorize the probabilitiy $P(\\vec{x}_1, \\vec{x}_2)$.\n",
    "\n",
    "The Montecarlo method that we are using to approximate that summation takes advantage of the sample average (the sample is one extaction of $\\vec{X}_1$ and $\\vec{X}_2$), that, in the limit of infinite samples, converges to the real average:\n",
    "\n",
    "$$\n",
    "\\langle A \\rangle = \\lim_{N \\rightarrow \\infty} \\frac{1}{N} \\sum_{i}^N A\\left(\\vec{X}_1, \\vec{X}_2\\right)\n",
    "$$\n"
   ]
  },
  {
   "cell_type": "markdown",
   "metadata": {
    "id": "w_wAwqXyAjDc"
   },
   "source": [
    "### 2a - Write a function that provides one sample of $A$\n",
    "\n",
    "First write a function that, given two sequences, computes the observable $A$. "
   ]
  },
  {
   "cell_type": "code",
   "execution_count": 56,
   "metadata": {
    "id": "22Rk9k_hA3UO"
   },
   "outputs": [],
   "source": [
    "def compute_A1(seq1, seq2):\n",
    "    return sum(seq1) - sum(seq2)"
   ]
  },
  {
   "cell_type": "code",
   "execution_count": 57,
   "metadata": {},
   "outputs": [
    {
     "data": {
      "text/plain": [
       "3"
      ]
     },
     "execution_count": 57,
     "metadata": {},
     "output_type": "execute_result"
    }
   ],
   "source": [
    "seq1 = [0,1,1,1,0]\n",
    "seq2 = [0,0,0,0]\n",
    "compute_A1(seq1, seq2)"
   ]
  },
  {
   "cell_type": "markdown",
   "metadata": {
    "id": "DEfvT4Vr-VtM"
   },
   "source": [
    "Then, write another function that, given the four parameter of the game, $n_1$, $n_2$, $p_1$, $p_2$, generates the two sequences of outcomes and returns how much money I won, which is $A$. "
   ]
  },
  {
   "cell_type": "code",
   "execution_count": 58,
   "metadata": {
    "id": "83iKX6d_-WVt"
   },
   "outputs": [],
   "source": [
    "def compute_A(n1, n2, p1, p2):\n",
    "    seq1 = coin_tossing(n1, p1)\n",
    "    seq2 = coin_tossing(n2, p2)\n",
    "    return sum(seq1) - sum(seq2)"
   ]
  },
  {
   "cell_type": "code",
   "execution_count": 59,
   "metadata": {},
   "outputs": [
    {
     "data": {
      "text/plain": [
       "-2"
      ]
     },
     "execution_count": 59,
     "metadata": {},
     "output_type": "execute_result"
    }
   ],
   "source": [
    "compute_A(10, 6, 0.5, 0.75)"
   ]
  },
  {
   "cell_type": "markdown",
   "metadata": {
    "id": "-oSQbb_eA9Ms"
   },
   "source": [
    "### 2b - Compute the average of A and answer the exercise question\n",
    "\n",
    "Write a function that computes the sample average over $N=10000$ samples. This means that you have to generate $N$ pair of sequences $X_1$ and $X_2$, compute $A$, summing those values and divide by $N$."
   ]
  },
  {
   "cell_type": "code",
   "execution_count": 83,
   "metadata": {
    "id": "l9CzW7z6BVJD"
   },
   "outputs": [],
   "source": [
    "def average_A(N, n1, n2, p1, p2):\n",
    "    A_list = []\n",
    "    for i in range(N):\n",
    "        seq1 = coin_tossing(n1, p1)\n",
    "        seq2 = coin_tossing(n2, p2)\n",
    "        A = sum(seq1) - sum(seq2)\n",
    "        A_list.append(A)\n",
    "    return sum(A_list) / N"
   ]
  },
  {
   "cell_type": "code",
   "execution_count": 84,
   "metadata": {},
   "outputs": [
    {
     "data": {
      "text/plain": [
       "-0.6"
      ]
     },
     "execution_count": 84,
     "metadata": {},
     "output_type": "execute_result"
    }
   ],
   "source": [
    "average_A(10, 10, 6, 0.5, 0.75)"
   ]
  },
  {
   "cell_type": "code",
   "execution_count": null,
   "metadata": {},
   "outputs": [],
   "source": [
    "def average_A2(N, n1, n2, p1, p2):\n",
    "    seq1 = np.random.rand(N, n1)\n",
    "    seq2 = np.random.rand(N, n2)\n",
    "    heads1 = np.sum(seq1 > p1, axis = 1)\n",
    "    heads2 = np.sum(seq2 > p2, axis = 1)\n",
    "    win = heads1 - heads2\n",
    "    return np.mean(win)"
   ]
  },
  {
   "cell_type": "markdown",
   "metadata": {
    "id": "8t1UQQxbRTIz"
   },
   "source": [
    "## 3 - Statistics of the number of heads\n",
    "\n",
    "To solve the exercise in a smarter way, let's study the statistics of the number of heads in a sequence."
   ]
  },
  {
   "cell_type": "markdown",
   "metadata": {
    "id": "ZgFZ03UIvB6u"
   },
   "source": [
    "Given an ensemble of $R$ sequences, compute the number of heads in each of them, and store all these numbers in a $R$-long vector."
   ]
  },
  {
   "cell_type": "code",
   "execution_count": null,
   "metadata": {
    "id": "1Dhye7KQvF0x"
   },
   "outputs": [],
   "source": []
  },
  {
   "cell_type": "markdown",
   "metadata": {
    "id": "sWwdSjbj3nNG"
   },
   "source": [
    "Plot the density histogram of the vector of number of heads. You will get the Binomial distribution: https://en.wikipedia.org/wiki/Binomial_distribution.\n",
    "\n",
    "$$\n",
    "p(h | p, n) = \\frac{n!}{(n-h)!h!} p^h (1-p)^{n-h}\n",
    "$$\n",
    "\n",
    "Try to plot this function on the top of your histogram, anc check that they overlap.\n",
    "\n",
    "Be careful about the binomial coefficient $\\frac{n!}{(n-h)!h!} = \\binom{n}{h}$, since the factorial explodes also for small $n$. I suggest you to use the python function written in the box below to generate the coefficient. It will take care of approximating large numbers."
   ]
  },
  {
   "cell_type": "code",
   "execution_count": null,
   "metadata": {
    "id": "mipCH3Yd6e72"
   },
   "outputs": [],
   "source": [
    "from scipy.special import binom # binom(n,h) returns the binomial coefficient n over h"
   ]
  },
  {
   "cell_type": "markdown",
   "metadata": {
    "id": "Qg0MIycEV0wq"
   },
   "source": [
    "## 4 - Compute the average in a smarter way: sampling from the binomial distribution\n",
    "\n",
    "A smart reader can note that the observable depends only on the number of heads of the two sequences: $A(\\vec{X}_1, \\vec{X}_1) = A\\left(H_1, H_2 \\right)$.\n",
    "Moreover we do know the statistics of the number of heads: it's a binomial as we tested before.\n",
    "From this observation we can forget that there is an underlying sequence of coin outcomes (which we can generate using $n_1 + n_2$ random-numbers) and directly sample the number of heads from the binomial distribution (using only two random-number generations).\n",
    "\n",
    "In formulas:\n",
    "$$\n",
    "\\langle A \\rangle = \\sum_{h_1} \\sum_{h_2} P(h_1 | p_1, n_1) P(h_2 | p_2, n_2) A(h_1, h_2) = \\lim_{N \\rightarrow \\infty} \\frac{1}{N} \\sum_{i}^N A\\left(H_1, H_2\\right)\n",
    "$$\n",
    "\n"
   ]
  },
  {
   "cell_type": "markdown",
   "metadata": {
    "id": "e28Wb9tnqk-2"
   },
   "source": [
    "### 4a - Sampling from the binomial distribution\n",
    "\n",
    "To sample discrete distributions we need the cumulative $C(h) = \\sum_{i=0}^h p(i)$.\n",
    "\n",
    "Write a function that given the two parameters of the binomial distribution, $p$ and $n$, returns a vector containing all the values of the cumulative: $C(0), C(1), \\ldots, C(n)$."
   ]
  },
  {
   "cell_type": "code",
   "execution_count": null,
   "metadata": {
    "id": "nONhOwOFr_tL"
   },
   "outputs": [],
   "source": []
  },
  {
   "cell_type": "markdown",
   "metadata": {
    "id": "Mo_hPOLwwW2E"
   },
   "source": [
    "Write in a function the generator of one sample the binomial distribution. This function takes as argument the cumulative distribution of the binomial that we want to sample.\n",
    "- Generate a uniform sample $U$ in $[0,1]$\n",
    "- Iterate $i$ in $0, \\ldots, n$:\n",
    "> - If $C_{i} < U < C_{i+1}$: return $i$."
   ]
  },
  {
   "cell_type": "code",
   "execution_count": null,
   "metadata": {
    "id": "5nt-si21yJB-"
   },
   "outputs": [],
   "source": []
  },
  {
   "cell_type": "markdown",
   "metadata": {
    "id": "ZEd3-Sb8yPHx"
   },
   "source": [
    "### 4b - Test your generator\n",
    "\n",
    "Test your generator by obtaining $10000$ samples, plt the density histogram and test the correspondence with the theorietical distribution."
   ]
  },
  {
   "cell_type": "code",
   "execution_count": null,
   "metadata": {
    "id": "Q18ed84b3-iE"
   },
   "outputs": [],
   "source": []
  },
  {
   "cell_type": "code",
   "execution_count": null,
   "metadata": {
    "id": "ncRElsyF4xxZ"
   },
   "outputs": [],
   "source": []
  },
  {
   "cell_type": "markdown",
   "metadata": {
    "id": "a_rmllei46pW"
   },
   "source": [
    "### 4c - Compute the average sampling from the binomial"
   ]
  },
  {
   "cell_type": "markdown",
   "metadata": {
    "id": "HWhqATJSzxWl"
   },
   "source": [
    "As before, compute the average of $A(h_1,h_2) = h_1-h_2$.\n",
    "\n",
    "- Generate the two cumulative distributions (according to the parameters of the two sequences of the two players).\n",
    "- Iterate over $R$ realization:\n",
    "> - Generate the number of heads in the first sequence.\n",
    "> - Generate the number of heads in the second sequence.\n",
    "> - Compute $A$ and store this sample in a vecotor.\n",
    "- Compute the average of the vector containing the samples of $A$.\n"
   ]
  },
  {
   "cell_type": "code",
   "execution_count": null,
   "metadata": {
    "id": "fNBl2nJJjvF7"
   },
   "outputs": [],
   "source": []
  },
  {
   "cell_type": "markdown",
   "metadata": {
    "id": "JoBXEqIUjtmI"
   },
   "source": [
    "### 4d Extra - Test that the average A depends only on the product $np$\n",
    "\n",
    "If you change, for example, $p_2$ and $n_2$ in a way that $p_2 n_2$ is constant, the outcome does not change (the only relenvant variable is $p_2 n_2$). \n",
    "Try to show this fact in a plot.\n",
    "\n",
    "What is the theoretical reason behind this?"
   ]
  },
  {
   "cell_type": "code",
   "execution_count": null,
   "metadata": {
    "id": "aY5Zr-qTjvf_"
   },
   "outputs": [],
   "source": []
  }
 ],
 "metadata": {
  "colab": {
   "collapsed_sections": [],
   "name": "Exercise coin tossing.ipynb",
   "provenance": []
  },
  "kernelspec": {
   "display_name": "Python 3",
   "language": "python",
   "name": "python3"
  },
  "language_info": {
   "codemirror_mode": {
    "name": "ipython",
    "version": 3
   },
   "file_extension": ".py",
   "mimetype": "text/x-python",
   "name": "python",
   "nbconvert_exporter": "python",
   "pygments_lexer": "ipython3",
   "version": "3.8.8"
  }
 },
 "nbformat": 4,
 "nbformat_minor": 4
}
