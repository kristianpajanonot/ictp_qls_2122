{
 "cells": [
  {
   "cell_type": "code",
   "execution_count": 1,
   "metadata": {
    "executionInfo": {
     "elapsed": 1792,
     "status": "ok",
     "timestamp": 1602236742252,
     "user": {
      "displayName": "Andrea Mazzolini",
      "photoUrl": "https://lh3.googleusercontent.com/a-/AOh14Gj889rV0hCKG0LInS5OJdlv_nS9Mv4fKmWQb2ax=s64",
      "userId": "17503038082596243982"
     },
     "user_tz": -120
    },
    "id": "lb8k9dd1Yzk7"
   },
   "outputs": [],
   "source": [
    "import numpy as np\n",
    "import matplotlib.pyplot as plt"
   ]
  },
  {
   "cell_type": "markdown",
   "metadata": {
    "id": "tFuSvXJKY6Us"
   },
   "source": [
    "# Coin tossing\n",
    "\n",
    "Let's try to solve this exercise: \n",
    "\n",
    "I'm tossing a fair coin (prob. of head is $p_1 = 0.5$) $n_1 = 10$ times. An opponent has a biased coin (prob. of head is $p_2 = 0.75$) $n_2 = 6$ times.\n",
    "The number of heads are counted in each of the two sequences $h_1$, $h_2$.\n",
    "According to those numbers I win/loose an amount of money equal to $h_1 - h_2$.\n",
    "How much I can expect to win (or loose)?"
   ]
  },
  {
   "cell_type": "markdown",
   "metadata": {
    "id": "LTd5FRJSWyOP"
   },
   "source": [
    "## 1 - Coin tossing generator\n",
    "\n",
    "### 1a - Write a function that generates the outcome of a coin, where the head probability is $p$\n",
    "\n",
    "Remember that this corresponds to generate a Bernoulli variable:\n",
    "$$\n",
    "X = \n",
    "\\begin{cases}\n",
    "1 \\hspace{1cm} \\text{w.p.} \\hspace{0.5cm} p \\\\\n",
    "0 \\hspace{1cm} \\text{w.p.} \\hspace{0.5cm} 1 - p\n",
    "\\end{cases}\n",
    "$$\n",
    "Its probability distribution is:\n",
    "$$\n",
    "p(x=0) = 1-p \\hspace{1cm} p(x=1) = p\n",
    "$$\n",
    "The cumulative of its probability distribution reads:\n",
    "$$\n",
    "C(x=0) = 1-p \\hspace{1cm} C(x=1) = 1\n",
    "$$\n",
    "From which we can get sample given a  $U$ a uniform random variable in $[0,1]$:\n",
    "$$\n",
    "X = \n",
    "\\begin{cases}\n",
    "0 \\hspace{1cm} \\text{if} \\hspace{0.5cm} U \\le 1-p \\\\\n",
    "1 \\hspace{1cm} \\text{if} \\hspace{0.5cm} 1-p < U \\le 1\n",
    "\\end{cases}\n",
    "$$"
   ]
  },
  {
   "cell_type": "code",
   "execution_count": 2,
   "metadata": {
    "colab": {
     "base_uri": "https://localhost:8080/",
     "height": 34
    },
    "executionInfo": {
     "elapsed": 1776,
     "status": "ok",
     "timestamp": 1602236742255,
     "user": {
      "displayName": "Andrea Mazzolini",
      "photoUrl": "https://lh3.googleusercontent.com/a-/AOh14Gj889rV0hCKG0LInS5OJdlv_nS9Mv4fKmWQb2ax=s64",
      "userId": "17503038082596243982"
     },
     "user_tz": -120
    },
    "id": "_JY4Ih6aXAIa",
    "outputId": "8349b44a-c0c9-44c9-c93c-52e3bd68470f"
   },
   "outputs": [
    {
     "data": {
      "text/plain": [
       "1"
      ]
     },
     "execution_count": 2,
     "metadata": {
      "tags": []
     },
     "output_type": "execute_result"
    }
   ],
   "source": [
    "def coin_gen(p):\n",
    "  u = np.random.rand()\n",
    "  if u < 1-p:\n",
    "    return 0\n",
    "  else:\n",
    "    return 1\n",
    "\n",
    "coin_gen(0.6)"
   ]
  },
  {
   "cell_type": "markdown",
   "metadata": {
    "id": "9z5bkMHBaigi"
   },
   "source": [
    "### 1b - Statistics of coin tossing: Bernoulli distribution\n",
    "\n",
    "Write a function that generates the outcome of $n$ coins with bias $p$.\n",
    "\n",
    "**Extra**: Do not use python loops."
   ]
  },
  {
   "cell_type": "code",
   "execution_count": 3,
   "metadata": {
    "executionInfo": {
     "elapsed": 1773,
     "status": "ok",
     "timestamp": 1602236742256,
     "user": {
      "displayName": "Andrea Mazzolini",
      "photoUrl": "https://lh3.googleusercontent.com/a-/AOh14Gj889rV0hCKG0LInS5OJdlv_nS9Mv4fKmWQb2ax=s64",
      "userId": "17503038082596243982"
     },
     "user_tz": -120
    },
    "id": "ibQqqnyFaWkX"
   },
   "outputs": [],
   "source": [
    "def generate_samples(sequence_length, coin_bias):\n",
    "  unif_vars = np.random.rand(sequence_length)\n",
    "  return np.array(unif_vars < coin_bias, dtype=int)"
   ]
  },
  {
   "cell_type": "markdown",
   "metadata": {
    "id": "N07CtJ-f5PC9"
   },
   "source": [
    "Plot a density histogram of 10000 outcomes. You will get the Bernoulli distribution having parameter $p$: https://en.wikipedia.org/wiki/Bernoulli_distribution (the outcome of coin tossing is a Bernoulli stochastic variable).\n",
    "\n",
    "Hint: You have only two values on the x-asis. If you let python doing the histogram using the default generation of bins it can make a mess. Instead specify the bin boundaries using the argument `bins=[-0.5,0.5,1.5]`."
   ]
  },
  {
   "cell_type": "code",
   "execution_count": 4,
   "metadata": {
    "colab": {
     "base_uri": "https://localhost:8080/",
     "height": 283
    },
    "executionInfo": {
     "elapsed": 1763,
     "status": "ok",
     "timestamp": 1602236742258,
     "user": {
      "displayName": "Andrea Mazzolini",
      "photoUrl": "https://lh3.googleusercontent.com/a-/AOh14Gj889rV0hCKG0LInS5OJdlv_nS9Mv4fKmWQb2ax=s64",
      "userId": "17503038082596243982"
     },
     "user_tz": -120
    },
    "id": "FWKcofvmazvU",
    "outputId": "e9a6ecf6-6439-4039-e8fa-e7a05cd026a1"
   },
   "outputs": [
    {
     "data": {
      "image/png": "[encoded data removed]",
      "text/plain": [
       "<Figure size 432x288 with 1 Axes>"
      ]
     },
     "metadata": {
      "needs_background": "light",
      "tags": []
     },
     "output_type": "display_data"
    }
   ],
   "source": [
    "samples = generate_samples(10000, 0.75)\n",
    "\n",
    "plt.xlabel('Outcome', fontsize=14)\n",
    "plt.ylabel('Probability density', fontsize=14)\n",
    "plt.xticks([0,1])\n",
    "plt.grid(axis='y', alpha=0.75)\n",
    "h = plt.hist(samples, bins=[-0.5,0.5,1.5], density=True, rwidth=0.75, color='#040273')"
   ]
  },
  {
   "cell_type": "markdown",
   "metadata": {
    "id": "a73wpIZL8YAE"
   },
   "source": [
    "## 2 - Computing the observable average genereting the whole sequence\n",
    "\n",
    "To solve the exercise stated at the beginning, we need to compute the avearge of the observable, which is the amount of money that I'm going to win or loose:\n",
    "\n",
    "$$\n",
    "A \\left(\\vec{X}_{1}, \\vec{X}_{2} \\right) = \\text{N. heads}\\left[\\vec{X}_{1}\\right] - \\text{N. heads}\\left[\\vec{X}_{2}\\right]\n",
    "$$\n",
    "\n",
    "where $\\vec{X}_{i} = (X_i^{(1)}, \\ldots, X_{i}^{(n_i)})$ is the sequence of the coin outcomes for the player $i$ ($X$ is a Bernoulli variable with probability $p_i$ of obtaining head).\n",
    "\n",
    "The average of the observable is defined as:\n",
    "\n",
    "$$\n",
    "\\langle A \\rangle = \\sum_{\\vec{x}_{1}} \\sum_{\\vec{x}_{2}} P(\\vec{x}_1) P(\\vec{x}_2) A(\\vec{x}_1, \\vec{x}_2)\n",
    "$$\n",
    "\n",
    "Note that the two sequences are independent, and this allows us to factorize the probabilitiy $P(\\vec{x}_1, \\vec{x}_2)$.\n",
    "\n",
    "The Montecarlo method that we are using to approximate that summation takes advantage of the sample average, that, in the limit of infinite samples, converges to the real average:\n",
    "\n",
    "$$\n",
    "\\langle A \\rangle = \\lim_{N \\rightarrow \\infty} \\frac{1}{N} \\sum_{i}^N A\\left(\\vec{X}_1, \\vec{X}_2\\right)\n",
    "$$\n"
   ]
  },
  {
   "cell_type": "markdown",
   "metadata": {
    "id": "w_wAwqXyAjDc"
   },
   "source": [
    "### 2a - Write a function that provides one sample of $A$\n",
    "\n",
    "First write a function that, given two sequences, computes the observable $A$. Use the function to count the number of heads written before."
   ]
  },
  {
   "cell_type": "code",
   "execution_count": 5,
   "metadata": {
    "executionInfo": {
     "elapsed": 1758,
     "status": "ok",
     "timestamp": 1602236742258,
     "user": {
      "displayName": "Andrea Mazzolini",
      "photoUrl": "https://lh3.googleusercontent.com/a-/AOh14Gj889rV0hCKG0LInS5OJdlv_nS9Mv4fKmWQb2ax=s64",
      "userId": "17503038082596243982"
     },
     "user_tz": -120
    },
    "id": "qe6bMWe0Aid7"
   },
   "outputs": [],
   "source": [
    "def n_heads(sequence):\n",
    "  return (np.array(sequence) == 1).sum()"
   ]
  },
  {
   "cell_type": "code",
   "execution_count": 6,
   "metadata": {
    "executionInfo": {
     "elapsed": 1756,
     "status": "ok",
     "timestamp": 1602236742259,
     "user": {
      "displayName": "Andrea Mazzolini",
      "photoUrl": "https://lh3.googleusercontent.com/a-/AOh14Gj889rV0hCKG0LInS5OJdlv_nS9Mv4fKmWQb2ax=s64",
      "userId": "17503038082596243982"
     },
     "user_tz": -120
    },
    "id": "22Rk9k_hA3UO"
   },
   "outputs": [],
   "source": [
    "def A(seq1, seq2):\n",
    "  return (n_heads(seq1) - n_heads(seq2))"
   ]
  },
  {
   "cell_type": "markdown",
   "metadata": {
    "id": "o0octs6EDDYO"
   },
   "source": [
    "Then, write another function that, given the four parameter of the game, $n_1$, $n_2$, $p_1$, $p_2$, generates the two sequences of outcomes and returns how much money I won. "
   ]
  },
  {
   "cell_type": "code",
   "execution_count": 7,
   "metadata": {
    "executionInfo": {
     "elapsed": 1754,
     "status": "ok",
     "timestamp": 1602236742260,
     "user": {
      "displayName": "Andrea Mazzolini",
      "photoUrl": "https://lh3.googleusercontent.com/a-/AOh14Gj889rV0hCKG0LInS5OJdlv_nS9Mv4fKmWQb2ax=s64",
      "userId": "17503038082596243982"
     },
     "user_tz": -120
    },
    "id": "DJkmcWb6DBpN"
   },
   "outputs": [],
   "source": [
    "def sample_of_A(p1, p2, n1, n2):\n",
    "  s1 = generate_samples(n1, p1)\n",
    "  s2 = generate_samples(n2, p2)\n",
    "  return A(s1, s2)"
   ]
  },
  {
   "cell_type": "markdown",
   "metadata": {
    "id": "-oSQbb_eA9Ms"
   },
   "source": [
    "### 2c - Compute the average of A and answer the exercise question\n",
    "\n",
    "Write a function that computes the sample average over $N=10000$ samples. This means that you have to generate $N$ pair of sequences $X_1$ and $X_2$, compute $A$, summing those values and divide by $N$."
   ]
  },
  {
   "cell_type": "code",
   "execution_count": 8,
   "metadata": {
    "colab": {
     "base_uri": "https://localhost:8080/",
     "height": 52
    },
    "executionInfo": {
     "elapsed": 3573,
     "status": "ok",
     "timestamp": 1602236744090,
     "user": {
      "displayName": "Andrea Mazzolini",
      "photoUrl": "https://lh3.googleusercontent.com/a-/AOh14Gj889rV0hCKG0LInS5OJdlv_nS9Mv4fKmWQb2ax=s64",
      "userId": "17503038082596243982"
     },
     "user_tz": -120
    },
    "id": "l9CzW7z6BVJD",
    "outputId": "95c0f836-c7ec-407c-b791-e1a8a8613698"
   },
   "outputs": [
    {
     "name": "stdout",
     "output_type": "stream",
     "text": [
      "Expected gain/loss if I throw 10 coins with bias 0.5 against an opponent who throws 6 coins with bias 0.7:\n",
      "0.80489\n"
     ]
    }
   ],
   "source": [
    "def average_A(p1, p2, n1, n2, n_realizations):\n",
    "  samples = np.array([sample_of_A(p1, p2, n1, n2) for r in range(n_realizations)])\n",
    "  return samples.mean()\n",
    "\n",
    "n1, n2, p1, p2 = 10, 6, 0.5, 0.7\n",
    "print('Expected gain/loss if I throw {} coins with bias {} against an opponent who throws {} coins with bias {}:'.format(n1, p1, n2, p2))\n",
    "print(average_A(p1, p2, n1, n2, 100000))"
   ]
  },
  {
   "cell_type": "markdown",
   "metadata": {
    "id": "8t1UQQxbRTIz"
   },
   "source": [
    "## 3 - Statistics of the number of heads\n",
    "\n",
    "To solve the exercise in a smarter way, let's study the statistics of the number of heads in a sequence."
   ]
  },
  {
   "cell_type": "markdown",
   "metadata": {
    "id": "ZgFZ03UIvB6u"
   },
   "source": [
    "Given an ensemble of $R$ sequences, compute the number of heads in each of them, and store all these numbers in a $R$-long vector."
   ]
  },
  {
   "cell_type": "code",
   "execution_count": 9,
   "metadata": {
    "executionInfo": {
     "elapsed": 3571,
     "status": "ok",
     "timestamp": 1602236744092,
     "user": {
      "displayName": "Andrea Mazzolini",
      "photoUrl": "https://lh3.googleusercontent.com/a-/AOh14Gj889rV0hCKG0LInS5OJdlv_nS9Mv4fKmWQb2ax=s64",
      "userId": "17503038082596243982"
     },
     "user_tz": -120
    },
    "id": "1Dhye7KQvF0x"
   },
   "outputs": [],
   "source": [
    "def n_heads(sequence):\n",
    "  return (np.array(sequence) == 1).sum()"
   ]
  },
  {
   "cell_type": "markdown",
   "metadata": {
    "id": "sWwdSjbj3nNG"
   },
   "source": [
    "Plot the density histogram of the vector of number of heads. You will get the Binomial distribution: https://en.wikipedia.org/wiki/Binomial_distribution.\n",
    "\n",
    "$$\n",
    "p(h | p, n) = \\frac{n!}{(n-h)!h!} p^h (1-p)^{n-h}\n",
    "$$\n",
    "\n",
    "Try to plot this function on the top of your histogram, anc check that they overlap.\n",
    "\n",
    "Be careful about the binomial coefficient $\\frac{n!}{(n-x)!x!} = \\binom{n}{x}$, since the factorial explodes also for small $n$. I suggest you to use the python function written in the box below to generate the coefficient. It will take care of approximating large numbers."
   ]
  },
  {
   "cell_type": "code",
   "execution_count": 10,
   "metadata": {
    "executionInfo": {
     "elapsed": 3569,
     "status": "ok",
     "timestamp": 1602236744093,
     "user": {
      "displayName": "Andrea Mazzolini",
      "photoUrl": "https://lh3.googleusercontent.com/a-/AOh14Gj889rV0hCKG0LInS5OJdlv_nS9Mv4fKmWQb2ax=s64",
      "userId": "17503038082596243982"
     },
     "user_tz": -120
    },
    "id": "mipCH3Yd6e72"
   },
   "outputs": [],
   "source": [
    "from scipy.special import binom\n",
    "\n",
    "def binomial_dist(h, p, n):\n",
    "  return binom(n, h) * p**h * (1-p)**(n-h)"
   ]
  },
  {
   "cell_type": "code",
   "execution_count": 11,
   "metadata": {
    "colab": {
     "base_uri": "https://localhost:8080/",
     "height": 358
    },
    "executionInfo": {
     "elapsed": 3560,
     "status": "ok",
     "timestamp": 1602236744095,
     "user": {
      "displayName": "Andrea Mazzolini",
      "photoUrl": "https://lh3.googleusercontent.com/a-/AOh14Gj889rV0hCKG0LInS5OJdlv_nS9Mv4fKmWQb2ax=s64",
      "userId": "17503038082596243982"
     },
     "user_tz": -120
    },
    "id": "qL8qU5__DYu7",
    "outputId": "f60d3773-cbbb-40d7-fe34-e25c009795bd"
   },
   "outputs": [
    {
     "name": "stderr",
     "output_type": "stream",
     "text": [
      "/usr/local/lib/python3.6/dist-packages/ipykernel_launcher.py:12: MatplotlibDeprecationWarning: Saw kwargs ['c', 'color'] which are all aliases for 'color'.  Kept value from 'color'.  Passing multiple aliases for the same property will raise a TypeError in 3.3.\n",
      "  if sys.path[0] == '':\n"
     ]
    },
    {
     "data": {
      "text/plain": [
       "<matplotlib.legend.Legend at 0x7f3bcc7def28>"
      ]
     },
     "execution_count": 11,
     "metadata": {
      "tags": []
     },
     "output_type": "execute_result"
    },
    {
     "data": {
      "image/png": "[encoded data removed]",
      "text/plain": [
       "<Figure size 432x288 with 1 Axes>"
      ]
     },
     "metadata": {
      "needs_background": "light",
      "tags": []
     },
     "output_type": "display_data"
    }
   ],
   "source": [
    "n_realizations = 10000\n",
    "sequence_length = 10\n",
    "coin_bias = 0.66\n",
    "h_samples = [n_heads(generate_samples(sequence_length, coin_bias)) for r in range(n_realizations)]\n",
    "\n",
    "plt.hist(h_samples, bins=np.arange(0,sequence_length+2)-0.5, density=True, rwidth=0.5, color='#040273', label='Simulation')\n",
    "x = np.arange(0,sequence_length+1)\n",
    "plt.xlabel('Number of heads, $h$', fontsize=14)\n",
    "plt.ylabel('pdf', fontsize=14)\n",
    "\n",
    "y = [binomial_dist(h, coin_bias, sequence_length) for h in x]\n",
    "p = plt.plot(x,y, c='red', marker='o', lw=2, color='#fd3c06', label=r\"$p(h | p, n) = \\binom{n}{h} p^h (1-p)^{n-h}$\")\n",
    "\n",
    "plt.legend()\n",
    "\n",
    "#plt.savefig(\"Head statistics.png\", dpi=200)"
   ]
  },
  {
   "cell_type": "markdown",
   "metadata": {
    "id": "Qg0MIycEV0wq"
   },
   "source": [
    "## 4 - Compute the average in a smarter way: sampling from the binomial distribution\n",
    "\n",
    "A smart reader can note that the observable depends only on the number of heads of the two sequences: $A(\\vec{X}_1, \\vec{X}_1) = A\\left(H_1, H_2 \\right)$.\n",
    "Moreover we do know the statistics of the number of heads: it's a binomial as we tested before.\n",
    "From this observation we can forget that there is an underlying sequence of coin outcomes (which we can generate using $n_1 + n_2$ random-numbers) and directly sample the number of heads from the binomial distribution (using only two random-number generations).\n",
    "\n",
    "In formulas:\n",
    "$$\n",
    "\\langle A \\rangle = \\sum_{h_1} \\sum_{h_2} P(h_1 | p_1, n_1) P(h_2 | p_2, n_2) A(h_1, h_2) = \\lim_{N \\rightarrow \\infty} \\frac{1}{N} \\sum_{i}^N A\\left(H_1, H_2\\right)\n",
    "$$\n",
    "\n"
   ]
  },
  {
   "cell_type": "markdown",
   "metadata": {
    "id": "e28Wb9tnqk-2"
   },
   "source": [
    "### 4a - Sampling from the binomial distribution\n",
    "\n",
    "To sample discrete distributions we need the cumulative $C(h) = \\sum_{i=0}^h p(i)$.\n",
    "\n",
    "Write a function that given the two parameters of the binomial distribution, $p$ and $n$, returns a vector containing all the values of the cumulative: $C(0), C(1), \\ldots, C(n)$."
   ]
  },
  {
   "cell_type": "code",
   "execution_count": 19,
   "metadata": {
    "colab": {
     "base_uri": "https://localhost:8080/",
     "height": 69
    },
    "executionInfo": {
     "elapsed": 474,
     "status": "ok",
     "timestamp": 1602236920214,
     "user": {
      "displayName": "Andrea Mazzolini",
      "photoUrl": "https://lh3.googleusercontent.com/a-/AOh14Gj889rV0hCKG0LInS5OJdlv_nS9Mv4fKmWQb2ax=s64",
      "userId": "17503038082596243982"
     },
     "user_tz": -120
    },
    "id": "nONhOwOFr_tL",
    "outputId": "152057b0-9077-493d-e4d4-17fc02b1d27d"
   },
   "outputs": [
    {
     "name": "stdout",
     "output_type": "stream",
     "text": [
      "[0.         0.00474756 0.0352676  0.12682771 0.29686793 0.51549106\n",
      " 0.72162144 0.86885743 0.94998746 0.98475747 0.99634748 0.99932777\n",
      " 0.99990834 0.99999128 0.99999948 0.99999999 1.        ]\n"
     ]
    }
   ],
   "source": [
    "def cumulative_binomial(p,n):\n",
    "  c = [0]\n",
    "  for i in range(n+1):\n",
    "    c.append(c[-1] + binomial_dist(i, p, n))\n",
    "  return np.array(c)\n",
    "\n",
    "print(cumulative_binomial(0.3,15))"
   ]
  },
  {
   "cell_type": "markdown",
   "metadata": {
    "id": "Mo_hPOLwwW2E"
   },
   "source": [
    "Write in a function the generator of one sample the binomial distribution. This function takes as argument the cumulative distribution of the binomial that we want to sample.\n",
    "- Generate a uniform sample $U$ in $[0,1]$\n",
    "- Iterate $i$ in $0, \\ldots, n$:\n",
    "> - If $C_{i} < U < C_{i+1}$: return $i$."
   ]
  },
  {
   "cell_type": "code",
   "execution_count": 15,
   "metadata": {
    "executionInfo": {
     "elapsed": 630,
     "status": "ok",
     "timestamp": 1602236875137,
     "user": {
      "displayName": "Andrea Mazzolini",
      "photoUrl": "https://lh3.googleusercontent.com/a-/AOh14Gj889rV0hCKG0LInS5OJdlv_nS9Mv4fKmWQb2ax=s64",
      "userId": "17503038082596243982"
     },
     "user_tz": -120
    },
    "id": "5nt-si21yJB-"
   },
   "outputs": [],
   "source": [
    "def generate_binom_sample(cumulative):\n",
    "  u = np.random.rand()\n",
    "  for i in range(0,len(cumulative)+1):\n",
    "    if cumulative[i] < u and u < cumulative[i+1]:\n",
    "      return i"
   ]
  },
  {
   "cell_type": "markdown",
   "metadata": {
    "id": "ZEd3-Sb8yPHx"
   },
   "source": [
    "### 4b - Test your generator\n",
    "\n",
    "Test your generator by obtaining $10000$ samples, plt the density histogram and test the correspondence with the theorietical distribution."
   ]
  },
  {
   "cell_type": "code",
   "execution_count": 16,
   "metadata": {
    "executionInfo": {
     "elapsed": 657,
     "status": "ok",
     "timestamp": 1602236877440,
     "user": {
      "displayName": "Andrea Mazzolini",
      "photoUrl": "https://lh3.googleusercontent.com/a-/AOh14Gj889rV0hCKG0LInS5OJdlv_nS9Mv4fKmWQb2ax=s64",
      "userId": "17503038082596243982"
     },
     "user_tz": -120
    },
    "id": "Q18ed84b3-iE"
   },
   "outputs": [],
   "source": [
    "sequence_length = 15\n",
    "coin_bias = 0.3\n",
    "c = cumulative_binomial(coin_bias, sequence_length)\n",
    "samples = np.array([generate_binom_sample(c) for r in range(10000)])"
   ]
  },
  {
   "cell_type": "code",
   "execution_count": 20,
   "metadata": {
    "colab": {
     "base_uri": "https://localhost:8080/",
     "height": 358
    },
    "executionInfo": {
     "elapsed": 763,
     "status": "ok",
     "timestamp": 1602236991857,
     "user": {
      "displayName": "Andrea Mazzolini",
      "photoUrl": "https://lh3.googleusercontent.com/a-/AOh14Gj889rV0hCKG0LInS5OJdlv_nS9Mv4fKmWQb2ax=s64",
      "userId": "17503038082596243982"
     },
     "user_tz": -120
    },
    "id": "ncRElsyF4xxZ",
    "outputId": "ae108bac-9531-4674-a208-bdfbb277e252"
   },
   "outputs": [
    {
     "name": "stderr",
     "output_type": "stream",
     "text": [
      "/usr/local/lib/python3.6/dist-packages/ipykernel_launcher.py:8: MatplotlibDeprecationWarning: Saw kwargs ['c', 'color'] which are all aliases for 'color'.  Kept value from 'color'.  Passing multiple aliases for the same property will raise a TypeError in 3.3.\n",
      "  \n"
     ]
    },
    {
     "data": {
      "text/plain": [
       "<matplotlib.legend.Legend at 0x7f3bc497fe10>"
      ]
     },
     "execution_count": 20,
     "metadata": {
      "tags": []
     },
     "output_type": "execute_result"
    },
    {
     "data": {
      "image/png": "[encoded data removed]",
      "text/plain": [
       "<Figure size 432x288 with 1 Axes>"
      ]
     },
     "metadata": {
      "needs_background": "light",
      "tags": []
     },
     "output_type": "display_data"
    }
   ],
   "source": [
    "bins = np.arange(0,sequence_length+2)-0.5\n",
    "plt.hist(samples, bins=bins, density=True, rwidth=0.8, color='#040273', label='Simulation')\n",
    "x = np.arange(0,sequence_length+1)\n",
    "plt.xlabel('Number of heads, $h$', fontsize=14)\n",
    "plt.ylabel('pdf', fontsize=14)\n",
    "\n",
    "y = [binomial_dist(h, coin_bias, sequence_length) for h in x]\n",
    "p = plt.plot(x,y, c='red', marker='o', lw=2, color='#fd3c06', label=r\"Theory\")\n",
    "\n",
    "plt.legend()"
   ]
  },
  {
   "cell_type": "markdown",
   "metadata": {
    "id": "a_rmllei46pW"
   },
   "source": [
    "### 4c - Compute the average sampling from the binomial"
   ]
  },
  {
   "cell_type": "markdown",
   "metadata": {
    "id": "HWhqATJSzxWl"
   },
   "source": [
    "As before, compute the average of $A(h_1,h_2) = h_1-h_2$.\n",
    "\n",
    "- Generate the two cumulative distributions (according to the parameters of the two sequences of the two players).\n",
    "- Iterate over $R$ realization:\n",
    "> - Generate the number of heads in the first sequence.\n",
    "> - Generate the number of heads in the second sequence.\n",
    "> - Compute $A$ and store this sample in a vecotor.\n",
    "- Compute the average of the vector containing the samples of $A$.\n"
   ]
  },
  {
   "cell_type": "code",
   "execution_count": 21,
   "metadata": {
    "executionInfo": {
     "elapsed": 875,
     "status": "ok",
     "timestamp": 1602237016597,
     "user": {
      "displayName": "Andrea Mazzolini",
      "photoUrl": "https://lh3.googleusercontent.com/a-/AOh14Gj889rV0hCKG0LInS5OJdlv_nS9Mv4fKmWQb2ax=s64",
      "userId": "17503038082596243982"
     },
     "user_tz": -120
    },
    "id": "oNRNjCXp5DOY"
   },
   "outputs": [],
   "source": [
    "def A_heads(h1, h2):\n",
    "  return (h1-h2)\n",
    "\n",
    "def average_A_heads(p1, p2, n1, n2, n_realizations):\n",
    "  A_samples = np.array([])\n",
    "  c1 = cumulative_binomial(p1, n1)\n",
    "  c2 = cumulative_binomial(p2, n2)\n",
    "  for r in range(n_realizations):\n",
    "    h1 = generate_binom_sample(c1)\n",
    "    h2 = generate_binom_sample(c2)\n",
    "    A_samples = np.append(A_samples, A_heads(h1, h2))\n",
    "  return A_samples.mean()"
   ]
  },
  {
   "cell_type": "code",
   "execution_count": 22,
   "metadata": {
    "colab": {
     "base_uri": "https://localhost:8080/",
     "height": 52
    },
    "executionInfo": {
     "elapsed": 4328,
     "status": "ok",
     "timestamp": 1602237020259,
     "user": {
      "displayName": "Andrea Mazzolini",
      "photoUrl": "https://lh3.googleusercontent.com/a-/AOh14Gj889rV0hCKG0LInS5OJdlv_nS9Mv4fKmWQb2ax=s64",
      "userId": "17503038082596243982"
     },
     "user_tz": -120
    },
    "id": "X5Jb4jlcEFNw",
    "outputId": "4ff02db6-ece9-4283-a9f9-e64533ac27b3"
   },
   "outputs": [
    {
     "name": "stdout",
     "output_type": "stream",
     "text": [
      "Expected gain/loss if I throw 10 coins with bias 0.5 against an opponent who throws 6 coins with bias 0.75:\n",
      "0.49856\n"
     ]
    }
   ],
   "source": [
    "n1, n2, p1, p2 = 10, 6, 0.5, 0.75\n",
    "print('Expected gain/loss if I throw {} coins with bias {} against an opponent who throws {} coins with bias {}:'.format(n1, p1, n2, p2))\n",
    "print(average_A_heads(p1, p2, n1, n2, 100000))"
   ]
  },
  {
   "cell_type": "markdown",
   "metadata": {
    "id": "Hk8tsRBzhsI9"
   },
   "source": [
    "### 4d - Test that the average A depends only on the product $np$\n",
    "\n",
    "If you change, for example, $p_2$ and $n_2$ in a way that $p_2 n_2$ is constant, the outcome does not change (the only relenvant variable is $p_2 n_2$)"
   ]
  },
  {
   "cell_type": "code",
   "execution_count": 23,
   "metadata": {
    "executionInfo": {
     "elapsed": 4788,
     "status": "ok",
     "timestamp": 1602237021066,
     "user": {
      "displayName": "Andrea Mazzolini",
      "photoUrl": "https://lh3.googleusercontent.com/a-/AOh14Gj889rV0hCKG0LInS5OJdlv_nS9Mv4fKmWQb2ax=s64",
      "userId": "17503038082596243982"
     },
     "user_tz": -120
    },
    "id": "vNjht1KfebOf"
   },
   "outputs": [],
   "source": [
    "n2p2 = 5 # Fixing the product p2*n2\n",
    "n2s = [5,10,15] # Choosing some n2s\n",
    "p2s = [n2p2/n2 for n2 in n2s] # Choosing p2 such that the product is conserved\n",
    "n1 = 10\n",
    "p1s = np.linspace(0,1,20)\n",
    "\n",
    "As = []\n",
    "for i in range(len(n2s)):\n",
    "  A_at_n2 = []\n",
    "  for p1 in p1s:\n",
    "    A_at_n2.append(average_A_heads(p1, p2s[i], n1, n2s[i], 1000))\n",
    "  As.append(A_at_n2)\n",
    "As = np.array(As)"
   ]
  },
  {
   "cell_type": "code",
   "execution_count": 24,
   "metadata": {
    "colab": {
     "base_uri": "https://localhost:8080/",
     "height": 301
    },
    "executionInfo": {
     "elapsed": 4582,
     "status": "ok",
     "timestamp": 1602237021068,
     "user": {
      "displayName": "Andrea Mazzolini",
      "photoUrl": "https://lh3.googleusercontent.com/a-/AOh14Gj889rV0hCKG0LInS5OJdlv_nS9Mv4fKmWQb2ax=s64",
      "userId": "17503038082596243982"
     },
     "user_tz": -120
    },
    "id": "KRz32Jo7EFoP",
    "outputId": "faf45524-439c-4023-be44-e48722e5f47c"
   },
   "outputs": [
    {
     "data": {
      "text/plain": [
       "<matplotlib.legend.Legend at 0x7f3bcc674fd0>"
      ]
     },
     "execution_count": 24,
     "metadata": {
      "tags": []
     },
     "output_type": "execute_result"
    },
    {
     "data": {
      "image/png": "[encoded data removed]",
      "text/plain": [
       "<Figure size 432x288 with 1 Axes>"
      ]
     },
     "metadata": {
      "needs_background": "light",
      "tags": []
     },
     "output_type": "display_data"
    }
   ],
   "source": [
    "plt.xlabel(\"$p_1$\", fontsize=14)\n",
    "plt.ylabel(r\"$\\langle A \\rangle$\", fontsize=14)\n",
    "for i in range(len(n2s)):\n",
    "  plt.plot(p1s, As[i], label=r\"$n_1$={}, $n_2$={}, $p_2$={:3.2f}\".format(n1, n2s[i], p2s[i]), lw=2)\n",
    "plt.legend()"
   ]
  },
  {
   "cell_type": "code",
   "execution_count": 24,
   "metadata": {
    "executionInfo": {
     "elapsed": 4426,
     "status": "ok",
     "timestamp": 1602237021071,
     "user": {
      "displayName": "Andrea Mazzolini",
      "photoUrl": "https://lh3.googleusercontent.com/a-/AOh14Gj889rV0hCKG0LInS5OJdlv_nS9Mv4fKmWQb2ax=s64",
      "userId": "17503038082596243982"
     },
     "user_tz": -120
    },
    "id": "wQEO8S1Zi4v0"
   },
   "outputs": [],
   "source": []
  }
 ],
 "metadata": {
  "colab": {
   "collapsed_sections": [],
   "name": "Solution coin tossing.ipynb",
   "provenance": []
  },
  "kernelspec": {
   "display_name": "Python 3",
   "language": "python",
   "name": "python3"
  },
  "language_info": {
   "codemirror_mode": {
    "name": "ipython",
    "version": 3
   },
   "file_extension": ".py",
   "mimetype": "text/x-python",
   "name": "python",
   "nbconvert_exporter": "python",
   "pygments_lexer": "ipython3",
   "version": "3.8.8"
  }
 },
 "nbformat": 4,
 "nbformat_minor": 4
}
