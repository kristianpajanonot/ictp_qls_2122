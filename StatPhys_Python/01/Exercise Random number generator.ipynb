{
 "cells": [
  {
   "cell_type": "code",
   "execution_count": 1,
   "metadata": {
    "colab": {},
    "colab_type": "code",
    "id": "EACPTwQgPKMI"
   },
   "outputs": [],
   "source": [
    "import numpy as np\n",
    "import matplotlib.pyplot as plt"
   ]
  },
  {
   "cell_type": "markdown",
   "metadata": {
    "colab_type": "text",
    "id": "sNSscPshPMhW"
   },
   "source": [
    "Try to implement a naive pseudo random number generator using the Linear Congruent Generator, https://en.wikipedia.org/wiki/Linear_congruential_generator.\n",
    "\n",
    "It is a discrete map:\n",
    "\n",
    "$$\n",
    "X_{n+1} = (a X_n + c) \\text{ mod } m\n",
    "$$\n",
    "\n",
    "where:\n",
    "- $m > 0$ is the \"**modulus**\". It sets the period of the sequence, after $m$ iterations it will be repeted.\n",
    "- $0 < a < m$ the \"**multiplier**\"\n",
    "- $0 \\le c < m$ the \"**increment**\"\n",
    "- $0 \\le X_0 < m$ the \"**seed**\" or \"start value\"\n",
    "\n",
    "To have a sequence of effectively random numbers the parameters have to be properly chosen (a lot of mathematics behind...).\n",
    "Still, if you know the parameters and $X_n$ the next value can be easily obtained (this is the drawback of pseudo random number generation)."
   ]
  },
  {
   "cell_type": "markdown",
   "metadata": {
    "colab_type": "text",
    "id": "YfMzgwjDvvHW"
   },
   "source": [
    "### Write a function that generate a sequence using LCG"
   ]
  },
  {
   "cell_type": "code",
   "execution_count": 2,
   "metadata": {
    "colab": {},
    "colab_type": "code",
    "id": "6AMkxDRCQOvM"
   },
   "outputs": [],
   "source": [
    "def sequence(x, m, a, c, N):\n",
    "    x_new = []\n",
    "    N = 1000\n",
    "    if N < m:\n",
    "        for i in range(1,N):\n",
    "            print('b')\n",
    "            x = (a*x + c)%N\n",
    "            x_new.append(x)\n",
    "        return x_new\n",
    "    else:\n",
    "        print('a')\n",
    "        for i in range(1,m):\n",
    "            x = (a*x + c)%m\n",
    "            x_new.append(x)\n",
    "        return x_new"
   ]
  },
  {
   "cell_type": "code",
   "execution_count": 3,
   "metadata": {},
   "outputs": [
    {
     "name": "stdout",
     "output_type": "stream",
     "text": [
      "a\n"
     ]
    },
    {
     "data": {
      "text/plain": [
       "[0, 3, 4, 8, 2, 0, 3, 4, 8, 2]"
      ]
     },
     "execution_count": 3,
     "metadata": {},
     "output_type": "execute_result"
    }
   ],
   "source": [
    "sequence(x = 2, m = 11, a = 4, c = 3, N = 1000)"
   ]
  },
  {
   "cell_type": "markdown",
   "metadata": {
    "colab_type": "text",
    "id": "pIFk66fOv6l7"
   },
   "source": [
    "Let's see some non-random sequences that the map can provide.\n",
    "This is to show you that in some case the map is not random at all...\n",
    "\n",
    "Note the periodicity of the formula: after $m$ generated numbers the sequence will repeat again. So, the best that we can onbtain is a random sequence for the first $m$ outcomes.\n",
    "\n",
    "### Try $m=11$, $a=c=1$, what do you get?\n",
    "\n",
    "Is it random over period $m$?"
   ]
  },
  {
   "cell_type": "code",
   "execution_count": 4,
   "metadata": {
    "colab": {},
    "colab_type": "code",
    "id": "gzbAgWmNoiIa"
   },
   "outputs": [
    {
     "name": "stdout",
     "output_type": "stream",
     "text": [
      "a\n"
     ]
    },
    {
     "data": {
      "text/plain": [
       "[3, 4, 5, 6, 7, 8, 9, 10, 0, 1]"
      ]
     },
     "execution_count": 4,
     "metadata": {},
     "output_type": "execute_result"
    }
   ],
   "source": [
    "sequence(x = 2, m = 11, a = 1, c = 1, N = 1000)"
   ]
  },
  {
   "cell_type": "markdown",
   "metadata": {
    "colab_type": "text",
    "id": "AwL4RC51wNg0"
   },
   "source": [
    "### Try $m=11$, $a=3$, $c=0$ what do you get?\n",
    "\n",
    "Is it random over period $m$?"
   ]
  },
  {
   "cell_type": "code",
   "execution_count": 6,
   "metadata": {
    "colab": {},
    "colab_type": "code",
    "id": "dK-rsLLxmscS"
   },
   "outputs": [
    {
     "name": "stdout",
     "output_type": "stream",
     "text": [
      "a\n"
     ]
    },
    {
     "data": {
      "text/plain": [
       "[6, 7, 10, 8, 2, 6, 7, 10, 8, 2]"
      ]
     },
     "execution_count": 6,
     "metadata": {},
     "output_type": "execute_result"
    }
   ],
   "source": [
    "sequence(x = 2, m = 11, a = 3, c = 0, N = 1000)"
   ]
  },
  {
   "cell_type": "markdown",
   "metadata": {
    "colab_type": "text",
    "id": "h8LLWJcUwRLa"
   },
   "source": [
    "### Generate a random sequence with the proposed parameters. \n",
    "\n",
    "Choose sufficiently large size for the sequence.\n",
    "Normalize the outcomes between 0 and 1.\n"
   ]
  },
  {
   "cell_type": "code",
   "execution_count": 6,
   "metadata": {
    "colab": {},
    "colab_type": "code",
    "id": "1RXG-8kgQqA8"
   },
   "outputs": [],
   "source": [
    "m = 2147483648\n",
    "a = 214013\n",
    "c = 2531011\n",
    "N = 10000\n",
    "x = 2"
   ]
  },
  {
   "cell_type": "code",
   "execution_count": 7,
   "metadata": {},
   "outputs": [
    {
     "name": "stdout",
     "output_type": "stream",
     "text": [
      "Wall time: 0 ns\n"
     ]
    }
   ],
   "source": [
    "%%time\n",
    "new_sequence = sequence(x, m, a, c, N)"
   ]
  },
  {
   "cell_type": "code",
   "execution_count": 10,
   "metadata": {},
   "outputs": [],
   "source": [
    "def normalize(new_sequence):\n",
    "    mean = np.mean(new_sequence)\n",
    "    std_dev = np.stddev(new_sequence)\n",
    "    normalize_list = []\n",
    "    for i in new_sequence:\n",
    "        normalize = (i - mean)/std_dev\n",
    "        normalize_list.append(normalize)\n",
    "    return normalize_list"
   ]
  },
  {
   "cell_type": "code",
   "execution_count": 11,
   "metadata": {},
   "outputs": [
    {
     "ename": "AttributeError",
     "evalue": "module 'numpy' has no attribute 'stddev'",
     "output_type": "error",
     "traceback": [
      "\u001b[1;31m---------------------------------------------------------------------------\u001b[0m",
      "\u001b[1;31mAttributeError\u001b[0m                            Traceback (most recent call last)",
      "\u001b[1;32m<ipython-input-11-1a81179a87ed>\u001b[0m in \u001b[0;36m<module>\u001b[1;34m\u001b[0m\n\u001b[1;32m----> 1\u001b[1;33m \u001b[0mnormalize_outcomes\u001b[0m \u001b[1;33m=\u001b[0m \u001b[0mnormalize\u001b[0m\u001b[1;33m(\u001b[0m\u001b[0mnew_sequence\u001b[0m\u001b[1;33m)\u001b[0m\u001b[1;33m\u001b[0m\u001b[1;33m\u001b[0m\u001b[0m\n\u001b[0m",
      "\u001b[1;32m<ipython-input-10-0a086dc02c0a>\u001b[0m in \u001b[0;36mnormalize\u001b[1;34m(new_sequence)\u001b[0m\n\u001b[0;32m      1\u001b[0m \u001b[1;32mdef\u001b[0m \u001b[0mnormalize\u001b[0m\u001b[1;33m(\u001b[0m\u001b[0mnew_sequence\u001b[0m\u001b[1;33m)\u001b[0m\u001b[1;33m:\u001b[0m\u001b[1;33m\u001b[0m\u001b[1;33m\u001b[0m\u001b[0m\n\u001b[0;32m      2\u001b[0m     \u001b[0mmean\u001b[0m \u001b[1;33m=\u001b[0m \u001b[0mnp\u001b[0m\u001b[1;33m.\u001b[0m\u001b[0mmean\u001b[0m\u001b[1;33m(\u001b[0m\u001b[0mnew_sequence\u001b[0m\u001b[1;33m)\u001b[0m\u001b[1;33m\u001b[0m\u001b[1;33m\u001b[0m\u001b[0m\n\u001b[1;32m----> 3\u001b[1;33m     \u001b[0mstd_dev\u001b[0m \u001b[1;33m=\u001b[0m \u001b[0mnp\u001b[0m\u001b[1;33m.\u001b[0m\u001b[0mstddev\u001b[0m\u001b[1;33m(\u001b[0m\u001b[0mnew_sequence\u001b[0m\u001b[1;33m)\u001b[0m\u001b[1;33m\u001b[0m\u001b[1;33m\u001b[0m\u001b[0m\n\u001b[0m\u001b[0;32m      4\u001b[0m     \u001b[0mnormalize_list\u001b[0m \u001b[1;33m=\u001b[0m \u001b[1;33m[\u001b[0m\u001b[1;33m]\u001b[0m\u001b[1;33m\u001b[0m\u001b[1;33m\u001b[0m\u001b[0m\n\u001b[0;32m      5\u001b[0m     \u001b[1;32mfor\u001b[0m \u001b[0mi\u001b[0m \u001b[1;32min\u001b[0m \u001b[0mnew_sequence\u001b[0m\u001b[1;33m:\u001b[0m\u001b[1;33m\u001b[0m\u001b[1;33m\u001b[0m\u001b[0m\n",
      "\u001b[1;32m~\\anaconda3\\lib\\site-packages\\numpy\\__init__.py\u001b[0m in \u001b[0;36m__getattr__\u001b[1;34m(attr)\u001b[0m\n\u001b[0;32m    301\u001b[0m                 \u001b[1;32mreturn\u001b[0m \u001b[0mTester\u001b[0m\u001b[1;33m\u001b[0m\u001b[1;33m\u001b[0m\u001b[0m\n\u001b[0;32m    302\u001b[0m \u001b[1;33m\u001b[0m\u001b[0m\n\u001b[1;32m--> 303\u001b[1;33m             raise AttributeError(\"module {!r} has no attribute \"\n\u001b[0m\u001b[0;32m    304\u001b[0m                                  \"{!r}\".format(__name__, attr))\n\u001b[0;32m    305\u001b[0m \u001b[1;33m\u001b[0m\u001b[0m\n",
      "\u001b[1;31mAttributeError\u001b[0m: module 'numpy' has no attribute 'stddev'"
     ]
    }
   ],
   "source": [
    "normalize_outcomes = normalize(new_sequence)"
   ]
  },
  {
   "cell_type": "markdown",
   "metadata": {
    "colab_type": "text",
    "id": "vW4_GxHWxTT-"
   },
   "source": [
    "Now generate the histogram of your normalized outcomes. Is it a propoper random uniform distribution?\n",
    "\n",
    "Be aware that there will be some \"noise\" on the height of the histogram-bar counts. You can compute the typical spread of the points around the expected histogram-bar height (which is *seq_size / n_bins*) since you know that the probability to have $n$ counts in a bin of length $\\Delta x$ is a binomial with variance:\n",
    "\n",
    "$$\n",
    "Var(n) = \\text{seq_size}  \\Delta x (1 - \\Delta x) = \\frac{\\text{seq_size}}{\\text{n_bins}} \\left( 1 - \\frac{1}{\\text{n_bins}} \\right)\n",
    "$$\n",
    "\n",
    "Most of the bar heights should fall within $\\langle n \\rangle \\pm 2 * \\sqrt{Var(n)}$. "
   ]
  },
  {
   "cell_type": "code",
   "execution_count": null,
   "metadata": {
    "colab": {},
    "colab_type": "code",
    "id": "FX0UanX3TmmS"
   },
   "outputs": [],
   "source": []
  },
  {
   "cell_type": "markdown",
   "metadata": {
    "colab_type": "text",
    "id": "3Lrrd05bo3XS"
   },
   "source": [
    "Actually to really test if a sequence is at random one should perform several statistical tests.\n",
    "Here we have just proven that the sequence is homogeneously generated, but also the sequence $1,2,3,4,\\ldots$ is homogeneous but not random.\n",
    "\n",
    "For more details:\n",
    "https://www.random.org/analysis/\n"
   ]
  },
  {
   "cell_type": "code",
   "execution_count": null,
   "metadata": {
    "colab": {},
    "colab_type": "code",
    "id": "G8lsXfYVpaBr"
   },
   "outputs": [],
   "source": []
  }
 ],
 "metadata": {
  "colab": {
   "name": "Random number generator exercise.ipynb",
   "provenance": []
  },
  "kernelspec": {
   "display_name": "Python 3",
   "language": "python",
   "name": "python3"
  },
  "language_info": {
   "codemirror_mode": {
    "name": "ipython",
    "version": 3
   },
   "file_extension": ".py",
   "mimetype": "text/x-python",
   "name": "python",
   "nbconvert_exporter": "python",
   "pygments_lexer": "ipython3",
   "version": "3.8.8"
  }
 },
 "nbformat": 4,
 "nbformat_minor": 4
}
