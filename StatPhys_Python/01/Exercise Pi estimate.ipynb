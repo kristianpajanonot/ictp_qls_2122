{
 "cells": [
  {
   "cell_type": "markdown",
   "metadata": {
    "id": "44yGDGX6WO3Y"
   },
   "source": [
    "# Estimating $\\pi$ with a Montecarlo algorithm\n",
    "\n",
    "This is the \"hello world\" exercise for Montecarlo Algorithms: estimating the value of $\\pi$ using brute-force statistics.\n",
    "\n",
    "The idea is the following: if you inscribe a circle of radius $r$ in a square of side $2r$, the ratio between the two areas is:\n",
    "\n",
    "\\begin{equation}\n",
    "\\frac{\\pi r^2}{4 r^2} = \\frac{\\pi}{4}\n",
    "\\end{equation} \n",
    "\n",
    "\n",
    "Now throw samples inside the square with uniform probability.\n",
    "The probability that your random point falls inside the circle is exactly the ratio between the two areas $p = \\pi/4$ . \n",
    "\n",
    "You can estimate the probability $p$ by counting the number of succesful events (points inside the circle) divided by the total number of events. Therefore:\n",
    "\n",
    "\\begin{equation}\n",
    "\\pi = 4 p = 4 \\lim_{N \\rightarrow \\infty} \\frac{\\text{# samples inside the circle}}{N}\n",
    "\\end{equation} \n",
    "\n",
    "Increasing the number of samples, the estimate of $\\pi$ increases in accuracy.\n",
    "\n",
    "<img src=\"https://drive.google.com/uc?id=1QB-kA_lsImeA6itMzQ7cZPw0bBXBbLO3\" alt=\"Drawing\"/>\n"
   ]
  },
  {
   "cell_type": "markdown",
   "metadata": {
    "id": "c-EpC0H7j8ny"
   },
   "source": [
    "## 1 - Estimate $\\pi$ given $N$ samples\n",
    "\n",
    "Generate `n_samples` random points inside a square. The two coordinates can be obtained separately by using `np.random.rand()`. Count how many times the samples fall inside the inscribed circle, and derive the estimate of $\\pi$ using the formula above.\n",
    "\n",
    "**Hint**: follow the pseudocode.\n",
    "> - Init the counter of points inside the circle to zero $N_{in}=0$.\n",
    "> - Iterate over $i = 1, \\ldots, N_{samples}$:\n",
    ">> - Generate the $X$ coordinate as a unif rand sample.\n",
    ">> - Generate the $Y$ coordinate as a unif rand sample.\n",
    ">> - If the point is inside the circle increase the counter.\n",
    "> - Print the $\\pi$ estimate using the derived formula."
   ]
  },
  {
   "cell_type": "code",
   "execution_count": 1,
   "metadata": {},
   "outputs": [
    {
     "name": "stdout",
     "output_type": "stream",
     "text": [
      "3.142058\n"
     ]
    }
   ],
   "source": [
    "import numpy as np\n",
    "import matplotlib.pyplot as plt\n",
    "import random \n",
    "\n",
    "counter = 0\n",
    "n = 10000000\n",
    "for i in range(n):\n",
    "    rand_x= random.uniform(-1, 1)\n",
    "    rand_y= random.uniform(-1, 1)\n",
    "    origin_dist = rand_x**2 + rand_y**2\n",
    "\n",
    "    if origin_dist <= 1:\n",
    "        counter += 1\n",
    "        \n",
    "    pi = 4* counter/ n\n",
    "    \n",
    "print(pi)"
   ]
  },
  {
   "cell_type": "markdown",
   "metadata": {
    "id": "IbDpp4upYRKp"
   },
   "source": [
    "## 1b, Extra - Solve the previous point without using python loops (if you did not before)\n",
    "\n",
    "Use boolean arrays to count the succesful events of the point in the circle. \n",
    "\n",
    "In this way the performance increases drastically. You can easily generate $10^8$ samples in few seconds."
   ]
  },
  {
   "cell_type": "code",
   "execution_count": 2,
   "metadata": {
    "id": "Ho4NLc_1HcBK"
   },
   "outputs": [
    {
     "name": "stdout",
     "output_type": "stream",
     "text": [
      "3.14146148\n"
     ]
    }
   ],
   "source": [
    "N = 100000000\n",
    "new_array = np.random.rand(N,2)*2 -1\n",
    "true = new_array[:,0]**2 + new_array[:,1]**2 < 1\n",
    "bool_array = np.sum(true)\n",
    "pi = 4*bool_array/N\n",
    "print(pi)"
   ]
  },
  {
   "cell_type": "markdown",
   "metadata": {
    "id": "rI_3mDRZUGb3"
   },
   "source": [
    "## 2 - Study the statistics of the process as the number of samples increases\n",
    "\n",
    "This part of the exercise is similar to the last exercise of the tutorial.\n",
    "Here you have to generate a trajectory of the estimate of $\\pi$ as the number of samples increases.\n",
    "Then, for an ensemble of these trajectories you can compute the average and the standard deviation.\n",
    "\n",
    "Suggested code:\n",
    "- initialize the empty list of averages and standard deviations $\\vec{\\langle \\pi \\rangle} = []$, $\\vec{\\sigma_\\pi} = []$.\n",
    "- iterate over the number of samples $N = N_{min}, \\ldots, N_{max}$:\n",
    "> - Initializate an empty list $\\vec{\\pi} = []$\n",
    "> - iterate over the realizations $r = 1, \\ldots, R$:\n",
    ">> - generate a $N$ random points \n",
    ">> - compute $\\pi$ given the number of points inside the circle\n",
    ">> - add $\\pi$ to $\\vec{\\pi}$.\n",
    "> - compute the average $\\langle \\pi \\rangle$ and standard deviations $\\sigma_\\pi$ of the list $\\vec{\\pi}$, and add them to the lists $\\vec{\\langle \\pi \\rangle}$, $\\vec{\\sigma_\\pi}$.\n"
   ]
  },
  {
   "cell_type": "code",
   "execution_count": 3,
   "metadata": {},
   "outputs": [],
   "source": [
    "def generate_pi(n):\n",
    "    new_array = np.random.rand(n,2)*2 -1\n",
    "    true = new_array[:,0]**2 + new_array[:,1]**2 < 1\n",
    "    bool_array = np.sum(true)\n",
    "    return 4*bool_array/n"
   ]
  },
  {
   "cell_type": "code",
   "execution_count": 5,
   "metadata": {
    "id": "syZX4-O1EDGA"
   },
   "outputs": [
    {
     "name": "stdout",
     "output_type": "stream",
     "text": [
      "10\n",
      "2.8\n",
      "2.4\n",
      "2.5999999999999996\n",
      "[2.5999999999999996]\n",
      "100\n",
      "3.52\n",
      "3.12\n",
      "3.3200000000000003\n",
      "[2.5999999999999996, 3.3200000000000003]\n",
      "1000\n",
      "3.18\n",
      "3.128\n",
      "3.154\n",
      "[2.5999999999999996, 3.3200000000000003, 3.154]\n",
      "10000\n",
      "3.1492\n",
      "3.146\n",
      "3.1475999999999997\n",
      "[2.5999999999999996, 3.3200000000000003, 3.154, 3.1475999999999997]\n"
     ]
    }
   ],
   "source": [
    "ave_list = []\n",
    "stddev_list = []\n",
    "n_samples = np.logspace(1, 4, 4, dtype=int)\n",
    "for N in n_samples:\n",
    "    pi_list = []\n",
    "    for j in range(2):\n",
    "        pi = generate_pi(N)\n",
    "        pi_list.append(pi)\n",
    "    ave_pi = np.mean(pi_list)\n",
    "    stddev_pi = np.std(pi_list)\n",
    "    \n",
    "    ave_list.append(ave_pi)\n",
    "    stddev_list.append(stddev_pi)"
   ]
  },
  {
   "cell_type": "markdown",
   "metadata": {
    "id": "4kJwWC3keBvr"
   },
   "source": [
    "Verify that the standard deviation decreases as $N^{-1/2}$.\n",
    "\n",
    "Plot the std using a double logarithmic scale. With this transformation, $y' = log(y)$, $x'=log(x)$, a power law becomes a line with slope equal to the power:\n",
    "\n",
    "\\begin{equation}\n",
    "y = x^\\alpha \\;\\;\\; \\rightarrow \\;\\;\\; log(y) = log(x^\\alpha) \\;\\;\\; \\rightarrow \\;\\;\\; y' = \\alpha x'\n",
    "\\end{equation}\n",
    "\n",
    "Therefore, a function $N^{-1/2}$ should be a line parallel to your standard deviation function.\n",
    "\n"
   ]
  },
  {
   "cell_type": "code",
   "execution_count": 26,
   "metadata": {
    "id": "B2x92WOoQUBN"
   },
   "outputs": [
    {
     "data": {
      "image/png": "[encoded data removed]",
      "text/plain": [
       "<Figure size 720x288 with 2 Axes>"
      ]
     },
     "metadata": {
      "needs_background": "light"
     },
     "output_type": "display_data"
    }
   ],
   "source": [
    "fig, ax = plt.subplots(1,2, figsize=(10,4))\n",
    "ax[0].plot(n_samples, ave_list)\n",
    "ax[1].plot(n_samples, stddev_list)\n",
    "plt.show()"
   ]
  },
  {
   "cell_type": "markdown",
   "metadata": {
    "id": "JQfezLSRH7J-"
   },
   "source": [
    "## 3 - Extra: compute the volume of a $d$-dimensional sphere using Montecarlo \n",
    "\n",
    "https://en.wikipedia.org/wiki/N-sphere#Volume_and_surface_area"
   ]
  },
  {
   "cell_type": "code",
   "execution_count": 1,
   "metadata": {
    "executionInfo": {
     "elapsed": 906,
     "status": "ok",
     "timestamp": 1632768752117,
     "user": {
      "displayName": "Emanuele Panizon",
      "photoUrl": "https://lh3.googleusercontent.com/a-/AOh14GhU3bANePp98sC8frkoMDF3prowtkgqqBZ5OWO3=s64",
      "userId": "08849301982747007535"
     },
     "user_tz": -120
    },
    "id": "au36r9ymUb-S"
   },
   "outputs": [],
   "source": [
    "from scipy.special import gamma\n",
    "\n",
    "def sphere_volume(d, radius):\n",
    "  \"\"\"This methods compute the volume of a d-sphere of given radius\"\"\"  \n",
    "  return radius**d * np.pi**(d/2) / gamma(d/2 + 1)"
   ]
  },
  {
   "cell_type": "markdown",
   "metadata": {
    "id": "s1Pt8SiOfhXf"
   },
   "source": [
    "What happens at the ratio between the d-sphere volume and the d-cube volume in which the sphere is inscribed as the dimension increases?"
   ]
  },
  {
   "cell_type": "code",
   "execution_count": 16,
   "metadata": {
    "executionInfo": {
     "elapsed": 310,
     "status": "ok",
     "timestamp": 1632768928116,
     "user": {
      "displayName": "Emanuele Panizon",
      "photoUrl": "https://lh3.googleusercontent.com/a-/AOh14GhU3bANePp98sC8frkoMDF3prowtkgqqBZ5OWO3=s64",
      "userId": "08849301982747007535"
     },
     "user_tz": -120
    },
    "id": "Oz-Senedfuag"
   },
   "outputs": [],
   "source": []
  }
 ],
 "metadata": {
  "colab": {
   "collapsed_sections": [],
   "name": "Exercise Pi estimate.ipynb",
   "provenance": []
  },
  "kernelspec": {
   "display_name": "Python 3",
   "language": "python",
   "name": "python3"
  },
  "language_info": {
   "codemirror_mode": {
    "name": "ipython",
    "version": 3
   },
   "file_extension": ".py",
   "mimetype": "text/x-python",
   "name": "python",
   "nbconvert_exporter": "python",
   "pygments_lexer": "ipython3",
   "version": "3.8.8"
  }
 },
 "nbformat": 4,
 "nbformat_minor": 4
}
