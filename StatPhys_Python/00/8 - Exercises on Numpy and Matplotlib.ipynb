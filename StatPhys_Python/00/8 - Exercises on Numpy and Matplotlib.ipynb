{
 "cells": [
  {
   "cell_type": "markdown",
   "metadata": {
    "id": "HdNyCCk74WNe"
   },
   "source": [
    "# E2 - Exercises on Numpy and Matplotlib\n"
   ]
  },
  {
   "cell_type": "markdown",
   "metadata": {
    "id": "b72VMK9v45xn"
   },
   "source": [
    "## Your first stochastic process"
   ]
  },
  {
   "cell_type": "markdown",
   "metadata": {
    "id": "MFUH8JdG5OLr"
   },
   "source": [
    "1. Generate an array of 20 elements that can be randomly $+1$ or $-1$. Write this in a function that takes as argument the number of points to generate (it will be useful later).\n",
    "\n",
    "> **Hint**: use `np.random.randint()` and remember that if you sum or multiply a number to an array, the operation is done elementwise."
   ]
  },
  {
   "cell_type": "code",
   "execution_count": 1,
   "metadata": {
    "colab": {
     "base_uri": "https://localhost:8080/",
     "height": 36
    },
    "executionInfo": {
     "elapsed": 743,
     "status": "ok",
     "timestamp": 1601903233879,
     "user": {
      "displayName": "Andrea Mazzolini",
      "photoUrl": "https://lh3.googleusercontent.com/a-/AOh14Gj889rV0hCKG0LInS5OJdlv_nS9Mv4fKmWQb2ax=s64",
      "userId": "17503038082596243982"
     },
     "user_tz": -120
    },
    "id": "oyqvMDUs6Cqw",
    "outputId": "b4b1b92a-38a9-4f3d-a268-45c068c09e82"
   },
   "outputs": [
    {
     "name": "stdout",
     "output_type": "stream",
     "text": [
      "[1 0 0 0 0 1 0 1 1 0 1 1 0 0 0 1 1 0 1 1]\n"
     ]
    }
   ],
   "source": [
    "import numpy as np\n",
    "\n",
    "\n",
    "a = np.random.randint(0,2,20)\n",
    "print(a)"
   ]
  },
  {
   "cell_type": "code",
   "execution_count": 2,
   "metadata": {
    "colab": {
     "base_uri": "https://localhost:8080/",
     "height": 54
    },
    "executionInfo": {
     "elapsed": 448,
     "status": "ok",
     "timestamp": 1601903235002,
     "user": {
      "displayName": "Andrea Mazzolini",
      "photoUrl": "https://lh3.googleusercontent.com/a-/AOh14Gj889rV0hCKG0LInS5OJdlv_nS9Mv4fKmWQb2ax=s64",
      "userId": "17503038082596243982"
     },
     "user_tz": -120
    },
    "id": "4xb4D-9S3fRO",
    "outputId": "19ff0cf8-becf-441d-a200-da0fdc3b64f2"
   },
   "outputs": [
    {
     "data": {
      "text/plain": [
       "array([ 1, -1, -1, -1, -1,  1, -1,  1,  1, -1,  1,  1, -1, -1, -1,  1,  1,\n",
       "       -1,  1,  1])"
      ]
     },
     "execution_count": 2,
     "metadata": {},
     "output_type": "execute_result"
    }
   ],
   "source": [
    "a*2 - 1"
   ]
  },
  {
   "cell_type": "code",
   "execution_count": 3,
   "metadata": {},
   "outputs": [],
   "source": [
    "def generate_random_num(num_points):\n",
    "    random_num = np.random.randint(0, 2, num_points)\n",
    "    return random_num*2 - 1"
   ]
  },
  {
   "cell_type": "code",
   "execution_count": 4,
   "metadata": {},
   "outputs": [
    {
     "data": {
      "text/plain": [
       "array([ 1,  1,  1,  1, -1,  1, -1, -1,  1,  1, -1, -1, -1,  1, -1, -1,  1,\n",
       "       -1, -1,  1, -1,  1,  1,  1,  1])"
      ]
     },
     "execution_count": 4,
     "metadata": {},
     "output_type": "execute_result"
    }
   ],
   "source": [
    "random_num_array = generate_random_num(25)\n",
    "random_num_array"
   ]
  },
  {
   "cell_type": "markdown",
   "metadata": {
    "id": "xRX7MWsa6_ER"
   },
   "source": [
    "2. Count the number of $1$s in your array. Do this in three ways. Write all the three methods as functions that take the array as argument and return the count.\n",
    "\n",
    "> 2a. A fast way is to use the method `unique`, try to understand how this method works from the official documentation: https://docs.scipy.org/doc/numpy/reference/generated/numpy.unique.html"
   ]
  },
  {
   "cell_type": "code",
   "execution_count": 5,
   "metadata": {
    "id": "ZyBQnE5M6IyM"
   },
   "outputs": [],
   "source": [
    "def unique_method(random_num_array):\n",
    "    return np.unique(random_num_array, return_counts = True)"
   ]
  },
  {
   "cell_type": "code",
   "execution_count": 37,
   "metadata": {},
   "outputs": [
    {
     "name": "stdout",
     "output_type": "stream",
     "text": [
      "(array([-1,  1]), array([11, 14], dtype=int64))\n",
      "14\n",
      "[False  True]\n",
      "1\n"
     ]
    },
    {
     "data": {
      "text/plain": [
       "14"
      ]
     },
     "execution_count": 37,
     "metadata": {},
     "output_type": "execute_result"
    }
   ],
   "source": [
    "uniques = unique_method(random_num_array)\n",
    "print(uniques)\n",
    "print(uniques[1][1])\n",
    "\n",
    "index_of_one = np.argmax(uniques[0]==1)\n",
    "print(uniques[0]==1)\n",
    "print(np.argmax(uniques[0]==1))\n",
    "\n",
    "uniques[1][index_of_one]"
   ]
  },
  {
   "cell_type": "markdown",
   "metadata": {
    "id": "jtXDBErUo2UO"
   },
   "source": [
    "> 2b. Use a standard `for` loop to iterate over the elements and count the ones."
   ]
  },
  {
   "cell_type": "code",
   "execution_count": 7,
   "metadata": {},
   "outputs": [],
   "source": [
    "def forloop_method(random_num_array):\n",
    "    counter = 0\n",
    "    for i in random_num_array:\n",
    "        if i == 1:\n",
    "            counter += 1\n",
    "\n",
    "    return counter"
   ]
  },
  {
   "cell_type": "code",
   "execution_count": 8,
   "metadata": {
    "scrolled": true
   },
   "outputs": [
    {
     "data": {
      "text/plain": [
       "14"
      ]
     },
     "execution_count": 8,
     "metadata": {},
     "output_type": "execute_result"
    }
   ],
   "source": [
    "forloop_method(random_num_array)"
   ]
  },
  {
   "cell_type": "markdown",
   "metadata": {
    "id": "J8aiJ7NJ663F"
   },
   "source": [
    "> 2c. Use a boolean operation to select the elements equal to one, and use the method `.sum()` to count the true elements. in the resulting list of booleans."
   ]
  },
  {
   "cell_type": "code",
   "execution_count": 9,
   "metadata": {
    "id": "9Z29d52I8cLV"
   },
   "outputs": [],
   "source": [
    "def masking(random_num_array):\n",
    "    mask = random_num_array > 0\n",
    "    apply_mask = random_num_array[mask]\n",
    "    return sum(apply_mask)"
   ]
  },
  {
   "cell_type": "code",
   "execution_count": 10,
   "metadata": {},
   "outputs": [
    {
     "data": {
      "text/plain": [
       "14"
      ]
     },
     "execution_count": 10,
     "metadata": {},
     "output_type": "execute_result"
    }
   ],
   "source": [
    "masking(random_num_array)"
   ]
  },
  {
   "cell_type": "markdown",
   "metadata": {
    "id": "YR7Fh9bq8jCz"
   },
   "source": [
    "> 3 Extra. Which is the fastest way for an array containing 10^6 elements? Use the function written in 1 to generate the array.\n",
    "\n",
    "> **Hint**: use the module time as in the final part of the numpy tutorial, and print how much time each of the three methods take."
   ]
  },
  {
   "cell_type": "code",
   "execution_count": 11,
   "metadata": {
    "id": "CBWZ0wb3qQ6k"
   },
   "outputs": [],
   "source": [
    "from time import time"
   ]
  },
  {
   "cell_type": "code",
   "execution_count": 12,
   "metadata": {},
   "outputs": [],
   "source": [
    "new_array = generate_random_num(10**6)"
   ]
  },
  {
   "cell_type": "code",
   "execution_count": 13,
   "metadata": {},
   "outputs": [
    {
     "name": "stdout",
     "output_type": "stream",
     "text": [
      "Wall time: 33.1 ms\n"
     ]
    },
    {
     "data": {
      "text/plain": [
       "(array([-1,  1]), array([499994, 500006], dtype=int64))"
      ]
     },
     "execution_count": 13,
     "metadata": {},
     "output_type": "execute_result"
    }
   ],
   "source": [
    "%%time\n",
    "unique_method(new_array)"
   ]
  },
  {
   "cell_type": "code",
   "execution_count": 14,
   "metadata": {},
   "outputs": [
    {
     "name": "stdout",
     "output_type": "stream",
     "text": [
      "(array([-1,  1]), array([499994, 500006], dtype=int64))\n",
      "0.0341944694519043\n"
     ]
    }
   ],
   "source": [
    "start = time()\n",
    "print(unique_method(new_array))\n",
    "end = time()\n",
    "print(end - start)"
   ]
  },
  {
   "cell_type": "code",
   "execution_count": 15,
   "metadata": {},
   "outputs": [
    {
     "name": "stdout",
     "output_type": "stream",
     "text": [
      "500006\n",
      "0.3775060176849365\n"
     ]
    }
   ],
   "source": [
    "start = time()\n",
    "print(forloop_method(new_array))\n",
    "end = time()\n",
    "print(end - start)"
   ]
  },
  {
   "cell_type": "code",
   "execution_count": 16,
   "metadata": {},
   "outputs": [
    {
     "name": "stdout",
     "output_type": "stream",
     "text": [
      "500006\n",
      "0.07580423355102539\n"
     ]
    }
   ],
   "source": [
    "start = time()\n",
    "print(masking(new_array))\n",
    "end = time()\n",
    "print(end - start)"
   ]
  },
  {
   "cell_type": "markdown",
   "metadata": {
    "id": "EWweVi55qaCt"
   },
   "source": [
    "4. Test the \"law of large numbers\": compute the fraction of ones, $f$, as the number of the list elements $n$ increases. This generates a **stochastic trajectory** $f(n)$ that should converge to the probability that the event $+1$ is generated: $f(n) \\rightarrow 0.5$ as $n \\rightarrow \\infty$. \n",
    "\n",
    "> First, write a function that takes as argument the maximum number of generated elements, $n_{max}$, and returns the array containing all the fractions of ones at each partial size: $(f(1), f(2), \\ldots, f(n_{max}))$."
   ]
  },
  {
   "cell_type": "code",
   "execution_count": 17,
   "metadata": {
    "id": "mzVimBrhvCjg"
   },
   "outputs": [],
   "source": [
    "def law_large_num(random_num_array, max_num_points):\n",
    "    new_array = generate_random_num(random_num_array)\n",
    "    \n",
    "    count_ones_list = []\n",
    "    for i in range(1, max_num_points):\n",
    "        count_ones = masking(new_array[:i])\n",
    "        compute_frac = count_ones/i\n",
    "        count_ones_list.append(compute_frac)\n",
    "    return count_ones_list"
   ]
  },
  {
   "cell_type": "code",
   "execution_count": 29,
   "metadata": {},
   "outputs": [],
   "source": [
    "output_law_large_num = law_large_num(10**6, 60)"
   ]
  },
  {
   "cell_type": "markdown",
   "metadata": {
    "id": "Brp9Ok9g4xix"
   },
   "source": [
    "> Then plot the fraction of ones, $f$, as a function of the size, $n$. Does it approach $0.5$ for large $n$? To better understand this, plot a horizontal dashed line corresponding to $y = 0.5$."
   ]
  },
  {
   "cell_type": "code",
   "execution_count": 30,
   "metadata": {
    "id": "Tc5FNdGK07cW"
   },
   "outputs": [],
   "source": [
    "import matplotlib.pyplot as plt"
   ]
  },
  {
   "cell_type": "code",
   "execution_count": 31,
   "metadata": {},
   "outputs": [
    {
     "data": {
      "image/png": "[encoded data removed]",
      "text/plain": [
       "<Figure size 432x288 with 1 Axes>"
      ]
     },
     "metadata": {
      "needs_background": "light"
     },
     "output_type": "display_data"
    }
   ],
   "source": [
    "plt.plot(np.arange(59), output_law_large_num)\n",
    "plt.axhline(y= 0.5, linestyle='--')\n",
    "plt.xlabel('n')\n",
    "plt.ylabel('fractions of ones')\n",
    "plt.show()"
   ]
  },
  {
   "cell_type": "markdown",
   "metadata": {
    "id": "tGcNg4fySPhO"
   },
   "source": [
    "> Finally, generate $R=20$ of those trajectories, building a small **ensemble** of your stochastic process. Plot all your trajectories in the same plot (you can easily do this with a `for` loop). Each realization is different from the other (they are random), however there are **statistical regularities** that you can immediately see: \n",
    "\n",
    ">> a. All your trajectories tend to stay around 0.5. This can be expected since the probability of getting $1$ is $0.5$. In some cases I can obtain several $+1$ in a row, leading to a trajectory that stays above $y=0.5$, in some other cases it can be that I obtain a lot of $-1$, and the trajectory will stay below the line. In the long run, you can expect that these two kind of events compensate each other since they have the same probability.\n",
    "\n",
    ">> b. The trajectories are more dispersed for small sizes and tend to converge around $0.5$ for large $n$.\n",
    "\n"
   ]
  },
  {
   "cell_type": "code",
   "execution_count": 21,
   "metadata": {},
   "outputs": [
    {
     "data": {
      "image/png": "[encoded data removed]",
      "text/plain": [
       "<Figure size 432x288 with 1 Axes>"
      ]
     },
     "metadata": {
      "needs_background": "light"
     },
     "output_type": "display_data"
    }
   ],
   "source": [
    "output = []\n",
    "for i in range(20):\n",
    "    output_law_large_num = law_large_num(10**6, 60)\n",
    "    plt.plot(np.arange(59), output_law_large_num)\n",
    "    plt.axhline(y= 0.5, linestyle='--')\n",
    "    plt.xlabel('n')\n",
    "    plt.ylabel('fractions of ones')\n",
    "plt.show()"
   ]
  },
  {
   "cell_type": "markdown",
   "metadata": {
    "id": "cot2Gsc-54XK"
   },
   "source": [
    "Now our aim is to make the two statements above more quantitative. It is important to understand that we are dealing with a random process, and the physical law that describes our variable $f$ cannot be predicted deterministically. However, looking at the \"population\" of different independent realizations of the process (our statistical ensemble) we can describe the behavior of $f(n)$ in a statistical sense.\n",
    "\n",
    "5. We need a function that generates an ensemble of $R$ different sequences of size $n$, and computes the fraction of ones in each sequence.\n",
    "The function takes as arguments $R$ and $n$ and returns an array containing the fractions of ones for each  realization $(f_1(n), f_2(n), \\ldots, f_R(n))$. Use the best counter of ones in point 3 to improve the performance."
   ]
  },
  {
   "cell_type": "code",
   "execution_count": null,
   "metadata": {
    "id": "Hut8906b6XoM"
   },
   "outputs": [],
   "source": []
  },
  {
   "cell_type": "markdown",
   "metadata": {
    "id": "GIokfRFT7er5"
   },
   "source": [
    "> The outcome of the function can be imagined as a slice of the final plot of point 4, where we cut the trajectories at a given $n$, and what we have is an ensemble of $f(n)$s.\n",
    "Plot the histogram of the fraction of ones of $R=10000$ sequences of size $n=100$. Do you see that most of the values stay around $0.5$?"
   ]
  },
  {
   "cell_type": "code",
   "execution_count": null,
   "metadata": {
    "id": "PAZ1aRCh7tSt"
   },
   "outputs": [],
   "source": []
  },
  {
   "cell_type": "markdown",
   "metadata": {
    "id": "KWMOqO0Wj1ge"
   },
   "source": [
    "> The mathematical object that describes the behavior of the stochastic variable $f(n)$ is its **probability distribution**. You will see the right definition of probability distribution later in your courses, however this is basically equivalent to the histogram above with $R \\rightarrow \\infty$, and normalized in such a way that the area under the curve is $1$.\n",
    "If you plot again the histogram, and add the property `density=True` within the `hist` function, you will get a normalized histogram, which is a good approximation of the actual probability distribution of $f(n)$. \n",
    "\n",
    "> Compute also the average and the standard deviation of the list of the stochastic variables for which you computed the histogram (use the numpy methods `mean` and `std`). The first corresponds to the typical value that you expect to find in your ensemble (the center of your distribution if it's symmetric) and the second one how much the values are dispersed around the average (the width of your distribution)."
   ]
  },
  {
   "cell_type": "code",
   "execution_count": null,
   "metadata": {
    "id": "7NkOZJCXn86A"
   },
   "outputs": [],
   "source": []
  },
  {
   "cell_type": "markdown",
   "metadata": {
    "id": "rAEEYbEMubzg"
   },
   "source": [
    "The next step is to describe how this two numbers, the average and the standard deviation, vary as a function of $n$.\n",
    "These two object give us a statistical description of our stochastic dynamics. Namely, which the expected outcome is and how much the outcomes are dispersed around this expectation (for each $n$)."
   ]
  },
  {
   "cell_type": "markdown",
   "metadata": {
    "id": "XDxvFIyA7zPB"
   },
   "source": [
    "6. Fix the number of sequences to $R=200$, and compute the average and standard deviation of the fraction of ones for different values of $n$. It is not necessary to consider all the values of $n$, but, for example, you can compute these quatities at steps of $10$.\n",
    "\n",
    "> Hint: use `np.linspace(start, stop, step, dtype=int)` to generate an array of $n$s from a `start` to a `stop` value at given `steps`. The last argument imposes that the elements are integers. \n",
    "Then iterate over this list, compute the ensemble of values using the function written before, and store the obtained mean and the standard deviation."
   ]
  },
  {
   "cell_type": "code",
   "execution_count": null,
   "metadata": {
    "id": "nM_OrqcX8qH3"
   },
   "outputs": [],
   "source": []
  },
  {
   "cell_type": "markdown",
   "metadata": {
    "id": "HE2bz6YDVgLG"
   },
   "source": [
    "> Draw the average and the standard deviation  as a function of the size $n$ in two different plots as two subplots of the same figure. Test that:\n",
    ">> - The average is, more or less, well approximated by the straight horizontal line $y=0.5$, saying that the typical number of ones that I expect to find in a sequence is always the same, independently of the sequence size.\n",
    ">> - The variance approaches zero as $n \\rightarrow \\infty$. Later in your studies you will learn that it is also possible to analytically compute the dependency of the standard deviation on $n$, which is:\n",
    "\\begin{equation} \\text{std}[f(n)] = \\frac{n^{-1/2}}{2} \\end{equation}\n",
    ">> Plot this theoretical curve on the top of your simulation to see that they are almost identical. Show also the legend that says which curve is the theoretical and which is the simulated one.\n",
    "\n"
   ]
  },
  {
   "cell_type": "code",
   "execution_count": null,
   "metadata": {
    "id": "i_Wy1_au9OYk"
   },
   "outputs": [],
   "source": []
  },
  {
   "cell_type": "markdown",
   "metadata": {
    "id": "Enb335tngN4J"
   },
   "source": [
    "7. Draw a nice plot contaning all the information that you got from this exercises (you should get similar images of the ones uploaded in the drive folder of this tutorial). In particular:\n",
    "> * Draw an ensemble of trajectories as in the point 4.\n",
    "> * On the top of them draw also the average that you computed above, and the two curves $\\pm std + average$. Since the standard deviation gives the width of the distribution, you can expect that most of the trajectories will fall within these two curves."
   ]
  },
  {
   "cell_type": "code",
   "execution_count": null,
   "metadata": {
    "id": "B9yLESm_9Rcn"
   },
   "outputs": [],
   "source": []
  },
  {
   "cell_type": "markdown",
   "metadata": {
    "id": "5BTU7fVfovAX"
   },
   "source": [
    "> Another way to see the concentration of the trajectories as $n$ increases is to plot the probability distributions at different $n$s. Try, for example, to draw three distributions (as the one in point 5) at $n = 20, 100, 1000$, and a lot of realizations $R=10000$.\n",
    "To see the distributions one above the others make them transparent using the property `alpha=[a number between 0 and 1]` in the `hist` function."
   ]
  },
  {
   "cell_type": "code",
   "execution_count": null,
   "metadata": {
    "id": "d7b5LjNPiDk0"
   },
   "outputs": [],
   "source": []
  },
  {
   "cell_type": "markdown",
   "metadata": {
    "id": "r9sy67iUnVZb"
   },
   "source": [
    "> Save the two plots by adding a line at the end of the cell with the matplotlib method:"
   ]
  },
  {
   "cell_type": "code",
   "execution_count": null,
   "metadata": {
    "id": "10K78wVHA33C"
   },
   "outputs": [],
   "source": [
    "plt.savefig('figure_name.png', dpi=200)"
   ]
  },
  {
   "cell_type": "markdown",
   "metadata": {
    "id": "uG4Op61aA_Qq"
   },
   "source": [
    "> This will save the figures in files pf your current colab project. From there you can download them.\n"
   ]
  },
  {
   "cell_type": "code",
   "execution_count": null,
   "metadata": {
    "id": "25zIw2FuBIBy"
   },
   "outputs": [],
   "source": []
  }
 ],
 "metadata": {
  "colab": {
   "collapsed_sections": [],
   "name": "8 - Exercises on Numpy and Matplotlib.ipynb",
   "provenance": []
  },
  "kernelspec": {
   "display_name": "Python 3",
   "language": "python",
   "name": "python3"
  },
  "language_info": {
   "codemirror_mode": {
    "name": "ipython",
    "version": 3
   },
   "file_extension": ".py",
   "mimetype": "text/x-python",
   "name": "python",
   "nbconvert_exporter": "python",
   "pygments_lexer": "ipython3",
   "version": "3.8.8"
  }
 },
 "nbformat": 4,
 "nbformat_minor": 4
}
