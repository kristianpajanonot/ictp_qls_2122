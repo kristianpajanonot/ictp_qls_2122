{
 "cells": [
  {
   "cell_type": "markdown",
   "metadata": {
    "colab_type": "text",
    "id": "vsPEZaLbEjWE"
   },
   "source": [
    "# 5 - Numpy\n",
    "\n",
    "**Summary**\n",
    "\n",
    "> *   What is a numpy array (`array`)\n",
    ">> * Construction (`zeros`, `ones`, `arange`, `linspace`)\n",
    ">> * Array shape (`shape`)\n",
    ">> * Indexing and slicing\n",
    "> * Operations with arrays\n",
    ">> * Arithmentic operations (`dot`)\n",
    ">> * Universal functions (`sin`, `exp`, `sqrt`)\n",
    ">> * Operations among the array elements (`sum`, `min`, `mean`, `std`)\n",
    "> * Manipulating arrays\n",
    ">> * Changing the shape of an array (`reshape`)\n",
    ">> * Append (`append`)\n",
    ">> * Stacking together different arrays (`hstack`, `vstack`, `empty`)\n",
    "> * Random functions\n",
    ">> * Generating random data (`random.rand`, `random.randint`, `random.normal`, `random.poisson`)\n",
    ">> * Sampling (`random.shuffle`, `random.choice`)\n",
    "> * Why numpy instead of Python lists?\n",
    "\n",
    "\n",
    "\n",
    "\n",
    "\n",
    "\n",
    "\n",
    "For a more detailed tutorial see: https://numpy.org/devdocs/user/quickstart.html\n",
    "\n",
    "Official reference: https://docs.scipy.org/doc/numpy-1.16.0/reference/index.html"
   ]
  },
  {
   "cell_type": "markdown",
   "metadata": {
    "colab_type": "text",
    "id": "PBUA6CAMEjWJ"
   },
   "source": [
    "## What is a numpy array"
   ]
  },
  {
   "cell_type": "markdown",
   "metadata": {
    "colab_type": "text",
    "id": "a91TiU9BEjWM"
   },
   "source": [
    "Numpy is the core module for scientific computing. It manages **homogeneous multidimensional array** (homogeneous means that one array must contain only one type of variable, differetly from Python lists). Basically numpy arrays can do super fancy mathematical things with vector, matrices, and, in general, multi-dimensional objects.\n",
    "\n",
    "The module must be imported with the following command:\n"
   ]
  },
  {
   "cell_type": "code",
   "execution_count": 0,
   "metadata": {
    "colab": {},
    "colab_type": "code",
    "id": "txlbBqh4GI2B"
   },
   "outputs": [],
   "source": [
    "import numpy as np  \n",
    "# the \"as\" statement specifies the local label referring to numpy. \n",
    "# The usual convention is to use \"np\", but you can choose whatever name you want.."
   ]
  },
  {
   "cell_type": "markdown",
   "metadata": {
    "colab_type": "text",
    "id": "8P7LnQmcHKq5"
   },
   "source": [
    "### Construction\n",
    "\n",
    "Numpy arrays can be created from lists as follow:\n"
   ]
  },
  {
   "cell_type": "code",
   "execution_count": 2,
   "metadata": {
    "colab": {
     "base_uri": "https://localhost:8080/",
     "height": 72
    },
    "colab_type": "code",
    "executionInfo": {
     "elapsed": 1240,
     "status": "ok",
     "timestamp": 1566725078922,
     "user": {
      "displayName": "Andrea Mazzolini",
      "photoUrl": "https://lh3.googleusercontent.com/a-/AAuE7mARm6YUMjM1WqoWB9DeJSCtXhxEjR6a9chPFNuT=s64",
      "userId": "17503038082596243982"
     },
     "user_tz": -120
    },
    "id": "qSUt7zYRHRPT",
    "outputId": "ad253a76-f919-4ddb-85e9-45191ed140e7"
   },
   "outputs": [
    {
     "name": "stdout",
     "output_type": "stream",
     "text": [
      "[1 2 3 4 5]\n",
      "[[1 2]\n",
      " [3 4]]\n"
     ]
    }
   ],
   "source": [
    "a1 = np.array([1,2,3,4,5])  # 1-d array from 1-d list\n",
    "print(a1)\n",
    "\n",
    "a2 = np.array([[1,2],[3,4]])  # 2-d array from a nested list\n",
    "print(a2)"
   ]
  },
  {
   "cell_type": "markdown",
   "metadata": {
    "colab_type": "text",
    "id": "PjB2EH2rJVri"
   },
   "source": [
    "There exists several constructors for every need:"
   ]
  },
  {
   "cell_type": "code",
   "execution_count": 3,
   "metadata": {
    "colab": {
     "base_uri": "https://localhost:8080/",
     "height": 235
    },
    "colab_type": "code",
    "executionInfo": {
     "elapsed": 1224,
     "status": "ok",
     "timestamp": 1566725078924,
     "user": {
      "displayName": "Andrea Mazzolini",
      "photoUrl": "https://lh3.googleusercontent.com/a-/AAuE7mARm6YUMjM1WqoWB9DeJSCtXhxEjR6a9chPFNuT=s64",
      "userId": "17503038082596243982"
     },
     "user_tz": -120
    },
    "id": "Rqz6edTqIzrS",
    "outputId": "3503e7ab-b6ea-4d85-9b57-29675bb9da57"
   },
   "outputs": [
    {
     "name": "stdout",
     "output_type": "stream",
     "text": [
      "zeors\n",
      " [[0. 0. 0. 0. 0.]\n",
      " [0. 0. 0. 0. 0.]]\n",
      "ones\n",
      " [[1. 1. 1.]\n",
      " [1. 1. 1.]\n",
      " [1. 1. 1.]\n",
      " [1. 1. 1.]]\n",
      "arange\n",
      " [2 4 6 8]\n",
      "linspace\n",
      " [ 1.   6.8 12.6 18.4 24.2 30. ]\n"
     ]
    }
   ],
   "source": [
    "a = np.zeros((2,5))  # Array of zeros. The argument specifies the size of each dimension. \n",
    "print(\"zeors\\n\", a)\n",
    "\n",
    "a = np.ones((4,3))  # Array of ones.\n",
    "print(\"ones\\n\", a)\n",
    "\n",
    "a = np.arange(2, 10, 2)  # Sequence of numbers (start included, stop excluded, step).\n",
    "print(\"arange\\n\", a)\n",
    "\n",
    "a = np.linspace(1, 30, 6)  # Sequence of numbers evenly spaced (start included, stop included, number of points).\n",
    "print(\"linspace\\n\", a)"
   ]
  },
  {
   "cell_type": "markdown",
   "metadata": {
    "colab_type": "text",
    "id": "JIwRJrt4HvWr"
   },
   "source": [
    "### Array shape\n",
    "\n",
    "The array dimensions can be obtained with the `shape` property. In NumPy dimensions are called *axes*."
   ]
  },
  {
   "cell_type": "code",
   "execution_count": 4,
   "metadata": {
    "colab": {
     "base_uri": "https://localhost:8080/",
     "height": 72
    },
    "colab_type": "code",
    "executionInfo": {
     "elapsed": 1212,
     "status": "ok",
     "timestamp": 1566725078925,
     "user": {
      "displayName": "Andrea Mazzolini",
      "photoUrl": "https://lh3.googleusercontent.com/a-/AAuE7mARm6YUMjM1WqoWB9DeJSCtXhxEjR6a9chPFNuT=s64",
      "userId": "17503038082596243982"
     },
     "user_tz": -120
    },
    "id": "OKEGUB4XHbNS",
    "outputId": "8db6ac36-cf68-4665-9c2f-85dabe810d0c"
   },
   "outputs": [
    {
     "name": "stdout",
     "output_type": "stream",
     "text": [
      "(5,)\n",
      "(3, 2, 4)\n",
      "3\n"
     ]
    }
   ],
   "source": [
    "a = np.zeros(5)  # 1-d vector\n",
    "print(a.shape)\n",
    "\n",
    "a = np.zeros((3,2,4))  # 3-d vector\n",
    "print(a.shape)\n",
    "print(len(a))  # The len function reads only the number of elements in the first dimension/axis"
   ]
  },
  {
   "cell_type": "markdown",
   "metadata": {
    "colab_type": "text",
    "id": "FglU9yKf6MkH"
   },
   "source": [
    "### Indexing and slicing\n",
    "\n",
    "An array can be red through indexing and slicing almost as a list"
   ]
  },
  {
   "cell_type": "code",
   "execution_count": 5,
   "metadata": {
    "colab": {
     "base_uri": "https://localhost:8080/",
     "height": 253
    },
    "colab_type": "code",
    "executionInfo": {
     "elapsed": 1201,
     "status": "ok",
     "timestamp": 1566725078928,
     "user": {
      "displayName": "Andrea Mazzolini",
      "photoUrl": "https://lh3.googleusercontent.com/a-/AAuE7mARm6YUMjM1WqoWB9DeJSCtXhxEjR6a9chPFNuT=s64",
      "userId": "17503038082596243982"
     },
     "user_tz": -120
    },
    "id": "yI4x8jSE6hL-",
    "outputId": "c8ec820b-49d4-46fc-85c1-7addb7ea2242"
   },
   "outputs": [
    {
     "name": "stdout",
     "output_type": "stream",
     "text": [
      "Complete matrix\n",
      " [[1 2 3]\n",
      " [4 5 6]\n",
      " [7 8 9]]\n",
      "Getting one row\n",
      " [7 8 9]\n",
      "Getting one element\n",
      " 9 9\n",
      "Slicing a sub-matrix\n",
      " [[5 6]\n",
      " [8 9]]\n",
      "Getting a column\n",
      " [1 4 7]\n"
     ]
    }
   ],
   "source": [
    "m = np.array([[1,2,3],[4,5,6],[7,8,9]])\n",
    "print(\"Complete matrix\\n\", m)\n",
    "\n",
    "print(\"Getting one row\\n\", m[2])\n",
    "\n",
    "print(\"Getting one element\\n\", m[2][2], m[2,2])  # Numpy can read the next dimension after a comma (in lists this is not possible)\n",
    "\n",
    "print(\"Slicing a sub-matrix\\n\", m[1:,1:])  # One can slice different dimensions at the same time\n",
    "\n",
    "print(\"Getting a column\\n\", m[:,0])  # In this way you can select one column"
   ]
  },
  {
   "cell_type": "markdown",
   "metadata": {
    "colab_type": "text",
    "id": "qaJYU-aUw5O_"
   },
   "source": [
    "A useful feature of numpy arrays are *boolean masks*, that are arrays of booleans of the same shape of a given array, say `a`. If `a` is indexed through the mask, only the elements corresponding to the position of the `True` elements are returned (in a new array)."
   ]
  },
  {
   "cell_type": "code",
   "execution_count": 6,
   "metadata": {
    "colab": {
     "base_uri": "https://localhost:8080/",
     "height": 126
    },
    "colab_type": "code",
    "executionInfo": {
     "elapsed": 1186,
     "status": "ok",
     "timestamp": 1566725078929,
     "user": {
      "displayName": "Andrea Mazzolini",
      "photoUrl": "https://lh3.googleusercontent.com/a-/AAuE7mARm6YUMjM1WqoWB9DeJSCtXhxEjR6a9chPFNuT=s64",
      "userId": "17503038082596243982"
     },
     "user_tz": -120
    },
    "id": "htSX-ZdIzdC7",
    "outputId": "4c330ca3-9180-4b75-f158-b35306c87f62"
   },
   "outputs": [
    {
     "name": "stdout",
     "output_type": "stream",
     "text": [
      "Original array\n",
      " [0 1 2 3 4 5 6 7 8 9]\n",
      "Mask for the elements greater than 5\n",
      " [False False False False False False  True  True  True  True]\n",
      "Masked array\n",
      " [6 7 8 9]\n"
     ]
    }
   ],
   "source": [
    "a = np.arange(10)\n",
    "print(\"Original array\\n\",a)\n",
    "\n",
    "mask = a > 5\n",
    "print(\"Mask for the elements greater than 5\\n\",mask)\n",
    "\n",
    "print(\"Masked array\\n\",a[mask])"
   ]
  },
  {
   "cell_type": "markdown",
   "metadata": {
    "colab_type": "text",
    "id": "36IVhvtg0BO5"
   },
   "source": [
    "Boolean masks are extremely useful to avoid loops (in which a given property is checked for all the array elements) and save computational time. In this respect, see le last part of this tutorial."
   ]
  },
  {
   "cell_type": "markdown",
   "metadata": {
    "colab_type": "text",
    "id": "1mrWSdcvJUbc"
   },
   "source": [
    "## Operations with arrays"
   ]
  },
  {
   "cell_type": "markdown",
   "metadata": {
    "colab_type": "text",
    "id": "GfxH8KCAM1xH"
   },
   "source": [
    "### Arithmentic operations\n",
    "\n",
    "Arithmetic operators on arrays apply elementwise."
   ]
  },
  {
   "cell_type": "code",
   "execution_count": 7,
   "metadata": {
    "colab": {
     "base_uri": "https://localhost:8080/",
     "height": 126
    },
    "colab_type": "code",
    "executionInfo": {
     "elapsed": 1170,
     "status": "ok",
     "timestamp": 1566725078930,
     "user": {
      "displayName": "Andrea Mazzolini",
      "photoUrl": "https://lh3.googleusercontent.com/a-/AAuE7mARm6YUMjM1WqoWB9DeJSCtXhxEjR6a9chPFNuT=s64",
      "userId": "17503038082596243982"
     },
     "user_tz": -120
    },
    "id": "bm8dE9MjM5zo",
    "outputId": "694bcd65-4bba-4137-c53e-f482dcf4aeb1"
   },
   "outputs": [
    {
     "name": "stdout",
     "output_type": "stream",
     "text": [
      "a:  [20 30 40 50] b:  [0 1 2 3]\n",
      "\n",
      "a - b: [20 29 38 47]\n",
      "a * b: [  0  30  80 150]\n",
      "b ^ 2:  [0 1 4 9]\n",
      "is a < 35?  [ True  True False False]\n"
     ]
    }
   ],
   "source": [
    "a = np.array( [20,30,40,50] )\n",
    "b = np.arange( 4 )\n",
    "print(\"a: \", a, \"b: \", b)\n",
    "print()\n",
    "\n",
    "print(\"a - b:\",  a-b)\n",
    "\n",
    "print(\"a * b:\",  a*b)  # Elementwise, not a scalar product! \n",
    "\n",
    "print(\"b ^ 2: \", b**2)\n",
    "\n",
    "print(\"is a < 35? \", a<35)  # Also boolean operations cen be applied elementwise"
   ]
  },
  {
   "cell_type": "markdown",
   "metadata": {
    "colab_type": "text",
    "id": "ptUJNQGuO0Lj"
   },
   "source": [
    "Matrix product using the method `dot()` or the symbol `@`"
   ]
  },
  {
   "cell_type": "code",
   "execution_count": 8,
   "metadata": {
    "colab": {
     "base_uri": "https://localhost:8080/",
     "height": 72
    },
    "colab_type": "code",
    "executionInfo": {
     "elapsed": 1157,
     "status": "ok",
     "timestamp": 1566725078931,
     "user": {
      "displayName": "Andrea Mazzolini",
      "photoUrl": "https://lh3.googleusercontent.com/a-/AAuE7mARm6YUMjM1WqoWB9DeJSCtXhxEjR6a9chPFNuT=s64",
      "userId": "17503038082596243982"
     },
     "user_tz": -120
    },
    "id": "J6O861PsO34z",
    "outputId": "3d25384d-6241-4b4f-a3c8-d562c3616b2e"
   },
   "outputs": [
    {
     "name": "stdout",
     "output_type": "stream",
     "text": [
      "260 260\n",
      "[[3 2]\n",
      " [7 4]]\n"
     ]
    }
   ],
   "source": [
    "print(a.dot(b), a @ b)  # Scalar product. The two commands are equivalent\n",
    "\n",
    "\n",
    "m1 = np.array([[1,2],[3,4]])\n",
    "\n",
    "m2 = np.array([[1,0],[1,1]])\n",
    "\n",
    "print(m1.dot(m2))  # Matrix product"
   ]
  },
  {
   "cell_type": "markdown",
   "metadata": {
    "colab_type": "text",
    "id": "KekUS_IbNE6m"
   },
   "source": [
    "### Universal functions\n",
    "\n",
    "Numpy contains several mathematical functions called *universal functions*. You can explore the numpy documentation linked above to see all of them. Again, they are applied element-wise."
   ]
  },
  {
   "cell_type": "code",
   "execution_count": 9,
   "metadata": {
    "colab": {
     "base_uri": "https://localhost:8080/",
     "height": 72
    },
    "colab_type": "code",
    "executionInfo": {
     "elapsed": 1144,
     "status": "ok",
     "timestamp": 1566725078931,
     "user": {
      "displayName": "Andrea Mazzolini",
      "photoUrl": "https://lh3.googleusercontent.com/a-/AAuE7mARm6YUMjM1WqoWB9DeJSCtXhxEjR6a9chPFNuT=s64",
      "userId": "17503038082596243982"
     },
     "user_tz": -120
    },
    "id": "8b9jhXVkOC2f",
    "outputId": "e8ca14a3-d19d-4c35-efb0-222efcccf2fd"
   },
   "outputs": [
    {
     "name": "stdout",
     "output_type": "stream",
     "text": [
      "sin(a): [0.         0.84147098 0.90929743 0.14112001]\n",
      "exp(a): [ 1.          2.71828183  7.3890561  20.08553692]\n",
      "square-root(a): [0.         1.         1.41421356 1.73205081]\n"
     ]
    }
   ],
   "source": [
    "print(\"sin(a):\", np.sin(b))\n",
    "\n",
    "print(\"exp(a):\", np.exp(b))\n",
    "\n",
    "print(\"square-root(a):\", np.sqrt(b))"
   ]
  },
  {
   "cell_type": "markdown",
   "metadata": {
    "colab_type": "text",
    "id": "ikISaFTvPFkC"
   },
   "source": [
    "### Operations among the array elements\n",
    "\n",
    "Some exmples of operation involving the array elements. See the documentation for more details and other examples."
   ]
  },
  {
   "cell_type": "code",
   "execution_count": 10,
   "metadata": {
    "colab": {
     "base_uri": "https://localhost:8080/",
     "height": 90
    },
    "colab_type": "code",
    "executionInfo": {
     "elapsed": 1130,
     "status": "ok",
     "timestamp": 1566725078932,
     "user": {
      "displayName": "Andrea Mazzolini",
      "photoUrl": "https://lh3.googleusercontent.com/a-/AAuE7mARm6YUMjM1WqoWB9DeJSCtXhxEjR6a9chPFNuT=s64",
      "userId": "17503038082596243982"
     },
     "user_tz": -120
    },
    "id": "UeZct31PQke9",
    "outputId": "f3c520f0-24a7-4f5a-ac76-8f52730a34f8"
   },
   "outputs": [
    {
     "name": "stdout",
     "output_type": "stream",
     "text": [
      "140\n",
      "20\n",
      "35.0\n",
      "11.180339887498949\n"
     ]
    }
   ],
   "source": [
    "print(a.sum())  # Sum of all the array elements\n",
    "\n",
    "print(a.min())  # Minimum\n",
    "\n",
    "print(a.mean())  # Average value\n",
    "\n",
    "print(a.std())  # Standard deviation"
   ]
  },
  {
   "cell_type": "markdown",
   "metadata": {
    "colab_type": "text",
    "id": "IErqA0FyQ4ml"
   },
   "source": [
    "The argument axis in the numpy functions specifies the dimension at which the operation is applied."
   ]
  },
  {
   "cell_type": "code",
   "execution_count": 11,
   "metadata": {
    "colab": {
     "base_uri": "https://localhost:8080/",
     "height": 108
    },
    "colab_type": "code",
    "executionInfo": {
     "elapsed": 1117,
     "status": "ok",
     "timestamp": 1566725078933,
     "user": {
      "displayName": "Andrea Mazzolini",
      "photoUrl": "https://lh3.googleusercontent.com/a-/AAuE7mARm6YUMjM1WqoWB9DeJSCtXhxEjR6a9chPFNuT=s64",
      "userId": "17503038082596243982"
     },
     "user_tz": -120
    },
    "id": "XkR6B-2SRmWA",
    "outputId": "713f8152-5531-4533-9792-cc8c8f887a7c"
   },
   "outputs": [
    {
     "name": "stdout",
     "output_type": "stream",
     "text": [
      "[[1 2 3]\n",
      " [4 5 6]\n",
      " [7 8 9]]\n",
      "[12 15 18]\n",
      "[ 6 15 24]\n"
     ]
    }
   ],
   "source": [
    "print(m)\n",
    "\n",
    "print(m.sum(axis=0))  # Summing the elements in each column (across the first dimension)\n",
    "\n",
    "print(m.sum(axis=1))  # Summing the elements in each row"
   ]
  },
  {
   "cell_type": "markdown",
   "metadata": {
    "colab_type": "text",
    "id": "c60belxpRqoe"
   },
   "source": [
    "\n",
    "## Manipulating arrays\n",
    "\n",
    "Here we show some function to modify arrays and their shape. As for all the other examples in this tutorial, here we show just a small fraction of the wide range of possibilities that Numpy proposes."
   ]
  },
  {
   "cell_type": "markdown",
   "metadata": {
    "colab_type": "text",
    "id": "eBUnMHP-HNi9"
   },
   "source": [
    "### Changing the shape of an array\n",
    "\n",
    "`reshape` function"
   ]
  },
  {
   "cell_type": "code",
   "execution_count": 12,
   "metadata": {
    "colab": {
     "base_uri": "https://localhost:8080/",
     "height": 290
    },
    "colab_type": "code",
    "executionInfo": {
     "elapsed": 1102,
     "status": "ok",
     "timestamp": 1566725078934,
     "user": {
      "displayName": "Andrea Mazzolini",
      "photoUrl": "https://lh3.googleusercontent.com/a-/AAuE7mARm6YUMjM1WqoWB9DeJSCtXhxEjR6a9chPFNuT=s64",
      "userId": "17503038082596243982"
     },
     "user_tz": -120
    },
    "id": "UHhMiHnHHSiU",
    "outputId": "ebb42d26-51e9-49dd-ebcb-3b376b90b9fc"
   },
   "outputs": [
    {
     "name": "stdout",
     "output_type": "stream",
     "text": [
      "Original array:\n",
      " [ 0  1  2  3  4  5  6  7  8  9 10 11]\n",
      "Reshaped as a matrix:\n",
      " [[ 0  1  2  3]\n",
      " [ 4  5  6  7]\n",
      " [ 8  9 10 11]]\n",
      "Reshaped as a 3-d array:\n",
      " [[[ 0  1]\n",
      "  [ 2  3]]\n",
      "\n",
      " [[ 4  5]\n",
      "  [ 6  7]]\n",
      "\n",
      " [[ 8  9]\n",
      "  [10 11]]]\n"
     ]
    }
   ],
   "source": [
    "a = np.arange(12)  # Generating a 1-d array with 12 elements\n",
    "print(\"Original array:\\n\", a)\n",
    "\n",
    "print(\"Reshaped as a matrix:\\n\", a.reshape((3,4)))  # Be careful, the number of elements must be the same! You cannot reshape it in a 4x4 matrix\n",
    "\n",
    "print(\"Reshaped as a 3-d array:\\n\", a.reshape((3,2,2)))"
   ]
  },
  {
   "cell_type": "markdown",
   "metadata": {
    "colab_type": "text",
    "id": "DEem_4SIHaqJ"
   },
   "source": [
    "Transposing"
   ]
  },
  {
   "cell_type": "code",
   "execution_count": 13,
   "metadata": {
    "colab": {
     "base_uri": "https://localhost:8080/",
     "height": 181
    },
    "colab_type": "code",
    "executionInfo": {
     "elapsed": 1383,
     "status": "ok",
     "timestamp": 1566725079229,
     "user": {
      "displayName": "Andrea Mazzolini",
      "photoUrl": "https://lh3.googleusercontent.com/a-/AAuE7mARm6YUMjM1WqoWB9DeJSCtXhxEjR6a9chPFNuT=s64",
      "userId": "17503038082596243982"
     },
     "user_tz": -120
    },
    "id": "ujmDiensIiyz",
    "outputId": "32ecac7d-94af-4119-b329-c6d287fdd9a0"
   },
   "outputs": [
    {
     "name": "stdout",
     "output_type": "stream",
     "text": [
      "A matrix\n",
      " [[ 0  1  2]\n",
      " [ 3  4  5]\n",
      " [ 6  7  8]\n",
      " [ 9 10 11]]\n",
      "and its transpose\n",
      " [[ 0  3  6  9]\n",
      " [ 1  4  7 10]\n",
      " [ 2  5  8 11]]\n"
     ]
    }
   ],
   "source": [
    "m = a.reshape((4,3))\n",
    "print(\"A matrix\\n\", m)\n",
    "print(\"and its transpose\\n\", m.T)"
   ]
  },
  {
   "cell_type": "markdown",
   "metadata": {
    "colab_type": "text",
    "id": "oFWhfGx0wSqt"
   },
   "source": [
    "### Append\n",
    "\n",
    "The function `append` of numpy is slightly different from the `append` for lists."
   ]
  },
  {
   "cell_type": "code",
   "execution_count": 14,
   "metadata": {
    "colab": {
     "base_uri": "https://localhost:8080/",
     "height": 53
    },
    "colab_type": "code",
    "executionInfo": {
     "elapsed": 1369,
     "status": "ok",
     "timestamp": 1566725079229,
     "user": {
      "displayName": "Andrea Mazzolini",
      "photoUrl": "https://lh3.googleusercontent.com/a-/AAuE7mARm6YUMjM1WqoWB9DeJSCtXhxEjR6a9chPFNuT=s64",
      "userId": "17503038082596243982"
     },
     "user_tz": -120
    },
    "id": "GhvHYVWqwkA8",
    "outputId": "2e3029fb-38d1-4d8b-dc7e-801adb4175ce"
   },
   "outputs": [
    {
     "name": "stdout",
     "output_type": "stream",
     "text": [
      "[ 0.  1.  4.  9. 16. 25. 36. 49. 64. 81.]\n",
      "[1. 0. 1. 0. 1. 0. 1. 0. 1. 0. 1. 0. 1. 0. 1. 0. 1. 0. 1. 0.]\n"
     ]
    }
   ],
   "source": [
    "a = np.array([])  # An empty array\n",
    "for i in range(10):\n",
    "  a = np.append(a, i**2)  # Appending a single element at the array end\n",
    " \n",
    "print(a)\n",
    "\n",
    "\n",
    "a = np.array([])\n",
    "for i in range(10):\n",
    "  a = np.append(a, [1,0])  # Appending another array/list\n",
    " \n",
    "print(a)\n"
   ]
  },
  {
   "cell_type": "markdown",
   "metadata": {
    "colab_type": "text",
    "id": "LVwdue4FIlME"
   },
   "source": [
    "### Stacking together different arrays"
   ]
  },
  {
   "cell_type": "code",
   "execution_count": 15,
   "metadata": {
    "colab": {
     "base_uri": "https://localhost:8080/",
     "height": 271
    },
    "colab_type": "code",
    "executionInfo": {
     "elapsed": 1358,
     "status": "ok",
     "timestamp": 1566725079231,
     "user": {
      "displayName": "Andrea Mazzolini",
      "photoUrl": "https://lh3.googleusercontent.com/a-/AAuE7mARm6YUMjM1WqoWB9DeJSCtXhxEjR6a9chPFNuT=s64",
      "userId": "17503038082596243982"
     },
     "user_tz": -120
    },
    "id": "Q0ULg1QeJcgC",
    "outputId": "bf22b03f-4aa8-4849-f425-993edb7379d1"
   },
   "outputs": [
    {
     "name": "stdout",
     "output_type": "stream",
     "text": [
      "a:\n",
      " [[0. 0.]\n",
      " [0. 0.]] \n",
      "b\n",
      " [[1. 1.]\n",
      " [1. 1.]]\n",
      "vertical stack\n",
      " [[0. 0.]\n",
      " [0. 0.]\n",
      " [1. 1.]\n",
      " [1. 1.]]\n",
      "horizontal stack\n",
      " [[0. 0. 1. 1.]\n",
      " [0. 0. 1. 1.]]\n"
     ]
    }
   ],
   "source": [
    "a = np.zeros((2,2))\n",
    "b = np.ones((2,2))\n",
    "print (\"a:\\n\", a, \"\\nb\\n\", b)\n",
    "\n",
    "print(\"vertical stack\\n\", np.vstack((a,b)))\n",
    "print(\"horizontal stack\\n\", np.hstack((a,b)))"
   ]
  },
  {
   "cell_type": "markdown",
   "metadata": {
    "colab_type": "text",
    "id": "Sm0xd0Baxeqz"
   },
   "source": [
    "To dynamically generate a matrix row by row use vstack. Note that you need to initialize an empty array with the correct dimension. "
   ]
  },
  {
   "cell_type": "code",
   "execution_count": 16,
   "metadata": {
    "colab": {
     "base_uri": "https://localhost:8080/",
     "height": 108
    },
    "colab_type": "code",
    "executionInfo": {
     "elapsed": 1346,
     "status": "ok",
     "timestamp": 1566725079232,
     "user": {
      "displayName": "Andrea Mazzolini",
      "photoUrl": "https://lh3.googleusercontent.com/a-/AAuE7mARm6YUMjM1WqoWB9DeJSCtXhxEjR6a9chPFNuT=s64",
      "userId": "17503038082596243982"
     },
     "user_tz": -120
    },
    "id": "vSmOx4wCxlwC",
    "outputId": "20d9e082-5d79-422e-e84d-df566c15f879"
   },
   "outputs": [
    {
     "name": "stdout",
     "output_type": "stream",
     "text": [
      "[[1. 0.]\n",
      " [1. 0.]\n",
      " [1. 0.]\n",
      " [1. 0.]\n",
      " [1. 0.]]\n"
     ]
    }
   ],
   "source": [
    "a = np.empty((0,2))  # To initialize an array \n",
    "for i in range(5):\n",
    "  a = np.vstack((a, [1,0]))\n",
    "print (a)"
   ]
  },
  {
   "cell_type": "markdown",
   "metadata": {
    "colab_type": "text",
    "id": "nXmHgGhwKHPc"
   },
   "source": [
    "## Random functions\n",
    "\n",
    "All the random functions in Numpy are contained in the sub-module `random`.\n",
    "\n",
    "See: https://docs.scipy.org/doc/numpy-1.16.0/reference/routines.random.html"
   ]
  },
  {
   "cell_type": "markdown",
   "metadata": {
    "colab_type": "text",
    "id": "lomUN-e0LqVG"
   },
   "source": [
    "### Generating random data"
   ]
  },
  {
   "cell_type": "code",
   "execution_count": 17,
   "metadata": {
    "colab": {
     "base_uri": "https://localhost:8080/",
     "height": 144
    },
    "colab_type": "code",
    "executionInfo": {
     "elapsed": 1334,
     "status": "ok",
     "timestamp": 1566725079234,
     "user": {
      "displayName": "Andrea Mazzolini",
      "photoUrl": "https://lh3.googleusercontent.com/a-/AAuE7mARm6YUMjM1WqoWB9DeJSCtXhxEjR6a9chPFNuT=s64",
      "userId": "17503038082596243982"
     },
     "user_tz": -120
    },
    "id": "0gzzs0fRL6gP",
    "outputId": "7daed44f-f219-4f11-f991-f269a9edad9e"
   },
   "outputs": [
    {
     "name": "stdout",
     "output_type": "stream",
     "text": [
      "0.8249116739973619\n",
      "[[0.98613611 0.75341721 0.08745534 0.15652279]\n",
      " [0.17693284 0.61881836 0.75192325 0.75986122]\n",
      " [0.31065762 0.37385463 0.486645   0.24158191]]\n",
      "[[3 3 2 2]\n",
      " [3 2 2 3]\n",
      " [3 3 4 2]]\n"
     ]
    }
   ],
   "source": [
    "print(np.random.rand()) # A single rand number in [0,1)\n",
    "\n",
    "r = np.random.rand(3,4)  # Generating random numbers uniformely in [0,1) with a given shape\n",
    "print(r)\n",
    "\n",
    "# Generating random integers. Arguments: start included, stop excluded, size.\n",
    "r = np.random.randint(2,5,(3,4))  \n",
    "print(r)"
   ]
  },
  {
   "cell_type": "markdown",
   "metadata": {
    "colab_type": "text",
    "id": "IXhSD8GMOu4T"
   },
   "source": [
    "Data can be generated also from specific distributions (here few examples)"
   ]
  },
  {
   "cell_type": "code",
   "execution_count": 18,
   "metadata": {
    "colab": {
     "base_uri": "https://localhost:8080/",
     "height": 126
    },
    "colab_type": "code",
    "executionInfo": {
     "elapsed": 1320,
     "status": "ok",
     "timestamp": 1566725079234,
     "user": {
      "displayName": "Andrea Mazzolini",
      "photoUrl": "https://lh3.googleusercontent.com/a-/AAuE7mARm6YUMjM1WqoWB9DeJSCtXhxEjR6a9chPFNuT=s64",
      "userId": "17503038082596243982"
     },
     "user_tz": -120
    },
    "id": "ji5xFBCZO-EB",
    "outputId": "f3382f5f-d1bd-4778-ff00-325e92b9d2a1"
   },
   "outputs": [
    {
     "name": "stdout",
     "output_type": "stream",
     "text": [
      "[[-0.75906746  2.0912223   1.78758564 -1.5410368 ]\n",
      " [ 0.16005903  5.02498657 -1.02545321  0.21716835]\n",
      " [-0.18730408  0.47196262 -0.95146977 -1.30801109]]\n",
      "[[3 0 3 2]\n",
      " [0 2 2 3]\n",
      " [2 5 3 1]]\n"
     ]
    }
   ],
   "source": [
    "# From normal distribution. Args: mean, standard dev, size.\n",
    "r = np.random.normal(1,2,(3,4))\n",
    "print(r)\n",
    "\n",
    "# From poisson distribution. Args: mean, size.\n",
    "r = np.random.poisson(2,(3,4))\n",
    "print(r)"
   ]
  },
  {
   "cell_type": "markdown",
   "metadata": {
    "colab_type": "text",
    "id": "1dQi-_i3P6Uy"
   },
   "source": [
    "### Sampling"
   ]
  },
  {
   "cell_type": "markdown",
   "metadata": {
    "colab_type": "text",
    "id": "-AURFYO6Nx-8"
   },
   "source": [
    "Shuffling an array. \n",
    "\n",
    "Equivalent to a sampling without replacement: at each time an array element is randomly exctracted, put in a new array, and removed from the original array"
   ]
  },
  {
   "cell_type": "code",
   "execution_count": 19,
   "metadata": {
    "colab": {
     "base_uri": "https://localhost:8080/",
     "height": 53
    },
    "colab_type": "code",
    "executionInfo": {
     "elapsed": 1309,
     "status": "ok",
     "timestamp": 1566725079235,
     "user": {
      "displayName": "Andrea Mazzolini",
      "photoUrl": "https://lh3.googleusercontent.com/a-/AAuE7mARm6YUMjM1WqoWB9DeJSCtXhxEjR6a9chPFNuT=s64",
      "userId": "17503038082596243982"
     },
     "user_tz": -120
    },
    "id": "Op5wi4N9N13k",
    "outputId": "5b0898c1-755c-43f8-821e-17e95817b10a"
   },
   "outputs": [
    {
     "name": "stdout",
     "output_type": "stream",
     "text": [
      "[1, 1, 1, 1, 2, 2, 2, 3, 3, 4]\n",
      "[1, 1, 2, 4, 3, 3, 1, 2, 1, 2]\n"
     ]
    }
   ],
   "source": [
    "a = [1, 1, 1, 1, 2, 2, 2, 3, 3, 4]\n",
    "print(a)\n",
    "\n",
    "np.random.shuffle(a)  # The method modifies the array in-place\n",
    "\n",
    "print(a)"
   ]
  },
  {
   "cell_type": "markdown",
   "metadata": {
    "colab_type": "text",
    "id": "XIzccOVHOC30"
   },
   "source": [
    "Sampling without replacement: at each time an array element is randomly exctracted and put in a new array"
   ]
  },
  {
   "cell_type": "code",
   "execution_count": 20,
   "metadata": {
    "colab": {
     "base_uri": "https://localhost:8080/",
     "height": 35
    },
    "colab_type": "code",
    "executionInfo": {
     "elapsed": 1297,
     "status": "ok",
     "timestamp": 1566725079236,
     "user": {
      "displayName": "Andrea Mazzolini",
      "photoUrl": "https://lh3.googleusercontent.com/a-/AAuE7mARm6YUMjM1WqoWB9DeJSCtXhxEjR6a9chPFNuT=s64",
      "userId": "17503038082596243982"
     },
     "user_tz": -120
    },
    "id": "3Pp0F066QOpG",
    "outputId": "6da529e5-8236-4a80-e26f-7e536ea392dd"
   },
   "outputs": [
    {
     "name": "stdout",
     "output_type": "stream",
     "text": [
      "[3 1 3 4 1 2 3 2 2 1 1 3 1 1 2]\n"
     ]
    }
   ],
   "source": [
    "new_a = np.random.choice(a, 15)  # Note that here the new array can be larger than the original\n",
    "print (new_a)"
   ]
  },
  {
   "cell_type": "markdown",
   "metadata": {
    "colab_type": "text",
    "id": "sDFoOpEiQ4Of"
   },
   "source": [
    "## Why numpy instead of Python lists?"
   ]
  },
  {
   "cell_type": "markdown",
   "metadata": {
    "colab_type": "text",
    "id": "zHnCdH7VTeFw"
   },
   "source": [
    "The obvious fact is that in Numpy there are several built-in functions for whatever necessity of a scientist.\n",
    "\n",
    "Moreover, using Numpy there is a relevant increase in the performance of your algorithm, especially when one has to deal with a large amount of numbers (https://stackoverflow.com/questions/993984/what-are-the-advantages-of-numpy-over-regular-python-lists):\n",
    "\n",
    "* Numpy arrays consume less memory than lists when stored.\n",
    "\n",
    "* Using the bulit-in functions speeds up your program a lot (see below).\n"
   ]
  },
  {
   "cell_type": "code",
   "execution_count": 0,
   "metadata": {
    "colab": {},
    "colab_type": "code",
    "id": "sJAa1wEjTx4c"
   },
   "outputs": [],
   "source": [
    "def sum_without_numpy(a_list):\n",
    "  counter = 0\n",
    "  for element in a_list:\n",
    "    counter += element\n",
    "  return counter\n",
    "\n",
    "def sum_with_numpy(a_list):\n",
    "  return np.sum(a_list)"
   ]
  },
  {
   "cell_type": "code",
   "execution_count": 22,
   "metadata": {
    "colab": {
     "base_uri": "https://localhost:8080/",
     "height": 72
    },
    "colab_type": "code",
    "executionInfo": {
     "elapsed": 1282,
     "status": "ok",
     "timestamp": 1566725079238,
     "user": {
      "displayName": "Andrea Mazzolini",
      "photoUrl": "https://lh3.googleusercontent.com/a-/AAuE7mARm6YUMjM1WqoWB9DeJSCtXhxEjR6a9chPFNuT=s64",
      "userId": "17503038082596243982"
     },
     "user_tz": -120
    },
    "id": "98WmlmbfVAgM",
    "outputId": "8f653293-446e-4a99-cb3b-3e8fbadb2ad8"
   },
   "outputs": [
    {
     "name": "stdout",
     "output_type": "stream",
     "text": [
      "Result  500243.7971134517  obtained in  0.14604878425598145\n",
      "Result with numpy 500243.79711347405  obtained in  0.00092315673828125\n",
      "Numpy is  158.2058367768595  times faster!\n"
     ]
    }
   ],
   "source": [
    "import time\n",
    "\n",
    "a_big_list = np.random.rand(1000000)\n",
    "\n",
    "t0 = time.time()\n",
    "result = sum_without_numpy(a_big_list)\n",
    "python_time = time.time()-t0\n",
    "print(\"Result \", result, \" obtained in \", python_time)\n",
    "\n",
    "t0 = time.time()\n",
    "result = sum_with_numpy(a_big_list)\n",
    "numpy_time = time.time()-t0\n",
    "print(\"Result with numpy\", result, \" obtained in \", numpy_time)\n",
    "\n",
    "print(\"Numpy is \", python_time / numpy_time, \" times faster!\")"
   ]
  },
  {
   "cell_type": "markdown",
   "metadata": {
    "colab_type": "text",
    "id": "QGMBJV2F_RyW"
   },
   "source": [
    "In general, iterations slow down your code. A useful trick to avoid them is to use boolean masks. In this example the task is to select the number larger than 0.5 and compute the average of this items. This can be done by iterating over the list elements or using the mask."
   ]
  },
  {
   "cell_type": "code",
   "execution_count": 24,
   "metadata": {
    "colab": {
     "base_uri": "https://localhost:8080/",
     "height": 72
    },
    "colab_type": "code",
    "executionInfo": {
     "elapsed": 774,
     "status": "ok",
     "timestamp": 1566726693275,
     "user": {
      "displayName": "Andrea Mazzolini",
      "photoUrl": "https://lh3.googleusercontent.com/a-/AAuE7mARm6YUMjM1WqoWB9DeJSCtXhxEjR6a9chPFNuT=s64",
      "userId": "17503038082596243982"
     },
     "user_tz": -120
    },
    "id": "_CTEJO18-kYy",
    "outputId": "1f4e0f92-fce2-4917-8538-9e7dc187b733"
   },
   "outputs": [
    {
     "name": "stdout",
     "output_type": "stream",
     "text": [
      "Average of elements larger than 0.5  0.7500944533970322  obtained in  0.26610755920410156\n",
      "Elements larger than 0.5 with boolean masks 0.7500944533970565  obtained in  0.012341737747192383\n",
      "Numpy is  21.56159567275186  times faster!\n"
     ]
    }
   ],
   "source": [
    "t0 = time.time()\n",
    "count = 0\n",
    "summation = 0\n",
    "for elem in a_big_list:\n",
    "  if elem > 0.5:\n",
    "    count += 1\n",
    "    summation += elem\n",
    "python_time = time.time()-t0\n",
    "print(\"Average of elements larger than 0.5 \", summation/count, \" obtained in \", python_time)\n",
    "\n",
    "t0 = time.time()\n",
    "mask = a_big_list > 0.5\n",
    "result = a_big_list[mask].mean()\n",
    "numpy_time = time.time()-t0\n",
    "print(\"Elements larger than 0.5 with boolean masks\", result, \" obtained in \", numpy_time)\n",
    "\n",
    "print(\"Numpy is \", python_time / numpy_time, \" times faster!\")"
   ]
  },
  {
   "cell_type": "code",
   "execution_count": 0,
   "metadata": {
    "colab": {},
    "colab_type": "code",
    "id": "nT0Fp6xtW4Cl"
   },
   "outputs": [],
   "source": []
  }
 ],
 "metadata": {
  "colab": {
   "collapsed_sections": [],
   "name": "5 - Numpy.ipynb",
   "provenance": [],
   "version": "0.3.2"
  },
  "kernelspec": {
   "display_name": "Python 3",
   "language": "python",
   "name": "python3"
  },
  "language_info": {
   "codemirror_mode": {
    "name": "ipython",
    "version": 3
   },
   "file_extension": ".py",
   "mimetype": "text/x-python",
   "name": "python",
   "nbconvert_exporter": "python",
   "pygments_lexer": "ipython3",
   "version": "3.8.8"
  }
 },
 "nbformat": 4,
 "nbformat_minor": 1
}
