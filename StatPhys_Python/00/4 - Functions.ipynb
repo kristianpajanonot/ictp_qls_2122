{
 "cells": [
  {
   "cell_type": "markdown",
   "metadata": {
    "colab_type": "text",
    "id": "kTCMRpe6Rlq4"
   },
   "source": [
    "# 4 - Functions\n",
    "\n",
    "<b>Summary</b>:\n",
    "> * Defining a function\n",
    "> * `return` statement\n",
    "> * Documentation strings\n",
    "> * Default arguments\n",
    "\n",
    "For more details see: https://docs.python.org/3/tutorial/controlflow.html#defining-functions"
   ]
  },
  {
   "cell_type": "markdown",
   "metadata": {
    "colab_type": "text",
    "id": "RQ1TjrUhRlq7"
   },
   "source": [
    "### Defining a function"
   ]
  },
  {
   "cell_type": "markdown",
   "metadata": {
    "colab_type": "text",
    "id": "VG0SWxLYRlq-"
   },
   "source": [
    "It is defined with the statement `def`. The body is indented."
   ]
  },
  {
   "cell_type": "code",
   "execution_count": null,
   "metadata": {
    "colab": {
     "base_uri": "https://localhost:8080/",
     "height": 53
    },
    "colab_type": "code",
    "executionInfo": {
     "elapsed": 592,
     "status": "ok",
     "timestamp": 1565285348090,
     "user": {
      "displayName": "Andrea Mazzolini",
      "photoUrl": "https://lh4.googleusercontent.com/-6ouzHGmaQ0I/AAAAAAAAAAI/AAAAAAAAABM/1wtfdHMkbEs/s64/photo.jpg",
      "userId": "17503038082596243982"
     },
     "user_tz": -120
    },
    "id": "_-TEsmRXRlrA",
    "outputId": "80e21be0-e78e-4985-94e8-827fba987d41"
   },
   "outputs": [
    {
     "name": "stdout",
     "output_type": "stream",
     "text": [
      "hello\n",
      "hello\n"
     ]
    }
   ],
   "source": [
    "def first_function():\n",
    "  print('hello')\n",
    "    \n",
    "first_function()\n",
    "\n",
    "f = first_function  # The function can be stored in variables\n",
    "\n",
    "f()"
   ]
  },
  {
   "cell_type": "markdown",
   "metadata": {
    "colab_type": "text",
    "id": "Yh8aSS8DRlrL"
   },
   "source": [
    "Arguments are passed through the round brackets"
   ]
  },
  {
   "cell_type": "code",
   "execution_count": null,
   "metadata": {
    "colab": {
     "base_uri": "https://localhost:8080/",
     "height": 35
    },
    "colab_type": "code",
    "executionInfo": {
     "elapsed": 525,
     "status": "ok",
     "timestamp": 1565286275563,
     "user": {
      "displayName": "Andrea Mazzolini",
      "photoUrl": "https://lh4.googleusercontent.com/-6ouzHGmaQ0I/AAAAAAAAAAI/AAAAAAAAABM/1wtfdHMkbEs/s64/photo.jpg",
      "userId": "17503038082596243982"
     },
     "user_tz": -120
    },
    "id": "oyftKXSARlrO",
    "outputId": "bf9749a5-963e-4cf9-d39b-bbb7da2631b6"
   },
   "outputs": [
    {
     "name": "stdout",
     "output_type": "stream",
     "text": [
      "I'm Andrea from Italy\n"
     ]
    }
   ],
   "source": [
    "def print_my_info(name, nationality):\n",
    "  print('I\\'m {} from {}'.format(name, nationality))\n",
    "    \n",
    "print_my_info('Andrea', 'Italy')"
   ]
  },
  {
   "cell_type": "markdown",
   "metadata": {
    "colab_type": "text",
    "id": "-vO-BaEyRlrf"
   },
   "source": [
    "### <i>return</i> statement"
   ]
  },
  {
   "cell_type": "code",
   "execution_count": null,
   "metadata": {
    "colab": {},
    "colab_type": "code",
    "id": "He7XdjN-Rlrg",
    "outputId": "0db8eedd-ffa1-4089-f2f0-8ad2627248a7"
   },
   "outputs": [
    {
     "name": "stdout",
     "output_type": "stream",
     "text": [
      "[0, 1, 1, 2, 3, 5, 8, 13, 21, 34, 55, 89]\n"
     ]
    }
   ],
   "source": [
    "def fib(n):  # return Fibonacci series up to n\n",
    "    result = []\n",
    "    a, b = 0, 1\n",
    "    while a < n:\n",
    "        result.append(a)\n",
    "        a, b = b, a+b\n",
    "    return result  # the function returns a variable \n",
    "\n",
    "result = fib(100)\n",
    "print(result)"
   ]
  },
  {
   "cell_type": "markdown",
   "metadata": {
    "colab_type": "text",
    "id": "ZQsXCwDXRlrl"
   },
   "source": [
    "It can be useful to return multiple variables"
   ]
  },
  {
   "cell_type": "code",
   "execution_count": null,
   "metadata": {
    "colab": {},
    "colab_type": "code",
    "id": "5J8aseCURlro",
    "outputId": "d27bcdfc-fb7d-4a1f-cbe7-236e30846665"
   },
   "outputs": [
    {
     "name": "stdout",
     "output_type": "stream",
     "text": [
      "20.4954 30.7431\n"
     ]
    }
   ],
   "source": [
    "def get_circumference_and_area_of_circle(radius):\n",
    "    pi = 3.4159\n",
    "    return 2 * pi * radius, pi * radius * radius\n",
    "\n",
    "circ, area = get_circumference_and_area_of_circle(3)  # The two variables are implicitely packed in a tuple\n",
    "print(circ, area)"
   ]
  },
  {
   "cell_type": "markdown",
   "metadata": {
    "colab_type": "text",
    "id": "tZA01f2WRlru"
   },
   "source": [
    "### Documentation strings"
   ]
  },
  {
   "cell_type": "markdown",
   "metadata": {
    "colab_type": "text",
    "id": "qLTIiSTTRlrw"
   },
   "source": [
    "It is always a good habit to describe what the function does.\n",
    "It can be encoded inside the function with triple quotes:"
   ]
  },
  {
   "cell_type": "code",
   "execution_count": 2,
   "metadata": {
    "colab": {},
    "colab_type": "code",
    "executionInfo": {
     "elapsed": 875,
     "status": "ok",
     "timestamp": 1599812990247,
     "user": {
      "displayName": "Andrea Mazzolini",
      "photoUrl": "https://lh3.googleusercontent.com/a-/AOh14Gj889rV0hCKG0LInS5OJdlv_nS9Mv4fKmWQb2ax=s64",
      "userId": "17503038082596243982"
     },
     "user_tz": -120
    },
    "id": "bLm-VXgxRlry"
   },
   "outputs": [],
   "source": [
    "def get_circumference_and_area_of_circle(radius):\n",
    "    \"\"\"\n",
    "    This function computes the circumference and\n",
    "    area of a circle given its radius\n",
    "    \"\"\"\n",
    "    pi = 3.4159\n",
    "    return 2 * pi * radius, pi * radius * radius"
   ]
  },
  {
   "cell_type": "markdown",
   "metadata": {
    "colab_type": "text",
    "id": "AnDhHGRRSH2U"
   },
   "source": [
    "The documentation can be inspected as for built-in methods"
   ]
  },
  {
   "cell_type": "code",
   "execution_count": 3,
   "metadata": {
    "colab": {},
    "colab_type": "code",
    "executionInfo": {
     "elapsed": 1708,
     "status": "ok",
     "timestamp": 1599812992420,
     "user": {
      "displayName": "Andrea Mazzolini",
      "photoUrl": "https://lh3.googleusercontent.com/a-/AOh14Gj889rV0hCKG0LInS5OJdlv_nS9Mv4fKmWQb2ax=s64",
      "userId": "17503038082596243982"
     },
     "user_tz": -120
    },
    "id": "iYMQHHYHSF_c"
   },
   "outputs": [],
   "source": [
    "get_circumference_and_area_of_circle?"
   ]
  },
  {
   "cell_type": "markdown",
   "metadata": {
    "colab_type": "text",
    "id": "d21COpoKRlr3"
   },
   "source": [
    "Another way to see the documentation is to use the following method, which converts it to a string"
   ]
  },
  {
   "cell_type": "code",
   "execution_count": null,
   "metadata": {
    "colab": {
     "base_uri": "https://localhost:8080/",
     "height": 90
    },
    "colab_type": "code",
    "executionInfo": {
     "elapsed": 462,
     "status": "ok",
     "timestamp": 1565286379865,
     "user": {
      "displayName": "Andrea Mazzolini",
      "photoUrl": "https://lh4.googleusercontent.com/-6ouzHGmaQ0I/AAAAAAAAAAI/AAAAAAAAABM/1wtfdHMkbEs/s64/photo.jpg",
      "userId": "17503038082596243982"
     },
     "user_tz": -120
    },
    "id": "tJCEgbSkRlr5",
    "outputId": "33eeed0c-75e4-48a5-a61f-5b73e8e1bedb"
   },
   "outputs": [
    {
     "name": "stdout",
     "output_type": "stream",
     "text": [
      "\n",
      "    This function computes the circumference and\n",
      "    area of a circle given its radius\n",
      "    \n"
     ]
    }
   ],
   "source": [
    "print(get_circumference_and_area_of_circle.__doc__)"
   ]
  },
  {
   "cell_type": "markdown",
   "metadata": {
    "colab_type": "text",
    "id": "SJBZAsb3Rlr9"
   },
   "source": [
    "### Default arguments"
   ]
  },
  {
   "cell_type": "code",
   "execution_count": null,
   "metadata": {
    "colab": {},
    "colab_type": "code",
    "id": "64z1juIkRlr-"
   },
   "outputs": [],
   "source": [
    "def evaluate_powers(n, power=2, print_result=True):\n",
    "    \"\"\"\n",
    "    Evaluates the power of the first n integers.\n",
    "    The default power is the square.\n",
    "    \"\"\"\n",
    "    powers = []\n",
    "    for i in range(n):\n",
    "        powers.append(i**power)\n",
    "    if print_result:\n",
    "        print(powers)\n",
    "    return powers"
   ]
  },
  {
   "cell_type": "code",
   "execution_count": null,
   "metadata": {
    "colab": {},
    "colab_type": "code",
    "id": "BwwpeKZ4RlsC",
    "outputId": "3db6b0c4-d414-4666-eab3-fb7327a96daa"
   },
   "outputs": [
    {
     "name": "stdout",
     "output_type": "stream",
     "text": [
      "[0, 1, 4, 9]\n",
      "[0, 1, 8, 27]\n"
     ]
    }
   ],
   "source": [
    "result = evaluate_powers(4) \n",
    "print(result)\n",
    "\n",
    "# Overriding the second default argument\n",
    "result = evaluate_powers(4, 3)\n",
    "print(result)\n",
    "\n",
    "# Overriding all the arguments\n",
    "result = evaluate_powers(4, 3, False)\n",
    "\n",
    "# Or a specific argument can be overrided as follows:\n",
    "result = evaluate_powers(4, print_result=False)"
   ]
  },
  {
   "cell_type": "code",
   "execution_count": null,
   "metadata": {
    "colab": {},
    "colab_type": "code",
    "id": "AJXomB5CRlsI"
   },
   "outputs": [],
   "source": []
  }
 ],
 "metadata": {
  "colab": {
   "name": "4 - Functions.ipynb",
   "provenance": []
  },
  "kernelspec": {
   "display_name": "Python 3",
   "language": "python",
   "name": "python3"
  },
  "language_info": {
   "codemirror_mode": {
    "name": "ipython",
    "version": 3
   },
   "file_extension": ".py",
   "mimetype": "text/x-python",
   "name": "python",
   "nbconvert_exporter": "python",
   "pygments_lexer": "ipython3",
   "version": "3.8.8"
  }
 },
 "nbformat": 4,
 "nbformat_minor": 1
}
