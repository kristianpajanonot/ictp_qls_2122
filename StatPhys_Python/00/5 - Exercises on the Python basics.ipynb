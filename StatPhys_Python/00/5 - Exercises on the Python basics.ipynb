{
 "cells": [
  {
   "cell_type": "markdown",
   "metadata": {
    "colab_type": "text",
    "id": "CFfSHSWy4ffB"
   },
   "source": [
    "# E1 - Exercises on the Python basics\n",
    "\n",
    "The following exercises refer to the first 4 tutorials."
   ]
  },
  {
   "cell_type": "markdown",
   "metadata": {
    "colab_type": "text",
    "id": "i4jt6kAn4ffG"
   },
   "source": [
    "## Exercise 1\n",
    "\n",
    "1. Write a code that prints the factors of a given integer number. For example, the (non-trivial) factors of 15 are 3 and 5."
   ]
  },
  {
   "cell_type": "code",
   "execution_count": 1,
   "metadata": {
    "colab": {},
    "colab_type": "code",
    "id": "y94aMusp4ffJ"
   },
   "outputs": [],
   "source": [
    "def factors(n):\n",
    "    factors_list = []\n",
    "    for i in range(2, int(n/2)+1):\n",
    "        if n%i == 0:\n",
    "            factors_list.append(i)\n",
    "    \n",
    "    return factors_list"
   ]
  },
  {
   "cell_type": "code",
   "execution_count": 2,
   "metadata": {},
   "outputs": [
    {
     "data": {
      "text/plain": [
       "[3, 5]"
      ]
     },
     "execution_count": 2,
     "metadata": {},
     "output_type": "execute_result"
    }
   ],
   "source": [
    "factors(15)"
   ]
  },
  {
   "cell_type": "markdown",
   "metadata": {
    "colab_type": "text",
    "id": "764RtSgo4ffR"
   },
   "source": [
    "2. Write a function that checks if a number is prime (returns True if it is, False otherwise) and test this function."
   ]
  },
  {
   "cell_type": "code",
   "execution_count": 3,
   "metadata": {},
   "outputs": [],
   "source": [
    "def prime_num(n):\n",
    "    for i in range(2,n):\n",
    "        if n%i == 0:\n",
    "            return False\n",
    "            break\n",
    "    else:\n",
    "        return True"
   ]
  },
  {
   "cell_type": "code",
   "execution_count": 4,
   "metadata": {},
   "outputs": [
    {
     "data": {
      "text/plain": [
       "True"
      ]
     },
     "execution_count": 4,
     "metadata": {},
     "output_type": "execute_result"
    }
   ],
   "source": [
    "prime_num(29)"
   ]
  },
  {
   "cell_type": "markdown",
   "metadata": {
    "colab_type": "text",
    "id": "90XGqiGI4ffe"
   },
   "source": [
    "3. Now print the <b>prime</b> factors of a given integer number (for example the prime factors of 13195 are 5, 7, 13 and 29).\n",
    "\n",
    "> - <b>Hint:</b> use the function above"
   ]
  },
  {
   "cell_type": "code",
   "execution_count": 5,
   "metadata": {},
   "outputs": [],
   "source": [
    "import numpy as np"
   ]
  },
  {
   "cell_type": "code",
   "execution_count": 6,
   "metadata": {
    "colab": {},
    "colab_type": "code",
    "id": "uUDjvjDe4ffg"
   },
   "outputs": [],
   "source": [
    "def prime_factors(n):\n",
    "    get_factors = factors(n)\n",
    "    \n",
    "    check_prime_list = []\n",
    "    for i in get_factors:\n",
    "        get_prime = prime_num(i)\n",
    "        check_prime_list.append(get_prime)\n",
    "        \n",
    "    factors_array = np.array([get_factors])\n",
    "    prime_factors_array = np.array([check_prime_list])\n",
    "    \n",
    "    return factors_array[prime_factors_array]"
   ]
  },
  {
   "cell_type": "code",
   "execution_count": 7,
   "metadata": {},
   "outputs": [
    {
     "data": {
      "text/plain": [
       "array([ 5,  7, 13, 29])"
      ]
     },
     "execution_count": 7,
     "metadata": {},
     "output_type": "execute_result"
    }
   ],
   "source": [
    "prime_factors(13195)"
   ]
  },
  {
   "cell_type": "markdown",
   "metadata": {
    "colab_type": "text",
    "id": "S9SzbSmL4ffl"
   },
   "source": [
    "## Exercise 2\n",
    "\n",
    "1. Take a list, say for example the one written below.\n",
    "Write a program that prints out all the elements of the list that are less than a threshold."
   ]
  },
  {
   "cell_type": "code",
   "execution_count": 8,
   "metadata": {
    "colab": {},
    "colab_type": "code",
    "id": "fwZw6PYK4ffm"
   },
   "outputs": [
    {
     "name": "stdout",
     "output_type": "stream",
     "text": [
      "1\n",
      "1\n",
      "2\n",
      "3\n"
     ]
    }
   ],
   "source": [
    "a_list = [1, 1, 2, 3, 5, 8, 13, 21, 34, 55, 89]\n",
    "a_threshold = 5\n",
    "\n",
    "for i in a_list:    \n",
    "    if i < a_threshold:\n",
    "        print(i)"
   ]
  },
  {
   "cell_type": "markdown",
   "metadata": {
    "colab_type": "text",
    "id": "dN3TTQM94fft"
   },
   "source": [
    "2. Instead of printing the elements one by one, store these numbers in a new list. Print out this new list."
   ]
  },
  {
   "cell_type": "code",
   "execution_count": 9,
   "metadata": {
    "colab": {},
    "colab_type": "code",
    "id": "eWSfrUI_4ffu"
   },
   "outputs": [
    {
     "data": {
      "text/plain": [
       "[1, 1, 2, 3]"
      ]
     },
     "execution_count": 9,
     "metadata": {},
     "output_type": "execute_result"
    }
   ],
   "source": [
    "less_than_thresh = []\n",
    "for i in a_list:    \n",
    "    if i < a_threshold:\n",
    "        less_than_thresh.append(i)\n",
    "\n",
    "less_than_thresh"
   ]
  },
  {
   "cell_type": "markdown",
   "metadata": {
    "colab_type": "text",
    "id": "cOiRQtbF4ffz"
   },
   "source": [
    "3. Build the list in one line of Python. \n",
    "\n",
    "> <b>Hint: </b>see list comprehension in tutorial 3."
   ]
  },
  {
   "cell_type": "code",
   "execution_count": 10,
   "metadata": {
    "colab": {},
    "colab_type": "code",
    "id": "FcVdkACN4ff1"
   },
   "outputs": [
    {
     "data": {
      "text/plain": [
       "[1, 1, 2, 3]"
      ]
     },
     "execution_count": 10,
     "metadata": {},
     "output_type": "execute_result"
    }
   ],
   "source": [
    "[i for i in a_list if i < a_threshold]"
   ]
  },
  {
   "cell_type": "markdown",
   "metadata": {
    "colab_type": "text",
    "id": "A46hOvBJ4ff6"
   },
   "source": [
    "4. Write this in a function taking the list and the threshold as arguments and returning the new list."
   ]
  },
  {
   "cell_type": "code",
   "execution_count": 11,
   "metadata": {
    "colab": {},
    "colab_type": "code",
    "id": "kojkvTzW4ff8"
   },
   "outputs": [],
   "source": [
    "def print_less_than_thresh(a_list, a_threshold):\n",
    "    less_than_thresh = []\n",
    "    for i in a_list:    \n",
    "        if i < a_threshold:\n",
    "            less_than_thresh.append(i)\n",
    "\n",
    "    return less_than_thresh"
   ]
  },
  {
   "cell_type": "code",
   "execution_count": 12,
   "metadata": {},
   "outputs": [
    {
     "data": {
      "text/plain": [
       "[1, 1, 2, 3]"
      ]
     },
     "execution_count": 12,
     "metadata": {},
     "output_type": "execute_result"
    }
   ],
   "source": [
    "print_less_than_thresh(a_list, a_threshold)"
   ]
  },
  {
   "cell_type": "markdown",
   "metadata": {
    "colab_type": "text",
    "id": "xkx1T9aa4fgB"
   },
   "source": [
    "5. Write a function similar to the one above but that prints only the <b>unique</b> elements of the filtered list.\n",
    "\n",
    "> <b>Hint:</b> use the <i>set</i> data structure."
   ]
  },
  {
   "cell_type": "code",
   "execution_count": 13,
   "metadata": {
    "colab": {},
    "colab_type": "code",
    "id": "e-xXIKe74fgD"
   },
   "outputs": [],
   "source": [
    "def print_less_than_thresh_unique(a_list, a_threshold):\n",
    "    return set(print_less_than_thresh(a_list, a_threshold))"
   ]
  },
  {
   "cell_type": "code",
   "execution_count": 14,
   "metadata": {},
   "outputs": [
    {
     "data": {
      "text/plain": [
       "{1, 2, 3}"
      ]
     },
     "execution_count": 14,
     "metadata": {},
     "output_type": "execute_result"
    }
   ],
   "source": [
    "print_less_than_thresh_unique(a_list, a_threshold)"
   ]
  },
  {
   "cell_type": "markdown",
   "metadata": {
    "colab_type": "text",
    "id": "TiKzd3t34fgI"
   },
   "source": [
    "6. Ask the user for a threshold and print a list that contains only elements from the original list `a_list` smaller than this threshold.\n",
    "\n",
    "> **Hint**: find online documentation about the method <i>input()</i>. Be careful about the variable type that the input method returns, which is a string. You should \"cast\" this variable into an integer or a float: `float(a_string)`"
   ]
  },
  {
   "cell_type": "code",
   "execution_count": 15,
   "metadata": {
    "colab": {},
    "colab_type": "code",
    "id": "NjMPRGis4fgK"
   },
   "outputs": [
    {
     "name": "stdout",
     "output_type": "stream",
     "text": [
      "threshold:7\n",
      "[1, 1, 2, 3, 5]\n"
     ]
    }
   ],
   "source": [
    "a_threshold = input('threshold:')\n",
    "a_threshold = float(a_threshold)\n",
    "print(print_less_than_thresh(a_list, a_threshold))"
   ]
  },
  {
   "cell_type": "markdown",
   "metadata": {
    "colab_type": "text",
    "id": "ZPPn65d04fgN"
   },
   "source": [
    "7. Now ask the user for the threshold and also the if he wants that the printed output contains all the elements or only the unique ones."
   ]
  },
  {
   "cell_type": "code",
   "execution_count": 16,
   "metadata": {
    "colab": {},
    "colab_type": "code",
    "id": "pXV_fOZR4fgP"
   },
   "outputs": [
    {
     "name": "stdout",
     "output_type": "stream",
     "text": [
      "threshold:7\n",
      "all elements or unique (all or unique):u\n",
      "{1, 2, 3, 5}\n"
     ]
    }
   ],
   "source": [
    "a_threshold = input('threshold:')\n",
    "output = input('all elements or unique (all or unique):')\n",
    "\n",
    "a_threshold = float(a_threshold)\n",
    "if output == 'all':\n",
    "    print(print_less_than_thresh(a_list, a_threshold))\n",
    "else:\n",
    "    print(print_less_than_thresh_unique(a_list, a_threshold))"
   ]
  },
  {
   "cell_type": "markdown",
   "metadata": {
    "colab_type": "text",
    "id": "KMFd1eVF4fgT"
   },
   "source": [
    "## Exercise 3"
   ]
  },
  {
   "cell_type": "markdown",
   "metadata": {
    "colab_type": "text",
    "id": "yf5IbwLJ4fgV"
   },
   "source": [
    "1. Build two dictionaries: \n",
    "    \n",
    "> - the first containing the number of fruits in your store: 4 apples, 10 bananas, 7 oranges and 8 pears (the keys are the fruits, the values the numbers).\n",
    "\n",
    "> - the second containing the price of each fruit: apples 3, banana, 4, orange 2.5, pear 3."
   ]
  },
  {
   "cell_type": "code",
   "execution_count": 17,
   "metadata": {
    "colab": {},
    "colab_type": "code",
    "id": "wvs8mkQl4fgX"
   },
   "outputs": [],
   "source": [
    "fruits_stock_dict = {'apple': 4, 'banana': 10, 'orange': 7, 'pear': 8}\n",
    "fruits_price_dict = {'apple': 3, 'banana': 4, 'orange': 2.5, 'pear': 3}"
   ]
  },
  {
   "cell_type": "markdown",
   "metadata": {
    "colab_type": "text",
    "id": "IzrIyqdt4fgc"
   },
   "source": [
    "2. Write a funtion that takes the fruit name as an argument and prints out its price and its amount in the stock (looking at the values of the two dictionaries created)."
   ]
  },
  {
   "cell_type": "code",
   "execution_count": 18,
   "metadata": {
    "colab": {},
    "colab_type": "code",
    "id": "HbhYq7xQ4fgd"
   },
   "outputs": [],
   "source": [
    "def fruit_price_stock(fruit_name):\n",
    "    print('price of {}: {}'.format(fruit_name, fruits_price_dict[fruit_name]))\n",
    "    print('amount in stock of {}: {}'.format(fruit_name, fruits_stock_dict[fruit_name]))"
   ]
  },
  {
   "cell_type": "code",
   "execution_count": 19,
   "metadata": {},
   "outputs": [
    {
     "name": "stdout",
     "output_type": "stream",
     "text": [
      "price of banana: 4\n",
      "amount in stock of banana: 10\n"
     ]
    }
   ],
   "source": [
    "fruit_price_stock('banana')"
   ]
  },
  {
   "cell_type": "markdown",
   "metadata": {
    "colab_type": "text",
    "id": "Pwu8varPWCa1"
   },
   "source": [
    "3. Try now to pass a fruit that is not preset in your dictionaries to the function above, e.g. cherry (or whatever random string). Your function will print an error!\n",
    "Manage this error: write again the function, but now, before printing the fruit information, check if the fruit name is contained in the dictionary.\n",
    "If it is not, warn the user by printing a message saying it.\n",
    "\n",
    "> <b>Hint:</b> use the `'in'` statement to check if a key is contained by the dictionary"
   ]
  },
  {
   "cell_type": "code",
   "execution_count": 20,
   "metadata": {
    "colab": {},
    "colab_type": "code",
    "id": "AsoCQxs4XAB1"
   },
   "outputs": [],
   "source": [
    "def fruit_price_stock(fruit_name):\n",
    "    if fruit_name in fruits_price_dict.keys():        \n",
    "        print('price of {}: {}'.format(fruit_name, fruits_price_dict[fruit_name]))\n",
    "        print('amount in stock of {}: {}'.format(fruit_name, fruits_stock_dict[fruit_name]))\n",
    "    else:\n",
    "        print('invalid fruit')"
   ]
  },
  {
   "cell_type": "code",
   "execution_count": 21,
   "metadata": {},
   "outputs": [
    {
     "name": "stdout",
     "output_type": "stream",
     "text": [
      "invalid fruit\n"
     ]
    }
   ],
   "source": [
    "fruit_price_stock('cherry')"
   ]
  },
  {
   "cell_type": "markdown",
   "metadata": {
    "colab_type": "text",
    "id": "UU0AL_1W4fgg"
   },
   "source": [
    "4. Compute the total amount of capital in your shop: the price of each fruit times the amount of them in the stock.\n",
    "\n",
    "> <b>Hint:</b> iterating over the keys of a dictionary can be simply done by \"for key in dictionary\"."
   ]
  },
  {
   "cell_type": "code",
   "execution_count": 22,
   "metadata": {
    "colab": {},
    "colab_type": "code",
    "id": "ZFSPmvlT4fgj"
   },
   "outputs": [
    {
     "data": {
      "text/plain": [
       "93.5"
      ]
     },
     "execution_count": 22,
     "metadata": {},
     "output_type": "execute_result"
    }
   ],
   "source": [
    "total_sum = 0\n",
    "for key in fruits_price_dict:\n",
    "    one_fruit = fruits_price_dict[key] * fruits_stock_dict[key]\n",
    "    total_sum += one_fruit\n",
    "    \n",
    "total_sum"
   ]
  },
  {
   "cell_type": "markdown",
   "metadata": {
    "colab_type": "text",
    "id": "KgFyKd9m4fgn"
   },
   "source": [
    "5. Write a function that takes a fruit as argument and decreases of one unit the amount of it in the stock. Again manage the exception that the string is not present in the dictionary and point it out to the user. Also you have to manage the case that a fruit is over: the counter cannot go below zero, and the user has to know that the fruit is out of stock."
   ]
  },
  {
   "cell_type": "code",
   "execution_count": 23,
   "metadata": {
    "colab": {},
    "colab_type": "code",
    "id": "zUH9VdLI4fgo"
   },
   "outputs": [],
   "source": [
    "def decrease_stock(fruit_name):\n",
    "    if fruit_name not in fruits_stock_dict.keys():\n",
    "        print('invalid fruit')\n",
    "    else:\n",
    "        if fruits_stock_dict[fruit_name] > 0:\n",
    "            fruits_stock_dict[fruit_name] -= 1\n",
    "            return fruits_stock_dict\n",
    "        else: \n",
    "            print('fruit is not in stock')        "
   ]
  },
  {
   "cell_type": "code",
   "execution_count": 24,
   "metadata": {},
   "outputs": [
    {
     "name": "stdout",
     "output_type": "stream",
     "text": [
      "invalid fruit\n"
     ]
    }
   ],
   "source": [
    "decrease_stock('cherry')"
   ]
  },
  {
   "cell_type": "code",
   "execution_count": 25,
   "metadata": {},
   "outputs": [
    {
     "data": {
      "text/plain": [
       "{'apple': 4, 'banana': 9, 'orange': 7, 'pear': 8}"
      ]
     },
     "execution_count": 25,
     "metadata": {},
     "output_type": "execute_result"
    }
   ],
   "source": [
    "decrease_stock('banana')"
   ]
  },
  {
   "cell_type": "markdown",
   "metadata": {
    "colab_type": "text",
    "id": "WvuSxeBE4fgt"
   },
   "source": [
    "5. Given a shopping list (written as a new dictionary below) compute the total amount of money that you have to spend for it and remove the bought fruits from the stock. If there are not enough fruits in stock the user has to be informed. The total cost refers only to the fruit that can be bought."
   ]
  },
  {
   "cell_type": "code",
   "execution_count": 26,
   "metadata": {},
   "outputs": [],
   "source": [
    "fruits_stock_dict = {'apple': 4, 'banana': 10, 'orange': 7, 'pear': 8}\n",
    "fruits_price_dict = {'apple': 3, 'banana': 4, 'orange': 2.5, 'pear': 3}"
   ]
  },
  {
   "cell_type": "code",
   "execution_count": 27,
   "metadata": {
    "colab": {},
    "colab_type": "code",
    "id": "N3IN4ZCW4fgu"
   },
   "outputs": [
    {
     "name": "stdout",
     "output_type": "stream",
     "text": [
      "total price: 28.0\n",
      "fruits left in stock: {'apple': 2, 'banana': 7, 'orange': 3, 'pear': 8}\n"
     ]
    }
   ],
   "source": [
    "shopping_list = {'apple' : 2, 'banana' : 3, 'orange' : 4}\n",
    "fruits_left = fruits_stock_dict.copy()\n",
    "\n",
    "total = 0\n",
    "# Iterate over keys and values:\n",
    "for key, value in shopping_list.items():\n",
    "    one_fruit = value * fruits_price_dict[key]\n",
    "    total += one_fruit\n",
    "    \n",
    "    fruits_left[key] = fruits_stock_dict.get(key,0) - value\n",
    "        \n",
    "print('total price:', total)\n",
    "print('fruits left in stock:', fruits_left)"
   ]
  },
  {
   "cell_type": "code",
   "execution_count": null,
   "metadata": {},
   "outputs": [],
   "source": []
  }
 ],
 "metadata": {
  "colab": {
   "collapsed_sections": [],
   "name": "5 - Exercises on the Python basics.ipynb",
   "provenance": []
  },
  "kernelspec": {
   "display_name": "Python 3",
   "language": "python",
   "name": "python3"
  },
  "language_info": {
   "codemirror_mode": {
    "name": "ipython",
    "version": 3
   },
   "file_extension": ".py",
   "mimetype": "text/x-python",
   "name": "python",
   "nbconvert_exporter": "python",
   "pygments_lexer": "ipython3",
   "version": "3.8.8"
  }
 },
 "nbformat": 4,
 "nbformat_minor": 1
}
