{
 "cells": [
  {
   "cell_type": "markdown",
   "metadata": {
    "id": "mV8nnS-44Xhx"
   },
   "source": [
    "# E1S - Exercises on the Python basics, solutions"
   ]
  },
  {
   "cell_type": "markdown",
   "metadata": {
    "id": "KKYAbN2u4Xh2"
   },
   "source": [
    "## Exercise 1\n",
    "\n",
    "1. Print the factors of a given number."
   ]
  },
  {
   "cell_type": "code",
   "execution_count": null,
   "metadata": {
    "colab": {
     "base_uri": "https://localhost:8080/",
     "height": 54
    },
    "executionInfo": {
     "elapsed": 1189,
     "status": "ok",
     "timestamp": 1601372997655,
     "user": {
      "displayName": "Andrea Mazzolini",
      "photoUrl": "https://lh3.googleusercontent.com/a-/AOh14Gj889rV0hCKG0LInS5OJdlv_nS9Mv4fKmWQb2ax=s64",
      "userId": "17503038082596243982"
     },
     "user_tz": -120
    },
    "id": "sXaphnER4Xh5",
    "outputId": "a8c74718-1489-4741-f810-dec72d52e00e"
   },
   "outputs": [
    {
     "name": "stdout",
     "output_type": "stream",
     "text": [
      "3\n",
      "71\n"
     ]
    }
   ],
   "source": [
    "n = 213\n",
    "\n",
    "# This is for finding the non-trivial factors. 1 and the number itself are always factors.\n",
    "for i in range(2, int(n/2)+1):\n",
    "  if n % i == 0:\n",
    "    print(i)"
   ]
  },
  {
   "cell_type": "markdown",
   "metadata": {
    "id": "4VTmSnKJ4XiE"
   },
   "source": [
    "2. Write a function that checks if a number is prime (returns true if it is, false otherwise)."
   ]
  },
  {
   "cell_type": "code",
   "execution_count": null,
   "metadata": {
    "colab": {
     "base_uri": "https://localhost:8080/",
     "height": 35
    },
    "executionInfo": {
     "elapsed": 856,
     "status": "ok",
     "timestamp": 1601372980514,
     "user": {
      "displayName": "Andrea Mazzolini",
      "photoUrl": "https://lh3.googleusercontent.com/a-/AOh14Gj889rV0hCKG0LInS5OJdlv_nS9Mv4fKmWQb2ax=s64",
      "userId": "17503038082596243982"
     },
     "user_tz": -120
    },
    "id": "PJkasOir4XiI",
    "outputId": "e1e5473f-f210-4d0a-d81c-7bb28b12ba2d"
   },
   "outputs": [
    {
     "data": {
      "text/plain": [
       "False"
      ]
     },
     "execution_count": 4,
     "metadata": {
      "tags": []
     },
     "output_type": "execute_result"
    }
   ],
   "source": [
    "def check_if_prime(n):\n",
    "  if n==1:\n",
    "    return False\n",
    "    \n",
    "  for i in range(2,n):\n",
    "      if n % i == 0:\n",
    "        return False\n",
    "  return True\n",
    "\n",
    "check_if_prime(213)"
   ]
  },
  {
   "cell_type": "code",
   "execution_count": 3,
   "metadata": {
    "colab": {
     "base_uri": "https://localhost:8080/",
     "height": 73
    },
    "executionInfo": {
     "elapsed": 1002,
     "status": "ok",
     "timestamp": 1601901968695,
     "user": {
      "displayName": "Andrea Mazzolini",
      "photoUrl": "https://lh3.googleusercontent.com/a-/AOh14Gj889rV0hCKG0LInS5OJdlv_nS9Mv4fKmWQb2ax=s64",
      "userId": "17503038082596243982"
     },
     "user_tz": -120
    },
    "id": "0mnaMjWhy7b3",
    "outputId": "1e7eee5e-ff43-4405-e58c-0084d9be7e25"
   },
   "outputs": [
    {
     "name": "stdout",
     "output_type": "stream",
     "text": [
      "3\n",
      "6\n",
      "9\n"
     ]
    }
   ],
   "source": [
    "for i in range(3,10,3):\n",
    "  print(i)"
   ]
  },
  {
   "cell_type": "markdown",
   "metadata": {
    "id": "GKOWiH7y4XiQ"
   },
   "source": [
    "3. Print the <b>prime</b> factors of a given number (for example the prime factors of 13195 are 5, 7, 13 and 29)."
   ]
  },
  {
   "cell_type": "code",
   "execution_count": null,
   "metadata": {
    "colab": {
     "base_uri": "https://localhost:8080/",
     "height": 88
    },
    "executionInfo": {
     "elapsed": 537,
     "status": "ok",
     "timestamp": 1569230361029,
     "user": {
      "displayName": "Andrea Mazzolini",
      "photoUrl": "https://lh3.googleusercontent.com/a-/AAuE7mARm6YUMjM1WqoWB9DeJSCtXhxEjR6a9chPFNuT=s64",
      "userId": "17503038082596243982"
     },
     "user_tz": -120
    },
    "id": "F6hlH7WA4XiS",
    "outputId": "ed261125-3ad0-4179-8d82-1df97d5e0bc1"
   },
   "outputs": [
    {
     "name": "stdout",
     "output_type": "stream",
     "text": [
      "5\n",
      "7\n",
      "13\n",
      "29\n"
     ]
    }
   ],
   "source": [
    "n = 13195\n",
    "\n",
    "for i in range(2, int(n/2)+1):\n",
    "  if n % i == 0:\n",
    "    if check_if_prime(i):\n",
    "      print(i)"
   ]
  },
  {
   "cell_type": "markdown",
   "metadata": {
    "id": "YHWiXXYo4XiY"
   },
   "source": [
    "## Exercise 2\n",
    "\n",
    "1. Take a list, say for example the one written below.\n",
    "Write a program that prints out all the elements of the list that are less than a threshold."
   ]
  },
  {
   "cell_type": "code",
   "execution_count": null,
   "metadata": {
    "colab": {
     "base_uri": "https://localhost:8080/",
     "height": 90
    },
    "executionInfo": {
     "elapsed": 604,
     "status": "ok",
     "timestamp": 1599813483207,
     "user": {
      "displayName": "Andrea Mazzolini",
      "photoUrl": "https://lh3.googleusercontent.com/a-/AOh14Gj889rV0hCKG0LInS5OJdlv_nS9Mv4fKmWQb2ax=s64",
      "userId": "17503038082596243982"
     },
     "user_tz": -120
    },
    "id": "7or-9QdP4XiZ",
    "outputId": "48b69cce-bb3e-41e6-940e-7038e96bbb8b"
   },
   "outputs": [
    {
     "name": "stdout",
     "output_type": "stream",
     "text": [
      "1\n",
      "1\n",
      "2\n",
      "3\n"
     ]
    }
   ],
   "source": [
    "a_list = [1, 1, 2, 3, 5, 8, 13, 21, 34, 55, 89]\n",
    "a_threshold = 5\n",
    "\n",
    "for element in a_list:\n",
    "    if element < a_threshold:\n",
    "        print(element)"
   ]
  },
  {
   "cell_type": "markdown",
   "metadata": {
    "id": "kLOPDdHK4Xig"
   },
   "source": [
    "2. Instead of printing the elements one by one, store these numbers in a new list. Print out this new list."
   ]
  },
  {
   "cell_type": "code",
   "execution_count": null,
   "metadata": {
    "colab": {
     "base_uri": "https://localhost:8080/",
     "height": 35
    },
    "executionInfo": {
     "elapsed": 503,
     "status": "ok",
     "timestamp": 1599813488040,
     "user": {
      "displayName": "Andrea Mazzolini",
      "photoUrl": "https://lh3.googleusercontent.com/a-/AOh14Gj889rV0hCKG0LInS5OJdlv_nS9Mv4fKmWQb2ax=s64",
      "userId": "17503038082596243982"
     },
     "user_tz": -120
    },
    "id": "Pl7zjd8u4Xik",
    "outputId": "8d33c68a-70d4-414d-e115-d8f46205482d"
   },
   "outputs": [
    {
     "name": "stdout",
     "output_type": "stream",
     "text": [
      "[1, 1, 2, 3]\n"
     ]
    }
   ],
   "source": [
    "new_list = []\n",
    "for element in a_list:\n",
    "  if element < a_threshold:\n",
    "    new_list.append(element)\n",
    "        \n",
    "print(new_list)"
   ]
  },
  {
   "cell_type": "markdown",
   "metadata": {
    "id": "vqqy-ar24Xip"
   },
   "source": [
    "3. Write this in one line of Python. "
   ]
  },
  {
   "cell_type": "code",
   "execution_count": null,
   "metadata": {
    "colab": {
     "base_uri": "https://localhost:8080/",
     "height": 35
    },
    "executionInfo": {
     "elapsed": 766,
     "status": "ok",
     "timestamp": 1599813510159,
     "user": {
      "displayName": "Andrea Mazzolini",
      "photoUrl": "https://lh3.googleusercontent.com/a-/AOh14Gj889rV0hCKG0LInS5OJdlv_nS9Mv4fKmWQb2ax=s64",
      "userId": "17503038082596243982"
     },
     "user_tz": -120
    },
    "id": "X6Kv2PLF4Xir",
    "outputId": "87f26f46-9cdb-457a-d21f-6673b0017268"
   },
   "outputs": [
    {
     "name": "stdout",
     "output_type": "stream",
     "text": [
      "[1, 1, 2, 3]\n"
     ]
    }
   ],
   "source": [
    "new_list = [element for element in a_list if element < a_threshold]\n",
    "print(new_list)"
   ]
  },
  {
   "cell_type": "markdown",
   "metadata": {
    "id": "-LY6AUqz4Xiy"
   },
   "source": [
    "4. Write this in a function taking the list and the threshold as arguments and returning the new list."
   ]
  },
  {
   "cell_type": "code",
   "execution_count": null,
   "metadata": {
    "colab": {
     "base_uri": "https://localhost:8080/",
     "height": 35
    },
    "executionInfo": {
     "elapsed": 508,
     "status": "ok",
     "timestamp": 1599813531464,
     "user": {
      "displayName": "Andrea Mazzolini",
      "photoUrl": "https://lh3.googleusercontent.com/a-/AOh14Gj889rV0hCKG0LInS5OJdlv_nS9Mv4fKmWQb2ax=s64",
      "userId": "17503038082596243982"
     },
     "user_tz": -120
    },
    "id": "XPObAL3_4Xi1",
    "outputId": "b18df55f-a8ac-4242-c6e1-96acb6ed7155"
   },
   "outputs": [
    {
     "name": "stdout",
     "output_type": "stream",
     "text": [
      "[1, 1, 2, 3]\n"
     ]
    }
   ],
   "source": [
    "def list_filter(lst, thrsld):\n",
    "  return [element for element in lst if element < thrsld]\n",
    "\n",
    "print(list_filter(a_list, a_threshold))"
   ]
  },
  {
   "cell_type": "markdown",
   "metadata": {
    "id": "2R01U3q04Xi6"
   },
   "source": [
    "5. Write a function similar to the one above but that prints only the <b>unique</b> elements of the filtered list."
   ]
  },
  {
   "cell_type": "code",
   "execution_count": null,
   "metadata": {
    "colab": {
     "base_uri": "https://localhost:8080/",
     "height": 35
    },
    "executionInfo": {
     "elapsed": 537,
     "status": "ok",
     "timestamp": 1599813532246,
     "user": {
      "displayName": "Andrea Mazzolini",
      "photoUrl": "https://lh3.googleusercontent.com/a-/AOh14Gj889rV0hCKG0LInS5OJdlv_nS9Mv4fKmWQb2ax=s64",
      "userId": "17503038082596243982"
     },
     "user_tz": -120
    },
    "id": "xFxleqi-4Xi7",
    "outputId": "3c16c43b-ea29-424d-ccb0-4e03e846d27b"
   },
   "outputs": [
    {
     "name": "stdout",
     "output_type": "stream",
     "text": [
      "{1, 2, 3}\n"
     ]
    }
   ],
   "source": [
    "def list_filter_unique(lst, thrsld):\n",
    "  return set(list_filter(lst, thrsld))\n",
    "\n",
    "print(list_filter_unique(a_list, a_threshold))"
   ]
  },
  {
   "cell_type": "code",
   "execution_count": 7,
   "metadata": {
    "executionInfo": {
     "elapsed": 552,
     "status": "ok",
     "timestamp": 1601902340958,
     "user": {
      "displayName": "Andrea Mazzolini",
      "photoUrl": "https://lh3.googleusercontent.com/a-/AOh14Gj889rV0hCKG0LInS5OJdlv_nS9Mv4fKmWQb2ax=s64",
      "userId": "17503038082596243982"
     },
     "user_tz": -120
    },
    "id": "6p7N6cXhzuvs"
   },
   "outputs": [],
   "source": [
    "l = [1,2,3]\n",
    "t = (1,2,3)\n",
    "s = set(l)"
   ]
  },
  {
   "cell_type": "markdown",
   "metadata": {
    "id": "WSrGBoRF4XjC"
   },
   "source": [
    "6. Ask the user for a number and return a list that contains only elements from the original list a that are smaller than that number given by the user."
   ]
  },
  {
   "cell_type": "code",
   "execution_count": null,
   "metadata": {
    "colab": {
     "base_uri": "https://localhost:8080/",
     "height": 54
    },
    "executionInfo": {
     "elapsed": 2771,
     "status": "ok",
     "timestamp": 1599813637806,
     "user": {
      "displayName": "Andrea Mazzolini",
      "photoUrl": "https://lh3.googleusercontent.com/a-/AOh14Gj889rV0hCKG0LInS5OJdlv_nS9Mv4fKmWQb2ax=s64",
      "userId": "17503038082596243982"
     },
     "user_tz": -120
    },
    "id": "9cCnZNr44XjE",
    "outputId": "a8d67aa9-be9e-4f1c-da37-cf5c495d4faa"
   },
   "outputs": [
    {
     "name": "stdout",
     "output_type": "stream",
     "text": [
      "Insert threshold 5\n",
      "[1, 1, 2, 3]\n"
     ]
    }
   ],
   "source": [
    "th = input(\"Insert threshold \")\n",
    "\n",
    "print(list_filter(a_list, float(th)))"
   ]
  },
  {
   "cell_type": "markdown",
   "metadata": {
    "id": "cTdPUnW14XjJ"
   },
   "source": [
    "7. Now ask the user for the threshold and also the if he wants that the output contains all the elements or only the unique ones."
   ]
  },
  {
   "cell_type": "code",
   "execution_count": null,
   "metadata": {
    "colab": {
     "base_uri": "https://localhost:8080/",
     "height": 72
    },
    "executionInfo": {
     "elapsed": 3615,
     "status": "ok",
     "timestamp": 1599814280874,
     "user": {
      "displayName": "Andrea Mazzolini",
      "photoUrl": "https://lh3.googleusercontent.com/a-/AOh14Gj889rV0hCKG0LInS5OJdlv_nS9Mv4fKmWQb2ax=s64",
      "userId": "17503038082596243982"
     },
     "user_tz": -120
    },
    "id": "rxzjsK0v4XjL",
    "outputId": "cbc077e7-302c-45d0-9fea-e379df75abab"
   },
   "outputs": [
    {
     "name": "stdout",
     "output_type": "stream",
     "text": [
      "Insert the threshold 5\n",
      "Type u if you want that only the unique elements are printed u\n",
      "{1, 2, 3}\n"
     ]
    }
   ],
   "source": [
    "n = int(input('Insert the threshold '))\n",
    "is_unique = input('Type u if you want that only the unique elements are printed ')\n",
    "if is_unique == 'u':\n",
    "  print (list_filter_unique(a_list, n))\n",
    "else:\n",
    "  print (list_filter(a_list, n))"
   ]
  },
  {
   "cell_type": "markdown",
   "metadata": {
    "id": "4GKPewNY4XjQ"
   },
   "source": [
    "## Exercise 3"
   ]
  },
  {
   "cell_type": "markdown",
   "metadata": {
    "id": "QrNIqgiS4XjS"
   },
   "source": [
    "1. Build two dictionaries: \n",
    "    \n",
    "> - the first containing the number of fruits in your store: 4 apples, 10 bananas, 7 oranges and 8 pears (the keys are the fruits).\n",
    "\n",
    "> - the second containing the price of each fruit: apples 3, banana, 4, orange 2.5, pear 3."
   ]
  },
  {
   "cell_type": "code",
   "execution_count": 10,
   "metadata": {
    "colab": {
     "base_uri": "https://localhost:8080/",
     "height": 36
    },
    "executionInfo": {
     "elapsed": 500,
     "status": "ok",
     "timestamp": 1601902456174,
     "user": {
      "displayName": "Andrea Mazzolini",
      "photoUrl": "https://lh3.googleusercontent.com/a-/AOh14Gj889rV0hCKG0LInS5OJdlv_nS9Mv4fKmWQb2ax=s64",
      "userId": "17503038082596243982"
     },
     "user_tz": -120
    },
    "id": "4adVlpY-4XjT",
    "outputId": "587ee144-aeec-4d08-b9b6-e46b7071cab2"
   },
   "outputs": [
    {
     "data": {
      "text/plain": [
       "4"
      ]
     },
     "execution_count": 10,
     "metadata": {
      "tags": []
     },
     "output_type": "execute_result"
    }
   ],
   "source": [
    "stock = {'apple' : 4, 'banana' : 10, 'orange' : 7, 'pear' : 8}\n",
    "\n",
    "price = {'apple' : 3, 'banana' : 4, 'orange' : 2.5, 'pear' : 3}"
   ]
  },
  {
   "cell_type": "markdown",
   "metadata": {
    "id": "_rT98jQO4XjZ"
   },
   "source": [
    "2/3. Write a funtion that takes a fruit as an argument and prints out its price and its amount in the stock (looking at the values of the two dictionaries created). Check also if the string passed to the function is a key of the dicitionary (i.e. one of the four fruits). If it is not, print a message saying it."
   ]
  },
  {
   "cell_type": "code",
   "execution_count": null,
   "metadata": {
    "colab": {
     "base_uri": "https://localhost:8080/",
     "height": 35
    },
    "executionInfo": {
     "elapsed": 747,
     "status": "ok",
     "timestamp": 1601373234456,
     "user": {
      "displayName": "Andrea Mazzolini",
      "photoUrl": "https://lh3.googleusercontent.com/a-/AOh14Gj889rV0hCKG0LInS5OJdlv_nS9Mv4fKmWQb2ax=s64",
      "userId": "17503038082596243982"
     },
     "user_tz": -120
    },
    "id": "6O8TXZWz4Xjb",
    "outputId": "2c82db53-bb35-43fa-b117-c6ee328080f9"
   },
   "outputs": [
    {
     "name": "stdout",
     "output_type": "stream",
     "text": [
      "Invalid fruit\n"
     ]
    }
   ],
   "source": [
    "def print_info(fruit):\n",
    "  if fruit in stock:\n",
    "    print('The ' + fruit + ' costs ' + str(price[fruit]) + ' ' \\\n",
    "          'and there are ' + str(stock[fruit]) + ' of it in the stock.')\n",
    "  else:\n",
    "    print('Invalid fruit')\n",
    "        \n",
    "print_info('asd')"
   ]
  },
  {
   "cell_type": "code",
   "execution_count": null,
   "metadata": {
    "colab": {
     "base_uri": "https://localhost:8080/",
     "height": 35
    },
    "executionInfo": {
     "elapsed": 351,
     "status": "ok",
     "timestamp": 1601373234459,
     "user": {
      "displayName": "Andrea Mazzolini",
      "photoUrl": "https://lh3.googleusercontent.com/a-/AOh14Gj889rV0hCKG0LInS5OJdlv_nS9Mv4fKmWQb2ax=s64",
      "userId": "17503038082596243982"
     },
     "user_tz": -120
    },
    "id": "k3TJB47CRhs_",
    "outputId": "64591eb5-0058-47f8-8913-cdc83e5aa73b"
   },
   "outputs": [
    {
     "name": "stdout",
     "output_type": "stream",
     "text": [
      "Invalid fruit\n"
     ]
    }
   ],
   "source": [
    "def print_info(fruit):\n",
    "  try:\n",
    "    print('The ' + fruit + ' costs ' + str(price[fruit]) + ' ' \\\n",
    "          'and there are ' + str(stock[fruit]) + ' of it in the stock.')\n",
    "  except KeyError:\n",
    "    print('Invalid fruit')\n",
    "        \n",
    "print_info('cherry')"
   ]
  },
  {
   "cell_type": "code",
   "execution_count": 12,
   "metadata": {
    "colab": {
     "base_uri": "https://localhost:8080/",
     "height": 36
    },
    "executionInfo": {
     "elapsed": 472,
     "status": "ok",
     "timestamp": 1601902631205,
     "user": {
      "displayName": "Andrea Mazzolini",
      "photoUrl": "https://lh3.googleusercontent.com/a-/AOh14Gj889rV0hCKG0LInS5OJdlv_nS9Mv4fKmWQb2ax=s64",
      "userId": "17503038082596243982"
     },
     "user_tz": -120
    },
    "id": "ePGFhJ_a1PsA",
    "outputId": "07a7ad2f-8037-4c55-c1af-af52d4139f39"
   },
   "outputs": [
    {
     "name": "stdout",
     "output_type": "stream",
     "text": [
      "no fruit\n"
     ]
    }
   ],
   "source": [
    "try:\n",
    "  s = stock['cherry']\n",
    "except KeyError:\n",
    "  print('no fruit')"
   ]
  },
  {
   "cell_type": "markdown",
   "metadata": {
    "id": "TjtmQrju4Xjm"
   },
   "source": [
    "4. Compute the total amount of capital in your shop: the price of each fruit times the amount of them in the stock"
   ]
  },
  {
   "cell_type": "code",
   "execution_count": null,
   "metadata": {
    "colab": {
     "base_uri": "https://localhost:8080/",
     "height": 35
    },
    "executionInfo": {
     "elapsed": 358,
     "status": "ok",
     "timestamp": 1601373235342,
     "user": {
      "displayName": "Andrea Mazzolini",
      "photoUrl": "https://lh3.googleusercontent.com/a-/AOh14Gj889rV0hCKG0LInS5OJdlv_nS9Mv4fKmWQb2ax=s64",
      "userId": "17503038082596243982"
     },
     "user_tz": -120
    },
    "id": "CMuv7H7u4Xjn",
    "outputId": "6e2298fb-2e83-4069-8bfa-b4a253e17a4f"
   },
   "outputs": [
    {
     "name": "stdout",
     "output_type": "stream",
     "text": [
      "93.5\n"
     ]
    }
   ],
   "source": [
    "total = 0\n",
    "for fruit in stock:\n",
    "  total += stock[fruit] * price[fruit]\n",
    "    \n",
    "print(total)"
   ]
  },
  {
   "cell_type": "markdown",
   "metadata": {
    "id": "vVC_YrNg4Xjr"
   },
   "source": [
    "5. Write a function that takes a fruit as argument and decreases of one unit the amount of it in the stock. Again manage the exception that the string is not present in the dictionary and point it out to the user. Also you have to manage the case that a fruit is over: the counter cannot go below zero, and the user has to know the it is out of stock."
   ]
  },
  {
   "cell_type": "code",
   "execution_count": null,
   "metadata": {
    "colab": {
     "base_uri": "https://localhost:8080/",
     "height": 35
    },
    "executionInfo": {
     "elapsed": 486,
     "status": "ok",
     "timestamp": 1601373236976,
     "user": {
      "displayName": "Andrea Mazzolini",
      "photoUrl": "https://lh3.googleusercontent.com/a-/AOh14Gj889rV0hCKG0LInS5OJdlv_nS9Mv4fKmWQb2ax=s64",
      "userId": "17503038082596243982"
     },
     "user_tz": -120
    },
    "id": "JsezbJOT4Xjs",
    "outputId": "9840461a-ea7c-40b8-9bdc-470139d81b6e"
   },
   "outputs": [
    {
     "name": "stdout",
     "output_type": "stream",
     "text": [
      "{'apple': 3, 'banana': 10, 'orange': 7, 'pear': 8}\n"
     ]
    }
   ],
   "source": [
    "def decrease_amount(fruit):\n",
    "  if fruit not in stock:\n",
    "    print('Invalid fruit')\n",
    "    return False\n",
    "  else:\n",
    "    if stock[fruit] > 0:\n",
    "      stock[fruit] -= 1\n",
    "      return True\n",
    "    else:\n",
    "      print('The ' + fruit + ' is out of stock.')\n",
    "      return False\n",
    "            \n",
    "decrease_amount('apple')\n",
    "print(stock)"
   ]
  },
  {
   "cell_type": "markdown",
   "metadata": {
    "id": "Q68PGBA14Xjx"
   },
   "source": [
    "5. Given a shopping list (written as a new dictionary below) compute the total amount of money that you have to spend for it and remove the bought fruits from the stock. If there are not enough fruits in stock the user has to be informed. The total cost refers only to the fruit that can be bought."
   ]
  },
  {
   "cell_type": "code",
   "execution_count": null,
   "metadata": {
    "colab": {
     "base_uri": "https://localhost:8080/",
     "height": 109
    },
    "executionInfo": {
     "elapsed": 481,
     "status": "ok",
     "timestamp": 1601373252258,
     "user": {
      "displayName": "Andrea Mazzolini",
      "photoUrl": "https://lh3.googleusercontent.com/a-/AOh14Gj889rV0hCKG0LInS5OJdlv_nS9Mv4fKmWQb2ax=s64",
      "userId": "17503038082596243982"
     },
     "user_tz": -120
    },
    "id": "Yr29rqmN4Xjz",
    "outputId": "25eb4af5-180b-494c-8a5e-70507a7e1ec3"
   },
   "outputs": [
    {
     "name": "stdout",
     "output_type": "stream",
     "text": [
      "{'apple': 1, 'banana': 7, 'orange': 3, 'pear': 8}\n",
      "The apple is out of stock.\n",
      "The orange is out of stock.\n",
      "Total price 22.5\n",
      "{'apple': 0, 'banana': 4, 'orange': 0, 'pear': 8}\n"
     ]
    }
   ],
   "source": [
    "shopping_list = {'apple' : 2, 'banana' : 3, 'orange' : 4}\n",
    "\n",
    "print(stock)\n",
    "\n",
    "total = 0\n",
    "for fruit, amount in shopping_list.items():\n",
    "  for i in range(amount):\n",
    "    if not decrease_amount(fruit):\n",
    "      break\n",
    "    total += price[fruit]\n",
    "\n",
    "print('Total price', total)\n",
    "print(stock)"
   ]
  },
  {
   "cell_type": "code",
   "execution_count": null,
   "metadata": {
    "id": "mPLAtoVq4Xj2"
   },
   "outputs": [],
   "source": []
  }
 ],
 "metadata": {
  "colab": {
   "collapsed_sections": [],
   "name": "5 - Solutions of Python basics.ipynb",
   "provenance": []
  },
  "kernelspec": {
   "display_name": "Python 3",
   "language": "python",
   "name": "python3"
  },
  "language_info": {
   "codemirror_mode": {
    "name": "ipython",
    "version": 3
   },
   "file_extension": ".py",
   "mimetype": "text/x-python",
   "name": "python",
   "nbconvert_exporter": "python",
   "pygments_lexer": "ipython3",
   "version": "3.8.8"
  }
 },
 "nbformat": 4,
 "nbformat_minor": 1
}
