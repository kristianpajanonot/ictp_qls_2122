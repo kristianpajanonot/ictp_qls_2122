{
 "cells": [
  {
   "cell_type": "markdown",
   "metadata": {
    "colab_type": "text",
    "id": "EED9ttNrffg7"
   },
   "source": [
    "# 1 - Getting started\n",
    "\n",
    "<b>Summary</b>:\n",
    "> * Getting started with Colab\n",
    "> * Numbers and basic Python operations\n",
    ">> * Variables\n",
    ">> * The four operations\n",
    ">> * Integers and floating points\n",
    ">> * Power\n",
    ">> * Complex numbers\n",
    "> * Strings\n",
    ">> * Quotes\n",
    ">> * Concatenate strings\n",
    ">> * Indexing\n",
    ">> * Slicing\n",
    ">> * Including external variables in a string"
   ]
  },
  {
   "cell_type": "markdown",
   "metadata": {
    "colab_type": "text",
    "id": "mGyK1XaGffhB"
   },
   "source": [
    "For more information about working with Colaboratory notebooks, see [Overview of Colaboratory](/notebooks/basic_features_overview.ipynb).\n",
    "\n",
    "For a basic Python tutorial see: https://docs.python.org/3/tutorial/introduction.html"
   ]
  },
  {
   "cell_type": "markdown",
   "metadata": {
    "colab_type": "text",
    "id": "mei3WVMbflD9"
   },
   "source": [
    "## Getting started with Colab\n",
    "\n",
    "Colaboratory is a free Jupyter notebook environment for running Python code that requires no setup and runs entirely in the cloud.\n",
    "\n",
    "With Colaboratory you can write and execute code, save and share your analyses, and access powerful computing resources, all for free from your browser.\n",
    "\n",
    "The notebook is divided in *cells* of two kind:\n",
    " - Text cell, as the one in which this sentence is written\n",
    " - Code cell, as the one below"
   ]
  },
  {
   "cell_type": "code",
   "execution_count": 6,
   "metadata": {
    "colab": {
     "base_uri": "https://localhost:8080/",
     "height": 35
    },
    "colab_type": "code",
    "executionInfo": {
     "elapsed": 1448,
     "status": "ok",
     "timestamp": 1599811209151,
     "user": {
      "displayName": "Andrea Mazzolini",
      "photoUrl": "https://lh3.googleusercontent.com/a-/AOh14Gj889rV0hCKG0LInS5OJdlv_nS9Mv4fKmWQb2ax=s64",
      "userId": "17503038082596243982"
     },
     "user_tz": -120
    },
    "id": "8T_Do74qTmOM",
    "outputId": "17e2e7ea-482e-40c2-ecea-e8ad96af8514"
   },
   "outputs": [
    {
     "data": {
      "text/plain": [
       "86400"
      ]
     },
     "execution_count": 6,
     "metadata": {
      "tags": []
     },
     "output_type": "execute_result"
    }
   ],
   "source": [
    "seconds_in_a_day = 24 * 60 * 60\n",
    "seconds_in_a_day"
   ]
  },
  {
   "cell_type": "markdown",
   "metadata": {
    "colab_type": "text",
    "id": "PfaS_UHXTz66"
   },
   "source": [
    "To execute the code in the above cell, select it with a click and then either press the play button to the left of the code, or use the keyboard shortcut \"Command/Ctrl+Enter\".\n",
    "\n",
    "All cells modify the same global state, so variables that you define by executing a cell can be used in other cells:"
   ]
  },
  {
   "cell_type": "code",
   "execution_count": 7,
   "metadata": {
    "colab": {
     "base_uri": "https://localhost:8080/",
     "height": 35
    },
    "colab_type": "code",
    "executionInfo": {
     "elapsed": 1117,
     "status": "ok",
     "timestamp": 1599811209152,
     "user": {
      "displayName": "Andrea Mazzolini",
      "photoUrl": "https://lh3.googleusercontent.com/a-/AOh14Gj889rV0hCKG0LInS5OJdlv_nS9Mv4fKmWQb2ax=s64",
      "userId": "17503038082596243982"
     },
     "user_tz": -120
    },
    "id": "F0-oognBUfSK",
    "outputId": "8d6dfcd5-a875-4f2d-b3a4-b2d1dd0fc1ee"
   },
   "outputs": [
    {
     "data": {
      "text/plain": [
       "604800"
      ]
     },
     "execution_count": 7,
     "metadata": {
      "tags": []
     },
     "output_type": "execute_result"
    }
   ],
   "source": [
    "seconds_in_a_week = 7 * seconds_in_a_day\n",
    "seconds_in_a_week"
   ]
  },
  {
   "cell_type": "markdown",
   "metadata": {
    "colab_type": "text",
    "id": "NT50TlacV5qK"
   },
   "source": [
    "An extremely useful notebook feature is leaving the cursor on a method name or a variable name for few seconds. This will show the quick documentation of that method, for example try with `print()` below."
   ]
  },
  {
   "cell_type": "code",
   "execution_count": 8,
   "metadata": {
    "colab": {
     "base_uri": "https://localhost:8080/",
     "height": 35
    },
    "colab_type": "code",
    "executionInfo": {
     "elapsed": 1018,
     "status": "ok",
     "timestamp": 1599811210095,
     "user": {
      "displayName": "Andrea Mazzolini",
      "photoUrl": "https://lh3.googleusercontent.com/a-/AOh14Gj889rV0hCKG0LInS5OJdlv_nS9Mv4fKmWQb2ax=s64",
      "userId": "17503038082596243982"
     },
     "user_tz": -120
    },
    "id": "R17cEATgWR3h",
    "outputId": "28e180cd-7cdd-47c9-eb0c-75c65b5828e5"
   },
   "outputs": [
    {
     "name": "stdout",
     "output_type": "stream",
     "text": [
      "\n"
     ]
    }
   ],
   "source": [
    "print( )"
   ]
  },
  {
   "cell_type": "markdown",
   "metadata": {
    "colab_type": "text",
    "id": "12PbLQSIWXoC"
   },
   "source": [
    "A more extended documentation can be seen also using the question mark at the end of the method."
   ]
  },
  {
   "cell_type": "code",
   "execution_count": 5,
   "metadata": {
    "colab": {},
    "colab_type": "code",
    "executionInfo": {
     "elapsed": 14403,
     "status": "ok",
     "timestamp": 1599810967146,
     "user": {
      "displayName": "Andrea Mazzolini",
      "photoUrl": "https://lh3.googleusercontent.com/a-/AOh14Gj889rV0hCKG0LInS5OJdlv_nS9Mv4fKmWQb2ax=s64",
      "userId": "17503038082596243982"
     },
     "user_tz": -120
    },
    "id": "Zji5cSp0Wh_Q"
   },
   "outputs": [],
   "source": [
    "print?"
   ]
  },
  {
   "cell_type": "markdown",
   "metadata": {
    "colab_type": "text",
    "id": "Z4CjRSkLffhD"
   },
   "source": [
    "## Numbers and basic Python operations"
   ]
  },
  {
   "cell_type": "markdown",
   "metadata": {
    "colab_type": "text",
    "id": "ZmualjPcypQc"
   },
   "source": [
    "### Variables \n",
    "\n",
    "You do not need to specify the variable type in python (as for example in C). The interpreter understands the type for you depending on the syntax. "
   ]
  },
  {
   "cell_type": "code",
   "execution_count": null,
   "metadata": {
    "colab": {},
    "colab_type": "code",
    "id": "oG8yts6PzASL"
   },
   "outputs": [],
   "source": [
    "an_integer = 1\n",
    "\n",
    "a_float = 1.0\n",
    "\n",
    "a_string = \"hello\""
   ]
  },
  {
   "cell_type": "markdown",
   "metadata": {
    "colab_type": "text",
    "id": "8tTMXEBnzH4d"
   },
   "source": [
    "To inspect the variable type you can use the function `type()`."
   ]
  },
  {
   "cell_type": "code",
   "execution_count": null,
   "metadata": {
    "colab": {
     "base_uri": "https://localhost:8080/",
     "height": 72
    },
    "colab_type": "code",
    "executionInfo": {
     "elapsed": 497,
     "status": "ok",
     "timestamp": 1564992257567,
     "user": {
      "displayName": "Andrea Mazzolini",
      "photoUrl": "https://lh4.googleusercontent.com/-6ouzHGmaQ0I/AAAAAAAAAAI/AAAAAAAAABM/1wtfdHMkbEs/s64/photo.jpg",
      "userId": "17503038082596243982"
     },
     "user_tz": -120
    },
    "id": "yo_WAAb6zi8L",
    "outputId": "b3617bc5-d643-452b-846a-c6719e8ef00f"
   },
   "outputs": [
    {
     "name": "stdout",
     "output_type": "stream",
     "text": [
      "<class 'int'>\n",
      "<class 'float'>\n",
      "<class 'str'>\n"
     ]
    }
   ],
   "source": [
    "print(type(an_integer))\n",
    "\n",
    "print(type(a_float))\n",
    "\n",
    "print(type(a_string))"
   ]
  },
  {
   "cell_type": "markdown",
   "metadata": {
    "colab_type": "text",
    "id": "cC1p93kZffhH"
   },
   "source": [
    "### The four operations"
   ]
  },
  {
   "cell_type": "code",
   "execution_count": null,
   "metadata": {
    "colab": {},
    "colab_type": "code",
    "id": "qSjPlbfbffhM",
    "outputId": "cc1a83d7-1c04-41bc-8d83-bed4df065fe9"
   },
   "outputs": [
    {
     "name": "stdout",
     "output_type": "stream",
     "text": [
      "4\n",
      "20\n",
      "5.0\n"
     ]
    }
   ],
   "source": [
    "x = 2 + 2 # This returns an integer\n",
    "print(x)\n",
    "\n",
    "x = 50 - 5*6 # This returns an integer\n",
    "print(x)\n",
    "\n",
    "x = (50 - 5*6) / 4 # Division always returns a floating point (float) number\n",
    "print(x)"
   ]
  },
  {
   "cell_type": "code",
   "execution_count": null,
   "metadata": {
    "colab": {},
    "colab_type": "code",
    "id": "ROazq_34ffhW",
    "outputId": "1ce2789d-b27b-4f64-9519-5449e43daeae"
   },
   "outputs": [
    {
     "name": "stdout",
     "output_type": "stream",
     "text": [
      "1.6\n",
      "5\n",
      "2\n"
     ]
    }
   ],
   "source": [
    "x = 8 / 5  # basic division\n",
    "print(x)\n",
    "\n",
    "x = 17 // 3  # floor division discards the fractional part\n",
    "print(x)\n",
    "\n",
    "x = 17 % 3  # the % operator returns the remainder of the division\n",
    "print(x)"
   ]
  },
  {
   "cell_type": "markdown",
   "metadata": {
    "colab_type": "text",
    "id": "FIzv_SUAffhy"
   },
   "source": [
    "### Power"
   ]
  },
  {
   "cell_type": "code",
   "execution_count": null,
   "metadata": {
    "colab": {},
    "colab_type": "code",
    "id": "EU97IY4Offh1",
    "outputId": "c1a75594-d121-405e-ce2e-a2068c476d19"
   },
   "outputs": [
    {
     "name": "stdout",
     "output_type": "stream",
     "text": [
      "25\n",
      "128\n"
     ]
    }
   ],
   "source": [
    "x = 5 ** 2  # 5 squared\n",
    "print(x)\n",
    "\n",
    "x = 2 ** 7  # 2 to the power of 7\n",
    "print(x)"
   ]
  },
  {
   "cell_type": "markdown",
   "metadata": {
    "colab_type": "text",
    "id": "crPOfvl4ffh7"
   },
   "source": [
    "### Complex numbers"
   ]
  },
  {
   "cell_type": "code",
   "execution_count": null,
   "metadata": {
    "colab": {},
    "colab_type": "code",
    "id": "jAdMBQH4ffh9",
    "outputId": "6de286c9-31ee-4101-fcd6-6c37dcdbeb1e"
   },
   "outputs": [
    {
     "name": "stdout",
     "output_type": "stream",
     "text": [
      "Sum of complex numbers:  (5+3j)\n",
      "Product of complex numbers:  (10+5j)\n"
     ]
    }
   ],
   "source": [
    "z1 = 3 + 4j\n",
    "z2 = 2 - 1j\n",
    "print(\"Sum of complex numbers: \", z1 + z2)\n",
    "print(\"Product of complex numbers: \", z1 * z2)"
   ]
  },
  {
   "cell_type": "markdown",
   "metadata": {
    "colab_type": "text",
    "id": "U6-VcMmVffiC"
   },
   "source": [
    "## Strings\n",
    "\n",
    "### Quotes\n",
    "They can be enclosed in single quotes '...' or double quotes \"...\" with the same result"
   ]
  },
  {
   "cell_type": "code",
   "execution_count": null,
   "metadata": {
    "colab": {},
    "colab_type": "code",
    "id": "9ix9NyLAffiE",
    "outputId": "23a117f7-724e-402b-d015-d107664f467d"
   },
   "outputs": [
    {
     "name": "stdout",
     "output_type": "stream",
     "text": [
      "ciao\n",
      "doesn't\n",
      "doesn't\n",
      "\"Yes,\" they said.\n",
      "\"Yes,\" they said.\n",
      "\"Isn't,\" they said.\n"
     ]
    }
   ],
   "source": [
    "print('ciao')  # single quotes\n",
    "\n",
    "print('doesn\\'t')  # use \\' to escape the single quote...\n",
    "\n",
    "print(\"doesn't\")  # ...or use double quotes instead\n",
    "\n",
    "\n",
    "print('\"Yes,\" they said.')\n",
    "\n",
    "print(\"\\\"Yes,\\\" they said.\")\n",
    "\n",
    "print('\"Isn\\'t,\" they said.')"
   ]
  },
  {
   "cell_type": "markdown",
   "metadata": {
    "colab_type": "text",
    "id": "_IRCxdfJffiJ"
   },
   "source": [
    "### Concatenate strings"
   ]
  },
  {
   "cell_type": "code",
   "execution_count": null,
   "metadata": {
    "colab": {},
    "colab_type": "code",
    "id": "dnHvhaKdffiL",
    "outputId": "7ecfdc1b-3c42-42c3-b9e2-8165dfd405c1"
   },
   "outputs": [
    {
     "name": "stdout",
     "output_type": "stream",
     "text": [
      "plus operator\n",
      "star operator star operator \n",
      "unununium\n"
     ]
    }
   ],
   "source": [
    "print('plus ' + 'operator')\n",
    "\n",
    "print('star operator ' * 2)\n",
    "\n",
    "print(3 * 'un' + 'ium') # 3 times 'un', followed by 'ium'"
   ]
  },
  {
   "cell_type": "markdown",
   "metadata": {
    "colab_type": "text",
    "id": "QaGU7NL_ffiQ"
   },
   "source": [
    "### Indexing"
   ]
  },
  {
   "cell_type": "code",
   "execution_count": null,
   "metadata": {
    "colab": {},
    "colab_type": "code",
    "id": "w3KpMkPdffiR",
    "outputId": "56189e2c-387e-4912-8c04-516ab5db70e0"
   },
   "outputs": [
    {
     "name": "stdout",
     "output_type": "stream",
     "text": [
      "P\n",
      "n\n",
      "n\n",
      "o\n"
     ]
    }
   ],
   "source": [
    "word = 'Python'\n",
    "\n",
    "print(word[0])  # character in position 0\n",
    "\n",
    "print(word[5])  # character in position 5\n",
    "\n",
    "print(word[-1]) # last character\n",
    "\n",
    "print(word[-2]) # two characters from the end"
   ]
  },
  {
   "cell_type": "markdown",
   "metadata": {
    "colab_type": "text",
    "id": "DE28CC3BffiX"
   },
   "source": [
    "### Slicing"
   ]
  },
  {
   "cell_type": "code",
   "execution_count": null,
   "metadata": {
    "colab": {},
    "colab_type": "code",
    "id": "tnDkA5RHffiZ",
    "outputId": "bc98cb37-c466-400a-90de-9c7e3cb5b200"
   },
   "outputs": [
    {
     "name": "stdout",
     "output_type": "stream",
     "text": [
      "Py\n",
      "tho\n",
      "thon\n",
      "Pyt\n"
     ]
    }
   ],
   "source": [
    "print(word[0:2])  # characters from position 0 (included) to 2 (excluded)\n",
    "\n",
    "print(word[2:5])  # characters from position 2 (included) to 5 (excluded)\n",
    "\n",
    "print(word[2:])  # characters from position 2 (included) to the end\n",
    "\n",
    "print(word[:3])  # characters from the beginning to the position 3 (excluded)"
   ]
  },
  {
   "cell_type": "markdown",
   "metadata": {
    "colab_type": "text",
    "id": "i381mJ14ffie"
   },
   "source": [
    "### Including external variables in a string\n",
    "\n",
    "Strings can be used as fixed template in which one or more variable can added. One way to do this is with the method `format()`."
   ]
  },
  {
   "cell_type": "code",
   "execution_count": null,
   "metadata": {
    "colab": {
     "base_uri": "https://localhost:8080/",
     "height": 72
    },
    "colab_type": "code",
    "executionInfo": {
     "elapsed": 1304,
     "status": "ok",
     "timestamp": 1568389499249,
     "user": {
      "displayName": "Andrea Mazzolini",
      "photoUrl": "https://lh3.googleusercontent.com/a-/AAuE7mARm6YUMjM1WqoWB9DeJSCtXhxEjR6a9chPFNuT=s64",
      "userId": "17503038082596243982"
     },
     "user_tz": -120
    },
    "id": "cA1fUt7oSOKz",
    "outputId": "3c38baa0-afeb-40cf-86a0-22bb1dd6ee84"
   },
   "outputs": [
    {
     "name": "stdout",
     "output_type": "stream",
     "text": [
      "The value of my function at 0 is 0.0\n",
      "The value of my function at 1 is 1.0\n",
      "The value of my function at 2 is 1.4142135623730951\n"
     ]
    }
   ],
   "source": [
    "a_string = 'The value of my function at {} is {}'\n",
    " \n",
    "x = 0\n",
    "y = x**0.5\n",
    "print(a_string.format(x,y))\n",
    "\n",
    "x = 1\n",
    "y = x**0.5\n",
    "print(a_string.format(x,y))\n",
    "\n",
    "x = 2\n",
    "y = x**0.5\n",
    "print(a_string.format(x,y))"
   ]
  },
  {
   "cell_type": "markdown",
   "metadata": {
    "colab_type": "text",
    "id": "7_XW45TPTpiG"
   },
   "source": [
    "Thera are a lot of options to format a variable into a string https://docs.python.org/3/library/string.html#formatstrings. (Here for a more user friendly tutorial https://pyformat.info/).\n",
    "In the box below you can see an examples."
   ]
  },
  {
   "cell_type": "code",
   "execution_count": null,
   "metadata": {
    "colab": {
     "base_uri": "https://localhost:8080/",
     "height": 72
    },
    "colab_type": "code",
    "executionInfo": {
     "elapsed": 463,
     "status": "ok",
     "timestamp": 1568389573558,
     "user": {
      "displayName": "Andrea Mazzolini",
      "photoUrl": "https://lh3.googleusercontent.com/a-/AAuE7mARm6YUMjM1WqoWB9DeJSCtXhxEjR6a9chPFNuT=s64",
      "userId": "17503038082596243982"
     },
     "user_tz": -120
    },
    "id": "7hBL9KhfSoij",
    "outputId": "ea687288-81d5-4c65-b6f4-77a05fe3462e"
   },
   "outputs": [
    {
     "name": "stdout",
     "output_type": "stream",
     "text": [
      "The value of my function at 0 is 0.000\n",
      "The value of my function at 1 is 1.000\n",
      "The value of my function at 2 is 1.414\n"
     ]
    }
   ],
   "source": [
    "a_string = 'The value of my function at {:.0f} is {:.3f}'  # This indicates how many decimals to write\n",
    " \n",
    "x = 0\n",
    "y = x**0.5\n",
    "print(a_string.format(x,y))\n",
    "\n",
    "x = 1\n",
    "y = x**0.5\n",
    "print(a_string.format(x,y))\n",
    "\n",
    "x = 2\n",
    "y = x**0.5\n",
    "print(a_string.format(x,y))"
   ]
  },
  {
   "cell_type": "code",
   "execution_count": null,
   "metadata": {
    "colab": {},
    "colab_type": "code",
    "id": "mE-cZJyRTix2"
   },
   "outputs": [],
   "source": []
  }
 ],
 "metadata": {
  "colab": {
   "collapsed_sections": [],
   "name": "1 - Numbers and strings.ipynb",
   "provenance": []
  },
  "kernelspec": {
   "display_name": "Python 3",
   "language": "python",
   "name": "python3"
  },
  "language_info": {
   "codemirror_mode": {
    "name": "ipython",
    "version": 3
   },
   "file_extension": ".py",
   "mimetype": "text/x-python",
   "name": "python",
   "nbconvert_exporter": "python",
   "pygments_lexer": "ipython3",
   "version": "3.8.8"
  }
 },
 "nbformat": 4,
 "nbformat_minor": 1
}
