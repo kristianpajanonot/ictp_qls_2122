{
 "cells": [
  {
   "cell_type": "markdown",
   "metadata": {
    "colab_type": "text",
    "id": "fSYp0f0BPIt1"
   },
   "source": [
    "# 3 - Basic statements\n",
    "\n",
    "<b>Summary</b>:\n",
    "> * True or false?\n",
    ">> * Boolean operators\n",
    ">> * `if` statement\n",
    "> * Loops\n",
    ">> * `while`\n",
    ">> * `for`\n",
    ">> * `range` function\n",
    ">> * `break` statement\n",
    ">> * List comprehensions\n",
    "\n",
    "For more details see: https://docs.python.org/3/tutorial/controlflow.html"
   ]
  },
  {
   "cell_type": "markdown",
   "metadata": {
    "colab_type": "text",
    "id": "RY3rfYE4PIt6"
   },
   "source": [
    "## True or false?"
   ]
  },
  {
   "cell_type": "markdown",
   "metadata": {
    "colab_type": "text",
    "id": "6tILkJ-WPIt8"
   },
   "source": [
    "### Boolean operators"
   ]
  },
  {
   "cell_type": "code",
   "execution_count": null,
   "metadata": {
    "colab": {},
    "colab_type": "code",
    "id": "BMGnz3nFPIt-",
    "outputId": "5d978243-c493-4ddf-a991-56e6c78cd24d"
   },
   "outputs": [
    {
     "name": "stdout",
     "output_type": "stream",
     "text": [
      "False\n",
      "True\n",
      "True\n",
      "False\n"
     ]
    }
   ],
   "source": [
    "print(1 > 2)\n",
    "\n",
    "print(1 < 2)\n",
    "\n",
    "print(2 == 2)\n",
    "\n",
    "print(1 != 1) # Different"
   ]
  },
  {
   "cell_type": "code",
   "execution_count": null,
   "metadata": {
    "colab": {},
    "colab_type": "code",
    "id": "Yzk5h4H8PIuJ",
    "outputId": "b103f404-37bc-4e9a-bac4-75ce8db6e8dc"
   },
   "outputs": [
    {
     "name": "stdout",
     "output_type": "stream",
     "text": [
      "True\n",
      "False\n",
      "False\n"
     ]
    }
   ],
   "source": [
    "print(1 <= 1 or 2 > 3)  # or\n",
    "\n",
    "print(1 <= 1 and 2 > 3)  # and\n",
    "\n",
    "print(not 1 == 1) # not"
   ]
  },
  {
   "cell_type": "markdown",
   "metadata": {
    "colab_type": "text",
    "id": "A3G6TaZ0PIuP"
   },
   "source": [
    "### <i>if</i> statement"
   ]
  },
  {
   "cell_type": "markdown",
   "metadata": {
    "colab_type": "text",
    "id": "erZdMhQQPIuR"
   },
   "source": [
    "The body of statements in Python is <b>indented</b>: they are spaced from the beginning of the line by a tab."
   ]
  },
  {
   "cell_type": "code",
   "execution_count": null,
   "metadata": {
    "colab": {},
    "colab_type": "code",
    "id": "vWbs1tIMPIuT",
    "outputId": "7557c5f4-0a36-4cdb-8939-23d11041577b"
   },
   "outputs": [
    {
     "name": "stdout",
     "output_type": "stream",
     "text": [
      "More\n"
     ]
    }
   ],
   "source": [
    "x = 11\n",
    "\n",
    "if x < 0:\n",
    "  x = 0\n",
    "  print('Negative changed to zero')\n",
    "elif x == 0:  # elif stands for else if\n",
    "  print('Zero')\n",
    "elif x == 1:\n",
    "  print('Single')\n",
    "else:\n",
    "  print('More')"
   ]
  },
  {
   "cell_type": "markdown",
   "metadata": {
    "colab_type": "text",
    "id": "WrXpy4l3PIua"
   },
   "source": [
    "## Loops"
   ]
  },
  {
   "cell_type": "markdown",
   "metadata": {
    "colab_type": "text",
    "id": "RqnRcueNPIud"
   },
   "source": [
    "### `while`"
   ]
  },
  {
   "cell_type": "markdown",
   "metadata": {
    "colab_type": "text",
    "id": "kDj_t4DaPIug"
   },
   "source": [
    "It repeats the body until the condition remains true."
   ]
  },
  {
   "cell_type": "code",
   "execution_count": null,
   "metadata": {
    "colab": {},
    "colab_type": "code",
    "id": "VSbFCjSGPIui",
    "outputId": "7277d622-447e-4bd7-964a-1f84ce66357b"
   },
   "outputs": [
    {
     "name": "stdout",
     "output_type": "stream",
     "text": [
      "0\n",
      "1\n",
      "2\n",
      "3\n",
      "4\n"
     ]
    }
   ],
   "source": [
    "a = 0\n",
    "\n",
    "while a < 5:\n",
    "  print(a)\n",
    "  a = a+1"
   ]
  },
  {
   "cell_type": "markdown",
   "metadata": {
    "colab_type": "text",
    "id": "DKqEut8DPIum"
   },
   "source": [
    "### `for`\n",
    "Iterates over the objects in a list/tuple."
   ]
  },
  {
   "cell_type": "code",
   "execution_count": null,
   "metadata": {
    "colab": {
     "base_uri": "https://localhost:8080/",
     "height": 72
    },
    "colab_type": "code",
    "executionInfo": {
     "elapsed": 501,
     "status": "ok",
     "timestamp": 1565284938881,
     "user": {
      "displayName": "Andrea Mazzolini",
      "photoUrl": "https://lh4.googleusercontent.com/-6ouzHGmaQ0I/AAAAAAAAAAI/AAAAAAAAABM/1wtfdHMkbEs/s64/photo.jpg",
      "userId": "17503038082596243982"
     },
     "user_tz": -120
    },
    "id": "nbvwWAypPIuo",
    "outputId": "e2a1349d-fc75-406e-a7b8-ad675dac6cf6"
   },
   "outputs": [
    {
     "name": "stdout",
     "output_type": "stream",
     "text": [
      "cat 3\n",
      "window 6\n",
      "defenestrate 12\n"
     ]
    }
   ],
   "source": [
    "words = ['cat', 'window', 'defenestrate']\n",
    "for w in words:\n",
    "  print(w, len(w))"
   ]
  },
  {
   "cell_type": "markdown",
   "metadata": {
    "colab_type": "text",
    "id": "bZpdRGcDPVBT"
   },
   "source": [
    "Or through dictionaries."
   ]
  },
  {
   "cell_type": "code",
   "execution_count": null,
   "metadata": {
    "colab": {
     "base_uri": "https://localhost:8080/",
     "height": 126
    },
    "colab_type": "code",
    "executionInfo": {
     "elapsed": 495,
     "status": "ok",
     "timestamp": 1565285000913,
     "user": {
      "displayName": "Andrea Mazzolini",
      "photoUrl": "https://lh4.googleusercontent.com/-6ouzHGmaQ0I/AAAAAAAAAAI/AAAAAAAAABM/1wtfdHMkbEs/s64/photo.jpg",
      "userId": "17503038082596243982"
     },
     "user_tz": -120
    },
    "id": "ThuQ2b_zPYbu",
    "outputId": "7dc3fcc8-2a72-4682-db34-1a7bf48a483c"
   },
   "outputs": [
    {
     "name": "stdout",
     "output_type": "stream",
     "text": [
      "jack\n",
      "kate\n",
      "jane\n",
      "jack 30\n",
      "kate 24\n",
      "jane 26\n"
     ]
    }
   ],
   "source": [
    "age = {'jack' : 30, 'kate' : 24, 'jane' : 26}\n",
    "\n",
    "for k in age:  # Iterate through the keys\n",
    "  print (k)\n",
    "  \n",
    "for k, val in age.items():  # Iterate through keys and values\n",
    "  print(k, val)"
   ]
  },
  {
   "cell_type": "markdown",
   "metadata": {
    "colab_type": "text",
    "id": "O8Yn1YRrPIut"
   },
   "source": [
    "### `range` function"
   ]
  },
  {
   "cell_type": "markdown",
   "metadata": {
    "colab_type": "text",
    "id": "zST2j22ePIuv"
   },
   "source": [
    "Iteration over a sequence of numbers."
   ]
  },
  {
   "cell_type": "code",
   "execution_count": null,
   "metadata": {
    "colab": {},
    "colab_type": "code",
    "id": "hy-QUgs9PIuw",
    "outputId": "ce14921f-9cb6-45d3-e9b9-a09872849948"
   },
   "outputs": [
    {
     "name": "stdout",
     "output_type": "stream",
     "text": [
      "0\n",
      "1\n",
      "2\n"
     ]
    }
   ],
   "source": [
    "for i in range(3):\n",
    "  print(i)"
   ]
  },
  {
   "cell_type": "markdown",
   "metadata": {
    "colab_type": "text",
    "id": "8fHkuxbfPIu1"
   },
   "source": [
    "Try to see the documentation of the function `range`. Range can be used also with a second argument specifying the beginning of the sequence."
   ]
  },
  {
   "cell_type": "code",
   "execution_count": 1,
   "metadata": {
    "colab": {},
    "colab_type": "code",
    "executionInfo": {
     "elapsed": 1506,
     "status": "ok",
     "timestamp": 1599812838167,
     "user": {
      "displayName": "Andrea Mazzolini",
      "photoUrl": "https://lh3.googleusercontent.com/a-/AOh14Gj889rV0hCKG0LInS5OJdlv_nS9Mv4fKmWQb2ax=s64",
      "userId": "17503038082596243982"
     },
     "user_tz": -120
    },
    "id": "_mBCljtvRnEj"
   },
   "outputs": [],
   "source": [
    "range?"
   ]
  },
  {
   "cell_type": "code",
   "execution_count": null,
   "metadata": {
    "colab": {},
    "colab_type": "code",
    "id": "UKMC5d3QPIu3",
    "outputId": "7d565b29-5c26-4976-ca68-7d1f4ccddd0b"
   },
   "outputs": [
    {
     "name": "stdout",
     "output_type": "stream",
     "text": [
      "5\n",
      "6\n",
      "7\n",
      "8\n",
      "9\n"
     ]
    }
   ],
   "source": [
    "for i in range(5, 10):\n",
    "  print(i)"
   ]
  },
  {
   "cell_type": "markdown",
   "metadata": {
    "colab_type": "text",
    "id": "zot0u26_PIu9"
   },
   "source": [
    "The third argument defines the step"
   ]
  },
  {
   "cell_type": "code",
   "execution_count": null,
   "metadata": {
    "colab": {},
    "colab_type": "code",
    "id": "VtEZLanOPIu_",
    "outputId": "3b40c9e4-b9d5-4a82-a81f-f385a758f340"
   },
   "outputs": [
    {
     "name": "stdout",
     "output_type": "stream",
     "text": [
      "5\n",
      "7\n",
      "9\n"
     ]
    }
   ],
   "source": [
    "for i in range(5, 10, 2):\n",
    "  print(i)"
   ]
  },
  {
   "cell_type": "markdown",
   "metadata": {
    "colab_type": "text",
    "id": "8OcUo492PIvD"
   },
   "source": [
    "### `break` statement\n",
    "\n",
    "`break` stops the iteration of a loop."
   ]
  },
  {
   "cell_type": "code",
   "execution_count": null,
   "metadata": {
    "colab": {
     "base_uri": "https://localhost:8080/",
     "height": 126
    },
    "colab_type": "code",
    "executionInfo": {
     "elapsed": 495,
     "status": "ok",
     "timestamp": 1565285147243,
     "user": {
      "displayName": "Andrea Mazzolini",
      "photoUrl": "https://lh4.googleusercontent.com/-6ouzHGmaQ0I/AAAAAAAAAAI/AAAAAAAAABM/1wtfdHMkbEs/s64/photo.jpg",
      "userId": "17503038082596243982"
     },
     "user_tz": -120
    },
    "id": "-6qJQ7FZPIvE",
    "outputId": "840149c0-3043-4323-f35f-e0a39006f9f6"
   },
   "outputs": [
    {
     "name": "stdout",
     "output_type": "stream",
     "text": [
      "1\n",
      "2\n",
      "3\n",
      "4\n",
      "5\n",
      "6\n"
     ]
    }
   ],
   "source": [
    "counter = 0\n",
    "\n",
    "while True:  # It iterates infinitely many times\n",
    "  counter += 1\n",
    "  print (counter)\n",
    "  if counter > 5:\n",
    "    break"
   ]
  },
  {
   "cell_type": "code",
   "execution_count": null,
   "metadata": {
    "colab": {
     "base_uri": "https://localhost:8080/",
     "height": 35
    },
    "colab_type": "code",
    "executionInfo": {
     "elapsed": 490,
     "status": "ok",
     "timestamp": 1565285178611,
     "user": {
      "displayName": "Andrea Mazzolini",
      "photoUrl": "https://lh4.googleusercontent.com/-6ouzHGmaQ0I/AAAAAAAAAAI/AAAAAAAAABM/1wtfdHMkbEs/s64/photo.jpg",
      "userId": "17503038082596243982"
     },
     "user_tz": -120
    },
    "id": "zqgekOAlPIvJ",
    "outputId": "3d8fdf64-185f-4134-f813-cb76c8af161f"
   },
   "outputs": [
    {
     "name": "stdout",
     "output_type": "stream",
     "text": [
      "38 is not a prime number, it equals 2 * 19\n"
     ]
    }
   ],
   "source": [
    "n = 38\n",
    "is_a_prime = True\n",
    "\n",
    "for x in range(2, n):  # Iteration over all the possible factors of n\n",
    "  if n % x == 0:  # If x is a factor of n the iteration stops\n",
    "    print(n, 'is not a prime number, it equals', x, '*', n//x)\n",
    "    is_a_prime = False\n",
    "    break \n",
    "\n",
    "if is_a_prime:\n",
    "  print(n, 'is a prime number')"
   ]
  },
  {
   "cell_type": "markdown",
   "metadata": {
    "colab_type": "text",
    "id": "rg6T-vOlPIvN"
   },
   "source": [
    "### List comprehensions"
   ]
  },
  {
   "cell_type": "markdown",
   "metadata": {
    "colab_type": "text",
    "id": "zqFssNdgPIvP"
   },
   "source": [
    "A concise way to create lists through loops."
   ]
  },
  {
   "cell_type": "code",
   "execution_count": null,
   "metadata": {
    "colab": {},
    "colab_type": "code",
    "id": "9W6l_SFQPIvR",
    "outputId": "0dfd9b80-8598-411c-de0b-c4cb79dbbd6f"
   },
   "outputs": [
    {
     "name": "stdout",
     "output_type": "stream",
     "text": [
      "[0, 1, 4, 9, 16, 25, 36, 49, 64, 81]\n"
     ]
    }
   ],
   "source": [
    "squares = [x**2 for x in range(10)]\n",
    "print (squares)"
   ]
  },
  {
   "cell_type": "markdown",
   "metadata": {
    "colab_type": "text",
    "id": "89xXIOedPIvW"
   },
   "source": [
    "Which is equivalent to:"
   ]
  },
  {
   "cell_type": "code",
   "execution_count": null,
   "metadata": {
    "colab": {},
    "colab_type": "code",
    "id": "FNL60_TPPIvX",
    "outputId": "ed2de70a-a9a0-4c22-96ea-b56de97aab4c"
   },
   "outputs": [
    {
     "name": "stdout",
     "output_type": "stream",
     "text": [
      "[0, 1, 4, 9, 16, 25, 36, 49, 64, 81]\n"
     ]
    }
   ],
   "source": [
    "squares = []\n",
    "for x in range(10):\n",
    "    squares.append(x**2)\n",
    "    \n",
    "print (squares)"
   ]
  },
  {
   "cell_type": "markdown",
   "metadata": {
    "colab_type": "text",
    "id": "TxPe0tp3PIvb"
   },
   "source": [
    "Comprehensions can be as complicated as you want, including also `if` statements."
   ]
  },
  {
   "cell_type": "code",
   "execution_count": null,
   "metadata": {
    "colab": {},
    "colab_type": "code",
    "id": "VBNH9fvEPIvc",
    "outputId": "e12e9226-5618-48b5-c19e-f88056feb43f"
   },
   "outputs": [
    {
     "name": "stdout",
     "output_type": "stream",
     "text": [
      "[[1, 3], [1, 4], [2, 3], [2, 1], [2, 4], [3, 1], [3, 4]]\n"
     ]
    }
   ],
   "source": [
    "data = [[x, y] for x in [1,2,3] for y in [3,1,4] if x != y]\n",
    "print (data)"
   ]
  },
  {
   "cell_type": "markdown",
   "metadata": {
    "colab_type": "text",
    "id": "OtRMBhqXPIvh"
   },
   "source": [
    "And can be used to create also dictionaries"
   ]
  },
  {
   "cell_type": "code",
   "execution_count": null,
   "metadata": {
    "colab": {},
    "colab_type": "code",
    "id": "3OA4d7HAPIvh",
    "outputId": "0168b519-51c1-4a6e-b957-127879f44aa7"
   },
   "outputs": [
    {
     "name": "stdout",
     "output_type": "stream",
     "text": [
      "{2: 4, 4: 16, 6: 36}\n"
     ]
    }
   ],
   "source": [
    "d = {x: x**2 for x in (2, 4, 6)}\n",
    "print (d)"
   ]
  },
  {
   "cell_type": "code",
   "execution_count": null,
   "metadata": {
    "colab": {},
    "colab_type": "code",
    "id": "89y7ylVcPIvl"
   },
   "outputs": [],
   "source": []
  }
 ],
 "metadata": {
  "colab": {
   "name": "3 - Basic statements.ipynb",
   "provenance": []
  },
  "kernelspec": {
   "display_name": "Python 3",
   "language": "python",
   "name": "python3"
  },
  "language_info": {
   "codemirror_mode": {
    "name": "ipython",
    "version": 3
   },
   "file_extension": ".py",
   "mimetype": "text/x-python",
   "name": "python",
   "nbconvert_exporter": "python",
   "pygments_lexer": "ipython3",
   "version": "3.8.8"
  }
 },
 "nbformat": 4,
 "nbformat_minor": 1
}
