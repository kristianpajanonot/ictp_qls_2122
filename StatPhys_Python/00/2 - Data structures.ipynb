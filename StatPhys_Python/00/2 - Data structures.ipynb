{
 "cells": [
  {
   "cell_type": "markdown",
   "metadata": {
    "colab_type": "text",
    "id": "NVn9rSUiFmb1"
   },
   "source": [
    "# 2 - Data structures\n",
    "\n",
    "<b>Summary</b>:\n",
    "> * Lists\n",
    ">> * Again indexing and slicing\n",
    ">> * Modifying a list\n",
    ">> * Deleting elements\n",
    ">> * Length\n",
    ">> * List of lists\n",
    "> * Dictionaries\n",
    ">> * Building them\n",
    ">> * Modifying a dictionary\n",
    "> * Other structures\n",
    ">> * Tuple\n",
    ">> * Set\n",
    "\n",
    "For more details: https://docs.python.org/3/tutorial/datastructures.html"
   ]
  },
  {
   "cell_type": "markdown",
   "metadata": {
    "colab_type": "text",
    "id": "Dqjqq03OFmb6"
   },
   "source": [
    "## Lists\n",
    "\n",
    "The first data structure we see is a list. This is one way of storing multiple variables in a single object."
   ]
  },
  {
   "cell_type": "code",
   "execution_count": 2,
   "metadata": {
    "colab": {
     "base_uri": "https://localhost:8080/",
     "height": 35
    },
    "colab_type": "code",
    "executionInfo": {
     "elapsed": 1110,
     "status": "ok",
     "timestamp": 1599811648182,
     "user": {
      "displayName": "Andrea Mazzolini",
      "photoUrl": "https://lh3.googleusercontent.com/a-/AOh14Gj889rV0hCKG0LInS5OJdlv_nS9Mv4fKmWQb2ax=s64",
      "userId": "17503038082596243982"
     },
     "user_tz": -120
    },
    "id": "i2NLYp5xFmb9",
    "outputId": "99706dd6-29a9-420e-f425-3a03cda6055f"
   },
   "outputs": [
    {
     "name": "stdout",
     "output_type": "stream",
     "text": [
      "[1, 4, 9, 16, 25]\n"
     ]
    }
   ],
   "source": [
    "squares = [1, 4, 9, 16, 25]  # build a list using square brakets\n",
    "print(squares)"
   ]
  },
  {
   "cell_type": "markdown",
   "metadata": {
    "colab_type": "text",
    "id": "h210_RSQFmcH"
   },
   "source": [
    "Differently from the standard programming languages, lists can store variables of different types."
   ]
  },
  {
   "cell_type": "code",
   "execution_count": 3,
   "metadata": {
    "colab": {
     "base_uri": "https://localhost:8080/",
     "height": 35
    },
    "colab_type": "code",
    "executionInfo": {
     "elapsed": 722,
     "status": "ok",
     "timestamp": 1599811648183,
     "user": {
      "displayName": "Andrea Mazzolini",
      "photoUrl": "https://lh3.googleusercontent.com/a-/AOh14Gj889rV0hCKG0LInS5OJdlv_nS9Mv4fKmWQb2ax=s64",
      "userId": "17503038082596243982"
     },
     "user_tz": -120
    },
    "id": "2XvFHIThFmcJ",
    "outputId": "baf503a9-6bf9-437f-a97a-7ef7c2933001"
   },
   "outputs": [
    {
     "name": "stdout",
     "output_type": "stream",
     "text": [
      "[1, 2.0, 'a', 'ciao']\n"
     ]
    }
   ],
   "source": [
    "a_list = [1, 2.0, 'a', 'ciao']\n",
    "print(a_list)"
   ]
  },
  {
   "cell_type": "markdown",
   "metadata": {
    "colab_type": "text",
    "id": "kN4QIA_sFmcQ"
   },
   "source": [
    "### Indexing and slicing\n",
    "\n",
    "It works exactly as for the strings."
   ]
  },
  {
   "cell_type": "code",
   "execution_count": 4,
   "metadata": {
    "colab": {
     "base_uri": "https://localhost:8080/",
     "height": 90
    },
    "colab_type": "code",
    "executionInfo": {
     "elapsed": 771,
     "status": "ok",
     "timestamp": 1599811648561,
     "user": {
      "displayName": "Andrea Mazzolini",
      "photoUrl": "https://lh3.googleusercontent.com/a-/AOh14Gj889rV0hCKG0LInS5OJdlv_nS9Mv4fKmWQb2ax=s64",
      "userId": "17503038082596243982"
     },
     "user_tz": -120
    },
    "id": "xS5sdR7bFmcS",
    "outputId": "569b2d9b-73cc-428e-abc0-5971fc861413"
   },
   "outputs": [
    {
     "name": "stdout",
     "output_type": "stream",
     "text": [
      "1\n",
      "25\n",
      "[9, 16, 25]\n",
      "[1, 4, 9, 16, 25]\n"
     ]
    }
   ],
   "source": [
    "print(squares[0])  # indexing returns the item\n",
    "\n",
    "print(squares[-1])  # getting the last element\n",
    "\n",
    "print(squares[-3:])  # slicing returns a new list\n",
    "\n",
    "print(squares[:])"
   ]
  },
  {
   "cell_type": "markdown",
   "metadata": {
    "colab_type": "text",
    "id": "i0uMbDLNFmcX"
   },
   "source": [
    "### Modifying a list\n",
    "\n",
    "Some useful functions are listed below, for more details see the official Python documentation linked above."
   ]
  },
  {
   "cell_type": "code",
   "execution_count": 5,
   "metadata": {
    "colab": {
     "base_uri": "https://localhost:8080/",
     "height": 90
    },
    "colab_type": "code",
    "executionInfo": {
     "elapsed": 863,
     "status": "ok",
     "timestamp": 1599811649024,
     "user": {
      "displayName": "Andrea Mazzolini",
      "photoUrl": "https://lh3.googleusercontent.com/a-/AOh14Gj889rV0hCKG0LInS5OJdlv_nS9Mv4fKmWQb2ax=s64",
      "userId": "17503038082596243982"
     },
     "user_tz": -120
    },
    "id": "ydPWtoGqFmca",
    "outputId": "20a1e583-eb8c-4740-82f2-9782aac7de6b"
   },
   "outputs": [
    {
     "name": "stdout",
     "output_type": "stream",
     "text": [
      "[1, 4, 9, 16, 25, 36, 49]\n",
      "[1, 4, 9, 16, 25, 36, 49, 81]\n",
      "[1, 4, 9, 16, 25, 36, 49, 65, 81]\n",
      "[1, 4, 9, 16, 25, 36, 49, 64, 81]\n"
     ]
    }
   ],
   "source": [
    "squares = [1, 4, 9, 16, 25]\n",
    "\n",
    "squares = squares + [36, 49]  # Concatenating as for strings\n",
    "print(squares)\n",
    "\n",
    "squares.append(81)  # Adding an element at the end of the list\n",
    "print(squares)\n",
    "\n",
    "squares.insert(7, 65)  # Adding an element in a specific position\n",
    "print(squares)\n",
    "\n",
    "squares[-2] = 64 # Modifying a single value\n",
    "print(squares)"
   ]
  },
  {
   "cell_type": "markdown",
   "metadata": {
    "colab_type": "text",
    "id": "97rDD9nTFmcf"
   },
   "source": [
    "### Deleting elements"
   ]
  },
  {
   "cell_type": "code",
   "execution_count": 6,
   "metadata": {
    "colab": {
     "base_uri": "https://localhost:8080/",
     "height": 54
    },
    "colab_type": "code",
    "executionInfo": {
     "elapsed": 669,
     "status": "ok",
     "timestamp": 1599811649969,
     "user": {
      "displayName": "Andrea Mazzolini",
      "photoUrl": "https://lh3.googleusercontent.com/a-/AOh14Gj889rV0hCKG0LInS5OJdlv_nS9Mv4fKmWQb2ax=s64",
      "userId": "17503038082596243982"
     },
     "user_tz": -120
    },
    "id": "266mhv5jFmch",
    "outputId": "6767da06-b294-4843-f15c-201940c21ec0"
   },
   "outputs": [
    {
     "name": "stdout",
     "output_type": "stream",
     "text": [
      "[1, 4, 16, 25]\n",
      "[16, 25]\n"
     ]
    }
   ],
   "source": [
    "squares = [1, 4, 9, 16, 25]\n",
    "\n",
    "del(squares[2])  # Deleting the third element of the list\n",
    "print(squares)\n",
    "\n",
    "del(squares[:2]) # Deleting the first two elements\n",
    "print(squares)"
   ]
  },
  {
   "cell_type": "markdown",
   "metadata": {
    "colab_type": "text",
    "id": "t7KMOaIeFmcm"
   },
   "source": [
    "### Length"
   ]
  },
  {
   "cell_type": "code",
   "execution_count": 7,
   "metadata": {
    "colab": {
     "base_uri": "https://localhost:8080/",
     "height": 54
    },
    "colab_type": "code",
    "executionInfo": {
     "elapsed": 1066,
     "status": "ok",
     "timestamp": 1599811653517,
     "user": {
      "displayName": "Andrea Mazzolini",
      "photoUrl": "https://lh3.googleusercontent.com/a-/AOh14Gj889rV0hCKG0LInS5OJdlv_nS9Mv4fKmWQb2ax=s64",
      "userId": "17503038082596243982"
     },
     "user_tz": -120
    },
    "id": "nOPdH9IkFmco",
    "outputId": "af379c50-e482-4b77-9e27-e2eb1c8a8d80"
   },
   "outputs": [
    {
     "name": "stdout",
     "output_type": "stream",
     "text": [
      "2\n",
      "4\n"
     ]
    }
   ],
   "source": [
    "l = len(squares)  # Function to compute the length of a list\n",
    "print(l)\n",
    "\n",
    "string = \"ciao\"\n",
    "print (len(string))  # It works also for strings and other data structures "
   ]
  },
  {
   "cell_type": "markdown",
   "metadata": {
    "colab_type": "text",
    "id": "MbLS0n0tFmct"
   },
   "source": [
    "### List of lists\n",
    "\n",
    "It is possible to create nested structures."
   ]
  },
  {
   "cell_type": "code",
   "execution_count": null,
   "metadata": {
    "colab": {
     "base_uri": "https://localhost:8080/",
     "height": 35
    },
    "colab_type": "code",
    "executionInfo": {
     "elapsed": 1846,
     "status": "ok",
     "timestamp": 1567754943988,
     "user": {
      "displayName": "Andrea Mazzolini",
      "photoUrl": "https://lh3.googleusercontent.com/a-/AAuE7mARm6YUMjM1WqoWB9DeJSCtXhxEjR6a9chPFNuT=s64",
      "userId": "17503038082596243982"
     },
     "user_tz": -120
    },
    "id": "GI2lHNC4Fmcu",
    "outputId": "edbe7455-ca53-435c-bc38-efc16905e1a2"
   },
   "outputs": [
    {
     "name": "stdout",
     "output_type": "stream",
     "text": [
      "[['a', 'b', 'c'], [1, 2, 3, 4], 9]\n"
     ]
    }
   ],
   "source": [
    "a = ['a', 'b', 'c']\n",
    "n = [1, 2, 3, 4]\n",
    "x = [a, n, 9]\n",
    "print(x)"
   ]
  },
  {
   "cell_type": "code",
   "execution_count": null,
   "metadata": {
    "colab": {
     "base_uri": "https://localhost:8080/",
     "height": 53
    },
    "colab_type": "code",
    "executionInfo": {
     "elapsed": 1837,
     "status": "ok",
     "timestamp": 1567754943991,
     "user": {
      "displayName": "Andrea Mazzolini",
      "photoUrl": "https://lh3.googleusercontent.com/a-/AAuE7mARm6YUMjM1WqoWB9DeJSCtXhxEjR6a9chPFNuT=s64",
      "userId": "17503038082596243982"
     },
     "user_tz": -120
    },
    "id": "GRLHI2ZGFmcz",
    "outputId": "60127795-3b51-4a78-ee24-8af43f5bb612"
   },
   "outputs": [
    {
     "name": "stdout",
     "output_type": "stream",
     "text": [
      "[1, 2, 3, 4]\n",
      "[3, 4]\n"
     ]
    }
   ],
   "source": [
    "print(x[1])  # The first index calls the whole sub-list\n",
    "\n",
    "print(x[1][2:])  # The second index calls the elements of the sub-list"
   ]
  },
  {
   "cell_type": "markdown",
   "metadata": {
    "colab_type": "text",
    "id": "AynaSNAoFmc4"
   },
   "source": [
    "### Membership testing"
   ]
  },
  {
   "cell_type": "markdown",
   "metadata": {
    "colab_type": "text",
    "id": "-3ItQRRBFmc6"
   },
   "source": [
    "Check if an element is in the list"
   ]
  },
  {
   "cell_type": "code",
   "execution_count": null,
   "metadata": {
    "colab": {
     "base_uri": "https://localhost:8080/",
     "height": 53
    },
    "colab_type": "code",
    "executionInfo": {
     "elapsed": 1821,
     "status": "ok",
     "timestamp": 1567754943992,
     "user": {
      "displayName": "Andrea Mazzolini",
      "photoUrl": "https://lh3.googleusercontent.com/a-/AAuE7mARm6YUMjM1WqoWB9DeJSCtXhxEjR6a9chPFNuT=s64",
      "userId": "17503038082596243982"
     },
     "user_tz": -120
    },
    "id": "Z53D-02lFmc6",
    "outputId": "0b33a3d7-6912-42cb-91a3-6357c13c9c6e"
   },
   "outputs": [
    {
     "name": "stdout",
     "output_type": "stream",
     "text": [
      "True\n",
      "False\n"
     ]
    }
   ],
   "source": [
    "answer = 1 in [1,2,3,4]\n",
    "print(answer)\n",
    "\n",
    "answer = 5 in [1,2,3,4]\n",
    "print(answer)"
   ]
  },
  {
   "cell_type": "markdown",
   "metadata": {
    "colab_type": "text",
    "id": "c5nBEUddFmc_"
   },
   "source": [
    "## Dictionaries"
   ]
  },
  {
   "cell_type": "markdown",
   "metadata": {
    "colab_type": "text",
    "id": "yHTmoREDFmdA"
   },
   "source": [
    "Unlike lists, which are indexed by a range of numbers, dictionaries are indexed by keys, which can be, for example, numbers or strings."
   ]
  },
  {
   "cell_type": "markdown",
   "metadata": {
    "colab_type": "text",
    "id": "7xZziNHsFmdB"
   },
   "source": [
    "### Building them"
   ]
  },
  {
   "cell_type": "code",
   "execution_count": null,
   "metadata": {
    "colab": {
     "base_uri": "https://localhost:8080/",
     "height": 53
    },
    "colab_type": "code",
    "executionInfo": {
     "elapsed": 1808,
     "status": "ok",
     "timestamp": 1567754943993,
     "user": {
      "displayName": "Andrea Mazzolini",
      "photoUrl": "https://lh3.googleusercontent.com/a-/AAuE7mARm6YUMjM1WqoWB9DeJSCtXhxEjR6a9chPFNuT=s64",
      "userId": "17503038082596243982"
     },
     "user_tz": -120
    },
    "id": "ODAFHeVvFmdD",
    "outputId": "786ba9ad-e608-4bac-c5bd-5f641dac63a6"
   },
   "outputs": [
    {
     "name": "stdout",
     "output_type": "stream",
     "text": [
      "{'jack': 4098, 'tom': 4139}\n",
      "4098\n"
     ]
    }
   ],
   "source": [
    "tel = {'jack': 4098, 'tom': 4139}  # Build dictionaries with curly brackets\n",
    "print(tel)\n",
    "\n",
    "print(tel['jack'])  # Indexing is now done through a key"
   ]
  },
  {
   "cell_type": "code",
   "execution_count": null,
   "metadata": {
    "colab": {
     "base_uri": "https://localhost:8080/",
     "height": 35
    },
    "colab_type": "code",
    "executionInfo": {
     "elapsed": 1792,
     "status": "ok",
     "timestamp": 1567754943994,
     "user": {
      "displayName": "Andrea Mazzolini",
      "photoUrl": "https://lh3.googleusercontent.com/a-/AAuE7mARm6YUMjM1WqoWB9DeJSCtXhxEjR6a9chPFNuT=s64",
      "userId": "17503038082596243982"
     },
     "user_tz": -120
    },
    "id": "hZiQOTzZFmdH",
    "outputId": "48646540-4c70-41f1-ee7d-26ddcbfd61e6"
   },
   "outputs": [
    {
     "name": "stdout",
     "output_type": "stream",
     "text": [
      "{'jack': 4098, 'tom': 4139}\n"
     ]
    }
   ],
   "source": [
    "tel = dict((('jack', 4098), ('tom', 4139)))  # Alternative way to define a dictionary\n",
    "print(tel)"
   ]
  },
  {
   "cell_type": "code",
   "execution_count": null,
   "metadata": {
    "colab": {
     "base_uri": "https://localhost:8080/",
     "height": 53
    },
    "colab_type": "code",
    "executionInfo": {
     "elapsed": 1780,
     "status": "ok",
     "timestamp": 1567754943995,
     "user": {
      "displayName": "Andrea Mazzolini",
      "photoUrl": "https://lh3.googleusercontent.com/a-/AAuE7mARm6YUMjM1WqoWB9DeJSCtXhxEjR6a9chPFNuT=s64",
      "userId": "17503038082596243982"
     },
     "user_tz": -120
    },
    "id": "9ikrGzMBFmdN",
    "outputId": "214a5502-ae2b-4278-a997-85750f171974"
   },
   "outputs": [
    {
     "name": "stdout",
     "output_type": "stream",
     "text": [
      "['jack', 'tom']\n",
      "dict_values([4098, 4139])\n"
     ]
    }
   ],
   "source": [
    "print(list(tel))  # casting the dict to a list returns the keys\n",
    "\n",
    "print(tel.values())  # The value method returns the values"
   ]
  },
  {
   "cell_type": "markdown",
   "metadata": {
    "colab_type": "text",
    "id": "0Q-HiQ13FmdS"
   },
   "source": [
    "### Modifying a dictionary"
   ]
  },
  {
   "cell_type": "code",
   "execution_count": null,
   "metadata": {
    "colab": {
     "base_uri": "https://localhost:8080/",
     "height": 72
    },
    "colab_type": "code",
    "executionInfo": {
     "elapsed": 1773,
     "status": "ok",
     "timestamp": 1567754943997,
     "user": {
      "displayName": "Andrea Mazzolini",
      "photoUrl": "https://lh3.googleusercontent.com/a-/AAuE7mARm6YUMjM1WqoWB9DeJSCtXhxEjR6a9chPFNuT=s64",
      "userId": "17503038082596243982"
     },
     "user_tz": -120
    },
    "id": "BsguqGr0FmdT",
    "outputId": "c650e829-17fc-4178-fd30-0405b2934e1a"
   },
   "outputs": [
    {
     "name": "stdout",
     "output_type": "stream",
     "text": [
      "{'jack': 1234, 'tom': 4139}\n",
      "{'jack': 1234, 'tom': 4139, 'jonh': 4321}\n",
      "{'tom': 4139, 'jonh': 4321}\n"
     ]
    }
   ],
   "source": [
    "tel['jack'] = 1234  # Modify through key indexing\n",
    "print (tel)\n",
    "\n",
    "tel['jonh'] = 4321  # If the key doesn't exist, a new entry is added\n",
    "print (tel)\n",
    "\n",
    "del(tel['jack'])  # Delete an element\n",
    "print (tel)"
   ]
  },
  {
   "cell_type": "markdown",
   "metadata": {
    "colab_type": "text",
    "id": "iGwSwuIyFmdX"
   },
   "source": [
    "## Other structures"
   ]
  },
  {
   "cell_type": "markdown",
   "metadata": {
    "colab_type": "text",
    "id": "8wl_rEpSFmdY"
   },
   "source": [
    "### Tuple"
   ]
  },
  {
   "cell_type": "markdown",
   "metadata": {
    "colab_type": "text",
    "id": "ZyBnQuemFmda"
   },
   "source": [
    "Very similar to lists."
   ]
  },
  {
   "cell_type": "code",
   "execution_count": 8,
   "metadata": {
    "colab": {
     "base_uri": "https://localhost:8080/",
     "height": 54
    },
    "colab_type": "code",
    "executionInfo": {
     "elapsed": 907,
     "status": "ok",
     "timestamp": 1599811742595,
     "user": {
      "displayName": "Andrea Mazzolini",
      "photoUrl": "https://lh3.googleusercontent.com/a-/AOh14Gj889rV0hCKG0LInS5OJdlv_nS9Mv4fKmWQb2ax=s64",
      "userId": "17503038082596243982"
     },
     "user_tz": -120
    },
    "id": "h2C3Nf5zFmdc",
    "outputId": "ff01fc5b-91ea-4748-c426-2637e096435a"
   },
   "outputs": [
    {
     "name": "stdout",
     "output_type": "stream",
     "text": [
      "(12345, 54321, 'hello!')\n",
      "(54321, 'hello!')\n"
     ]
    }
   ],
   "source": [
    "tup = (12345, 54321, 'hello!')  # Built with round brackets\n",
    "\n",
    "print(tup)\n",
    "\n",
    "print(tup[1:])  # Normal indexing and slicing"
   ]
  },
  {
   "cell_type": "markdown",
   "metadata": {
    "colab_type": "text",
    "id": "_V4OIbXPFmdh"
   },
   "source": [
    "But they are *immutable*: they cannot be modified by indexing:"
   ]
  },
  {
   "cell_type": "code",
   "execution_count": 9,
   "metadata": {
    "colab": {
     "base_uri": "https://localhost:8080/",
     "height": 174
    },
    "colab_type": "code",
    "executionInfo": {
     "elapsed": 592,
     "status": "error",
     "timestamp": 1599811743144,
     "user": {
      "displayName": "Andrea Mazzolini",
      "photoUrl": "https://lh3.googleusercontent.com/a-/AOh14Gj889rV0hCKG0LInS5OJdlv_nS9Mv4fKmWQb2ax=s64",
      "userId": "17503038082596243982"
     },
     "user_tz": -120
    },
    "id": "Lo98Uz_DFmdi",
    "outputId": "ba77dae3-4519-41dc-ca35-1cd3dd08e3d3"
   },
   "outputs": [
    {
     "ename": "TypeError",
     "evalue": "ignored",
     "output_type": "error",
     "traceback": [
      "\u001b[0;31m---------------------------------------------------------------------------\u001b[0m",
      "\u001b[0;31mTypeError\u001b[0m                                 Traceback (most recent call last)",
      "\u001b[0;32m<ipython-input-9-2a439c7e3297>\u001b[0m in \u001b[0;36m<module>\u001b[0;34m()\u001b[0m\n\u001b[0;32m----> 1\u001b[0;31m \u001b[0mtup\u001b[0m\u001b[0;34m[\u001b[0m\u001b[0;36m1\u001b[0m\u001b[0;34m]\u001b[0m \u001b[0;34m=\u001b[0m \u001b[0;36m33\u001b[0m\u001b[0;34m\u001b[0m\u001b[0;34m\u001b[0m\u001b[0m\n\u001b[0m",
      "\u001b[0;31mTypeError\u001b[0m: 'tuple' object does not support item assignment"
     ]
    }
   ],
   "source": [
    "tup[1] = 33"
   ]
  },
  {
   "cell_type": "markdown",
   "metadata": {
    "colab_type": "text",
    "id": "TmwZuPshFmdo"
   },
   "source": [
    "They are typically used for multiple assignments"
   ]
  },
  {
   "cell_type": "code",
   "execution_count": 13,
   "metadata": {
    "colab": {
     "base_uri": "https://localhost:8080/",
     "height": 72
    },
    "colab_type": "code",
    "executionInfo": {
     "elapsed": 1146,
     "status": "ok",
     "timestamp": 1599812622331,
     "user": {
      "displayName": "Andrea Mazzolini",
      "photoUrl": "https://lh3.googleusercontent.com/a-/AOh14Gj889rV0hCKG0LInS5OJdlv_nS9Mv4fKmWQb2ax=s64",
      "userId": "17503038082596243982"
     },
     "user_tz": -120
    },
    "id": "yjxe_y_HFmdp",
    "outputId": "3083035c-879a-4467-b2d6-e7a7bad160d2"
   },
   "outputs": [
    {
     "name": "stdout",
     "output_type": "stream",
     "text": [
      "1\n",
      "2\n",
      "3\n"
     ]
    }
   ],
   "source": [
    "a,b,c = (1,2,3)\n",
    "print (a)\n",
    "print (b)\n",
    "print (c)"
   ]
  },
  {
   "cell_type": "markdown",
   "metadata": {
    "colab_type": "text",
    "id": "DJiRLnZwFmdt"
   },
   "source": [
    "And can also be used as keys for the dictionaries (the list cannot)"
   ]
  },
  {
   "cell_type": "code",
   "execution_count": 11,
   "metadata": {
    "colab": {
     "base_uri": "https://localhost:8080/",
     "height": 54
    },
    "colab_type": "code",
    "executionInfo": {
     "elapsed": 879,
     "status": "ok",
     "timestamp": 1599811780178,
     "user": {
      "displayName": "Andrea Mazzolini",
      "photoUrl": "https://lh3.googleusercontent.com/a-/AOh14Gj889rV0hCKG0LInS5OJdlv_nS9Mv4fKmWQb2ax=s64",
      "userId": "17503038082596243982"
     },
     "user_tz": -120
    },
    "id": "aR6SjcFvFmdu",
    "outputId": "980d1c6a-cfef-4167-af78-f2c1d6987d3f"
   },
   "outputs": [
    {
     "name": "stdout",
     "output_type": "stream",
     "text": [
      "{(1, 0): 'a', (0, 0): 'b'}\n",
      "a\n"
     ]
    }
   ],
   "source": [
    "d = {(1,0) : 'a' , (0,0) : 'b'}\n",
    "print(d)\n",
    "print(d[(1,0)])"
   ]
  },
  {
   "cell_type": "markdown",
   "metadata": {
    "colab_type": "text",
    "id": "YsB0SG4tFmdx"
   },
   "source": [
    "### Sets"
   ]
  },
  {
   "cell_type": "markdown",
   "metadata": {
    "colab_type": "text",
    "id": "u4KuAE59Fmd0"
   },
   "source": [
    "A set is an unordered collection with no duplicate elements."
   ]
  },
  {
   "cell_type": "code",
   "execution_count": 12,
   "metadata": {
    "colab": {
     "base_uri": "https://localhost:8080/",
     "height": 35
    },
    "colab_type": "code",
    "executionInfo": {
     "elapsed": 909,
     "status": "ok",
     "timestamp": 1599811812900,
     "user": {
      "displayName": "Andrea Mazzolini",
      "photoUrl": "https://lh3.googleusercontent.com/a-/AOh14Gj889rV0hCKG0LInS5OJdlv_nS9Mv4fKmWQb2ax=s64",
      "userId": "17503038082596243982"
     },
     "user_tz": -120
    },
    "id": "E5BWW6_HFmd1",
    "outputId": "25b2e299-8495-4bf1-e65c-6d9c74391c17"
   },
   "outputs": [
    {
     "name": "stdout",
     "output_type": "stream",
     "text": [
      "{'b', 'a', 'c'}\n"
     ]
    }
   ],
   "source": [
    "s = set(('a', 'a', 'b', 'c')) # Multiple elements are automatically deleted during construction\n",
    "print (s)"
   ]
  },
  {
   "cell_type": "markdown",
   "metadata": {
    "colab_type": "text",
    "id": "xR21mEDkFmd3"
   },
   "source": [
    "Set operations"
   ]
  },
  {
   "cell_type": "code",
   "execution_count": null,
   "metadata": {
    "colab": {
     "base_uri": "https://localhost:8080/",
     "height": 108
    },
    "colab_type": "code",
    "executionInfo": {
     "elapsed": 407,
     "status": "ok",
     "timestamp": 1567754950955,
     "user": {
      "displayName": "Andrea Mazzolini",
      "photoUrl": "https://lh3.googleusercontent.com/a-/AAuE7mARm6YUMjM1WqoWB9DeJSCtXhxEjR6a9chPFNuT=s64",
      "userId": "17503038082596243982"
     },
     "user_tz": -120
    },
    "id": "l8re7Ue5Fmd5",
    "outputId": "cf6db8ad-42ac-4a0a-fafc-ce5511f0133a"
   },
   "outputs": [
    {
     "name": "stdout",
     "output_type": "stream",
     "text": [
      "{'d', 'r', 'c', 'b', 'a'}\n",
      "{'b', 'r', 'd'}\n",
      "{'z', 'l', 'd', 'r', 'c', 'm', 'b', 'a'}\n",
      "{'c', 'a'}\n",
      "{'z', 'r', 'm', 'l', 'b', 'd'}\n"
     ]
    }
   ],
   "source": [
    "a = set('abracadabra')\n",
    "b = set('alacazam')\n",
    "print(a)                                  # unique letters in a\n",
    "\n",
    "print(a - b)                              # letters in a but not in b\n",
    "\n",
    "print(a | b)                              # letters in a or b or both\n",
    "\n",
    "print(a & b)                              # letters in both a and b\n",
    "\n",
    "print(a ^ b)                              # letters in a or b but not both"
   ]
  },
  {
   "cell_type": "code",
   "execution_count": null,
   "metadata": {
    "colab": {},
    "colab_type": "code",
    "id": "_9LCu2OYFmd7"
   },
   "outputs": [],
   "source": []
  }
 ],
 "metadata": {
  "colab": {
   "collapsed_sections": [],
   "name": "2 - Data structures.ipynb",
   "provenance": []
  },
  "kernelspec": {
   "display_name": "Python 3",
   "language": "python",
   "name": "python3"
  },
  "language_info": {
   "codemirror_mode": {
    "name": "ipython",
    "version": 3
   },
   "file_extension": ".py",
   "mimetype": "text/x-python",
   "name": "python",
   "nbconvert_exporter": "python",
   "pygments_lexer": "ipython3",
   "version": "3.8.8"
  }
 },
 "nbformat": 4,
 "nbformat_minor": 1
}
