{
 "cells": [
  {
   "cell_type": "code",
   "execution_count": 1,
   "metadata": {
    "colab": {},
    "colab_type": "code",
    "id": "RuUfyzk0ZX5I"
   },
   "outputs": [],
   "source": [
    "import numpy as np\n",
    "import matplotlib.pyplot as plt\n",
    "from time import time"
   ]
  },
  {
   "cell_type": "markdown",
   "metadata": {
    "colab_type": "text",
    "id": "P0JYoB6wjui1"
   },
   "source": [
    "# Computing integrals with Motecarlo methods\n",
    "\n",
    "This exercise show two approaches to compute integrals using Montecarlo algorithms.\n",
    "The first is based on the **uniform sample average** of the function that you want to integrate, and the second uses **importance sampling**.\n",
    "\n"
   ]
  },
  {
   "cell_type": "markdown",
   "metadata": {
    "colab_type": "text",
    "id": "p9aSvFAETRSV"
   },
   "source": [
    "## 1 - Start by writing and plotting the function\n",
    "\n",
    "Here we focus on the gaussian function:\n",
    "\n",
    "\\begin{equation}\n",
    "f(x) = e^{-x^2}\n",
    "\\end{equation}\n",
    "\n",
    "Write it in a python function.."
   ]
  },
  {
   "cell_type": "code",
   "execution_count": 2,
   "metadata": {
    "colab": {},
    "colab_type": "code",
    "id": "FyACTAjkj34Q"
   },
   "outputs": [],
   "source": [
    "def gaussian_func(x):\n",
    "    return np.exp(-x**2)"
   ]
  },
  {
   "cell_type": "markdown",
   "metadata": {
    "colab_type": "text",
    "id": "YHhH7aKITysj"
   },
   "source": [
    ".. and plot it in $[0,4]$"
   ]
  },
  {
   "cell_type": "code",
   "execution_count": 3,
   "metadata": {
    "colab": {},
    "colab_type": "code",
    "id": "Dsbma3WLj9zX"
   },
   "outputs": [
    {
     "data": {
      "image/png": "[encoded data removed]",
      "text/plain": [
       "<Figure size 432x288 with 1 Axes>"
      ]
     },
     "metadata": {
      "needs_background": "light"
     },
     "output_type": "display_data"
    }
   ],
   "source": [
    "x = np.linspace(0,4,500)\n",
    "gaussian_values = gaussian_func(x)\n",
    "    \n",
    "plt.plot(x, gaussian_values)\n",
    "plt.show()"
   ]
  },
  {
   "cell_type": "markdown",
   "metadata": {
    "colab_type": "text",
    "id": "B11ZolYOhzoy"
   },
   "source": [
    "For the gaussian integral we know that:\n",
    "\n",
    "\\begin{equation}\n",
    " I = \\int_0^\\infty dx \\; e^{-x^2} = \\frac{\\sqrt{\\pi}}{2}\n",
    "\\end{equation}\n",
    "\n",
    "(It's a good exercise to solve it! The trick is to consider $I^2 = \\int dx dy \\; exp(-x^2 - y^2)$, and to use the polar coordinates.)\n",
    "\n",
    "However, choosing other integration boundaries, there is no a general analytical form."
   ]
  },
  {
   "cell_type": "markdown",
   "metadata": {
    "colab_type": "text",
    "id": "BLRoucyjqcVD"
   },
   "source": [
    "## 2 - Integral with sample average\n",
    "\n",
    "To estimate the integral we use the following property. Given $U$ a uniform random variable in $[a,b]$, $P(U = u) = 1/(b-a)$, the sample average over this uniform distribution converges to the average value of $f(x)$:\n",
    "\n",
    "\\begin{equation}\n",
    " \\int_a^b dx \\; f(x) = (b-a) \\langle f(x) \\rangle = (b-a) \\lim_{N \\rightarrow \\infty} \\frac{1}{N} \\sum_{i=1}^N f(U_i)\n",
    "\\end{equation}\n",
    "\n",
    "Therefore, throwing a lot of unifrom random variables $U$, try $10000$, and summing the function at that values, you can estimate the integral using the formula above.\n",
    "\n",
    "We want to estimate the integral in $[0, \\infty)$, whose value is known, $\\frac{\\sqrt{\\pi}}{2}$.\n",
    "But there is a problem: to solve such a task the uniform random variable should be generated in an infinitely long interval, and this is not computationally possible.\n",
    "However, as you can see from the plot, the function approaches $0$ very quickly: the value of the integral is strongly determined by $x$ less than $3$. Larger values provide negligible contribution. This allows us to consider uniform samples in, for example, $[0,4]$. This will provide anyway a good estimate of the integral.\n",
    "\n",
    "Write a function that takes as input the number of samples and the upper bound on the interval of the uniform samples, and return the integral estimate. Compare it with the true value.\n"
   ]
  },
  {
   "cell_type": "code",
   "execution_count": 4,
   "metadata": {
    "colab": {},
    "colab_type": "code",
    "id": "WiS8se2Plv6m"
   },
   "outputs": [],
   "source": [
    "def integral_sample_average(num_samples, a, b):    \n",
    "    range_x = b - a\n",
    "    x = np.random.rand(num_samples)*range_x + a\n",
    "    integral = np.sum(gaussian_func(x))     \n",
    "    integral_estimate = (b-a) * integral /num_samples\n",
    "    return integral_estimate"
   ]
  },
  {
   "cell_type": "code",
   "execution_count": 5,
   "metadata": {},
   "outputs": [
    {
     "data": {
      "text/plain": [
       "0.8968453948813183"
      ]
     },
     "execution_count": 5,
     "metadata": {},
     "output_type": "execute_result"
    }
   ],
   "source": [
    "integral_sample_average(20000, 0, 5)"
   ]
  },
  {
   "cell_type": "code",
   "execution_count": 6,
   "metadata": {},
   "outputs": [
    {
     "data": {
      "text/plain": [
       "0.8862269254527579"
      ]
     },
     "execution_count": 6,
     "metadata": {},
     "output_type": "execute_result"
    }
   ],
   "source": [
    "np.sqrt(np.pi)/2"
   ]
  },
  {
   "cell_type": "markdown",
   "metadata": {
    "colab_type": "text",
    "id": "w-3bHrr3orw_"
   },
   "source": [
    "## 2 - Importance sampling\n",
    "\n",
    "Notice that, since the sample is uniform, a lot of times I will choose values greater than $2$, which provide a very small contribution to the integral. It's like that I'm wasting a lot of sample.\n",
    "The idea of importance sampling is to change the way in which my random points are sampled, by focusing more on the \"more important\" regions where the function to integrate is large (here, I want to sample with higher probability small $x$ values).\n",
    "\n",
    "Let's assume that a new random variable $Y$ is a good candidate for sampling with higher frequency the important regions of my space. The probability distribution of $Y$ is given by $g(y)$.\n",
    "Then the formula to estimate the integral changes in the following way:\n",
    "\n",
    "\\begin{equation}\n",
    " \\int_a^b dx \\; f(x) = \\int_a^b dx \\; \\frac{f(x)}{g(x)} g(x) = \\lim_{N \\rightarrow \\infty} \\frac{1}{N} \\sum_{i=1}^N \\frac{f(Y_i)}{g(Y_i)}\n",
    "\\end{equation}\n",
    "\n",
    "A good candidate in the case of the gaussian integral is the exponential distribution $g(y) = e^{-y}$. Indeed, it gives more weight to small values of $x$.\n",
    "This is the one that we are using here, also because exponential samples are easy to generate. However this is not the only choice and there can be smarter distributions..\n",
    "\n",
    "\n",
    "### 2a - Write a generator of exponentially distributed samples.\n",
    "\n",
    "Write a function that takes as argument the number of samples and return an array of exponentially distributed samples.\n",
    "Remember that, for a continuous distribution, given $U \\in [0,1)$ a uniformally distributed variable, the sample of $Y$ from $g(y)$ can be obtained as follows:\n",
    "\\begin{equation}\n",
    "Y = G^{-1}(U)\n",
    "\\end{equation}\n",
    "where $G(y) = \\int_{y_0}^y g(y') dy'$ is the cumulative distribution of $g(y)$, which has to be inverted.\n",
    "\n",
    "For the exponential distribution, its cumulative can be analitically obtained, and its inverse can be computed. The exponential sample can be then generated by a uniform sample using:\n",
    "\\begin{equation}\n",
    "Y = - \\log(1 - U)\n",
    "\\end{equation}\n"
   ]
  },
  {
   "cell_type": "code",
   "execution_count": 24,
   "metadata": {},
   "outputs": [],
   "source": [
    "def exp_distribution(y):\n",
    "    return np.exp(-y)"
   ]
  },
  {
   "cell_type": "code",
   "execution_count": 25,
   "metadata": {},
   "outputs": [
    {
     "data": {
      "image/png": "[encoded data removed]",
      "text/plain": [
       "<Figure size 432x288 with 1 Axes>"
      ]
     },
     "metadata": {
      "needs_background": "light"
     },
     "output_type": "display_data"
    }
   ],
   "source": [
    "x = np.linspace(0,4,1000)\n",
    "exp_distribution_output = exp_distribution(x)\n",
    "    \n",
    "plt.plot(x, exp_distribution_output)\n",
    "plt.show()"
   ]
  },
  {
   "cell_type": "code",
   "execution_count": 9,
   "metadata": {
    "colab": {},
    "colab_type": "code",
    "id": "SVuGV7A74qZ3",
    "tags": []
   },
   "outputs": [],
   "source": [
    "def exp_distributed_sample(num_samples, a, b):\n",
    "    range_x = b - a\n",
    "    y = np.random.rand(num_samples)*range_x + a\n",
    "    Y = -np.log(1-y) \n",
    "    return Y"
   ]
  },
  {
   "cell_type": "code",
   "execution_count": 11,
   "metadata": {},
   "outputs": [],
   "source": [
    "exp_distributed_sample_output = exp_distributed_sample(1000, 0, 1)\n",
    "# exp_distributed_sample_output"
   ]
  },
  {
   "cell_type": "markdown",
   "metadata": {
    "colab_type": "text",
    "id": "W8TWpvA647HR"
   },
   "source": [
    "Plot the normalized histogram of $10000$ generated samples, and compare it with the exponential distribution $g(y) = e^{-y}$."
   ]
  },
  {
   "cell_type": "code",
   "execution_count": 12,
   "metadata": {},
   "outputs": [],
   "source": [
    "def normalize(output):\n",
    "    mean_x = np.mean(output)\n",
    "    stddev = np.std(output)\n",
    "    norm_list = []\n",
    "    for i in output:\n",
    "        normalize = (i - mean_x)/stddev\n",
    "        norm_list.append(normalize)\n",
    "    return norm_list"
   ]
  },
  {
   "cell_type": "code",
   "execution_count": 27,
   "metadata": {},
   "outputs": [
    {
     "data": {
      "text/plain": [
       "[<matplotlib.lines.Line2D at 0x28ee5d3dbe0>]"
      ]
     },
     "execution_count": 27,
     "metadata": {},
     "output_type": "execute_result"
    },
    {
     "data": {
      "image/png": "[encoded data removed]",
      "text/plain": [
       "<Figure size 432x288 with 1 Axes>"
      ]
     },
     "metadata": {
      "needs_background": "light"
     },
     "output_type": "display_data"
    }
   ],
   "source": [
    "plt.plot(x, exp_distribution_output, label = 'exp_distribution')"
   ]
  },
  {
   "cell_type": "code",
   "execution_count": 29,
   "metadata": {},
   "outputs": [
    {
     "name": "stderr",
     "output_type": "stream",
     "text": [
      "No handles with labels found to put in legend.\n"
     ]
    },
    {
     "data": {
      "image/png": "[encoded data removed]",
      "text/plain": [
       "<Figure size 1080x360 with 2 Axes>"
      ]
     },
     "metadata": {
      "needs_background": "light"
     },
     "output_type": "display_data"
    }
   ],
   "source": [
    "norm_exp_distributed_sample = normalize(exp_distributed_sample_output)\n",
    "# norm_exp_distribution = normalize(exp_distribution_output)\n",
    "\n",
    "fig, ax = plt.subplots(1, 2, figsize=(15,5))\n",
    "ax[0].hist(exp_distributed_sample_output,  density = True, label = 'exponentialy_distributed_samples')\n",
    "ax[0].set_ylim(0,1)\n",
    "ax[0].legend()\n",
    "\n",
    "ax[0].plot(x, exp_distribution_output, label = 'exp_distribution')\n",
    "ax[1].legend()\n",
    "plt.show()"
   ]
  },
  {
   "cell_type": "markdown",
   "metadata": {
    "colab_type": "text",
    "id": "PdsWwqx45-gp"
   },
   "source": [
    "### 2b - Estimate the integral using importance sampling\n",
    "\n",
    "Now that you have a generator of exponentially distributed samples, you can estimate the gaussian integral with importance sampling.\n",
    "\n",
    "Write the function that, given the number of samples as input, returns the integral estimate."
   ]
  },
  {
   "cell_type": "code",
   "execution_count": 14,
   "metadata": {
    "colab": {},
    "colab_type": "code",
    "id": "JmI4Q0TI6edW"
   },
   "outputs": [],
   "source": [
    "def importance_sampling(num_samples, a, b):\n",
    "    Y = exp_distributed_sample(num_samples, a, b)\n",
    "    g = exp_distribution(Y)\n",
    "    f = gaussian_func(Y)\n",
    "    value = (1/num_samples) * np.sum(f/g)\n",
    "    return value"
   ]
  },
  {
   "cell_type": "code",
   "execution_count": 15,
   "metadata": {},
   "outputs": [
    {
     "data": {
      "text/plain": [
       "0.8859594884277118"
      ]
     },
     "execution_count": 15,
     "metadata": {},
     "output_type": "execute_result"
    }
   ],
   "source": [
    "importance_sampling(20000, 0, 1)"
   ]
  },
  {
   "cell_type": "markdown",
   "metadata": {
    "colab_type": "text",
    "id": "JjBjb5CL62vL"
   },
   "source": [
    "## 3 - Comparing the performance of the two methods\n",
    "\n",
    "Now we test if importance sampling really improve the performance.\n",
    "\n",
    "A firts test is about the variance of the model, whose square root is the standard deviation, which gives an estimate of the error of the algorithm.\n",
    "\n",
    "For each method (sample average and importance samping) write a function that, given the number of samples and the number of parallel realizations  as parameters, generates the average and the standard deviation of the integral estimate."
   ]
  },
  {
   "cell_type": "code",
   "execution_count": 16,
   "metadata": {
    "colab": {},
    "colab_type": "code",
    "id": "7YsWMuJi9vwD"
   },
   "outputs": [],
   "source": [
    "def compare_performance(function, num_samples, n_realizations,a, b):    \n",
    "    sample_ave_list = []\n",
    "    mean_list = []\n",
    "    std_list = []\n",
    "    for i in num_samples:\n",
    "        for j in range(n_realizations):\n",
    "            sample_average = function(i, a, b)\n",
    "            sample_ave_list.append(sample_average)\n",
    "            \n",
    "        mean_sample_ave = np.mean(sample_ave_list)\n",
    "        std_sample_ave = np.std(sample_ave_list)\n",
    "        \n",
    "        mean_list.append(mean_sample_ave)\n",
    "        std_list.append(std_sample_ave)\n",
    "    return mean_list, std_list"
   ]
  },
  {
   "cell_type": "markdown",
   "metadata": {
    "colab_type": "text",
    "id": "P6REVyr2CM85"
   },
   "source": [
    "Then, using this function, store the average and the standard deviation in an array for different number of samples."
   ]
  },
  {
   "cell_type": "code",
   "execution_count": 30,
   "metadata": {
    "colab": {},
    "colab_type": "code",
    "id": "PQjJ9Xkt-KaX"
   },
   "outputs": [],
   "source": [
    "num_samples = [10, 100, 1000, 10000]\n",
    "n_realizations = 1000\n",
    "a = 0\n",
    "b = 1\n",
    "mean_sample_ave, std_sample_ave = compare_performance(integral_sample_average, num_samples, n_realizations,0, 10)\n",
    "mean_importance_sampling, std_importance_sampling = compare_performance(importance_sampling, num_samples, n_realizations,0, 1)"
   ]
  },
  {
   "cell_type": "markdown",
   "metadata": {
    "colab_type": "text",
    "id": "8aFEzj43Cdw4"
   },
   "source": [
    "Plot the average and the standard deviation of the two methods as a function of the number of samples."
   ]
  },
  {
   "cell_type": "code",
   "execution_count": 31,
   "metadata": {
    "colab": {},
    "colab_type": "code",
    "id": "xjYgq5lN-kd4"
   },
   "outputs": [
    {
     "data": {
      "image/png": "[encoded data removed]",
      "text/plain": [
       "<Figure size 1080x360 with 2 Axes>"
      ]
     },
     "metadata": {
      "needs_background": "light"
     },
     "output_type": "display_data"
    }
   ],
   "source": [
    "x = [x for x in num_samples]\n",
    "\n",
    "fig, ax = plt.subplots(1, 2, figsize=(15,5))\n",
    "ax[0].plot(x, mean_sample_ave, label = 'mean_sample_average')\n",
    "ax[0].plot(x, mean_importance_sampling, label = 'mean_importance_sampling')\n",
    "ax[0].legend()\n",
    "\n",
    "ax[1].plot(x, std_sample_ave, label = 'sample_ave')\n",
    "ax[1].plot(x, std_importance_sampling, label='importance_sampling')\n",
    "ax[1].legend()\n",
    "plt.show()"
   ]
  },
  {
   "cell_type": "markdown",
   "metadata": {
    "colab_type": "text",
    "id": "t5jCKedC_imS"
   },
   "source": [
    "From the standard deviation plot you can see that, to reach the same error, the importance sampling needs one order of magnitude less samples than the uniform one!\n",
    "\n",
    "### 3b Extra - Compare also the computational time"
   ]
  },
  {
   "cell_type": "code",
   "execution_count": 19,
   "metadata": {},
   "outputs": [],
   "source": [
    "num_samples = [10, 100, 1000, 10000]\n",
    "n_realizations = 1000\n",
    "a = 0\n",
    "b = 1"
   ]
  },
  {
   "cell_type": "markdown",
   "metadata": {},
   "source": [
    "Integral sample average"
   ]
  },
  {
   "cell_type": "code",
   "execution_count": 32,
   "metadata": {
    "colab": {},
    "colab_type": "code",
    "id": "B9M89YTsA_YC"
   },
   "outputs": [
    {
     "name": "stdout",
     "output_type": "stream",
     "text": [
      "0.4328646659851074\n"
     ]
    }
   ],
   "source": [
    "start = time()\n",
    "mean_sample_ave, std_sample_ave = compare_performance(integral_sample_average, num_samples, n_realizations,a, b)\n",
    "end = time()\n",
    "print(end - start)"
   ]
  },
  {
   "cell_type": "markdown",
   "metadata": {},
   "source": [
    "Importance Sampling"
   ]
  },
  {
   "cell_type": "code",
   "execution_count": 33,
   "metadata": {},
   "outputs": [
    {
     "name": "stdout",
     "output_type": "stream",
     "text": [
      "0.756425142288208\n"
     ]
    }
   ],
   "source": [
    "start = time()\n",
    "mean_importance_sampling, std_importance_sampling = compare_performance(importance_sampling, num_samples, n_realizations,a, b)\n",
    "end = time()\n",
    "print(end - start)"
   ]
  },
  {
   "cell_type": "markdown",
   "metadata": {
    "colab_type": "text",
    "id": "4qokzRxbAE4m"
   },
   "source": [
    "## 4 Extra - Evaluate the gaussian integral in a generic range of values $(a,b)$ using importance sampling.\n",
    "\n",
    "Note that, to generate samples in $(a,b)$ (let's assume that they are greater than zero) you need a proper normaliztion coefficient for the exponential distribution if $Y \\in (a,b)$:\n",
    "\n",
    "$$\n",
    "g(y) = \\frac{e^{-y}}{e^{-a} - e^{-b}}\n",
    "$$\n",
    "\n",
    "This changes the formula to generate exponentially distributed samples from the unifom random variable..."
   ]
  },
  {
   "cell_type": "code",
   "execution_count": null,
   "metadata": {
    "colab": {},
    "colab_type": "code",
    "id": "rqQ7NGjEzMvS"
   },
   "outputs": [],
   "source": []
  }
 ],
 "metadata": {
  "colab": {
   "collapsed_sections": [],
   "name": "Gaussian integral exercise.ipynb",
   "provenance": []
  },
  "kernelspec": {
   "display_name": "Python 3",
   "language": "python",
   "name": "python3"
  },
  "language_info": {
   "codemirror_mode": {
    "name": "ipython",
    "version": 3
   },
   "file_extension": ".py",
   "mimetype": "text/x-python",
   "name": "python",
   "nbconvert_exporter": "python",
   "pygments_lexer": "ipython3",
   "version": "3.8.8"
  }
 },
 "nbformat": 4,
 "nbformat_minor": 4
}
