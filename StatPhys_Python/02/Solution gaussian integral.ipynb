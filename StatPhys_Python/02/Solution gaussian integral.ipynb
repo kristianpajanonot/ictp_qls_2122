{
 "cells": [
  {
   "cell_type": "code",
   "execution_count": 4,
   "metadata": {
    "executionInfo": {
     "elapsed": 1287,
     "status": "ok",
     "timestamp": 1602074516527,
     "user": {
      "displayName": "Andrea Mazzolini",
      "photoUrl": "https://lh3.googleusercontent.com/a-/AOh14Gj889rV0hCKG0LInS5OJdlv_nS9Mv4fKmWQb2ax=s64",
      "userId": "17503038082596243982"
     },
     "user_tz": -120
    },
    "id": "RuUfyzk0ZX5I"
   },
   "outputs": [],
   "source": [
    "import numpy as np\n",
    "import matplotlib.pyplot as plt"
   ]
  },
  {
   "cell_type": "markdown",
   "metadata": {
    "id": "P0JYoB6wjui1"
   },
   "source": [
    "# Computing integrals with Motecarlo methods\n",
    "\n",
    "This exercise show two approaches to compute integrals using Montecarlo algorithms.\n",
    "The first is based on the **uniform sample average** of the function that you want to integrate, and the second uses **importance sampling**.\n",
    "\n"
   ]
  },
  {
   "cell_type": "markdown",
   "metadata": {
    "id": "p9aSvFAETRSV"
   },
   "source": [
    "## 1 - Start by writing and plotting the function\n",
    "\n",
    "Here we focus on the gaussian function:\n",
    "\n",
    "\\begin{equation}\n",
    "f(x) = e^{-x^2}\n",
    "\\end{equation}\n",
    "\n",
    "Write it in a python function.."
   ]
  },
  {
   "cell_type": "code",
   "execution_count": 5,
   "metadata": {
    "executionInfo": {
     "elapsed": 1947,
     "status": "ok",
     "timestamp": 1602074522007,
     "user": {
      "displayName": "Andrea Mazzolini",
      "photoUrl": "https://lh3.googleusercontent.com/a-/AOh14Gj889rV0hCKG0LInS5OJdlv_nS9Mv4fKmWQb2ax=s64",
      "userId": "17503038082596243982"
     },
     "user_tz": -120
    },
    "id": "FyACTAjkj34Q"
   },
   "outputs": [],
   "source": [
    "def gauss_func(x):\n",
    "  return np.exp(-x**2)"
   ]
  },
  {
   "cell_type": "markdown",
   "metadata": {
    "id": "YHhH7aKITysj"
   },
   "source": [
    ".. and plot it in $[0,4]$"
   ]
  },
  {
   "cell_type": "code",
   "execution_count": 6,
   "metadata": {
    "colab": {
     "base_uri": "https://localhost:8080/",
     "height": 302
    },
    "executionInfo": {
     "elapsed": 1559,
     "status": "ok",
     "timestamp": 1602074522010,
     "user": {
      "displayName": "Andrea Mazzolini",
      "photoUrl": "https://lh3.googleusercontent.com/a-/AOh14Gj889rV0hCKG0LInS5OJdlv_nS9Mv4fKmWQb2ax=s64",
      "userId": "17503038082596243982"
     },
     "user_tz": -120
    },
    "id": "Dsbma3WLj9zX",
    "outputId": "41d1b80a-2a5a-4cb9-baca-0b104a34c9cc"
   },
   "outputs": [
    {
     "data": {
      "text/plain": [
       "<matplotlib.legend.Legend at 0x7f9b91151080>"
      ]
     },
     "execution_count": 6,
     "metadata": {
      "tags": []
     },
     "output_type": "execute_result"
    },
    {
     "data": {
      "image/png": "[encoded data removed]",
      "text/plain": [
       "<Figure size 432x288 with 1 Axes>"
      ]
     },
     "metadata": {
      "needs_background": "light",
      "tags": []
     },
     "output_type": "display_data"
    }
   ],
   "source": [
    "low_bound, up_bound = 0,4\n",
    "\n",
    "plt.xlabel(\"x\",fontsize=14)\n",
    "plt.ylabel(r\"$f(x)$\",fontsize=14)\n",
    "\n",
    "x = np.linspace(low_bound, up_bound,100)\n",
    "plt.plot(x, gauss_func(x), label=r'$f(x) = e^{-x^2}$')\n",
    "\n",
    "plt.legend(fontsize=14)"
   ]
  },
  {
   "cell_type": "markdown",
   "metadata": {
    "id": "BLRoucyjqcVD"
   },
   "source": [
    "## 2 - Integral with sample average"
   ]
  },
  {
   "cell_type": "code",
   "execution_count": null,
   "metadata": {
    "colab": {
     "base_uri": "https://localhost:8080/",
     "height": 53
    },
    "executionInfo": {
     "elapsed": 1228,
     "status": "ok",
     "timestamp": 1569408209629,
     "user": {
      "displayName": "Andrea Mazzolini",
      "photoUrl": "https://lh3.googleusercontent.com/a-/AAuE7mARm6YUMjM1WqoWB9DeJSCtXhxEjR6a9chPFNuT=s64",
      "userId": "17503038082596243982"
     },
     "user_tz": -120
    },
    "id": "WiS8se2Plv6m",
    "outputId": "3e2e5664-b9d4-4706-aba2-9fe8a3287c0c"
   },
   "outputs": [
    {
     "name": "stdout",
     "output_type": "stream",
     "text": [
      "Montecarlo estimate: 0.8790236566579789\n",
      "True value: 0.8862269254527579\n"
     ]
    }
   ],
   "source": [
    "def compute_integral_by_samp_av(n_samples, low_bound, up_bound):\n",
    "  x = np.random.rand(n_samples)*(up_bound - low_bound) + low_bound\n",
    "  return gauss_func(x).sum() / n_samples * (up_bound - low_bound)\n",
    "\n",
    "print(\"Montecarlo estimate: \" + str(compute_integral_by_samp_av(100000, low_bound, up_bound)))\n",
    "print(\"True value: \" + str(np.sqrt(np.pi)/2))"
   ]
  },
  {
   "cell_type": "code",
   "execution_count": 8,
   "metadata": {
    "colab": {
     "base_uri": "https://localhost:8080/"
    },
    "executionInfo": {
     "elapsed": 985,
     "status": "ok",
     "timestamp": 1602075452528,
     "user": {
      "displayName": "Andrea Mazzolini",
      "photoUrl": "https://lh3.googleusercontent.com/a-/AOh14Gj889rV0hCKG0LInS5OJdlv_nS9Mv4fKmWQb2ax=s64",
      "userId": "17503038082596243982"
     },
     "user_tz": -120
    },
    "id": "WV-FXnrUIq09",
    "outputId": "79486d54-e5b8-4936-9405-2499a1601020"
   },
   "outputs": [
    {
     "data": {
      "text/plain": [
       "array([3.23790073e+00, 2.98318972e+00, 1.17273372e+00, 3.79799741e+00,\n",
       "       1.10580060e+00, 6.07993852e-01, 1.24284060e+00, 1.43004484e+00,\n",
       "       3.32148565e+00, 6.77639114e-01, 2.60144538e+00, 9.40101252e-02,\n",
       "       1.84590317e+00, 1.64596314e+00, 1.87774925e+00, 3.04529373e+00,\n",
       "       9.61963575e-01, 3.84987261e+00, 2.86619222e+00, 3.79239441e+00,\n",
       "       4.18770867e-01, 3.04508174e+00, 1.47330214e+00, 1.62635213e+00,\n",
       "       2.52970910e+00, 1.13160214e+00, 1.63662396e+00, 6.79070480e-02,\n",
       "       1.39840934e+00, 1.27814262e+00, 2.07124537e+00, 3.48315153e-03,\n",
       "       1.55752628e+00, 5.26303935e-01, 8.92155811e-01, 1.61559775e+00,\n",
       "       2.50749230e+00, 2.99573253e+00, 1.58081418e+00, 5.99998801e-01,\n",
       "       3.31575630e+00, 2.73779560e+00, 4.22052465e-01, 1.74753769e+00,\n",
       "       8.67441012e-01, 2.48211236e+00, 1.49251859e+00, 8.91706881e-01,\n",
       "       2.95717425e-01, 2.08406078e+00, 1.10583948e+00, 3.64526932e+00,\n",
       "       3.29717598e+00, 2.95203134e+00, 1.09179022e+00, 1.67622748e+00,\n",
       "       3.65584161e+00, 1.62280320e-02, 3.62983938e+00, 3.84987505e+00,\n",
       "       2.04166495e+00, 3.17790141e+00, 1.04756431e+00, 3.65001411e+00,\n",
       "       2.54446225e-03, 2.66494936e-03, 2.78024956e+00, 3.06179124e+00,\n",
       "       5.64811408e-01, 1.68604305e-01, 1.90682784e+00, 1.51410812e+00,\n",
       "       2.45862825e+00, 2.90821834e+00, 2.27218520e+00, 5.22054850e-01,\n",
       "       2.73988123e-01, 3.80543981e+00, 2.10267964e+00, 1.46013367e+00,\n",
       "       1.73699138e+00, 2.97723607e+00, 1.58350769e+00, 3.99677855e+00,\n",
       "       3.64871721e+00, 1.83322912e+00, 2.24545571e+00, 6.48571979e-01,\n",
       "       2.50582888e+00, 1.36441702e+00, 3.94581953e+00, 3.95143078e+00,\n",
       "       1.89465066e+00, 3.56702706e+00, 2.05322128e-01, 1.98538514e+00,\n",
       "       3.87117997e-01, 3.35528119e+00, 1.91159967e+00, 2.32768433e+00])"
      ]
     },
     "execution_count": 8,
     "metadata": {
      "tags": []
     },
     "output_type": "execute_result"
    }
   ],
   "source": [
    "np.random.uniform(0,4,100)"
   ]
  },
  {
   "cell_type": "markdown",
   "metadata": {
    "id": "w-3bHrr3orw_"
   },
   "source": [
    "## 2 - Importance sampling\n",
    "\n",
    "### 2a - Write a generator of exponentially distributed samples.\n"
   ]
  },
  {
   "cell_type": "code",
   "execution_count": null,
   "metadata": {
    "id": "SVuGV7A74qZ3"
   },
   "outputs": [],
   "source": [
    "def sample_exp(n_samples):\n",
    "  unif_var = np.random.rand(n_samples)\n",
    "  return -np.log(1 - unif_var)\n",
    "\n",
    "n = 10000\n",
    "exp_samples = sample_exp(n)"
   ]
  },
  {
   "cell_type": "markdown",
   "metadata": {
    "id": "W8TWpvA647HR"
   },
   "source": [
    "Plot the normalized histogram of $10000$ generated samples, and comare it with the exponential distribution."
   ]
  },
  {
   "cell_type": "code",
   "execution_count": null,
   "metadata": {
    "colab": {
     "base_uri": "https://localhost:8080/",
     "height": 287
    },
    "executionInfo": {
     "elapsed": 1775,
     "status": "ok",
     "timestamp": 1569408210198,
     "user": {
      "displayName": "Andrea Mazzolini",
      "photoUrl": "https://lh3.googleusercontent.com/a-/AAuE7mARm6YUMjM1WqoWB9DeJSCtXhxEjR6a9chPFNuT=s64",
      "userId": "17503038082596243982"
     },
     "user_tz": -120
    },
    "id": "Ek5h4pGl5EuP",
    "outputId": "6d3e1b25-1195-4134-e497-4a841673a50b"
   },
   "outputs": [
    {
     "data": {
      "image/png": "[encoded data removed]",
      "text/plain": [
       "<Figure size 432x288 with 1 Axes>"
      ]
     },
     "metadata": {
      "tags": []
     },
     "output_type": "display_data"
    }
   ],
   "source": [
    "plt.xlim([0,4])\n",
    "plt.ylabel('p(x)', fontsize=14)\n",
    "plt.xlabel('x', fontsize=14)\n",
    "x = np.linspace(0,4,100)\n",
    "plt.plot(x, np.exp(-x), lw=2, label=R'$p(x)=e^{-x}$')\n",
    "h = plt.hist(exp_samples, bins=25, density=True, label='Sample histogram')\n",
    "plt.legend(fontsize=14)\n",
    "\n",
    "plt.savefig(\"exponential samples.png\", dpi=200)"
   ]
  },
  {
   "cell_type": "markdown",
   "metadata": {
    "id": "PdsWwqx45-gp"
   },
   "source": [
    "### 2b - Estimate the integral using importance sampling"
   ]
  },
  {
   "cell_type": "code",
   "execution_count": null,
   "metadata": {
    "colab": {
     "base_uri": "https://localhost:8080/",
     "height": 53
    },
    "executionInfo": {
     "elapsed": 1759,
     "status": "ok",
     "timestamp": 1569408210200,
     "user": {
      "displayName": "Andrea Mazzolini",
      "photoUrl": "https://lh3.googleusercontent.com/a-/AAuE7mARm6YUMjM1WqoWB9DeJSCtXhxEjR6a9chPFNuT=s64",
      "userId": "17503038082596243982"
     },
     "user_tz": -120
    },
    "id": "JmI4Q0TI6edW",
    "outputId": "4e8f7a4d-5f56-4265-c01e-5d8e6e71bc2c"
   },
   "outputs": [
    {
     "name": "stdout",
     "output_type": "stream",
     "text": [
      "Importance sampling estimate: 0.8845816579895613\n",
      "True value: 0.8862269254527579\n"
     ]
    }
   ],
   "source": [
    "def compute_integral_exp_sampling(n_samples):\n",
    "  samples = sample_exp(n_samples)\n",
    "  return (gauss_func(samples) / np.exp(-samples)).sum() / n_samples\n",
    "\n",
    "print(\"Importance sampling estimate: \" + str(compute_integral_exp_sampling(100000)))\n",
    "print(\"True value: \" + str(np.sqrt(np.pi)/2))"
   ]
  },
  {
   "cell_type": "markdown",
   "metadata": {
    "id": "JjBjb5CL62vL"
   },
   "source": [
    "## 3 - Comparing the performance of the two methods\n"
   ]
  },
  {
   "cell_type": "code",
   "execution_count": null,
   "metadata": {
    "id": "7YsWMuJi9vwD"
   },
   "outputs": [],
   "source": [
    "def mean_std_of_exp_samp(n_samples, realizations):\n",
    "  values = []\n",
    "  for r in range(realizations):\n",
    "    values.append(compute_integral_exp_sampling(n_samples))\n",
    "  return np.mean(values), np.std(values)\n",
    "\n",
    "def mean_std_of_unif_samp(n_samples, realizations):\n",
    "  values = []\n",
    "  for r in range(realizations):\n",
    "    values.append(compute_integral_by_samp_av(n_samples, 0, 4))\n",
    "  return np.mean(values), np.std(values)"
   ]
  },
  {
   "cell_type": "code",
   "execution_count": null,
   "metadata": {
    "id": "PQjJ9Xkt-KaX"
   },
   "outputs": [],
   "source": [
    "realizations = 100\n",
    "n_list = np.linspace(1, 50000, 10, dtype=int)\n",
    "\n",
    "mean_exp, std_exp, mean_unif, std_unif = [], [], [], []\n",
    "for n in n_list:\n",
    "  mean_std_exp = mean_std_of_exp_samp(n, realizations)\n",
    "  mean_exp.append(mean_std_exp[0])\n",
    "  std_exp.append(mean_std_exp[1])\n",
    "  mean_std_unif = mean_std_of_unif_samp(n, realizations)\n",
    "  mean_unif.append(mean_std_unif[0])\n",
    "  std_unif.append(mean_std_unif[1])"
   ]
  },
  {
   "cell_type": "code",
   "execution_count": null,
   "metadata": {
    "colab": {
     "base_uri": "https://localhost:8080/",
     "height": 317
    },
    "executionInfo": {
     "elapsed": 6185,
     "status": "ok",
     "timestamp": 1569408214649,
     "user": {
      "displayName": "Andrea Mazzolini",
      "photoUrl": "https://lh3.googleusercontent.com/a-/AAuE7mARm6YUMjM1WqoWB9DeJSCtXhxEjR6a9chPFNuT=s64",
      "userId": "17503038082596243982"
     },
     "user_tz": -120
    },
    "id": "xjYgq5lN-kd4",
    "outputId": "bbc01edc-30d9-4b26-a1ef-4ab461a2229c"
   },
   "outputs": [
    {
     "data": {
      "image/png": "[encoded data removed]",
      "text/plain": [
       "<Figure size 648x288 with 2 Axes>"
      ]
     },
     "metadata": {
      "tags": []
     },
     "output_type": "display_data"
    }
   ],
   "source": [
    "plt.figure(figsize=(9,4))\n",
    "plt.subplot(1,2,1)\n",
    "plt.xlabel('N. samples', fontsize=14)\n",
    "plt.ylabel('Average', fontsize=14)\n",
    "plt.plot(n_list, mean_unif, lw=2, label='Uniform sampling')\n",
    "plt.plot(n_list, mean_exp, lw=2, label='Importance sampling')\n",
    "plt.legend(fontsize=14)\n",
    "\n",
    "plt.subplot(1,2,2)\n",
    "plt.xscale('log')\n",
    "plt.yscale('log')\n",
    "plt.xlabel('N. samples', fontsize=14)\n",
    "plt.ylabel('Standard deviation', fontsize=14)\n",
    "plt.plot(n_list, std_unif, lw=2, label='Uniform sampling')\n",
    "plt.plot(n_list, std_exp, lw=2, label='Importance sampling')\n",
    "\n",
    "plt.tight_layout()\n",
    "plt.savefig(\"method comparison.png\", dpi=200)"
   ]
  },
  {
   "cell_type": "markdown",
   "metadata": {
    "id": "t5jCKedC_imS"
   },
   "source": [
    "From the plot you can see that, to reach the same error, the importance sampling needs one order of magnitude less samples than the uniform one!\n",
    "\n",
    "### 3b Extra - Compare also the computational time"
   ]
  },
  {
   "cell_type": "code",
   "execution_count": null,
   "metadata": {
    "colab": {
     "base_uri": "https://localhost:8080/",
     "height": 53
    },
    "executionInfo": {
     "elapsed": 6177,
     "status": "ok",
     "timestamp": 1569408214650,
     "user": {
      "displayName": "Andrea Mazzolini",
      "photoUrl": "https://lh3.googleusercontent.com/a-/AAuE7mARm6YUMjM1WqoWB9DeJSCtXhxEjR6a9chPFNuT=s64",
      "userId": "17503038082596243982"
     },
     "user_tz": -120
    },
    "id": "BpFA7RpD-kCU",
    "outputId": "28064828-b279-4025-88f9-108480bcd596"
   },
   "outputs": [
    {
     "name": "stdout",
     "output_type": "stream",
     "text": [
      "Sample average time: 0.05166959762573242\n",
      "Importance sampling time: 0.08805298805236816\n"
     ]
    }
   ],
   "source": [
    "from time import time\n",
    "\n",
    "n = 1000000\n",
    "\n",
    "t0 = time()\n",
    "result = compute_integral_by_samp_av(n, 0, 4)\n",
    "print(\"Sample average time: \" + str(time() - t0))\n",
    "\n",
    "t0 = time()\n",
    "result = compute_integral_exp_sampling(n)\n",
    "print(\"Importance sampling time: \" + str(time() - t0))"
   ]
  },
  {
   "cell_type": "markdown",
   "metadata": {
    "id": "4qokzRxbAE4m"
   },
   "source": [
    "## 4 Extra - Evaluate the gaussian integral in a generic range of values $(a,b)$ using importance sampling.\n",
    "\n",
    "Note that, to generate samples in $(a,b)$ (let's assume that they are greater than zero) you need a proper normalization coefficient for the exponential distribution:\n",
    "\n",
    "$$\n",
    "g(y) = \\frac{e^{-y}}{e^{-a} - e^{-b}}\n",
    "$$\n",
    "\n",
    "This changes the formula to generate exponentially distributed samples from the unifom random variable..."
   ]
  },
  {
   "cell_type": "code",
   "execution_count": null,
   "metadata": {
    "id": "rqQ7NGjEzMvS"
   },
   "outputs": [],
   "source": [
    "def exp_dist(x, low_bound, up_bound):\n",
    "  return (np.exp(-x))/(np.exp(-low_bound) - np.exp(-up_bound))\n",
    "\n",
    "def sample_exp(n_samples, low_bound, up_bound):\n",
    "  unif_var = np.random.rand(n_samples)\n",
    "  return -np.log(np.exp(-low_bound) - (np.exp(-low_bound) - np.exp(-up_bound))*unif_var)\n",
    "\n",
    "n = 10000\n",
    "low_bound, up_bound = 1,4\n",
    "exp_samples = sample_exp(n, low_bound, up_bound)"
   ]
  },
  {
   "cell_type": "code",
   "execution_count": null,
   "metadata": {
    "colab": {
     "base_uri": "https://localhost:8080/",
     "height": 269
    },
    "executionInfo": {
     "elapsed": 6423,
     "status": "ok",
     "timestamp": 1569408214915,
     "user": {
      "displayName": "Andrea Mazzolini",
      "photoUrl": "https://lh3.googleusercontent.com/a-/AAuE7mARm6YUMjM1WqoWB9DeJSCtXhxEjR6a9chPFNuT=s64",
      "userId": "17503038082596243982"
     },
     "user_tz": -120
    },
    "id": "q67DWHYotv1l",
    "outputId": "a5b54425-5508-4039-d68a-64773fabfe63"
   },
   "outputs": [
    {
     "data": {
      "image/png": "[encoded data removed]",
      "text/plain": [
       "<Figure size 432x288 with 1 Axes>"
      ]
     },
     "metadata": {
      "tags": []
     },
     "output_type": "display_data"
    }
   ],
   "source": [
    "#plt.xlim([0,5])\n",
    "x = np.linspace(low_bound, up_bound,100)\n",
    "plt.plot(x, exp_dist(x, low_bound, up_bound))\n",
    "h = plt.hist(exp_samples, bins=25, density=True)"
   ]
  },
  {
   "cell_type": "code",
   "execution_count": null,
   "metadata": {
    "colab": {
     "base_uri": "https://localhost:8080/",
     "height": 35
    },
    "executionInfo": {
     "elapsed": 6417,
     "status": "ok",
     "timestamp": 1569408214916,
     "user": {
      "displayName": "Andrea Mazzolini",
      "photoUrl": "https://lh3.googleusercontent.com/a-/AAuE7mARm6YUMjM1WqoWB9DeJSCtXhxEjR6a9chPFNuT=s64",
      "userId": "17503038082596243982"
     },
     "user_tz": -120
    },
    "id": "mIUz6qpbvDAO",
    "outputId": "d2bff4a3-3dbf-4eb3-9e18-6dafecb2b06f"
   },
   "outputs": [
    {
     "name": "stdout",
     "output_type": "stream",
     "text": [
      "Gaussian integral from 1 to 4: 0.14162076116884267\n"
     ]
    }
   ],
   "source": [
    "def compute_integral_exp_sampling(n_samples, low_bound, up_bound):\n",
    "  samples = sample_exp(n_samples, low_bound, up_bound)\n",
    "  return (gauss_func(samples) / exp_dist(samples, low_bound, up_bound)).sum() / n_samples\n",
    "\n",
    "I = compute_integral_exp_sampling(10000, low_bound, up_bound)\n",
    "print(\"Gaussian integral from {} to {}: {}\".format(low_bound, up_bound, I))"
   ]
  },
  {
   "cell_type": "code",
   "execution_count": null,
   "metadata": {
    "id": "HHxzl6e2SRtB"
   },
   "outputs": [],
   "source": []
  }
 ],
 "metadata": {
  "colab": {
   "collapsed_sections": [],
   "name": "Solution gaussian integral.ipynb",
   "provenance": []
  },
  "kernelspec": {
   "display_name": "Python 3",
   "language": "python",
   "name": "python3"
  },
  "language_info": {
   "codemirror_mode": {
    "name": "ipython",
    "version": 3
   },
   "file_extension": ".py",
   "mimetype": "text/x-python",
   "name": "python",
   "nbconvert_exporter": "python",
   "pygments_lexer": "ipython3",
   "version": "3.8.8"
  }
 },
 "nbformat": 4,
 "nbformat_minor": 4
}
