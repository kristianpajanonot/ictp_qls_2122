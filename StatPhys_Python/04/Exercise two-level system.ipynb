{
 "cells": [
  {
   "cell_type": "markdown",
   "metadata": {
    "id": "He29WZ_4bSY5"
   },
   "source": [
    "# Two-level system\n",
    "\n",
    "Here we simulate a paradigmatic statistical mechanical model.\n",
    "The system can be simulated by direct sampling from the Gibbs probability distribution and the solution can be compared with the thoretical one."
   ]
  },
  {
   "cell_type": "markdown",
   "metadata": {
    "id": "W2g_thXpcgfC"
   },
   "source": [
    "## Analytical solution of the model\n",
    "\n",
    "There are N independent particles that can stay in two energy levels: $\\mu_i \\in \\{0, \\epsilon\\}$. The set of all the energies of the particles defines the **microstate** of the system $\\vec{\\mu} = \\{ \\mu_1, \\ldots, \\mu_N\\}$. We denote with $n$ the number of particles in the excited state $\\epsilon$:\n",
    "$$\n",
    "n (\\vec{\\mu}) = \\sum_{i=0}^{N} \\delta (\\mu_i - \\epsilon)\n",
    "$$\n",
    "where $\\delta(x) = 1$ for $x=0$ and $0$ otherwise.\n",
    "The **Hamiltonian** of the system can be written thes as:\n",
    "$$\n",
    "H (\\vec{\\mu}) = \\sum_{i=0}^{N} \\mu_i = \\epsilon \\; n (\\vec{\\mu})\n",
    "$$\n",
    "and the **Boltzman probability distribution** of the canonical ensemble as:\n",
    "$$\n",
    "p(\\vec{\\mu}) = \\frac{e^{-\\beta H (\\vec{\\mu})}}{Z}, \\hspace{1cm} Z = \\sum_{\\vec{\\mu}} e^{-\\beta H (\\vec{\\mu})}\n",
    "$$\n",
    "where $\\beta = 1/T$ (choosing $k_b = 1$).\n",
    "\n",
    "To solve this model it is useful to consider the probability of the system with a given $n$, and therefore the same energy $E = \\epsilon n$.\n",
    "Since the probabilities of the microstates corresponding to a specific $n$ are all equal to $e^{\\beta n \\epsilon} / Z$, this probability can be obtained just by counting all the microstates that have the same $n$, $\\Omega(n)$:\n",
    "\\begin{equation}\n",
    "p(n) = \\Omega(n) \\frac{e^{-\\beta \\epsilon n}}{Z} = \\binom{N}{n}\\frac{e^{-\\beta \\epsilon n}}{Z}\n",
    "\\end{equation}\n",
    "This also implies that the partition function reads:\n",
    "$$\n",
    "Z = \\sum_{n=0}^N \\binom{N}{n} e^{-\\beta \\epsilon n} = \\left( 1 + e^{-\\beta \\epsilon}\\right)^N\n",
    "$$\n",
    "which is a binomial series, https://en.wikipedia.org/wiki/Binomial_series. By knowing the explicit formula for the partition function, the average energy of the system can be easily obtained:\n",
    "$$\n",
    "\\langle E \\rangle = - \\frac{\\partial}{\\partial \\beta} \\log{Z} = \\frac{N \\epsilon}{1 + e^{\\beta \\epsilon}}\n",
    "$$"
   ]
  },
  {
   "cell_type": "markdown",
   "metadata": {
    "id": "_JYurt4JyFAk"
   },
   "source": [
    "## Exercise"
   ]
  },
  {
   "cell_type": "markdown",
   "metadata": {
    "id": "wHX9ljtsyGzc"
   },
   "source": [
    "### 1 - Plot the Boltzmann distribution\n",
    "\n",
    "Write a function that returns the probability distribution depedent on $n$, and plot it as a function of $n$. Explore also how the distribution changes by varying $N$ and $T$.\n",
    "\n",
    "You can note that, by increasing $N$, most of the states tend to be visited with zero probability, highlighting that only a small fraction of states are really important.\n",
    "In other words, the distribution is becoming more and more peaked around the average.\n",
    "\n",
    "If you instead increase the temperature more particles tend to stay in the excited state, while for low temperature you can observe the condensation in the ground state (of minimal energy)."
   ]
  },
  {
   "cell_type": "code",
   "execution_count": 2,
   "metadata": {
    "id": "ivwvkUnqciba"
   },
   "outputs": [],
   "source": [
    "import numpy as np\n",
    "import matplotlib.pyplot as plt\n",
    "from scipy.special import binom # Use this for the binomial coefficient\n",
    "\n",
    "def boltzmann_ditribution(eps, temperature, N, n):\n",
    "    power = eps*n / temperature\n",
    "    z = (1 + np.exp(-power))**N\n",
    "    return binom(N,n)*(np.exp(-power) / z)"
   ]
  },
  {
   "cell_type": "code",
   "execution_count": null,
   "metadata": {},
   "outputs": [],
   "source": [
    "boltzmann_ditribution"
   ]
  },
  {
   "cell_type": "markdown",
   "metadata": {
    "id": "vhe0uS2P47UD"
   },
   "source": [
    "### 2 - Generate samples from the Boltzmann distribution\n",
    "\n",
    "Generate random samples using the cumulative Boltzmann distribution. Let us call the number of samples $M$. Compare the histogram of the samples with the theoretical distribution at fixed $T$, $\\epsilon$, $N$ and for a large $M$, e.g. $M=10000$."
   ]
  },
  {
   "cell_type": "code",
   "execution_count": null,
   "metadata": {
    "id": "o_uSEHT31EfP"
   },
   "outputs": [],
   "source": []
  },
  {
   "cell_type": "markdown",
   "metadata": {
    "id": "0GazOx927WKC"
   },
   "source": [
    "### 3 - Compute the average energy of an ensemble by direct Montecarlo sampling. How the error scales with the number of samples?\n",
    "\n",
    "3a - By using the sample generator above, write a function that compute the average energy $\\langle E \\rangle$ (using the sample average), which takes as arguments $T$, $\\epsilon$, $N$, and $M$."
   ]
  },
  {
   "cell_type": "code",
   "execution_count": null,
   "metadata": {
    "id": "9C7HU7TG_xUA"
   },
   "outputs": [],
   "source": []
  },
  {
   "cell_type": "markdown",
   "metadata": {
    "id": "G6PTLcYcYJdy"
   },
   "source": [
    "3b - Then study the error that you obtain depending on $M$. In order to do so, consider different number of samples $M_1, M_2, \\ldots$.\n",
    "For each one generate $R=200$ parallel realizations of the internal energy and compute average and stadard deviation.\n",
    "How the standard deviation scales with $M$?"
   ]
  },
  {
   "cell_type": "code",
   "execution_count": null,
   "metadata": {
    "id": "TbHF8UsJ94AL"
   },
   "outputs": [],
   "source": []
  },
  {
   "cell_type": "markdown",
   "metadata": {
    "id": "dOiGj8vtEUXh"
   },
   "source": [
    "### 4 - How the average energy scales with the temperature?\n",
    "\n",
    "Finally, comapare the sampled internal energy with the theroetical formula $\\langle E \\rangle = N \\epsilon /(1 + e^{\\beta \\epsilon})$. Plot the two functions varying the temperature and fixing $\\epsilon$ and $N$."
   ]
  },
  {
   "cell_type": "code",
   "execution_count": null,
   "metadata": {
    "id": "t_cuyGn6F8tn"
   },
   "outputs": [],
   "source": []
  },
  {
   "cell_type": "markdown",
   "metadata": {
    "id": "zxHVftwKKNAl"
   },
   "source": [
    "### Extra 5 - Compute the heat capacity of the system\n",
    "\n",
    "The heat capcity can be obtained by the following formula:\n",
    "$$\n",
    "C_v = \\frac{\\partial E}{\\partial T} = \\frac{N \\epsilon^2 \\beta^2 e^{\\beta \\epsilon}}{(1 + e^{\\beta \\epsilon})^2}\n",
    "$$\n",
    "\n",
    "Here we want to test this formula with the heat capacity computed with samples.\n",
    "In order to do so you can use the fact that the heat capacity is also related with the width of the energy distribution (can you proove it?):\n",
    "$$\n",
    "C_v = \\beta^2 Var[E]\n",
    "$$"
   ]
  }
 ],
 "metadata": {
  "colab": {
   "authorship_tag": "ABX9TyMs++hCfAweAUCqSaPfKwlZ",
   "collapsed_sections": [],
   "name": "Exercise two-level system.ipynb",
   "provenance": []
  },
  "kernelspec": {
   "display_name": "Python 3",
   "language": "python",
   "name": "python3"
  },
  "language_info": {
   "codemirror_mode": {
    "name": "ipython",
    "version": 3
   },
   "file_extension": ".py",
   "mimetype": "text/x-python",
   "name": "python",
   "nbconvert_exporter": "python",
   "pygments_lexer": "ipython3",
   "version": "3.8.8"
  }
 },
 "nbformat": 4,
 "nbformat_minor": 4
}
