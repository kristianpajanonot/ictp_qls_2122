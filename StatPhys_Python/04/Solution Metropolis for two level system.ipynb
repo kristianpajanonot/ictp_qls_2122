{
 "cells": [
  {
   "cell_type": "markdown",
   "metadata": {
    "id": "7J6Vr06bH9lh"
   },
   "source": [
    "# Two-level system with Metropolis algorithm\n",
    "\n",
    "We saw that the two level system can be solved analytically and by the direct sampling the probability distribution of the energy $p(E)$.\n",
    "To take confidence with Metropolis algorithm, here we also try to simulate the system with this latter method.\n",
    "\n",
    "We want to generate samples of configurations of particles $\\vec{\\mu} = (\\mu_1, \\ldots, \\mu_N)$, where $\\mu_i \\in \\{0,\\epsilon\\}$ are the two energy level for each particle.\n",
    "Therefore we will sample the Boltzann distribution over the microstates $p(\\vec{\\mu})$ (instead of sampling the energy as for the direct sampling)."
   ]
  },
  {
   "cell_type": "code",
   "execution_count": 1,
   "metadata": {
    "executionInfo": {
     "elapsed": 1534,
     "status": "ok",
     "timestamp": 1602682373807,
     "user": {
      "displayName": "Andrea Mazzolini",
      "photoUrl": "https://lh3.googleusercontent.com/a-/AOh14Gj889rV0hCKG0LInS5OJdlv_nS9Mv4fKmWQb2ax=s64",
      "userId": "17503038082596243982"
     },
     "user_tz": -120
    },
    "id": "KjBjjAWD231a"
   },
   "outputs": [],
   "source": [
    "import numpy as np\n",
    "import matplotlib.pyplot as plt"
   ]
  },
  {
   "cell_type": "markdown",
   "metadata": {
    "id": "25vreqxcIJpl"
   },
   "source": [
    "## Metropolis algorithm\n",
    "\n",
    "The idea of Markov Chain Montecarlo is to jump around among the states of my systems (without enumerating all of them) by choosing the transition probabilities in such a way that the states that I get after each jump are samples that follow the probability distribution of the model.\n",
    "In such a way only a very small subset of the states are visited, however, this subset is large enough to be used for reliable computation of macroscopic observables.\n",
    "\n",
    "\n",
    "### 1 - One step of the Metropolis algorithm for the two-level model:\n",
    "\n",
    "The following pseudocode provides a transition from one state (or configuration of the particle energues) , $\\vec{\\mu}$ to another, in a way that the detail balance of the resulting Markov Chain (where the states are all the spin configurations) is satisfied.\n",
    "This is one step of the so-called Metropolis algorithm:\n",
    "\n",
    "`Metropolis_step`($\\vec{\\mu}$, $\\beta$, $\\epsilon$):\n",
    "> - Given the configuration $\\vec{\\mu}$, choose one of the $N$ particles at random, say $\\mu_i$, and consider a new configuration $\\vec{\\mu}'$ such that the energy of $\\mu_i$ is switched (from $0$ to $\\epsilon$ or viceversa).\n",
    "> - Compute the energy difference between the two states:\n",
    "> \\begin{equation}\n",
    "\\Delta E = \\mathcal{H}\\left( \\vec{\\mu}' \\right) - \\mathcal{H}\\left( \\vec{\\mu} \\right) = \\mu_i' - \\mu_i\n",
    "\\end{equation}\n",
    "> Note that $\\Delta E \\in \\{ -\\epsilon, \\epsilon \\}$\n",
    "> - If the energy of the new state is less than the previous one,  $\\Delta E \\le 0$, accept the new change (i.e. overwrite $\\mu$: $\\vec{\\mu} \\rightarrow \\vec{\\mu}'$), if not, accept the new change with probability $p = \\exp[-\\beta \\Delta E]$.\n",
    "> - Return $\\vec{\\sigma}$ \n",
    "\n",
    "Write the function `Metropolis_step`($\\vec{\\mu}$, $\\beta$, $J$, $h$) that returns the new state (changed or unchanged depending on the Metropilis procedure)."
   ]
  },
  {
   "cell_type": "code",
   "execution_count": 2,
   "metadata": {
    "executionInfo": {
     "elapsed": 1721,
     "status": "ok",
     "timestamp": 1602682374007,
     "user": {
      "displayName": "Andrea Mazzolini",
      "photoUrl": "https://lh3.googleusercontent.com/a-/AOh14Gj889rV0hCKG0LInS5OJdlv_nS9Mv4fKmWQb2ax=s64",
      "userId": "17503038082596243982"
     },
     "user_tz": -120
    },
    "id": "YEccrpor28U3"
   },
   "outputs": [],
   "source": [
    "def metropolis_step(state, beta, eps, N_part):\n",
    "  chosen_part = np.random.randint(0,N_part)\n",
    "\n",
    "  if state[chosen_part] == 0:\n",
    "    if np.random.rand() < np.exp(-eps*beta):\n",
    "      state[chosen_part] = 1\n",
    "  else:\n",
    "    state[chosen_part] = 0\n",
    "\n",
    "  return state"
   ]
  },
  {
   "cell_type": "markdown",
   "metadata": {
    "id": "RnG_RcP3K9VE"
   },
   "source": [
    "### 2 - Plot the energy as a function of the Metropolis time\n",
    "\n",
    "2a - First write a function that generate a random initial condition of particle energies, and than iterates the metropolis steps starting from that initial condition."
   ]
  },
  {
   "cell_type": "code",
   "execution_count": 3,
   "metadata": {
    "executionInfo": {
     "elapsed": 1719,
     "status": "ok",
     "timestamp": 1602682374010,
     "user": {
      "displayName": "Andrea Mazzolini",
      "photoUrl": "https://lh3.googleusercontent.com/a-/AOh14Gj889rV0hCKG0LInS5OJdlv_nS9Mv4fKmWQb2ax=s64",
      "userId": "17503038082596243982"
     },
     "user_tz": -120
    },
    "id": "Js0RByEyLMEg"
   },
   "outputs": [],
   "source": [
    "def energy_trajectory(beta, eps, N_part, max_time):\n",
    "  state = np.random.randint(0, 2, N_part)\n",
    "  traj = np.array([])\n",
    "  for t in range(max_time):\n",
    "    state = metropolis_step(state, beta, eps, N_part)\n",
    "    traj = np.append(traj, state.sum()*eps)\n",
    "  return traj"
   ]
  },
  {
   "cell_type": "markdown",
   "metadata": {
    "id": "wUKLpq3BL0dI"
   },
   "source": [
    "2b - Second generate an ensemble of these trajectories and compute the average over $R$ realizations.\n",
    "\n",
    "Plot a generic trajectory and also the average energy as a function of time."
   ]
  },
  {
   "cell_type": "code",
   "execution_count": 4,
   "metadata": {
    "executionInfo": {
     "elapsed": 1715,
     "status": "ok",
     "timestamp": 1602682374012,
     "user": {
      "displayName": "Andrea Mazzolini",
      "photoUrl": "https://lh3.googleusercontent.com/a-/AOh14Gj889rV0hCKG0LInS5OJdlv_nS9Mv4fKmWQb2ax=s64",
      "userId": "17503038082596243982"
     },
     "user_tz": -120
    },
    "id": "x2-3mOtO6KmR"
   },
   "outputs": [],
   "source": [
    "def energy_average_trajectory(beta, eps, N_part, max_time, n_realizations):\n",
    "\n",
    "  average_traj = np.zeros(max_time)\n",
    "  for _ in range(n_realizations):\n",
    "    state = np.random.randint(0, 2, N_part)\n",
    "    traj = energy_trajectory(beta, eps, N_part, max_time)\n",
    "    average_traj += traj / n_realizations\n",
    "  return average_traj"
   ]
  },
  {
   "cell_type": "code",
   "execution_count": 5,
   "metadata": {
    "executionInfo": {
     "elapsed": 5353,
     "status": "ok",
     "timestamp": 1602682377656,
     "user": {
      "displayName": "Andrea Mazzolini",
      "photoUrl": "https://lh3.googleusercontent.com/a-/AOh14Gj889rV0hCKG0LInS5OJdlv_nS9Mv4fKmWQb2ax=s64",
      "userId": "17503038082596243982"
     },
     "user_tz": -120
    },
    "id": "AflfW2Ga5X8B"
   },
   "outputs": [],
   "source": [
    "steps = 1000\n",
    "N_part = 100\n",
    "eps = 1\n",
    "temp = 1\n",
    "\n",
    "one_traj = energy_trajectory(1/temp, eps, N_part, steps)\n",
    "av_E_traj = energy_average_trajectory(1/temp, eps, N_part, steps, 200)"
   ]
  },
  {
   "cell_type": "code",
   "execution_count": 6,
   "metadata": {
    "colab": {
     "base_uri": "https://localhost:8080/",
     "height": 302
    },
    "executionInfo": {
     "elapsed": 6051,
     "status": "ok",
     "timestamp": 1602682378365,
     "user": {
      "displayName": "Andrea Mazzolini",
      "photoUrl": "https://lh3.googleusercontent.com/a-/AOh14Gj889rV0hCKG0LInS5OJdlv_nS9Mv4fKmWQb2ax=s64",
      "userId": "17503038082596243982"
     },
     "user_tz": -120
    },
    "id": "ygdP54zy5nhB",
    "outputId": "a9dd7d8d-3f09-4d19-9cbb-aa9519b7237b"
   },
   "outputs": [
    {
     "data": {
      "text/plain": [
       "<matplotlib.legend.Legend at 0x7f611e3477b8>"
      ]
     },
     "execution_count": 6,
     "metadata": {
      "tags": []
     },
     "output_type": "execute_result"
    },
    {
     "data": {
      "image/png": "[encoded data removed]",
      "text/plain": [
       "<Figure size 432x288 with 1 Axes>"
      ]
     },
     "metadata": {
      "needs_background": "light",
      "tags": []
     },
     "output_type": "display_data"
    }
   ],
   "source": [
    "plt.xlabel('Time steps', fontsize=14)\n",
    "plt.ylabel('Energy', fontsize=14)\n",
    "plt.plot(one_traj, label='Single trajectory')\n",
    "plt.plot(av_E_traj, label='Average')\n",
    "plt.legend(fontsize=14)"
   ]
  },
  {
   "cell_type": "markdown",
   "metadata": {
    "id": "3gE0oV6SNUGw"
   },
   "source": [
    "From the previous plot you can have now an estimate of the time required for the equilibration of the system (that reaches the stationary state and the probability distribution is sampled).\n",
    "We call this time `burn_in_time`"
   ]
  },
  {
   "cell_type": "markdown",
   "metadata": {
    "id": "wBSfK846Q0TJ"
   },
   "source": [
    "### 3 - Find the correlation length\n",
    "\n",
    "All the nice results about the Montecarlo sample average and its convergence to the true average holds only if the samples are independent.\n",
    "Actually MCMC generates correlated samples that loose correlation only after sufficient time.\n",
    "\n",
    "To find how much time the chain needs to loose correlation you can plot the temporal autocorrelation for the energy:\n",
    "$$\n",
    "\\rho(t_1, t_2) = \\frac{\\langle E_{t_1} E_{t_2} \\rangle - \\langle E_{t_1}\\rangle \\langle E_{t_2} \\rangle  }{\\text{std}(E_{t_1})\\text{std}(E_{t_2})}\n",
    "$$\n",
    "\n",
    "As before, plot the autocorrelation as a function of time to get the `correlation_time` that you have to wait so that your samples will be independent.\n",
    "\n",
    "Note: to compute the autocorrelation consider trajectories that are at equilibrium, therefore discard all the samples before the burn_in_time."
   ]
  },
  {
   "cell_type": "code",
   "execution_count": 7,
   "metadata": {
    "executionInfo": {
     "elapsed": 6049,
     "status": "ok",
     "timestamp": 1602682378367,
     "user": {
      "displayName": "Andrea Mazzolini",
      "photoUrl": "https://lh3.googleusercontent.com/a-/AOh14Gj889rV0hCKG0LInS5OJdlv_nS9Mv4fKmWQb2ax=s64",
      "userId": "17503038082596243982"
     },
     "user_tz": -120
    },
    "id": "URjaMis-6ojl"
   },
   "outputs": [],
   "source": [
    "def energy_autocorrelation(beta, eps, N_part, max_time, burn_in_time, n_realizations):\n",
    "\n",
    "  # Init the magnetiz product, the first and the second moments\n",
    "  prod = np.zeros(max_time)\n",
    "  average_at_start = 0\n",
    "  average_at_next = np.zeros(max_time)\n",
    "  sec_moment_at_start = 0\n",
    "  sec_moment_at_next = np.zeros(max_time)\n",
    "  \n",
    "  for _ in range(n_realizations):\n",
    "\n",
    "    # Equilibration\n",
    "    state = np.random.randint(0, 2, N_part)\n",
    "    for _ in range(burn_in_time):\n",
    "      state = metropolis_step(state, beta, eps, N_part)\n",
    "\n",
    "    # The start value is computed after the burn-in period.\n",
    "    start_e = state.sum()*eps\n",
    "    average_at_start += start_e / n_realizations\n",
    "    sec_moment_at_start += start_e * start_e / n_realizations\n",
    "\n",
    "    # Storing the value of all the magnetizations after the burn-in\n",
    "    traj = np.array([])\n",
    "    for _ in range(burn_in_time, burn_in_time + max_time):\n",
    "      state = metropolis_step(state, beta, eps, N_part)\n",
    "      traj = np.append(traj, state.sum()*eps)\n",
    "\n",
    "    # Computing the statistical variables \n",
    "    prod += start_e * traj / n_realizations\n",
    "    average_at_next += traj / n_realizations\n",
    "    sec_moment_at_next += traj*traj / n_realizations\n",
    "\n",
    "  std_start = np.sqrt(sec_moment_at_start - average_at_start**2)\n",
    "  std_next = np.sqrt(sec_moment_at_next - average_at_next**2)\n",
    "  return (prod - average_at_next*average_at_start) / std_start / std_next"
   ]
  },
  {
   "cell_type": "code",
   "execution_count": 8,
   "metadata": {
    "executionInfo": {
     "elapsed": 63948,
     "status": "ok",
     "timestamp": 1602682436273,
     "user": {
      "displayName": "Andrea Mazzolini",
      "photoUrl": "https://lh3.googleusercontent.com/a-/AOh14Gj889rV0hCKG0LInS5OJdlv_nS9Mv4fKmWQb2ax=s64",
      "userId": "17503038082596243982"
     },
     "user_tz": -120
    },
    "id": "12QtgXqeT2Uf"
   },
   "outputs": [],
   "source": [
    "steps = 1000\n",
    "burn_in_time = 300\n",
    "N_part = 100\n",
    "eps = 1\n",
    "temperatures = [0.5,1,5]\n",
    "\n",
    "autocorr = []\n",
    "for temp in temperatures:\n",
    "  autocorr.append(energy_autocorrelation(1/temp, eps, N_part, steps, burn_in_time, 1000))"
   ]
  },
  {
   "cell_type": "code",
   "execution_count": 9,
   "metadata": {
    "colab": {
     "base_uri": "https://localhost:8080/",
     "height": 302
    },
    "executionInfo": {
     "elapsed": 1084,
     "status": "ok",
     "timestamp": 1602682438456,
     "user": {
      "displayName": "Andrea Mazzolini",
      "photoUrl": "https://lh3.googleusercontent.com/a-/AOh14Gj889rV0hCKG0LInS5OJdlv_nS9Mv4fKmWQb2ax=s64",
      "userId": "17503038082596243982"
     },
     "user_tz": -120
    },
    "id": "iMBUsnbuTcu8",
    "outputId": "78574aa1-cbe1-4217-d75a-41418ffeb506"
   },
   "outputs": [
    {
     "data": {
      "text/plain": [
       "<matplotlib.legend.Legend at 0x7f611e2b1f60>"
      ]
     },
     "execution_count": 9,
     "metadata": {
      "tags": []
     },
     "output_type": "execute_result"
    },
    {
     "data": {
      "image/png": "[encoded data removed]",
      "text/plain": [
       "<Figure size 432x288 with 1 Axes>"
      ]
     },
     "metadata": {
      "needs_background": "light",
      "tags": []
     },
     "output_type": "display_data"
    }
   ],
   "source": [
    "plt.xlabel('Time steps', fontsize=14)\n",
    "plt.ylabel('Temporal autocorrelation', fontsize=14)\n",
    "for i in range(len(temperatures)):\n",
    "  plt.plot(autocorr[i], label=\"Temperature={}\".format(temperatures[i]))\n",
    "plt.legend()"
   ]
  },
  {
   "cell_type": "markdown",
   "metadata": {
    "id": "xndwzC1wXAvI"
   },
   "source": [
    "### 4 - Compute the average energy as a function of the temperature\n",
    "\n",
    "Now we have all the ingredients to simulate the model through Metropolis. The aim of this simulation is to estimate the average energy using the sample average:\n",
    "$$\n",
    "\\langle E \\rangle = \\frac{1}{N} \\sum_{k=1}^N E(\\vec{\\mu})\n",
    "$$\n",
    "where the samples $\\vec{\\mu}$ are generated through the Metropolis algorithm which starts to sample after a given `burn-in` period and, to remove correlations, discards several state of the chain.\n",
    "\n",
    "A pseudocode can be:\n",
    "> - Init the average magnetization $\\langle E \\rangle=0$.\n",
    "> - Generate a random initial state $\\mu$\n",
    "> - Iterate the chain $i = 1, \\ldots, t_{\\text{burn-in}}$ (**equilibration**):\n",
    ">> - Update the states without updating the energy $\\mu$ = `metropolis_step`($\\mu$, $\\beta$, $\\epsilon$)\n",
    "> - Interate over the number of samples $i = 1, \\ldots, N$:\n",
    ">> - Iterate the chain $i = 1, \\ldots, t_{\\text{corr}}$ (**independence**):\n",
    ">>> - Update the states without updating the energy $\\mu$ = `metropolis_step`($\\mu$, $\\beta$, $\\epsilon$)\n",
    ">> - Compute the energy at the current $\\vec{\\mu}$ and uptate the average $\\langle E \\rangle = \\langle E \\rangle + E(\\vec{\\mu}) / N$\n",
    ">- Return $\\langle E \\rangle$\n",
    "\n",
    "Try to implement this code into a function that given the arguments N_particles, beta, $\\epsilon$, N_samples, t_burn_in, t_correlation, returns the average energy."
   ]
  },
  {
   "cell_type": "code",
   "execution_count": 10,
   "metadata": {
    "executionInfo": {
     "elapsed": 539,
     "status": "ok",
     "timestamp": 1602682439064,
     "user": {
      "displayName": "Andrea Mazzolini",
      "photoUrl": "https://lh3.googleusercontent.com/a-/AOh14Gj889rV0hCKG0LInS5OJdlv_nS9Mv4fKmWQb2ax=s64",
      "userId": "17503038082596243982"
     },
     "user_tz": -120
    },
    "id": "-O2zTvdXUNXn"
   },
   "outputs": [],
   "source": [
    "def metropolis_two_level(N_part, beta, eps, N_samples, t_burn_in, t_correlation):\n",
    "\n",
    "  energy = np.array([])\n",
    "  generated_samples = 0\n",
    "\n",
    "  # Equilibration\n",
    "  state = np.random.randint(0, 2, N_part)\n",
    "  for _ in range(t_burn_in):\n",
    "    state = metropolis_step(state, beta, eps, N_part)\n",
    "\n",
    "  energy = np.append(energy, state.sum()*eps)\n",
    "  generated_samples += 1\n",
    "\n",
    "  while generated_samples <= N_samples:\n",
    "\n",
    "    # Discarding correlated samples\n",
    "    for _ in range(t_correlation):\n",
    "      state = metropolis_step(state, beta, eps, N_part)\n",
    "\n",
    "    energy = np.append(energy, state.sum()*eps)\n",
    "    generated_samples += 1\n",
    "\n",
    "  return energy.mean()"
   ]
  },
  {
   "cell_type": "markdown",
   "metadata": {
    "id": "l1jFHyjjY8Bm"
   },
   "source": [
    "When you have the code to compute the average energy, you can do it for different temperatures and plt the curve energy-temperature.\n",
    "Compare the curve with the theoretical prediction."
   ]
  },
  {
   "cell_type": "code",
   "execution_count": 11,
   "metadata": {
    "executionInfo": {
     "elapsed": 460,
     "status": "ok",
     "timestamp": 1602682440573,
     "user": {
      "displayName": "Andrea Mazzolini",
      "photoUrl": "https://lh3.googleusercontent.com/a-/AOh14Gj889rV0hCKG0LInS5OJdlv_nS9Mv4fKmWQb2ax=s64",
      "userId": "17503038082596243982"
     },
     "user_tz": -120
    },
    "id": "KHsdumDhY1lJ"
   },
   "outputs": [],
   "source": [
    "import sys\n",
    "\n",
    "def energy_curve(N_part, eps, temperatures, N_samples, t_burn_in, t_correlation):\n",
    "  av_ene = np.array([])\n",
    "  for t in temperatures:\n",
    "    av_ene = np.append(av_ene, metropolis_two_level(N_part, 1/t, eps, N_samples, t_burn_in, t_correlation))\n",
    "    sys.stdout.write(\"\\rTemperature: {:.2f}/{:.2f} done, energy: {:.2f}\".format(t, temperatures[-1], av_ene[-1]))\n",
    "    sys.stdout.flush()\n",
    "  return av_ene"
   ]
  },
  {
   "cell_type": "code",
   "execution_count": 30,
   "metadata": {
    "colab": {
     "base_uri": "https://localhost:8080/",
     "height": 36
    },
    "executionInfo": {
     "elapsed": 5524,
     "status": "ok",
     "timestamp": 1602682565457,
     "user": {
      "displayName": "Andrea Mazzolini",
      "photoUrl": "https://lh3.googleusercontent.com/a-/AOh14Gj889rV0hCKG0LInS5OJdlv_nS9Mv4fKmWQb2ax=s64",
      "userId": "17503038082596243982"
     },
     "user_tz": -120
    },
    "id": "mnp0asYxZfEE",
    "outputId": "10465646-801f-4d93-e9d7-e5d1ea1515ec"
   },
   "outputs": [
    {
     "name": "stdout",
     "output_type": "stream",
     "text": [
      "Temperature: 10.00/10.00 done, energy: 47.27"
     ]
    }
   ],
   "source": [
    "N_part = 100\n",
    "eps = 1\n",
    "N_samples = 50\n",
    "t_burn_in = 300\n",
    "t_correlation = 300\n",
    "temperatures = np.linspace(0.1, 10, 50)\n",
    "\n",
    "energies = energy_curve(N_part, eps, temperatures, N_samples, t_burn_in, t_correlation)"
   ]
  },
  {
   "cell_type": "code",
   "execution_count": 31,
   "metadata": {
    "executionInfo": {
     "elapsed": 5307,
     "status": "ok",
     "timestamp": 1602682565460,
     "user": {
      "displayName": "Andrea Mazzolini",
      "photoUrl": "https://lh3.googleusercontent.com/a-/AOh14Gj889rV0hCKG0LInS5OJdlv_nS9Mv4fKmWQb2ax=s64",
      "userId": "17503038082596243982"
     },
     "user_tz": -120
    },
    "id": "v31BqVntafPk"
   },
   "outputs": [],
   "source": [
    "def th_energy(temp, eps, N_part):\n",
    "  return eps*N_part / (1 + np.exp( eps/temp ))"
   ]
  },
  {
   "cell_type": "code",
   "execution_count": 32,
   "metadata": {
    "colab": {
     "base_uri": "https://localhost:8080/",
     "height": 320
    },
    "executionInfo": {
     "elapsed": 5058,
     "status": "ok",
     "timestamp": 1602682565461,
     "user": {
      "displayName": "Andrea Mazzolini",
      "photoUrl": "https://lh3.googleusercontent.com/a-/AOh14Gj889rV0hCKG0LInS5OJdlv_nS9Mv4fKmWQb2ax=s64",
      "userId": "17503038082596243982"
     },
     "user_tz": -120
    },
    "id": "q0l7zE8KZwkT",
    "outputId": "4985a4cb-1bc0-41ef-b4d2-82b00c221326"
   },
   "outputs": [
    {
     "data": {
      "text/plain": [
       "<matplotlib.legend.Legend at 0x7f611da0f2b0>"
      ]
     },
     "execution_count": 32,
     "metadata": {
      "tags": []
     },
     "output_type": "execute_result"
    },
    {
     "data": {
      "image/png": "[encoded data removed]",
      "text/plain": [
       "<Figure size 432x288 with 1 Axes>"
      ]
     },
     "metadata": {
      "needs_background": "light",
      "tags": []
     },
     "output_type": "display_data"
    }
   ],
   "source": [
    "plt.xlabel('Temperature', fontsize=14)\n",
    "plt.ylabel('Average energy', fontsize=14)\n",
    "plt.title(r'$N={}$, $\\epsilon={}$'.format(N_part, eps,), fontsize=14)\n",
    "plt.plot(temperatures, energies, lw=2.5, label='Simulation')\n",
    "plt.plot(temperatures, th_energy(temperatures, eps, N_part), ls='--', lw=2, label='Theory')\n",
    "\n",
    "plt.legend()"
   ]
  },
  {
   "cell_type": "code",
   "execution_count": null,
   "metadata": {
    "id": "w25WYxJ3aECc"
   },
   "outputs": [],
   "source": []
  }
 ],
 "metadata": {
  "colab": {
   "authorship_tag": "ABX9TyOsT/YD0PNSe+d9xVio0kFy",
   "collapsed_sections": [],
   "name": "Solution Metropolis for two level system.ipynb",
   "provenance": []
  },
  "kernelspec": {
   "display_name": "Python 3",
   "language": "python",
   "name": "python3"
  },
  "language_info": {
   "codemirror_mode": {
    "name": "ipython",
    "version": 3
   },
   "file_extension": ".py",
   "mimetype": "text/x-python",
   "name": "python",
   "nbconvert_exporter": "python",
   "pygments_lexer": "ipython3",
   "version": "3.8.8"
  }
 },
 "nbformat": 4,
 "nbformat_minor": 4
}
