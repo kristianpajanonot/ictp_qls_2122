{
 "cells": [
  {
   "cell_type": "markdown",
   "metadata": {
    "id": "7J6Vr06bH9lh"
   },
   "source": [
    "# Two-level system with Metropolis algorithm\n",
    "\n",
    "We saw that the two level system can be solved analytically and by the direct sampling the probability distribution of the energy $p(E)$.\n",
    "To take confidence with Metropolis algorithm, here we also try to simulate the system with this latter method.\n",
    "\n",
    "We want to generate samples of configurations of particles $\\vec{\\mu} = (\\mu_1, \\ldots, \\mu_N)$, where $\\mu_i \\in \\{0,\\epsilon\\}$ are the two energy level for each particle.\n",
    "Therefore we will sample the Boltzann distribution over the microstates $p(\\vec{\\mu})$ (instead of sampling the energy as for the direct sampling)."
   ]
  },
  {
   "cell_type": "code",
   "execution_count": 1,
   "metadata": {
    "id": "KjBjjAWD231a"
   },
   "outputs": [],
   "source": [
    "import numpy as np\n",
    "import matplotlib.pyplot as plt"
   ]
  },
  {
   "cell_type": "markdown",
   "metadata": {
    "id": "25vreqxcIJpl"
   },
   "source": [
    "## Metropolis algorithm\n",
    "\n",
    "The idea of Markov Chain Montecarlo is to jump around among the states of my systems (without enumerating all of them) by choosing the transition probabilities in such a way that the states that I get after each jump are samples that follow the probability distribution of the model.\n",
    "In such a way only a very small subset of the states are visited, however, this subset is large enough to be used for reliable computation of macroscopic observables.\n",
    "\n",
    "\n",
    "### 1 - One step of the Metropolis algorithm for the two-level model:\n",
    "\n",
    "The following pseudocode provides a transition from one state (or configuration of the particle energues) , $\\vec{\\mu}$ to another, in a way that the detail balance of the resulting Markov Chain (where the states are all the spin configurations) is satisfied.\n",
    "This is one step of the so-called Metropolis algorithm:\n",
    "\n",
    "`Metropolis_step`($\\vec{\\mu}$, $\\beta$, $\\epsilon$):\n",
    "> - Given the configuration $\\vec{\\mu}$, choose one of the $N$ particles at random, say $\\mu_i$, and consider a new configuration $\\vec{\\mu}'$ such that the energy of $\\mu_i$ is switched (from $0$ to $\\epsilon$ or viceversa).\n",
    "> - Compute the energy difference between the two states:\n",
    "> \\begin{equation}\n",
    "\\Delta E = \\mathcal{H}\\left( \\vec{\\mu}' \\right) - \\mathcal{H}\\left( \\vec{\\mu} \\right) = \\mu_i' - \\mu_i\n",
    "\\end{equation}\n",
    "> Note that $\\Delta E \\in \\{ -\\epsilon, \\epsilon \\}$\n",
    "> - If the energy of the new state is less than the previous one,  $\\Delta E \\le 0$, accept the new change (i.e. overwrite $\\mu$: $\\vec{\\mu} \\rightarrow \\vec{\\mu}'$), if not, accept the new change with probability $p = \\exp[-\\beta \\Delta E]$.\n",
    "> - Return $\\vec{\\sigma}$ \n",
    "\n",
    "Write the function `Metropolis_step`($\\vec{\\mu}$, $\\beta$, $J$, $h$) that returns the new state (changed or unchanged depending on the Metropilis procedure)."
   ]
  },
  {
   "cell_type": "code",
   "execution_count": 2,
   "metadata": {
    "id": "YEccrpor28U3"
   },
   "outputs": [],
   "source": [
    "def metropolis_step(m, b, eps):\n",
    "    new_state = []\n",
    "    new_m = m.copy()\n",
    "    #choose particle at random\n",
    "    index = np.random.randint(len(m))\n",
    "    n = m[index]\n",
    "    #flip\n",
    "    if n == 0:\n",
    "        n_prime = eps\n",
    "    else:\n",
    "        n_prime = 0\n",
    "    #replace the element that was flipped in the original list  \n",
    "    new_m[index] = n_prime\n",
    "    #energy difference  \n",
    "    h_old = np.sum(m)\n",
    "    h_new = np.sum(new_m)\n",
    "    energy_delta = h_new - h_old\n",
    "    #condition\n",
    "    if energy_delta <= 0:\n",
    "        new_state = new_m\n",
    "    else:\n",
    "        prob = np.exp(-b*energy_delta)\n",
    "        unif = np.random.rand()\n",
    "        if unif < prob:   \n",
    "            new_state = new_m\n",
    "        else:\n",
    "            new_state = m\n",
    "    return new_state"
   ]
  },
  {
   "cell_type": "code",
   "execution_count": 3,
   "metadata": {
    "tags": []
   },
   "outputs": [],
   "source": [
    "eps = 1\n",
    "m = [0,0,eps,eps,0]\n",
    "b = -1.0\n",
    "a = metropolis_step(m, b, eps)"
   ]
  },
  {
   "cell_type": "code",
   "execution_count": 4,
   "metadata": {},
   "outputs": [
    {
     "data": {
      "text/plain": [
       "[1, 0, 1, 1, 0]"
      ]
     },
     "execution_count": 4,
     "metadata": {},
     "output_type": "execute_result"
    }
   ],
   "source": [
    "a"
   ]
  },
  {
   "cell_type": "markdown",
   "metadata": {
    "id": "RnG_RcP3K9VE"
   },
   "source": [
    "### 2 - Plot the energy as a function of the Metropolis time\n",
    "\n",
    "2a - First write a function that generate a random initial condition of particle energies, and than iterates the metropolis steps starting from that initial condition."
   ]
  },
  {
   "cell_type": "code",
   "execution_count": 16,
   "metadata": {},
   "outputs": [],
   "source": [
    "def energy_trajectories(n_particles, b, eps, max_time):\n",
    "    init_conditions = np.random.randint(0,2,n_particles)\n",
    "    trajectory  = []\n",
    "    for n in range(max_time):\n",
    "        init_conditions = metropolis_step(init_conditions, b, eps)\n",
    "        energy = np.sum(init_conditions)\n",
    "#         print(state)\n",
    "        trajectory.append(energy)\n",
    "    return trajectory"
   ]
  },
  {
   "cell_type": "code",
   "execution_count": 17,
   "metadata": {},
   "outputs": [
    {
     "data": {
      "text/plain": [
       "[3, 2, 1, 2]"
      ]
     },
     "execution_count": 17,
     "metadata": {},
     "output_type": "execute_result"
    }
   ],
   "source": [
    "energy_trajectories(5, -1, 1, 4)"
   ]
  },
  {
   "cell_type": "markdown",
   "metadata": {
    "id": "wUKLpq3BL0dI"
   },
   "source": [
    "2b - Second generate an ensemble of these trajectories and compute the average over $R$ realizations.\n",
    "\n",
    "Plot a generic trajectory and also the average energy as a function of time."
   ]
  },
  {
   "cell_type": "code",
   "execution_count": 18,
   "metadata": {},
   "outputs": [],
   "source": [
    "def average_energy_trajectories(n_particles, b, eps, max_time, n_realizations):\n",
    "    average_trajectory = np.zeros(max_time)\n",
    "    for r in range(n_realizations):\n",
    "        trajectory = energy_trajectories(n_particles, b, eps, max_time)\n",
    "        average_trajectory += np.array(trajectory)/n_realizations\n",
    "    return average_trajectory"
   ]
  },
  {
   "cell_type": "code",
   "execution_count": 19,
   "metadata": {},
   "outputs": [
    {
     "data": {
      "text/plain": [
       "array([2.585, 2.555, 2.525, 2.465])"
      ]
     },
     "execution_count": 19,
     "metadata": {},
     "output_type": "execute_result"
    }
   ],
   "source": [
    "average_energy_trajectories(5, -1, 1, 4, 200)"
   ]
  },
  {
   "cell_type": "code",
   "execution_count": 20,
   "metadata": {},
   "outputs": [
    {
     "data": {
      "image/png": "[encoded data removed]",
      "text/plain": [
       "<Figure size 432x288 with 1 Axes>"
      ]
     },
     "metadata": {
      "needs_background": "light"
     },
     "output_type": "display_data"
    }
   ],
   "source": [
    "y1 = energy_trajectories(100, 1, 1, 1000)\n",
    "y2 = average_energy_trajectories(100, 1, 1, 1000, 200)\n",
    "plt.plot(y1)\n",
    "plt.plot(y2)\n",
    "plt.show()"
   ]
  },
  {
   "cell_type": "markdown",
   "metadata": {
    "id": "3gE0oV6SNUGw"
   },
   "source": [
    "From the previous plot you can have now an estimate of the time required for the equilibration of the system (that reaches the stationary state and the probability distribution is sampled).\n",
    "We call this time `burn_in_time`"
   ]
  },
  {
   "cell_type": "markdown",
   "metadata": {
    "id": "wBSfK846Q0TJ"
   },
   "source": [
    "### 3 - Find the correlation length\n",
    "\n",
    "All the nice results about the Montecarlo sample average and its convergence to the true average holds only if the samples are independent.\n",
    "Actually MCMC generates correlated samples that loose correlation only after sufficient time.\n",
    "\n",
    "To find how much time the chain needs to loose correlation you can plot the temporal autocorrelation for the energy:\n",
    "$$\n",
    "\\rho(t_1, t_2) = \\frac{\\langle E_{t_1} E_{t_2} \\rangle - \\langle E_{t_1}\\rangle \\langle E_{t_2} \\rangle  }{\\text{std}(E_{t_1})\\text{std}(E_{t_2})}\n",
    "$$\n",
    "\n",
    "As before, plot the autocorrelation as a function of time to get the `correlation_time` that you have to wait so that your samples will be independent.\n",
    "\n",
    "Note: to compute the autocorrelation consider trajectories that are at equilibrium, therefore discard all the samples before the burn_in_time."
   ]
  },
  {
   "cell_type": "code",
   "execution_count": null,
   "metadata": {
    "id": "URjaMis-6ojl"
   },
   "outputs": [],
   "source": []
  },
  {
   "cell_type": "markdown",
   "metadata": {
    "id": "xndwzC1wXAvI"
   },
   "source": [
    "### 4 - Compute the average energy as a function of the temperature\n",
    "\n",
    "Now we have all the ingredients to simulate the model through Metropolis. The aim of this simulation is to estimate the average energy using the sample average:\n",
    "$$\n",
    "\\langle E \\rangle = \\frac{1}{N} \\sum_{k=1}^N E(\\vec{\\mu})\n",
    "$$\n",
    "where the samples $\\vec{\\mu}$ are generated through the Metropolis algorithm which starts to sample after a given `burn-in` period and, to remove correlations, discards several state of the chain.\n",
    "\n",
    "A pseudocode can be:\n",
    "> - Init the average magnetization $\\langle E \\rangle=0$.\n",
    "> - Generate a random initial state $\\mu$\n",
    "> - Iterate the chain $i = 1, \\ldots, t_{\\text{burn-in}}$ (**equilibration**):\n",
    ">> - Update the states without updating the energy $\\mu$ = `metropolis_step`($\\mu$, $\\beta$, $\\epsilon$)\n",
    "> - Interate over the number of samples $i = 1, \\ldots, N$:\n",
    ">> - Iterate the chain $i = 1, \\ldots, t_{\\text{corr}}$ (**independence**):\n",
    ">>> - Update the states without updating the energy $\\mu$ = `metropolis_step`($\\mu$, $\\beta$, $\\epsilon$)\n",
    ">> - Compute the energy at the current $\\vec{\\mu}$ and uptate the average $\\langle E \\rangle = \\langle E \\rangle + E(\\vec{\\mu}) / N$\n",
    ">- Return $\\langle E \\rangle$\n",
    "\n",
    "Try to implement this code into a function that given the arguments N_particles, beta, $\\epsilon$, N_samples, t_burn_in, t_correlation, returns the average energy."
   ]
  },
  {
   "cell_type": "markdown",
   "metadata": {
    "id": "l1jFHyjjY8Bm"
   },
   "source": [
    "When you have the code to compute the average energy, you can do it for different temperatures and plt the curve energy-temperature.\n",
    "Compare the curve with the theoretical prediction."
   ]
  },
  {
   "cell_type": "code",
   "execution_count": null,
   "metadata": {
    "id": "v31BqVntafPk"
   },
   "outputs": [],
   "source": []
  }
 ],
 "metadata": {
  "colab": {
   "collapsed_sections": [],
   "name": "Exercise Metropolis for two level system.ipynb",
   "provenance": []
  },
  "kernelspec": {
   "display_name": "Python 3",
   "language": "python",
   "name": "python3"
  },
  "language_info": {
   "codemirror_mode": {
    "name": "ipython",
    "version": 3
   },
   "file_extension": ".py",
   "mimetype": "text/x-python",
   "name": "python",
   "nbconvert_exporter": "python",
   "pygments_lexer": "ipython3",
   "version": "3.8.8"
  }
 },
 "nbformat": 4,
 "nbformat_minor": 4
}
