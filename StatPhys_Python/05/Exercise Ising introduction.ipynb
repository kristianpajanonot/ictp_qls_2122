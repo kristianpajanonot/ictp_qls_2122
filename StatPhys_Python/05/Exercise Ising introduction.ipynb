{
 "cells": [
  {
   "cell_type": "markdown",
   "metadata": {
    "id": "MG63QK0DI6k_"
   },
   "source": [
    "# Ising model\n",
    "\n",
    "The aim of this exercise is to meet the glorious ising model, and torealize that the direct sampling of the probability distribution is useless in this case."
   ]
  },
  {
   "cell_type": "code",
   "execution_count": 2,
   "metadata": {
    "id": "4OZE8aNG7Brs"
   },
   "outputs": [],
   "source": [
    "import numpy as np\n",
    "import matplotlib.pyplot as plt"
   ]
  },
  {
   "cell_type": "markdown",
   "metadata": {
    "id": "E7nd0DIyKRrd"
   },
   "source": [
    "## 1 - Taking confidence with the 2-d standard Ising model\n",
    "\n",
    "In the 2-d standard Ising model, the nodes are arranged in a two dimensional lattice, let's say of size $L$. Therefore, the total number of spins is $N=L^2$. Each spin is identified by its coordinates $(x,y)$, where $x, y \\in \\lbrace 1,2, \\ldots, L\\rbrace$.\n",
    "\n",
    "The interactions occur only between nearest neighbours of the lattice with a constant coupling coefficient $J$: the spin at $(x,y)$ interact with $(x+1,y)$, $(x-1,y)$, $(x,y+1)$, $(x,y-1)$. We also impose periodic boundary conditions, such that the spin at the boundary $(L, y)$ interact with the spin at the opposite boundary $(0,y)$ (the same is true for the spins at $y=L$ and $y=0$).\n",
    "As a consequence, the Hamiltonian of the system has this shape:\n",
    "\n",
    "\\begin{equation}\n",
    "\\mathcal{H}\\left(\\vec{\\sigma}\\right) = - \\sum_{x,y = 1}^{L} \\sigma_{x,y} \\left[ \\frac{J}{2}  \\left( \\sigma_{x+1,y} + \\sigma_{x-1,y} + \\sigma_{x,y+1} + \\sigma_{x,y-1} \\right) + h \\right]\n",
    "\\end{equation}\n",
    "\n",
    "where the spins are binary variables, $\\sigma_{x,y} \\in \\lbrace -1,1 \\rbrace$, and the boundary conditions say that $x,y=L+1 = 1$ and $x,y=L=0$.\n",
    "\n",
    "### 1a - Generate a random state of spins, compute its energy, and magnetization.\n",
    "\n",
    "First, write a function that generate a random configuration/state, taking as argument the side of the lattice $L$.\n",
    "This function returns the configuration as a numpy matrix."
   ]
  },
  {
   "cell_type": "code",
   "execution_count": null,
   "metadata": {
    "id": "wJgrtwd_9Y4f"
   },
   "outputs": [],
   "source": [
    "def random_state(side_L):\n",
    "    return np.random.randint(0, 2, (2,2))*2-1"
   ]
  },
  {
   "cell_type": "markdown",
   "metadata": {
    "id": "-dbiZAGzKujm"
   },
   "source": [
    "Second, write the function that compute the energy of a given configuration. This function takes as arguments the configuration, the coupling constant $J$ and the external field $h$.\n",
    "\n",
    "Be careful about the boundary conditions!"
   ]
  },
  {
   "cell_type": "code",
   "execution_count": null,
   "metadata": {
    "id": "bamuUnelK_tp"
   },
   "outputs": [],
   "source": []
  },
  {
   "cell_type": "markdown",
   "metadata": {
    "id": "JUMfpquhLLNt"
   },
   "source": [
    "Third, write the function that compute the magnetization taking the configuration as argument.\n",
    "$$\n",
    "M(\\vec{\\sigma}) = \\frac{1}{L^2} \\sum_{x,y=1}^L \\sigma_{x,y}\n",
    "$$"
   ]
  },
  {
   "cell_type": "code",
   "execution_count": null,
   "metadata": {
    "id": "rXboZ2HmLMIz"
   },
   "outputs": [],
   "source": []
  },
  {
   "cell_type": "markdown",
   "metadata": {
    "id": "BbIYTitCLXqf"
   },
   "source": [
    "Now you can try to fix the parameters $L$, $J$ and $h$, generate a random configuration and compute its energy and magnetization."
   ]
  },
  {
   "cell_type": "code",
   "execution_count": null,
   "metadata": {
    "id": "6AeE2qpY-CEZ"
   },
   "outputs": [],
   "source": []
  },
  {
   "cell_type": "markdown",
   "metadata": {
    "id": "2Sb7kNp7yDlD"
   },
   "source": [
    "### 1b - Try to do the same with a configuration having all the spins up."
   ]
  },
  {
   "cell_type": "code",
   "execution_count": null,
   "metadata": {
    "id": "wEpFryRMyIkK"
   },
   "outputs": [],
   "source": []
  },
  {
   "cell_type": "markdown",
   "metadata": {
    "id": "cdJvT7JpL53D"
   },
   "source": [
    "### 1c - Plot the configuration that you have generated.\n",
    "\n",
    "For doing a \"color map\" in which the values stored in a matrix are plotted with different colors depending on their value (excatly our case), you can use plt.imshow as below."
   ]
  },
  {
   "cell_type": "code",
   "execution_count": null,
   "metadata": {
    "id": "MqCf1TxIL-zD"
   },
   "outputs": [],
   "source": []
  },
  {
   "cell_type": "markdown",
   "metadata": {
    "id": "3faRzweSRIaK"
   },
   "source": [
    "## 2 - Compute the partition function of the system and realize that direct sampling is impossible\n",
    "\n",
    "The equilibrium distribution of a canonical ensemble is given by the Gibbs measure:\n",
    "\n",
    "\\begin{equation}\n",
    "\\pi\\left( \\vec{\\sigma} \\right) = \\frac{1}{Z(\\beta)} e^{-\\beta \\; \\mathcal{H}\\left( \\vec{\\sigma} \\right)  }\n",
    "\\end{equation}\n",
    "\n",
    "where $\\beta$ is proportional to the inverse of the temperature, and the normalization constant is the partition function of the system:\n",
    "\n",
    "\\begin{equation}\n",
    "Z(\\beta) = \\sum_{\\vec{\\sigma}} e^{-\\beta \\; \\mathcal{H}\\left( \\vec{\\sigma} \\right)  }\n",
    "\\end{equation}\n",
    "\n",
    "Note that to compute the partition function, one has to enumerate all the states of the system $\\vec{\\sigma}$, which, in our case, are all the possible combinations of $+1$ and $-1$ of for all the $N$ spins, therefore $2^N$ states.\n",
    "The fact that the number of states exponentially increase with $N$ is basically the reason why it is not possible to manage the model simulation by directly sampling the probability distribution $\\pi\\left( \\vec{\\sigma} \\right)$.\n"
   ]
  },
  {
   "cell_type": "markdown",
   "metadata": {
    "id": "utJzmDMUOec6"
   },
   "source": [
    "### 2a - Write a function that returns the non-normalized Gibbs weight of a given configuration. \n",
    "\n",
    "It takes as arguments the configuration, $\\beta$, $J$, and $h$. (Use the energy function that you have written before)."
   ]
  },
  {
   "cell_type": "code",
   "execution_count": null,
   "metadata": {
    "id": "nHsD7r56kn2M"
   },
   "outputs": [],
   "source": []
  },
  {
   "cell_type": "markdown",
   "metadata": {
    "id": "_wI9-lF4Oz8u"
   },
   "source": [
    "Compute the partition function. To do this you have to enumerate all the possible configurations, and compute the Gibbs measure for each of them. For the enumeration use the use the suggested iterable written below.\n"
   ]
  },
  {
   "cell_type": "code",
   "execution_count": null,
   "metadata": {
    "colab": {
     "base_uri": "https://localhost:8080/"
    },
    "executionInfo": {
     "elapsed": 304,
     "status": "ok",
     "timestamp": 1634560049427,
     "user": {
      "displayName": "Emanuele Panizon",
      "photoUrl": "https://lh3.googleusercontent.com/a-/AOh14GhU3bANePp98sC8frkoMDF3prowtkgqqBZ5OWO3=s64",
      "userId": "08849301982747007535"
     },
     "user_tz": -120
    },
    "id": "hYiqD6orO014",
    "outputId": "37a88047-8a5c-447a-bfa8-d603d6b229f1"
   },
   "outputs": [
    {
     "name": "stdout",
     "output_type": "stream",
     "text": [
      "single element (-1, -1, -1, -1)\n",
      "as an array\n",
      " [[-1 -1]\n",
      " [-1 -1]]\n",
      "single element (-1, -1, -1, 1)\n",
      "as an array\n",
      " [[-1 -1]\n",
      " [-1  1]]\n",
      "single element (-1, -1, 1, -1)\n",
      "as an array\n",
      " [[-1 -1]\n",
      " [ 1 -1]]\n",
      "single element (-1, -1, 1, 1)\n",
      "as an array\n",
      " [[-1 -1]\n",
      " [ 1  1]]\n",
      "single element (-1, 1, -1, -1)\n",
      "as an array\n",
      " [[-1  1]\n",
      " [-1 -1]]\n",
      "single element (-1, 1, -1, 1)\n",
      "as an array\n",
      " [[-1  1]\n",
      " [-1  1]]\n",
      "single element (-1, 1, 1, -1)\n",
      "as an array\n",
      " [[-1  1]\n",
      " [ 1 -1]]\n",
      "single element (-1, 1, 1, 1)\n",
      "as an array\n",
      " [[-1  1]\n",
      " [ 1  1]]\n",
      "single element (1, -1, -1, -1)\n",
      "as an array\n",
      " [[ 1 -1]\n",
      " [-1 -1]]\n",
      "single element (1, -1, -1, 1)\n",
      "as an array\n",
      " [[ 1 -1]\n",
      " [-1  1]]\n",
      "single element (1, -1, 1, -1)\n",
      "as an array\n",
      " [[ 1 -1]\n",
      " [ 1 -1]]\n",
      "single element (1, -1, 1, 1)\n",
      "as an array\n",
      " [[ 1 -1]\n",
      " [ 1  1]]\n",
      "single element (1, 1, -1, -1)\n",
      "as an array\n",
      " [[ 1  1]\n",
      " [-1 -1]]\n",
      "single element (1, 1, -1, 1)\n",
      "as an array\n",
      " [[ 1  1]\n",
      " [-1  1]]\n",
      "single element (1, 1, 1, -1)\n",
      "as an array\n",
      " [[ 1  1]\n",
      " [ 1 -1]]\n",
      "single element (1, 1, 1, 1)\n",
      "as an array\n",
      " [[1 1]\n",
      " [1 1]]\n"
     ]
    }
   ],
   "source": [
    "from itertools import product\n",
    "\n",
    "for i in product([-1,1], repeat=4):\n",
    "  print('single element', i)\n",
    "  print('as an array\\n', np.array(i).reshape((2,2)))\n"
   ]
  },
  {
   "cell_type": "markdown",
   "metadata": {
    "id": "_cZO6SplgMUy"
   },
   "source": [
    "You cannot enumerate all the states even for a very small system, e.g. $L > 6$. This makes impossible to compute the average of observables (e.g. the magnetization) using the analytical summation, as well as to extract samples form the probability distribution using direct Montecarlo methods.\n"
   ]
  },
  {
   "cell_type": "code",
   "execution_count": null,
   "metadata": {
    "id": "SxK2vKTxgM8k"
   },
   "outputs": [],
   "source": []
  }
 ],
 "metadata": {
  "colab": {
   "collapsed_sections": [],
   "name": "Exercise Ising introduction.ipynb",
   "provenance": []
  },
  "kernelspec": {
   "display_name": "Python 3",
   "language": "python",
   "name": "python3"
  },
  "language_info": {
   "codemirror_mode": {
    "name": "ipython",
    "version": 3
   },
   "file_extension": ".py",
   "mimetype": "text/x-python",
   "name": "python",
   "nbconvert_exporter": "python",
   "pygments_lexer": "ipython3",
   "version": "3.8.8"
  }
 },
 "nbformat": 4,
 "nbformat_minor": 4
}
