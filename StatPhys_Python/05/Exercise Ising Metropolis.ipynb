{
 "cells": [
  {
   "cell_type": "markdown",
   "metadata": {
    "id": "MG63QK0DI6k_"
   },
   "source": [
    "# Ising model\n",
    "\n",
    "The aim of this exercise is to simulate the model with Markov Chains Montecarlo."
   ]
  },
  {
   "cell_type": "code",
   "execution_count": 1,
   "metadata": {
    "id": "4OZE8aNG7Brs"
   },
   "outputs": [],
   "source": [
    "import numpy as np\n",
    "import matplotlib.pyplot as plt"
   ]
  },
  {
   "cell_type": "markdown",
   "metadata": {
    "id": "E7nd0DIyKRrd"
   },
   "source": [
    "## 2-d standard Ising model\n",
    "\n",
    "In the 2-d standard Ising model, the nodes are arranged in a two dimensional lattice, let's say of size $L$. Therefore, the total number of spins is $N=L^2$. Each spin is identified by its coordinates $(x,y)$, where $x, y \\in \\lbrace 1,2, \\ldots, L\\rbrace$.\n",
    "\n",
    "The interactions occur only between nearest neighbours of the lattice with a constant coupling coefficient $J$: the spin at $(x,y)$ interact with $(x+1,y)$, $(x-1,y)$, $(x,y+1)$, $(x,y-1)$. We also impose periodic boundary conditions, such that the spin at the boundary $(L, y)$ interact with the spin at the opposite boundary $(0,y)$ (the same is true for the spins at $y=L$ and $y=0$).\n",
    "As a consequence, the Hamiltonian of the system has this shape:\n",
    "\n",
    "\\begin{equation}\n",
    "\\mathcal{H}\\left(\\vec{\\sigma}\\right) = - \\sum_{x,y = 1}^{L} \\sigma_{x,y} \\left[ \\frac{J}{2} \\left( \\sigma_{x+1,y} + \\sigma_{x-1,y} + \\sigma_{x,y+1} + \\sigma_{x,y-1} \\right) + h \\right]\n",
    "\\end{equation}\n",
    "\n",
    "where the spins are binary variables, $\\sigma_{x,y} \\in \\lbrace -1,1 \\rbrace$,and the boundary conditions say that $x,y=L+1 = 1$ and $x,y=L=0$."
   ]
  },
  {
   "cell_type": "markdown",
   "metadata": {
    "id": "dEnX117dmvPn"
   },
   "source": [
    "## Metropolis algorithm for Ising\n",
    "\n",
    "The idea of Markov Chain Montecarlo is to jump around among the states of my systems (without enumerating all of them) by choosing the transition probabilities in such a way that the states that I get after each jump are samples that follow the probability distribution of the model.\n",
    "In such a way only a very small subset of the states are visited, however, this subset is large enough to be used for reliable computation of macroscopic observables.\n",
    "\n",
    "\n",
    "### 1 - Pseudocode for one step of the Metropolis algorithm for the Ising Model:\n",
    "\n",
    "The following pseudocode provides a transition from one state (or configuration of spins) of the Ising model, $\\vec{\\sigma}$ to another, in a way that the detail balance of the resulting Markov Chain (where the states are all the spin configurations) is satisfied.\n",
    "This is one step of the so-called Metropolis algorithm:\n",
    "\n",
    "`Metropolis_step`($\\vec{\\sigma}$, $\\beta$, $J$, $h$):\n",
    "> - Given the configuration $\\vec{\\sigma}$, choose one of the $N$ spins at random, say $(\\bar{x}, \\bar{y})$, and consider a new configuration $\\vec{\\sigma}'$ such that $\\sigma'_{\\bar{x}, \\bar{y}} = -\\sigma_{\\bar{x}, \\bar{y}}$.\n",
    "> - Compute the energy difference between the two states:\n",
    "> \\begin{equation}\n",
    "\\Delta E = \\mathcal{H}\\left( \\vec{\\sigma}' \\right) - \\mathcal{H}\\left( \\vec{\\sigma} \\right) = 2 \\sigma_{\\bar{x}, \\bar{y}} \\left( J \\sum_{x,y \\in B(\\bar{x}, \\bar{y})} \\sigma_{{x}, {y}} + h\\right)\n",
    "\\end{equation}\n",
    "> where $B(\\bar{x}, \\bar{y})$ are the neighbours of $(\\bar{x}, \\bar{y})$, four in this standard 2-d model.\n",
    "> - If the energy of the new state is less than the previous one,  $\\Delta E \\le 0$, accept the new change (i.e. overwrite $\\sigma$: $\\vec{\\sigma} \\rightarrow \\vec{\\sigma}'$), if not, accept the new change with probability $p = \\exp[-\\beta \\Delta E]$.\n",
    "> - Return $\\vec{\\sigma}$ \n",
    "\n",
    "Write the function `Metropolis_step`($\\vec{\\sigma}$, $\\beta$, $J$, $h$)."
   ]
  },
  {
   "cell_type": "code",
   "execution_count": null,
   "metadata": {},
   "outputs": [],
   "source": []
  },
  {
   "cell_type": "code",
   "execution_count": null,
   "metadata": {},
   "outputs": [],
   "source": [
    "def energy(configuration, )\n",
    "    lx, ly = configuration.shape\n",
    "    x = np.random.randint(0, lx)\n",
    "    y = np.random.randint(0, ly)\n",
    "    h = configuration[x,y]\n",
    "    for xy_pair, s in np.ndenumerate(configuration):\n",
    "        energy = \n",
    "        neigbors = "
   ]
  },
  {
   "cell_type": "code",
   "execution_count": null,
   "metadata": {
    "id": "Pg45eQPnp9rZ"
   },
   "outputs": [],
   "source": [
    "def Metropolis_step(configuration, b, j, h):\n",
    "    new_configuration = configuration.copy()\n",
    "    #get coordinates of random n\n",
    "#     x = np.random.randint(len(configuration))\n",
    "#     y = np.random.randint(len(configuration))\n",
    "#     n = configuration[x,y]\n",
    "\n",
    "    lx, ly = configuration.shape\n",
    "    x = np.random.randint(0, lx)\n",
    "    y = np.random.randint(0, ly)\n",
    "    n = configuration[x,y]\n",
    "    \n",
    "    #flip random n\n",
    "    new_configuration[x,y] = -n\n",
    "    #compute energy nearest neighbors\n",
    "    energy_old = np.sum(configuration, axis = 0)\n",
    "    energy_new = np.sum(new_configuration)"
   ]
  },
  {
   "cell_type": "code",
   "execution_count": 59,
   "metadata": {},
   "outputs": [
    {
     "data": {
      "text/plain": [
       "array([[-1,  1, -1],\n",
       "       [-1,  1,  1],\n",
       "       [-1, -1,  1]])"
      ]
     },
     "execution_count": 59,
     "metadata": {},
     "output_type": "execute_result"
    }
   ],
   "source": [
    "configuration = np.random.randint(0,2, (3,3))*2 - 1\n",
    "configuration"
   ]
  },
  {
   "cell_type": "code",
   "execution_count": 79,
   "metadata": {},
   "outputs": [
    {
     "name": "stdout",
     "output_type": "stream",
     "text": [
      "0 1 1\n",
      "(0, 0)\n",
      "(0, 1)\n",
      "(0, 2)\n",
      "(1, 0)\n",
      "(1, 1)\n",
      "(1, 2)\n",
      "(2, 0)\n",
      "(2, 1)\n",
      "(2, 2)\n"
     ]
    }
   ],
   "source": [
    "lx, ly = configuration.shape\n",
    "x = np.random.randint(0, lx)\n",
    "y = np.random.randint(0, ly)\n",
    "h = configuration[x,y]\n",
    "print(x,y,h)\n",
    "for xy_pair, s in np.ndenumerate(configuration):\n",
    "    print(xy_pair)"
   ]
  },
  {
   "cell_type": "code",
   "execution_count": 80,
   "metadata": {},
   "outputs": [
    {
     "name": "stdout",
     "output_type": "stream",
     "text": [
      "0 1\n",
      "0 2\n",
      "0 3\n",
      "1 1\n",
      "1 2\n",
      "1 3\n",
      "2 1\n",
      "2 2\n",
      "2 3\n"
     ]
    }
   ],
   "source": [
    "for xy_pair, s in np.ndenumerate(configuration):\n",
    "    print(xy_pair[0], xy_pair[1]+1)"
   ]
  },
  {
   "cell_type": "code",
   "execution_count": 81,
   "metadata": {},
   "outputs": [
    {
     "name": "stdout",
     "output_type": "stream",
     "text": [
      "0 1\n",
      "0 2\n",
      "0 0\n",
      "1 1\n",
      "1 2\n",
      "1 0\n",
      "2 1\n",
      "2 2\n",
      "2 0\n"
     ]
    }
   ],
   "source": [
    "for xy_pair, s in np.ndenumerate(configuration):\n",
    "    print(xy_pair[0], (xy_pair[1]+1)%ly)"
   ]
  },
  {
   "cell_type": "code",
   "execution_count": 82,
   "metadata": {},
   "outputs": [
    {
     "name": "stdout",
     "output_type": "stream",
     "text": [
      "1\n",
      "0\n",
      "-1\n",
      "-2\n",
      "-1\n",
      "0\n",
      "1\n",
      "2\n",
      "1\n",
      "0\n",
      "-1\n",
      "0\n",
      "-1\n",
      "0\n",
      "1\n",
      "0\n",
      "-1\n",
      "-2\n"
     ]
    }
   ],
   "source": [
    "for xy_pair, s in np.ndenumerate(configuration):\n",
    "#     print(configuration[xy_pair[0], (xy_pair[1]+1)%ly])\n",
    "    nb_energy = 0\n",
    "    nb_energy += configuration[xy_pair[0], (xy_pair[1]+1)%ly]\n",
    "    print(nb_energy)\n",
    "    nb_energy += configuration[xy_pair[0], (xy_pair[1]-1)%ly]\n",
    "    print(nb_energy)"
   ]
  },
  {
   "cell_type": "code",
   "execution_count": 88,
   "metadata": {},
   "outputs": [],
   "source": [
    "lx, ly = configuration.shape\n",
    "for i_pair, s in np.ndenumerate(configuration):\n",
    "    nb_energy = 0\n",
    "    nb_energy += configuration[(i_pair[0], (i_pair[1]+1)%ly)]\n",
    "    nb_energy += configuration[(i_pair[0], (i_pair[1]-1)%ly)]\n",
    "    nb_energy += configuration[((i_pair[0]+1)%lx, i_pair[1])]\n",
    "    nb_energy += configuration[((i_pair[0]-1)%lx, i_pair[1])]"
   ]
  },
  {
   "cell_type": "code",
   "execution_count": 89,
   "metadata": {},
   "outputs": [
    {
     "data": {
      "text/plain": [
       "-2"
      ]
     },
     "execution_count": 89,
     "metadata": {},
     "output_type": "execute_result"
    }
   ],
   "source": [
    "nb_energy"
   ]
  },
  {
   "cell_type": "code",
   "execution_count": 87,
   "metadata": {},
   "outputs": [
    {
     "data": {
      "text/plain": [
       "array([[-1,  1, -1],\n",
       "       [-1,  1,  1],\n",
       "       [-1, -1,  1]])"
      ]
     },
     "execution_count": 87,
     "metadata": {},
     "output_type": "execute_result"
    }
   ],
   "source": [
    "configuration"
   ]
  },
  {
   "cell_type": "code",
   "execution_count": null,
   "metadata": {},
   "outputs": [],
   "source": [
    "nb_energy = 0\n",
    "nb_energy += state[(i_pair[0], (i_pair[1]+1)%ly)]\n",
    "nb_energy += state[(i_pair[0], (i_pair[1]-1)%ly)]\n",
    "nb_energy += state[((i_pair[0]+1)%lx, i_pair[1])]\n",
    "nb_energy += state[((i_pair[0]-1)%lx, i_pair[1])]\n",
    "energy -= s * (coupling_const * nb_energy / 2 + ext_field)"
   ]
  },
  {
   "cell_type": "markdown",
   "metadata": {
    "id": "ZqhngkIIpxgc"
   },
   "source": [
    "Before writing down the whole algorithm in its full glory, let's analyse how this chain works.\n",
    "We will focus on some potential problems that one should take int account in generating samples with Metropolis.\n",
    "This problems are in  general true for all Markov Chain Montecarlo methods, and are **correlation** bewteen samples, and the transient time for **equilibration** of the chain."
   ]
  },
  {
   "cell_type": "markdown",
   "metadata": {
    "id": "5Iq-G8FYlMXD"
   },
   "source": [
    "### Visualize some configurations of spins varing the temperature and the simulation time \n",
    "\n",
    "Let's first visualize how a state of the Ising model changes by iterating the Markov Chain.\n",
    "\n",
    "Start from a state generated at random (try $L=30$) and iterate the chain using `Metropolis_step`($\\vec{\\sigma}$, $\\beta$, $J$, $h$). \n",
    "\n",
    "Draw the state at different temperatures to see what changes.\n",
    "Try for example, T = 0.5, 2, 10.\n",
    "Do you see the different behaviors of the three temperatures? Which change from a complete random/disordered state (at high temperature) to a completely coherent one (low temperature)."
   ]
  },
  {
   "cell_type": "code",
   "execution_count": null,
   "metadata": {
    "id": "xB8gR7Tdyr_u"
   },
   "outputs": [],
   "source": []
  },
  {
   "cell_type": "code",
   "execution_count": null,
   "metadata": {
    "id": "Jy3VDaFyV7L1"
   },
   "outputs": [],
   "source": []
  },
  {
   "cell_type": "markdown",
   "metadata": {
    "id": "VZVZ4ca7ZLwC"
   },
   "source": [
    "From the snapshot that you plotted you can see that the model needs some time to move from the random initial confiuration to the \"equilibrium\" one.\n",
    "The samples that we want to generate through the chain should be only taken at equilibrium, and therefore we want to discard what happened before (the transient time).\n",
    "\n",
    "This is a typical \"problem\" of MCMC, where, usually, one discards the initials steps to wait for the equilibration. This is sometimes called **burn-in period**. \n",
    "\n",
    "A possible way to identify the right time after which we can considerate the chain at equilibrium is to plot the trajectory of some observable, and see when it becomes stationary.\n",
    "Guess what observable we choose? Of course our dear magnetization.\n",
    "\n",
    "### 2 - Plot the average magnetization as a function of the simulation time (to find a good burn-in time)\n",
    "\n",
    "Compute the magnetization of several parallel trajecotries as a function of the simulation time and compute their average. \n",
    "\n",
    "Consider the magnetization as it is, but the **absolute value** of it.\n",
    "This because the system is completely symmetric by flipping all the spins (the energy is the same), however the magnetization changes sign. Therefore, for each configuration having a given magnetization, you have a flipped configuration (with same probability) having an opposite magnetization (if $h=0$). As a consequence the average magnetization is always zero, but the average of its absolute value not.\n",
    "\n",
    "Try to see when these trajectories reach a stationary value for a fixed lattice size (try $L=15$), and for each size try different temperatures in the three different regimes that we saw in the snapshots.\n",
    "\n",
    "What is a good burn-in time?"
   ]
  },
  {
   "cell_type": "code",
   "execution_count": null,
   "metadata": {
    "id": "P59A0tdaA-4a"
   },
   "outputs": [],
   "source": []
  },
  {
   "cell_type": "code",
   "execution_count": null,
   "metadata": {
    "id": "JSU8S23-BtLQ"
   },
   "outputs": [],
   "source": []
  },
  {
   "cell_type": "code",
   "execution_count": null,
   "metadata": {
    "id": "ykvzt1sJCChQ"
   },
   "outputs": [],
   "source": []
  },
  {
   "cell_type": "markdown",
   "metadata": {
    "id": "9ea_v9R02tdn"
   },
   "source": [
    "### 4 - Find the correlation length of the chain\n",
    "\n",
    "In Montecarlo methods the samples must be independent.\n",
    "This is not true in general for all the samples that Metropolis algorithm generates.\n",
    "\n",
    "The trick to get independent samples is to discard a certain number of samples before considering the next one which will be used to compute the sample average. The question is: how many samples I have to discard?\n",
    "\n",
    "The temporal autocorrelation function (https://en.wikipedia.org/wiki/Autocorrelation) for the magnetization can give us the answer:\n",
    "\n",
    "$$\n",
    "\\rho(t_1, t_2) = \\frac{\\langle M_{t_1} M_{t_2} \\rangle - \\langle M_{t_1}\\rangle \\langle M_{t_2} \\rangle  }{\\text{std}(M_{t_1})\\text{std}(M_{t_2})}\n",
    "$$\n",
    "\n",
    "Note that if the two variables are independent $\\rho = 0$ since the average of their product is the product of their averages. On the contrary, for complete correlation, i.e. the two variables are the same, $\\rho = 1$.\n",
    "\n",
    "Here we want to study the autocorrelation of the magnetization by choosing $t_1$ larger than the burn-in time (we want to be in the stationary state), and seeing for which $t_2^*$ the correlation disapperars. $t_2^*-t_1$ will give us the number of steps to wait is such a way that two consecutive samples are uncorrelated."
   ]
  },
  {
   "cell_type": "code",
   "execution_count": null,
   "metadata": {
    "id": "OWyHOIH22x6v"
   },
   "outputs": [],
   "source": []
  },
  {
   "cell_type": "code",
   "execution_count": null,
   "metadata": {
    "id": "s_Jzv2syVO8K"
   },
   "outputs": [],
   "source": []
  },
  {
   "cell_type": "code",
   "execution_count": null,
   "metadata": {
    "id": "2C0XYeocWzc4"
   },
   "outputs": [],
   "source": []
  },
  {
   "cell_type": "markdown",
   "metadata": {
    "id": "atLp9IzE7VpV"
   },
   "source": [
    "From this plot we can see the typical correlation length."
   ]
  },
  {
   "cell_type": "markdown",
   "metadata": {
    "id": "8kf23zmWHnFT"
   },
   "source": [
    "### 5 - Phase transition\n",
    "\n",
    "Now we have all the ingredients to simulate the Ising model through Metropolis. The aim of this simulation is to estimate the average (absolute) magnetization using the sample average:\n",
    "$$\n",
    "\\langle M \\rangle = \\frac{1}{N} \\sum_{k=1}^N M(\\vec{\\sigma})\n",
    "$$\n",
    "where the samples $\\vec{\\sigma}$ are generated through the Metropolis algorithm which starts to sample after a given burn-in period and, to remove correlations, discards several state of the chain.\n",
    "\n",
    "A pseudocode can be:\n",
    "> - Init the average magnetization $\\langle M \\rangle=0$.\n",
    "> - Generate a random initial state $\\sigma$\n",
    "> - Iterate the chain $i = 1, \\ldots, t_{\\text{burn-in}}$ (**equilibration**):\n",
    ">> - Updated the states without updating the magnetization $\\sigma$ = `metropolis_step`($\\sigma$, $\\beta$, J, h)\n",
    "> - Interate over the number of samples $i = 1, \\ldots, N$:\n",
    ">> - Iterate the chain $i = 1, \\ldots, t_{\\text{corr}}$ (**independence**):\n",
    ">>> - Updated the states without updating the magnetization $\\sigma$ = `metropolis_step`($\\sigma$, $\\beta$, J, h)\n",
    ">> - Compute the magnetization at the current $\\vec{\\sigma}$ and uptate $\\langle M \\rangle = \\langle M \\rangle + M(\\vec{\\sigma}) / N$\n",
    ">- Return $\\langle M \\rangle$\n",
    "\n",
    "Try to implement this code into a function that given the arguments L, beta, J, h, n_samples, t_burn_in, t_correlation, returns the average magnetization."
   ]
  },
  {
   "cell_type": "code",
   "execution_count": null,
   "metadata": {
    "id": "eSXTEal5NGh4"
   },
   "outputs": [],
   "source": []
  },
  {
   "cell_type": "markdown",
   "metadata": {
    "id": "pMjRZareN5q2"
   },
   "source": [
    "By plotting the average magnetization (order parameter) for different temperatures (control parameter) you can see the phase transition (actually a smooth version of it, since the lattice is not infinite).\n",
    "\n",
    "Here compute for different tempereatures the average magnetization and plot it versus the temperature."
   ]
  },
  {
   "cell_type": "code",
   "execution_count": null,
   "metadata": {
    "id": "BVqGKGcelDp-"
   },
   "outputs": [],
   "source": []
  },
  {
   "cell_type": "code",
   "execution_count": null,
   "metadata": {
    "id": "rvPSK_cPjFMn"
   },
   "outputs": [],
   "source": []
  },
  {
   "cell_type": "code",
   "execution_count": null,
   "metadata": {
    "id": "T_-BC5hHMqq3"
   },
   "outputs": [],
   "source": []
  },
  {
   "cell_type": "code",
   "execution_count": null,
   "metadata": {
    "id": "wxeiIsXwk7X0"
   },
   "outputs": [],
   "source": []
  },
  {
   "cell_type": "code",
   "execution_count": null,
   "metadata": {
    "id": "tLnxDq3KlL1X"
   },
   "outputs": [],
   "source": []
  }
 ],
 "metadata": {
  "colab": {
   "collapsed_sections": [],
   "name": "Exercise Ising Metropolis.ipynb",
   "provenance": []
  },
  "kernelspec": {
   "display_name": "Python 3",
   "language": "python",
   "name": "python3"
  },
  "language_info": {
   "codemirror_mode": {
    "name": "ipython",
    "version": 3
   },
   "file_extension": ".py",
   "mimetype": "text/x-python",
   "name": "python",
   "nbconvert_exporter": "python",
   "pygments_lexer": "ipython3",
   "version": "3.8.8"
  }
 },
 "nbformat": 4,
 "nbformat_minor": 4
}
