{
 "cells": [
  {
   "cell_type": "code",
   "execution_count": 1,
   "id": "c8629b9d-ec30-488c-aa3d-07216272a21f",
   "metadata": {},
   "outputs": [],
   "source": [
    "import numpy as np\n",
    "import matplotlib.pyplot as plt\n",
    "from tqdm import tqdm"
   ]
  },
  {
   "cell_type": "markdown",
   "id": "9762232f-54cd-40e9-84c0-81c6e6d8d7a2",
   "metadata": {},
   "source": [
    "* Color is from (1, q)\n",
    "* correct answer for energy has a factor 2\n",
    "* magnetization computation\n",
    "* how to show energy is distributed"
   ]
  },
  {
   "cell_type": "code",
   "execution_count": 2,
   "id": "8edfc309-7883-4e3f-81d1-12c2edba7a22",
   "metadata": {},
   "outputs": [],
   "source": [
    "#function to return LxL matrix with random/homogeneous states from 0 to q\n",
    "def state_generator(q, L):\n",
    "    if q != 1:\n",
    "        return np.random.randint(1, q+1, (L,L))\n",
    "    else:\n",
    "        return np.ones((L,L), int)"
   ]
  },
  {
   "cell_type": "code",
   "execution_count": 3,
   "id": "c6a4335d-03a7-466b-8241-eac12d652a6d",
   "metadata": {},
   "outputs": [],
   "source": [
    "def energy(state, coupling_const, ext_field):\n",
    "    \"\"\"\"Computes the energy of a given configuration state by taking the following steps:\n",
    "    A. Compute the 1st term of hamiltonian:\n",
    "    Get the 4 neighbors for each s, since periodic boundary conditions are imposed. \n",
    "    Compare the value of s with each neighboring site using kronecker-delta fn: if values are equal, then value is 1, otherwise 0. \n",
    "    The total_nb_energy is the negative of the sum of the 4 kronecker-delta fn. The hamiltonian_1st is the product of coupling\n",
    "    constant and total_nb_energy. \n",
    "    \n",
    "    B. Compute the 2nd term of hamiltonian:\n",
    "    Compare each s with value of 1, using kronecker-delta fn: if values are equal, then value is 1, otherwise 0.\n",
    "    Multiply this by the ext_field and save it as hamiltonian_2nd. \n",
    "    \n",
    "    Do A and B for each s across the LxL matrix.\n",
    "    Energy of a given configuration is hamiltonian_1st - hamiltonian_2nd\n",
    "    \n",
    "    Args:\n",
    "        state(np.array): LxL matrix of a configuration\n",
    "        coupling_const(float): coupling constant\n",
    "        ext_field(float): external magnetic field\n",
    "        \n",
    "    Returns:\n",
    "        energy(float)\n",
    "        \n",
    "    \"\"\"\n",
    "    total_nb_energy = 0\n",
    "    hamiltonian_2nd = 0\n",
    "    lx, ly = state.shape\n",
    "    for i_pair, s in np.ndenumerate(state):\n",
    "        #get the 4 neighbors for each s\n",
    "        nb1 = state[(i_pair[0], (i_pair[1]+1)%ly)]\n",
    "        nb2 = state[(i_pair[0], (i_pair[1]-1)%ly)]\n",
    "        nb3 = state[((i_pair[0]+1)%lx, i_pair[1])]\n",
    "        nb4 = state[((i_pair[0]-1)%lx, i_pair[1])]\n",
    "        #compute total neighbor energy\n",
    "        total_nb_energy -= (np.array([nb1, nb2, nb3, nb4]) == s).sum()\n",
    "        #calculate hamiltonian_1st\n",
    "        hamiltonian_1st = coupling_const/2 * total_nb_energy\n",
    "        \n",
    "        #calculate hamiltonian_2nd\n",
    "        if s == 1:            \n",
    "            delta_h = 1\n",
    "            hamiltonian_2nd += ext_field*delta_h\n",
    "    return hamiltonian_1st - hamiltonian_2nd"
   ]
  },
  {
   "cell_type": "code",
   "execution_count": 4,
   "id": "38ebaa7c-efd0-4bc5-ae80-96af8ba5e76e",
   "metadata": {},
   "outputs": [],
   "source": [
    "#function to return the magnetization by computing the percentage of sites with s == 1\n",
    "def magnetization(state):\n",
    "    q_list = state.flatten()\n",
    "    return (q_list == 1).sum()/state.size"
   ]
  },
  {
   "cell_type": "code",
   "execution_count": 5,
   "id": "bc746d71-aaaa-47bd-b1f5-931d32b2c3ae",
   "metadata": {},
   "outputs": [],
   "source": [
    "coupling_const = 2\n",
    "ext_field = 0.1"
   ]
  },
  {
   "cell_type": "markdown",
   "id": "d4186b7e-e903-4620-a61d-455b3b1cf7b4",
   "metadata": {},
   "source": [
    "### Energy for different configuration of states"
   ]
  },
  {
   "cell_type": "markdown",
   "id": "08016bc0-b75c-4b3b-b9c1-43c379568ac9",
   "metadata": {},
   "source": [
    "State with all s = 1"
   ]
  },
  {
   "cell_type": "code",
   "execution_count": 6,
   "id": "c5f6eb47-7f8a-4fca-8671-df0f480a57b6",
   "metadata": {},
   "outputs": [
    {
     "data": {
      "text/plain": [
       "array([[1, 1, 1],\n",
       "       [1, 1, 1],\n",
       "       [1, 1, 1]])"
      ]
     },
     "execution_count": 6,
     "metadata": {},
     "output_type": "execute_result"
    }
   ],
   "source": [
    "one_state = state_generator(1, 3)\n",
    "one_state"
   ]
  },
  {
   "cell_type": "code",
   "execution_count": 7,
   "id": "61efc9b9-fe1e-4482-b708-7bcced0112ff",
   "metadata": {},
   "outputs": [
    {
     "data": {
      "text/plain": [
       "-36.9"
      ]
     },
     "execution_count": 7,
     "metadata": {},
     "output_type": "execute_result"
    }
   ],
   "source": [
    "one_energy = energy(one_state, coupling_const, ext_field)\n",
    "one_energy"
   ]
  },
  {
   "cell_type": "code",
   "execution_count": 8,
   "id": "c33691ab-0c7a-49a9-97c5-2ea2d060e21d",
   "metadata": {},
   "outputs": [
    {
     "data": {
      "text/plain": [
       "-36.9"
      ]
     },
     "execution_count": 8,
     "metadata": {},
     "output_type": "execute_result"
    }
   ],
   "source": [
    "#compare answer\n",
    "N = one_state.size\n",
    "one_energy_correct = -(coupling_const*N*2) - (N*ext_field)\n",
    "one_energy_correct"
   ]
  },
  {
   "cell_type": "markdown",
   "id": "8677cc53-a226-4a60-92f8-696d4367c011",
   "metadata": {},
   "source": [
    "State with homogenous color s, except for s = 1"
   ]
  },
  {
   "cell_type": "code",
   "execution_count": 9,
   "id": "aa8f5445-a759-4596-98c7-3928addd55de",
   "metadata": {},
   "outputs": [
    {
     "data": {
      "text/plain": [
       "array([[2, 2, 2],\n",
       "       [2, 2, 2],\n",
       "       [2, 2, 2]])"
      ]
     },
     "execution_count": 9,
     "metadata": {},
     "output_type": "execute_result"
    }
   ],
   "source": [
    "other_state = state_generator(1, 3)*2\n",
    "other_state"
   ]
  },
  {
   "cell_type": "code",
   "execution_count": 10,
   "id": "70c5d93f-7249-4eea-be80-6af8d6c920bd",
   "metadata": {},
   "outputs": [
    {
     "data": {
      "text/plain": [
       "-36.0"
      ]
     },
     "execution_count": 10,
     "metadata": {},
     "output_type": "execute_result"
    }
   ],
   "source": [
    "other_energy = energy(other_state, coupling_const, ext_field)\n",
    "other_energy"
   ]
  },
  {
   "cell_type": "code",
   "execution_count": 11,
   "id": "2d7fef16-5245-42e2-9533-c3b6b9733082",
   "metadata": {},
   "outputs": [
    {
     "data": {
      "text/plain": [
       "-36"
      ]
     },
     "execution_count": 11,
     "metadata": {},
     "output_type": "execute_result"
    }
   ],
   "source": [
    "#compare answer\n",
    "N = other_state.size\n",
    "other_energy_correct = -coupling_const*N*2\n",
    "other_energy_correct"
   ]
  },
  {
   "cell_type": "markdown",
   "id": "b2c8b056-ec9f-45b1-8072-7e632714ba58",
   "metadata": {},
   "source": [
    "### Magnetization for different configuration of states"
   ]
  },
  {
   "cell_type": "code",
   "execution_count": 12,
   "id": "d9beee63-9887-48c5-9b53-68b822163c3a",
   "metadata": {},
   "outputs": [
    {
     "data": {
      "text/plain": [
       "1.0"
      ]
     },
     "execution_count": 12,
     "metadata": {},
     "output_type": "execute_result"
    }
   ],
   "source": [
    "#all s = 1\n",
    "one_magnetization = magnetization(one_state)\n",
    "one_magnetization"
   ]
  },
  {
   "cell_type": "code",
   "execution_count": 13,
   "id": "729fe354-9fff-4ccb-935f-4694f5dff7b3",
   "metadata": {},
   "outputs": [
    {
     "data": {
      "text/plain": [
       "0.0"
      ]
     },
     "execution_count": 13,
     "metadata": {},
     "output_type": "execute_result"
    }
   ],
   "source": [
    "#homogenous color, except for s = 1\n",
    "other_magnetization = magnetization(other_state)\n",
    "other_magnetization"
   ]
  },
  {
   "cell_type": "markdown",
   "id": "b0a37479-0eb0-417a-962d-7ae8d3e4c527",
   "metadata": {},
   "source": [
    "## Energy and magnetization for random states of 0 to q"
   ]
  },
  {
   "cell_type": "code",
   "execution_count": 14,
   "id": "6e563939-c08f-4ba6-bec8-94497effa908",
   "metadata": {},
   "outputs": [
    {
     "data": {
      "text/plain": [
       "array([[1, 1, 4, 4, 4],\n",
       "       [4, 1, 3, 1, 1],\n",
       "       [3, 1, 3, 2, 1],\n",
       "       [3, 2, 2, 4, 3],\n",
       "       [1, 4, 2, 4, 3]])"
      ]
     },
     "execution_count": 14,
     "metadata": {},
     "output_type": "execute_result"
    }
   ],
   "source": [
    "q = 4\n",
    "L = 5\n",
    "random_state = state_generator(q, L)\n",
    "random_state"
   ]
  },
  {
   "cell_type": "markdown",
   "id": "01299d3b-a6e1-443c-b2b2-24ecb8042ad5",
   "metadata": {},
   "source": [
    "Energy"
   ]
  },
  {
   "cell_type": "code",
   "execution_count": 15,
   "id": "092198d7-5357-4076-8ac6-4ad563beb5ab",
   "metadata": {},
   "outputs": [
    {
     "data": {
      "text/plain": [
       "-32.8"
      ]
     },
     "execution_count": 15,
     "metadata": {},
     "output_type": "execute_result"
    }
   ],
   "source": [
    "random_energy = energy(random_state, coupling_const, ext_field)\n",
    "random_energy"
   ]
  },
  {
   "cell_type": "code",
   "execution_count": 16,
   "id": "ccec6cfe-edfb-4a92-9c35-1baafc537a69",
   "metadata": {},
   "outputs": [
    {
     "data": {
      "text/plain": [
       "-25.625"
      ]
     },
     "execution_count": 16,
     "metadata": {},
     "output_type": "execute_result"
    }
   ],
   "source": [
    "#correct answer\n",
    "N = random_state.size\n",
    "energy_random_correct = -(coupling_const*N*(2/q)) - (N*(ext_field/q))\n",
    "energy_random_correct"
   ]
  },
  {
   "cell_type": "markdown",
   "id": "c2ff0503-155d-47ee-ba5c-7e880b230247",
   "metadata": {},
   "source": [
    "Magnetization"
   ]
  },
  {
   "cell_type": "code",
   "execution_count": 17,
   "id": "33574fc6-c850-4afc-ba83-16812f0b1c73",
   "metadata": {},
   "outputs": [
    {
     "data": {
      "text/plain": [
       "0.32"
      ]
     },
     "execution_count": 17,
     "metadata": {},
     "output_type": "execute_result"
    }
   ],
   "source": [
    "random_magnetization = magnetization(random_state)\n",
    "random_magnetization"
   ]
  },
  {
   "cell_type": "code",
   "execution_count": 18,
   "id": "0fd56f2a-a717-40ac-9bd5-9bf883228f4c",
   "metadata": {},
   "outputs": [
    {
     "data": {
      "text/plain": [
       "0.25"
      ]
     },
     "execution_count": 18,
     "metadata": {},
     "output_type": "execute_result"
    }
   ],
   "source": [
    "#correct answer\n",
    "random_magnetization_correct = 1/q\n",
    "random_magnetization_correct"
   ]
  },
  {
   "cell_type": "markdown",
   "id": "dd99ff52-bbfb-4d3c-8a3f-6ee4e8524ece",
   "metadata": {},
   "source": [
    "Energy and magnetization distribution"
   ]
  },
  {
   "cell_type": "code",
   "execution_count": 19,
   "id": "85d4230d-9fdf-4b76-8c83-12198e27bebe",
   "metadata": {},
   "outputs": [
    {
     "name": "stdout",
     "output_type": "stream",
     "text": [
      "Wall time: 695 ms\n"
     ]
    }
   ],
   "source": [
    "%%time\n",
    "n_realizations =1000\n",
    "q = 2\n",
    "L = 10\n",
    "coupling_const = 2\n",
    "ext_field = 0.1\n",
    "\n",
    "energy_list = []\n",
    "magnetization_list = []\n",
    "for i in range(n_realizations):\n",
    "    random_state = state_generator(q, L)\n",
    "    random_energy = energy(random_state, coupling_const, ext_field)\n",
    "    random_magnetization = magnetization(random_state)\n",
    "    \n",
    "    energy_list.append(random_energy)\n",
    "    magnetization_list.append(random_magnetization)"
   ]
  },
  {
   "cell_type": "code",
   "execution_count": 20,
   "id": "27096030-238b-4be2-a7cd-d34ad1847686",
   "metadata": {},
   "outputs": [
    {
     "data": {
      "image/png": "[encoded data removed]",
      "text/plain": [
       "<Figure size 1080x288 with 2 Axes>"
      ]
     },
     "metadata": {
      "needs_background": "light"
     },
     "output_type": "display_data"
    }
   ],
   "source": [
    "fig, ax = plt.subplots(1,2, figsize=(15,4))\n",
    "\n",
    "N = random_state.size\n",
    "energy_correct = -(coupling_const*N*(2/q)) - (N*(ext_field/q))\n",
    "magnetization_correct = 1/q\n",
    "\n",
    "ax[0].hist(energy_list, bins=20)\n",
    "ax[0].axvline(energy_correct, color = 'orange', label='correct energy value')\n",
    "ax[0].set_xlabel('energy')\n",
    "ax[0].set_ylabel('frequency')\n",
    "ax[0].legend()\n",
    "\n",
    "ax[1].hist(magnetization_list, bins=20)\n",
    "\n",
    "ax[1].axvline(magnetization_correct, color = 'orange', label='correct magnetization value')\n",
    "ax[1].set_xlabel('magnetization')\n",
    "ax[1].set_ylabel('frequency')\n",
    "ax[1].legend()\n",
    "plt.show()"
   ]
  },
  {
   "cell_type": "markdown",
   "id": "9fe056ff-81af-4c13-95f9-a44585737e0c",
   "metadata": {},
   "source": [
    "TODO: Different values of q for magnetization"
   ]
  },
  {
   "cell_type": "markdown",
   "id": "19083dda-6d58-488f-8342-8bf662b46eee",
   "metadata": {},
   "source": [
    "* clarify histogram\n",
    "* -1.9 is it correct\n",
    "* what is J in the sanity check"
   ]
  },
  {
   "cell_type": "markdown",
   "id": "d8ca42db-3136-47a9-a71e-001f964d050e",
   "metadata": {},
   "source": [
    "## Metropolis Markov Chain"
   ]
  },
  {
   "cell_type": "code",
   "execution_count": 21,
   "id": "c2b318a8-245f-40a1-bdea-2945c1b7060f",
   "metadata": {},
   "outputs": [],
   "source": [
    "def delta_energy(state, state_prime, coupling_const, ext_field):\n",
    "    state_energy = energy(state, coupling_const, ext_field)\n",
    "    state_prime_energy = energy(state_prime, coupling_const, ext_field)\n",
    "    return state_prime_energy - state_energy"
   ]
  },
  {
   "cell_type": "code",
   "execution_count": 22,
   "id": "007c43e2-f4f5-4f76-b04f-5d0d6f177e70",
   "metadata": {},
   "outputs": [
    {
     "data": {
      "text/plain": [
       "-3.9000000000000004"
      ]
     },
     "execution_count": 22,
     "metadata": {},
     "output_type": "execute_result"
    }
   ],
   "source": [
    "state = np.array([[1, 2, 2],[2, 1, 1],[2, 1, 1]])\n",
    "state_prime = np.array([[2, 2, 2],[2, 1, 1],[2, 1, 1]])\n",
    "coupling_const = 1\n",
    "ext_field = 0.1\n",
    "delta_e = delta_energy(state, state_prime, coupling_const, ext_field)\n",
    "delta_e"
   ]
  },
  {
   "cell_type": "code",
   "execution_count": 23,
   "id": "01ba4990-f79c-4b27-b964-c2c0ba15ce5a",
   "metadata": {},
   "outputs": [],
   "source": [
    "def metropolis_step(state, q, coupling_const, ext_field, beta):\n",
    "    new_configuration = []\n",
    "    \n",
    "    lx, ly = state.shape\n",
    "    flattened_state = state.flatten()\n",
    "    #choose 1 element from the state\n",
    "    chosen_index = np.random.randint(0,lx**2)    \n",
    "    original_element = flattened_state[chosen_index]\n",
    "    #choose random value of q\n",
    "    new_element = np.random.randint(1,q+1)\n",
    "    #change element to another color except itself\n",
    "    while new_element == original_element:\n",
    "        new_element = np.random.randint(1,q+1)\n",
    "    #replace the original_element to the new_element\n",
    "    flattened_state[chosen_index] = new_element\n",
    "    new_state = flattened_state.reshape(lx, ly)\n",
    "    #calculate energy:\n",
    "    delta_e = delta_energy(state, new_state, coupling_const, ext_field)\n",
    "    #condition\n",
    "    if delta_e <= 0:\n",
    "        new_configuration = new_state\n",
    "    else:\n",
    "        prob = np.exp(-beta*delta_e)\n",
    "        unif = np.random.rand()\n",
    "        if unif < prob:  \n",
    "            new_configuration = new_state\n",
    "        else:\n",
    "            new_configuration = state\n",
    "    return new_configuration"
   ]
  },
  {
   "cell_type": "code",
   "execution_count": 24,
   "id": "2263263e-80cc-4222-aba5-71fa65e2738c",
   "metadata": {},
   "outputs": [
    {
     "name": "stdout",
     "output_type": "stream",
     "text": [
      "orig state [[2 2 1 2 2 2 2 1 1 2 2 1 2 1 1 2 1 1 2 1]\n",
      " [1 1 2 1 1 2 1 1 1 2 2 1 1 1 2 2 2 2 1 2]\n",
      " [1 1 1 2 2 2 2 1 1 2 2 1 1 1 1 1 1 1 2 2]\n",
      " [1 1 1 1 2 1 1 1 2 1 1 2 2 2 1 2 1 1 2 1]\n",
      " [2 2 2 2 2 1 2 1 2 2 1 2 2 2 2 1 2 2 2 2]\n",
      " [1 2 1 1 1 1 2 1 2 2 2 2 2 2 2 1 2 2 2 2]\n",
      " [2 2 2 1 2 1 2 1 1 2 2 2 2 2 2 1 2 2 1 2]\n",
      " [2 2 2 2 2 1 2 1 2 1 2 1 1 1 1 1 2 1 2 1]\n",
      " [2 1 1 1 2 1 1 2 1 1 2 2 1 2 2 1 1 2 1 1]\n",
      " [1 2 1 1 2 2 1 1 2 2 2 1 1 2 2 2 2 2 1 1]\n",
      " [1 1 2 2 1 2 1 1 1 1 2 2 2 2 1 1 2 2 2 2]\n",
      " [1 1 2 2 2 2 2 1 1 2 1 1 1 2 1 2 1 1 1 2]\n",
      " [1 1 2 2 1 1 2 1 2 1 1 1 2 2 1 1 2 1 2 2]\n",
      " [2 2 2 2 1 2 2 2 2 1 1 2 1 2 1 2 1 2 1 2]\n",
      " [2 2 2 2 2 1 2 1 2 1 1 1 2 2 2 2 1 2 1 2]\n",
      " [2 2 2 2 1 1 1 2 2 2 2 1 1 1 1 1 1 1 2 1]\n",
      " [2 2 2 1 1 2 1 2 2 2 1 2 1 2 1 1 2 2 2 2]\n",
      " [2 2 1 1 2 1 2 2 2 1 1 2 1 1 1 2 2 1 2 2]\n",
      " [2 1 1 2 1 1 1 1 2 1 1 2 2 1 1 2 1 1 2 1]\n",
      " [1 1 2 2 1 2 1 1 2 1 1 1 1 1 2 2 2 2 2 1]]\n",
      "iterations 4445\n",
      "final_state [[1 1 1 1 1 1 1 1 1 1 1 1 1 1 1 1 1 1 1 1]\n",
      " [1 1 1 1 1 1 1 1 1 1 1 1 1 1 1 1 1 1 1 1]\n",
      " [1 1 1 1 1 1 1 1 1 1 1 1 1 1 1 1 1 1 1 1]\n",
      " [1 1 1 1 1 1 1 1 1 1 1 1 1 1 1 1 1 1 1 1]\n",
      " [1 1 1 1 1 1 1 1 1 1 1 1 1 1 1 1 1 1 1 1]\n",
      " [1 1 1 1 1 1 1 1 1 1 1 1 1 1 1 1 1 1 1 1]\n",
      " [1 1 1 1 1 1 1 1 1 1 1 1 1 1 1 1 1 1 1 1]\n",
      " [1 1 1 1 1 1 1 1 1 1 1 1 1 1 1 1 1 1 1 1]\n",
      " [1 1 1 1 1 1 1 1 1 1 1 1 1 1 1 1 1 1 1 1]\n",
      " [1 1 1 1 1 1 1 1 1 1 1 1 1 1 1 1 1 1 1 1]\n",
      " [1 1 1 1 1 1 1 1 1 1 1 1 1 1 1 1 1 1 1 1]\n",
      " [1 1 1 1 1 1 1 1 1 1 1 1 1 1 1 1 1 1 1 1]\n",
      " [1 1 1 1 1 1 1 1 1 1 1 1 1 1 1 1 1 1 1 1]\n",
      " [1 1 1 1 1 1 1 1 1 1 1 1 1 1 1 1 1 1 1 1]\n",
      " [1 1 1 1 1 1 1 1 1 1 1 1 1 1 1 1 1 1 1 1]\n",
      " [1 1 1 1 1 1 1 1 1 1 1 1 1 1 1 1 1 1 1 1]\n",
      " [1 1 1 1 1 1 1 1 1 1 1 1 1 1 1 1 1 1 1 1]\n",
      " [1 1 1 1 1 1 1 1 1 1 1 1 1 1 1 1 1 1 1 1]\n",
      " [1 1 1 1 1 1 1 1 1 1 1 1 1 1 1 1 1 1 1 1]\n",
      " [1 1 1 1 1 1 1 1 1 1 1 1 1 1 1 1 1 1 1 1]]\n",
      "Wall time: 40.1 s\n"
     ]
    }
   ],
   "source": [
    "%%time\n",
    "n_realizations = 10000\n",
    "q = 2\n",
    "L = 20\n",
    "coupling_const = 1\n",
    "ext_field = 0.1\n",
    "beta = 10\n",
    "state = state_generator(q, L)\n",
    "print('orig state', state)\n",
    "for i in range(n_realizations):    \n",
    "    state = metropolis_step(state, q, coupling_const, ext_field, beta)\n",
    "    if state.flatten().sum() == L**2:\n",
    "        print('iterations', i)\n",
    "        final_state = state\n",
    "        break\n",
    "\n",
    "print('final_state', final_state)"
   ]
  },
  {
   "cell_type": "markdown",
   "id": "e9364502-b06f-40b0-87cb-9589bc931ec1",
   "metadata": {},
   "source": [
    "## Generating samples and computing the magnetization"
   ]
  },
  {
   "cell_type": "markdown",
   "id": "c989fb90-99d5-4d3c-a2cb-3641aad7849d",
   "metadata": {},
   "source": [
    "* is 2.2 correct: function that generates samples of energy and magnetization with\n",
    "the Metropolis algorithm vs returns the list/array of the Nsamples generated samples.\n",
    "* absolute magnetization, average is zero\n",
    "* length of chain as L, L as size of matrix"
   ]
  },
  {
   "cell_type": "code",
   "execution_count": 25,
   "id": "ef7cfac5-600e-43be-acc0-a3a7fef49034",
   "metadata": {},
   "outputs": [],
   "source": [
    "def sample_generator(L, len_chain, beta, q, coupling_const, ext_field, equi_time, n_samples):\n",
    "    state_list = []\n",
    "    generated_samples = 0\n",
    "    #generate a state\n",
    "    state = state_generator(q, L)\n",
    "\n",
    "    #generate states using metropolis step in burn-in time\n",
    "    for i in range(len_chain):\n",
    "        state = metropolis_step(state, q, coupling_const, ext_field, beta)\n",
    "\n",
    "    state_list.append(state)\n",
    "    generated_samples += 1\n",
    "    \n",
    "    #generate n_samples of states for each equi_time\n",
    "    while generated_samples <= n_samples:\n",
    "\n",
    "        #after reaching burn-in time, generate states using metropolis step within the equi time interval\n",
    "        for j in range(equi_time):\n",
    "            state = metropolis_step(state, q, coupling_const, ext_field, beta)\n",
    "\n",
    "        state_list.append(state)\n",
    "\n",
    "        generated_samples += 1\n",
    "\n",
    "    return state_list"
   ]
  },
  {
   "cell_type": "code",
   "execution_count": 26,
   "id": "8a02a5a1-92b1-4025-b5cb-cf8ea8171d91",
   "metadata": {},
   "outputs": [
    {
     "data": {
      "text/plain": [
       "[array([[1, 2, 1],\n",
       "        [2, 2, 1],\n",
       "        [1, 1, 1]]),\n",
       " array([[2, 2, 1],\n",
       "        [1, 2, 1],\n",
       "        [1, 1, 1]]),\n",
       " array([[1, 1, 1],\n",
       "        [1, 1, 1],\n",
       "        [1, 1, 1]]),\n",
       " array([[1, 1, 1],\n",
       "        [1, 1, 1],\n",
       "        [1, 1, 1]]),\n",
       " array([[1, 1, 1],\n",
       "        [1, 1, 1],\n",
       "        [1, 1, 1]])]"
      ]
     },
     "execution_count": 26,
     "metadata": {},
     "output_type": "execute_result"
    }
   ],
   "source": [
    "sample_generator(3, 10, 10, 3, 2, 0.1, 10, 4)"
   ]
  },
  {
   "cell_type": "markdown",
   "id": "4f206aac-ecfb-4395-a46d-23d921fdc47b",
   "metadata": {},
   "source": [
    "## Numerical Investigations"
   ]
  },
  {
   "cell_type": "markdown",
   "id": "fdd95246-cc5d-4c4c-a34e-3f5385e58d14",
   "metadata": {},
   "source": [
    "* meaning for N goes to inifnity"
   ]
  },
  {
   "cell_type": "code",
   "execution_count": 27,
   "id": "66608c4d-7cc2-4541-9a03-943d3ca5f977",
   "metadata": {},
   "outputs": [
    {
     "name": "stdout",
     "output_type": "stream",
     "text": [
      "1 0.6931471805599453\n",
      "2 0.8813735870195429\n",
      "3 1.005052538742381\n",
      "4 1.0986122886681098\n",
      "5 1.1743590056195488\n",
      "6 1.2382263194623326\n"
     ]
    }
   ],
   "source": [
    "#different beta critical for each q\n",
    "coupling_const = 1\n",
    "q_list = [1,2,3,4,5,6]\n",
    "for q in q_list:\n",
    "    critical_beta = np.log(1+np.sqrt(q))/coupling_const\n",
    "    print(q, critical_beta)"
   ]
  },
  {
   "cell_type": "code",
   "execution_count": 28,
   "id": "3381135c-03b6-4555-b977-660320003cde",
   "metadata": {},
   "outputs": [],
   "source": [
    "#function to calculate single energy trajectory\n",
    "def energy_trajectories(state, q, coupling_const, ext_field, beta, max_time):\n",
    "    trajectory  = []\n",
    "    for n in range(max_time):\n",
    "        state = metropolis_step(state, q, coupling_const, ext_field, beta)\n",
    "        one_energy = energy(state, coupling_const, ext_field)\n",
    "        trajectory.append(one_energy)\n",
    "    return trajectory\n",
    "\n",
    "#function to calculate average energy trajectory\n",
    "def average_energy_trajectories(state, q, coupling_const, ext_field, beta, max_time, n_realizations):\n",
    "    average_trajectory = np.zeros(max_time)\n",
    "    for r in range(n_realizations):\n",
    "        trajectory = energy_trajectories(state, q, coupling_const, ext_field, beta, max_time)\n",
    "        average_trajectory += np.array(trajectory)/n_realizations\n",
    "    return average_trajectory"
   ]
  },
  {
   "cell_type": "code",
   "execution_count": 29,
   "id": "809c7239-1fcf-4ee9-90f5-728d381e1140",
   "metadata": {},
   "outputs": [],
   "source": [
    "#function to calculate single magnetization trajectory\n",
    "def magnetization_trajectories(state, q, coupling_const, ext_field, beta, max_time):\n",
    "    trajectory  = []\n",
    "    for n in range(max_time):\n",
    "        state = metropolis_step(state, q, coupling_const, ext_field, beta)\n",
    "        one_magnetization = magnetization(state)\n",
    "        trajectory.append(one_magnetization)\n",
    "    return trajectory\n",
    "\n",
    "#function to calculate average magnetization trajectory\n",
    "def average_magnetization_trajectories(state, q, coupling_const, ext_field, beta, max_time, n_realizations):\n",
    "    average_trajectory = np.zeros(max_time)\n",
    "    for r in range(n_realizations):\n",
    "        trajectory = magnetization_trajectories(state, q, coupling_const, ext_field, beta, max_time)\n",
    "        average_trajectory += np.array(trajectory)/n_realizations\n",
    "    return average_trajectory"
   ]
  },
  {
   "cell_type": "markdown",
   "id": "be63e009-8f1e-4b06-8862-8184ec16fae7",
   "metadata": {},
   "source": [
    "Plot average energy and magnetization for different temperatures at q = 2, q = 5"
   ]
  },
  {
   "cell_type": "code",
   "execution_count": 42,
   "id": "b466b87a-46b4-40ba-a106-fb55ebd115d7",
   "metadata": {},
   "outputs": [
    {
     "name": "stderr",
     "output_type": "stream",
     "text": [
      "100%|██████████| 3/3 [08:07<00:00, 162.35s/it]\n",
      "100%|██████████| 3/3 [08:23<00:00, 167.93s/it]"
     ]
    },
    {
     "name": "stdout",
     "output_type": "stream",
     "text": [
      "Wall time: 16min 30s\n"
     ]
    },
    {
     "name": "stderr",
     "output_type": "stream",
     "text": [
      "\n"
     ]
    }
   ],
   "source": [
    "%%time\n",
    "L = 5\n",
    "coupling_const = 1\n",
    "ext_field = 0.05\n",
    "max_time = 1000\n",
    "n_realizations = 100\n",
    "\n",
    "#dictionary contains the different temperature values around the beta critical, for q = 2 and q = 5\n",
    "dict_q = {2: [0.5, 0.88, 1.1], 5: [0.8, 1.17, 1.4]}\n",
    "\n",
    "energy_q_list = []\n",
    "magnetization_q_list = []\n",
    "for q, beta_list in dict_q.items():\n",
    "    #iterate over the different values of q\n",
    "    ave_energy_trajectory = []\n",
    "    ave_magnetization_trajectory = []\n",
    "    #generate a random state\n",
    "    \n",
    "    \n",
    "    for beta in tqdm(beta_list):\n",
    "        #for each q, iterate over the 3 beta critical       \n",
    "        ave_e_traj = average_energy_trajectories(state, q, coupling_const, ext_field, beta, max_time, n_realizations)\n",
    "        ave_magnet_traj = average_magnetization_trajectories(state, q, coupling_const, ext_field, beta, max_time, n_realizations)\n",
    "        \n",
    "        ave_energy_trajectory.append(ave_e_traj)\n",
    "        ave_magnetization_trajectory.append(ave_magnet_traj)\n",
    "        \n",
    "    energy_q_list.append(ave_energy_trajectory)\n",
    "    magnetization_q_list.append(ave_magnetization_trajectory)"
   ]
  },
  {
   "cell_type": "code",
   "execution_count": 43,
   "id": "6e20d0e7-6e42-4005-b868-723b2cf17818",
   "metadata": {},
   "outputs": [
    {
     "data": {
      "image/png": "[encoded data removed]",
      "text/plain": [
       "<Figure size 1080x288 with 2 Axes>"
      ]
     },
     "metadata": {
      "needs_background": "light"
     },
     "output_type": "display_data"
    }
   ],
   "source": [
    "fig, ax = plt.subplots(1,2, figsize=(15,4))\n",
    "\n",
    "q2 = energy_q_list[0]\n",
    "q5 = energy_q_list[1]\n",
    "\n",
    "beta_q2 = [0.5, 0.88, 1.1]\n",
    "beta_q5 = [0.8, 1.17, 1.4]\n",
    "for i in range(len(beta_q2)):\n",
    "    ax[0].plot(q2[i], label=\"Beta={}\".format(beta_q2[i]))\n",
    "    ax[1].plot(q5[i], label=\"Beta={}\".format(beta_q5[i]))\n",
    "    \n",
    "ax[0].set_xlabel('Time steps')\n",
    "ax[0].set_ylabel('Average energy')\n",
    "\n",
    "ax[1].set_xlabel('Time steps')\n",
    "ax[1].set_ylabel('Average energy')\n",
    "\n",
    "ax[0].legend()\n",
    "ax[1].legend()\n",
    "\n",
    "ax[0].set_title('q = 2')\n",
    "ax[1].set_title('q = 5')\n",
    "plt.suptitle('L = 5, h = 0.05')\n",
    "plt.show()"
   ]
  },
  {
   "cell_type": "code",
   "execution_count": 44,
   "id": "70e19ebc-ade8-4633-bf09-a97428e32400",
   "metadata": {},
   "outputs": [
    {
     "data": {
      "image/png": "[encoded data removed]",
      "text/plain": [
       "<Figure size 1080x288 with 2 Axes>"
      ]
     },
     "metadata": {
      "needs_background": "light"
     },
     "output_type": "display_data"
    }
   ],
   "source": [
    "fig, ax = plt.subplots(1,2, figsize=(15,4))\n",
    "\n",
    "q2 = magnetization_q_list[0]\n",
    "q5 = magnetization_q_list[1]\n",
    "\n",
    "beta_q2 = [0.5, 0.88, 1.1]\n",
    "beta_q5 = [0.8, 1.17, 1.4]\n",
    "for i in range(len(beta_q2)):\n",
    "    ax[0].plot(q2[i], label=\"Beta={}\".format(beta_q2[i]))\n",
    "    ax[1].plot(q5[i], label=\"Beta={}\".format(beta_q5[i]))\n",
    "ax[0].set_xlabel('Time steps')\n",
    "ax[0].set_ylabel('Average magnetization')\n",
    "\n",
    "ax[1].set_xlabel('Time steps')\n",
    "ax[1].set_ylabel('Average magnetization')\n",
    "\n",
    "ax[0].legend()\n",
    "ax[1].legend()\n",
    "\n",
    "ax[0].set_title('q = 2')\n",
    "ax[1].set_title('q = 5')\n",
    "plt.suptitle('L = 5, h = 0.05')\n",
    "plt.show()"
   ]
  },
  {
   "cell_type": "markdown",
   "id": "41375560-22a6-47f3-9f58-82a7666b6794",
   "metadata": {},
   "source": [
    "reference for potts model"
   ]
  },
  {
   "cell_type": "code",
   "execution_count": 60,
   "id": "1f00a57b-2f59-4bf3-b6b5-da115b3ab227",
   "metadata": {},
   "outputs": [],
   "source": [
    "def magnet_autocorrelation(q, L, beta, coupling_const, ext_field, burn_in_time, max_corr_time, n_realizations):\n",
    "    # Init the magnetiz product, the first and the second moments\n",
    "    prod = np.zeros(max_corr_time)\n",
    "    average_at_start = 0\n",
    "    average_at_next = np.zeros(max_corr_time)\n",
    "    sec_moment_at_start = 0\n",
    "    sec_moment_at_next = np.zeros(max_corr_time)\n",
    "\n",
    "    for i in range(n_realizations):\n",
    "\n",
    "        # Equilibration\n",
    "        state = state_generator(q, L)\n",
    "        for j in range(burn_in_time):\n",
    "            state = metropolis_step(state, q, coupling_const, ext_field, beta)\n",
    "\n",
    "        # The start value of the magetization is computed after the burn-in period.\n",
    "        start_magnet = magneti\n",
    "        average_at_start += start_magnet / n_realizations\n",
    "        sec_moment_at_start += start_magnet * start_magnet / n_realizations\n",
    "\n",
    "        # Storing the value of all the magnetizations after the burn-in\n",
    "        traj = np.array([])\n",
    "        for k in range(burn_in_time, burn_in_time + max_corr_time):\n",
    "            state = metropolis_step(state, q, coupling_const, ext_field, beta)\n",
    "            traj = np.append(traj, magnetization(state))\n",
    "        # Computing the statistical variables \n",
    "        prod += start_magnet * traj / n_realizations\n",
    "        average_at_next += traj / n_realizations\n",
    "        sec_moment_at_next += traj*traj / n_realizations\n",
    "\n",
    "    std_start = np.sqrt(sec_moment_at_start - average_at_start**2)\n",
    "    std_next = np.sqrt(sec_moment_at_next - average_at_next**2)\n",
    "    return (prod - average_at_next*average_at_start) / std_start / std_next"
   ]
  },
  {
   "cell_type": "code",
   "execution_count": 71,
   "id": "b083b701-e1ba-4a67-adba-2a9803de4751",
   "metadata": {},
   "outputs": [
    {
     "name": "stdout",
     "output_type": "stream",
     "text": [
      "q 2\n",
      "[0.97383556 0.91855865 0.90039626 0.90974895 0.88003378 0.8965909\n",
      " 0.90245335 0.87112162 0.8620109  0.87156547]\n",
      "[0.983915   0.94246762 0.94958583 0.94009197 0.94023008 0.92135337\n",
      " 0.91779072 0.88298752 0.85872375 0.85741754]\n",
      "[0.99459357 0.99496352 0.99157304 0.98867284 0.98992806 0.97675295\n",
      " 0.96974465 0.97284606 0.97485231 0.9687348 ]\n",
      "q 5\n",
      "[0.93624531 0.91796139 0.90660975 0.88135276 0.80127138 0.81537886\n",
      " 0.80218063 0.81181365 0.77348805 0.74013299]\n",
      "[0.99274099 0.98181723 0.92006215 0.87687228 0.87687228 0.83209321\n",
      " 0.79117798 0.73520918 0.74663289 0.73547879]\n",
      "[0.99226265 0.97164277 0.97164277 0.92402065 0.78395629 0.78045868\n",
      " 0.69308798 0.68477202 0.74357075 0.74788129]\n",
      "Wall time: 856 ms\n"
     ]
    }
   ],
   "source": [
    "%%time\n",
    "L = 5\n",
    "coupling_const = 1\n",
    "ext_field = 0.5\n",
    "burn_in_time = 10\n",
    "max_corr_time = 10\n",
    "n_realizations = 10\n",
    "\n",
    "dict_q = {2: [0.5, 0.88, 1.1], 5: [0.8, 1.17, 1.4]}\\\n",
    "\n",
    "magnet_autocorr_list = []\n",
    "for q, beta_list in dict_q.items():\n",
    "    #iterate over the different values of q\n",
    "    autocorr_trajs = []\n",
    "    print('q', q)\n",
    "    for beta in beta_list:\n",
    "        #for each q, iterate over the 3 beta critical       \n",
    "        magnet_autocorr = magnet_autocorrelation(q, L, beta, coupling_const, ext_field, burn_in_time, max_corr_time, n_realizations)\n",
    "        print(magnet_autocorr)\n",
    "        autocorr_trajs.append(magnet_autocorr)\n",
    "    \n",
    "    magnet_autocorr_list.append(autocorr_trajs)"
   ]
  },
  {
   "cell_type": "code",
   "execution_count": 69,
   "id": "f0949d5e-319f-4762-b5ac-f613f0e67192",
   "metadata": {},
   "outputs": [
    {
     "data": {
      "image/png": "[encoded data removed]",
      "text/plain": [
       "<Figure size 1080x288 with 2 Axes>"
      ]
     },
     "metadata": {
      "needs_background": "light"
     },
     "output_type": "display_data"
    }
   ],
   "source": [
    "fig, ax = plt.subplots(1,2, figsize=(15,4))\n",
    "\n",
    "q2 = magnet_autocorr_list[0]\n",
    "q5 = magnet_autocorr_list[1]\n",
    "\n",
    "beta_q2 = [0.5, 0.88, 1.1]\n",
    "beta_q5 = [0.8, 1.17, 1.4]\n",
    "for i in range(len(beta_q2)):\n",
    "    ax[0].plot(q2[i], label=\"Beta={}\".format(beta_q2[i]))\n",
    "    ax[1].plot(q5[i], label=\"Beta={}\".format(beta_q5[i]))\n",
    "ax[0].set_xlabel('Time steps')\n",
    "ax[0].set_ylabel('Temporal autocorrelation')\n",
    "\n",
    "ax[1].set_xlabel('Time steps')\n",
    "ax[1].set_ylabel('Temporal autocorrelation')\n",
    "\n",
    "ax[0].legend()\n",
    "ax[1].legend()\n",
    "\n",
    "ax[0].set_title('q = 2')\n",
    "ax[1].set_title('q = 5')\n",
    "plt.suptitle('L = 5, h = 0.05')\n",
    "plt.show()"
   ]
  },
  {
   "cell_type": "code",
   "execution_count": null,
   "id": "b84ec262-2fe0-49f6-819f-b45c2551b524",
   "metadata": {},
   "outputs": [],
   "source": []
  },
  {
   "cell_type": "code",
   "execution_count": 54,
   "id": "a3feb7ff-806b-476d-ab25-4fe45e719f66",
   "metadata": {},
   "outputs": [
    {
     "ename": "TypeError",
     "evalue": "can't multiply sequence by non-int of type 'float'",
     "output_type": "error",
     "traceback": [
      "\u001b[1;31m---------------------------------------------------------------------------\u001b[0m",
      "\u001b[1;31mTypeError\u001b[0m                                 Traceback (most recent call last)",
      "\u001b[1;32m<ipython-input-54-8dca6591ae2b>\u001b[0m in \u001b[0;36m<module>\u001b[1;34m\u001b[0m\n\u001b[1;32m----> 1\u001b[1;33m \u001b[1;33m[\u001b[0m\u001b[1;36m0.52\u001b[0m\u001b[1;33m,\u001b[0m \u001b[1;36m0.48\u001b[0m\u001b[1;33m,\u001b[0m \u001b[1;36m0.52\u001b[0m\u001b[1;33m,\u001b[0m \u001b[1;36m0.56\u001b[0m\u001b[1;33m,\u001b[0m \u001b[1;36m0.6\u001b[0m\u001b[1;33m,\u001b[0m \u001b[1;36m0.56\u001b[0m\u001b[1;33m,\u001b[0m \u001b[1;36m0.52\u001b[0m\u001b[1;33m,\u001b[0m \u001b[1;36m0.52\u001b[0m\u001b[1;33m,\u001b[0m \u001b[1;36m0.52\u001b[0m\u001b[1;33m,\u001b[0m \u001b[1;36m0.52\u001b[0m\u001b[1;33m]\u001b[0m \u001b[1;33m*\u001b[0m \u001b[1;36m0.52\u001b[0m\u001b[1;33m\u001b[0m\u001b[1;33m\u001b[0m\u001b[0m\n\u001b[0m",
      "\u001b[1;31mTypeError\u001b[0m: can't multiply sequence by non-int of type 'float'"
     ]
    }
   ],
   "source": [
    "def magnet_autocorrelation(q, L, beta, coupling_const, ext_field, burn_in_time, max_corr_time, n_realizations):\n",
    "\n",
    "    # Init the magnetization product, the first and the second moments\n",
    "    prod = np.zeros(max_corr_time)\n",
    "    average_at_start = 0\n",
    "    average_at_next = np.zeros(max_corr_time)\n",
    "    sec_moment_at_start = 0\n",
    "    sec_moment_at_next = np.zeros(max_corr_time)\n",
    "\n",
    "    for i in range(n_realizations):\n",
    "\n",
    "        # Equilibration\n",
    "        state = state_generator(q, L)\n",
    "        for j in range(burn_in_time):\n",
    "            state = metropolis_step(state, q, coupling_const, ext_field, beta)\n",
    "\n",
    "        # The start value of the magetization is computed after the burn-in period.\n",
    "        start_magnet = magnetization(state)\n",
    "        average_at_start += start_magnet / n_realizations\n",
    "        sec_moment_at_start += start_magnet * start_magnet / n_realizations\n",
    "\n",
    "        # Storing the value of all the magnetizations after the burn-in\n",
    "        traj = np.array([])\n",
    "        for k in range(burn_in_time, burn_in_time + max_corr_time):\n",
    "            state = metropolis_step(state, q, coupling_const, ext_field, beta)\n",
    "            traj = np.append(traj, magnetization(state))\n",
    "        # Computing the statistical variables \n",
    "        prod += start_magnet * traj / n_realizations\n",
    "        average_at_next += traj / n_realizations\n",
    "        sec_moment_at_next += traj*traj / n_realizations\n",
    "\n",
    "    std_start = np.sqrt(sec_moment_at_start - average_at_start**2)\n",
    "    std_next = np.sqrt(sec_moment_at_next - average_at_next**2)\n",
    "    return (prod - average_at_next*average_at_start) / std_start / std_next\n",
    "\n",
    "def energy_autocorrelation(q, L, beta, coupling_const, ext_field, burn_in_time, max_corr_time, n_realizations):\n",
    "\n",
    "    # Init the energy product, the first and the second moments\n",
    "    prod = np.zeros(max_corr_time)\n",
    "    average_at_start = 0\n",
    "    average_at_next = np.zeros(max_corr_time)\n",
    "    sec_moment_at_start = 0\n",
    "    sec_moment_at_next = np.zeros(max_corr_time)\n",
    "\n",
    "    for i in range(n_realizations):\n",
    "\n",
    "        # Equilibration\n",
    "        state = state_generator(q, L)\n",
    "        for j in range(burn_in_time):\n",
    "            state = metropolis_step(state, q, coupling_const, ext_field, beta)\n",
    "\n",
    "        # The start value of the energy is computed after the burn-in period.\n",
    "        start_energy = energy(state, coupling_const, ext_field)\n",
    "        average_at_start += start_energy / n_realizations\n",
    "        sec_moment_at_start += start_energy * start_energy / n_realizations\n",
    "\n",
    "        # Storing the value of all the energy after the burn-in\n",
    "        traj = np.array([])\n",
    "        for k in range(burn_in_time, burn_in_time + max_corr_time):\n",
    "            state = metropolis_step(state, q, coupling_const, ext_field, beta)\n",
    "            traj = np.append(traj, energy(state, coupling_const, ext_field))\n",
    "        # Computing the statistical variables \n",
    "        prod += start_energy * traj / n_realizations\n",
    "        average_at_next += traj / n_realizations\n",
    "        sec_moment_at_next += traj*traj / n_realizations\n",
    "\n",
    "    std_start = np.sqrt(sec_moment_at_start - average_at_start**2)\n",
    "    std_next = np.sqrt(sec_moment_at_next - average_at_next**2)\n",
    "    return (prod - average_at_next*average_at_start) / std_start / std_next"
   ]
  },
  {
   "cell_type": "code",
   "execution_count": 7,
   "id": "dfa4c3f1-164a-4b1c-8a70-15cc4c9a8ca5",
   "metadata": {},
   "outputs": [
    {
     "name": "stdout",
     "output_type": "stream",
     "text": [
      "2\n",
      "250\n",
      "5\n",
      "1000\n"
     ]
    }
   ],
   "source": [
    "max_corr_time = 2000\n",
    "n_realizations = 100\n",
    "q_list = [2, 5]\n",
    "burn_in_time_list = [250, 1000]\n",
    "beta = 0.2\n",
    "\n",
    "a_list = []\n",
    "b_list = []\n",
    "for q, bit in zip(q_list, burn_in_time_list):\n",
    "    print(q)\n",
    "    a = [q+3*bit]\n",
    "    b = q+4*bit\n",
    "    print(bit)\n",
    "    a_list.append(a)\n",
    "    b_list.append(b)\n",
    "    #iterate over the different values of q"
   ]
  },
  {
   "cell_type": "code",
   "execution_count": 8,
   "id": "9874ad6e-6ab7-469c-b7b1-509e3edf1b35",
   "metadata": {},
   "outputs": [
    {
     "data": {
      "text/plain": [
       "[[752], [3005]]"
      ]
     },
     "execution_count": 8,
     "metadata": {},
     "output_type": "execute_result"
    }
   ],
   "source": [
    "a_list"
   ]
  },
  {
   "cell_type": "code",
   "execution_count": null,
   "id": "f9eddf03-c395-4e2e-838c-ed7865f789d4",
   "metadata": {},
   "outputs": [],
   "source": [
    "%%time\n",
    "L = 5\n",
    "coupling_const = 1\n",
    "ext_field = 0.05\n",
    "max_corr_time = 2000\n",
    "n_realizations = 100\n",
    "q_list = [2, 5]\n",
    "burn_in_time_list = [250, 1000]\n",
    "beta = 0.2\n",
    "\n",
    "magnet_autocorr_list = []\n",
    "energy_autocorr_list = []\n",
    "for q, bit in zip(q_list, burn_in_time_list):\n",
    "    #for each q, iterate over the 3 beta critical       \n",
    "    magnet_autocorr = magnet_autocorrelation(q, L, beta, coupling_const, ext_field, burn_in_time, max_corr_time, n_realizations)              \n",
    "    energy_autocorr = energy_autocorrelation(q, L, beta, coupling_const, ext_field, burn_in_time, max_corr_time, n_realizations)\n",
    "\n",
    "    magnet_autocorr_list.append(magnet_autocorr)\n",
    "    energy_autocorr_list.append(energy_autocorr)"
   ]
  },
  {
   "cell_type": "code",
   "execution_count": null,
   "id": "134060cd-8c29-411d-9a14-4f4e2d651ef3",
   "metadata": {},
   "outputs": [],
   "source": [
    "fig, ax = plt.subplots(1,2, figsize=(15,4))\n",
    "\n",
    "q2 = magnet_autocorr_list[0]\n",
    "q5 = magnet_autocorr_list[1]\n",
    "\n",
    "ax[0].plot(q2, label = 'q = 2')\n",
    "ax[1].plot(q5, label = 'q = 5')\n",
    "ax[0].set_xlabel('Time steps')\n",
    "ax[0].set_ylabel('Temporal autocorrelation')\n",
    "\n",
    "ax[1].set_xlabel('Time steps')\n",
    "ax[1].set_ylabel('Temporal autocorrelation')\n",
    "\n",
    "ax[0].legend()\n",
    "ax[1].legend()\n",
    "plt.suptitle('Magnetization \\n L = 5, h = 0.05')\n",
    "plt.show()"
   ]
  },
  {
   "cell_type": "code",
   "execution_count": null,
   "id": "a6ab458d-7b4c-4b55-ad53-4f74f9c47eb6",
   "metadata": {},
   "outputs": [],
   "source": [
    "fig, ax = plt.subplots(1,2, figsize=(15,4))\n",
    "\n",
    "q2 = energy_autocorr_list[0]\n",
    "q5 = energy_autocorr_list[1]\n",
    "\n",
    "ax[0].plot(q2, label = 'q = 2')\n",
    "ax[1].plot(q5, label = 'q = 5')\n",
    "ax[0].set_xlabel('Time steps')\n",
    "ax[0].set_ylabel('Temporal autocorrelation')\n",
    "\n",
    "ax[1].set_xlabel('Time steps')\n",
    "ax[1].set_ylabel('Temporal autocorrelation')\n",
    "\n",
    "ax[0].legend()\n",
    "ax[1].legend()\n",
    "\n",
    "plt.suptitle('Energy \\n L = 5, h = 0.05')\n",
    "plt.show()"
   ]
  },
  {
   "cell_type": "code",
   "execution_count": null,
   "id": "a57d390b-ca91-4668-94f1-66f845ca4eca",
   "metadata": {},
   "outputs": [],
   "source": [
    "def compute_error(energy_q_list, burn_in_time, correlation_time):\n",
    "    q2 = energy_q_list[0]\n",
    "    q5 = energy_q_list[1]\n",
    "\n",
    "    final_error = []\n",
    "    for q in [q2, q5]:\n",
    "        error_for_beta = []\n",
    "        for i in range(len(q)):\n",
    "            beta_for_each_q = q[i]\n",
    "            burn_in_period = beta_for_each_q[0:burn_in_time]\n",
    "            after_burn_in = beta_for_each_q[burn_in_time:]\n",
    "            final_after_burn_in = after_burn_in[0::correlation_time]\n",
    "            n_corr_samples = len(final_after_burn_in)\n",
    "            error = np.std(final_after_burn_in)/n_corr_samples\n",
    "            error_for_beta.append(q)\n",
    "        final_error.append(error_for_beta)\n",
    "    return final_error"
   ]
  },
  {
   "cell_type": "code",
   "execution_count": null,
   "id": "99399e3d-a4ff-4725-9970-bb9d0536f45a",
   "metadata": {},
   "outputs": [],
   "source": [
    "burn_in_time = \n",
    "correlation_time = \n",
    "energy_error = compute_error(energy_q_list)\n",
    "\n",
    "beta_q2 = [0.5, 0.6, 0.7, 0.8, 0.9, 1.0, 1.1, 1.2]\n",
    "beta_q5 = [0.8, 0.9, 1.0, 1.1, 1.2, 1.3, 1.4, 1.5]\n",
    "\n",
    "fig, ax = plt.subplots(1,2,figsize=(1,2))\n",
    "x_q2 = beta_q2\n",
    "y_q2 = q2_energy_list\n",
    "yerr_q2 = energy_error[0]\n",
    "ax[0].errorbar(x_q2,y_q2,yerr_q2)\n",
    "\n",
    "x_q5 = beta_q5\n",
    "y_q5 = q5_energy_list\n",
    "yerr_q5 = energy_error[1]\n",
    "ax[1].errorbar(x_q5,y_q5,yerr_q5)\n",
    "\n",
    "\n",
    "ax[0].set_xlabel('beta')\n",
    "ax[0].set_ylabel('Average energy')\n",
    "ax[1].set_xlabel('beta')\n",
    "ax[1].set_ylabel('Average energy')\n",
    "\n",
    "ax[0].legend()\n",
    "ax[1].legend()\n",
    "\n",
    "ax[0].set_title('q = 2')\n",
    "ax[1].set_title('q = 5')\n",
    "plt.suptitle('L = 5, h = 0.05')\n",
    "plt.show()"
   ]
  },
  {
   "cell_type": "code",
   "execution_count": null,
   "id": "0f797053-d9b1-467d-8ae7-d693929827bc",
   "metadata": {},
   "outputs": [],
   "source": [
    "burn_in_time = \n",
    "correlation_time = \n",
    "magnetization_error = compute_error(magnetization_q_list)\n",
    "\n",
    "beta_q2 = [0.5, 0.6, 0.7, 0.8, 0.9, 1.0, 1.1, 1.2]\n",
    "beta_q5 = [0.8, 0.9, 1.0, 1.1, 1.2, 1.3, 1.4, 1.5]\n",
    "\n",
    "fig, ax = plt.subplots(1,2,figsize=(1,2))\n",
    "x_q2 = beta_q2\n",
    "y_q2 = q2_magnetization_list\n",
    "yerr_q2 = magnetization_error[0]\n",
    "ax[0].errorbar(x_q2,y_q2,yerr_q2)\n",
    "\n",
    "x_q5 = beta_q5\n",
    "y_q5 = q5_magnetization_list\n",
    "yerr_q5 = magnetization_error[1]\n",
    "ax[1].errorbar(x_q5,y_q5,yerr_q5)\n",
    "\n",
    "\n",
    "ax[0].set_xlabel('beta')\n",
    "ax[0].set_ylabel('Average magnetization')\n",
    "ax[1].set_xlabel('beta')\n",
    "ax[1].set_ylabel('Average magnetization')\n",
    "\n",
    "ax[0].legend()\n",
    "ax[1].legend()\n",
    "\n",
    "ax[0].set_title('q = 2')\n",
    "ax[1].set_title('q = 5')\n",
    "plt.suptitle('L = 5, h = 0.05')\n",
    "plt.show()"
   ]
  },
  {
   "cell_type": "code",
   "execution_count": null,
   "id": "abfd0112-06bc-4940-90f7-97858df075ac",
   "metadata": {},
   "outputs": [],
   "source": [
    "energy_error = compute_error(energy_q_list)\n",
    "magnetization_error = compute_error(magnetization_q_list)\n",
    "\n"
   ]
  },
  {
   "cell_type": "code",
   "execution_count": null,
   "id": "abd4036d-88cd-4982-80c4-f112191f8308",
   "metadata": {},
   "outputs": [],
   "source": [
    "burn_in_time = 3\n",
    "correlation_time = 2\n",
    "\n",
    "q2 = energy_q_list[0]\n",
    "q5 = energy_q_list[1]\n",
    "\n",
    "final_error = []\n",
    "for q in [q2, q5]:\n",
    "    error_for_beta = []\n",
    "    for i in range(len(q)):\n",
    "        beta_for_each_q = q[i]\n",
    "        burn_in_period = beta_for_each_q[0:burn_in_time]\n",
    "        after_burn_in = beta_for_each_q[burn_in_time:]\n",
    "        final_after_burn_in = after_burn_in[0::correlation_time]\n",
    "        n_corr_samples = len(final_after_burn_in)\n",
    "        error = np.std(final_after_burn_in)/n_corr_samples\n",
    "        error_for_beta.append(q)\n",
    "    final_error.append(error_for_beta)"
   ]
  },
  {
   "cell_type": "code",
   "execution_count": null,
   "id": "f46a5ba2-6b8d-4af0-9bb4-131f9bad7a4b",
   "metadata": {},
   "outputs": [],
   "source": [
    "plt.errorbar()"
   ]
  },
  {
   "cell_type": "code",
   "execution_count": 21,
   "id": "ebf2ad8f-6560-4885-a202-70c0fb43f377",
   "metadata": {},
   "outputs": [],
   "source": [
    "import numpy as np"
   ]
  },
  {
   "cell_type": "code",
   "execution_count": 30,
   "id": "30eebe2c-d434-470d-9b82-d9d9d8222caa",
   "metadata": {},
   "outputs": [
    {
     "name": "stdout",
     "output_type": "stream",
     "text": [
      "0\n",
      "[1, 2, 3, 4, 5, 6, 7, 8]\n",
      "1\n",
      "[2, 3, 4, 5, 6, 7, 8, 9]\n"
     ]
    }
   ],
   "source": [
    "q34 = [1,2,3,4,5,6,7,8]\n",
    "q45 = [2,3,4,5,6,7,8,9]\n",
    "for i,j in zip(range(len(q34)), [q34,q45]):\n",
    "    print(i)\n",
    "    print(j)"
   ]
  },
  {
   "cell_type": "code",
   "execution_count": 22,
   "id": "1638f10b-7893-4abb-9280-15f75f3a98c1",
   "metadata": {},
   "outputs": [],
   "source": [
    "q34 = [1,2,3,4,5,6,7,8]\n",
    "\n",
    "burn_in_period = q34[0:burn_in_time]\n",
    "after_burn_in = q34[burn_in_time:]\n",
    "final_after_burn_in = after_burn_in[0::correlation_time]\n",
    "n_corr_samples = len(final_after_burn_in)\n",
    "error = np.std(final_after_burn_in)/n_corr_samples"
   ]
  },
  {
   "cell_type": "code",
   "execution_count": 23,
   "id": "acc0d134-a405-4cda-824f-c09217ff82ad",
   "metadata": {},
   "outputs": [
    {
     "data": {
      "text/plain": [
       "[1, 2, 3]"
      ]
     },
     "execution_count": 23,
     "metadata": {},
     "output_type": "execute_result"
    }
   ],
   "source": [
    "burn_in_period"
   ]
  },
  {
   "cell_type": "code",
   "execution_count": 24,
   "id": "cc1b9879-4e78-44af-999b-7961431ddbb5",
   "metadata": {},
   "outputs": [
    {
     "data": {
      "text/plain": [
       "[4, 5, 6, 7, 8]"
      ]
     },
     "execution_count": 24,
     "metadata": {},
     "output_type": "execute_result"
    }
   ],
   "source": [
    "after_burn_in"
   ]
  },
  {
   "cell_type": "code",
   "execution_count": 25,
   "id": "5565db90-5ac6-49ed-9463-74737823c883",
   "metadata": {},
   "outputs": [
    {
     "data": {
      "text/plain": [
       "[4, 6, 8]"
      ]
     },
     "execution_count": 25,
     "metadata": {},
     "output_type": "execute_result"
    }
   ],
   "source": [
    "final_after_burn_in"
   ]
  },
  {
   "cell_type": "code",
   "execution_count": 26,
   "id": "cc7dfdad-3d32-4799-8e7e-f1dda373dfc3",
   "metadata": {},
   "outputs": [
    {
     "data": {
      "text/plain": [
       "3"
      ]
     },
     "execution_count": 26,
     "metadata": {},
     "output_type": "execute_result"
    }
   ],
   "source": [
    "n_corr_samples"
   ]
  },
  {
   "cell_type": "code",
   "execution_count": 28,
   "id": "cc5512f0-d743-4240-961b-0b0f5f8c45cc",
   "metadata": {},
   "outputs": [
    {
     "data": {
      "text/plain": [
       "1.632993161855452"
      ]
     },
     "execution_count": 28,
     "metadata": {},
     "output_type": "execute_result"
    }
   ],
   "source": [
    "np.std(final_after_burn_in)"
   ]
  },
  {
   "cell_type": "code",
   "execution_count": 27,
   "id": "06475f6a-1590-4363-b0e3-5173304ab0de",
   "metadata": {},
   "outputs": [
    {
     "data": {
      "text/plain": [
       "0.5443310539518174"
      ]
     },
     "execution_count": 27,
     "metadata": {},
     "output_type": "execute_result"
    }
   ],
   "source": [
    "error"
   ]
  },
  {
   "cell_type": "code",
   "execution_count": null,
   "id": "369e8329-d109-47e3-b8c0-679daaf0ffd2",
   "metadata": {},
   "outputs": [],
   "source": [
    "# %%time\n",
    "# L = 5\n",
    "# q = 2\n",
    "# coupling_const = 1\n",
    "# ext_field = 0.05\n",
    "# beta = 0.5\n",
    "# max_time = 1000\n",
    "# n_realizations = 100\n",
    "\n",
    "# state = state_generator(q, L)\n",
    "\n",
    "# one_traj = energy_trajectories(state, q, coupling_const, ext_field, beta, max_time)\n",
    "# ave_traj = average_energy_trajectories(state, q, coupling_const, ext_field, beta, max_time, n_realizations)\n",
    "\n",
    "# plt.xlabel('Time steps')\n",
    "# plt.ylabel('Energy')\n",
    "# plt.plot(one_traj, label='Single trajectory')\n",
    "# plt.plot(ave_traj, label='Average')\n",
    "# plt.legend()\n",
    "# plt.show()"
   ]
  }
 ],
 "metadata": {
  "kernelspec": {
   "display_name": "Python 3",
   "language": "python",
   "name": "python3"
  },
  "language_info": {
   "codemirror_mode": {
    "name": "ipython",
    "version": 3
   },
   "file_extension": ".py",
   "mimetype": "text/x-python",
   "name": "python",
   "nbconvert_exporter": "python",
   "pygments_lexer": "ipython3",
   "version": "3.8.8"
  }
 },
 "nbformat": 4,
 "nbformat_minor": 5
}
