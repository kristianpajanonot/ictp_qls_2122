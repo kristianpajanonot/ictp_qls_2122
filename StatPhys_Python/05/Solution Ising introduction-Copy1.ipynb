{
 "cells": [
  {
   "cell_type": "markdown",
   "metadata": {
    "id": "MG63QK0DI6k_"
   },
   "source": [
    "# Ising model\n",
    "\n",
    "The aim of this exercise is to meet the glorious ising model, and torealize that the direct sampling of the probability distribution is useless in this case."
   ]
  },
  {
   "cell_type": "code",
   "execution_count": null,
   "metadata": {
    "id": "4OZE8aNG7Brs"
   },
   "outputs": [],
   "source": [
    "import numpy as np\n",
    "import matplotlib.pyplot as plt"
   ]
  },
  {
   "cell_type": "markdown",
   "metadata": {
    "id": "E7nd0DIyKRrd"
   },
   "source": [
    "## 1 - Taking confidence with the 2-d standard Ising model\n",
    "\n",
    "In the 2-d standard Ising model, the nodes are arranged in a two dimensional lattice, let's say of size $L$. Therefore, the total number of spins is $N=L^2$. Each spin is identified by its coordinates $(x,y)$, where $x, y \\in \\lbrace 1,2, \\ldots, L\\rbrace$.\n",
    "\n",
    "The interactions occur only between nearest neighbours of the lattice with a constant coupling coefficient $J$: the spin at $(x,y)$ interact with $(x+1,y)$, $(x-1,y)$, $(x,y+1)$, $(x,y-1)$. We also impose periodic boundary conditions, such that the spin at the boundary $(L, y)$ interact with the spin at the opposite boundary $(0,y)$ (the same is true for the spins at $y=L$ and $y=0$).\n",
    "As a consequence, the Hamiltonian of the system has this shape:\n",
    "\n",
    "\\begin{equation}\n",
    "\\mathcal{H}\\left(\\vec{\\sigma}\\right) = - \\sum_{x,y = 1}^{L} \\sigma_{x,y} \\left[ \\frac{J}{2}  \\left( \\sigma_{x+1,y} + \\sigma_{x-1,y} + \\sigma_{x,y+1} + \\sigma_{x,y-1} \\right) + h \\right]\n",
    "\\end{equation}\n",
    "\n",
    "where the spins are binary variables, $\\sigma_{x,y} \\in \\lbrace -1,1 \\rbrace$, and the boundary conditions say that $x,y=L+1 = 1$ and $x,y=L=0$.\n",
    "\n",
    "### 1a - Generate a random state of spins, compute its energy, and magnetization.\n",
    "\n",
    "First, write a function that generate a random configuration/state, taking as argument the side of the lattice $L$.\n",
    "This function returns the configuration as a numpy matrix."
   ]
  },
  {
   "cell_type": "code",
   "execution_count": null,
   "metadata": {
    "id": "wJgrtwd_9Y4f"
   },
   "outputs": [],
   "source": [
    "def rand_state(L):\n",
    "  return np.random.randint(0, 2, (L,L))*2-1"
   ]
  },
  {
   "cell_type": "code",
   "execution_count": null,
   "metadata": {
    "colab": {
     "base_uri": "https://localhost:8080/"
    },
    "executionInfo": {
     "elapsed": 1659,
     "status": "ok",
     "timestamp": 1605863197026,
     "user": {
      "displayName": "Andrea Mazzolini",
      "photoUrl": "https://lh3.googleusercontent.com/a-/AOh14Gj889rV0hCKG0LInS5OJdlv_nS9Mv4fKmWQb2ax=s64",
      "userId": "17503038082596243982"
     },
     "user_tz": -60
    },
    "id": "tEqlcocnvBEm",
    "outputId": "0609df70-09f9-411d-a413-2b04f48613a0"
   },
   "outputs": [
    {
     "data": {
      "text/plain": [
       "array([[-1,  1, -1,  1],\n",
       "       [ 1,  1,  1, -1],\n",
       "       [ 1,  1, -1, -1],\n",
       "       [ 1,  1,  1,  1]])"
      ]
     },
     "execution_count": 3,
     "metadata": {
      "tags": []
     },
     "output_type": "execute_result"
    }
   ],
   "source": [
    "rand_state(4)\n"
   ]
  },
  {
   "cell_type": "markdown",
   "metadata": {
    "id": "-dbiZAGzKujm"
   },
   "source": [
    "Second, write the function that compute the energy of a given configuration. This function takes as arguments the configuration, the coupling constant $J$ and the external field $h$.\n",
    "\n",
    "Be careful about the boundary conditions!"
   ]
  },
  {
   "cell_type": "code",
   "execution_count": null,
   "metadata": {
    "id": "bamuUnelK_tp"
   },
   "outputs": [],
   "source": [
    "def energy(state, coupling_const, ext_field):\n",
    "  energy = 0\n",
    "  lx, ly = state.shape\n",
    "  for i_pair, s in np.ndenumerate(state):\n",
    "    nb_energy = 0\n",
    "    nb_energy += state[(i_pair[0], (i_pair[1]+1)%ly)]\n",
    "    nb_energy += state[(i_pair[0], (i_pair[1]-1)%ly)]\n",
    "    nb_energy += state[((i_pair[0]+1)%lx, i_pair[1])]\n",
    "    nb_energy += state[((i_pair[0]-1)%lx, i_pair[1])]\n",
    "    energy -= s * (coupling_const * nb_energy / 2 + ext_field)\n",
    "  return energy"
   ]
  },
  {
   "cell_type": "markdown",
   "metadata": {
    "id": "JUMfpquhLLNt"
   },
   "source": [
    "Third, write the function that compute the magnetization taking the configuration as argument.\n",
    "$$\n",
    "M(\\vec{\\sigma}) = \\frac{1}{L^2} \\sum_{x,y=1}^L \\sigma_{x,y}\n",
    "$$"
   ]
  },
  {
   "cell_type": "code",
   "execution_count": null,
   "metadata": {
    "id": "rXboZ2HmLMIz"
   },
   "outputs": [],
   "source": [
    "def magnetization(state):\n",
    "  lx, ly = state.shape\n",
    "  return state.sum() / lx / ly"
   ]
  },
  {
   "cell_type": "markdown",
   "metadata": {
    "id": "BbIYTitCLXqf"
   },
   "source": [
    "Now you can try to fix the parameters $L$, $J$ and $h$, generate a random configuration and compute its energy and magnetization."
   ]
  },
  {
   "cell_type": "code",
   "execution_count": null,
   "metadata": {
    "colab": {
     "base_uri": "https://localhost:8080/",
     "height": 54
    },
    "executionInfo": {
     "elapsed": 894,
     "status": "ok",
     "timestamp": 1602773591180,
     "user": {
      "displayName": "Andrea Mazzolini",
      "photoUrl": "https://lh3.googleusercontent.com/a-/AOh14Gj889rV0hCKG0LInS5OJdlv_nS9Mv4fKmWQb2ax=s64",
      "userId": "17503038082596243982"
     },
     "user_tz": -120
    },
    "id": "6AeE2qpY-CEZ",
    "outputId": "4818286e-fe94-4aa7-9605-c32c56b11288"
   },
   "outputs": [
    {
     "name": "stdout",
     "output_type": "stream",
     "text": [
      "Energy of the state at J=1 and h=1: 24\n",
      "Magnetization of the state: 0.0\n"
     ]
    }
   ],
   "source": [
    "L = 10\n",
    "J = 1\n",
    "h = 1\n",
    "\n",
    "rand_state = rand_state(L)\n",
    "\n",
    "print('Energy of the state at J={} and h={}: {}'.format(J, h, energy(rand_state, J, h)))\n",
    "print('Magnetization of the state: {}'.format(magnetization(rand_state)))"
   ]
  },
  {
   "cell_type": "markdown",
   "metadata": {
    "id": "2Sb7kNp7yDlD"
   },
   "source": [
    "### 1b - Try to do the same with a configuration having all the spins up."
   ]
  },
  {
   "cell_type": "code",
   "execution_count": null,
   "metadata": {
    "colab": {
     "base_uri": "https://localhost:8080/",
     "height": 54
    },
    "executionInfo": {
     "elapsed": 1548,
     "status": "ok",
     "timestamp": 1569931798480,
     "user": {
      "displayName": "Andrea Mazzolini",
      "photoUrl": "https://lh3.googleusercontent.com/a-/AAuE7mARm6YUMjM1WqoWB9DeJSCtXhxEjR6a9chPFNuT=s64",
      "userId": "17503038082596243982"
     },
     "user_tz": -120
    },
    "id": "wEpFryRMyIkK",
    "outputId": "942620f4-7eb4-4507-e549-aef38e602052"
   },
   "outputs": [
    {
     "name": "stdout",
     "output_type": "stream",
     "text": [
      "Energy of the state at J=1 and h=1: -500.0\n",
      "Magnetization of the state: 1.0\n"
     ]
    }
   ],
   "source": [
    "state = np.ones((L,L))\n",
    "\n",
    "print('Energy of the state at J={} and h={}: {}'.format(J, h, energy(state, J, h)))\n",
    "print('Magnetization of the state: {}'.format(magnetization(state)))"
   ]
  },
  {
   "cell_type": "markdown",
   "metadata": {
    "id": "cdJvT7JpL53D"
   },
   "source": [
    "### 1c - Plot the configuration that you have generated.\n",
    "\n",
    "For doing a \"color map\" in which the values stored in a matrix are plotted with different colors depending on their value (excatly our case), you can use plt.imshow as below."
   ]
  },
  {
   "cell_type": "code",
   "execution_count": null,
   "metadata": {
    "colab": {
     "base_uri": "https://localhost:8080/",
     "height": 302
    },
    "executionInfo": {
     "elapsed": 989,
     "status": "ok",
     "timestamp": 1602773609239,
     "user": {
      "displayName": "Andrea Mazzolini",
      "photoUrl": "https://lh3.googleusercontent.com/a-/AOh14Gj889rV0hCKG0LInS5OJdlv_nS9Mv4fKmWQb2ax=s64",
      "userId": "17503038082596243982"
     },
     "user_tz": -120
    },
    "id": "MqCf1TxIL-zD",
    "outputId": "4cdf28ab-dd1f-4d66-d2ad-8af502b17d4b"
   },
   "outputs": [
    {
     "data": {
      "text/plain": [
       "<matplotlib.image.AxesImage at 0x7f576d928780>"
      ]
     },
     "execution_count": 9,
     "metadata": {
      "tags": []
     },
     "output_type": "execute_result"
    },
    {
     "data": {
      "image/png": "[encoded data removed]",
      "text/plain": [
       "<Figure size 432x288 with 1 Axes>"
      ]
     },
     "metadata": {
      "needs_background": "light",
      "tags": []
     },
     "output_type": "display_data"
    }
   ],
   "source": [
    "plt.xlabel('x', fontsize=14)\n",
    "plt.ylabel('y', fontsize=14)\n",
    "plt.imshow(rand_state, cmap='Blues')"
   ]
  },
  {
   "cell_type": "markdown",
   "metadata": {
    "id": "3faRzweSRIaK"
   },
   "source": [
    "## 2 - Compute the partition function of the system and realize that direct sampling is impossible\n",
    "\n",
    "The equilibrium distribution of a canonical ensemble is given by the Gibbs measure:\n",
    "\n",
    "\\begin{equation}\n",
    "\\pi\\left( \\vec{\\sigma} \\right) = \\frac{1}{Z(\\beta)} e^{-\\beta \\; \\mathcal{H}\\left( \\vec{\\sigma} \\right)  }\n",
    "\\end{equation}\n",
    "\n",
    "where $\\beta$ is proportional to the inverse of the temperature, and the normalization constant is the partition function of the system:\n",
    "\n",
    "\\begin{equation}\n",
    "Z(\\beta) = \\sum_{\\vec{\\sigma}} e^{-\\beta \\; \\mathcal{H}\\left( \\vec{\\sigma} \\right)  }\n",
    "\\end{equation}\n",
    "\n",
    "Note that to compute the partition function, one has to enumerate all the states of the system $\\vec{\\sigma}$, which, in our case, are all the possible combinations of $+1$ and $-1$ of for all the $N$ spins, therefore $2^N$ states.\n",
    "The fact that the number of states exponentially increase with $N$ is basically the reason why it is not possible to manage the model simulation by directly sampling the probability distribution $\\pi\\left( \\vec{\\sigma} \\right)$.\n"
   ]
  },
  {
   "cell_type": "markdown",
   "metadata": {
    "id": "utJzmDMUOec6"
   },
   "source": [
    "### 2a - Write a function that returns the non-normalized Gibbs weight of a given configuration. \n",
    "\n",
    "It takes as arguments the configuration, $\\beta$, $J$, and $h$. (Use the energy function that you have written before)."
   ]
  },
  {
   "cell_type": "code",
   "execution_count": null,
   "metadata": {
    "id": "nHsD7r56kn2M"
   },
   "outputs": [],
   "source": [
    "def gibbs_weight(state, beta, coupling_const, ext_field):\n",
    "  return np.exp(- beta * energy(state, coupling_const, ext_field))"
   ]
  },
  {
   "cell_type": "markdown",
   "metadata": {
    "id": "_wI9-lF4Oz8u"
   },
   "source": [
    "Compute the partition function. To do this you have to enumerate all the possible configurations, and compute the Gibbs measure for each of them. For the enumeration use the use the suggested iterable written below.\n"
   ]
  },
  {
   "cell_type": "code",
   "execution_count": null,
   "metadata": {
    "colab": {
     "base_uri": "https://localhost:8080/",
     "height": 35
    },
    "executionInfo": {
     "elapsed": 8390,
     "status": "ok",
     "timestamp": 1569931805354,
     "user": {
      "displayName": "Andrea Mazzolini",
      "photoUrl": "https://lh3.googleusercontent.com/a-/AAuE7mARm6YUMjM1WqoWB9DeJSCtXhxEjR6a9chPFNuT=s64",
      "userId": "17503038082596243982"
     },
     "user_tz": -120
    },
    "id": "hYiqD6orO014",
    "outputId": "5f1bb898-1043-4d0a-b418-75d844e91c0e"
   },
   "outputs": [
    {
     "name": "stdout",
     "output_type": "stream",
     "text": [
      "1111153484.9293277\n"
     ]
    }
   ],
   "source": [
    "from itertools import product\n",
    "\n",
    "def partition_function(L, beta, coupling_const, ext_field):\n",
    "  Z = 0\n",
    "  for i in product([-1,1], repeat=L**2):\n",
    "    state = np.array(i).reshape((L,L))\n",
    "    Z += gibbs_weight(state, beta, coupling_const, ext_field)\n",
    "  return Z\n",
    "\n",
    "print(partition_function(4, 1, 1/16, 1))"
   ]
  },
  {
   "cell_type": "markdown",
   "metadata": {
    "id": "_cZO6SplgMUy"
   },
   "source": [
    "You cannot enumerate all the states even for a very small system, e.g. $L > 6$. This makes impossible to compute the average of observables (e.g. the magnetization) using the analytical summation, as well as to extract samples form the probability distribution using direct Montecarlo methods.\n"
   ]
  },
  {
   "cell_type": "code",
   "execution_count": null,
   "metadata": {
    "id": "SxK2vKTxgM8k"
   },
   "outputs": [],
   "source": [
    "\n",
    "def energy_autocorrelation(q, L, beta, coupling_const, ext_field, burn_in_time, max_time, n_realizations):\n",
    "    \"\"\"This computes the temporal autocorrelation from \"burn_in_time\" for \"max_time\" of the average energy over \"n_realizations\".\n",
    "    having side L, \"beta\", \"J\" and \"h\". \n",
    "    Args:\n",
    "        L(int): number of rows/columns of the matrix(sites)\n",
    "        q(int): how many colors in a state\n",
    "        beta(float): beta (inverse temperature)\n",
    "        coupling_const(float): coupling constant\n",
    "        ext_field(float): external magnetic field\n",
    "        burn_in_time(int): the number of samples that correspond to the transient time (that needs to be discarded)\n",
    "        max_time(int): the number of iterations\n",
    "        n_realizations(int): the number of realziations       \n",
    "        \n",
    "    Returns:\n",
    "        rho(float): autocorrelation\"\"\"\n",
    "\n",
    "    # Init the energy product, the first and the second moments\n",
    "    prod = np.zeros(max_time)\n",
    "    average_at_start = 0\n",
    "    average_at_next = np.zeros(max_time)\n",
    "    sec_moment_at_start = 0\n",
    "    sec_moment_at_next = np.zeros(max_time)\n",
    "\n",
    "    for i in range(n_realizations):\n",
    "\n",
    "        # Equilibration\n",
    "        state = state_generator(q, L)\n",
    "        for j in range(burn_in_time):\n",
    "            state = metropolis_step(state, q, coupling_const, ext_field, beta)\n",
    "\n",
    "        # The start value of the energy is computed after the burn-in period.\n",
    "        start_energy = energy(state, coupling_const, ext_field)\n",
    "        average_at_start += start_energy / n_realizations\n",
    "        sec_moment_at_start += start_energy * start_energy / n_realizations\n",
    "\n",
    "        # Storing the value of all the energy after the burn-in\n",
    "        traj = np.array([])\n",
    "        for k in range(burn_in_time, burn_in_time + max_time):\n",
    "            state = metropolis_step(state, q, coupling_const, ext_field, beta)\n",
    "            traj = np.append(traj, energy(state, coupling_const, ext_field))\n",
    "        # Computing the statistical variables \n",
    "        prod += start_energy * traj / n_realizations\n",
    "        average_at_next += traj / n_realizations\n",
    "        sec_moment_at_next += traj*traj / n_realizations\n",
    "\n",
    "    std_start = np.sqrt(sec_moment_at_start - average_at_start**2)\n",
    "    std_next = np.sqrt(sec_moment_at_next - average_at_next**2)\n",
    "    return (prod - average_at_next*average_at_start) / std_start / std_next"
   ]
  }
 ],
 "metadata": {
  "colab": {
   "collapsed_sections": [],
   "name": "Solution Ising introduction.ipynb",
   "provenance": []
  },
  "kernelspec": {
   "display_name": "Python 3",
   "language": "python",
   "name": "python3"
  },
  "language_info": {
   "codemirror_mode": {
    "name": "ipython",
    "version": 3
   },
   "file_extension": ".py",
   "mimetype": "text/x-python",
   "name": "python",
   "nbconvert_exporter": "python",
   "pygments_lexer": "ipython3",
   "version": "3.8.8"
  }
 },
 "nbformat": 4,
 "nbformat_minor": 4
}
