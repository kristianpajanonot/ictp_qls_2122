{
 "cells": [
  {
   "cell_type": "code",
   "execution_count": 1,
   "id": "6e0d93c7",
   "metadata": {},
   "outputs": [],
   "source": [
    "import numpy as np\n",
    "import itertools\n",
    "import pandas as pd\n",
    "import matplotlib.pyplot as plt"
   ]
  },
  {
   "cell_type": "code",
   "execution_count": 2,
   "id": "a2852454",
   "metadata": {},
   "outputs": [],
   "source": [
    "with open('A.fna') as file:\n",
    "    dataA = [line.rstrip() for line in file]\n",
    "    \n",
    "with open('B.fna') as file:\n",
    "    dataB = [line.rstrip() for line in file]"
   ]
  },
  {
   "cell_type": "markdown",
   "id": "68fb7952",
   "metadata": {},
   "source": [
    "The task is to differentiate which of the 2 files is real, and which is fake"
   ]
  },
  {
   "cell_type": "markdown",
   "id": "2e80be64",
   "metadata": {},
   "source": [
    "Both datasets have 60 characters per line, have the same number of total characters, and there are ~16,000 lines."
   ]
  },
  {
   "cell_type": "markdown",
   "id": "599776b6",
   "metadata": {},
   "source": [
    "As a starting point, I counted the number of occurrences for each character (A, C, G, T)"
   ]
  },
  {
   "cell_type": "code",
   "execution_count": 4,
   "id": "267fbf9a",
   "metadata": {},
   "outputs": [],
   "source": [
    "characters = ['A', 'C', 'G', 'T']"
   ]
  },
  {
   "cell_type": "code",
   "execution_count": 5,
   "id": "28bb4d24",
   "metadata": {},
   "outputs": [],
   "source": [
    "#returns the number of occurrences for a specific k-mer in a dataframe format\n",
    "#k for k-mers (length of substring)\n",
    "def kmer_counts(data, k):\n",
    "       \n",
    "    #generate the list of k-mers\n",
    "    kmer_list = [''.join(i) for i in itertools.product(characters, repeat = k)]\n",
    "    \n",
    "    tostore_kmer_list = []\n",
    "    \n",
    "    #count the number of occurrences for a k-mer and store to list\n",
    "    for kmer in kmer_list:\n",
    "        count_kmers = 0\n",
    "        for line in data:\n",
    "            pair = [line[i:i+k] for i in range(0, len(line), k)]\n",
    "            count_kmers += pair.count(kmer)\n",
    "        tostore_kmer_list.append(count_kmers)\n",
    "    \n",
    "    return pd.DataFrame({'kmer':kmer_list, 'count_occurrences':tostore_kmer_list})"
   ]
  },
  {
   "cell_type": "code",
   "execution_count": 6,
   "id": "509a8c54",
   "metadata": {
    "scrolled": true
   },
   "outputs": [
    {
     "data": {
      "text/html": [
       "<div>\n",
       "<style scoped>\n",
       "    .dataframe tbody tr th:only-of-type {\n",
       "        vertical-align: middle;\n",
       "    }\n",
       "\n",
       "    .dataframe tbody tr th {\n",
       "        vertical-align: top;\n",
       "    }\n",
       "\n",
       "    .dataframe thead th {\n",
       "        text-align: right;\n",
       "    }\n",
       "</style>\n",
       "<table border=\"1\" class=\"dataframe\">\n",
       "  <thead>\n",
       "    <tr style=\"text-align: right;\">\n",
       "      <th></th>\n",
       "      <th>kmer</th>\n",
       "      <th>count_occurrences</th>\n",
       "    </tr>\n",
       "  </thead>\n",
       "  <tbody>\n",
       "    <tr>\n",
       "      <th>0</th>\n",
       "      <td>A</td>\n",
       "      <td>239394</td>\n",
       "    </tr>\n",
       "    <tr>\n",
       "      <th>1</th>\n",
       "      <td>C</td>\n",
       "      <td>242288</td>\n",
       "    </tr>\n",
       "    <tr>\n",
       "      <th>2</th>\n",
       "      <td>G</td>\n",
       "      <td>259596</td>\n",
       "    </tr>\n",
       "    <tr>\n",
       "      <th>3</th>\n",
       "      <td>T</td>\n",
       "      <td>239855</td>\n",
       "    </tr>\n",
       "  </tbody>\n",
       "</table>\n",
       "</div>"
      ],
      "text/plain": [
       "  kmer  count_occurrences\n",
       "0    A             239394\n",
       "1    C             242288\n",
       "2    G             259596\n",
       "3    T             239855"
      ]
     },
     "execution_count": 6,
     "metadata": {},
     "output_type": "execute_result"
    }
   ],
   "source": [
    "dfA = kmer_counts(dataA, 1)\n",
    "dfA"
   ]
  },
  {
   "cell_type": "code",
   "execution_count": 7,
   "id": "e83d8a49",
   "metadata": {},
   "outputs": [
    {
     "data": {
      "text/html": [
       "<div>\n",
       "<style scoped>\n",
       "    .dataframe tbody tr th:only-of-type {\n",
       "        vertical-align: middle;\n",
       "    }\n",
       "\n",
       "    .dataframe tbody tr th {\n",
       "        vertical-align: top;\n",
       "    }\n",
       "\n",
       "    .dataframe thead th {\n",
       "        text-align: right;\n",
       "    }\n",
       "</style>\n",
       "<table border=\"1\" class=\"dataframe\">\n",
       "  <thead>\n",
       "    <tr style=\"text-align: right;\">\n",
       "      <th></th>\n",
       "      <th>kmer</th>\n",
       "      <th>count_occurrences</th>\n",
       "    </tr>\n",
       "  </thead>\n",
       "  <tbody>\n",
       "    <tr>\n",
       "      <th>0</th>\n",
       "      <td>A</td>\n",
       "      <td>239394</td>\n",
       "    </tr>\n",
       "    <tr>\n",
       "      <th>1</th>\n",
       "      <td>C</td>\n",
       "      <td>242288</td>\n",
       "    </tr>\n",
       "    <tr>\n",
       "      <th>2</th>\n",
       "      <td>G</td>\n",
       "      <td>259596</td>\n",
       "    </tr>\n",
       "    <tr>\n",
       "      <th>3</th>\n",
       "      <td>T</td>\n",
       "      <td>239855</td>\n",
       "    </tr>\n",
       "  </tbody>\n",
       "</table>\n",
       "</div>"
      ],
      "text/plain": [
       "  kmer  count_occurrences\n",
       "0    A             239394\n",
       "1    C             242288\n",
       "2    G             259596\n",
       "3    T             239855"
      ]
     },
     "execution_count": 7,
     "metadata": {},
     "output_type": "execute_result"
    }
   ],
   "source": [
    "dfB = kmer_counts(dataB, 1)\n",
    "dfB"
   ]
  },
  {
   "cell_type": "markdown",
   "id": "702726b9",
   "metadata": {},
   "source": [
    "The number of occurrences for A, C, T, G are the same for both data A and data B. The next thing that I did was to count for the maximum length of consecutive characters for each line in the dataset. This is because there might be patterns from the real/fake data that can be found by counting the length of consecutive characters. As an example:\n",
    "\n",
    "line 1: 'TGGTCCCACCTTTGAACCCC'\\\n",
    "line 2: 'TCAAATCAAGCGAAAGGCCA'\n",
    "\n",
    "Then the function will output:\\\n",
    "line 1 has A: 2, C: 4, T: 3, G: 2\\\n",
    "line 2 has A: 3, C: 2, T: 3, G: 2\n",
    "\n",
    "The next step that I did was to aggregate the results from the ~16000 lines by taking the mean, maximum count of consecutive characters, and the count of how many times it went above a certain threshold."
   ]
  },
  {
   "cell_type": "code",
   "execution_count": 8,
   "id": "b67d53c6",
   "metadata": {},
   "outputs": [],
   "source": [
    "#returns the maximum count of consecutive characters for each line as shown in the example above\n",
    "def max_count_consecutive_characters(data):\n",
    "    list_letter = []\n",
    "    for i in characters:\n",
    "        list_ = []\n",
    "        for line in data:\n",
    "            try:\n",
    "                max_count_per_line = max(len(list(y)) for (c,y) in itertools.groupby(line) if c==i)       \n",
    "                list_.append(max_count_per_line)\n",
    "            except:\n",
    "                pass\n",
    "        list_letter.append(list_)\n",
    "    return list_letter\n",
    "\n",
    "#returns statistics related to the maximum count of consecutive characters per data file\n",
    "def display_count_statistics_of_characters(data):\n",
    "    mean_list = []\n",
    "    max_list = []\n",
    "    greater_than_6 = []\n",
    "    for i in range(len(characters)):\n",
    "        list_letter = max_count_consecutive_characters(data)\n",
    "        mean_list.append(np.mean(list_letter[i]))\n",
    "        max_list.append(max(list_letter[i]))\n",
    "        greater_than_6.append(sum(np.array(list_letter[i]) > 6))\n",
    "    return pd.DataFrame({'characters':characters, \n",
    "                  'mean_max_consecutive_length': mean_list,\n",
    "                  'max_consecutive_length_from_data': max_list, \n",
    "                  'count_consecutive_characters_longer_than_length6': greater_than_6})  "
   ]
  },
  {
   "cell_type": "code",
   "execution_count": 9,
   "id": "2ba885d9",
   "metadata": {
    "scrolled": true
   },
   "outputs": [
    {
     "data": {
      "text/html": [
       "<div>\n",
       "<style scoped>\n",
       "    .dataframe tbody tr th:only-of-type {\n",
       "        vertical-align: middle;\n",
       "    }\n",
       "\n",
       "    .dataframe tbody tr th {\n",
       "        vertical-align: top;\n",
       "    }\n",
       "\n",
       "    .dataframe thead th {\n",
       "        text-align: right;\n",
       "    }\n",
       "</style>\n",
       "<table border=\"1\" class=\"dataframe\">\n",
       "  <thead>\n",
       "    <tr style=\"text-align: right;\">\n",
       "      <th></th>\n",
       "      <th>characters</th>\n",
       "      <th>mean_max_consecutive_length</th>\n",
       "      <th>max_consecutive_length_from_data</th>\n",
       "      <th>count_consecutive_characters_longer_than_length6</th>\n",
       "    </tr>\n",
       "  </thead>\n",
       "  <tbody>\n",
       "    <tr>\n",
       "      <th>0</th>\n",
       "      <td>A</td>\n",
       "      <td>2.940745</td>\n",
       "      <td>9</td>\n",
       "      <td>112</td>\n",
       "    </tr>\n",
       "    <tr>\n",
       "      <th>1</th>\n",
       "      <td>C</td>\n",
       "      <td>2.354492</td>\n",
       "      <td>8</td>\n",
       "      <td>1</td>\n",
       "    </tr>\n",
       "    <tr>\n",
       "      <th>2</th>\n",
       "      <td>G</td>\n",
       "      <td>2.498685</td>\n",
       "      <td>8</td>\n",
       "      <td>11</td>\n",
       "    </tr>\n",
       "    <tr>\n",
       "      <th>3</th>\n",
       "      <td>T</td>\n",
       "      <td>2.902587</td>\n",
       "      <td>10</td>\n",
       "      <td>123</td>\n",
       "    </tr>\n",
       "  </tbody>\n",
       "</table>\n",
       "</div>"
      ],
      "text/plain": [
       "  characters  mean_max_consecutive_length  max_consecutive_length_from_data  \\\n",
       "0          A                     2.940745                                 9   \n",
       "1          C                     2.354492                                 8   \n",
       "2          G                     2.498685                                 8   \n",
       "3          T                     2.902587                                10   \n",
       "\n",
       "   count_consecutive_characters_longer_than_length6  \n",
       "0                                               112  \n",
       "1                                                 1  \n",
       "2                                                11  \n",
       "3                                               123  "
      ]
     },
     "execution_count": 9,
     "metadata": {},
     "output_type": "execute_result"
    }
   ],
   "source": [
    "dfA_count = display_count_statistics_of_characters(dataA)\n",
    "dfA_count"
   ]
  },
  {
   "cell_type": "code",
   "execution_count": 10,
   "id": "671982ba",
   "metadata": {
    "scrolled": true
   },
   "outputs": [
    {
     "data": {
      "text/html": [
       "<div>\n",
       "<style scoped>\n",
       "    .dataframe tbody tr th:only-of-type {\n",
       "        vertical-align: middle;\n",
       "    }\n",
       "\n",
       "    .dataframe tbody tr th {\n",
       "        vertical-align: top;\n",
       "    }\n",
       "\n",
       "    .dataframe thead th {\n",
       "        text-align: right;\n",
       "    }\n",
       "</style>\n",
       "<table border=\"1\" class=\"dataframe\">\n",
       "  <thead>\n",
       "    <tr style=\"text-align: right;\">\n",
       "      <th></th>\n",
       "      <th>characters</th>\n",
       "      <th>mean_max_consecutive_length</th>\n",
       "      <th>max_consecutive_length_from_data</th>\n",
       "      <th>count_consecutive_characters_longer_than_length6</th>\n",
       "    </tr>\n",
       "  </thead>\n",
       "  <tbody>\n",
       "    <tr>\n",
       "      <th>0</th>\n",
       "      <td>A</td>\n",
       "      <td>2.623555</td>\n",
       "      <td>9</td>\n",
       "      <td>38</td>\n",
       "    </tr>\n",
       "    <tr>\n",
       "      <th>1</th>\n",
       "      <td>C</td>\n",
       "      <td>2.649239</td>\n",
       "      <td>10</td>\n",
       "      <td>42</td>\n",
       "    </tr>\n",
       "    <tr>\n",
       "      <th>2</th>\n",
       "      <td>G</td>\n",
       "      <td>2.795878</td>\n",
       "      <td>10</td>\n",
       "      <td>65</td>\n",
       "    </tr>\n",
       "    <tr>\n",
       "      <th>3</th>\n",
       "      <td>T</td>\n",
       "      <td>2.643429</td>\n",
       "      <td>9</td>\n",
       "      <td>35</td>\n",
       "    </tr>\n",
       "  </tbody>\n",
       "</table>\n",
       "</div>"
      ],
      "text/plain": [
       "  characters  mean_max_consecutive_length  max_consecutive_length_from_data  \\\n",
       "0          A                     2.623555                                 9   \n",
       "1          C                     2.649239                                10   \n",
       "2          G                     2.795878                                10   \n",
       "3          T                     2.643429                                 9   \n",
       "\n",
       "   count_consecutive_characters_longer_than_length6  \n",
       "0                                                38  \n",
       "1                                                42  \n",
       "2                                                65  \n",
       "3                                                35  "
      ]
     },
     "execution_count": 10,
     "metadata": {},
     "output_type": "execute_result"
    }
   ],
   "source": [
    "dfB_count = display_count_statistics_of_characters(dataB)\n",
    "dfB_count"
   ]
  },
  {
   "cell_type": "markdown",
   "id": "a1c530ec",
   "metadata": {},
   "source": [
    "Aggregating the data collected for the count of maximum length of consecutive characters for each line in the dataset, it was found that the mean value and max_consecutive_length does not vary greatly between the two datasets. However, for the count of consecutive characters with length longer than 6, it was found that in contrast with data A, for data B, the occurrences of A, C, G, T does not vary greatly. This gives us a hint that data B may have been arranged randomly."
   ]
  },
  {
   "cell_type": "markdown",
   "id": "76a1e954",
   "metadata": {},
   "source": [
    "The next thing that I did was counting the number of occurrences for k-mers, with k = 2"
   ]
  },
  {
   "cell_type": "markdown",
   "id": "649f7c09",
   "metadata": {},
   "source": [
    "Counting the number of occurences of 2-mers: 'AA', 'AC', 'CA', 'AG', 'GA', 'AT', 'TA', 'CC', 'CG', 'GC', 'CT', 'TC', 'GG', 'GT', 'TG', 'TT'"
   ]
  },
  {
   "cell_type": "code",
   "execution_count": 11,
   "id": "9766e56a",
   "metadata": {},
   "outputs": [
    {
     "data": {
      "text/html": [
       "<div>\n",
       "<style scoped>\n",
       "    .dataframe tbody tr th:only-of-type {\n",
       "        vertical-align: middle;\n",
       "    }\n",
       "\n",
       "    .dataframe tbody tr th {\n",
       "        vertical-align: top;\n",
       "    }\n",
       "\n",
       "    .dataframe thead th {\n",
       "        text-align: right;\n",
       "    }\n",
       "</style>\n",
       "<table border=\"1\" class=\"dataframe\">\n",
       "  <thead>\n",
       "    <tr style=\"text-align: right;\">\n",
       "      <th></th>\n",
       "      <th>kmer</th>\n",
       "      <th>count_occurrences</th>\n",
       "    </tr>\n",
       "  </thead>\n",
       "  <tbody>\n",
       "    <tr>\n",
       "      <th>0</th>\n",
       "      <td>AA</td>\n",
       "      <td>35471</td>\n",
       "    </tr>\n",
       "    <tr>\n",
       "      <th>1</th>\n",
       "      <td>AC</td>\n",
       "      <td>26700</td>\n",
       "    </tr>\n",
       "    <tr>\n",
       "      <th>2</th>\n",
       "      <td>AG</td>\n",
       "      <td>25561</td>\n",
       "    </tr>\n",
       "    <tr>\n",
       "      <th>3</th>\n",
       "      <td>AT</td>\n",
       "      <td>31940</td>\n",
       "    </tr>\n",
       "    <tr>\n",
       "      <th>4</th>\n",
       "      <td>CA</td>\n",
       "      <td>32587</td>\n",
       "    </tr>\n",
       "    <tr>\n",
       "      <th>5</th>\n",
       "      <td>CC</td>\n",
       "      <td>26675</td>\n",
       "    </tr>\n",
       "    <tr>\n",
       "      <th>6</th>\n",
       "      <td>CG</td>\n",
       "      <td>37476</td>\n",
       "    </tr>\n",
       "    <tr>\n",
       "      <th>7</th>\n",
       "      <td>CT</td>\n",
       "      <td>24511</td>\n",
       "    </tr>\n",
       "    <tr>\n",
       "      <th>8</th>\n",
       "      <td>GA</td>\n",
       "      <td>29470</td>\n",
       "    </tr>\n",
       "    <tr>\n",
       "      <th>9</th>\n",
       "      <td>GC</td>\n",
       "      <td>40796</td>\n",
       "    </tr>\n",
       "    <tr>\n",
       "      <th>10</th>\n",
       "      <td>GG</td>\n",
       "      <td>31094</td>\n",
       "    </tr>\n",
       "    <tr>\n",
       "      <th>11</th>\n",
       "      <td>GT</td>\n",
       "      <td>28042</td>\n",
       "    </tr>\n",
       "    <tr>\n",
       "      <th>12</th>\n",
       "      <td>TA</td>\n",
       "      <td>22194</td>\n",
       "    </tr>\n",
       "    <tr>\n",
       "      <th>13</th>\n",
       "      <td>TC</td>\n",
       "      <td>26867</td>\n",
       "    </tr>\n",
       "    <tr>\n",
       "      <th>14</th>\n",
       "      <td>TG</td>\n",
       "      <td>36063</td>\n",
       "    </tr>\n",
       "    <tr>\n",
       "      <th>15</th>\n",
       "      <td>TT</td>\n",
       "      <td>35119</td>\n",
       "    </tr>\n",
       "  </tbody>\n",
       "</table>\n",
       "</div>"
      ],
      "text/plain": [
       "   kmer  count_occurrences\n",
       "0    AA              35471\n",
       "1    AC              26700\n",
       "2    AG              25561\n",
       "3    AT              31940\n",
       "4    CA              32587\n",
       "5    CC              26675\n",
       "6    CG              37476\n",
       "7    CT              24511\n",
       "8    GA              29470\n",
       "9    GC              40796\n",
       "10   GG              31094\n",
       "11   GT              28042\n",
       "12   TA              22194\n",
       "13   TC              26867\n",
       "14   TG              36063\n",
       "15   TT              35119"
      ]
     },
     "execution_count": 11,
     "metadata": {},
     "output_type": "execute_result"
    }
   ],
   "source": [
    "dfA = kmer_counts(dataA, 2)\n",
    "dfA"
   ]
  },
  {
   "cell_type": "code",
   "execution_count": 12,
   "id": "5d22ded8",
   "metadata": {},
   "outputs": [
    {
     "data": {
      "text/html": [
       "<div>\n",
       "<style scoped>\n",
       "    .dataframe tbody tr th:only-of-type {\n",
       "        vertical-align: middle;\n",
       "    }\n",
       "\n",
       "    .dataframe tbody tr th {\n",
       "        vertical-align: top;\n",
       "    }\n",
       "\n",
       "    .dataframe thead th {\n",
       "        text-align: right;\n",
       "    }\n",
       "</style>\n",
       "<table border=\"1\" class=\"dataframe\">\n",
       "  <thead>\n",
       "    <tr style=\"text-align: right;\">\n",
       "      <th></th>\n",
       "      <th>kmer</th>\n",
       "      <th>count_occurrences</th>\n",
       "    </tr>\n",
       "  </thead>\n",
       "  <tbody>\n",
       "    <tr>\n",
       "      <th>0</th>\n",
       "      <td>AA</td>\n",
       "      <td>29076</td>\n",
       "    </tr>\n",
       "    <tr>\n",
       "      <th>1</th>\n",
       "      <td>AC</td>\n",
       "      <td>29737</td>\n",
       "    </tr>\n",
       "    <tr>\n",
       "      <th>2</th>\n",
       "      <td>AG</td>\n",
       "      <td>31617</td>\n",
       "    </tr>\n",
       "    <tr>\n",
       "      <th>3</th>\n",
       "      <td>AT</td>\n",
       "      <td>29341</td>\n",
       "    </tr>\n",
       "    <tr>\n",
       "      <th>4</th>\n",
       "      <td>CA</td>\n",
       "      <td>29417</td>\n",
       "    </tr>\n",
       "    <tr>\n",
       "      <th>5</th>\n",
       "      <td>CC</td>\n",
       "      <td>29953</td>\n",
       "    </tr>\n",
       "    <tr>\n",
       "      <th>6</th>\n",
       "      <td>CG</td>\n",
       "      <td>31978</td>\n",
       "    </tr>\n",
       "    <tr>\n",
       "      <th>7</th>\n",
       "      <td>CT</td>\n",
       "      <td>29752</td>\n",
       "    </tr>\n",
       "    <tr>\n",
       "      <th>8</th>\n",
       "      <td>GA</td>\n",
       "      <td>31867</td>\n",
       "    </tr>\n",
       "    <tr>\n",
       "      <th>9</th>\n",
       "      <td>GC</td>\n",
       "      <td>32098</td>\n",
       "    </tr>\n",
       "    <tr>\n",
       "      <th>10</th>\n",
       "      <td>GG</td>\n",
       "      <td>34287</td>\n",
       "    </tr>\n",
       "    <tr>\n",
       "      <th>11</th>\n",
       "      <td>GT</td>\n",
       "      <td>31810</td>\n",
       "    </tr>\n",
       "    <tr>\n",
       "      <th>12</th>\n",
       "      <td>TA</td>\n",
       "      <td>29263</td>\n",
       "    </tr>\n",
       "    <tr>\n",
       "      <th>13</th>\n",
       "      <td>TC</td>\n",
       "      <td>29400</td>\n",
       "    </tr>\n",
       "    <tr>\n",
       "      <th>14</th>\n",
       "      <td>TG</td>\n",
       "      <td>31652</td>\n",
       "    </tr>\n",
       "    <tr>\n",
       "      <th>15</th>\n",
       "      <td>TT</td>\n",
       "      <td>29318</td>\n",
       "    </tr>\n",
       "  </tbody>\n",
       "</table>\n",
       "</div>"
      ],
      "text/plain": [
       "   kmer  count_occurrences\n",
       "0    AA              29076\n",
       "1    AC              29737\n",
       "2    AG              31617\n",
       "3    AT              29341\n",
       "4    CA              29417\n",
       "5    CC              29953\n",
       "6    CG              31978\n",
       "7    CT              29752\n",
       "8    GA              31867\n",
       "9    GC              32098\n",
       "10   GG              34287\n",
       "11   GT              31810\n",
       "12   TA              29263\n",
       "13   TC              29400\n",
       "14   TG              31652\n",
       "15   TT              29318"
      ]
     },
     "execution_count": 12,
     "metadata": {},
     "output_type": "execute_result"
    }
   ],
   "source": [
    "dfB = kmer_counts(dataB, 2)\n",
    "dfB"
   ]
  },
  {
   "cell_type": "markdown",
   "id": "644ad18a",
   "metadata": {},
   "source": [
    "We can quantify for the entropy and see which has a higher entropy. A higher entropy means a higher disorder or randomness. "
   ]
  },
  {
   "cell_type": "code",
   "execution_count": 13,
   "id": "b2062027",
   "metadata": {},
   "outputs": [],
   "source": [
    "def entropy(df):\n",
    "    x = df['count_occurrences'].values\n",
    "    p = x/sum(x)\n",
    "    return -sum(p*np.log(p))"
   ]
  },
  {
   "cell_type": "code",
   "execution_count": 14,
   "id": "d157aa38",
   "metadata": {
    "scrolled": true
   },
   "outputs": [
    {
     "name": "stdout",
     "output_type": "stream",
     "text": [
      "entropy of data A: 2.7588095393083387\n",
      "entropy of data B: 2.7714405017649955\n"
     ]
    }
   ],
   "source": [
    "print('entropy of data A:', entropy(dfA))\n",
    "print('entropy of data B:', entropy(dfB))"
   ]
  },
  {
   "cell_type": "markdown",
   "id": "22ae81ac",
   "metadata": {},
   "source": [
    "If the fake data was arranged completely random, we would expect that the real data has lesser entropy. Data B has a higher entropy, and so is the fake data. In a way this is in agreement that we have for the count of consecutive characters with length longer than 6 in the earlier result. "
   ]
  },
  {
   "cell_type": "markdown",
   "id": "ca74f5b5",
   "metadata": {},
   "source": [
    "The histogram plot for 2-mers is shown below:"
   ]
  },
  {
   "cell_type": "code",
   "execution_count": 15,
   "id": "7b56cea6",
   "metadata": {
    "scrolled": true
   },
   "outputs": [
    {
     "data": {
      "image/png": "[encoded data removed]",
      "text/plain": [
       "<Figure size 720x360 with 1 Axes>"
      ]
     },
     "metadata": {
      "needs_background": "light"
     },
     "output_type": "display_data"
    }
   ],
   "source": [
    "plt.figure(figsize=(10,5))\n",
    "dfA['count_occurrences'].hist(histtype='step', bins = 20, density = True, label='data A')\n",
    "dfB['count_occurrences'].hist(histtype='step', bins = 20, density = True, label='data B')\n",
    "plt.xlabel('Count of occurrences for 2-mers')\n",
    "plt.ylabel('Probability distribution')\n",
    "plt.grid(b=None)\n",
    "plt.legend()\n",
    "plt.show()"
   ]
  },
  {
   "cell_type": "markdown",
   "id": "98420c36",
   "metadata": {},
   "source": [
    "It can be observed that the distribution for data B is peaked at certain values of count of occurrences, in contrast, data A is more uniformly distributed. This does not contradict with what was shown so far, this just tells us the relationship between 2-mers in the data. For data A, we can think that each 2-mer is independent with one another, having almost the same probability. \n",
    "\n",
    "This further shows that data B is the fake data since we would expect that the real dataset is uniformly distributed for k-mers."
   ]
  },
  {
   "cell_type": "markdown",
   "id": "7d117107",
   "metadata": {},
   "source": [
    "The analysis can be extended for k-mers with k = 4, and see if the same result is obtained"
   ]
  },
  {
   "cell_type": "code",
   "execution_count": 16,
   "id": "0661bdb0",
   "metadata": {},
   "outputs": [
    {
     "data": {
      "text/html": [
       "<div>\n",
       "<style scoped>\n",
       "    .dataframe tbody tr th:only-of-type {\n",
       "        vertical-align: middle;\n",
       "    }\n",
       "\n",
       "    .dataframe tbody tr th {\n",
       "        vertical-align: top;\n",
       "    }\n",
       "\n",
       "    .dataframe thead th {\n",
       "        text-align: right;\n",
       "    }\n",
       "</style>\n",
       "<table border=\"1\" class=\"dataframe\">\n",
       "  <thead>\n",
       "    <tr style=\"text-align: right;\">\n",
       "      <th></th>\n",
       "      <th>kmer</th>\n",
       "      <th>count_occurrences</th>\n",
       "    </tr>\n",
       "  </thead>\n",
       "  <tbody>\n",
       "    <tr>\n",
       "      <th>0</th>\n",
       "      <td>AAAA</td>\n",
       "      <td>1850</td>\n",
       "    </tr>\n",
       "    <tr>\n",
       "      <th>1</th>\n",
       "      <td>AAAC</td>\n",
       "      <td>1284</td>\n",
       "    </tr>\n",
       "    <tr>\n",
       "      <th>2</th>\n",
       "      <td>AAAG</td>\n",
       "      <td>1196</td>\n",
       "    </tr>\n",
       "    <tr>\n",
       "      <th>3</th>\n",
       "      <td>AAAT</td>\n",
       "      <td>1321</td>\n",
       "    </tr>\n",
       "    <tr>\n",
       "      <th>4</th>\n",
       "      <td>AACA</td>\n",
       "      <td>1094</td>\n",
       "    </tr>\n",
       "  </tbody>\n",
       "</table>\n",
       "</div>"
      ],
      "text/plain": [
       "   kmer  count_occurrences\n",
       "0  AAAA               1850\n",
       "1  AAAC               1284\n",
       "2  AAAG               1196\n",
       "3  AAAT               1321\n",
       "4  AACA               1094"
      ]
     },
     "execution_count": 16,
     "metadata": {},
     "output_type": "execute_result"
    }
   ],
   "source": [
    "dfA = kmer_counts(dataA, 4)\n",
    "dfA.head()"
   ]
  },
  {
   "cell_type": "code",
   "execution_count": 17,
   "id": "d9241300",
   "metadata": {},
   "outputs": [
    {
     "data": {
      "text/html": [
       "<div>\n",
       "<style scoped>\n",
       "    .dataframe tbody tr th:only-of-type {\n",
       "        vertical-align: middle;\n",
       "    }\n",
       "\n",
       "    .dataframe tbody tr th {\n",
       "        vertical-align: top;\n",
       "    }\n",
       "\n",
       "    .dataframe thead th {\n",
       "        text-align: right;\n",
       "    }\n",
       "</style>\n",
       "<table border=\"1\" class=\"dataframe\">\n",
       "  <thead>\n",
       "    <tr style=\"text-align: right;\">\n",
       "      <th></th>\n",
       "      <th>kmer</th>\n",
       "      <th>count_occurrences</th>\n",
       "    </tr>\n",
       "  </thead>\n",
       "  <tbody>\n",
       "    <tr>\n",
       "      <th>0</th>\n",
       "      <td>AAAA</td>\n",
       "      <td>855</td>\n",
       "    </tr>\n",
       "    <tr>\n",
       "      <th>1</th>\n",
       "      <td>AAAC</td>\n",
       "      <td>898</td>\n",
       "    </tr>\n",
       "    <tr>\n",
       "      <th>2</th>\n",
       "      <td>AAAG</td>\n",
       "      <td>972</td>\n",
       "    </tr>\n",
       "    <tr>\n",
       "      <th>3</th>\n",
       "      <td>AAAT</td>\n",
       "      <td>880</td>\n",
       "    </tr>\n",
       "    <tr>\n",
       "      <th>4</th>\n",
       "      <td>AACA</td>\n",
       "      <td>921</td>\n",
       "    </tr>\n",
       "  </tbody>\n",
       "</table>\n",
       "</div>"
      ],
      "text/plain": [
       "   kmer  count_occurrences\n",
       "0  AAAA                855\n",
       "1  AAAC                898\n",
       "2  AAAG                972\n",
       "3  AAAT                880\n",
       "4  AACA                921"
      ]
     },
     "execution_count": 17,
     "metadata": {},
     "output_type": "execute_result"
    }
   ],
   "source": [
    "dfB = kmer_counts(dataB, 4)\n",
    "dfB.head()"
   ]
  },
  {
   "cell_type": "code",
   "execution_count": 18,
   "id": "bae809be",
   "metadata": {},
   "outputs": [
    {
     "data": {
      "image/png": "[encoded data removed]",
      "text/plain": [
       "<Figure size 720x360 with 1 Axes>"
      ]
     },
     "metadata": {
      "needs_background": "light"
     },
     "output_type": "display_data"
    }
   ],
   "source": [
    "plt.figure(figsize=(10,5))\n",
    "dfA['count_occurrences'].hist(histtype='step', density = True, label='data A')\n",
    "dfB['count_occurrences'].hist(histtype='step', density = True, label='data B')\n",
    "plt.xlabel('Count of occurrences for 2-mers')\n",
    "plt.ylabel('Probability distribution')\n",
    "plt.grid(b=None)\n",
    "plt.legend()\n",
    "plt.show()"
   ]
  },
  {
   "cell_type": "code",
   "execution_count": 19,
   "id": "64bcdb2f",
   "metadata": {
    "scrolled": true
   },
   "outputs": [
    {
     "name": "stdout",
     "output_type": "stream",
     "text": [
      "entropy of data A: 5.467764524586647\n",
      "entropy of data B: 5.542373745682105\n"
     ]
    }
   ],
   "source": [
    "print('entropy of data A:', entropy(dfA))\n",
    "print('entropy of data B:', entropy(dfB))"
   ]
  },
  {
   "cell_type": "markdown",
   "id": "aba4bfa2",
   "metadata": {},
   "source": [
    "For 4-mers, the histogram plot shows data B peaked at certain values, and data B having higher entropy, which is in agreement with the results that were shown for 2-mers. This indicates that data B is indeed the fake data."
   ]
  },
  {
   "cell_type": "markdown",
   "id": "cd77bf08",
   "metadata": {},
   "source": [
    "The last thing that I did was to divide each dataset into 3 groups, and counting for the number of occurences for 2-mers for each group."
   ]
  },
  {
   "cell_type": "code",
   "execution_count": 20,
   "id": "d5feaa77",
   "metadata": {},
   "outputs": [],
   "source": [
    "#similar with kmer_counts function but performing it in each subgroup of the dataset\n",
    "def kmer_occurrences_groups(data, k):\n",
    "    kmer_list = [''.join(i) for i in itertools.product(characters, repeat = k)]\n",
    "    \n",
    "    tostore_kmer_list = []\n",
    "\n",
    "    groups = [data[i:i+5451] for i in range(0, len(data), 5451)]\n",
    "    for g in groups:\n",
    "        groups_list = []\n",
    "        for kmer in kmer_list:\n",
    "            count_kmers = 0\n",
    "            for line in g:\n",
    "                pair = [line[i:i+k] for i in range(0, len(line), k)]\n",
    "                count_kmers += pair.count(kmer)\n",
    "            groups_list.append(count_kmers)\n",
    "        tostore_kmer_list.append(groups_list)\n",
    "\n",
    "    return pd.DataFrame({'kmer':kmer_list,\n",
    "                         'count_occurrences_g1':tostore_kmer_list[0],\n",
    "                         'count_occurrences_g2':tostore_kmer_list[1],\n",
    "                         'count_occurrences_g3':tostore_kmer_list[2], })"
   ]
  },
  {
   "cell_type": "code",
   "execution_count": 21,
   "id": "6201489c",
   "metadata": {},
   "outputs": [],
   "source": [
    "#k-mer with k = 2\n",
    "dfA_groups = kmer_occurrences_groups(dataA, 2)\n",
    "dfB_groups = kmer_occurrences_groups(dataB, 2)"
   ]
  },
  {
   "cell_type": "code",
   "execution_count": 22,
   "id": "5c1c18c3",
   "metadata": {},
   "outputs": [
    {
     "data": {
      "text/html": [
       "<div>\n",
       "<style scoped>\n",
       "    .dataframe tbody tr th:only-of-type {\n",
       "        vertical-align: middle;\n",
       "    }\n",
       "\n",
       "    .dataframe tbody tr th {\n",
       "        vertical-align: top;\n",
       "    }\n",
       "\n",
       "    .dataframe thead th {\n",
       "        text-align: right;\n",
       "    }\n",
       "</style>\n",
       "<table border=\"1\" class=\"dataframe\">\n",
       "  <thead>\n",
       "    <tr style=\"text-align: right;\">\n",
       "      <th></th>\n",
       "      <th>kmer</th>\n",
       "      <th>count_occurrences_g1</th>\n",
       "      <th>count_occurrences_g2</th>\n",
       "      <th>count_occurrences_g3</th>\n",
       "    </tr>\n",
       "  </thead>\n",
       "  <tbody>\n",
       "    <tr>\n",
       "      <th>0</th>\n",
       "      <td>AA</td>\n",
       "      <td>11583</td>\n",
       "      <td>12149</td>\n",
       "      <td>11739</td>\n",
       "    </tr>\n",
       "    <tr>\n",
       "      <th>1</th>\n",
       "      <td>AC</td>\n",
       "      <td>8720</td>\n",
       "      <td>8777</td>\n",
       "      <td>9203</td>\n",
       "    </tr>\n",
       "    <tr>\n",
       "      <th>2</th>\n",
       "      <td>AG</td>\n",
       "      <td>8577</td>\n",
       "      <td>8485</td>\n",
       "      <td>8499</td>\n",
       "    </tr>\n",
       "    <tr>\n",
       "      <th>3</th>\n",
       "      <td>AT</td>\n",
       "      <td>10604</td>\n",
       "      <td>10993</td>\n",
       "      <td>10343</td>\n",
       "    </tr>\n",
       "    <tr>\n",
       "      <th>4</th>\n",
       "      <td>CA</td>\n",
       "      <td>10683</td>\n",
       "      <td>10679</td>\n",
       "      <td>11225</td>\n",
       "    </tr>\n",
       "  </tbody>\n",
       "</table>\n",
       "</div>"
      ],
      "text/plain": [
       "  kmer  count_occurrences_g1  count_occurrences_g2  count_occurrences_g3\n",
       "0   AA                 11583                 12149                 11739\n",
       "1   AC                  8720                  8777                  9203\n",
       "2   AG                  8577                  8485                  8499\n",
       "3   AT                 10604                 10993                 10343\n",
       "4   CA                 10683                 10679                 11225"
      ]
     },
     "execution_count": 22,
     "metadata": {},
     "output_type": "execute_result"
    }
   ],
   "source": [
    "dfA_groups.head()"
   ]
  },
  {
   "cell_type": "code",
   "execution_count": 23,
   "id": "c4ed3612",
   "metadata": {
    "scrolled": true
   },
   "outputs": [
    {
     "data": {
      "image/png": "[encoded data removed]",
      "text/plain": [
       "<Figure size 720x360 with 1 Axes>"
      ]
     },
     "metadata": {
      "needs_background": "light"
     },
     "output_type": "display_data"
    }
   ],
   "source": [
    "plt.figure(figsize=(10,5))\n",
    "dfA_groups['count_occurrences_g1'].hist(histtype='step', density = True, bins = 20, label='data A g1')\n",
    "dfA_groups['count_occurrences_g2'].hist(histtype='step', density = True, bins = 20, label='data A g2')\n",
    "dfA_groups['count_occurrences_g3'].hist(histtype='step', density = True, bins = 20, label='data A g3')\n",
    "\n",
    "dfB_groups['count_occurrences_g1'].hist(histtype='stepfilled', density = True, bins = 20, label='data B g1', alpha = 0.3)\n",
    "dfB_groups['count_occurrences_g2'].hist(histtype='stepfilled', density = True, bins = 20, label='data B g2', alpha = 0.3)\n",
    "dfB_groups['count_occurrences_g3'].hist(histtype='stepfilled', density = True, bins = 20, label='data B g3', alpha = 0.3)\n",
    "plt.xlabel('Count of occurrences for 2-mers')\n",
    "plt.ylabel('Probability distribution')\n",
    "plt.grid(b=None)\n",
    "plt.legend()\n",
    "plt.show()"
   ]
  },
  {
   "cell_type": "markdown",
   "id": "90e56c8d",
   "metadata": {},
   "source": [
    "Even having divided it into 3 groups, the histogram plot shows data B peaked at certain values."
   ]
  }
 ],
 "metadata": {
  "kernelspec": {
   "display_name": "Python 3",
   "language": "python",
   "name": "python3"
  },
  "language_info": {
   "codemirror_mode": {
    "name": "ipython",
    "version": 3
   },
   "file_extension": ".py",
   "mimetype": "text/x-python",
   "name": "python",
   "nbconvert_exporter": "python",
   "pygments_lexer": "ipython3",
   "version": "3.8.8"
  }
 },
 "nbformat": 4,
 "nbformat_minor": 5
}
