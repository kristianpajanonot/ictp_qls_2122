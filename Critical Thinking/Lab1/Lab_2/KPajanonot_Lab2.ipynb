{
 "cells": [
  {
   "cell_type": "code",
   "execution_count": 1,
   "id": "9780f222",
   "metadata": {},
   "outputs": [],
   "source": [
    "import numpy as np\n",
    "import pandas as pd\n",
    "import matplotlib.pyplot as plt\n",
    "import seaborn as sns\n",
    "\n",
    "import warnings\n",
    "warnings.filterwarnings(\"ignore\")"
   ]
  },
  {
   "cell_type": "markdown",
   "id": "073e2af0",
   "metadata": {},
   "source": [
    "The goal is to know if the names from the 3 datasets are randomly distributed, or if there is a reason behind the pattern that we will see. For example, are all last names of Soto-Lopez taking up Physics, or is it just by chance."
   ]
  },
  {
   "cell_type": "markdown",
   "id": "ce8ff3fe",
   "metadata": {},
   "source": [
    "#### Functions - actual analysis starts in the section: Starts here"
   ]
  },
  {
   "cell_type": "code",
   "execution_count": 2,
   "id": "46808554",
   "metadata": {},
   "outputs": [],
   "source": [
    "def create_top3_new_df(sector_df, sectors_list):\n",
    "    #this function returns a dataframe with 3 columns: sector, last, counts of the top3 names found\n",
    "    #in each of the sectors we are interested in\n",
    "    \n",
    "    #count the number of times a family name is found in a sector\n",
    "    new_df = pd.DataFrame(sector_df.groupby('sector')['last'].value_counts()).rename(columns={'last':'counts'}).reset_index()\n",
    "\n",
    "    #get the top 3 names in each sector\n",
    "    top3_new_df = new_df.groupby(['sector']).apply(lambda x: x.nlargest(3,['counts'])).reset_index(drop=True)\n",
    "    \n",
    "    #Loop for each last name and sector found in top3_new_df, and check the counts, for example, the last\n",
    "    #name rossi is one of the top3 names in sector Bio with 18 counts, but not found in sector Econ from the new_df\n",
    "    #table, then rossi will have counts = 18 for sector = Bio, but counts = 0, for sector Econ\n",
    "    last_name = []\n",
    "    sector = []\n",
    "    for i in top3_new_df['last'].unique():\n",
    "        for j in top3_new_df['sector'].unique():\n",
    "            last_name.append(i)\n",
    "            sector.append(j)\n",
    "\n",
    "    data = {'sector': sector, 'last': last_name, 'counts': 0}\n",
    "    final_sector_df = pd.DataFrame(data).merge(new_df, how='left', on=['last', 'sector']).fillna(0)\n",
    "    final_sector_df['counts'] = final_sector_df['counts_x'] + final_sector_df['counts_y']\n",
    "    final_sector_df.drop(columns = ['counts_x', 'counts_y'], inplace=True)\n",
    "\n",
    "    #pivot the table and compute the probability of a last name appearing in each sector\n",
    "    count_df = pd.pivot_table(final_sector_df, values='counts', index=['last'],\n",
    "                        columns=['sector'], aggfunc=np.sum).fillna(0)\n",
    "\n",
    "    #calculate probabilities for each sector\n",
    "    count_df['sum'] = count_df.sum(axis=1)\n",
    "    \n",
    "    for i in sectors_list:\n",
    "        col_name = '{}_prob'.format(i)\n",
    "        count_df[col_name] = count_df[i]/count_df['sum']\n",
    "        \n",
    "    return final_sector_df, count_df\n",
    "\n",
    "def randomizer(df):\n",
    "    #randomize last name and make it as a new column of the dataframe\n",
    "    df['random_lastname'] = np.random.permutation(df['last'])\n",
    "    random_df = pd.DataFrame(df.groupby('sector')['random_lastname'].value_counts()).\\\n",
    "    rename(columns={'random_lastname':'counts'}).reset_index()\n",
    "    random_df.rename(columns={'random_lastname':'last'}, inplace=True)\n",
    "    return random_df\n",
    "\n",
    "def create_multiple_random_counts(sector_df, final_sector_df, n):\n",
    "    #perform the randomization n times - this is so we can create the probability distribution\n",
    "    #merge left the randomization columns to the final_sector_df on columns sector and last\n",
    "    #if name rossi has counts = 18 from the original data, then this number will vary for each randomization that we do\n",
    "    final_sector_df_copy = final_sector_df.copy()\n",
    "    for i in range(n):\n",
    "        random_df_trial = randomizer(sector_df)\n",
    "        merged_df_trial = pd.merge(final_sector_df_copy, random_df_trial, how=\"left\", on=[\"sector\", \"last\"])\n",
    "        final_sector_df_copy = merged_df_trial\n",
    "    return merged_df_trial\n",
    "\n",
    "def merge_top3df_randomdf(sector_df, final_sector_df, n):\n",
    "    #using the create_multiple_random_counts, format the dataframe so we will have columns: \n",
    "    #sector, last, original, random_1, random_2, random_3, ..., random_n\n",
    "    #original refers to the counts of last name from the data, random_1, random_2 refers to the counts\n",
    "    #after performing randomization\n",
    "    final_df = create_multiple_random_counts(sector_df, final_sector_df, n)\n",
    "\n",
    "    col_list = ['sector', 'last', 'original']\n",
    "    for i in range(n):\n",
    "        x = 'random_{}'.format(i+1)\n",
    "        col_list.append(x)\n",
    "\n",
    "    final_df.columns = col_list\n",
    "    #remove original\n",
    "    final_df.drop(columns='original', inplace=True)\n",
    "\n",
    "    return final_df\n",
    "\n",
    "def plot_probabilities(last_name, sector, probability_column, sector_df, count_df, final_sector_df, n):\n",
    "    #plotter function\n",
    "    final_df = merge_top3df_randomdf(sector_df, final_sector_df, n)\n",
    "    #choose 1 last name\n",
    "    person = final_df[final_df['last']==last_name]\n",
    "    #choose a sector, calculate the probabilities\n",
    "    person_sector_count = person[person['sector']==sector].iloc[0, 2:].values.flatten().tolist()\n",
    "\n",
    "    #call the original probability\n",
    "    orig_prob = count_df.iloc[count_df.index.get_level_values('last') == last_name][probability_column].values\n",
    "    #plot the histogram\n",
    "    plt.hist(np.array(person_sector_count)/np.array(person.sum().values[2:]), histtype='step', label='randomized')\n",
    "    plt.axvline(orig_prob, color = 'black', label='original probability')\n",
    "    plt.xlabel('Probability')\n",
    "    plt.legend()\n",
    "    plt.show()"
   ]
  },
  {
   "cell_type": "markdown",
   "id": "d11bc754",
   "metadata": {},
   "source": [
    "### Starts here:"
   ]
  },
  {
   "cell_type": "markdown",
   "id": "832ac866",
   "metadata": {},
   "source": [
    "#### 1. Read the 3 csv files. Display 2 rows of each data.\n",
    "#### 2. Get only top 3 names found in each sector we are interested in. Display the table with rows as last names, and columns as: counts of occurrence for each sector and the probabilities (where probabilities are computed by: counts for a specific sector / total sum of counts )\n",
    "#### 3. Plot a heatmap of the counts to visualize the pattern of counts\n",
    "#### 4. Plot the original probability (probability from the data) of a last name found in a specific sector, together with the 100 randomizations (probability distribution). Check if the original probability falls within the probability distribution of the randomization."
   ]
  },
  {
   "cell_type": "code",
   "execution_count": 3,
   "id": "7e013159",
   "metadata": {
    "scrolled": false
   },
   "outputs": [
    {
     "name": "stdout",
     "output_type": "stream",
     "text": [
      "(54102, 10)\n"
     ]
    },
    {
     "data": {
      "text/html": [
       "<div>\n",
       "<style scoped>\n",
       "    .dataframe tbody tr th:only-of-type {\n",
       "        vertical-align: middle;\n",
       "    }\n",
       "\n",
       "    .dataframe tbody tr th {\n",
       "        vertical-align: top;\n",
       "    }\n",
       "\n",
       "    .dataframe thead th {\n",
       "        text-align: right;\n",
       "    }\n",
       "</style>\n",
       "<table border=\"1\" class=\"dataframe\">\n",
       "  <thead>\n",
       "    <tr style=\"text-align: right;\">\n",
       "      <th></th>\n",
       "      <th>gender</th>\n",
       "      <th>rank</th>\n",
       "      <th>institution</th>\n",
       "      <th>city</th>\n",
       "      <th>region</th>\n",
       "      <th>sector</th>\n",
       "      <th>first</th>\n",
       "      <th>last</th>\n",
       "      <th>field</th>\n",
       "      <th>year</th>\n",
       "    </tr>\n",
       "  </thead>\n",
       "  <tbody>\n",
       "    <tr>\n",
       "      <th>0</th>\n",
       "      <td>M</td>\n",
       "      <td>professor</td>\n",
       "      <td>Foggia</td>\n",
       "      <td>Foggia</td>\n",
       "      <td>Puglia</td>\n",
       "      <td>Chem</td>\n",
       "      <td>diego  maria</td>\n",
       "      <td>donato centonze</td>\n",
       "      <td>CHIM/01</td>\n",
       "      <td>2015</td>\n",
       "    </tr>\n",
       "    <tr>\n",
       "      <th>1</th>\n",
       "      <td>F</td>\n",
       "      <td>associate professor</td>\n",
       "      <td>Bari</td>\n",
       "      <td>Bari</td>\n",
       "      <td>Puglia</td>\n",
       "      <td>Hist-Ped-Psi</td>\n",
       "      <td>alessandra  carmela</td>\n",
       "      <td>maria giannelli</td>\n",
       "      <td>M-GGR/02</td>\n",
       "      <td>2015</td>\n",
       "    </tr>\n",
       "  </tbody>\n",
       "</table>\n",
       "</div>"
      ],
      "text/plain": [
       "  gender                 rank institution    city  region        sector  \\\n",
       "0      M            professor      Foggia  Foggia  Puglia          Chem   \n",
       "1      F  associate professor        Bari    Bari  Puglia  Hist-Ped-Psi   \n",
       "\n",
       "                 first              last     field  year  \n",
       "0        diego  maria   donato centonze    CHIM/01  2015  \n",
       "1  alessandra  carmela  maria giannelli   M-GGR/02  2015  "
      ]
     },
     "execution_count": 3,
     "metadata": {},
     "output_type": "execute_result"
    }
   ],
   "source": [
    "italy_df = pd.read_csv('italy_clean.csv')\n",
    "print(italy_df.shape)\n",
    "italy_df.head(2)"
   ]
  },
  {
   "cell_type": "code",
   "execution_count": 4,
   "id": "d252e4a6",
   "metadata": {
    "scrolled": false
   },
   "outputs": [
    {
     "name": "stdout",
     "output_type": "stream",
     "text": [
      "(44860, 9)\n"
     ]
    },
    {
     "data": {
      "text/html": [
       "<div>\n",
       "<style scoped>\n",
       "    .dataframe tbody tr th:only-of-type {\n",
       "        vertical-align: middle;\n",
       "    }\n",
       "\n",
       "    .dataframe tbody tr th {\n",
       "        vertical-align: top;\n",
       "    }\n",
       "\n",
       "    .dataframe thead th {\n",
       "        text-align: right;\n",
       "    }\n",
       "</style>\n",
       "<table border=\"1\" class=\"dataframe\">\n",
       "  <thead>\n",
       "    <tr style=\"text-align: right;\">\n",
       "      <th></th>\n",
       "      <th>institution</th>\n",
       "      <th>city</th>\n",
       "      <th>region</th>\n",
       "      <th>sector</th>\n",
       "      <th>first</th>\n",
       "      <th>last</th>\n",
       "      <th>name</th>\n",
       "      <th>maiden</th>\n",
       "      <th>affiliation</th>\n",
       "    </tr>\n",
       "  </thead>\n",
       "  <tbody>\n",
       "    <tr>\n",
       "      <th>0</th>\n",
       "      <td>UMR8589</td>\n",
       "      <td>Villejuif</td>\n",
       "      <td>Ile-de-France</td>\n",
       "      <td>SHS</td>\n",
       "      <td>Martine</td>\n",
       "      <td>CHARAGEAT</td>\n",
       "      <td>CHARAGEAT Martine</td>\n",
       "      <td>CHARAGEAT</td>\n",
       "      <td>UNIV BORDEAUX MONTAIGNE</td>\n",
       "    </tr>\n",
       "    <tr>\n",
       "      <th>1</th>\n",
       "      <td>UMR8622</td>\n",
       "      <td>Orsay</td>\n",
       "      <td>Ile-de-France</td>\n",
       "      <td>STIC</td>\n",
       "      <td>Giancarlo</td>\n",
       "      <td>FAINI</td>\n",
       "      <td>FAINI Giancarlo</td>\n",
       "      <td>FAINI</td>\n",
       "      <td>section 3</td>\n",
       "    </tr>\n",
       "  </tbody>\n",
       "</table>\n",
       "</div>"
      ],
      "text/plain": [
       "  institution       city         region sector      first       last  \\\n",
       "0     UMR8589  Villejuif  Ile-de-France    SHS    Martine  CHARAGEAT   \n",
       "1     UMR8622      Orsay  Ile-de-France   STIC  Giancarlo      FAINI   \n",
       "\n",
       "                name     maiden              affiliation  \n",
       "0  CHARAGEAT Martine  CHARAGEAT  UNIV BORDEAUX MONTAIGNE  \n",
       "1    FAINI Giancarlo      FAINI                section 3  "
      ]
     },
     "execution_count": 4,
     "metadata": {},
     "output_type": "execute_result"
    }
   ],
   "source": [
    "france_df = pd.read_csv('france_clean.csv')\n",
    "print(france_df.shape)\n",
    "france_df.head(2)"
   ]
  },
  {
   "cell_type": "code",
   "execution_count": 5,
   "id": "668651bc",
   "metadata": {},
   "outputs": [
    {
     "name": "stdout",
     "output_type": "stream",
     "text": [
      "(36308, 7)\n"
     ]
    },
    {
     "data": {
      "text/html": [
       "<div>\n",
       "<style scoped>\n",
       "    .dataframe tbody tr th:only-of-type {\n",
       "        vertical-align: middle;\n",
       "    }\n",
       "\n",
       "    .dataframe tbody tr th {\n",
       "        vertical-align: top;\n",
       "    }\n",
       "\n",
       "    .dataframe thead th {\n",
       "        text-align: right;\n",
       "    }\n",
       "</style>\n",
       "<table border=\"1\" class=\"dataframe\">\n",
       "  <thead>\n",
       "    <tr style=\"text-align: right;\">\n",
       "      <th></th>\n",
       "      <th>institution</th>\n",
       "      <th>city</th>\n",
       "      <th>region</th>\n",
       "      <th>sector</th>\n",
       "      <th>first</th>\n",
       "      <th>initials</th>\n",
       "      <th>last</th>\n",
       "    </tr>\n",
       "  </thead>\n",
       "  <tbody>\n",
       "    <tr>\n",
       "      <th>0</th>\n",
       "      <td>University of North Carolina Chapel Hill</td>\n",
       "      <td>Chapel Hill NC</td>\n",
       "      <td>North Carolina</td>\n",
       "      <td>Bio</td>\n",
       "      <td>mark</td>\n",
       "      <td>j</td>\n",
       "      <td>zylka</td>\n",
       "    </tr>\n",
       "    <tr>\n",
       "      <th>1</th>\n",
       "      <td>UC Davis</td>\n",
       "      <td>Davis CA</td>\n",
       "      <td>California</td>\n",
       "      <td>Bio</td>\n",
       "      <td>allison</td>\n",
       "      <td>l</td>\n",
       "      <td>zwingenberger</td>\n",
       "    </tr>\n",
       "  </tbody>\n",
       "</table>\n",
       "</div>"
      ],
      "text/plain": [
       "                                institution            city          region  \\\n",
       "0  University of North Carolina Chapel Hill  Chapel Hill NC  North Carolina   \n",
       "1                                  UC Davis        Davis CA      California   \n",
       "\n",
       "  sector    first initials           last  \n",
       "0    Bio     mark        j          zylka  \n",
       "1    Bio  allison        l  zwingenberger  "
      ]
     },
     "execution_count": 5,
     "metadata": {},
     "output_type": "execute_result"
    }
   ],
   "source": [
    "us_df = pd.read_csv('us_clean.csv')\n",
    "print(us_df.shape)\n",
    "us_df.head(2)"
   ]
  },
  {
   "cell_type": "markdown",
   "id": "9708821d",
   "metadata": {},
   "source": [
    "### US"
   ]
  },
  {
   "cell_type": "code",
   "execution_count": 6,
   "id": "6296c946",
   "metadata": {},
   "outputs": [
    {
     "data": {
      "text/html": [
       "<div>\n",
       "<style scoped>\n",
       "    .dataframe tbody tr th:only-of-type {\n",
       "        vertical-align: middle;\n",
       "    }\n",
       "\n",
       "    .dataframe tbody tr th {\n",
       "        vertical-align: top;\n",
       "    }\n",
       "\n",
       "    .dataframe thead th {\n",
       "        text-align: right;\n",
       "    }\n",
       "</style>\n",
       "<table border=\"1\" class=\"dataframe\">\n",
       "  <thead>\n",
       "    <tr style=\"text-align: right;\">\n",
       "      <th>sector</th>\n",
       "      <th>Bio</th>\n",
       "      <th>Chem</th>\n",
       "      <th>Econ</th>\n",
       "      <th>Hist-Ped-Psi</th>\n",
       "      <th>Hum</th>\n",
       "      <th>Math</th>\n",
       "      <th>Phys</th>\n",
       "      <th>Soc</th>\n",
       "      <th>sum</th>\n",
       "      <th>Econ_prob</th>\n",
       "      <th>Hum_prob</th>\n",
       "      <th>Hist-Ped-Psi_prob</th>\n",
       "      <th>Soc_prob</th>\n",
       "      <th>Bio_prob</th>\n",
       "      <th>Math_prob</th>\n",
       "      <th>Phys_prob</th>\n",
       "      <th>Chem_prob</th>\n",
       "    </tr>\n",
       "    <tr>\n",
       "      <th>last</th>\n",
       "      <th></th>\n",
       "      <th></th>\n",
       "      <th></th>\n",
       "      <th></th>\n",
       "      <th></th>\n",
       "      <th></th>\n",
       "      <th></th>\n",
       "      <th></th>\n",
       "      <th></th>\n",
       "      <th></th>\n",
       "      <th></th>\n",
       "      <th></th>\n",
       "      <th></th>\n",
       "      <th></th>\n",
       "      <th></th>\n",
       "      <th></th>\n",
       "      <th></th>\n",
       "    </tr>\n",
       "  </thead>\n",
       "  <tbody>\n",
       "    <tr>\n",
       "      <th>chen</th>\n",
       "      <td>19.0</td>\n",
       "      <td>7.0</td>\n",
       "      <td>16.0</td>\n",
       "      <td>0.0</td>\n",
       "      <td>0.0</td>\n",
       "      <td>14.0</td>\n",
       "      <td>14.0</td>\n",
       "      <td>4.0</td>\n",
       "      <td>74.0</td>\n",
       "      <td>0.216216</td>\n",
       "      <td>0.000000</td>\n",
       "      <td>0.000000</td>\n",
       "      <td>0.054054</td>\n",
       "      <td>0.256757</td>\n",
       "      <td>0.189189</td>\n",
       "      <td>0.189189</td>\n",
       "      <td>0.094595</td>\n",
       "    </tr>\n",
       "    <tr>\n",
       "      <th>huang</th>\n",
       "      <td>11.0</td>\n",
       "      <td>5.0</td>\n",
       "      <td>9.0</td>\n",
       "      <td>1.0</td>\n",
       "      <td>1.0</td>\n",
       "      <td>5.0</td>\n",
       "      <td>8.0</td>\n",
       "      <td>3.0</td>\n",
       "      <td>43.0</td>\n",
       "      <td>0.209302</td>\n",
       "      <td>0.023256</td>\n",
       "      <td>0.023256</td>\n",
       "      <td>0.069767</td>\n",
       "      <td>0.255814</td>\n",
       "      <td>0.116279</td>\n",
       "      <td>0.186047</td>\n",
       "      <td>0.116279</td>\n",
       "    </tr>\n",
       "    <tr>\n",
       "      <th>kim</th>\n",
       "      <td>9.0</td>\n",
       "      <td>5.0</td>\n",
       "      <td>9.0</td>\n",
       "      <td>7.0</td>\n",
       "      <td>2.0</td>\n",
       "      <td>12.0</td>\n",
       "      <td>4.0</td>\n",
       "      <td>14.0</td>\n",
       "      <td>62.0</td>\n",
       "      <td>0.145161</td>\n",
       "      <td>0.032258</td>\n",
       "      <td>0.112903</td>\n",
       "      <td>0.225806</td>\n",
       "      <td>0.145161</td>\n",
       "      <td>0.193548</td>\n",
       "      <td>0.064516</td>\n",
       "      <td>0.080645</td>\n",
       "    </tr>\n",
       "    <tr>\n",
       "      <th>li</th>\n",
       "      <td>37.0</td>\n",
       "      <td>13.0</td>\n",
       "      <td>9.0</td>\n",
       "      <td>2.0</td>\n",
       "      <td>7.0</td>\n",
       "      <td>29.0</td>\n",
       "      <td>20.0</td>\n",
       "      <td>11.0</td>\n",
       "      <td>128.0</td>\n",
       "      <td>0.070312</td>\n",
       "      <td>0.054688</td>\n",
       "      <td>0.015625</td>\n",
       "      <td>0.085938</td>\n",
       "      <td>0.289062</td>\n",
       "      <td>0.226562</td>\n",
       "      <td>0.156250</td>\n",
       "      <td>0.101562</td>\n",
       "    </tr>\n",
       "    <tr>\n",
       "      <th>liu</th>\n",
       "      <td>22.0</td>\n",
       "      <td>7.0</td>\n",
       "      <td>7.0</td>\n",
       "      <td>3.0</td>\n",
       "      <td>3.0</td>\n",
       "      <td>25.0</td>\n",
       "      <td>13.0</td>\n",
       "      <td>10.0</td>\n",
       "      <td>90.0</td>\n",
       "      <td>0.077778</td>\n",
       "      <td>0.033333</td>\n",
       "      <td>0.033333</td>\n",
       "      <td>0.111111</td>\n",
       "      <td>0.244444</td>\n",
       "      <td>0.277778</td>\n",
       "      <td>0.144444</td>\n",
       "      <td>0.077778</td>\n",
       "    </tr>\n",
       "    <tr>\n",
       "      <th>wang</th>\n",
       "      <td>35.0</td>\n",
       "      <td>11.0</td>\n",
       "      <td>12.0</td>\n",
       "      <td>2.0</td>\n",
       "      <td>1.0</td>\n",
       "      <td>25.0</td>\n",
       "      <td>16.0</td>\n",
       "      <td>16.0</td>\n",
       "      <td>118.0</td>\n",
       "      <td>0.101695</td>\n",
       "      <td>0.008475</td>\n",
       "      <td>0.016949</td>\n",
       "      <td>0.135593</td>\n",
       "      <td>0.296610</td>\n",
       "      <td>0.211864</td>\n",
       "      <td>0.135593</td>\n",
       "      <td>0.093220</td>\n",
       "    </tr>\n",
       "    <tr>\n",
       "      <th>zhang</th>\n",
       "      <td>21.0</td>\n",
       "      <td>16.0</td>\n",
       "      <td>8.0</td>\n",
       "      <td>5.0</td>\n",
       "      <td>3.0</td>\n",
       "      <td>30.0</td>\n",
       "      <td>17.0</td>\n",
       "      <td>7.0</td>\n",
       "      <td>107.0</td>\n",
       "      <td>0.074766</td>\n",
       "      <td>0.028037</td>\n",
       "      <td>0.046729</td>\n",
       "      <td>0.065421</td>\n",
       "      <td>0.196262</td>\n",
       "      <td>0.280374</td>\n",
       "      <td>0.158879</td>\n",
       "      <td>0.149533</td>\n",
       "    </tr>\n",
       "    <tr>\n",
       "      <th>anderson</th>\n",
       "      <td>8.0</td>\n",
       "      <td>2.0</td>\n",
       "      <td>7.0</td>\n",
       "      <td>2.0</td>\n",
       "      <td>9.0</td>\n",
       "      <td>4.0</td>\n",
       "      <td>2.0</td>\n",
       "      <td>9.0</td>\n",
       "      <td>43.0</td>\n",
       "      <td>0.162791</td>\n",
       "      <td>0.209302</td>\n",
       "      <td>0.046512</td>\n",
       "      <td>0.209302</td>\n",
       "      <td>0.186047</td>\n",
       "      <td>0.093023</td>\n",
       "      <td>0.046512</td>\n",
       "      <td>0.046512</td>\n",
       "    </tr>\n",
       "    <tr>\n",
       "      <th>brown</th>\n",
       "      <td>11.0</td>\n",
       "      <td>1.0</td>\n",
       "      <td>9.0</td>\n",
       "      <td>7.0</td>\n",
       "      <td>4.0</td>\n",
       "      <td>5.0</td>\n",
       "      <td>2.0</td>\n",
       "      <td>20.0</td>\n",
       "      <td>59.0</td>\n",
       "      <td>0.152542</td>\n",
       "      <td>0.067797</td>\n",
       "      <td>0.118644</td>\n",
       "      <td>0.338983</td>\n",
       "      <td>0.186441</td>\n",
       "      <td>0.084746</td>\n",
       "      <td>0.033898</td>\n",
       "      <td>0.016949</td>\n",
       "    </tr>\n",
       "    <tr>\n",
       "      <th>cohen</th>\n",
       "      <td>3.0</td>\n",
       "      <td>1.0</td>\n",
       "      <td>2.0</td>\n",
       "      <td>2.0</td>\n",
       "      <td>8.0</td>\n",
       "      <td>0.0</td>\n",
       "      <td>1.0</td>\n",
       "      <td>6.0</td>\n",
       "      <td>23.0</td>\n",
       "      <td>0.086957</td>\n",
       "      <td>0.347826</td>\n",
       "      <td>0.086957</td>\n",
       "      <td>0.260870</td>\n",
       "      <td>0.130435</td>\n",
       "      <td>0.000000</td>\n",
       "      <td>0.043478</td>\n",
       "      <td>0.043478</td>\n",
       "    </tr>\n",
       "    <tr>\n",
       "      <th>smith</th>\n",
       "      <td>16.0</td>\n",
       "      <td>3.0</td>\n",
       "      <td>3.0</td>\n",
       "      <td>4.0</td>\n",
       "      <td>13.0</td>\n",
       "      <td>12.0</td>\n",
       "      <td>7.0</td>\n",
       "      <td>29.0</td>\n",
       "      <td>87.0</td>\n",
       "      <td>0.034483</td>\n",
       "      <td>0.149425</td>\n",
       "      <td>0.045977</td>\n",
       "      <td>0.333333</td>\n",
       "      <td>0.183908</td>\n",
       "      <td>0.137931</td>\n",
       "      <td>0.080460</td>\n",
       "      <td>0.034483</td>\n",
       "    </tr>\n",
       "  </tbody>\n",
       "</table>\n",
       "</div>"
      ],
      "text/plain": [
       "sector     Bio  Chem  Econ  Hist-Ped-Psi   Hum  Math  Phys   Soc    sum  \\\n",
       "last                                                                      \n",
       " chen     19.0   7.0  16.0           0.0   0.0  14.0  14.0   4.0   74.0   \n",
       " huang    11.0   5.0   9.0           1.0   1.0   5.0   8.0   3.0   43.0   \n",
       " kim       9.0   5.0   9.0           7.0   2.0  12.0   4.0  14.0   62.0   \n",
       " li       37.0  13.0   9.0           2.0   7.0  29.0  20.0  11.0  128.0   \n",
       " liu      22.0   7.0   7.0           3.0   3.0  25.0  13.0  10.0   90.0   \n",
       " wang     35.0  11.0  12.0           2.0   1.0  25.0  16.0  16.0  118.0   \n",
       " zhang    21.0  16.0   8.0           5.0   3.0  30.0  17.0   7.0  107.0   \n",
       "anderson   8.0   2.0   7.0           2.0   9.0   4.0   2.0   9.0   43.0   \n",
       "brown     11.0   1.0   9.0           7.0   4.0   5.0   2.0  20.0   59.0   \n",
       "cohen      3.0   1.0   2.0           2.0   8.0   0.0   1.0   6.0   23.0   \n",
       "smith     16.0   3.0   3.0           4.0  13.0  12.0   7.0  29.0   87.0   \n",
       "\n",
       "sector    Econ_prob  Hum_prob  Hist-Ped-Psi_prob  Soc_prob  Bio_prob  \\\n",
       "last                                                                   \n",
       " chen      0.216216  0.000000           0.000000  0.054054  0.256757   \n",
       " huang     0.209302  0.023256           0.023256  0.069767  0.255814   \n",
       " kim       0.145161  0.032258           0.112903  0.225806  0.145161   \n",
       " li        0.070312  0.054688           0.015625  0.085938  0.289062   \n",
       " liu       0.077778  0.033333           0.033333  0.111111  0.244444   \n",
       " wang      0.101695  0.008475           0.016949  0.135593  0.296610   \n",
       " zhang     0.074766  0.028037           0.046729  0.065421  0.196262   \n",
       "anderson   0.162791  0.209302           0.046512  0.209302  0.186047   \n",
       "brown      0.152542  0.067797           0.118644  0.338983  0.186441   \n",
       "cohen      0.086957  0.347826           0.086957  0.260870  0.130435   \n",
       "smith      0.034483  0.149425           0.045977  0.333333  0.183908   \n",
       "\n",
       "sector    Math_prob  Phys_prob  Chem_prob  \n",
       "last                                       \n",
       " chen      0.189189   0.189189   0.094595  \n",
       " huang     0.116279   0.186047   0.116279  \n",
       " kim       0.193548   0.064516   0.080645  \n",
       " li        0.226562   0.156250   0.101562  \n",
       " liu       0.277778   0.144444   0.077778  \n",
       " wang      0.211864   0.135593   0.093220  \n",
       " zhang     0.280374   0.158879   0.149533  \n",
       "anderson   0.093023   0.046512   0.046512  \n",
       "brown      0.084746   0.033898   0.016949  \n",
       "cohen      0.000000   0.043478   0.043478  \n",
       "smith      0.137931   0.080460   0.034483  "
      ]
     },
     "execution_count": 6,
     "metadata": {},
     "output_type": "execute_result"
    }
   ],
   "source": [
    "#We are interested in the last names found in the following sectors\n",
    "us_sectors_list = ['Econ', 'Hum', 'Hist-Ped-Psi', 'Soc', 'Bio', 'Math', 'Phys', 'Chem']\n",
    "\n",
    "#create sector df selecting only the sectors we are interested in looking at\n",
    "us_sector_df = us_df[us_df['sector'].isin(us_sectors_list)]\n",
    "#get the top 3 names in each sector\n",
    "#pivot the table and check the probability of a last name appearing in each sector\n",
    "us_final_sector_df, us_count_df = create_top3_new_df(us_sector_df, us_sectors_list)\n",
    "us_count_df"
   ]
  },
  {
   "cell_type": "code",
   "execution_count": 7,
   "id": "b68a7ec1",
   "metadata": {},
   "outputs": [
    {
     "data": {
      "text/plain": [
       "Bio             5423\n",
       "Soc             5144\n",
       "Math            3259\n",
       "Hum             3090\n",
       "Econ            2169\n",
       "Phys            2058\n",
       "Chem            1340\n",
       "Hist-Ped-Psi    1323\n",
       "Name: sector, dtype: int64"
      ]
     },
     "execution_count": 7,
     "metadata": {},
     "output_type": "execute_result"
    }
   ],
   "source": [
    "us_sector_df['sector'].value_counts()"
   ]
  },
  {
   "cell_type": "code",
   "execution_count": 8,
   "id": "b650d656",
   "metadata": {
    "scrolled": true
   },
   "outputs": [
    {
     "data": {
      "image/png": "[encoded data removed]",
      "text/plain": [
       "<Figure size 432x288 with 2 Axes>"
      ]
     },
     "metadata": {
      "needs_background": "light"
     },
     "output_type": "display_data"
    }
   ],
   "source": [
    "sns.heatmap(us_count_df[us_sectors_list])\n",
    "plt.show()"
   ]
  },
  {
   "cell_type": "code",
   "execution_count": 9,
   "id": "c54f4f7f",
   "metadata": {},
   "outputs": [
    {
     "data": {
      "image/png": "[encoded data removed]",
      "text/plain": [
       "<Figure size 432x288 with 1 Axes>"
      ]
     },
     "metadata": {
      "needs_background": "light"
     },
     "output_type": "display_data"
    }
   ],
   "source": [
    "#plot the original probability of last name found in a specific sector, together with the 100 randomizations\n",
    "plot_probabilities(' li', 'Bio', 'Bio_prob', us_sector_df, us_count_df, us_final_sector_df, 100)"
   ]
  },
  {
   "cell_type": "code",
   "execution_count": 10,
   "id": "7570d8b8",
   "metadata": {
    "scrolled": true
   },
   "outputs": [
    {
     "data": {
      "image/png": "[encoded data removed]",
      "text/plain": [
       "<Figure size 432x288 with 1 Axes>"
      ]
     },
     "metadata": {
      "needs_background": "light"
     },
     "output_type": "display_data"
    }
   ],
   "source": [
    "#plot the original probability of last name found in a specific sector, together with the 100 randomizations\n",
    "plot_probabilities('cohen', 'Math', 'Math_prob', us_sector_df, us_count_df, us_final_sector_df, 100)"
   ]
  },
  {
   "cell_type": "code",
   "execution_count": 11,
   "id": "4b8d3d38",
   "metadata": {},
   "outputs": [
    {
     "data": {
      "image/png": "[encoded data removed]",
      "text/plain": [
       "<Figure size 432x288 with 1 Axes>"
      ]
     },
     "metadata": {
      "needs_background": "light"
     },
     "output_type": "display_data"
    }
   ],
   "source": [
    "#plot the original probability of last name found in a specific sector, together with the 100 randomizations\n",
    "plot_probabilities(' wang', 'Hum', 'Hum_prob', us_sector_df, us_count_df, us_final_sector_df, 100)"
   ]
  },
  {
   "cell_type": "code",
   "execution_count": 12,
   "id": "0cc67fb7",
   "metadata": {},
   "outputs": [
    {
     "data": {
      "image/png": "[encoded data removed]",
      "text/plain": [
       "<Figure size 432x288 with 1 Axes>"
      ]
     },
     "metadata": {
      "needs_background": "light"
     },
     "output_type": "display_data"
    }
   ],
   "source": [
    "#plot the original probability of last name found in a specific sector, together with the 100 randomizations\n",
    "plot_probabilities('brown', 'Chem', 'Chem_prob', us_sector_df, us_count_df, us_final_sector_df, 100)"
   ]
  },
  {
   "cell_type": "markdown",
   "id": "3d307c77",
   "metadata": {},
   "source": [
    "When the name has a non-zero count for the sectors selected(i.e., the counts found in count_df is not zero), then the original probability is found within the probability distribution of the randomization. Whereas when the name has zero counts for a specific sector in the count_df table, then its not distributed randomly. Because if it was random, then that person should have been found in the data in the first place. When the name has 1 count for a specific sector, then the original probability is found in the corner of the probability distribution of the randomization, or outside the probability distribution (because the count is too small)."
   ]
  },
  {
   "cell_type": "markdown",
   "id": "0526e5cf",
   "metadata": {},
   "source": [
    "### Italy\n"
   ]
  },
  {
   "cell_type": "code",
   "execution_count": 13,
   "id": "28054c20",
   "metadata": {},
   "outputs": [
    {
     "data": {
      "text/html": [
       "<div>\n",
       "<style scoped>\n",
       "    .dataframe tbody tr th:only-of-type {\n",
       "        vertical-align: middle;\n",
       "    }\n",
       "\n",
       "    .dataframe tbody tr th {\n",
       "        vertical-align: top;\n",
       "    }\n",
       "\n",
       "    .dataframe thead th {\n",
       "        text-align: right;\n",
       "    }\n",
       "</style>\n",
       "<table border=\"1\" class=\"dataframe\">\n",
       "  <thead>\n",
       "    <tr style=\"text-align: right;\">\n",
       "      <th>sector</th>\n",
       "      <th>Bio</th>\n",
       "      <th>Chem</th>\n",
       "      <th>Econ</th>\n",
       "      <th>Hist-Ped-Psi</th>\n",
       "      <th>Hum</th>\n",
       "      <th>Math</th>\n",
       "      <th>Phys</th>\n",
       "      <th>Soc</th>\n",
       "      <th>sum</th>\n",
       "      <th>Econ_prob</th>\n",
       "      <th>Hum_prob</th>\n",
       "      <th>Hist-Ped-Psi_prob</th>\n",
       "      <th>Soc_prob</th>\n",
       "      <th>Bio_prob</th>\n",
       "      <th>Math_prob</th>\n",
       "      <th>Phys_prob</th>\n",
       "      <th>Chem_prob</th>\n",
       "    </tr>\n",
       "    <tr>\n",
       "      <th>last</th>\n",
       "      <th></th>\n",
       "      <th></th>\n",
       "      <th></th>\n",
       "      <th></th>\n",
       "      <th></th>\n",
       "      <th></th>\n",
       "      <th></th>\n",
       "      <th></th>\n",
       "      <th></th>\n",
       "      <th></th>\n",
       "      <th></th>\n",
       "      <th></th>\n",
       "      <th></th>\n",
       "      <th></th>\n",
       "      <th></th>\n",
       "      <th></th>\n",
       "      <th></th>\n",
       "    </tr>\n",
       "  </thead>\n",
       "  <tbody>\n",
       "    <tr>\n",
       "      <th>bianchi</th>\n",
       "      <td>10</td>\n",
       "      <td>5</td>\n",
       "      <td>11</td>\n",
       "      <td>12</td>\n",
       "      <td>9</td>\n",
       "      <td>4</td>\n",
       "      <td>3</td>\n",
       "      <td>1</td>\n",
       "      <td>55</td>\n",
       "      <td>0.200000</td>\n",
       "      <td>0.163636</td>\n",
       "      <td>0.218182</td>\n",
       "      <td>0.018182</td>\n",
       "      <td>0.181818</td>\n",
       "      <td>0.072727</td>\n",
       "      <td>0.054545</td>\n",
       "      <td>0.090909</td>\n",
       "    </tr>\n",
       "    <tr>\n",
       "      <th>colombo</th>\n",
       "      <td>10</td>\n",
       "      <td>4</td>\n",
       "      <td>7</td>\n",
       "      <td>4</td>\n",
       "      <td>7</td>\n",
       "      <td>4</td>\n",
       "      <td>1</td>\n",
       "      <td>9</td>\n",
       "      <td>46</td>\n",
       "      <td>0.152174</td>\n",
       "      <td>0.152174</td>\n",
       "      <td>0.086957</td>\n",
       "      <td>0.195652</td>\n",
       "      <td>0.217391</td>\n",
       "      <td>0.086957</td>\n",
       "      <td>0.021739</td>\n",
       "      <td>0.086957</td>\n",
       "    </tr>\n",
       "    <tr>\n",
       "      <th>ferrari</th>\n",
       "      <td>8</td>\n",
       "      <td>5</td>\n",
       "      <td>8</td>\n",
       "      <td>11</td>\n",
       "      <td>9</td>\n",
       "      <td>7</td>\n",
       "      <td>2</td>\n",
       "      <td>1</td>\n",
       "      <td>51</td>\n",
       "      <td>0.156863</td>\n",
       "      <td>0.176471</td>\n",
       "      <td>0.215686</td>\n",
       "      <td>0.019608</td>\n",
       "      <td>0.156863</td>\n",
       "      <td>0.137255</td>\n",
       "      <td>0.039216</td>\n",
       "      <td>0.098039</td>\n",
       "    </tr>\n",
       "    <tr>\n",
       "      <th>marchetti</th>\n",
       "      <td>5</td>\n",
       "      <td>6</td>\n",
       "      <td>5</td>\n",
       "      <td>5</td>\n",
       "      <td>3</td>\n",
       "      <td>1</td>\n",
       "      <td>1</td>\n",
       "      <td>2</td>\n",
       "      <td>28</td>\n",
       "      <td>0.178571</td>\n",
       "      <td>0.107143</td>\n",
       "      <td>0.178571</td>\n",
       "      <td>0.071429</td>\n",
       "      <td>0.178571</td>\n",
       "      <td>0.035714</td>\n",
       "      <td>0.035714</td>\n",
       "      <td>0.214286</td>\n",
       "    </tr>\n",
       "    <tr>\n",
       "      <th>ricci</th>\n",
       "      <td>6</td>\n",
       "      <td>5</td>\n",
       "      <td>3</td>\n",
       "      <td>3</td>\n",
       "      <td>6</td>\n",
       "      <td>4</td>\n",
       "      <td>5</td>\n",
       "      <td>1</td>\n",
       "      <td>33</td>\n",
       "      <td>0.090909</td>\n",
       "      <td>0.181818</td>\n",
       "      <td>0.090909</td>\n",
       "      <td>0.030303</td>\n",
       "      <td>0.181818</td>\n",
       "      <td>0.121212</td>\n",
       "      <td>0.151515</td>\n",
       "      <td>0.151515</td>\n",
       "    </tr>\n",
       "    <tr>\n",
       "      <th>romano</th>\n",
       "      <td>4</td>\n",
       "      <td>2</td>\n",
       "      <td>9</td>\n",
       "      <td>4</td>\n",
       "      <td>4</td>\n",
       "      <td>1</td>\n",
       "      <td>8</td>\n",
       "      <td>2</td>\n",
       "      <td>34</td>\n",
       "      <td>0.264706</td>\n",
       "      <td>0.117647</td>\n",
       "      <td>0.117647</td>\n",
       "      <td>0.058824</td>\n",
       "      <td>0.117647</td>\n",
       "      <td>0.029412</td>\n",
       "      <td>0.235294</td>\n",
       "      <td>0.058824</td>\n",
       "    </tr>\n",
       "    <tr>\n",
       "      <th>rossi</th>\n",
       "      <td>18</td>\n",
       "      <td>11</td>\n",
       "      <td>20</td>\n",
       "      <td>16</td>\n",
       "      <td>11</td>\n",
       "      <td>13</td>\n",
       "      <td>8</td>\n",
       "      <td>8</td>\n",
       "      <td>105</td>\n",
       "      <td>0.190476</td>\n",
       "      <td>0.104762</td>\n",
       "      <td>0.152381</td>\n",
       "      <td>0.076190</td>\n",
       "      <td>0.171429</td>\n",
       "      <td>0.123810</td>\n",
       "      <td>0.076190</td>\n",
       "      <td>0.104762</td>\n",
       "    </tr>\n",
       "    <tr>\n",
       "      <th>russo</th>\n",
       "      <td>17</td>\n",
       "      <td>5</td>\n",
       "      <td>14</td>\n",
       "      <td>13</td>\n",
       "      <td>11</td>\n",
       "      <td>9</td>\n",
       "      <td>4</td>\n",
       "      <td>5</td>\n",
       "      <td>78</td>\n",
       "      <td>0.179487</td>\n",
       "      <td>0.141026</td>\n",
       "      <td>0.166667</td>\n",
       "      <td>0.064103</td>\n",
       "      <td>0.217949</td>\n",
       "      <td>0.115385</td>\n",
       "      <td>0.051282</td>\n",
       "      <td>0.064103</td>\n",
       "    </tr>\n",
       "  </tbody>\n",
       "</table>\n",
       "</div>"
      ],
      "text/plain": [
       "sector     Bio  Chem  Econ  Hist-Ped-Psi  Hum  Math  Phys  Soc  sum  \\\n",
       "last                                                                  \n",
       "bianchi     10     5    11            12    9     4     3    1   55   \n",
       "colombo     10     4     7             4    7     4     1    9   46   \n",
       "ferrari      8     5     8            11    9     7     2    1   51   \n",
       "marchetti    5     6     5             5    3     1     1    2   28   \n",
       "ricci        6     5     3             3    6     4     5    1   33   \n",
       "romano       4     2     9             4    4     1     8    2   34   \n",
       "rossi       18    11    20            16   11    13     8    8  105   \n",
       "russo       17     5    14            13   11     9     4    5   78   \n",
       "\n",
       "sector     Econ_prob  Hum_prob  Hist-Ped-Psi_prob  Soc_prob  Bio_prob  \\\n",
       "last                                                                    \n",
       "bianchi     0.200000  0.163636           0.218182  0.018182  0.181818   \n",
       "colombo     0.152174  0.152174           0.086957  0.195652  0.217391   \n",
       "ferrari     0.156863  0.176471           0.215686  0.019608  0.156863   \n",
       "marchetti   0.178571  0.107143           0.178571  0.071429  0.178571   \n",
       "ricci       0.090909  0.181818           0.090909  0.030303  0.181818   \n",
       "romano      0.264706  0.117647           0.117647  0.058824  0.117647   \n",
       "rossi       0.190476  0.104762           0.152381  0.076190  0.171429   \n",
       "russo       0.179487  0.141026           0.166667  0.064103  0.217949   \n",
       "\n",
       "sector     Math_prob  Phys_prob  Chem_prob  \n",
       "last                                        \n",
       "bianchi     0.072727   0.054545   0.090909  \n",
       "colombo     0.086957   0.021739   0.086957  \n",
       "ferrari     0.137255   0.039216   0.098039  \n",
       "marchetti   0.035714   0.035714   0.214286  \n",
       "ricci       0.121212   0.151515   0.151515  \n",
       "romano      0.029412   0.235294   0.058824  \n",
       "rossi       0.123810   0.076190   0.104762  \n",
       "russo       0.115385   0.051282   0.064103  "
      ]
     },
     "execution_count": 13,
     "metadata": {},
     "output_type": "execute_result"
    }
   ],
   "source": [
    "#We are interested in the last names found in the following sectors\n",
    "italy_sectors_list = ['Econ', 'Hum', 'Hist-Ped-Psi', 'Soc', 'Bio', 'Math', 'Phys', 'Chem']\n",
    "\n",
    "#create sector df selecting only the sectors we are interested in looking at\n",
    "italy_sector_df = italy_df[italy_df['sector'].isin(italy_sectors_list)]\n",
    "#get the top 3 names in each sector\n",
    "#pivot the table and check the probability of a last name appearing in each sector\n",
    "italy_final_sector_df, italy_count_df = create_top3_new_df(italy_sector_df, italy_sectors_list)\n",
    "italy_count_df"
   ]
  },
  {
   "cell_type": "code",
   "execution_count": 14,
   "id": "b26dfbb4",
   "metadata": {
    "scrolled": true
   },
   "outputs": [
    {
     "data": {
      "text/plain": [
       "Hum             4762\n",
       "Econ            4669\n",
       "Bio             4619\n",
       "Hist-Ped-Psi    4248\n",
       "Math            2996\n",
       "Chem            2797\n",
       "Phys            2133\n",
       "Soc             1639\n",
       "Name: sector, dtype: int64"
      ]
     },
     "execution_count": 14,
     "metadata": {},
     "output_type": "execute_result"
    }
   ],
   "source": [
    "italy_sector_df['sector'].value_counts()"
   ]
  },
  {
   "cell_type": "code",
   "execution_count": 15,
   "id": "76759208",
   "metadata": {
    "scrolled": false
   },
   "outputs": [
    {
     "data": {
      "image/png": "[encoded data removed]",
      "text/plain": [
       "<Figure size 432x288 with 2 Axes>"
      ]
     },
     "metadata": {
      "needs_background": "light"
     },
     "output_type": "display_data"
    }
   ],
   "source": [
    "sns.heatmap(italy_count_df[italy_sectors_list])\n",
    "plt.show()"
   ]
  },
  {
   "cell_type": "code",
   "execution_count": 16,
   "id": "c3779555",
   "metadata": {
    "scrolled": false
   },
   "outputs": [
    {
     "data": {
      "image/png": "[encoded data removed]",
      "text/plain": [
       "<Figure size 432x288 with 1 Axes>"
      ]
     },
     "metadata": {
      "needs_background": "light"
     },
     "output_type": "display_data"
    }
   ],
   "source": [
    "#plot the original probability of last name found in a specific sector, together with the 100 randomizations\n",
    "plot_probabilities('rossi', 'Bio', 'Bio_prob', italy_sector_df, italy_count_df, italy_final_sector_df, 100)"
   ]
  },
  {
   "cell_type": "code",
   "execution_count": 17,
   "id": "16f649d7",
   "metadata": {
    "scrolled": true
   },
   "outputs": [
    {
     "data": {
      "image/png": "[encoded data removed]",
      "text/plain": [
       "<Figure size 432x288 with 1 Axes>"
      ]
     },
     "metadata": {
      "needs_background": "light"
     },
     "output_type": "display_data"
    }
   ],
   "source": [
    "plot_probabilities('ferrari', 'Soc', 'Soc_prob', italy_sector_df, italy_count_df, italy_final_sector_df, 100)"
   ]
  },
  {
   "cell_type": "code",
   "execution_count": 18,
   "id": "d0cf805b",
   "metadata": {},
   "outputs": [
    {
     "data": {
      "image/png": "[encoded data removed]",
      "text/plain": [
       "<Figure size 432x288 with 1 Axes>"
      ]
     },
     "metadata": {
      "needs_background": "light"
     },
     "output_type": "display_data"
    }
   ],
   "source": [
    "#plot the original probability of last name found in a specific sector, together with the 100 randomizations\n",
    "plot_probabilities('marchetti', 'Math', 'Math_prob', italy_sector_df, italy_count_df, italy_final_sector_df, 100)"
   ]
  },
  {
   "cell_type": "markdown",
   "id": "a1160f9b",
   "metadata": {},
   "source": [
    "### France"
   ]
  },
  {
   "cell_type": "code",
   "execution_count": 19,
   "id": "18cff688",
   "metadata": {
    "scrolled": true
   },
   "outputs": [
    {
     "data": {
      "text/html": [
       "<div>\n",
       "<style scoped>\n",
       "    .dataframe tbody tr th:only-of-type {\n",
       "        vertical-align: middle;\n",
       "    }\n",
       "\n",
       "    .dataframe tbody tr th {\n",
       "        vertical-align: top;\n",
       "    }\n",
       "\n",
       "    .dataframe thead th {\n",
       "        text-align: right;\n",
       "    }\n",
       "</style>\n",
       "<table border=\"1\" class=\"dataframe\">\n",
       "  <thead>\n",
       "    <tr style=\"text-align: right;\">\n",
       "      <th>sector</th>\n",
       "      <th>MATH</th>\n",
       "      <th>PHY</th>\n",
       "      <th>SC</th>\n",
       "      <th>SHS</th>\n",
       "      <th>sum</th>\n",
       "      <th>SHS_prob</th>\n",
       "      <th>PHY_prob</th>\n",
       "      <th>MATH_prob</th>\n",
       "      <th>SC_prob</th>\n",
       "    </tr>\n",
       "    <tr>\n",
       "      <th>last</th>\n",
       "      <th></th>\n",
       "      <th></th>\n",
       "      <th></th>\n",
       "      <th></th>\n",
       "      <th></th>\n",
       "      <th></th>\n",
       "      <th></th>\n",
       "      <th></th>\n",
       "      <th></th>\n",
       "    </tr>\n",
       "  </thead>\n",
       "  <tbody>\n",
       "    <tr>\n",
       "      <th>BERNARD</th>\n",
       "      <td>3.0</td>\n",
       "      <td>5.0</td>\n",
       "      <td>6.0</td>\n",
       "      <td>10.0</td>\n",
       "      <td>24.0</td>\n",
       "      <td>0.416667</td>\n",
       "      <td>0.208333</td>\n",
       "      <td>0.125000</td>\n",
       "      <td>0.250000</td>\n",
       "    </tr>\n",
       "    <tr>\n",
       "      <th>BERTRAND</th>\n",
       "      <td>7.0</td>\n",
       "      <td>0.0</td>\n",
       "      <td>9.0</td>\n",
       "      <td>18.0</td>\n",
       "      <td>34.0</td>\n",
       "      <td>0.529412</td>\n",
       "      <td>0.000000</td>\n",
       "      <td>0.205882</td>\n",
       "      <td>0.264706</td>\n",
       "    </tr>\n",
       "    <tr>\n",
       "      <th>BONNET</th>\n",
       "      <td>1.0</td>\n",
       "      <td>2.0</td>\n",
       "      <td>10.0</td>\n",
       "      <td>14.0</td>\n",
       "      <td>27.0</td>\n",
       "      <td>0.518519</td>\n",
       "      <td>0.074074</td>\n",
       "      <td>0.037037</td>\n",
       "      <td>0.370370</td>\n",
       "    </tr>\n",
       "    <tr>\n",
       "      <th>DURAND</th>\n",
       "      <td>6.0</td>\n",
       "      <td>1.0</td>\n",
       "      <td>9.0</td>\n",
       "      <td>16.0</td>\n",
       "      <td>32.0</td>\n",
       "      <td>0.500000</td>\n",
       "      <td>0.031250</td>\n",
       "      <td>0.187500</td>\n",
       "      <td>0.281250</td>\n",
       "    </tr>\n",
       "    <tr>\n",
       "      <th>GIRARD</th>\n",
       "      <td>5.0</td>\n",
       "      <td>5.0</td>\n",
       "      <td>5.0</td>\n",
       "      <td>3.0</td>\n",
       "      <td>18.0</td>\n",
       "      <td>0.166667</td>\n",
       "      <td>0.277778</td>\n",
       "      <td>0.277778</td>\n",
       "      <td>0.277778</td>\n",
       "    </tr>\n",
       "    <tr>\n",
       "      <th>MARTIN</th>\n",
       "      <td>4.0</td>\n",
       "      <td>5.0</td>\n",
       "      <td>12.0</td>\n",
       "      <td>26.0</td>\n",
       "      <td>47.0</td>\n",
       "      <td>0.553191</td>\n",
       "      <td>0.106383</td>\n",
       "      <td>0.085106</td>\n",
       "      <td>0.255319</td>\n",
       "    </tr>\n",
       "    <tr>\n",
       "      <th>MICHEL</th>\n",
       "      <td>6.0</td>\n",
       "      <td>2.0</td>\n",
       "      <td>7.0</td>\n",
       "      <td>14.0</td>\n",
       "      <td>29.0</td>\n",
       "      <td>0.482759</td>\n",
       "      <td>0.068966</td>\n",
       "      <td>0.206897</td>\n",
       "      <td>0.241379</td>\n",
       "    </tr>\n",
       "    <tr>\n",
       "      <th>THOMAS</th>\n",
       "      <td>2.0</td>\n",
       "      <td>2.0</td>\n",
       "      <td>10.0</td>\n",
       "      <td>13.0</td>\n",
       "      <td>27.0</td>\n",
       "      <td>0.481481</td>\n",
       "      <td>0.074074</td>\n",
       "      <td>0.074074</td>\n",
       "      <td>0.370370</td>\n",
       "    </tr>\n",
       "  </tbody>\n",
       "</table>\n",
       "</div>"
      ],
      "text/plain": [
       "sector    MATH  PHY    SC   SHS   sum  SHS_prob  PHY_prob  MATH_prob   SC_prob\n",
       "last                                                                          \n",
       "BERNARD    3.0  5.0   6.0  10.0  24.0  0.416667  0.208333   0.125000  0.250000\n",
       "BERTRAND   7.0  0.0   9.0  18.0  34.0  0.529412  0.000000   0.205882  0.264706\n",
       "BONNET     1.0  2.0  10.0  14.0  27.0  0.518519  0.074074   0.037037  0.370370\n",
       "DURAND     6.0  1.0   9.0  16.0  32.0  0.500000  0.031250   0.187500  0.281250\n",
       "GIRARD     5.0  5.0   5.0   3.0  18.0  0.166667  0.277778   0.277778  0.277778\n",
       "MARTIN     4.0  5.0  12.0  26.0  47.0  0.553191  0.106383   0.085106  0.255319\n",
       "MICHEL     6.0  2.0   7.0  14.0  29.0  0.482759  0.068966   0.206897  0.241379\n",
       "THOMAS     2.0  2.0  10.0  13.0  27.0  0.481481  0.074074   0.074074  0.370370"
      ]
     },
     "execution_count": 19,
     "metadata": {},
     "output_type": "execute_result"
    }
   ],
   "source": [
    "#We are interested in the last names found in the following sectors\n",
    "france_sectors_list = ['SHS', 'PHY', 'MATH', 'SC']\n",
    "\n",
    "#create sector df selecting only the sectors we are interested in looking at\n",
    "france_sector_df = france_df[france_df['sector'].isin(france_sectors_list)]\n",
    "#get the top 3 names in each sector\n",
    "#pivot the table and check the probability of a last name appearing in each sector\n",
    "france_final_sector_df, france_count_df = create_top3_new_df(france_sector_df, france_sectors_list)\n",
    "france_count_df"
   ]
  },
  {
   "cell_type": "code",
   "execution_count": 20,
   "id": "ec7d1fa4",
   "metadata": {
    "scrolled": true
   },
   "outputs": [
    {
     "data": {
      "text/plain": [
       "SHS     10129\n",
       "SC       5273\n",
       "MATH     3375\n",
       "PHY      2962\n",
       "Name: sector, dtype: int64"
      ]
     },
     "execution_count": 20,
     "metadata": {},
     "output_type": "execute_result"
    }
   ],
   "source": [
    "france_sector_df['sector'].value_counts()"
   ]
  },
  {
   "cell_type": "code",
   "execution_count": 21,
   "id": "36559905",
   "metadata": {
    "scrolled": false
   },
   "outputs": [
    {
     "data": {
      "image/png": "[encoded data removed]",
      "text/plain": [
       "<Figure size 432x288 with 2 Axes>"
      ]
     },
     "metadata": {
      "needs_background": "light"
     },
     "output_type": "display_data"
    }
   ],
   "source": [
    "sns.heatmap(france_count_df[france_sectors_list])\n",
    "plt.show()"
   ]
  },
  {
   "cell_type": "code",
   "execution_count": 22,
   "id": "c531ade1",
   "metadata": {
    "scrolled": true
   },
   "outputs": [
    {
     "data": {
      "image/png": "[encoded data removed]",
      "text/plain": [
       "<Figure size 432x288 with 1 Axes>"
      ]
     },
     "metadata": {
      "needs_background": "light"
     },
     "output_type": "display_data"
    }
   ],
   "source": [
    "#plot the original probability of last name found in a specific sector, together with the 100 randomizations\n",
    "plot_probabilities('MARTIN', 'SHS', 'SHS_prob', france_sector_df, france_count_df, france_final_sector_df, 100)"
   ]
  },
  {
   "cell_type": "code",
   "execution_count": 23,
   "id": "ca4ac17a",
   "metadata": {},
   "outputs": [
    {
     "data": {
      "image/png": "[encoded data removed]",
      "text/plain": [
       "<Figure size 432x288 with 1 Axes>"
      ]
     },
     "metadata": {
      "needs_background": "light"
     },
     "output_type": "display_data"
    }
   ],
   "source": [
    "#plot the original probability of last name found in a specific sector, together with the 100 randomizations\n",
    "plot_probabilities('BERTRAND', 'PHY', 'PHY_prob', france_sector_df, france_count_df, france_final_sector_df, 100)"
   ]
  },
  {
   "cell_type": "code",
   "execution_count": 24,
   "id": "db6c0e21",
   "metadata": {},
   "outputs": [
    {
     "data": {
      "image/png": "[encoded data removed]",
      "text/plain": [
       "<Figure size 432x288 with 1 Axes>"
      ]
     },
     "metadata": {
      "needs_background": "light"
     },
     "output_type": "display_data"
    }
   ],
   "source": [
    "#plot the original probability of last name found in a specific sector, together with the 100 randomizations\n",
    "plot_probabilities('DURAND', 'PHY', 'PHY_prob', france_sector_df, france_count_df, france_final_sector_df, 100)"
   ]
  },
  {
   "cell_type": "markdown",
   "id": "54c3735c",
   "metadata": {},
   "source": [
    "The same behavior holds for Italy and France"
   ]
  },
  {
   "cell_type": "markdown",
   "id": "bd458716",
   "metadata": {},
   "source": [
    "Notes:\n",
    "\n",
    "1. Given the different features in the data, we have decided to look at how the names are distributed in the different sectors. But because it is too many, we have only restricted to specific groups. During our preliminary analysis, we have only chosen the Natural Sciences (Math, Phys, etc) using US data, and we found out that the top 3 names are all Chinese. When we decided to look at the Social Sciences (Econ, Hum, etc), we found that the names are completely different. And so we have decided to combine these, by using the sectors found in Social Sciences and Natural Sciences. Also, the number of counts of the names found in Natural Sciences and Social Sciences are comparable.\n",
    "2. Our original hypothesis is, if your name is Chinese, then you just go to the Natural Sciences, but the result shows that it doesn't behave like that. \n",
    "3. Since we only looked at 1 feature of the data, i.e., the sector that they belong to, it might not be enough to explain how the last names of the people are distributed."
   ]
  },
  {
   "cell_type": "code",
   "execution_count": null,
   "id": "053e8dc8",
   "metadata": {},
   "outputs": [],
   "source": []
  }
 ],
 "metadata": {
  "kernelspec": {
   "display_name": "Python 3",
   "language": "python",
   "name": "python3"
  },
  "language_info": {
   "codemirror_mode": {
    "name": "ipython",
    "version": 3
   },
   "file_extension": ".py",
   "mimetype": "text/x-python",
   "name": "python",
   "nbconvert_exporter": "python",
   "pygments_lexer": "ipython3",
   "version": "3.8.8"
  }
 },
 "nbformat": 4,
 "nbformat_minor": 5
}
