{
 "cells": [
  {
   "cell_type": "code",
   "execution_count": 1,
   "id": "aa491162-ca88-4d08-af4f-18f4d14aa76c",
   "metadata": {},
   "outputs": [],
   "source": [
    "import numpy as np"
   ]
  },
  {
   "cell_type": "code",
   "execution_count": 36,
   "id": "5969560a-b554-4ef6-8f69-f2ea478deacd",
   "metadata": {},
   "outputs": [],
   "source": [
    "a = np.random.uniform(0,1, 20)"
   ]
  },
  {
   "cell_type": "code",
   "execution_count": 37,
   "id": "ffaaaae5-f6ba-4379-99e1-9689291657bd",
   "metadata": {},
   "outputs": [],
   "source": [
    "aa = np.round(a, 1)"
   ]
  },
  {
   "cell_type": "code",
   "execution_count": 38,
   "id": "402355cd-8e4e-4b90-ac95-53c691126de0",
   "metadata": {},
   "outputs": [],
   "source": [
    "b = (aa/sum(aa))*100"
   ]
  },
  {
   "cell_type": "code",
   "execution_count": 39,
   "id": "78ada69b-ce60-4e86-b173-aaecf6482a6a",
   "metadata": {},
   "outputs": [],
   "source": [
    "bb = np.round(b)"
   ]
  },
  {
   "cell_type": "code",
   "execution_count": 40,
   "id": "fa13af52-b8a1-475d-abc7-d77b6c94c91c",
   "metadata": {},
   "outputs": [
    {
     "data": {
      "text/plain": [
       "105.0"
      ]
     },
     "execution_count": 40,
     "metadata": {},
     "output_type": "execute_result"
    }
   ],
   "source": [
    "bb.sum()"
   ]
  },
  {
   "cell_type": "code",
   "execution_count": 41,
   "id": "cb401166-74eb-47a6-9b3a-da868782d9b0",
   "metadata": {},
   "outputs": [
    {
     "data": {
      "text/plain": [
       "array([ 3.,  2.,  3.,  8.,  5.,  4., 10.,  4., 10.,  9.,  0.,  6.,  5.,\n",
       "        3.,  8.,  2.,  9.,  2.,  7.,  5.])"
      ]
     },
     "execution_count": 41,
     "metadata": {},
     "output_type": "execute_result"
    }
   ],
   "source": [
    "bb"
   ]
  },
  {
   "cell_type": "code",
   "execution_count": 42,
   "id": "30844585-c91c-44e5-88e7-801bd84fcbcd",
   "metadata": {},
   "outputs": [
    {
     "name": "stdout",
     "output_type": "stream",
     "text": [
      "[ 5  6  3  4  6  3 10  3  6  5  4  5  7  5  6  3  7  5  4  3]\n"
     ]
    }
   ],
   "source": [
    "\n",
    "_sum = 100\n",
    "n = 20\n",
    "rnd_array = np.random.multinomial(_sum, np.ones(n)/n, size=1)[0]\n",
    "print(rnd_array)"
   ]
  },
  {
   "cell_type": "code",
   "execution_count": 43,
   "id": "d2f05880-6c02-406a-9b9e-822842a92257",
   "metadata": {},
   "outputs": [
    {
     "data": {
      "text/plain": [
       "100"
      ]
     },
     "execution_count": 43,
     "metadata": {},
     "output_type": "execute_result"
    }
   ],
   "source": [
    "rnd_array.sum()"
   ]
  },
  {
   "cell_type": "code",
   "execution_count": null,
   "id": "2e36cd60-f640-4460-919d-f8d48a317e0c",
   "metadata": {},
   "outputs": [],
   "source": []
  }
 ],
 "metadata": {
  "kernelspec": {
   "display_name": "Python 3",
   "language": "python",
   "name": "python3"
  },
  "language_info": {
   "codemirror_mode": {
    "name": "ipython",
    "version": 3
   },
   "file_extension": ".py",
   "mimetype": "text/x-python",
   "name": "python",
   "nbconvert_exporter": "python",
   "pygments_lexer": "ipython3",
   "version": "3.8.8"
  }
 },
 "nbformat": 4,
 "nbformat_minor": 5
}
