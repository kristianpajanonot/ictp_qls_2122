{
 "cells": [
  {
   "cell_type": "code",
   "execution_count": 4,
   "id": "0457be69-3409-4571-9725-3ac142ec480c",
   "metadata": {},
   "outputs": [],
   "source": [
    "import numpy as np\n",
    "import matplotlib.pyplot as plt"
   ]
  },
  {
   "cell_type": "code",
   "execution_count": 62,
   "id": "2f684240-10a9-4097-8977-ce8c032bbc74",
   "metadata": {},
   "outputs": [
    {
     "data": {
      "text/plain": [
       "0.056532242417648065"
      ]
     },
     "execution_count": 62,
     "metadata": {},
     "output_type": "execute_result"
    }
   ],
   "source": [
    "z(0.99,300)"
   ]
  },
  {
   "cell_type": "code",
   "execution_count": 63,
   "id": "e08d66bd-58ed-48c4-8360-b57509905c4d",
   "metadata": {},
   "outputs": [
    {
     "data": {
      "text/plain": [
       "0.056001534354847386"
      ]
     },
     "execution_count": 63,
     "metadata": {},
     "output_type": "execute_result"
    }
   ],
   "source": [
    "y(0.99)"
   ]
  },
  {
   "cell_type": "code",
   "execution_count": 16,
   "id": "88fe3ca5-a373-4ec8-a44b-0ad1352c5a84",
   "metadata": {},
   "outputs": [],
   "source": [
    "def y(p):\n",
    "    return -p*np.log(p) - (1-p)*np.log(1-p)"
   ]
  },
  {
   "cell_type": "code",
   "execution_count": 61,
   "id": "d7be5149-623c-45a1-8593-eb9fc9fef228",
   "metadata": {},
   "outputs": [],
   "source": [
    "def y(p):\n",
    "    return -p*np.log(p) - (1-p)*np.log(1-p)\n",
    "\n",
    "def z(p,n):\n",
    "    return -((1-p)/2)*np.log((1-p)/n) - ((1+p)/2)*np.log((1+p)/2)"
   ]
  },
  {
   "cell_type": "code",
   "execution_count": 50,
   "id": "ad9170cb-0eb4-41ee-820f-69ea884af256",
   "metadata": {},
   "outputs": [],
   "source": [
    "y_list = []\n",
    "for i in np.linspace(0.1,0.99,10):\n",
    "    func_y = y(i)\n",
    "    y_list.append(func_y)"
   ]
  },
  {
   "cell_type": "code",
   "execution_count": 51,
   "id": "626e869e-9f8b-4848-a805-aceb4152193e",
   "metadata": {},
   "outputs": [],
   "source": [
    "\n",
    "z_list = []\n",
    "for j in np.linspace(1,300,10): \n",
    "    z2_list = []\n",
    "    for i in np.linspace(0.1,0.99,10):\n",
    "        func_z = z(i,j)\n",
    "        z2_list.append(func_z)\n",
    "    z_list.append(z2_list)"
   ]
  },
  {
   "cell_type": "code",
   "execution_count": 52,
   "id": "2dee9310-7ddc-4159-9061-88382dcccb02",
   "metadata": {},
   "outputs": [
    {
     "data": {
      "text/plain": [
       "array([  1.        ,  16.73684211,  32.47368421,  48.21052632,\n",
       "        63.94736842,  79.68421053,  95.42105263, 111.15789474,\n",
       "       126.89473684, 142.63157895, 158.36842105, 174.10526316,\n",
       "       189.84210526, 205.57894737, 221.31578947, 237.05263158,\n",
       "       252.78947368, 268.52631579, 284.26315789, 300.        ])"
      ]
     },
     "execution_count": 52,
     "metadata": {},
     "output_type": "execute_result"
    }
   ],
   "source": [
    "np.linspace(1,300,20)"
   ]
  },
  {
   "cell_type": "code",
   "execution_count": 54,
   "id": "5bfa01d8-72dd-4d8d-9d7b-19b61f522cc8",
   "metadata": {},
   "outputs": [
    {
     "data": {
      "image/png": "[encoded data removed]",
      "text/plain": [
       "<Figure size 432x288 with 1 Axes>"
      ]
     },
     "metadata": {
      "needs_background": "light"
     },
     "output_type": "display_data"
    }
   ],
   "source": [
    "x = np.linspace(0.1,0.99,10)\n",
    "plt.plot(x,y_list, label = 'y')\n",
    "plt.plot(x,z_list[0], label = 'z, n = 1')\n",
    "plt.plot(x,z_list[1], label = 'z, n = 17')\n",
    "plt.plot(x,z_list[2], label = 'z, n = 32')\n",
    "plt.plot(x,z_list[3], label = 'z, n = 48')\n",
    "plt.show()"
   ]
  },
  {
   "cell_type": "code",
   "execution_count": 55,
   "id": "74194085-482f-4ff8-b4ce-01afb5c3b049",
   "metadata": {},
   "outputs": [
    {
     "data": {
      "text/plain": [
       "array([0.1       , 0.19888889, 0.29777778, 0.39666667, 0.49555556,\n",
       "       0.59444444, 0.69333333, 0.79222222, 0.89111111, 0.99      ])"
      ]
     },
     "execution_count": 55,
     "metadata": {},
     "output_type": "execute_result"
    }
   ],
   "source": [
    "x"
   ]
  },
  {
   "cell_type": "code",
   "execution_count": null,
   "id": "a364aabf-b86c-462a-a87f-f6614598879c",
   "metadata": {},
   "outputs": [],
   "source": []
  }
 ],
 "metadata": {
  "kernelspec": {
   "display_name": "Python 3",
   "language": "python",
   "name": "python3"
  },
  "language_info": {
   "codemirror_mode": {
    "name": "ipython",
    "version": 3
   },
   "file_extension": ".py",
   "mimetype": "text/x-python",
   "name": "python",
   "nbconvert_exporter": "python",
   "pygments_lexer": "ipython3",
   "version": "3.8.8"
  }
 },
 "nbformat": 4,
 "nbformat_minor": 5
}
