{
 "cells": [
  {
   "cell_type": "markdown",
   "metadata": {},
   "source": [
    "## Dueling Agents in Games\n",
    "\n",
    "We consider now the framework of Game Theory, which studies the strategic interactions between players.\n",
    "Instead of our usual environments, we will use _normal-form games_ between (in our particular case) two players.\n",
    "\n",
    "The game is defined by the action set of the two players:  $\\mathcal{A}_1$ and $\\mathcal{A}_2$, and by the payoff function $\\mathbf{u}$, which associates the joint actions of the two players to the payoffs (rewards) of each players.\n",
    "Players select their actions simultaneously, without knowing the selection of the other player, and the rewards are calculated.\n",
    "\n",
    "When the number of actions and players is small it is convenient to write payoff functions as _matrices_.\n",
    "\n",
    "$$\n",
    "\\begin{aligned}\n",
    "& \\text {2P, 2A payoff matrix }\\\\\n",
    "&\\begin{array}{cccc}\n",
    "\\hline \\hline  &  &  \\text{Player 2} \\\\\n",
    "\\hline  &  & A  & B \\\\\n",
    "\\text{Player 1} & A & (R_{AA}^1, R_{AA}^2) & (R_{AB}^1, R_{AB}^2) \\\\\n",
    " & B & (R_{BA}^1, R_{BA}^2) & (R_{BB}^1, R_{BB}^2) \\\\\n",
    "\\hline\n",
    "\\end{array}\n",
    "\\end{aligned}\n",
    "$$\n",
    "\n",
    "So, if player $1$ plays action $A$, and player $2$ plays action $B$, they receive $R_{AB}^1$ and $R_{AB}^2$ respectively.\n",
    "Depending on the matrices, the game can be, for example:\n",
    "\n",
    "- \"simmetric\" (if $R_{XY}^1 = R_{YX}^2$ for any action tuple $X,Y$)\n",
    "- zero-sum (if $R_{XY}^1 + R_{XY}^2 = 0$ for any action tuple $X,Y$)\n",
    "- ...\n",
    "\n",
    "As in the case of simple bandits, there is no \"dynamics\": actions do not change the state of the game (i.e. the payoff matrix).\n",
    "However, even if there is no real dynamic, the system - as perceived by one player - is changing all the time! Why?"
   ]
  },
  {
   "cell_type": "markdown",
   "metadata": {},
   "source": [
    "### \"Strategy\"\n",
    "\n",
    "The strategy of any player (agent, in RL terms) is defined by the probability to select the different actions (policy, in RL terms). In the dueling setup for MultiAgents, two players play game after game one versus the other, and change their strategy in response to the actions selected by the other player."
   ]
  },
  {
   "cell_type": "markdown",
   "metadata": {},
   "source": [
    "### Rock-Paper-Scissors (RPS)\n",
    "\n",
    "There is no real need to create an entire class: the game is defined only by the payoff matrix!\n",
    "Let's create the payoff matrix of the rock-paper-scissors game.\n",
    "\n",
    "Reminder: it is a child game which is \n",
    "- zero-sum (at all times either one player wins (r=+1) and the other loses (r=-1), or both draw (r=0). \n",
    "- Rock beats Scissors (1 v -1), Scissors beats Paper (1 v -1), Paper beats Rock (1 v -1). If two players choose the same, it is a tie (0 v 0)."
   ]
  },
  {
   "cell_type": "code",
   "execution_count": 1,
   "metadata": {},
   "outputs": [
    {
     "name": "stdout",
     "output_type": "stream",
     "text": [
      "[[[ 0. -1.  1.]\n",
      "  [ 1.  0. -1.]\n",
      "  [-1.  1.  0.]]\n",
      "\n",
      " [[-0.  1. -1.]\n",
      "  [-1. -0.  1.]\n",
      "  [ 1. -1. -0.]]]\n"
     ]
    }
   ],
   "source": [
    "# Create a payoff matrix for the game of Rock Paper Scissors!\n",
    "import matplotlib.pyplot as plt\n",
    "import numpy as np\n",
    "\n",
    "Payoff = np.zeros((2,3,3))\n",
    "#actions are R P S\n",
    "\n",
    "Payoff[0,:,:] = np.array([[0,-1,1],\n",
    "                         [1,0,-1],\n",
    "                         [-1,1,0]])\n",
    "\n",
    "Payoff[1,:,:] = - Payoff[0,:,:]\n",
    "\n",
    "print(Payoff)"
   ]
  },
  {
   "cell_type": "markdown",
   "metadata": {},
   "source": [
    "#### Visualize a policy for RPS\n",
    "\n",
    "What is \"a strategy\" in this game? How can we visualize it?\n",
    "We have prob(Rock), prob(Paper) and prob(Scissors). However, only two are independent, since clearly one can be written in terms of the other two prob(Scissors) = 1 - prob(Rock) - prob(Paper).\n",
    "\n",
    "In $3D$ therefore we can plot all possible strategies as a \"triangle\", where each point correspond to a specific strategy and the corners are the \"pure\" strategy (i.e. 100% of doing one action).\n",
    "\n",
    "(The space in $\\mathcal{R}^d$ which correspond to all possible probabilities is called a simplex $\\Delta^d$).\n"
   ]
  },
  {
   "cell_type": "code",
   "execution_count": 1,
   "metadata": {},
   "outputs": [
    {
     "ename": "NameError",
     "evalue": "name 'plt' is not defined",
     "output_type": "error",
     "traceback": [
      "\u001b[1;31m---------------------------------------------------------------------------\u001b[0m",
      "\u001b[1;31mNameError\u001b[0m                                 Traceback (most recent call last)",
      "\u001b[1;32m<ipython-input-1-22a8980d9ecd>\u001b[0m in \u001b[0;36m<module>\u001b[1;34m\u001b[0m\n\u001b[0;32m      1\u001b[0m \u001b[1;31m# How to plot policies?\u001b[0m\u001b[1;33m\u001b[0m\u001b[1;33m\u001b[0m\u001b[1;33m\u001b[0m\u001b[0m\n\u001b[0;32m      2\u001b[0m \u001b[1;33m\u001b[0m\u001b[0m\n\u001b[1;32m----> 3\u001b[1;33m \u001b[0mplt\u001b[0m\u001b[1;33m.\u001b[0m\u001b[0mtitle\u001b[0m\u001b[1;33m(\u001b[0m\u001b[1;34m'Symplex in 3D'\u001b[0m\u001b[1;33m)\u001b[0m\u001b[1;33m\u001b[0m\u001b[1;33m\u001b[0m\u001b[0m\n\u001b[0m\u001b[0;32m      4\u001b[0m \u001b[1;33m\u001b[0m\u001b[0m\n\u001b[0;32m      5\u001b[0m \u001b[0mplt\u001b[0m\u001b[1;33m.\u001b[0m\u001b[0mxlim\u001b[0m\u001b[1;33m(\u001b[0m\u001b[1;33m-\u001b[0m\u001b[1;36m0.6\u001b[0m\u001b[1;33m,\u001b[0m\u001b[1;36m0.6\u001b[0m\u001b[1;33m)\u001b[0m\u001b[1;33m\u001b[0m\u001b[1;33m\u001b[0m\u001b[0m\n",
      "\u001b[1;31mNameError\u001b[0m: name 'plt' is not defined"
     ]
    }
   ],
   "source": [
    "# How to plot policies?\n",
    "\n",
    "plt.title('Symplex in 3D')\n",
    "\n",
    "plt.xlim(-0.6,0.6)\n",
    "plt.ylim(-0.1,np.sqrt(3)/2+0.1)\n",
    "\n",
    "plt.tick_params(\n",
    "    axis='both',          # changes apply to the x-axis\n",
    "    left=False,\n",
    "    right=False,\n",
    "    bottom=False,      # ticks along the bottom edge are off\n",
    "    top=False,         # ticks along the top edge are off\n",
    "    labelleft=False, # labels along the bottom edge are off\n",
    "    labelbottom=False) # labels along the bottom edge are off\n",
    "\n",
    "plt.text(-0.02, np.sqrt(3)/2+0.02,'S')\n",
    "plt.text(-0.52, -0.05,'R')\n",
    "plt.text(0.48, -0.05,'P')\n",
    "plt.gca().set_aspect('equal', adjustable='box')\n",
    "plt.plot([-0.5, 0.5, 0, -0.5], [0,0,np.sqrt(3)/2,0])\n",
    "\n",
    "# What about a single policy?\n",
    "#    P(R), P(P), P(S)\n",
    "pi = [0.2,  0.3, 0.5]\n",
    "\n",
    "# This policy maps to a (x,y), such that:\n",
    "# x = (P(P) - P(R)) / 2\n",
    "# y = P(S)\n",
    "pi_projected = ((pi[1] - pi[0])/2 , pi[2] * np.sqrt(3)/2)\n",
    "\n",
    "plt.text(*pi_projected, 'One single policy')\n",
    "\n",
    "plt.scatter(*pi_projected)"
   ]
  },
  {
   "cell_type": "code",
   "execution_count": 100,
   "metadata": {},
   "outputs": [],
   "source": [
    "# Utility to plot trajectories\n",
    "def plot_traj(trajs, labels):\n",
    "\n",
    "    proj_trajs = []\n",
    "    for traj in trajs:\n",
    "        x_proj, y_proj = project_pi(traj)\n",
    "        proj_trajs.append([x_proj, y_proj])\n",
    "        \n",
    "    plt.title('Trajectory of policies')\n",
    "\n",
    "    ylim = -0.1\n",
    "    if labels:\n",
    "        ylim -= 0.1*len(labels)\n",
    "    \n",
    "    plt.xlim(-0.6,0.6)\n",
    "    plt.ylim(ylim,np.sqrt(3)/2+0.1)\n",
    "\n",
    "    plt.tick_params(\n",
    "        axis='both',          # changes apply to the x-axis\n",
    "        left=False,\n",
    "        right=False,\n",
    "        bottom=False,      # ticks along the bottom edge are off\n",
    "        top=False,         # ticks along the top edge are off\n",
    "        labelleft=False, # labels along the bottom edge are off\n",
    "        labelbottom=False) # labels along the bottom edge are off\n",
    "\n",
    "    plt.text(-0.02, np.sqrt(3)/2+0.02,'S')\n",
    "    plt.text(-0.52, -0.05,'R')\n",
    "    plt.text(0.48, -0.05,'P')\n",
    "    plt.gca().set_aspect('equal', adjustable='box')\n",
    "    plt.plot([-0.5, 0.5, 0, -0.5], [0,0,np.sqrt(3)/2,0])\n",
    "\n",
    "    if labels:\n",
    "        for proj_traj, label in zip(proj_trajs, labels):\n",
    "            plt.plot(proj_traj[0], proj_traj[1], label=label)\n",
    "            plt.scatter(proj_traj[0][-1], proj_traj[1][-1])\n",
    "        plt.legend(loc='lower left')\n",
    "    else:\n",
    "        for proj_traj in proj_trajs:\n",
    "            plt.plot(proj_traj[0], proj_traj[1])\n",
    "            plt.scatter(proj_traj[0][-1], proj_traj[1][-1])\n",
    "        "
   ]
  },
  {
   "cell_type": "code",
   "execution_count": 94,
   "metadata": {},
   "outputs": [],
   "source": [
    "# Here we go from a trajectory for RockPaperScissor policies to its projection for plot.\n",
    "def project_pi(traj_pi):\n",
    "    pi_x_projected = (traj_pi[:,1] - traj_pi[:,0])/2\n",
    "    pi_y_projected = traj_pi[:,2]*np.sqrt(3)/2\n",
    "    return pi_x_projected, pi_y_projected"
   ]
  },
  {
   "cell_type": "markdown",
   "metadata": {},
   "source": [
    "### Create an agent (standard gradient)\n",
    "\n",
    "The individual player is a RL agent, which acts in a (changing) environment, which depends on the actions of the \n",
    "\n",
    "Therefore, we will use a RL algorithm among those we have already written. Which one?\n",
    "\n",
    "Q: Can we use model-based algorithm? (Do we know exactly the model?)\n",
    "\n",
    "#### What are the characteristics of the agent?\n",
    "\n",
    "- Number of states?\n",
    "- Policy?\n",
    "- Episode length?\n",
    "- Is there a future discount?"
   ]
  },
  {
   "cell_type": "code",
   "execution_count": null,
   "metadata": {},
   "outputs": [],
   "source": []
  },
  {
   "cell_type": "code",
   "execution_count": 86,
   "metadata": {},
   "outputs": [],
   "source": [
    "class AgentForDuel():\n",
    "    def __init__(self, \n",
    "                 action_size,\n",
    "                 lr=0.01):\n",
    "        \n",
    "        self.action_size = action_size\n",
    "        self.lr = lr\n",
    "        self.Theta = np.random.rand( self.action_size)\n",
    "        \n",
    "    def single_update(self, a, r):\n",
    "        \n",
    "        policy = self.get_policy()\n",
    "        \n",
    "        for act in range(self.action_size):\n",
    "            # If the action \"act\" is that which was really chosen in the trajectory\n",
    "            if (act == a):\n",
    "                self.Theta[ act ] += self.lr * r * (1 - policy[act])\n",
    "            # Else if the action \"act\" has not been performed\n",
    "            else:\n",
    "                self.Theta[ act ] += self.lr * r * (- policy[act])\n",
    "            \n",
    "    def get_policy(self):\n",
    "        \"\"\"\n",
    "        Returns policy from current parameters Theta.\n",
    "        \"\"\"\n",
    "        # Prob(a|s) = exp(theta_a) / (sum_a' exp(theta_a') \n",
    "        \n",
    "        # Common shift has no influence on relative probabilities\n",
    "        # But very helpful: Otherwise it can explode! \n",
    "        log_prob = self.Theta - np.max(self.Theta)\n",
    "        \n",
    "        #print('max', np.max(self.Theta))\n",
    "                \n",
    "        prob_actions = np.exp(log_prob)\n",
    "        prob_actions = prob_actions / np.sum(prob_actions)\n",
    "            \n",
    "        return prob_actions\n",
    "    \n",
    "    def get_action(self):\n",
    "        \"\"\"\n",
    "        Chooses action at random using policy from current parameters Theta.\n",
    "        \"\"\"\n",
    "        \n",
    "        policy = self.get_policy()\n",
    "        a = np.random.choice(self.action_size, p=policy)\n",
    "        \n",
    "        return a"
   ]
  },
  {
   "cell_type": "markdown",
   "metadata": {},
   "source": [
    "### The dueling setup.\n",
    "\n",
    "Now, let's put one agent against another, and let's make learn simultaneously.\n"
   ]
  },
  {
   "cell_type": "code",
   "execution_count": 90,
   "metadata": {},
   "outputs": [],
   "source": [
    "Payoff = np.zeros((2,3,3))\n",
    "#actions are R P S\n",
    "\n",
    "Payoff[0,:,:] = np.array([[0,-1,1],\n",
    "                         [1,0,-1],\n",
    "                         [-1,1,0]])\n",
    "\n",
    "# Exploit the zero-sum \n",
    "Payoff[1,:,:] = - Payoff[0,:,:]\n",
    "\n",
    "N_plays = 100000\n",
    "\n",
    "P1 = AgentForDuel(3, lr=0.001)\n",
    "P2 = AgentForDuel(3, lr=0.001)\n",
    "\n",
    "P1.Theta = np.array([-2.,0.,-2.])\n",
    "P2.Theta = np.array([0.,-2.,-2.])\n",
    "\n",
    "traj_policy_P1 = []\n",
    "traj_policy_P2 = []\n",
    "\n",
    "momo = np.zeros((2,3))\n",
    "\n",
    "for i in range (N_plays):\n",
    "    \n",
    "    a1 = P1.get_action() # Select random action from Player1\n",
    "    a2 = P2.get_action() # Select random action from Player2\n",
    "    \n",
    "    \n",
    "    r1 = Payoff[0,a1,a2] # Select payoff for P1 given a1, a2\n",
    "    r2 = Payoff[1,a1,a2] # Select payoff for P2 given a1, a2\n",
    "    \n",
    "    # Update policy for P1\n",
    "    P1.single_update(a1,r1)\n",
    "    # Update policy for P2\n",
    "    P2.single_update(a2,r2)\n",
    "    \n",
    "    # Record policy of P1\n",
    "    traj_policy_P1.append(P1.get_policy())\n",
    "    # Record policy of P2\n",
    "    traj_policy_P2.append(P2.get_policy())\n",
    "\n",
    "traj_policy_P1 = np.vstack(traj_policy_P1)\n",
    "traj_policy_P2 = np.vstack(traj_policy_P2)"
   ]
  },
  {
   "cell_type": "markdown",
   "metadata": {},
   "source": [
    "Let's plot the trajectory in policy space!"
   ]
  },
  {
   "cell_type": "code",
   "execution_count": 102,
   "metadata": {},
   "outputs": [
    {
     "data": {
      "image/png": "[encoded data removed]",
      "text/plain": [
       "<Figure size 432x288 with 1 Axes>"
      ]
     },
     "metadata": {},
     "output_type": "display_data"
    }
   ],
   "source": [
    "plot_traj([traj_policy_P1, traj_policy_P2], ['Player1', 'Player2'])"
   ]
  },
  {
   "cell_type": "markdown",
   "metadata": {},
   "source": [
    "### Create an agent (normal gradient)\n",
    "\n",
    "#### (Optional: Intuitive theory of normal gradient. Otherwise, just go to practice\n",
    "Now, let's use the concept of *normal* gradient. Where does it come from?\n",
    "\n",
    "Let's recall the main idea of gradient based minimization.\n",
    "In general, we have a function $f(x)$ we want to minimize, we are at some point $x_t$ and we have an estimate of the gradient there $ \\partial_x f(x_t)$. Then, we can construct an approximation of the function:\n",
    "\n",
    "$$\n",
    "f_{approx}(x) = f(x_t) + \\partial_x f(x_t) (x-x_t)\n",
    "$$\n",
    "\n",
    "Clearly, if we minimize that, we would move infinitely in the direction of the gradient. This is wrong, because generally, the linear approximation is valid only _close_ to $x_t$. Therefore, we minimize a different term:\n",
    "\n",
    "$$\n",
    "\\mathcal{L}(x) = f(x_t) + \\partial_x f(x_t) (x-x_t) + \\frac{1}{2\\alpha} ( x - x_t)^2\n",
    "$$\n",
    "\n",
    "The term $\\frac{1}{2\\alpha} ( x - x_t)^2$ tells us \"not to go too far\" away from $x_t$!\n",
    "\n",
    "Putting $\\partial_x \\mathcal{L}(x) = 0$, we get the typical update rule:\n",
    "\n",
    "$$\n",
    "x = x_t - \\alpha \\partial_x f(x_t)\n",
    "$$\n",
    "\n",
    "\n",
    "#### How do we apply that to PG?\n",
    "\n",
    "Now, we don't have a $f(x)$, however we have an expected return $\\mathcal{J}$ which is a function of the policy $\\pi$ _through_ the parameters $\\theta$. The standard update, would then correspond to the minimization of:\n",
    "\n",
    "\n",
    "$$\n",
    "\\mathcal{L}(\\pi | \\theta) = \\mathcal{J}(\\pi | \\theta_t) + \\nabla_\\theta \\mathcal{J}(\\pi | \\theta_t) (\\theta - \\theta_t) + \\frac{1}{2\\alpha} || \\theta-\\theta_t|| ^2\n",
    "$$\n",
    "\n",
    "*However*, we now can see that there is an interesting thing. The equation above tells us, \"change $\\theta$ in the direction of the gradient, but don't change $\\theta$ too much, else the gradient will be wrong!\". \n",
    "\n",
    "However, the function of interest $\\mathcal{J}$ and its gradient does not depend on $\\theta$ directly, but on the _policies!_. It may well be that $\\theta$ change A LOT, while the gradient remains the same! \n",
    "\n",
    "So, it should really say: \"change $\\theta$ in the direction of the gradient, but don't change *the policy $\\pi$$ too much!\". So we just need some measure of \"distance\" between policies, which is the Kullback-Leibler divergence.\n",
    "\n",
    "$$\n",
    "|| \\theta-\\theta_t||^2 \\longrightarrow D_{KL}(\\, \\pi_\\theta \\, || \\, \\pi_{\\theta_t} \\, )\n",
    "$$\n",
    "\n",
    "So we want to \"move as quickly as possible in the direction of $\\theta$ where policies do not change\" and be \"move cautiously\" in directions where policies change fast.\n",
    "It turns out that we can achieve this if instead of the gradient $\\nabla$ we follow the **natural gradient** $\\tilde{\\nabla} = F[\\theta]^{-1} \\cdot \\nabla$, where $F[\\theta]$ is the Fisher Matrix, defined as:\n",
    "\n",
    "$$\n",
    "F[\\theta]_{i,j} = \\sum_a \\pi(a) \\frac{\\partial \\text{log} \\pi(a)}{\\partial \\theta_i} \\frac{\\partial \\text{log}\\pi(a)}{\\partial \\theta_j}\n",
    "$$\n",
    "\n",
    "### Yes, ok... But how, in practice?\n",
    "\n",
    "Let us consider the parametrization of the policies used so far, with $N$ parameters $(\\theta_1, \\theta_2, \\dots, \\theta_N)$ for $N$ actions. (Ignoring for simplicity the dependence on the state). \n",
    "\n",
    "\n",
    "$$\n",
    "\\begin{eqnarray}\n",
    "\\pi(a | \\theta) &=& \\pi(a) &= \\frac{e^{\\theta_a}}{\\sum_j e^{\\theta_j}} \\\\\n",
    "\\end{eqnarray}\n",
    "$$\n",
    "\n",
    "Let us recall that\n",
    "$$\n",
    "    \\nabla_i \\text{log}\\pi(a) = \\frac{\\partial \\text{log } \\pi(a)}{\\partial \\theta_i} = \\left\\{\n",
    "    \\begin{array}{clll}\n",
    "        & 1-\\pi(i)  \\,\\,\\,& \\text{if} \\,\\, a = i \\\\[2ex]\n",
    "        & - \\pi(i) \\,\\,\\,& \\text{if} \\,\\, a \\neq i \\\\[2ex]\n",
    "\\end{array}\n",
    "    \\right.\n",
    "$$\n",
    "\n",
    "In a more concise way, we have that\n",
    "\n",
    "$$\n",
    "\\frac{\\partial \\text{log } \\pi(a)}{\\partial \\theta_i} = \\mathbb{1}_{(a=i)} - \\pi(i) \\\\\n",
    "$$\n",
    "\n",
    "Now we can construct the Fisher Information Matrix. The $(i,j)^{th}$ element of the matrix is:\n",
    "\n",
    "$$\n",
    "\\begin{eqnarray}\n",
    "F[\\theta]_{i,j} &=& \\sum_a \\pi_a \\frac{\\partial \\text{log} \\pi(a)}{\\partial \\theta_i} \\frac{\\partial \\text{log}\\pi(a)}{\\partial \\theta_j} \\\\\n",
    "&=& \\sum_a \\pi(a) \\big(\\mathbb{1}_{(a=i)} - \\pi(i)\\big)\\big(\\mathbb{1}_{(a=j)} - \\pi(j)\\big) \\\\\n",
    "&=& \\sum_a \\pi(a) \\big(\\mathbb{1}_{(a=i)}\\mathbb{1}_{(a=j)} - \\mathbb{1}_{(a=j)}\\pi(i) - \\mathbb{1}_{(a=i)}\\pi(j) + \\pi(j)\\pi(i)\\big) \\\\\n",
    "&=& \\pi(i) \\mathbb{1}_{(i=j)} - \\pi(j)\\pi(i)\n",
    "\\end{eqnarray}\n",
    "$$\n",
    "\n",
    "One more step is needed!\n",
    "As we write the natural gradient $\\tilde{\\nabla} = F[\\theta]^-1 \\nabla$ we can equivalently express the standard gradient as $F[\\theta] \\tilde{\\nabla} = \\nabla$. \n",
    "Expressing the matrix product explicitly for a single derivative $\\partial/\\partial{\\theta_i} $ we have:\n",
    "\n",
    "$$\n",
    "\\sum_j F[\\theta]_{i,j} \\tilde{\\nabla}_j = \\nabla_i = \\partial/\\partial{\\theta_i}\n",
    "$$\n",
    "\n",
    "Let us now apply the natural gradient to $\\text{log}(\\pi(a))$ (where $a$ is the action which enters in the Action-Critic update):\n",
    "\n",
    "$$\n",
    "\\begin{eqnarray}\n",
    "\\sum_j F[\\theta]_{i,j} \\tilde{\\nabla}_j \\text{log}(\\pi(a))&=& \\partial/\\partial{\\theta_i} \\text{log}(\\pi(a))\\\\\n",
    "\\sum_j (\\pi(i) \\mathbb{1}_{(i=j)} - \\pi(j)\\pi(i)) \\left[ \\tilde{\\nabla}_j \\text{log}(\\pi(a)) \\right] &=& \\mathbb{1}_{(a=i)} - \\pi(i)\\\\\n",
    "\\end{eqnarray}\n",
    "$$\n",
    "\n",
    "Solving the equation above, we can finally find the explicit expression for the natural gradient in the case of the soft-max policies.\n",
    "\n",
    "$$\n",
    "\\tilde{\\nabla}_j \\text{log}(\\pi(a)) = \\frac{\\mathbb{1}_{(a=j)}}{\\pi(j)} \n",
    "$$\n",
    "\n",
    "Notice what happens when $\\pi \\rightarrow 0$. The standard gradient goes also to $0$, and therefore the value $\\theta$ is \"stuck\" there. However for the natural gradient if $\\pi \\rightarrow 0$ the corresponding update on $\\theta$ can be potentially unbounded!\n",
    "\n",
    "# End of the theory!"
   ]
  },
  {
   "cell_type": "markdown",
   "metadata": {},
   "source": [
    "### Create an agent with Natural Gradient!\n",
    "\n",
    "Does everything seem too overwhelming? No worries!\n",
    "The modifications are actually super simple to make!\n",
    "\n",
    "The only thing to change is the update. Instead of the \"standard gradient\", \n",
    "\n",
    "$$\n",
    "\\frac{\\partial \\text{log } \\pi(a)}{\\partial \\theta_b} = \\mathbb{1}_{(a=b)} - \\pi(b) \\\\\n",
    "$$\n",
    "\n",
    "We will have to code the \"natural gradient\" for softmax, which is:\n",
    "\n",
    "$$\n",
    "\\frac{\\tilde{\\partial} \\text{log } \\pi(a)}{\\partial \\theta_b} = \\frac{\\mathbb{1}_{(a=b)}}{\\pi(b)} \n",
    "$$\n",
    "\n"
   ]
  },
  {
   "cell_type": "code",
   "execution_count": 78,
   "metadata": {},
   "outputs": [],
   "source": [
    "class AgentForDuel_NaturalGradient():\n",
    "    def __init__(self, \n",
    "                 action_size,\n",
    "                 lr=0.01):\n",
    "        \n",
    "        self.action_size = action_size\n",
    "        self.lr = lr\n",
    "        self.Theta = np.random.rand( self.action_size)\n",
    "        \n",
    "    def single_update(self, a, r):\n",
    "        \n",
    "        policy = self.get_policy()\n",
    "        \n",
    "        self.Theta[ a ] += self.lr * r / policy[a]\n",
    "        \n",
    "        \n",
    "    def get_policy(self):\n",
    "        \"\"\"\n",
    "        Returns policy from current parameters Theta.\n",
    "        \"\"\"\n",
    "        # Prob(a|s) = exp(theta_a) / (sum_a' exp(theta_a') \n",
    "        \n",
    "        # Common shift has no influence on relative probabilities\n",
    "        # But very helpful: Otherwise it can explode! \n",
    "        log_prob = self.Theta - np.max(self.Theta)\n",
    "                \n",
    "        prob_actions = np.exp(log_prob)\n",
    "        prob_actions = prob_actions / np.sum(prob_actions)\n",
    "            \n",
    "        return prob_actions\n",
    "    \n",
    "    def get_action(self):\n",
    "        \"\"\"\n",
    "        Chooses action at random using policy from current parameters Theta.\n",
    "        \"\"\"\n",
    "        \n",
    "        policy = self.get_policy()\n",
    "        a = np.random.choice(self.action_size, p=policy)\n",
    "        \n",
    "        return a"
   ]
  },
  {
   "cell_type": "markdown",
   "metadata": {},
   "source": [
    "Now, let's do the dueling as before, but using the natural gradient.\n"
   ]
  },
  {
   "cell_type": "code",
   "execution_count": 82,
   "metadata": {},
   "outputs": [],
   "source": [
    "Payoff = np.zeros((2,3,3))\n",
    "#actions are R P S\n",
    "\n",
    "Payoff[0,:,:] = np.array([[0,-1,1],\n",
    "                         [1,0,-1],\n",
    "                         [-1,1,0]])\n",
    "\n",
    "# Exploit the zero-sum \n",
    "Payoff[1,:,:] = - Payoff[0,:,:]\n",
    "\n",
    "N_plays = 300000\n",
    "\n",
    "P1 = AgentForDuel_NaturalGradient(3, lr=0.00025)\n",
    "P2 = AgentForDuel_NaturalGradient(3, lr=0.00025)\n",
    "\n",
    "P1.Theta = np.array([-1.,0,0])\n",
    "P2.Theta = np.array([0.,-2.,0])\n",
    "\n",
    "traj_policy_P1_NG = []\n",
    "traj_policy_P2_NG = []\n",
    "\n",
    "for i in range (N_plays):\n",
    "    \n",
    "    a1 = P1.get_action() # Select random action from Player1\n",
    "    a2 = P2.get_action() # Select random action from Player2\n",
    "    \n",
    "    r1 = Payoff[0,a1,a2] # Select payoff for P1 given a1, a2\n",
    "    r2 = Payoff[1,a1,a2] # Select payoff for P2 given a1, a2\n",
    "\n",
    "    # Update policy for P1\n",
    "    P1.single_update(a1,r1)\n",
    "    # Update policy for P2\n",
    "    P2.single_update(a2,r2)\n",
    "    \n",
    "    # Record policy of P1\n",
    "    traj_policy_P1_NG.append(P1.get_policy())\n",
    "    # Record policy of P2\n",
    "    traj_policy_P2_NG.append(P2.get_policy())\n",
    "\n",
    "traj_policy_P1_NG = np.vstack(traj_policy_P1_NG)\n",
    "traj_policy_P2_NG = np.vstack(traj_policy_P2_NG)"
   ]
  },
  {
   "cell_type": "markdown",
   "metadata": {},
   "source": [
    "### And now let's plot the trajectories in the policy space."
   ]
  },
  {
   "cell_type": "code",
   "execution_count": 103,
   "metadata": {},
   "outputs": [
    {
     "data": {
      "image/png": "[encoded data removed]",
      "text/plain": [
       "<Figure size 432x288 with 1 Axes>"
      ]
     },
     "metadata": {},
     "output_type": "display_data"
    }
   ],
   "source": [
    "plot_traj([traj_policy_P1_NG, traj_policy_P2_NG], ['Player1', 'Player2'])\n"
   ]
  },
  {
   "cell_type": "markdown",
   "metadata": {},
   "source": [
    "### Replicator Dynamics\n",
    "\n",
    "As you have seen in the theory, the evolution of the Natural Gradient agent which learns by self-play is equivalent to that of the Replicator Dynamics:\n",
    "\n",
    "$$\n",
    "\\dot{\\pi}(a) = \\pi(a)[\\sum_b u(a,b)\\pi(b) - \\sum_{a'}\\sum_b u(a',b) \\pi(a')\\pi(b)]\n",
    "$$\n",
    "Or in shorthand:\n",
    "$$\n",
    "\\dot{\\pi}(a) = \\pi(a)[u(a) - \\bar{u}] \n",
    "$$\n",
    "\n",
    "What does this mean? The policy $\\pi(a)$ of the RL can be seen as the fraction of the total population which follows the \"pure\" strategy $a$ (i.e. it will always choose action $a$). The Replicator Dynamics models how the different fraction will grow in time.\n"
   ]
  },
  {
   "cell_type": "code",
   "execution_count": 106,
   "metadata": {},
   "outputs": [],
   "source": [
    "Payoff = np.zeros((2,3,3))\n",
    "#actions are R P S\n",
    "\n",
    "Payoff[0,:,:] = np.array([[0,-1,1],\n",
    "                         [1,0,-1],\n",
    "                         [-1,1,0]])\n",
    "\n",
    "# Exploit the zero-sum \n",
    "Payoff[1,:,:] = - Payoff[0,:,:]\n",
    "\n",
    "N_plays = 20000\n",
    "\n",
    "PI = np.array([0.1, 0.1, 0.8])\n",
    "PI /= np.sum(PI)\n",
    "\n",
    "lr_PI = 0.001\n",
    "\n",
    "traj_policy_RD = []\n",
    "\n",
    "for i in range (N_plays):\n",
    "\n",
    "         #      P, a, b\n",
    "    u_a = np.einsum('ab, b -> a', Payoff[0, :, :], PI) # expected utility for actions\n",
    "    u_bar = np.dot(u_a, PI) # average expected utility\n",
    "\n",
    "    # Update PI following replicator dynamics\n",
    "    PI += lr_PI * PI * (u_a - u_bar)\n",
    "    # Record policy of P1\n",
    "    traj_policy_RD.append(PI.copy())\n",
    "\n",
    "traj_policy_RD = np.vstack(traj_policy_RD)"
   ]
  },
  {
   "cell_type": "code",
   "execution_count": 107,
   "metadata": {},
   "outputs": [
    {
     "data": {
      "image/png": "[encoded data removed]",
      "text/plain": [
       "<Figure size 432x288 with 1 Axes>"
      ]
     },
     "metadata": {},
     "output_type": "display_data"
    }
   ],
   "source": [
    "plot_traj([traj_policy_RD], ['Replicator Dynamics'])"
   ]
  },
  {
   "cell_type": "markdown",
   "metadata": {},
   "source": [
    "## Compare with Normal Gradient"
   ]
  },
  {
   "cell_type": "code",
   "execution_count": 109,
   "metadata": {},
   "outputs": [],
   "source": [
    "Payoff = np.zeros((2,3,3))\n",
    "#actions are R P S\n",
    "\n",
    "Payoff[0,:,:] = np.array([[0,-1,1],\n",
    "                         [1,0,-1],\n",
    "                         [-1,1,0]])\n",
    "\n",
    "# Exploit the zero-sum \n",
    "Payoff[1,:,:] = - Payoff[0,:,:]\n",
    "\n",
    "N_plays = 300000\n",
    "\n",
    "P1 = AgentForDuel_NaturalGradient(3, lr=0.000025)\n",
    "\n",
    "P1.Theta = np.array([np.log(0.1), np.log(0.1) , np.log(0.8)])\n",
    "\n",
    "traj_policy_P1_NG = []\n",
    "\n",
    "for i in range (N_plays):\n",
    "    \n",
    "    a1 = P1.get_action() # Select random action from Player1\n",
    "    a2 = P1.get_action() # Select random action from Player2\n",
    "    \n",
    "    r1 = Payoff[0,a1,a2] # Select payoff for P1 given a1, a2\n",
    "    r2 = Payoff[1,a1,a2] # Select payoff for P2 given a1, a2\n",
    "\n",
    "    # Update policy for P1\n",
    "    P1.single_update(a1,r1)\n",
    "    P1.single_update(a2,r2)\n",
    "    \n",
    "    # Record policy of P1\n",
    "    traj_policy_P1_NG.append(P1.get_policy())\n",
    "\n",
    "traj_policy_P1_NG = np.vstack(traj_policy_P1_NG)\n"
   ]
  },
  {
   "cell_type": "code",
   "execution_count": 110,
   "metadata": {},
   "outputs": [
    {
     "data": {
      "image/png": "[encoded data removed]",
      "text/plain": [
       "<Figure size 432x288 with 1 Axes>"
      ]
     },
     "metadata": {},
     "output_type": "display_data"
    }
   ],
   "source": [
    "plot_traj([traj_policy_RD, traj_policy_P1_NG], ['Replicator Dynamics', 'Normal Gradient RL'])"
   ]
  },
  {
   "cell_type": "markdown",
   "metadata": {},
   "source": [
    "## Compare with Standard Gradient"
   ]
  },
  {
   "cell_type": "code",
   "execution_count": 111,
   "metadata": {},
   "outputs": [],
   "source": [
    "Payoff = np.zeros((2,3,3))\n",
    "#actions are R P S\n",
    "\n",
    "Payoff[0,:,:] = np.array([[0,-1,1],\n",
    "                         [1,0,-1],\n",
    "                         [-1,1,0]])\n",
    "\n",
    "# Exploit the zero-sum \n",
    "Payoff[1,:,:] = - Payoff[0,:,:]\n",
    "\n",
    "N_plays = 300000\n",
    "\n",
    "P1 = AgentForDuel(3, lr=0.0001)\n",
    "\n",
    "P1.Theta = np.array([np.log(0.1), np.log(0.1) , np.log(0.8)])\n",
    "\n",
    "traj_policy_P1 = []\n",
    "\n",
    "for i in range (N_plays):\n",
    "    \n",
    "    a1 = P1.get_action() # Select random action from Player1\n",
    "    a2 = P1.get_action() # Select random action from Player2\n",
    "    \n",
    "    r1 = Payoff[0,a1,a2] # Select payoff for P1 given a1, a2\n",
    "    r2 = Payoff[1,a1,a2] # Select payoff for P2 given a1, a2\n",
    "\n",
    "    # Update policy for P1\n",
    "    P1.single_update(a1,r1)\n",
    "    P1.single_update(a2,r2)\n",
    "    \n",
    "    # Record policy of P1\n",
    "    traj_policy_P1.append(P1.get_policy())\n",
    "\n",
    "traj_policy_P1 = np.vstack(traj_policy_P1)\n"
   ]
  },
  {
   "cell_type": "code",
   "execution_count": 112,
   "metadata": {},
   "outputs": [
    {
     "data": {
      "image/png": "[encoded data removed]",
      "text/plain": [
       "<Figure size 432x288 with 1 Axes>"
      ]
     },
     "metadata": {},
     "output_type": "display_data"
    }
   ],
   "source": [
    "plot_traj([traj_policy_RD, traj_policy_P1_NG, traj_policy_P1], ['Replicator Dynamics', 'Normal Gradient RL', 'Standard Gradient RL'])"
   ]
  }
 ],
 "metadata": {
  "kernelspec": {
   "display_name": "Python 3",
   "language": "python",
   "name": "python3"
  },
  "language_info": {
   "codemirror_mode": {
    "name": "ipython",
    "version": 3
   },
   "file_extension": ".py",
   "mimetype": "text/x-python",
   "name": "python",
   "nbconvert_exporter": "python",
   "pygments_lexer": "ipython3",
   "version": "3.8.8"
  }
 },
 "nbformat": 4,
 "nbformat_minor": 4
}
