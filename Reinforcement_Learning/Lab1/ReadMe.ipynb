{
 "cells": [
  {
   "cell_type": "markdown",
   "metadata": {},
   "source": [
    "## Who am I?\n",
    "\n",
    "Emanuele Panizon, Postdoc@QLS, \n",
    "Office 211 ex-SISSA Building\n",
    "International Center for Theoretical Physics\n",
    "Str. Costiera, 11, 34151 Trieste TS\n",
    "\n",
    "\n",
    "### Contacts:\n",
    "\n",
    "mail: epanizon@gmail.com (Use it!) \n",
    "slack: Use the Reinforcement Learning slack channel!\n"
   ]
  },
  {
   "cell_type": "markdown",
   "metadata": {},
   "source": [
    "## Class structure\n",
    "\n",
    "### When?\n",
    "\n",
    "There will be (most likely) eight laboratory classes, one each week, on Tuesdays.\n",
    "\n",
    "### Where?\n",
    "\n",
    "The classes will be held in person at the University of Trieste.\n",
    "\n",
    "### What will I do?\n",
    "\n",
    "During the classes, you will experiment on the algorithms and theory discussed in class by Prof. Antonio Celani and solve them using simple Python codes. Each laboratory will focus on one or two specific topics.\n",
    "\n",
    "To facilitate things, I will provide Jupyter Notebooks which will contain both some theory reminder and the code needed to run the algorithms.\n",
    "\n",
    "There will generally be two versions of the manuscripts, one (with \"exercise\" in the name) where the code is incomplete and you are directly invited to fill the gaps. \n",
    "This is the more \"hands-on\" version, which is preferrable since the best way to test the capability to transform abstract knowledge into code is... to code and fail :)\n",
    "\n",
    "There will be also a second version (with \"solution\" in the name) where the code is complete - i.e. it should run and give the correct answer - so that you always have a reference to check.\n",
    "\n",
    "### What do I need?\n",
    "\n",
    "You will need a Laptop / colleague with a Laptop, with installed Jupyter Notebook, or with an internet connection such that you can use the browser-based Colab or Jupyter Notebooks.\n",
    "\n",
    "### Where can I find the notebooks?\n",
    "\n",
    "The notebook from last year can be found in the 2021-tutorials slack channel.\n",
    "However, I will send each Friday the relevant notebook for the following class. \n",
    "I suggest that you wait and use those, as I may update the notebooks."
   ]
  }
 ],
 "metadata": {
  "kernelspec": {
   "display_name": "Python 3",
   "language": "python",
   "name": "python3"
  },
  "language_info": {
   "codemirror_mode": {
    "name": "ipython",
    "version": 3
   },
   "file_extension": ".py",
   "mimetype": "text/x-python",
   "name": "python",
   "nbconvert_exporter": "python",
   "pygments_lexer": "ipython3",
   "version": "3.8.8"
  }
 },
 "nbformat": 4,
 "nbformat_minor": 4
}
