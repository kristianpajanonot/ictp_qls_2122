{
 "cells": [
  {
   "cell_type": "markdown",
   "metadata": {},
   "source": [
    "## Second lection - 16th April 2021\n",
    "\n",
    "### Bayesian Bandits: solving a Partially Observable Markov Decision Process.\n",
    "\n",
    "#### 1st Half (45min): From states to beliefs\n",
    "\n",
    "- How to deal with unknown states.\n",
    "- What is the meaning of beliefs.\n",
    "- How do beliefs change upon observations.\n",
    "- Exploiting conjugate distributions.\n",
    "\n",
    "###### break (15min)\n",
    "\n",
    "#### 2nd Half (45min): Perfect information in beliefs' space.\n",
    "\n",
    "- Define MDP in beliefs space.\n",
    "- Solve explicitly (but approximately) using Value Iteration.\n",
    "- Use solution in belief space to tackle concrete example."
   ]
  }
 ],
 "metadata": {
  "kernelspec": {
   "display_name": "Python 3",
   "language": "python",
   "name": "python3"
  },
  "language_info": {
   "codemirror_mode": {
    "name": "ipython",
    "version": 3
   },
   "file_extension": ".py",
   "mimetype": "text/x-python",
   "name": "python",
   "nbconvert_exporter": "python",
   "pygments_lexer": "ipython3",
   "version": "3.8.8"
  }
 },
 "nbformat": 4,
 "nbformat_minor": 4
}
