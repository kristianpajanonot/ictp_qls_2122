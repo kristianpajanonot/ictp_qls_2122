{
 "cells": [
  {
   "cell_type": "code",
   "execution_count": 5,
   "id": "0bc80975",
   "metadata": {},
   "outputs": [],
   "source": [
    "import numpy as np\n",
    "import matplotlib.pyplot as plt\n",
    "import scipy.signal as signal"
   ]
  },
  {
   "cell_type": "markdown",
   "id": "bb0520e7",
   "metadata": {},
   "source": [
    "Autocorrelation function (position)"
   ]
  },
  {
   "cell_type": "markdown",
   "id": "6ac397ad",
   "metadata": {},
   "source": [
    "* update numerator in analytical solution since noise0* noise1 = 0\n",
    "* denominator for cxx is a plus for third term\n",
    "* understand delta notation"
   ]
  },
  {
   "cell_type": "code",
   "execution_count": 6,
   "id": "f5e50296",
   "metadata": {},
   "outputs": [],
   "source": [
    "#paramaters\n",
    "pars = {}\n",
    "pars['a00'] = - 21*10**-6\n",
    "pars['a01'] = 1\n",
    "pars['a10'] = - 1.348*10**-3\n",
    "pars['a11'] = -1\n",
    "pars['gamma0'] = 8.72*10**-6\n",
    "pars['gamma1'] = 54.8*10**-3\n",
    "\n",
    "pars['kbT'] = 4.1*10**-21\n",
    "pars['noise0'] = np.sqrt(2*pars['gamma0']*pars['kbT'])\n",
    "pars['noise1'] = np.sqrt(4.916*10**-12)\n",
    "\n",
    "pars['Df'] = 4.916*10**-12\n",
    "pars['Dx'] = 2*pars['gamma0']*pars['kbT']\n",
    "pars['k'] = 21*10**-6\n",
    "pars['kbar'] = 1.348*10**-3"
   ]
  },
  {
   "cell_type": "code",
   "execution_count": 7,
   "id": "12b55a84",
   "metadata": {},
   "outputs": [],
   "source": [
    "def analytical_soln_acf_generic(omega_list, pars):\n",
    "\n",
    "    autocorr_list = []\n",
    "    for omega in omega_list:\n",
    "        numerator = ( pars['a11']**2 * pars['noise0']**2 ) \\\n",
    "        + ( pars['a01']**2 * pars['noise1']**2 ) \\\n",
    "        + ( (omega**2) * (pars['gamma1']**2) * (pars['noise0']**2) )\n",
    "\n",
    "        denominator = ( -2*pars['a11']*pars['a00']*pars['a10']*pars['a01'] ) \\\n",
    "        + ( (omega**2) * (pars['gamma0']**2) * (pars['a11']**2) ) \\\n",
    "        + ( ( (pars['a10']*pars['a01']) + (pars['gamma0']*pars['gamma1']* (omega**2) ) )**2) \\\n",
    "        + ( (pars['a00']**2) * ( (pars['a11']**2) + (omega**2) * (pars['gamma1']**2) ) )\n",
    "\n",
    "        autocorr = numerator/denominator\n",
    "        autocorr_list.append(autocorr)\n",
    "    return autocorr_list"
   ]
  },
  {
   "cell_type": "markdown",
   "id": "96685e86",
   "metadata": {},
   "source": [
    "sanity check"
   ]
  },
  {
   "cell_type": "code",
   "execution_count": 8,
   "id": "b15965b5",
   "metadata": {},
   "outputs": [],
   "source": [
    "def analytical_soln_acf_paper(omega_list, pars):\n",
    "    cxx_list = []\n",
    "    for omega_ in omega_list:\n",
    "\n",
    "        numerator_ = pars['Df'] + (pars['Dx']*(1 + ((pars['gamma1']**2) * (omega_**2))))\n",
    "        denominator_ = 2*pars['k']*pars['kbar'] + ( (pars['gamma0']**2) * (omega_**2) ) \\\n",
    "        + ( (pars['kbar'] - pars['gamma0']*pars['gamma1']*(omega_**2) )**2) \\\n",
    "        + ( (pars['k']**2) *(1 + ((pars['gamma1']**2) * (omega_**2))) )\n",
    "\n",
    "        cxx = numerator_/denominator_\n",
    "        cxx_list.append(cxx)\n",
    "    return cxx_list"
   ]
  },
  {
   "cell_type": "code",
   "execution_count": 21,
   "id": "4c443235",
   "metadata": {
    "scrolled": true
   },
   "outputs": [
    {
     "data": {
      "image/png": "[encoded data removed]",
      "text/plain": [
       "<Figure size 432x288 with 1 Axes>"
      ]
     },
     "metadata": {
      "needs_background": "light"
     },
     "output_type": "display_data"
    }
   ],
   "source": [
    "omega_list = np.linspace(0, 25, 100)\n",
    "generic_soln = analytical_soln_acf_generic(omega_list, pars)\n",
    "paper_soln = analytical_soln_acf_paper(omega_list, pars)\n",
    "plt.scatter(omega_list, generic_soln, alpha = 0.9, label='generic_solution')\n",
    "plt.scatter(omega_list, paper_soln, marker = 's', alpha = 0.3, label='from_paper')\n",
    "plt.xlabel('$\\omega$')\n",
    "plt.ylabel('$m^2 s$')\n",
    "plt.legend()\n",
    "plt.show()"
   ]
  },
  {
   "cell_type": "code",
   "execution_count": 23,
   "id": "8ffd42c7",
   "metadata": {},
   "outputs": [
    {
     "data": {
      "text/plain": [
       "array([ 0.        ,  0.25252525,  0.50505051,  0.75757576,  1.01010101,\n",
       "        1.26262626,  1.51515152,  1.76767677,  2.02020202,  2.27272727,\n",
       "        2.52525253,  2.77777778,  3.03030303,  3.28282828,  3.53535354,\n",
       "        3.78787879,  4.04040404,  4.29292929,  4.54545455,  4.7979798 ,\n",
       "        5.05050505,  5.3030303 ,  5.55555556,  5.80808081,  6.06060606,\n",
       "        6.31313131,  6.56565657,  6.81818182,  7.07070707,  7.32323232,\n",
       "        7.57575758,  7.82828283,  8.08080808,  8.33333333,  8.58585859,\n",
       "        8.83838384,  9.09090909,  9.34343434,  9.5959596 ,  9.84848485,\n",
       "       10.1010101 , 10.35353535, 10.60606061, 10.85858586, 11.11111111,\n",
       "       11.36363636, 11.61616162, 11.86868687, 12.12121212, 12.37373737,\n",
       "       12.62626263, 12.87878788, 13.13131313, 13.38383838, 13.63636364,\n",
       "       13.88888889, 14.14141414, 14.39393939, 14.64646465, 14.8989899 ,\n",
       "       15.15151515, 15.4040404 , 15.65656566, 15.90909091, 16.16161616,\n",
       "       16.41414141, 16.66666667, 16.91919192, 17.17171717, 17.42424242,\n",
       "       17.67676768, 17.92929293, 18.18181818, 18.43434343, 18.68686869,\n",
       "       18.93939394, 19.19191919, 19.44444444, 19.6969697 , 19.94949495,\n",
       "       20.2020202 , 20.45454545, 20.70707071, 20.95959596, 21.21212121,\n",
       "       21.46464646, 21.71717172, 21.96969697, 22.22222222, 22.47474747,\n",
       "       22.72727273, 22.97979798, 23.23232323, 23.48484848, 23.73737374,\n",
       "       23.98989899, 24.24242424, 24.49494949, 24.74747475, 25.        ])"
      ]
     },
     "execution_count": 23,
     "metadata": {},
     "output_type": "execute_result"
    }
   ],
   "source": [
    "omega_list"
   ]
  },
  {
   "cell_type": "markdown",
   "id": "f074fdb3",
   "metadata": {},
   "source": [
    "Part 2"
   ]
  },
  {
   "cell_type": "markdown",
   "id": "893f6bbe",
   "metadata": {},
   "source": [
    "It'd be nice to make some plots for Cxx(omega) for different values of the parameters. For example when there is no coupling (a01=a10=0) one should expect that x follows a Ornstein Uhlenbeck process and thus its power spectrum should be Lorentzian, i.e. of the type A/(B+Cω^2). "
   ]
  },
  {
   "cell_type": "code",
   "execution_count": 11,
   "id": "4d460dc8",
   "metadata": {},
   "outputs": [],
   "source": [
    "pars_ou = {}\n",
    "\n",
    "pars_ou['gamma0'] = 1\n",
    "pars_ou['gamma1'] = 1\n",
    "\n",
    "pars_ou['a00'] = -1/pars_ou['gamma0']\n",
    "pars_ou['a01'] = -0.5/pars_ou['gamma0']\n",
    "pars_ou['a10'] = -1/pars_ou['gamma1']\n",
    "pars_ou['a11'] = -0.5/pars_ou['gamma1']\n",
    "\n",
    "pars_ou['T1'] = 100\n",
    "pars_ou['T2'] = 100\n",
    "\n",
    "pars_ou['kb'] = 1.380649*10**-23\n",
    "pars_ou['noise0'] = np.sqrt( (2*pars_ou['kb']*pars_ou['T1'])/pars_ou['gamma0'])\n",
    "pars_ou['noise1'] = np.sqrt( (2*pars_ou['kb']*pars_ou['T2'])/pars_ou['gamma1'])\n"
   ]
  },
  {
   "cell_type": "code",
   "execution_count": 17,
   "id": "d81783b8",
   "metadata": {},
   "outputs": [
    {
     "data": {
      "image/png": "[encoded data removed]",
      "text/plain": [
       "<Figure size 432x288 with 1 Axes>"
      ]
     },
     "metadata": {
      "needs_background": "light"
     },
     "output_type": "display_data"
    }
   ],
   "source": [
    "omega_list = np.logspace(0, 2, 300)\n",
    "ou_process = analytical_soln_acf_generic(omega_list, pars_ou)\n",
    "plt.scatter(omega_list, ou_process, alpha = 0.9, label='OU')\n",
    "plt.xlabel('$\\omega$')\n",
    "plt.ylabel('$m^2 s$')\n",
    "plt.yscale('log')\n",
    "plt.xscale('log')\n",
    "plt.legend()\n",
    "plt.show()"
   ]
  },
  {
   "cell_type": "markdown",
   "id": "ffd14606",
   "metadata": {},
   "source": [
    "simulation"
   ]
  },
  {
   "cell_type": "code",
   "execution_count": 8,
   "id": "e8d0adb6",
   "metadata": {},
   "outputs": [],
   "source": [
    "dt = 0.5"
   ]
  },
  {
   "cell_type": "code",
   "execution_count": 13,
   "id": "ccf617ac",
   "metadata": {},
   "outputs": [
    {
     "data": {
      "text/plain": [
       "array([0.        , 0.05263158, 0.15512465, 0.30470914, 0.49861496,\n",
       "       0.73407202, 1.00831025, 1.31855956, 1.66204986, 2.03601108,\n",
       "       2.43767313, 2.86426593, 3.31301939, 3.78116343, 4.26592798,\n",
       "       4.76454294, 5.27423823, 5.79224377, 6.31578947, 6.84210526,\n",
       "       6.31578947, 5.79224377, 5.27423823, 4.76454294, 4.26592798,\n",
       "       3.78116343, 3.31301939, 2.86426593, 2.43767313, 2.03601108,\n",
       "       1.66204986, 1.31855956, 1.00831025, 0.73407202, 0.49861496,\n",
       "       0.30470914, 0.15512465, 0.05263158])"
      ]
     },
     "execution_count": 13,
     "metadata": {},
     "output_type": "execute_result"
    }
   ],
   "source": [
    "signal.correlate(x, x[1::], )"
   ]
  },
  {
   "cell_type": "code",
   "execution_count": null,
   "id": "0d9a338c",
   "metadata": {},
   "outputs": [],
   "source": [
    "def acf(x,Dt):\n",
    "    \"\"\"Inputs: particle position x [m] and timestep Dt [s].\"\"\"\n",
    "    last_element = -1\n",
    "    ave_position = (x[2:last_element]-x[1:last_element - 1])/Dt\n",
    "    autocorr = signal.correlate()\n",
    "    s = Dt*[0:1:length(r)-1];\n"
   ]
  }
 ],
 "metadata": {
  "kernelspec": {
   "display_name": "Python 3",
   "language": "python",
   "name": "python3"
  },
  "language_info": {
   "codemirror_mode": {
    "name": "ipython",
    "version": 3
   },
   "file_extension": ".py",
   "mimetype": "text/x-python",
   "name": "python",
   "nbconvert_exporter": "python",
   "pygments_lexer": "ipython3",
   "version": "3.8.8"
  }
 },
 "nbformat": 4,
 "nbformat_minor": 5
}
