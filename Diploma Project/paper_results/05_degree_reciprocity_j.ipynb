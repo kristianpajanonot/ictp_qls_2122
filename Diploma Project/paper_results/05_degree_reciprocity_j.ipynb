{
 "cells": [
  {
   "cell_type": "code",
   "execution_count": 1,
   "id": "54de46ad",
   "metadata": {},
   "outputs": [],
   "source": [
    "import numpy as np\n",
    "import matplotlib.pyplot as plt\n",
    "from tqdm import tqdm"
   ]
  },
  {
   "cell_type": "code",
   "execution_count": 2,
   "id": "3d8f2c28",
   "metadata": {},
   "outputs": [],
   "source": [
    "#paramaters\n",
    "#change all units to: force = pN, length = nm, time = ms\n",
    "pars = {}\n",
    "pars['a00'] = -21*10**-3\n",
    "pars['a01'] = 1\n",
    "pars['a10'] = -1.35\n",
    "pars['a11'] = -1\n",
    "pars['gamma0'] = 8.72\n",
    "pars['gamma1'] = 54.8\n",
    "\n",
    "pars['kbT'] = 4.1\n",
    "pars['noise0'] = 2*pars['gamma0']*pars['kbT']\n",
    "pars['noise1'] = 4.916*(1e3)\n",
    "\n",
    "pars['delta_t'] = 0.01\n",
    "pars['n_realizations'] = 100"
   ]
  },
  {
   "cell_type": "code",
   "execution_count": 3,
   "id": "23e3ab1f",
   "metadata": {},
   "outputs": [],
   "source": [
    "def analytical_soln_acf_generic(omega_list, pars):\n",
    "\n",
    "    autocorr_list = []\n",
    "    for omega in omega_list:\n",
    "        numerator = ( pars['a11']**2 * pars['noise0'] ) \\\n",
    "        + ( pars['a01']**2 * pars['noise1'] ) \\\n",
    "        + ( (omega**2) * (pars['gamma1']**2) * (pars['noise0']) )\n",
    "\n",
    "        denominator = ( -2*pars['a11']*pars['a00']*pars['a10']*pars['a01'] ) \\\n",
    "        + ( (omega**2) * (pars['gamma0']**2) * (pars['a11']**2) ) \\\n",
    "        + ( ( (pars['a10']*pars['a01']) + (pars['gamma0']*pars['gamma1']* (omega**2) ) )**2) \\\n",
    "        + ( (pars['a00']**2) * ( (pars['a11']**2) + (omega**2) * (pars['gamma1']**2) ) )\n",
    "\n",
    "        autocorr = numerator/denominator\n",
    "        autocorr_list.append(autocorr)\n",
    "    return autocorr_list"
   ]
  },
  {
   "cell_type": "code",
   "execution_count": 4,
   "id": "09e287f9",
   "metadata": {},
   "outputs": [],
   "source": [
    "def analytical_soln_real_response(omega_list, pars):\n",
    "    real_response_list = []\n",
    "    for omega in omega_list:\n",
    "        numerator = - (omega**2)*(pars['gamma1']**2)*pars['a00'] \\\n",
    "        - (pars['a11']**2)*pars['a00'] \\\n",
    "        + pars['a10']*pars['a01']*pars['a11']\n",
    "        \n",
    "        denominator = ( -2*pars['a11']*pars['a00']*pars['a10']*pars['a01'] ) \\\n",
    "        + ( (omega**2) * (pars['gamma0']**2) * (pars['a11']**2) ) \\\n",
    "        + ( ( (pars['a10']*pars['a01']) + (pars['gamma0']*pars['gamma1']* (omega**2) ) )**2) \\\n",
    "        + ( (pars['a00']**2) * ( (pars['a11']**2) + (omega**2) * (pars['gamma1']**2) ) )\n",
    "        \n",
    "        real_response = numerator/denominator\n",
    "        real_response_list.append(real_response)\n",
    "    return real_response_list"
   ]
  },
  {
   "cell_type": "code",
   "execution_count": 5,
   "id": "9a5e167e",
   "metadata": {},
   "outputs": [],
   "source": [
    "def analytical_soln_imaginary_response(omega_list, pars):\n",
    "    im_response_list = []\n",
    "    for omega in omega_list:\n",
    "        numerator = omega*(\n",
    "            (pars['gamma1']*pars['a10']*pars['a01']) \\\n",
    "            + (pars['gamma0']*(pars['gamma1']**2)*(omega**2)) \\\n",
    "            + ((pars['a11']**2)*pars['gamma0'])\n",
    "        )\n",
    "        \n",
    "        denominator = ( -2*pars['a11']*pars['a00']*pars['a10']*pars['a01'] ) \\\n",
    "        + ( (omega**2) * (pars['gamma0']**2) * (pars['a11']**2) ) \\\n",
    "        + ( ( (pars['a10']*pars['a01']) + (pars['gamma0']*pars['gamma1']* (omega**2) ) )**2) \\\n",
    "        + ( (pars['a00']**2) * ( (pars['a11']**2) + (omega**2) * (pars['gamma1']**2) ) )\n",
    "\n",
    "        \n",
    "        im_response = numerator/denominator\n",
    "        im_response_list.append(im_response)\n",
    "    return im_response_list"
   ]
  },
  {
   "cell_type": "code",
   "execution_count": 6,
   "id": "0286b3af",
   "metadata": {},
   "outputs": [],
   "source": [
    "omega_list = np.linspace(-0.5, 0.5, 1000)\n",
    "def calculate_energy_diss(pars, omega_list):\n",
    "    \n",
    "    paper_acf_soln = analytical_soln_acf_generic(omega_list, pars)\n",
    "    paper_imaginary_soln = analytical_soln_imaginary_response(omega_list, pars)\n",
    "    final_imaginary = (np.array(2*pars['kbT'])*np.array(paper_imaginary_soln))/omega_list\n",
    "\n",
    "    delta_omega = omega_list[1] - omega_list[0]\n",
    "    omega_squared = (omega_list)**2\n",
    "\n",
    "    #paper_acf_soln is autocrrelation function\n",
    "    #final_imaginary is imaginary of response function * (2*kBT/omega)\n",
    "    violation_function = (pars['gamma0']/(2*np.pi))*(omega_squared*paper_acf_soln - omega_squared*final_imaginary)\n",
    "    #energy dissipated is the integral of the violation_function\n",
    "    energy_diss = np.sum(violation_function*delta_omega)\n",
    "    return energy_diss, paper_acf_soln, final_imaginary\n",
    "\n",
    "def plotter(pars, omega_list, paper_acf_soln, final_imaginary):\n",
    "\n",
    "    plt.plot(omega_list/(2*np.pi), np.array(paper_acf_soln),  label='$\\~{C} (\\omega)$')\n",
    "    plt.plot(omega_list/(2*np.pi), np.array(final_imaginary), color='red', label=\"$\\\\frac{2K_bT}{\\omega} \\~{R}'' (\\omega)$\")\n",
    "    plt.xlabel('$\\omega$ (Hz)')\n",
    "    plt.ylabel('$nm^2$ $ms$')\n",
    "    plt.legend()\n",
    "    plt.show()"
   ]
  },
  {
   "cell_type": "code",
   "execution_count": 10,
   "id": "c86855a3",
   "metadata": {},
   "outputs": [
    {
     "data": {
      "text/plain": [
       "array([-1.35000000e+00, -1.30000000e+00, -1.25000000e+00, -1.20000000e+00,\n",
       "       -1.15000000e+00, -1.10000000e+00, -1.05000000e+00, -1.00000000e+00,\n",
       "       -9.50000000e-01, -9.00000000e-01, -8.50000000e-01, -8.00000000e-01,\n",
       "       -7.50000000e-01, -7.00000000e-01, -6.50000000e-01, -6.00000000e-01,\n",
       "       -5.50000000e-01, -5.00000000e-01, -4.50000000e-01, -4.00000000e-01,\n",
       "       -3.50000000e-01, -3.00000000e-01, -2.50000000e-01, -2.00000000e-01,\n",
       "       -1.50000000e-01, -1.00000000e-01, -5.00000000e-02,  1.11022302e-15,\n",
       "        5.00000000e-02,  1.00000000e-01,  1.50000000e-01,  2.00000000e-01,\n",
       "        2.50000000e-01,  3.00000000e-01,  3.50000000e-01,  4.00000000e-01,\n",
       "        4.50000000e-01,  5.00000000e-01,  5.50000000e-01,  6.00000000e-01,\n",
       "        6.50000000e-01,  7.00000000e-01,  7.50000000e-01,  8.00000000e-01,\n",
       "        8.50000000e-01,  9.00000000e-01,  9.50000000e-01,  1.00000000e+00,\n",
       "        1.05000000e+00])"
      ]
     },
     "execution_count": 10,
     "metadata": {},
     "output_type": "execute_result"
    }
   ],
   "source": [
    "np.arange(-1.35, 1 + 0.05 , 0.05) "
   ]
  },
  {
   "cell_type": "code",
   "execution_count": 12,
   "id": "bf82aa64",
   "metadata": {},
   "outputs": [
    {
     "name": "stdout",
     "output_type": "stream",
     "text": [
      "a01 1\n",
      "a10 -1.35\n"
     ]
    },
    {
     "data": {
      "image/png": "[encoded data removed]",
      "text/plain": [
       "<Figure size 432x288 with 1 Axes>"
      ]
     },
     "metadata": {
      "needs_background": "light"
     },
     "output_type": "display_data"
    },
    {
     "name": "stdout",
     "output_type": "stream",
     "text": [
      "a01 1\n",
      "a10 1\n"
     ]
    },
    {
     "data": {
      "image/png": "[encoded data removed]",
      "text/plain": [
       "<Figure size 432x288 with 1 Axes>"
      ]
     },
     "metadata": {
      "needs_background": "light"
     },
     "output_type": "display_data"
    }
   ],
   "source": [
    "a10_list_plotter = [-1.35,1] \n",
    "\n",
    "for i in a10_list_plotter:\n",
    "    pars['a10'] = i\n",
    "    print('a01', pars['a01'])\n",
    "    print('a10', pars['a10'])\n",
    "    energy_diss, paper_acf_soln, final_imaginary = calculate_energy_diss(pars, omega_list)\n",
    "    plotter(pars, omega_list, paper_acf_soln, final_imaginary)"
   ]
  },
  {
   "cell_type": "code",
   "execution_count": null,
   "id": "efca95f4",
   "metadata": {},
   "outputs": [],
   "source": [
    "a10_list = np.arange(-1.35, 1 +0.1 , 0.15)\n",
    "\n",
    "energy_diss_list = []\n",
    "for i in tqdm(a10_list):\n",
    "    pars['a10'] = i\n",
    "    energy_diss, paper_acf_soln, final_imaginary = calculate_energy_diss(pars, omega_list)\n",
    "    energy_diss_list.append(energy_diss)"
   ]
  },
  {
   "cell_type": "code",
   "execution_count": null,
   "id": "2d314f3b",
   "metadata": {},
   "outputs": [],
   "source": []
  }
 ],
 "metadata": {
  "kernelspec": {
   "display_name": "Python 3",
   "language": "python",
   "name": "python3"
  },
  "language_info": {
   "codemirror_mode": {
    "name": "ipython",
    "version": 3
   },
   "file_extension": ".py",
   "mimetype": "text/x-python",
   "name": "python",
   "nbconvert_exporter": "python",
   "pygments_lexer": "ipython3",
   "version": "3.8.8"
  }
 },
 "nbformat": 4,
 "nbformat_minor": 5
}
