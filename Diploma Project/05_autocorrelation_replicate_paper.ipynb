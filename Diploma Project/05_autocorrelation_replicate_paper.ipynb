{
 "cells": [
  {
   "cell_type": "code",
   "execution_count": 1,
   "id": "5703ed68",
   "metadata": {},
   "outputs": [],
   "source": [
    "import numpy as np\n",
    "import matplotlib.pyplot as plt\n",
    "from tqdm import tqdm"
   ]
  },
  {
   "cell_type": "code",
   "execution_count": 2,
   "id": "15646769",
   "metadata": {},
   "outputs": [],
   "source": [
    "#paramaters\n",
    "pars = {}\n",
    "pars['a00'] = - 21*10**-6\n",
    "pars['a01'] = 1\n",
    "pars['a10'] = - 1.348*10**-3\n",
    "pars['a11'] = -1\n",
    "pars['gamma0'] = 8.72*10**-6\n",
    "pars['gamma1'] = 54.8*10**-3\n",
    "\n",
    "pars['kbT'] = 4.1*10**-21\n",
    "pars['noise0'] = np.sqrt(2*pars['gamma0']*pars['kbT'])\n",
    "pars['noise1'] = np.sqrt(4.916*10**-12)\n",
    "\n",
    "pars['delta_t'] = 0.00001\n"
   ]
  },
  {
   "cell_type": "code",
   "execution_count": 3,
   "id": "dbc54351",
   "metadata": {},
   "outputs": [],
   "source": [
    "def analytical_soln_acf_generic(omega_list, pars):\n",
    "    autocorr_list = []\n",
    "    for omega in omega_list:\n",
    "        numerator = ( pars['a11']**2 * pars['noise0']**2 ) \\\n",
    "        + ( pars['a01']**2 * pars['noise1']**2 ) \\\n",
    "        + ( (omega**2) * (pars['gamma1']**2) * (pars['noise0']**2) )\n",
    "\n",
    "        denominator = ( -2*pars['a11']*pars['a00']*pars['a10']*pars['a01'] ) \\\n",
    "        + ( (omega**2) * (pars['gamma0']**2) * (pars['a11']**2) ) \\\n",
    "        + ( ( (pars['a10']*pars['a01']) + (pars['gamma0']*pars['gamma1']* (omega**2) ) )**2) \\\n",
    "        + ( (pars['a00']**2) * ( (pars['a11']**2) + (omega**2) * (pars['gamma1']**2) ) )\n",
    "\n",
    "        autocorr = numerator/denominator\n",
    "        autocorr_list.append(autocorr)\n",
    "    return autocorr_list"
   ]
  },
  {
   "cell_type": "code",
   "execution_count": 4,
   "id": "46349495",
   "metadata": {},
   "outputs": [],
   "source": [
    "def euler_one_traj(n_time, pars):   \n",
    "    #initial condition\n",
    "    x1 = 0\n",
    "    x2 = 0\n",
    "    x1_traj = []\n",
    "    x2_traj = []\n",
    "    \n",
    "    #performing 1 traj with n_time number of data points\n",
    "    for i in range(n_time):\n",
    "        #generate delta_B\n",
    "        s1 = np.random.normal(0, np.sqrt(pars['delta_t']) )\n",
    "        s2 = np.random.normal(0, np.sqrt(pars['delta_t']) )\n",
    "        #solve for x1, x2\n",
    "        x1_new = x1 - (pars['a00']/pars['gamma0'])*x1*pars['delta_t'] - \\\n",
    "        (pars['a01']/pars['gamma0'])*x2*pars['delta_t'] + \\\n",
    "        np.sqrt((pars['noise0']**2)/(pars['gamma0']**2))*s1\n",
    "                 \n",
    "        x2_new = x2 - (pars['a11']/pars['gamma1'])*x2*pars['delta_t'] - \\\n",
    "        (pars['a10']/pars['gamma1'])*x1*pars['delta_t'] + \\\n",
    "        np.sqrt((pars['noise1']**2)/(pars['gamma1']**2))*s2\n",
    "                \n",
    "        x1 = x1_new\n",
    "        x2 = x2_new\n",
    "        \n",
    "        x1_traj.append(x1)\n",
    "        x2_traj.append(x2)\n",
    "    return x1_traj, x2_traj"
   ]
  },
  {
   "cell_type": "code",
   "execution_count": 5,
   "id": "000b2b14",
   "metadata": {},
   "outputs": [],
   "source": [
    "def euler_n_traj(max_time, pars):\n",
    "    min_time = 0\n",
    "    n_time = int((max_time - min_time)/pars['delta_t'] + 1) #n_time = num of evenly spaced samples (ex. 1001 points)\n",
    "    time = np.linspace(min_time, max_time, n_time) #time(ex. 0 (min time), 0.01, 0.02, ..., 10 (max time)) with n_time no. of data points\n",
    "    \n",
    "    x_traj_list = []\n",
    "    y_traj_list = []\n",
    "    for i in tqdm(range(pars['n_realizations'])):\n",
    "        x_traj, y_traj = euler_one_traj(n_time, pars)\n",
    "        x_traj_list.append(x_traj)\n",
    "        y_traj_list.append(y_traj)\n",
    "        \n",
    "    return x_traj_list, y_traj_list, time"
   ]
  },
  {
   "cell_type": "code",
   "execution_count": 6,
   "id": "ac5489d4",
   "metadata": {},
   "outputs": [
    {
     "name": "stderr",
     "output_type": "stream",
     "text": [
      "100%|██████████| 10/10 [00:00<00:00, 145.33it/s]\n"
     ]
    }
   ],
   "source": [
    "#plot trajectories with t = 10s\n",
    "pars['n_realizations'] = 10\n",
    "length_plot = 0.005\n",
    "x_traj_list, y_traj_list, time = euler_n_traj(length_plot, pars)"
   ]
  },
  {
   "cell_type": "code",
   "execution_count": 7,
   "id": "f63d81f0",
   "metadata": {
    "scrolled": true
   },
   "outputs": [
    {
     "data": {
      "image/png": "[encoded data removed]",
      "text/plain": [
       "<Figure size 432x288 with 1 Axes>"
      ]
     },
     "metadata": {
      "needs_background": "light"
     },
     "output_type": "display_data"
    }
   ],
   "source": [
    "#Plot a sample trajectory\n",
    "plt.plot(time, x_traj_list[3])\n",
    "plt.xlabel('time')\n",
    "plt.ylabel('x')\n",
    "plt.xticks(np.linspace(0, length_plot, 5))\n",
    "plt.show()"
   ]
  },
  {
   "cell_type": "markdown",
   "id": "abfc7b12",
   "metadata": {},
   "source": [
    "Calculate autocorrelation"
   ]
  },
  {
   "cell_type": "code",
   "execution_count": 8,
   "id": "48ef8244",
   "metadata": {},
   "outputs": [],
   "source": [
    "def autocorr(x):\n",
    "    tau = np.arange(1,len(x_traj_list[0]))\n",
    "    \n",
    "    corr_list = []\n",
    "    for t in tau:\n",
    "        xtau = np.roll(x, -t)\n",
    "        \n",
    "        product_list = []\n",
    "        for x_value, xtau_value in zip(x, xtau):\n",
    "            product = x_value*xtau_value\n",
    "            product_list.append(product)\n",
    "            \n",
    "            \n",
    "        corr = np.array(product_list[:-t]).mean()\n",
    "        corr_list.append(corr)\n",
    "    return corr_list"
   ]
  },
  {
   "cell_type": "code",
   "execution_count": 9,
   "id": "a32c1f71",
   "metadata": {},
   "outputs": [],
   "source": [
    "def ave_autocorr_traj(trajectory):\n",
    "    autocorr_list = []\n",
    "    for traj in trajectory:\n",
    "        autocorr_traj = autocorr(np.array(traj))\n",
    "        autocorr_list.append(autocorr_traj)\n",
    "        \n",
    "    matrix = np.array((autocorr_list))\n",
    "    mean_per_column = matrix.mean(axis=0)\n",
    "    \n",
    "    return mean_per_column"
   ]
  },
  {
   "cell_type": "code",
   "execution_count": 10,
   "id": "660e642f",
   "metadata": {},
   "outputs": [
    {
     "name": "stdout",
     "output_type": "stream",
     "text": [
      "Wall time: 969 ms\n"
     ]
    }
   ],
   "source": [
    "%%time\n",
    "xtraj = ave_autocorr_traj(x_traj_list)"
   ]
  },
  {
   "cell_type": "code",
   "execution_count": 11,
   "id": "e9fc4c3f",
   "metadata": {},
   "outputs": [
    {
     "data": {
      "image/png": "[encoded data removed]",
      "text/plain": [
       "<Figure size 432x288 with 1 Axes>"
      ]
     },
     "metadata": {
      "needs_background": "light"
     },
     "output_type": "display_data"
    }
   ],
   "source": [
    "normalization = np.mean((np.array(x_traj_list))*(np.array(x_traj_list)))\n",
    "\n",
    "plt.plot(np.linspace(0, length_plot, len(xtraj)), xtraj/normalization)\n",
    "plt.ylim(0,1.1)\n",
    "plt.xlabel('time (s)')\n",
    "plt.ylabel('$C(t)$')\n",
    "plt.show()"
   ]
  },
  {
   "cell_type": "markdown",
   "id": "6da02038",
   "metadata": {},
   "source": [
    "Transform $C(t)$ to $C(\\omega)$"
   ]
  },
  {
   "cell_type": "code",
   "execution_count": 12,
   "id": "dfc20ab9",
   "metadata": {},
   "outputs": [
    {
     "name": "stdout",
     "output_type": "stream",
     "text": [
      "c_omega [190.2779913   20.27295304   4.13044582   2.07796511   1.58889991\n",
      "   1.18634938   0.8944242    0.83220997   0.74880062   0.70886601\n",
      "   0.65778528   0.62287264   0.61030828   0.58997327   0.57433858\n",
      "   0.56888889   0.55549921   0.55086381   0.54425889   0.54091063\n",
      "   0.53390815   0.53268684   0.53132904   0.52980899   0.52705251\n",
      "   0.5247012    0.52257409   0.52140279   0.52019554   0.51838995\n",
      "   0.51626706   0.5147593    0.51491542   0.51374485   0.51325891\n",
      "   0.51306406   0.51263489   0.51174      0.51068872   0.50992984\n",
      "   0.50931805   0.50819679   0.50805663   0.50741972   0.50705246\n",
      "   0.50664952   0.50639353   0.50612019   0.50604323   0.5057227\n",
      "   0.50538919   0.5050711    0.50496622   0.50480424   0.50479601\n",
      "   0.50455019   0.50439902   0.50410307   0.50385335   0.50358822\n",
      "   0.50333032   0.50323879   0.50316672   0.50296396   0.50278394\n",
      "   0.50264314   0.50262415   0.50247741   0.50236388   0.50222576\n",
      "   0.5021194    0.50206455   0.50204276   0.50200311   0.50198134\n",
      "   0.50189116   0.5017849    0.50169922   0.50159265   0.50151043\n",
      "   0.50140559   0.50135683   0.50125506   0.50125694   0.50120239\n",
      "   0.50117118   0.50112447   0.50105756   0.50101425   0.50100656\n",
      "   0.50098336   0.50092634   0.50085947   0.50084301   0.50081824\n",
      "   0.50078096   0.50073806   0.50070323   0.50065566   0.50064115\n",
      "   0.50059347   0.50056944   0.50054286   0.50048652   0.50045014\n",
      "   0.50042644   0.50040183   0.50036823   0.50036012   0.50031516\n",
      "   0.50029638   0.50026982   0.50025469   0.50023915   0.50023959\n",
      "   0.50021658   0.50018073   0.50015924   0.50012072   0.50011686\n",
      "   0.50008412   0.50008101   0.50005943   0.50003609   0.50003458\n",
      "   0.50002276   0.49998866   0.49997425   0.49996914   0.49995784\n",
      "   0.49994181   0.49992318   0.49990388   0.49989157   0.49988718\n",
      "   0.49986912   0.49985121   0.49984809   0.49983945   0.49982435\n",
      "   0.49980174   0.49979471   0.4997826    0.49977247   0.49975708\n",
      "   0.49974501   0.49973116   0.49971324   0.49969574   0.49968492\n",
      "   0.49967029   0.49965439   0.49964842   0.49964825   0.49963851\n",
      "   0.49963365   0.4996266    0.49962009   0.49961121   0.49960462\n",
      "   0.49960463   0.49958855   0.49957817   0.49957716   0.49957789\n",
      "   0.49956482   0.49955805   0.4995525    0.49954475   0.49953939\n",
      "   0.49954059   0.49954676   0.49953203   0.49952849   0.49952049\n",
      "   0.49951002   0.49950491   0.49949789   0.4995002    0.49949884\n",
      "   0.49948557   0.4994925    0.49949396   0.4994921    0.49947853\n",
      "   0.49947516   0.49947488   0.49946846   0.49946464   0.49946401\n",
      "   0.49946598   0.4994597    0.49945829   0.4994557    0.49944216\n",
      "   0.4994426    0.49945006   0.4994514    0.49945047   0.49944494\n",
      "   0.49944137   0.49944603   0.4994424    0.49943556   0.49943162\n",
      "   0.49942554   0.49942747   0.49942215   0.4994164    0.49941889\n",
      "   0.49941143   0.49940957   0.49940617   0.49940188   0.499403\n",
      "   0.49939807   0.49939895   0.49940348   0.4994012    0.49940133\n",
      "   0.49940128   0.49939878   0.49940329   0.49940148   0.49940233\n",
      "   0.4994021    0.49940591   0.49940597   0.49940702   0.49940488\n",
      "   0.4994046    0.49940209   0.49940024   0.49940687   0.49940666\n",
      "   0.49940117   0.49940326   0.49940448   0.49939704   0.49939194\n",
      "   0.49938468   0.4993857    0.49938337   0.49938638   0.49938156\n",
      "   0.49937571   0.49936519   0.49935719   0.49935861   0.4993609\n",
      "   0.4993609    0.49935861   0.49935719   0.49936519   0.49937571\n",
      "   0.49938156   0.49938638   0.49938337   0.4993857    0.49938468\n",
      "   0.49939194   0.49939704   0.49940448   0.49940326   0.49940117\n",
      "   0.49940666   0.49940687   0.49940024   0.49940209   0.4994046\n",
      "   0.49940488   0.49940702   0.49940597   0.49940591   0.4994021\n",
      "   0.49940233   0.49940148   0.49940329   0.49939878   0.49940128\n",
      "   0.49940133   0.4994012    0.49940348   0.49939895   0.49939807\n",
      "   0.499403     0.49940188   0.49940617   0.49940957   0.49941143\n",
      "   0.49941889   0.4994164    0.49942215   0.49942747   0.49942554\n",
      "   0.49943162   0.49943556   0.4994424    0.49944603   0.49944137\n",
      "   0.49944494   0.49945047   0.4994514    0.49945006   0.4994426\n",
      "   0.49944216   0.4994557    0.49945829   0.4994597    0.49946598\n",
      "   0.49946401   0.49946464   0.49946846   0.49947488   0.49947516\n",
      "   0.49947853   0.4994921    0.49949396   0.4994925    0.49948557\n",
      "   0.49949884   0.4995002    0.49949789   0.49950491   0.49951002\n",
      "   0.49952049   0.49952849   0.49953203   0.49954676   0.49954059\n",
      "   0.49953939   0.49954475   0.4995525    0.49955805   0.49956482\n",
      "   0.49957789   0.49957716   0.49957817   0.49958855   0.49960463\n",
      "   0.49960462   0.49961121   0.49962009   0.4996266    0.49963365\n",
      "   0.49963851   0.49964825   0.49964842   0.49965439   0.49967029\n",
      "   0.49968492   0.49969574   0.49971324   0.49973116   0.49974501\n",
      "   0.49975708   0.49977247   0.4997826    0.49979471   0.49980174\n",
      "   0.49982435   0.49983945   0.49984809   0.49985121   0.49986912\n",
      "   0.49988718   0.49989157   0.49990388   0.49992318   0.49994181\n",
      "   0.49995784   0.49996914   0.49997425   0.49998866   0.50002276\n",
      "   0.50003458   0.50003609   0.50005943   0.50008101   0.50008412\n",
      "   0.50011686   0.50012072   0.50015924   0.50018073   0.50021658\n",
      "   0.50023959   0.50023915   0.50025469   0.50026982   0.50029638\n",
      "   0.50031516   0.50036012   0.50036823   0.50040183   0.50042644\n",
      "   0.50045014   0.50048652   0.50054286   0.50056944   0.50059347\n",
      "   0.50064115   0.50065566   0.50070323   0.50073806   0.50078096\n",
      "   0.50081824   0.50084301   0.50085947   0.50092634   0.50098336\n",
      "   0.50100656   0.50101425   0.50105756   0.50112447   0.50117118\n",
      "   0.50120239   0.50125694   0.50125506   0.50135683   0.50140559\n",
      "   0.50151043   0.50159265   0.50169922   0.5017849    0.50189116\n",
      "   0.50198134   0.50200311   0.50204276   0.50206455   0.5021194\n",
      "   0.50222576   0.50236388   0.50247741   0.50262415   0.50264314\n",
      "   0.50278394   0.50296396   0.50316672   0.50323879   0.50333032\n",
      "   0.50358822   0.50385335   0.50410307   0.50439902   0.50455019\n",
      "   0.50479601   0.50480424   0.50496622   0.5050711    0.50538919\n",
      "   0.5057227    0.50604323   0.50612019   0.50639353   0.50664952\n",
      "   0.50705246   0.50741972   0.50805663   0.50819679   0.50931805\n",
      "   0.50992984   0.51068872   0.51174      0.51263489   0.51306406\n",
      "   0.51325891   0.51374485   0.51491542   0.5147593    0.51626706\n",
      "   0.51838995   0.52019554   0.52140279   0.52257409   0.5247012\n",
      "   0.52705251   0.52980899   0.53132904   0.53268684   0.53390815\n",
      "   0.54091063   0.54425889   0.55086381   0.55549921   0.56888889\n",
      "   0.57433858   0.58997327   0.61030828   0.62287264   0.65778528\n",
      "   0.70886601   0.74880062   0.83220997   0.8944242    1.18634938\n",
      "   1.58889991   2.07796511   4.13044582  20.27295304]\n",
      "freq [ 0.          0.00200401  0.00400802  0.00601202  0.00801603  0.01002004\n",
      "  0.01202405  0.01402806  0.01603206  0.01803607  0.02004008  0.02204409\n",
      "  0.0240481   0.0260521   0.02805611  0.03006012  0.03206413  0.03406814\n",
      "  0.03607214  0.03807615  0.04008016  0.04208417  0.04408818  0.04609218\n",
      "  0.04809619  0.0501002   0.05210421  0.05410822  0.05611222  0.05811623\n",
      "  0.06012024  0.06212425  0.06412826  0.06613226  0.06813627  0.07014028\n",
      "  0.07214429  0.0741483   0.0761523   0.07815631  0.08016032  0.08216433\n",
      "  0.08416834  0.08617234  0.08817635  0.09018036  0.09218437  0.09418838\n",
      "  0.09619238  0.09819639  0.1002004   0.10220441  0.10420842  0.10621242\n",
      "  0.10821643  0.11022044  0.11222445  0.11422846  0.11623246  0.11823647\n",
      "  0.12024048  0.12224449  0.1242485   0.12625251  0.12825651  0.13026052\n",
      "  0.13226453  0.13426854  0.13627255  0.13827655  0.14028056  0.14228457\n",
      "  0.14428858  0.14629259  0.14829659  0.1503006   0.15230461  0.15430862\n",
      "  0.15631263  0.15831663  0.16032064  0.16232465  0.16432866  0.16633267\n",
      "  0.16833667  0.17034068  0.17234469  0.1743487   0.17635271  0.17835671\n",
      "  0.18036072  0.18236473  0.18436874  0.18637275  0.18837675  0.19038076\n",
      "  0.19238477  0.19438878  0.19639279  0.19839679  0.2004008   0.20240481\n",
      "  0.20440882  0.20641283  0.20841683  0.21042084  0.21242485  0.21442886\n",
      "  0.21643287  0.21843687  0.22044088  0.22244489  0.2244489   0.22645291\n",
      "  0.22845691  0.23046092  0.23246493  0.23446894  0.23647295  0.23847695\n",
      "  0.24048096  0.24248497  0.24448898  0.24649299  0.24849699  0.250501\n",
      "  0.25250501  0.25450902  0.25651303  0.25851703  0.26052104  0.26252505\n",
      "  0.26452906  0.26653307  0.26853707  0.27054108  0.27254509  0.2745491\n",
      "  0.27655311  0.27855711  0.28056112  0.28256513  0.28456914  0.28657315\n",
      "  0.28857715  0.29058116  0.29258517  0.29458918  0.29659319  0.29859719\n",
      "  0.3006012   0.30260521  0.30460922  0.30661323  0.30861723  0.31062124\n",
      "  0.31262525  0.31462926  0.31663327  0.31863727  0.32064128  0.32264529\n",
      "  0.3246493   0.32665331  0.32865731  0.33066132  0.33266533  0.33466934\n",
      "  0.33667335  0.33867735  0.34068136  0.34268537  0.34468938  0.34669339\n",
      "  0.34869739  0.3507014   0.35270541  0.35470942  0.35671343  0.35871743\n",
      "  0.36072144  0.36272545  0.36472946  0.36673347  0.36873747  0.37074148\n",
      "  0.37274549  0.3747495   0.37675351  0.37875752  0.38076152  0.38276553\n",
      "  0.38476954  0.38677355  0.38877756  0.39078156  0.39278557  0.39478958\n",
      "  0.39679359  0.3987976   0.4008016   0.40280561  0.40480962  0.40681363\n",
      "  0.40881764  0.41082164  0.41282565  0.41482966  0.41683367  0.41883768\n",
      "  0.42084168  0.42284569  0.4248497   0.42685371  0.42885772  0.43086172\n",
      "  0.43286573  0.43486974  0.43687375  0.43887776  0.44088176  0.44288577\n",
      "  0.44488978  0.44689379  0.4488978   0.4509018   0.45290581  0.45490982\n",
      "  0.45691383  0.45891784  0.46092184  0.46292585  0.46492986  0.46693387\n",
      "  0.46893788  0.47094188  0.47294589  0.4749499   0.47695391  0.47895792\n",
      "  0.48096192  0.48296593  0.48496994  0.48697395  0.48897796  0.49098196\n",
      "  0.49298597  0.49498998  0.49699399  0.498998   -0.498998   -0.49699399\n",
      " -0.49498998 -0.49298597 -0.49098196 -0.48897796 -0.48697395 -0.48496994\n",
      " -0.48296593 -0.48096192 -0.47895792 -0.47695391 -0.4749499  -0.47294589\n",
      " -0.47094188 -0.46893788 -0.46693387 -0.46492986 -0.46292585 -0.46092184\n",
      " -0.45891784 -0.45691383 -0.45490982 -0.45290581 -0.4509018  -0.4488978\n",
      " -0.44689379 -0.44488978 -0.44288577 -0.44088176 -0.43887776 -0.43687375\n",
      " -0.43486974 -0.43286573 -0.43086172 -0.42885772 -0.42685371 -0.4248497\n",
      " -0.42284569 -0.42084168 -0.41883768 -0.41683367 -0.41482966 -0.41282565\n",
      " -0.41082164 -0.40881764 -0.40681363 -0.40480962 -0.40280561 -0.4008016\n",
      " -0.3987976  -0.39679359 -0.39478958 -0.39278557 -0.39078156 -0.38877756\n",
      " -0.38677355 -0.38476954 -0.38276553 -0.38076152 -0.37875752 -0.37675351\n",
      " -0.3747495  -0.37274549 -0.37074148 -0.36873747 -0.36673347 -0.36472946\n",
      " -0.36272545 -0.36072144 -0.35871743 -0.35671343 -0.35470942 -0.35270541\n",
      " -0.3507014  -0.34869739 -0.34669339 -0.34468938 -0.34268537 -0.34068136\n",
      " -0.33867735 -0.33667335 -0.33466934 -0.33266533 -0.33066132 -0.32865731\n",
      " -0.32665331 -0.3246493  -0.32264529 -0.32064128 -0.31863727 -0.31663327\n",
      " -0.31462926 -0.31262525 -0.31062124 -0.30861723 -0.30661323 -0.30460922\n",
      " -0.30260521 -0.3006012  -0.29859719 -0.29659319 -0.29458918 -0.29258517\n",
      " -0.29058116 -0.28857715 -0.28657315 -0.28456914 -0.28256513 -0.28056112\n",
      " -0.27855711 -0.27655311 -0.2745491  -0.27254509 -0.27054108 -0.26853707\n",
      " -0.26653307 -0.26452906 -0.26252505 -0.26052104 -0.25851703 -0.25651303\n",
      " -0.25450902 -0.25250501 -0.250501   -0.24849699 -0.24649299 -0.24448898\n",
      " -0.24248497 -0.24048096 -0.23847695 -0.23647295 -0.23446894 -0.23246493\n",
      " -0.23046092 -0.22845691 -0.22645291 -0.2244489  -0.22244489 -0.22044088\n",
      " -0.21843687 -0.21643287 -0.21442886 -0.21242485 -0.21042084 -0.20841683\n",
      " -0.20641283 -0.20440882 -0.20240481 -0.2004008  -0.19839679 -0.19639279\n",
      " -0.19438878 -0.19238477 -0.19038076 -0.18837675 -0.18637275 -0.18436874\n",
      " -0.18236473 -0.18036072 -0.17835671 -0.17635271 -0.1743487  -0.17234469\n",
      " -0.17034068 -0.16833667 -0.16633267 -0.16432866 -0.16232465 -0.16032064\n",
      " -0.15831663 -0.15631263 -0.15430862 -0.15230461 -0.1503006  -0.14829659\n",
      " -0.14629259 -0.14428858 -0.14228457 -0.14028056 -0.13827655 -0.13627255\n",
      " -0.13426854 -0.13226453 -0.13026052 -0.12825651 -0.12625251 -0.1242485\n",
      " -0.12224449 -0.12024048 -0.11823647 -0.11623246 -0.11422846 -0.11222445\n",
      " -0.11022044 -0.10821643 -0.10621242 -0.10420842 -0.10220441 -0.1002004\n",
      " -0.09819639 -0.09619238 -0.09418838 -0.09218437 -0.09018036 -0.08817635\n",
      " -0.08617234 -0.08416834 -0.08216433 -0.08016032 -0.07815631 -0.0761523\n",
      " -0.0741483  -0.07214429 -0.07014028 -0.06813627 -0.06613226 -0.06412826\n",
      " -0.06212425 -0.06012024 -0.05811623 -0.05611222 -0.05410822 -0.05210421\n",
      " -0.0501002  -0.04809619 -0.04609218 -0.04408818 -0.04208417 -0.04008016\n",
      " -0.03807615 -0.03607214 -0.03406814 -0.03206413 -0.03006012 -0.02805611\n",
      " -0.0260521  -0.0240481  -0.02204409 -0.02004008 -0.01803607 -0.01603206\n",
      " -0.01402806 -0.01202405 -0.01002004 -0.00801603 -0.00601202 -0.00400802\n",
      " -0.00200401]\n"
     ]
    }
   ],
   "source": [
    "c_omega = np.fft.fft(xtraj/normalization)\n",
    "tt = np.arange(0,len(c_omega))\n",
    "freq = np.fft.fftfreq(tt.shape[-1], d=1)\n",
    "print('c_omega', c_omega.real)\n",
    "print('freq', freq)"
   ]
  },
  {
   "cell_type": "code",
   "execution_count": 13,
   "id": "35d81e1f",
   "metadata": {
    "scrolled": true
   },
   "outputs": [
    {
     "data": {
      "image/png": "[encoded data removed]",
      "text/plain": [
       "<Figure size 432x288 with 1 Axes>"
      ]
     },
     "metadata": {
      "needs_background": "light"
     },
     "output_type": "display_data"
    }
   ],
   "source": [
    "\n",
    "plt.plot(freq, c_omega.real)\n",
    "plt.xlabel('$\\omega$')\n",
    "plt.ylabel('$C(\\omega)$')\n",
    "plt.show()"
   ]
  },
  {
   "cell_type": "markdown",
   "id": "69e3580a",
   "metadata": {},
   "source": [
    "Calculate autocorrelation from analytical solution"
   ]
  },
  {
   "cell_type": "code",
   "execution_count": 14,
   "id": "766337b3",
   "metadata": {},
   "outputs": [
    {
     "data": {
      "image/png": "[encoded data removed]",
      "text/plain": [
       "<Figure size 432x288 with 1 Axes>"
      ]
     },
     "metadata": {
      "needs_background": "light"
     },
     "output_type": "display_data"
    }
   ],
   "source": [
    "omega_list = np.linspace(-10, 150, 100)\n",
    "paper_soln = analytical_soln_acf_generic(omega_list, pars)\n",
    "plt.scatter(omega_list, np.array(paper_soln)/(1e-7), marker = 's', label='$C(\\omega)$')\n",
    "plt.xlabel('$\\omega$')\n",
    "plt.ylabel('$m^2 s$')\n",
    "plt.legend()\n",
    "plt.show()"
   ]
  },
  {
   "cell_type": "code",
   "execution_count": 15,
   "id": "6d91cf03",
   "metadata": {},
   "outputs": [
    {
     "data": {
      "image/png": "[encoded data removed]",
      "text/plain": [
       "<Figure size 432x288 with 1 Axes>"
      ]
     },
     "metadata": {
      "needs_background": "light"
     },
     "output_type": "display_data"
    }
   ],
   "source": [
    "plt.xscale('log')\n",
    "plt.yscale('log')\n",
    "omega_new_list = np.linspace(1, 200, 100)\n",
    "paper_soln_logspace = analytical_soln_acf_generic(omega_new_list, pars)\n",
    "plt.scatter(omega_new_list, np.array(paper_soln_logspace)/(1e-7), marker = 's', label='$C(\\omega)$ in loglog plot')\n",
    "plt.xlabel('$\\omega$')\n",
    "plt.ylabel('$m^2 s$')\n",
    "plt.legend()\n",
    "plt.show()"
   ]
  },
  {
   "cell_type": "code",
   "execution_count": 16,
   "id": "ad73fdea",
   "metadata": {},
   "outputs": [
    {
     "data": {
      "image/png": "[encoded data removed]",
      "text/plain": [
       "<Figure size 432x288 with 1 Axes>"
      ]
     },
     "metadata": {
      "needs_background": "light"
     },
     "output_type": "display_data"
    }
   ],
   "source": [
    "omega_new_list = np.linspace(1, 900, 100)\n",
    "paper_soln_logspace = analytical_soln_acf_generic(omega_new_list, pars)\n",
    "inverse_fourier = np.fft.ifft(paper_soln_logspace)\n",
    "plt.plot(inverse_fourier.real[:55]/(1e-6), label='$C(t)$')\n",
    "plt.axhline(0*10**-7, color='black')\n",
    "plt.legend()\n",
    "plt.xlabel('time')\n",
    "plt.ylabel('$m^2$')\n",
    "\n",
    "plt.show()"
   ]
  },
  {
   "cell_type": "code",
   "execution_count": null,
   "id": "d1abad0a",
   "metadata": {},
   "outputs": [],
   "source": []
  }
 ],
 "metadata": {
  "kernelspec": {
   "display_name": "Python 3",
   "language": "python",
   "name": "python3"
  },
  "language_info": {
   "codemirror_mode": {
    "name": "ipython",
    "version": 3
   },
   "file_extension": ".py",
   "mimetype": "text/x-python",
   "name": "python",
   "nbconvert_exporter": "python",
   "pygments_lexer": "ipython3",
   "version": "3.8.8"
  }
 },
 "nbformat": 4,
 "nbformat_minor": 5
}
