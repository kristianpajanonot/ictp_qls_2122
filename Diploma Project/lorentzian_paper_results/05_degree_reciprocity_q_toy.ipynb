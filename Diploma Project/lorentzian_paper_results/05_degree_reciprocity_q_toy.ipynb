{
 "cells": [
  {
   "cell_type": "code",
   "execution_count": 1,
   "id": "c032c4fe",
   "metadata": {},
   "outputs": [],
   "source": [
    "import numpy as np\n",
    "import matplotlib.pyplot as plt\n",
    "from tqdm import tqdm\n",
    "from scipy.stats import linregress"
   ]
  },
  {
   "cell_type": "markdown",
   "id": "25d25c82",
   "metadata": {},
   "source": [
    "### Langevin Equation\n",
    "$$ \\gamma_0 \\dot{x_1} =  a_{00} x_1 + a_{01} x_2  + \\sqrt{2k_B T \\gamma_0}ξ_0 $$\n",
    "$$ \\gamma_1 \\dot{x_2} =  a_{10} x_1 + a_{11} x_2  + \\sqrt{2k_B T \\gamma_1}ξ_1 $$\n",
    "\n",
    "Which we can rewrite as:\n",
    "\n",
    "$$ \\dot{x_1} = \\frac{a_{00}}{\\gamma_0} x_1 + \\frac{a_{01}}{\\gamma_0} x_2 + \\sqrt{\\frac{2k_B T_1 \\gamma_0}{\\gamma_0^2}}ξ_0 $$\n",
    "$$ \\dot{x_2} =  \\frac{a_{10}}{\\gamma_1} x_1 + \\frac{a_{11}}{\\gamma_1} x_2 + \\sqrt{\\frac{2k_B T_2 \\gamma_1}{\\gamma_1^2}}ξ_1 $$"
   ]
  },
  {
   "cell_type": "markdown",
   "id": "befaef1b",
   "metadata": {},
   "source": [
    "where: $a_{00} = -1$, $a_{01} = -0.5$, $a_{10} = -0.5$, $a_{11} = -1$, $k_B T = 4.1$, $\\gamma_0 = 1$, $\\gamma_1 = 1$"
   ]
  },
  {
   "cell_type": "markdown",
   "id": "ac121862",
   "metadata": {},
   "source": [
    "### Euler method\n",
    "\n",
    "Euler Scheme\n",
    "\n",
    "$$ X_{t+\\Delta t} = X_t + f(X_t, t)\\Delta t + g(X_t,t)\\Delta B_t $$\n",
    "\n",
    "where $$ \\Delta B_t = \\mathcal{N}(0, \\sqrt\\Delta t) $$"
   ]
  },
  {
   "cell_type": "code",
   "execution_count": 2,
   "id": "960fa5c0",
   "metadata": {},
   "outputs": [],
   "source": [
    "#paramaters\n",
    "#change all units to: force = pN, length = nm, time = ms\n",
    "pars = {}\n",
    "pars['a00'] = -1\n",
    "pars['a01'] = -0\n",
    "pars['a10'] = -0.5\n",
    "pars['a11'] = -1\n",
    "pars['gamma0'] = 1\n",
    "pars['gamma1'] = 1\n",
    "\n",
    "pars['kbT'] = 4.1\n",
    "pars['noise0'] = 2*pars['gamma0']*pars['kbT']\n",
    "pars['noise1'] = 2*pars['gamma1']*pars['kbT']\n",
    "\n",
    "pars['delta_t'] = 0.01\n",
    "pars['n_realizations'] = 100"
   ]
  },
  {
   "cell_type": "code",
   "execution_count": 3,
   "id": "06c7f43a",
   "metadata": {},
   "outputs": [],
   "source": [
    "def euler_one_traj(n_time, pars):   \n",
    "    #initial condition\n",
    "    x1 = 0\n",
    "    x2 = 0\n",
    "    x1_traj = []\n",
    "    x2_traj = []\n",
    "    \n",
    "    #performing 1 traj with n_time number of data points\n",
    "    for i in range(n_time):\n",
    "        #generate delta_B\n",
    "        s1 = np.random.normal(0, np.sqrt(pars['delta_t']) )\n",
    "        s2 = np.random.normal(0, np.sqrt(pars['delta_t']) )\n",
    "        #solve for x1, x2\n",
    "        x1_new = x1 + (pars['a00']/pars['gamma0'])*x1*pars['delta_t'] + \\\n",
    "        (pars['a01']/pars['gamma0'])*x2*pars['delta_t'] + \\\n",
    "        np.sqrt((pars['noise0'])/((pars['gamma0'])**2))*s1\n",
    "                 \n",
    "        x2_new = x2 + (pars['a11']/pars['gamma1'])*x2*pars['delta_t'] + \\\n",
    "        (pars['a10']/pars['gamma1'])*x1*pars['delta_t'] + \\\n",
    "        np.sqrt((pars['noise1'])/((pars['gamma0'])**2))*s2\n",
    "                \n",
    "        x1 = x1_new\n",
    "        x2 = x2_new\n",
    "        \n",
    "        x1_traj.append(x1)\n",
    "        x2_traj.append(x2)\n",
    "    return x1_traj, x2_traj"
   ]
  },
  {
   "cell_type": "markdown",
   "id": "6740f2bb",
   "metadata": {},
   "source": [
    "### Functions for stochastic heat"
   ]
  },
  {
   "cell_type": "markdown",
   "id": "22785bde",
   "metadata": {},
   "source": [
    "### Stochastic Heat:\n",
    "\n",
    "$$ 0 = - \\gamma_0 \\dot{x_1} + \\sqrt{2k_B T \\gamma_0}ξ_0 + a_{00} x_1 + a_{01} x_2  $$\n",
    "$$ 0 = - \\gamma_1 \\dot{x_2} + \\sqrt{2k_B T \\gamma_1}ξ_1 + a_{10} x_1 + a_{11} x_2   $$\n",
    "\n",
    "For $x_1$:\n",
    "\n",
    "$$ \\delta Q_1 = (-\\gamma_0 \\dot{x} + \\sqrt{2k_B T \\gamma_0}ξ_0) \\circ dx_1  = -(a_{00} x_1 + a_{01} x_2) \\circ dx_1$$\n",
    "\n",
    "$$ \\delta Q_1 = -(a_{00} x_1 + a_{01} x_2) \\circ dx_1 $$\n",
    "\n",
    "For $x_2$:\n",
    "\n",
    "$$ \\delta Q_2 = (-\\gamma_1 \\dot{x} + \\sqrt{2k_B T \\gamma_1}ξ_1) \\circ dx_2  = -(a_{10} x_1 + a_{11} x_2) \\circ dx_2$$\n",
    "\n",
    "$$ \\delta Q_2 = -(a_{10} x_1 + a_{11} x_2) \\circ dx_2 $$"
   ]
  },
  {
   "cell_type": "markdown",
   "id": "9519b0a2",
   "metadata": {},
   "source": [
    "Final equation for stochastic heat:\n",
    "\n",
    "$$ \\delta Q_1 = -(a_{00} x_1 + a_{01} x_2) \\circ dx_1  $$\n",
    "\n",
    "$$ \\delta Q_2 = -(a_{11} x_2 + a_{10} x_1) \\circ dx_2  $$"
   ]
  },
  {
   "cell_type": "code",
   "execution_count": 4,
   "id": "4427ad18",
   "metadata": {},
   "outputs": [],
   "source": [
    "def calc_stochastic_heat_q1(x1, x2, pars):\n",
    "    \"\"\"Calculates stochastic heat per time delta following equation (3)\n",
    "    Input:\n",
    "    x1 (list) = x1_trajectory_list\n",
    "    x2 (list) = x2_trajectory_list\n",
    "    pars (dictionary) = parameters\n",
    "    \n",
    "    Here's an example:\n",
    "    x1 =       [1,2,3,4,5]\n",
    "    x1_shift = [5,1,2,3,4]\n",
    "    Then we can easily calculate operations, e.g. dx1 = x1 - x1_ shift\n",
    "    Vectorization (technique of implementing array operations without using for loop) is easier.\n",
    "    \n",
    "    After which, we discard the first element\n",
    "    \n",
    "    Returns:\n",
    "    stochastic heat as shown in equation (3)\"\"\"\n",
    "    x1_shift = np.roll(x1, shift = 1)   \n",
    "    x2_shift = np.roll(x2, shift = 1)\n",
    "    \n",
    "    first_term = -pars['a00']*((x1 + x1_shift)/2)\n",
    "    second_term = -pars['a01']*((x2 + x2_shift)/2)\n",
    "    dx1 = x1 - x1_shift\n",
    "    return (first_term[1:] + second_term[1:])*dx1[1:]\n",
    "\n",
    "def calc_stochastic_heat_q2(x1, x2, pars):\n",
    "    x1_shift = np.roll(x1, shift = 1)   \n",
    "    x2_shift = np.roll(x2, shift = 1)    \n",
    "    \n",
    "    first_term = -pars['a11']*((x2 + x2_shift)/2)\n",
    "    second_term = -pars['a10']*((x1 + x1_shift)/2)\n",
    "    dx2 = x2 - x2_shift\n",
    "    return (second_term[1:] + first_term[1:])*dx2[1:]"
   ]
  },
  {
   "cell_type": "code",
   "execution_count": 5,
   "id": "5294b08b",
   "metadata": {},
   "outputs": [],
   "source": [
    "#function to calculate average q (cumulative_heat) after performing n_realizations\n",
    "def average_q(max1_time, pars):\n",
    "    min_time = 0\n",
    "    n_time = int((max1_time - min_time)/pars['delta_t'] + 1) #n_time = num of evenlx2 spaced samples (ex1. 1001 points)\n",
    "    time = np.linspace(min_time, max1_time, n_time) #time(ex1. 0 (min time), 0.01, 0.02, ..., 10 (max1 time)) with n_time no. of data points\n",
    "    \n",
    "    average_q1_trajectorx2 = 0\n",
    "    average_q2_trajectorx2 = 0\n",
    "    \n",
    "    relax_time = int(abs(pars['gamma0']/pars['a00']))\n",
    "    \n",
    "    for i in range(pars['n_realizations']):\n",
    "        x1_traj, x2_traj = euler_one_traj(n_time, pars)\n",
    "        final_x1_traj = x1_traj[relax_time::]\n",
    "        final_x2_traj = x2_traj[relax_time::]\n",
    "        \n",
    "        \n",
    "        q1_trajectorx2 = calc_stochastic_heat_q1(final_x1_traj, final_x2_traj, pars)\n",
    "        q1_cumulative = np.cumsum(q1_trajectorx2)\n",
    "        \n",
    "        q2_trajectorx2 = calc_stochastic_heat_q2(final_x1_traj, final_x2_traj, pars)\n",
    "        q2_cumulative = np.cumsum(q2_trajectorx2)\n",
    "        \n",
    "        average_q1_trajectorx2 += q1_cumulative/pars['n_realizations']\n",
    "        average_q2_trajectorx2 += q2_cumulative/pars['n_realizations']\n",
    "        \n",
    "    return average_q1_trajectorx2, average_q2_trajectorx2, time[:-1]"
   ]
  },
  {
   "cell_type": "code",
   "execution_count": null,
   "id": "525b31d6",
   "metadata": {},
   "outputs": [
    {
     "name": "stderr",
     "output_type": "stream",
     "text": [
      " 22%|██▏       | 11/51 [07:16<25:07, 37.68s/it]"
     ]
    }
   ],
   "source": [
    "a01_list = np.arange(0, 0.5 + 0.01, 0.01)\n",
    "\n",
    "qx1_last_element_list = []\n",
    "qx1_slope_list = []\n",
    "for i in tqdm(a01_list):\n",
    "    pars['a01'] = -i\n",
    "    qx1_neq, qx2_neq, time = average_q(300, pars)\n",
    "    last_element = qx1_neq[-1]\n",
    "    qx1_last_element_list.append(last_element)\n",
    "    \n",
    "    x_axis = np.linspace(0,len(qx1_neq), len(qx1_neq))\n",
    "    result_qx1_neq = linregress(x_axis, qx1_neq)\n",
    "    qx1_slope_list.append(result_qx1_neq.slope)\n",
    "    "
   ]
  },
  {
   "cell_type": "code",
   "execution_count": null,
   "id": "624981fd",
   "metadata": {},
   "outputs": [],
   "source": [
    "fig = plt.figure(figsize=(8,6))\n",
    "plt.scatter(a01_list, qx1_last_element_list)\n",
    "\n",
    "plt.xlabel('$a_{01}$', fontsize=12.5)\n",
    "plt.ylabel('$\\\\left<\\dot{Q}_t \\\\right>$ ($pN$ $nm$)', fontsize=12.5)\n",
    "plt.xticks(fontsize=12.5)\n",
    "plt.yticks(fontsize=12.5)\n",
    "plt.savefig('reciprocity_q.png', dpi=300)\n",
    "\n",
    "plt.show()"
   ]
  },
  {
   "cell_type": "code",
   "execution_count": null,
   "id": "b8850eea",
   "metadata": {},
   "outputs": [],
   "source": [
    "fig = plt.figure(figsize=(8,6))\n",
    "plt.scatter(a01_list, qx1_slope_list)\n",
    "plt.ylabel('slope of average cumulative heat')\n",
    "plt.xlabel('$a_{01}$')\n",
    "\n",
    "plt.show()"
   ]
  },
  {
   "cell_type": "code",
   "execution_count": null,
   "id": "102e8980",
   "metadata": {},
   "outputs": [],
   "source": []
  }
 ],
 "metadata": {
  "kernelspec": {
   "display_name": "Python 3",
   "language": "python",
   "name": "python3"
  },
  "language_info": {
   "codemirror_mode": {
    "name": "ipython",
    "version": 3
   },
   "file_extension": ".py",
   "mimetype": "text/x-python",
   "name": "python",
   "nbconvert_exporter": "python",
   "pygments_lexer": "ipython3",
   "version": "3.8.8"
  }
 },
 "nbformat": 4,
 "nbformat_minor": 5
}
