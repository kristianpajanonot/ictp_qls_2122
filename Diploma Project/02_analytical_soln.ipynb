{
 "cells": [
  {
   "cell_type": "code",
   "execution_count": 1,
   "id": "72f7a84c",
   "metadata": {},
   "outputs": [],
   "source": [
    "import numpy as np\n",
    "import matplotlib.pyplot as plt"
   ]
  },
  {
   "cell_type": "markdown",
   "id": "041f80c7",
   "metadata": {},
   "source": [
    "### Langevin Equation\n",
    "\n",
    "$$ \\gamma \\dot{x} = -V^\\prime _1 (x) - k_1 y + \\sqrt{2k_B T_1 \\gamma}ξ_1 $$\n",
    "$$ \\gamma \\dot{y} = -V^\\prime _2 (y) - k_2 x + \\sqrt{2k_B T_2 \\gamma}ξ_2 $$"
   ]
  },
  {
   "cell_type": "markdown",
   "id": "6e48cc47",
   "metadata": {},
   "source": [
    "$$ V_1 = \\frac{a_1}{2} (x)^2, V_2 = \\frac{a_2}{2} (y)^2 $$"
   ]
  },
  {
   "cell_type": "markdown",
   "id": "af0a5f4b",
   "metadata": {},
   "source": [
    "$$ \\dot{x} = -\\frac{a_1}{\\gamma} (x) - \\frac{k_1}{\\gamma} (y) + \\sqrt{\\frac{2k_B T_1}{\\gamma}}ξ_1 $$\n",
    "$$ \\dot{y} = -\\frac{a_2}{\\gamma} (y) - \\frac{k_2}{\\gamma} (x) + \\sqrt{\\frac{2k_B T_2}{\\gamma}}ξ_2 $$"
   ]
  },
  {
   "cell_type": "markdown",
   "id": "320ab11e",
   "metadata": {},
   "source": [
    "Euler Scheme\n",
    "\n",
    "$$ X_{t+\\Delta t} = X_t + f(X_t, t)\\Delta t + g(X_t,t)\\Delta B_t $$\n",
    "\n",
    "where $$ \\Delta B_t = \\mathcal{N}(0, \\sqrt\\Delta t) $$"
   ]
  },
  {
   "cell_type": "markdown",
   "id": "29662640",
   "metadata": {},
   "source": [
    "### Analytical solution:"
   ]
  },
  {
   "cell_type": "markdown",
   "id": "fb708dbe",
   "metadata": {},
   "source": [
    "$$ dx = -\\frac{a_1}{\\gamma} (x) dt - \\frac{k_1}{\\gamma} (y) dt + \\sqrt{\\frac{2k_B T_1}{\\gamma}}ξ_1 dt $$\n",
    "$$ dy = -\\frac{a_2}{\\gamma} (y) dt - \\frac{k_2}{\\gamma} (x) dt + \\sqrt{\\frac{2k_B T_2}{\\gamma}}ξ_2 dt $$"
   ]
  },
  {
   "cell_type": "markdown",
   "id": "8292d9cf",
   "metadata": {},
   "source": [
    "The probability density P(x,t) and P(y,t) follows a Gaussian distribution "
   ]
  },
  {
   "cell_type": "markdown",
   "id": "f9561cc8",
   "metadata": {},
   "source": [
    "$$ P(x, t) = \\frac{1}{\\sqrt{2 \\pi \\sigma ^2 _x}} \\exp {- \\frac{(x - \\mu _x)^2}{2 \\sigma ^2 _x}}$$\n",
    "\n",
    "$$ P(y, t) = \\frac{1}{\\sqrt{2 \\pi \\sigma ^2 _y}} \\exp {- \\frac{(y - \\mu _y)^2}{2 \\sigma ^2 _y}}$$"
   ]
  },
  {
   "cell_type": "markdown",
   "id": "310aff2c",
   "metadata": {},
   "source": [
    "$$ \\mu_x = (-\\frac{a_1}{\\gamma} (x_1 - x_0) - \\frac{k_1}{\\gamma} (y_1 - y_0)) t$$\n",
    "$$ \\sigma ^2 _x = (\\frac{2k_B T_1}{\\gamma}) t $$\n",
    "\n",
    "$$ \\mu_y = (-\\frac{a_2}{\\gamma} (y_1 - y_0) - \\frac{k_2}{\\gamma} (x_1 - x_0)) t$$\n",
    "$$ \\sigma ^2 _y = (\\frac{2k_B T_2}{\\gamma}) t $$"
   ]
  },
  {
   "cell_type": "code",
   "execution_count": 2,
   "id": "3e33551d",
   "metadata": {},
   "outputs": [],
   "source": [
    "def euler_one_traj(n_time, pars):   \n",
    "    #initial condition\n",
    "    x = 0\n",
    "    y = 0\n",
    "    x_traj = []\n",
    "    y_traj = []\n",
    "    \n",
    "    #performing 1 traj with n_time number of data points\n",
    "    for i in range(n_time):\n",
    "        #generate delta_B\n",
    "        s1 = np.random.normal(0, np.sqrt(pars['delta_t']) )\n",
    "        s2 = np.random.normal(0, np.sqrt(pars['delta_t']) )\n",
    "        #solve for x, y\n",
    "        x_new = x - (pars['a1']/pars['gamma'])*x*pars['delta_t'] - \\\n",
    "        (pars['k1']/pars['gamma'])*y*pars['delta_t'] + \\\n",
    "        np.sqrt((2*pars['Kb']*pars['T1'])/pars['gamma'])*s1\n",
    "                 \n",
    "        y_new = y - (pars['a2']/pars['gamma'])*y*pars['delta_t'] - \\\n",
    "        (pars['k2']/pars['gamma'])*x*pars['delta_t'] + \\\n",
    "        np.sqrt((2*pars['Kb']*pars['T2'])/pars['gamma'])*s2\n",
    "                \n",
    "        x = x_new\n",
    "        y = y_new\n",
    "        \n",
    "        x_traj.append(x)\n",
    "        y_traj.append(y)\n",
    "    return x_traj, y_traj"
   ]
  },
  {
   "cell_type": "code",
   "execution_count": 3,
   "id": "8e4ace7b",
   "metadata": {},
   "outputs": [],
   "source": [
    "def euler_n_traj(max_time, pars):\n",
    "    min_time = 0\n",
    "    n_time = int((max_time - min_time)/pars['delta_t'] + 1) #n_time = num of evenly spaced samples (ex. 1001 points)\n",
    "    time = np.linspace(min_time, max_time, n_time) #time(ex. 0 (min time), 0.01, 0.02, ..., 10 (max time)) with n_time no. of data points\n",
    "    \n",
    "    x_traj_list = []\n",
    "    y_traj_list = []\n",
    "    for i in range(pars['n_realizations']):\n",
    "        x_traj, y_traj = euler_one_traj(n_time, pars)\n",
    "        x_traj_list.append(x_traj)\n",
    "        y_traj_list.append(y_traj)\n",
    "        \n",
    "    return x_traj_list, y_traj_list, time"
   ]
  },
  {
   "cell_type": "markdown",
   "id": "165fc5b4",
   "metadata": {},
   "source": [
    "Functions for analytical solution of Pst"
   ]
  },
  {
   "cell_type": "code",
   "execution_count": 4,
   "id": "0929c281",
   "metadata": {},
   "outputs": [],
   "source": [
    "def analytical_soln_x(times, start, end, pars):\n",
    "    prob_list = []\n",
    "    x = np.linspace(start, end, 100)\n",
    "    x_shift = np.roll(x, shift = 1)\n",
    "    y = np.linspace(start, end, 100)\n",
    "    y_shift = np.roll(y, shift = 1)\n",
    "    \n",
    "    for x_, y_, x_shift_, y_shift_ in zip(x, y, x_shift, y_shift):\n",
    "        mean = (((-pars['a1']/pars['gamma'])*(x_ - x_shift_)) - ((pars['k1']/pars['gamma'])*(y_ - y_shift_))) *times\n",
    "        var = ((2*pars['Kb']*pars['T1'])/pars['gamma'])*times\n",
    "        exponent = np.exp(-((x_ - mean)**2) / (2*var)) \n",
    "        prob = exponent/ np.sqrt(2*np.pi*var)\n",
    "        prob_list.append(prob)\n",
    "    return prob_list[1:], x[1:]\n",
    "\n",
    "def analytical_soln_y(times, start, end, pars):\n",
    "    prob_list = []\n",
    "    x = np.linspace(start, end, 100)\n",
    "    x_shift = np.roll(x, shift = 1)\n",
    "    y = np.linspace(start, end, 100)\n",
    "    y_shift = np.roll(y, shift = 1)\n",
    "    \n",
    "    for x_, y_, x_shift_, y_shift_ in zip(x, y, x_shift, y_shift):\n",
    "        mean = (((-pars['a2']/pars['gamma'])*(y_ - y_shift_)) - ((pars['k2']/pars['gamma'])*(x_ - x_shift_))) *times\n",
    "        var = ((2*pars['Kb']*pars['T2'])/pars['gamma'])*times\n",
    "        exponent = np.exp(-((y_ - mean)**2) / (2*var)) \n",
    "        prob = exponent/ np.sqrt(2*np.pi*var)\n",
    "        prob_list.append(prob)\n",
    "    return prob_list[1:], x[1:]\n",
    "\n",
    "def obtain_last_element_traj(x_traj_list, y_traj_list):\n",
    "    x_list = []\n",
    "    y_list = []\n",
    "    for x in x_traj_list:\n",
    "        last_elementx = x[-1]\n",
    "        x_list.append(last_elementx)\n",
    "        \n",
    "    for y in y_traj_list:\n",
    "        last_elementy = y[-1]\n",
    "        y_list.append(last_elementy)\n",
    "    \n",
    "    return x_list, y_list"
   ]
  },
  {
   "cell_type": "markdown",
   "id": "88595771",
   "metadata": {},
   "source": [
    "Plot probability distributions"
   ]
  },
  {
   "cell_type": "code",
   "execution_count": 5,
   "id": "1bf38fe6",
   "metadata": {},
   "outputs": [],
   "source": [
    "#paramaters\n",
    "pars = {}\n",
    "pars['a1'] = 1\n",
    "pars['k1'] = 1\n",
    "pars['T1'] = 100\n",
    "pars['a2'] = 1\n",
    "pars['k2'] = 1\n",
    "pars['T2'] = 100\n",
    "\n",
    "pars['gamma'] = 1\n",
    "pars['delta_t'] = 0.01\n",
    "pars['Kb'] = 1.38*np.exp(-23)"
   ]
  },
  {
   "cell_type": "markdown",
   "id": "6b55e22f",
   "metadata": {},
   "source": [
    "## T1 = 100, T2 = 100"
   ]
  },
  {
   "cell_type": "code",
   "execution_count": 6,
   "id": "5183b06d",
   "metadata": {},
   "outputs": [],
   "source": [
    "#for t = 1s\n",
    "pars['T1'] = 100\n",
    "pars['T2'] = 100\n",
    "pars['n_realizations'] = 1000\n",
    "analytical_x1s, x_1s = analytical_soln_x(1, -0.0004, 0.0004, pars)\n",
    "analytical_y1s, y_1s = analytical_soln_y(1, -0.0004, 0.0004, pars)\n",
    "x_traj_list, y_traj_list, time = euler_n_traj(1, pars)\n",
    "x_list, y_list = obtain_last_element_traj(x_traj_list, y_traj_list)"
   ]
  },
  {
   "cell_type": "code",
   "execution_count": 7,
   "id": "95ae1d9a",
   "metadata": {},
   "outputs": [
    {
     "data": {
      "image/png": "[encoded data removed]",
      "text/plain": [
       "<Figure size 720x288 with 1 Axes>"
      ]
     },
     "metadata": {
      "needs_background": "light"
     },
     "output_type": "display_data"
    }
   ],
   "source": [
    "plt.figure(figsize=(10,4))\n",
    "plt.hist(x_list, density = True, edgecolor = 'black', color = 'white', bins = 20, label = 'numerical x')\n",
    "plt.plot(x_1s, analytical_x1s, color = 'red', label = 'analytical x')\n",
    "plt.legend()\n",
    "plt.show()"
   ]
  },
  {
   "cell_type": "code",
   "execution_count": 8,
   "id": "59e6e9de",
   "metadata": {},
   "outputs": [
    {
     "data": {
      "image/png": "[encoded data removed]",
      "text/plain": [
       "<Figure size 720x288 with 1 Axes>"
      ]
     },
     "metadata": {
      "needs_background": "light"
     },
     "output_type": "display_data"
    }
   ],
   "source": [
    "plt.figure(figsize=(10,4))\n",
    "plt.hist(y_list, density = True, edgecolor = 'black', color = 'white', bins = 20, label = 'numerical y')\n",
    "plt.plot(y_1s, analytical_y1s, color = 'red', label = 'analytical y')\n",
    "plt.legend()\n",
    "plt.show()"
   ]
  },
  {
   "cell_type": "markdown",
   "id": "2aa1c3e8",
   "metadata": {},
   "source": [
    "### T1 = 100, T2 = 600"
   ]
  },
  {
   "cell_type": "code",
   "execution_count": 9,
   "id": "750a98d3",
   "metadata": {
    "scrolled": true
   },
   "outputs": [],
   "source": [
    "#for t = 1s\n",
    "pars['T1'] = 100\n",
    "pars['T2'] = 600\n",
    "pars['n_realizations'] = 1000\n",
    "analytical_x1s, x_1s = analytical_soln_x(1, -0.0006, 0.0006, pars)\n",
    "analytical_y1s, y_1s = analytical_soln_y(1, -0.0010, 0.0010, pars)\n",
    "x_traj_list, y_traj_list, time = euler_n_traj(1, pars)\n",
    "x_list, y_list = obtain_last_element_traj(x_traj_list, y_traj_list)"
   ]
  },
  {
   "cell_type": "code",
   "execution_count": 10,
   "id": "29938c70",
   "metadata": {},
   "outputs": [
    {
     "data": {
      "image/png": "[encoded data removed]",
      "text/plain": [
       "<Figure size 720x288 with 1 Axes>"
      ]
     },
     "metadata": {
      "needs_background": "light"
     },
     "output_type": "display_data"
    }
   ],
   "source": [
    "plt.figure(figsize=(10,4))\n",
    "plt.hist(x_list, density = True, edgecolor = 'black', color = 'white', bins = 20, label = 'numerical x')\n",
    "plt.plot(x_1s, analytical_x1s, color = 'red', label = 'analytical x')\n",
    "plt.legend()\n",
    "plt.show()"
   ]
  },
  {
   "cell_type": "code",
   "execution_count": 11,
   "id": "d41b3c5a",
   "metadata": {},
   "outputs": [
    {
     "data": {
      "image/png": "[encoded data removed]",
      "text/plain": [
       "<Figure size 720x288 with 1 Axes>"
      ]
     },
     "metadata": {
      "needs_background": "light"
     },
     "output_type": "display_data"
    }
   ],
   "source": [
    "plt.figure(figsize=(10,4))\n",
    "plt.hist(y_list, density = True, edgecolor = 'black', color = 'white', bins = 20, label = 'numerical y')\n",
    "plt.plot(y_1s, analytical_y1s, color = 'red', label = 'analytical y')\n",
    "plt.legend()\n",
    "plt.show()"
   ]
  },
  {
   "cell_type": "code",
   "execution_count": null,
   "id": "70dc4153",
   "metadata": {},
   "outputs": [],
   "source": []
  }
 ],
 "metadata": {
  "kernelspec": {
   "display_name": "Python 3",
   "language": "python",
   "name": "python3"
  },
  "language_info": {
   "codemirror_mode": {
    "name": "ipython",
    "version": 3
   },
   "file_extension": ".py",
   "mimetype": "text/x-python",
   "name": "python",
   "nbconvert_exporter": "python",
   "pygments_lexer": "ipython3",
   "version": "3.8.8"
  }
 },
 "nbformat": 4,
 "nbformat_minor": 5
}
