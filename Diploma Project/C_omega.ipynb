{
 "cells": [
  {
   "cell_type": "code",
   "execution_count": 1,
   "id": "5c5aff3c",
   "metadata": {},
   "outputs": [],
   "source": [
    "import numpy as np\n",
    "import matplotlib.pyplot as plt\n",
    "import scipy.signal as signal"
   ]
  },
  {
   "cell_type": "code",
   "execution_count": 2,
   "id": "285e0ff1",
   "metadata": {},
   "outputs": [],
   "source": [
    "pars = {}\n",
    "pars['Df'] = 4.916*10**-12\n",
    "pars['k'] = 21*10**-6\n",
    "pars['kbar'] = 1.348*10**-3\n",
    "pars['gamma'] = 8.72*10**-6\n",
    "pars['lambda'] = 54.8*10**-3\n",
    "pars['kbT'] = 4.1*10**-21\n",
    "pars['Dx'] = 2*pars['gamma']*pars['kbT']"
   ]
  },
  {
   "cell_type": "code",
   "execution_count": 3,
   "id": "f95b4b52",
   "metadata": {},
   "outputs": [],
   "source": [
    "def analytical_soln_acf_paper(omega_list, pars):\n",
    "    cxx_list = []\n",
    "    for omega_ in omega_list:\n",
    "\n",
    "        numerator_ = pars['Df'] + (pars['Dx']*(1 + ((pars['lambda']**2) * (omega_**2))))\n",
    "        denominator_ = 2*pars['k']*pars['kbar'] + ( (pars['gamma']**2) * (omega_**2) ) \\\n",
    "        + ( (pars['kbar'] - pars['gamma']*pars['lambda']*(omega_**2) )**2) \\\n",
    "        + ( (pars['k']**2) *(1 + ((pars['lambda']**2) * (omega_**2))) )\n",
    "\n",
    "        cxx = numerator_/denominator_\n",
    "        cxx_list.append(cxx)\n",
    "    return cxx_list"
   ]
  },
  {
   "cell_type": "code",
   "execution_count": 4,
   "id": "8d0c0590",
   "metadata": {},
   "outputs": [
    {
     "data": {
      "image/png": "[encoded data removed]",
      "text/plain": [
       "<Figure size 432x288 with 1 Axes>"
      ]
     },
     "metadata": {
      "needs_background": "light"
     },
     "output_type": "display_data"
    }
   ],
   "source": [
    "omega_list = np.linspace(0, 25, 100)\n",
    "paper_soln = analytical_soln_acf_paper(omega_list, pars)\n",
    "plt.scatter(omega_list, paper_soln, marker = 's', label='from_paper')\n",
    "plt.xlabel('$\\omega$')\n",
    "plt.ylabel('$m^2 s$')\n",
    "plt.legend()\n",
    "plt.show()"
   ]
  },
  {
   "cell_type": "code",
   "execution_count": null,
   "id": "1e87d159",
   "metadata": {},
   "outputs": [],
   "source": []
  }
 ],
 "metadata": {
  "kernelspec": {
   "display_name": "Python 3",
   "language": "python",
   "name": "python3"
  },
  "language_info": {
   "codemirror_mode": {
    "name": "ipython",
    "version": 3
   },
   "file_extension": ".py",
   "mimetype": "text/x-python",
   "name": "python",
   "nbconvert_exporter": "python",
   "pygments_lexer": "ipython3",
   "version": "3.8.8"
  }
 },
 "nbformat": 4,
 "nbformat_minor": 5
}
