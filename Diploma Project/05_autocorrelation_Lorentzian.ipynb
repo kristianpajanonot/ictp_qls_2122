{
 "cells": [
  {
   "cell_type": "code",
   "execution_count": 1,
   "id": "2f275d25",
   "metadata": {},
   "outputs": [],
   "source": [
    "import numpy as np\n",
    "import matplotlib.pyplot as plt"
   ]
  },
  {
   "cell_type": "code",
   "execution_count": 2,
   "id": "c95ac329",
   "metadata": {},
   "outputs": [],
   "source": [
    "#paramaters\n",
    "pars = {}\n",
    "pars['a00'] = 1\n",
    "pars['a01'] = 0\n",
    "pars['T1'] = 297\n",
    "pars['a11'] = 1\n",
    "pars['a10'] = 0\n",
    "pars['T2'] = 297\n",
    "\n",
    "pars['gamma0'] = 1\n",
    "pars['gamma1'] = 1\n",
    "\n",
    "pars['Kb'] = 1.380649*10**-23\n",
    "\n",
    "pars['noise0'] = np.sqrt(2*pars['gamma0']*pars['Kb']*pars['T1'])\n",
    "pars['noise1'] = np.sqrt(2*pars['gamma1']*pars['Kb']*pars['T2'])\n",
    "\n",
    "pars['delta_t'] = 0.01\n"
   ]
  },
  {
   "cell_type": "code",
   "execution_count": 3,
   "id": "f80d43e7",
   "metadata": {},
   "outputs": [],
   "source": [
    "def analytical_soln_acf_generic(omega_list, pars):\n",
    "\n",
    "    autocorr_list = []\n",
    "    for omega in omega_list:\n",
    "        numerator = ( pars['a11']**2 * pars['noise0']**2 ) \\\n",
    "        + ( pars['a01']**2 * pars['noise1']**2 ) \\\n",
    "        + ( (omega**2) * (pars['gamma1']**2) * (pars['noise0']**2) )\n",
    "\n",
    "        denominator = ( -2*pars['a11']*pars['a00']*pars['a10']*pars['a01'] ) \\\n",
    "        + ( (omega**2) * (pars['gamma0']**2) * (pars['a11']**2) ) \\\n",
    "        + ( ( (pars['a10']*pars['a01']) + (pars['gamma0']*pars['gamma1']* (omega**2) ) )**2) \\\n",
    "        + ( (pars['a00']**2) * ( (pars['a11']**2) + (omega**2) * (pars['gamma1']**2) ) )\n",
    "\n",
    "        autocorr = numerator/denominator\n",
    "        autocorr_list.append(autocorr/(1e-6))\n",
    "    return autocorr_list"
   ]
  },
  {
   "cell_type": "code",
   "execution_count": 4,
   "id": "f04b9d99",
   "metadata": {},
   "outputs": [],
   "source": [
    "def euler_one_traj(n_time, pars):   \n",
    "    #initial condition\n",
    "    x1 = 0\n",
    "    x2 = 0\n",
    "    x1_traj = []\n",
    "    x2_traj = []\n",
    "    \n",
    "    #performing 1 traj with n_time number of data points\n",
    "    for i in range(n_time):\n",
    "        #generate delta_B\n",
    "        s1 = np.random.normal(0, np.sqrt(pars['delta_t']) )\n",
    "        s2 = np.random.normal(0, np.sqrt(pars['delta_t']) )\n",
    "        #solve for x1, x2\n",
    "        x1_new = x1 - (pars['a00']/pars['gamma0'])*x1*pars['delta_t'] - \\\n",
    "        (pars['a01']/pars['gamma0'])*x2*pars['delta_t'] + \\\n",
    "        np.sqrt((2*pars['Kb']*pars['T1'])/pars['gamma0'])*s1\n",
    "                 \n",
    "        x2_new = x2 - (pars['a11']/pars['gamma1'])*x2*pars['delta_t'] - \\\n",
    "        (pars['a10']/pars['gamma1'])*x1*pars['delta_t'] + \\\n",
    "        np.sqrt((2*pars['Kb']*pars['T2'])/pars['gamma1'])*s2\n",
    "                \n",
    "        x1 = x1_new\n",
    "        x2 = x2_new\n",
    "        \n",
    "        x1_traj.append(x1)\n",
    "        x2_traj.append(x2)\n",
    "    return x1_traj, x2_traj"
   ]
  },
  {
   "cell_type": "code",
   "execution_count": 5,
   "id": "379748a6",
   "metadata": {},
   "outputs": [],
   "source": [
    "def euler_n_traj(max_time, pars):\n",
    "    min_time = 0\n",
    "    n_time = int((max_time - min_time)/pars['delta_t'] + 1) #n_time = num of evenly spaced samples (ex. 1001 points)\n",
    "    time = np.linspace(min_time, max_time, n_time) #time(ex. 0 (min time), 0.01, 0.02, ..., 10 (max time)) with n_time no. of data points\n",
    "    \n",
    "    x_traj_list = []\n",
    "    y_traj_list = []\n",
    "    for i in range(pars['n_realizations']):\n",
    "        x_traj, y_traj = euler_one_traj(n_time, pars)\n",
    "        x_traj_list.append(x_traj)\n",
    "        y_traj_list.append(y_traj)\n",
    "        \n",
    "    return x_traj_list, y_traj_list, time"
   ]
  },
  {
   "cell_type": "code",
   "execution_count": 6,
   "id": "3c2e2e1e",
   "metadata": {},
   "outputs": [],
   "source": [
    "#plot trajectories with t = 10s\n",
    "pars['n_realizations'] = 10\n",
    "x_traj_list, y_traj_list, time = euler_n_traj(500, pars)"
   ]
  },
  {
   "cell_type": "code",
   "execution_count": 7,
   "id": "ced47210",
   "metadata": {},
   "outputs": [
    {
     "data": {
      "image/png": "[encoded data removed]",
      "text/plain": [
       "<Figure size 432x288 with 1 Axes>"
      ]
     },
     "metadata": {
      "needs_background": "light"
     },
     "output_type": "display_data"
    }
   ],
   "source": [
    "#Plot a sample trajectory\n",
    "plt.plot(time, x_traj_list[0])\n",
    "plt.xlabel('time')\n",
    "plt.ylabel('x')\n",
    "plt.show()"
   ]
  },
  {
   "cell_type": "markdown",
   "id": "6802a0f6",
   "metadata": {},
   "source": [
    "Calculate autocorrelation"
   ]
  },
  {
   "cell_type": "code",
   "execution_count": 8,
   "id": "f9614a50",
   "metadata": {},
   "outputs": [],
   "source": [
    "def autocorr(x):\n",
    "    tau = np.arange(1,500)\n",
    "    \n",
    "    corr_list = []\n",
    "    for t in tau:\n",
    "        xtau = np.roll(x, -t)\n",
    "        \n",
    "        product_list = []\n",
    "        for x_value, xtau_value in zip(x, xtau):\n",
    "            product = x_value*xtau_value\n",
    "            product_list.append(product)\n",
    "            \n",
    "        corr = np.array(product_list[:-t]).mean()\n",
    "        corr_list.append(corr)\n",
    "    return corr_list"
   ]
  },
  {
   "cell_type": "code",
   "execution_count": 9,
   "id": "5704c848",
   "metadata": {},
   "outputs": [],
   "source": [
    "def ave_autocorr_traj(trajectory):\n",
    "    autocorr_list = []\n",
    "    for traj in trajectory:\n",
    "        autocorr_traj = autocorr(traj)\n",
    "        autocorr_list.append(autocorr_traj)\n",
    "        \n",
    "    matrix = np.array((autocorr_list))\n",
    "    mean_per_column = matrix.mean(axis=0)\n",
    "    \n",
    "    return mean_per_column"
   ]
  },
  {
   "cell_type": "code",
   "execution_count": 10,
   "id": "95d1a885",
   "metadata": {},
   "outputs": [
    {
     "name": "stdout",
     "output_type": "stream",
     "text": [
      "Wall time: 1min 13s\n"
     ]
    }
   ],
   "source": [
    "%%time\n",
    "xtraj = ave_autocorr_traj(x_traj_list)"
   ]
  },
  {
   "cell_type": "code",
   "execution_count": 11,
   "id": "150f26d5",
   "metadata": {},
   "outputs": [
    {
     "data": {
      "image/png": "[encoded data removed]",
      "text/plain": [
       "<Figure size 432x288 with 1 Axes>"
      ]
     },
     "metadata": {
      "needs_background": "light"
     },
     "output_type": "display_data"
    }
   ],
   "source": [
    "normalization = np.mean(np.array(x_traj_list)*np.array(x_traj_list))\n",
    "\n",
    "plt.plot(xtraj/normalization)\n",
    "plt.ylim(0,1.1)\n",
    "plt.xlabel('time')\n",
    "plt.ylabel('$C(t)$')\n",
    "plt.show()"
   ]
  },
  {
   "cell_type": "markdown",
   "id": "1068c34f",
   "metadata": {},
   "source": [
    "Transform $C(t)$ to $C(\\omega)$"
   ]
  },
  {
   "cell_type": "code",
   "execution_count": 12,
   "id": "e23bf12a",
   "metadata": {},
   "outputs": [],
   "source": [
    "c_omega = np.fft.fft(xtraj/normalization)\n",
    "tt = np.arange(0,len(c_omega))\n",
    "freq = np.fft.fftfreq(tt.shape[-1])"
   ]
  },
  {
   "cell_type": "code",
   "execution_count": 13,
   "id": "4e1328e5",
   "metadata": {},
   "outputs": [
    {
     "data": {
      "image/png": "[encoded data removed]",
      "text/plain": [
       "<Figure size 432x288 with 1 Axes>"
      ]
     },
     "metadata": {
      "needs_background": "light"
     },
     "output_type": "display_data"
    }
   ],
   "source": [
    "plt.plot(freq, c_omega.real)\n",
    "plt.xlabel('$\\omega$')\n",
    "plt.ylabel('$C(\\omega)$')\n",
    "plt.show()"
   ]
  },
  {
   "cell_type": "markdown",
   "id": "f5427ac2",
   "metadata": {},
   "source": [
    "Calculate autocorrelation from analytical solution"
   ]
  },
  {
   "cell_type": "code",
   "execution_count": 14,
   "id": "ce6d4e4f",
   "metadata": {},
   "outputs": [
    {
     "data": {
      "image/png": "[encoded data removed]",
      "text/plain": [
       "<Figure size 432x288 with 1 Axes>"
      ]
     },
     "metadata": {
      "needs_background": "light"
     },
     "output_type": "display_data"
    }
   ],
   "source": [
    "omega_list = np.linspace(-10, 10, 100)\n",
    "generic_soln = analytical_soln_acf_generic(omega_list, pars)\n",
    "plt.scatter(omega_list, np.array(generic_soln)/(1e-16), label='analytical_soln')\n",
    "plt.xlabel('$\\omega$')\n",
    "plt.ylabel('$C(\\omega)$')\n",
    "plt.legend()\n",
    "plt.show()"
   ]
  },
  {
   "cell_type": "code",
   "execution_count": 15,
   "id": "3ed9628e",
   "metadata": {},
   "outputs": [
    {
     "data": {
      "image/png": "[encoded data removed]",
      "text/plain": [
       "<Figure size 432x288 with 1 Axes>"
      ]
     },
     "metadata": {
      "needs_background": "light"
     },
     "output_type": "display_data"
    }
   ],
   "source": [
    "plt.xscale('log')\n",
    "plt.yscale('log')\n",
    "omega_list = np.linspace(0.01, 10, 100)\n",
    "generic_soln = analytical_soln_acf_generic(omega_list, pars)\n",
    "plt.scatter(omega_list, np.array(generic_soln)/(1e-16), label='analytical_soln')\n",
    "plt.xlabel('$\\omega$')\n",
    "plt.ylabel('$C(\\omega)$')\n",
    "plt.legend()\n",
    "plt.show()"
   ]
  },
  {
   "cell_type": "code",
   "execution_count": 16,
   "id": "0efe87f5",
   "metadata": {},
   "outputs": [
    {
     "data": {
      "image/png": "[encoded data removed]",
      "text/plain": [
       "<Figure size 432x288 with 1 Axes>"
      ]
     },
     "metadata": {
      "needs_background": "light"
     },
     "output_type": "display_data"
    }
   ],
   "source": [
    "omega_new_list = np.linspace(10, 100, 100)\n",
    "paper_soln_logspace = analytical_soln_acf_generic(omega_new_list, pars)\n",
    "inverse_fourier = np.fft.ifft(paper_soln_logspace)\n",
    "plt.plot(inverse_fourier.real[:55]/(1e-17), label='$C(t)$')\n",
    "plt.axhline(0*10**-7, color='black')\n",
    "plt.legend()\n",
    "plt.xlabel('time')\n",
    "plt.ylabel('$m^2$')\n",
    "\n",
    "plt.show()"
   ]
  },
  {
   "cell_type": "code",
   "execution_count": null,
   "id": "582dc705",
   "metadata": {},
   "outputs": [],
   "source": []
  }
 ],
 "metadata": {
  "kernelspec": {
   "display_name": "Python 3",
   "language": "python",
   "name": "python3"
  },
  "language_info": {
   "codemirror_mode": {
    "name": "ipython",
    "version": 3
   },
   "file_extension": ".py",
   "mimetype": "text/x-python",
   "name": "python",
   "nbconvert_exporter": "python",
   "pygments_lexer": "ipython3",
   "version": "3.8.8"
  }
 },
 "nbformat": 4,
 "nbformat_minor": 5
}
