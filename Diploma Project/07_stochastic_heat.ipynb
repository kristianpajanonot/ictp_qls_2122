{
 "cells": [
  {
   "cell_type": "code",
   "execution_count": 1,
   "id": "380c7649",
   "metadata": {},
   "outputs": [],
   "source": [
    "import numpy as np\n",
    "import matplotlib.pyplot as plt\n",
    "from tqdm import tqdm"
   ]
  },
  {
   "cell_type": "code",
   "execution_count": 2,
   "id": "080ebc72",
   "metadata": {},
   "outputs": [],
   "source": [
    "#paramaters\n",
    "#change all units to: force = pN, length = nm, time = ms\n",
    "pars = {}\n",
    "pars['a00'] = -21*10**-3\n",
    "pars['a01'] = 0\n",
    "pars['a10'] = 0\n",
    "pars['a11'] = -1\n",
    "pars['gamma0'] = 8.72\n",
    "pars['gamma1'] = 54.8\n",
    "\n",
    "pars['kbT'] = 4.1\n",
    "pars['noise0'] = 2*pars['gamma0']*pars['kbT']\n",
    "pars['noise1'] = 4.916/(1e-3)\n",
    "\n",
    "pars['delta_t'] = 0.01"
   ]
  },
  {
   "cell_type": "code",
   "execution_count": 3,
   "id": "62e01723",
   "metadata": {},
   "outputs": [],
   "source": [
    "def euler_one_traj(n_time, pars):   \n",
    "    #initial condition\n",
    "    x1 = 0\n",
    "    x2 = 0\n",
    "    x1_traj = []\n",
    "    x2_traj = []\n",
    "    \n",
    "    #performing 1 traj with n_time number of data points\n",
    "    for i in range(n_time):\n",
    "        #generate delta_B\n",
    "        s1 = np.random.normal(0, np.sqrt(pars['delta_t']) )\n",
    "        s2 = np.random.normal(0, np.sqrt(pars['delta_t']) )\n",
    "        #solve for x1, x2\n",
    "        x1_new = x1 + (pars['a00']/pars['gamma0'])*x1*pars['delta_t'] + \\\n",
    "        (pars['a01']/pars['gamma0'])*x2*pars['delta_t'] + \\\n",
    "        np.sqrt((pars['noise0'])/((pars['gamma0'])**2))*s1\n",
    "                 \n",
    "        x2_new = x2 + (pars['a11']/pars['gamma1'])*x2*pars['delta_t'] + \\\n",
    "        (pars['a10']/pars['gamma1'])*x1*pars['delta_t'] + \\\n",
    "        np.sqrt((pars['noise1'])/((pars['gamma0'])**2))*s2\n",
    "                \n",
    "        x1 = x1_new\n",
    "        x2 = x2_new\n",
    "        \n",
    "        x1_traj.append(x1)\n",
    "        x2_traj.append(x2)\n",
    "    return x1_traj, x2_traj"
   ]
  },
  {
   "cell_type": "code",
   "execution_count": 4,
   "id": "041e85db",
   "metadata": {},
   "outputs": [],
   "source": [
    "def calc_stochastic_heat_q1(x1, x2, pars):\n",
    "    \"\"\"Calculates stochastic heat per time delta following equation (3)\n",
    "    Input:\n",
    "    x1 (list) = x1_trajectory_list\n",
    "    x2 (list) = x2_trajectory_list\n",
    "    pars (dictionary) = parameters\n",
    "    \n",
    "    Here's an example:\n",
    "    x1 =       [1,2,3,4,5]\n",
    "    x1_shift = [5,1,2,3,4]\n",
    "    Then we can easily calculate operations, e.g. dx1 = x1 - x1_ shift\n",
    "    Vectorization (technique of implementing array operations without using for loop) is easier.\n",
    "    \n",
    "    After which, we discard the first element\n",
    "    \n",
    "    Returns:\n",
    "    stochastic heat as shown in equation (3)\"\"\"\n",
    "    x1_shift = np.roll(x1, shift = 1)   \n",
    "    x2_shift = np.roll(x2, shift = 1)\n",
    "    \n",
    "    first_term = pars['a00']*((x1 + x1_shift)/2)\n",
    "    second_term = pars['a01']*((x2 + x2_shift)/2)\n",
    "    dx1 = x1 - x1_shift\n",
    "    return (first_term[1:] + second_term[1:])*dx1[1:]\n",
    "\n",
    "def calc_stochastic_heat_q2(x1, x2, pars):\n",
    "    x1_shift = np.roll(x1, shift = 1)   \n",
    "    x2_shift = np.roll(x2, shift = 1)    \n",
    "    \n",
    "    first_term = pars['a11']*((x2 + x2_shift)/2)\n",
    "    second_term = pars['a10']*((x1 + x1_shift)/2)\n",
    "    dx2 = x2 - x2_shift\n",
    "    return (second_term[1:] + first_term[1:])*dx2[1:]"
   ]
  },
  {
   "cell_type": "code",
   "execution_count": 5,
   "id": "f0bea8fb",
   "metadata": {},
   "outputs": [],
   "source": [
    "#function to calculate average q (cumulative_heat) after performing n_realizations\n",
    "def average_q(max1_time, pars):\n",
    "    min_time = 0\n",
    "    n_time = int((max1_time - min_time)/pars['delta_t'] + 1) #n_time = num of evenlx2 spaced samples (ex1. 1001 points)\n",
    "    time = np.linspace(min_time, max1_time, n_time) #time(ex1. 0 (min time), 0.01, 0.02, ..., 10 (max1 time)) with n_time no. of data points\n",
    "    \n",
    "    average_q1_trajectorx2 = 0\n",
    "    average_q2_trajectorx2 = 0\n",
    "    for i in tqdm(range(pars['n_realizations'])):\n",
    "        x1_traj, x2_traj = euler_one_traj(n_time, pars)\n",
    "        q1_trajectorx2 = calc_stochastic_heat_q1(x1_traj, x2_traj, pars)\n",
    "        q1_cumulative = np.cumsum(q1_trajectorx2)\n",
    "        \n",
    "        q2_trajectorx2 = calc_stochastic_heat_q2(x1_traj, x2_traj, pars)\n",
    "        q2_cumulative = np.cumsum(q2_trajectorx2)\n",
    "        \n",
    "        average_q1_trajectorx2 += q1_cumulative/pars['n_realizations']\n",
    "        average_q2_trajectorx2 += q2_cumulative/pars['n_realizations']\n",
    "        \n",
    "    return average_q1_trajectorx2, average_q2_trajectorx2, time[:-1]"
   ]
  },
  {
   "cell_type": "code",
   "execution_count": 6,
   "id": "a5c5d67e",
   "metadata": {},
   "outputs": [],
   "source": [
    "#plot stochastic heat\n",
    "def stochastic_heat_plotter(q1, q2, y_range, pars):\n",
    "    mean_q1 = np.mean(q1)\n",
    "    std_q1 = np.std(q1)\n",
    "    mean_q2 = np.mean(q2)\n",
    "    std_q2 = np.std(q2)\n",
    "\n",
    "    plt.figure(figsize=(10,4))\n",
    "    plt.plot(time, q1, label = 'q1')\n",
    "    plt.plot(time, q2, alpha = 0.5, label = 'q2')\n",
    "    plt.title('q1: Mean: {:.3g} and Std Dev: {:.3g} \\n q2: Mean: {:.3g} and Std Dev: {:.3g}'.format(mean_q1, std_q1, mean_q2, std_q2))\n",
    "\n",
    "    plt.suptitle('T1: {}, T2: {}'.format(pars['T1'], pars['T2']))\n",
    "    plt.xlabel('time')\n",
    "    plt.ylabel('stochastic heat')\n",
    "    \n",
    "    plt.ylim(y_range)\n",
    "\n",
    "    plt.legend()\n",
    "\n",
    "    plt.tight_layout()\n",
    "    plt.show()"
   ]
  },
  {
   "cell_type": "code",
   "execution_count": 7,
   "id": "6e1cc3b9",
   "metadata": {},
   "outputs": [
    {
     "name": "stderr",
     "output_type": "stream",
     "text": [
      "100%|██████████| 50/50 [00:43<00:00,  1.15it/s]\n"
     ]
    }
   ],
   "source": [
    "pars['n_realizations'] = 50\n",
    "q1_neq, q2_neq, time = average_q(300, pars)"
   ]
  },
  {
   "cell_type": "code",
   "execution_count": 8,
   "id": "d5763e4d",
   "metadata": {
    "scrolled": true
   },
   "outputs": [
    {
     "data": {
      "image/png": "[encoded data removed]",
      "text/plain": [
       "<Figure size 576x432 with 1 Axes>"
      ]
     },
     "metadata": {
      "needs_background": "light"
     },
     "output_type": "display_data"
    }
   ],
   "source": [
    "fig = plt.figure(figsize=(8,6))\n",
    "ax = fig.add_subplot(111)\n",
    "ax.plot(time, q1_neq, color = 'blue', linestyle='dashed', label = 'system at non-equilibrium ($x_1$)')\n",
    "ax.plot(time, q2_neq, color = 'red',  linestyle='dashed', label= 'system at non-equilibrium ($x_2$)')\n",
    "\n",
    "plt.xlabel('time (s)')\n",
    "plt.ylabel('$<\\dot{Q_t}>$')\n",
    "plt.legend()\n",
    "# plt.savefig('stoch_heat.png', dpi=300)\n",
    "plt.show()"
   ]
  },
  {
   "cell_type": "markdown",
   "id": "d6c02eaf",
   "metadata": {},
   "source": [
    "\n",
    "$$ \\delta Q_1 = (a_{00} x_0 + a_{01} x_1) \\circ dx_0  $$\n",
    "$$ \\delta Q_2 = (a_{10} x_0 + a_{11} x_1) \\circ dx_1  $$\n"
   ]
  },
  {
   "cell_type": "code",
   "execution_count": 9,
   "id": "d52481b0",
   "metadata": {},
   "outputs": [],
   "source": [
    "pars['a01'] = 1\n",
    "pars['a10'] = -1.348"
   ]
  },
  {
   "cell_type": "code",
   "execution_count": 10,
   "id": "1a074145",
   "metadata": {},
   "outputs": [
    {
     "name": "stderr",
     "output_type": "stream",
     "text": [
      "100%|██████████| 50/50 [00:56<00:00,  1.14s/it]\n"
     ]
    }
   ],
   "source": [
    "pars['n_realizations'] = 50\n",
    "q1_neq, q2_neq, time = average_q(300, pars)"
   ]
  },
  {
   "cell_type": "code",
   "execution_count": 11,
   "id": "c3a445d2",
   "metadata": {},
   "outputs": [
    {
     "data": {
      "image/png": "[encoded data removed]",
      "text/plain": [
       "<Figure size 576x432 with 1 Axes>"
      ]
     },
     "metadata": {
      "needs_background": "light"
     },
     "output_type": "display_data"
    }
   ],
   "source": [
    "fig = plt.figure(figsize=(8,6))\n",
    "ax = fig.add_subplot(111)\n",
    "ax.plot(time, q1_neq, color = 'blue', linestyle='dashed', label = '$x$')\n",
    "ax.plot(time, q2_neq, color = 'red',  linestyle='dashed', label= '$F$')\n",
    "\n",
    "plt.xlabel('time (s)')\n",
    "plt.ylabel('$<\\dot{Q_t}>$')\n",
    "plt.legend()\n",
    "# plt.savefig('stoch_heat.png', dpi=300)\n",
    "plt.show()"
   ]
  },
  {
   "cell_type": "code",
   "execution_count": 18,
   "id": "616f24e2",
   "metadata": {},
   "outputs": [
    {
     "data": {
      "text/plain": [
       "1974416.4554759725"
      ]
     },
     "execution_count": 18,
     "metadata": {},
     "output_type": "execute_result"
    }
   ],
   "source": [
    "#q1_neq = cumulative stochastic heat for x\n",
    "#q2_neq = cumulative stochastic heat for F\n",
    "np.sum(np.abs(q2_neq - q1_neq)*pars['delta_t'])"
   ]
  },
  {
   "cell_type": "code",
   "execution_count": 19,
   "id": "e761bf0f",
   "metadata": {},
   "outputs": [
    {
     "data": {
      "text/plain": [
       "0.01"
      ]
     },
     "execution_count": 19,
     "metadata": {},
     "output_type": "execute_result"
    }
   ],
   "source": [
    "time[1] - time[0]"
   ]
  },
  {
   "cell_type": "code",
   "execution_count": 24,
   "id": "1fbaa3d2",
   "metadata": {},
   "outputs": [
    {
     "data": {
      "text/plain": [
       "1974416.4554759725"
      ]
     },
     "execution_count": 24,
     "metadata": {},
     "output_type": "execute_result"
    }
   ],
   "source": [
    "np.sum(np.abs(q2_neq - q1_neq)*0.01)"
   ]
  },
  {
   "cell_type": "code",
   "execution_count": 25,
   "id": "a31c5f7f",
   "metadata": {},
   "outputs": [
    {
     "data": {
      "text/plain": [
       "15721.314676418158"
      ]
     },
     "execution_count": 25,
     "metadata": {},
     "output_type": "execute_result"
    }
   ],
   "source": [
    "np.abs(q2_neq - q1_neq)[-1]"
   ]
  },
  {
   "cell_type": "code",
   "execution_count": 18,
   "id": "989ceff8",
   "metadata": {},
   "outputs": [],
   "source": [
    "aa = 1"
   ]
  },
  {
   "cell_type": "code",
   "execution_count": 19,
   "id": "8087c6b2",
   "metadata": {
    "scrolled": true
   },
   "outputs": [
    {
     "name": "stdout",
     "output_type": "stream",
     "text": [
      "a 1\n",
      "b 3\n",
      "new_a 4\n",
      "a 4\n",
      "b 12\n",
      "new_a 16\n",
      "a 16\n",
      "b 48\n",
      "new_a 64\n",
      "a 64\n",
      "b 192\n",
      "new_a 256\n"
     ]
    }
   ],
   "source": [
    "for i in [0,1,2,3]:\n",
    "    bb = aa * 3\n",
    "    print('a', aa)\n",
    "    print('b', bb)\n",
    "    aa = aa + bb\n",
    "    print('new_a', aa)\n",
    "    \n",
    "    \n",
    "    "
   ]
  },
  {
   "cell_type": "code",
   "execution_count": null,
   "id": "263a91c7",
   "metadata": {},
   "outputs": [],
   "source": []
  }
 ],
 "metadata": {
  "kernelspec": {
   "display_name": "Python 3",
   "language": "python",
   "name": "python3"
  },
  "language_info": {
   "codemirror_mode": {
    "name": "ipython",
    "version": 3
   },
   "file_extension": ".py",
   "mimetype": "text/x-python",
   "name": "python",
   "nbconvert_exporter": "python",
   "pygments_lexer": "ipython3",
   "version": "3.8.8"
  }
 },
 "nbformat": 4,
 "nbformat_minor": 5
}
