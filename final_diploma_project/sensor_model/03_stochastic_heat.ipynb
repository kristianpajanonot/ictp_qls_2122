{
 "cells": [
  {
   "cell_type": "code",
   "execution_count": 1,
   "id": "bc631349",
   "metadata": {},
   "outputs": [],
   "source": [
    "import numpy as np\n",
    "import matplotlib.pyplot as plt\n",
    "from tqdm import tqdm\n",
    "from scipy.stats import linregress"
   ]
  },
  {
   "cell_type": "code",
   "execution_count": 2,
   "id": "b5aaaefa",
   "metadata": {},
   "outputs": [],
   "source": [
    "#paramaters\n",
    "#change all units to: force = pN, length = nm, time = ms\n",
    "pars = {}\n",
    "pars['a00'] = -1\n",
    "pars['a01'] = 1\n",
    "pars['a10'] = 0\n",
    "pars['a11'] = -1\n",
    "pars['gamma0'] = 1\n",
    "pars['gamma1'] = 1\n",
    "\n",
    "pars['kb'] = 1.38*10**-2\n",
    "\n",
    "pars['T0'] = 300\n",
    "pars['T1'] = 300\n",
    "pars['noise0'] = 2*pars['gamma0']*pars['kb']*pars['T0']\n",
    "pars['noise1'] = 2*pars['gamma1']*pars['kb']*pars['T1']\n",
    "\n",
    "pars['delta_t'] = 0.01"
   ]
  },
  {
   "cell_type": "code",
   "execution_count": 3,
   "id": "2d20806c",
   "metadata": {},
   "outputs": [],
   "source": [
    "def euler_one_traj(n_time, pars):   \n",
    "    #initial condition\n",
    "    x1 = 0\n",
    "    x2 = 0\n",
    "    x1_traj = []\n",
    "    x2_traj = []\n",
    "    \n",
    "    #performing 1 traj with n_time number of data points\n",
    "    for i in range(n_time):\n",
    "        #generate delta_B\n",
    "        s1 = np.random.normal(0, np.sqrt(pars['delta_t']) )\n",
    "        s2 = np.random.normal(0, np.sqrt(pars['delta_t']) )\n",
    "        #solve for x1, x2\n",
    "        x1_new = x1 + (pars['a00']/pars['gamma0'])*x1*pars['delta_t'] + \\\n",
    "        (pars['a01']/pars['gamma0'])*x2*pars['delta_t'] + \\\n",
    "        np.sqrt((pars['noise0'])/((pars['gamma0'])**2))*s1\n",
    "                 \n",
    "        x2_new = x2 + (pars['a11']/pars['gamma1'])*x2*pars['delta_t'] + \\\n",
    "        (pars['a10']/pars['gamma1'])*x1*pars['delta_t'] + \\\n",
    "        np.sqrt((pars['noise1'])/((pars['gamma1'])**2))*s2\n",
    "                \n",
    "        x1 = x1_new\n",
    "        x2 = x2_new\n",
    "        \n",
    "        x1_traj.append(x1)\n",
    "        x2_traj.append(x2)\n",
    "    return x1_traj, x2_traj"
   ]
  },
  {
   "cell_type": "code",
   "execution_count": 4,
   "id": "8596e455",
   "metadata": {},
   "outputs": [],
   "source": [
    "def calc_stochastic_heat_q1(x1, x2, pars):\n",
    "    \"\"\"Calculates stochastic heat per time delta following equation (3)\n",
    "    Input:\n",
    "    x1 (list) = x1_trajectory_list\n",
    "    x2 (list) = x2_trajectory_list\n",
    "    pars (dictionary) = parameters\n",
    "    \n",
    "    Here's an example:\n",
    "    x1 =       [1,2,3,4,5]\n",
    "    x1_shift = [5,1,2,3,4]\n",
    "    Then we can easily calculate operations, e.g. dx1 = x1 - x1_ shift\n",
    "    Vectorization (technique of implementing array operations without using for loop) is easier.\n",
    "    \n",
    "    After which, we discard the first element\n",
    "    \n",
    "    Returns:\n",
    "    stochastic heat as shown in equation (3)\"\"\"\n",
    "    x1_shift = np.roll(x1, shift = 1)   \n",
    "    x2_shift = np.roll(x2, shift = 1)\n",
    "    \n",
    "    first_term = -pars['a00']*((x1 + x1_shift)/2)\n",
    "    second_term = -pars['a01']*((x2 + x2_shift)/2)\n",
    "    dx1 = x1 - x1_shift\n",
    "    return (first_term[1:] + second_term[1:])*dx1[1:]\n",
    "\n",
    "def calc_stochastic_heat_q2(x1, x2, pars):\n",
    "    x1_shift = np.roll(x1, shift = 1)   \n",
    "    x2_shift = np.roll(x2, shift = 1)    \n",
    "    \n",
    "    first_term = -pars['a11']*((x2 + x2_shift)/2)\n",
    "    second_term = -pars['a10']*((x1 + x1_shift)/2)\n",
    "    dx2 = x2 - x2_shift\n",
    "    return (second_term[1:] + first_term[1:])*dx2[1:]"
   ]
  },
  {
   "cell_type": "code",
   "execution_count": 5,
   "id": "2d71f04c",
   "metadata": {},
   "outputs": [],
   "source": [
    "#function to calculate average q (cumulative_heat) after performing n_realizations\n",
    "def average_q(max1_time, pars):\n",
    "    min_time = 0\n",
    "    n_time = int((max1_time - min_time)/pars['delta_t'] + 1) #n_time = num of evenlx2 spaced samples (ex1. 1001 points)\n",
    "    time = np.linspace(min_time, max1_time, n_time) #time(ex1. 0 (min time), 0.01, 0.02, ..., 10 (max1 time)) with n_time no. of data points\n",
    "    \n",
    "    average_q1_trajectorx2 = 0\n",
    "    average_q2_trajectorx2 = 0\n",
    "    \n",
    "    relax_time = int(abs(pars['gamma0']/pars['a00']))\n",
    "    \n",
    "    for i in tqdm(range(pars['n_realizations'])):\n",
    "        x1_traj, x2_traj = euler_one_traj(n_time, pars)\n",
    "        final_x1_traj = x1_traj[relax_time::]\n",
    "        final_x2_traj = x2_traj[relax_time::]\n",
    "        \n",
    "        \n",
    "        q1_trajectorx2 = calc_stochastic_heat_q1(final_x1_traj, final_x2_traj, pars)\n",
    "        q1_cumulative = np.cumsum(q1_trajectorx2)\n",
    "        \n",
    "        q2_trajectorx2 = calc_stochastic_heat_q2(final_x1_traj, final_x2_traj, pars)\n",
    "        q2_cumulative = np.cumsum(q2_trajectorx2)\n",
    "        \n",
    "        average_q1_trajectorx2 += q1_cumulative/pars['n_realizations']\n",
    "        average_q2_trajectorx2 += q2_cumulative/pars['n_realizations']\n",
    "        \n",
    "    return average_q1_trajectorx2, average_q2_trajectorx2, time[:-1]"
   ]
  },
  {
   "cell_type": "code",
   "execution_count": 6,
   "id": "4ff6b2ac",
   "metadata": {},
   "outputs": [
    {
     "name": "stderr",
     "output_type": "stream",
     "text": [
      "100%|██████████| 100/100 [02:47<00:00,  1.67s/it]"
     ]
    },
    {
     "name": "stdout",
     "output_type": "stream",
     "text": [
      "Wall time: 2min 47s\n"
     ]
    },
    {
     "name": "stderr",
     "output_type": "stream",
     "text": [
      "\n"
     ]
    }
   ],
   "source": [
    "%%time\n",
    "pars['n_realizations'] = 100\n",
    "q1_neq, q2_neq, time = average_q(500, pars)"
   ]
  },
  {
   "cell_type": "code",
   "execution_count": 11,
   "id": "55da695a",
   "metadata": {},
   "outputs": [
    {
     "data": {
      "image/png": "[encoded data removed]",
      "text/plain": [
       "<Figure size 576x432 with 1 Axes>"
      ]
     },
     "metadata": {
      "needs_background": "light"
     },
     "output_type": "display_data"
    }
   ],
   "source": [
    "fig = plt.figure(figsize=(8,6))\n",
    "ax = fig.add_subplot(111)\n",
    "x_axis_plot = np.arange(0, len(q1_neq), 0.01)[:len(q1_neq)]\n",
    "ax.plot(x_axis_plot, q1_neq, color = 'blue', linestyle='dashed', label = '$r$')\n",
    "ax.plot(x_axis_plot, q2_neq, color = 'red',  linestyle='dashed', label= '$x$')\n",
    "plt.xlabel('t ($ms$)', fontsize=18)\n",
    "plt.ylabel('$\\\\left<Q \\\\right>$ ($pN$ $nm$)', fontsize=18)\n",
    "plt.xticks(fontsize=18)\n",
    "plt.yticks(fontsize=18)\n",
    "plt.legend(prop={'size': 18})\n",
    "plt.tight_layout()\n",
    "plt.savefig('stoch_heat_sensor_fin.png', dpi=100)\n",
    "plt.show()"
   ]
  },
  {
   "cell_type": "code",
   "execution_count": 8,
   "id": "b8a66fc5",
   "metadata": {},
   "outputs": [
    {
     "data": {
      "image/png": "[encoded data removed]",
      "text/plain": [
       "<Figure size 432x288 with 1 Axes>"
      ]
     },
     "metadata": {
      "needs_background": "light"
     },
     "output_type": "display_data"
    }
   ],
   "source": [
    "plt.plot(q1_neq, color = 'blue', linestyle='dashed', label = '$sensor$')\n",
    "plt.plot(q2_neq, color = 'red',  linestyle='dashed', label= '$signal$')\n",
    "plt.xlabel('number_of_datapoints')\n",
    "plt.ylabel('$\\\\left<\\dot{Q_t} \\\\right>$ ($pN$ $nm$)')\n",
    "plt.legend()\n",
    "plt.show()"
   ]
  },
  {
   "cell_type": "code",
   "execution_count": 9,
   "id": "7fefb079",
   "metadata": {},
   "outputs": [
    {
     "data": {
      "text/plain": [
       "array([0.00000e+00, 1.00002e-02, 2.00004e-02, ..., 4.99970e+02,\n",
       "       4.99980e+02, 4.99990e+02])"
      ]
     },
     "execution_count": 9,
     "metadata": {},
     "output_type": "execute_result"
    }
   ],
   "source": [
    "x_axis = np.linspace(0,len(q1_neq)*pars['delta_t'], len(q1_neq))\n",
    "x_axis"
   ]
  },
  {
   "cell_type": "code",
   "execution_count": 10,
   "id": "9f58cbd9",
   "metadata": {},
   "outputs": [
    {
     "name": "stdout",
     "output_type": "stream",
     "text": [
      "slope_neq_x1 -2.079524196646811\n",
      "slope_neq_x2 -6.82241439268559e-05\n",
      "slope_neq_x1 + slope_neq_x2 -2.0795924207907377\n"
     ]
    }
   ],
   "source": [
    "result_neq_x1 = linregress(x_axis, q1_neq)\n",
    "print('slope_neq_x1', result_neq_x1.slope)\n",
    "result_neq_x2 = linregress(x_axis, q2_neq)\n",
    "print('slope_neq_x2', result_neq_x2.slope)\n",
    "\n",
    "print('slope_neq_x1 + slope_neq_x2', result_neq_x1.slope + result_neq_x2.slope)"
   ]
  },
  {
   "cell_type": "code",
   "execution_count": null,
   "id": "86d93148",
   "metadata": {},
   "outputs": [],
   "source": []
  }
 ],
 "metadata": {
  "kernelspec": {
   "display_name": "Python 3",
   "language": "python",
   "name": "python3"
  },
  "language_info": {
   "codemirror_mode": {
    "name": "ipython",
    "version": 3
   },
   "file_extension": ".py",
   "mimetype": "text/x-python",
   "name": "python",
   "nbconvert_exporter": "python",
   "pygments_lexer": "ipython3",
   "version": "3.8.8"
  }
 },
 "nbformat": 4,
 "nbformat_minor": 5
}
