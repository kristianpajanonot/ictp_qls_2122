{
 "cells": [
  {
   "cell_type": "markdown",
   "id": "0a420ec7",
   "metadata": {},
   "source": [
    "### Langevin Equation\n",
    "\n",
    "Equation (1)\n",
    "$$ \\gamma \\dot{x_1} = -V^\\prime _1 (x_1) - k_1 x_2 + \\sqrt{2k_B T_1 \\gamma}ξ_1 $$\n",
    "$$ \\gamma \\dot{x_2} = -V^\\prime _2 (x_2) - k_2 x_1 + \\sqrt{2k_B T_2 \\gamma}ξ_2 $$\n",
    "\n",
    "$$ V_1 (x_1) = \\frac{a_1}{2} x_1^2, V_2 (x_2) = \\frac{a_2}{2} x_2^2 $$\n",
    "\n",
    "Equation (2)\n",
    "\n",
    "$$ \\dot{x_1} = -\\frac{a_1}{\\gamma} x_1 - \\frac{k_1}{\\gamma} x_2 + \\sqrt{\\frac{2k_B T_1}{\\gamma}}ξ_1 $$\n",
    "$$ \\dot{x_2} = -\\frac{a_2}{\\gamma} x_2 - \\frac{k_2}{\\gamma} x_1 + \\sqrt{\\frac{2k_B T_2}{\\gamma}}ξ_2 $$"
   ]
  },
  {
   "cell_type": "markdown",
   "id": "c5a39054",
   "metadata": {},
   "source": [
    "### Stochastic Heat:\n",
    "\n",
    "$$ 0 = - \\gamma \\dot{x_1} + \\sqrt{2k_B T_1 \\gamma}ξ_1 - V^\\prime _1 (x_1) - k_1 x_2  $$\n",
    "$$ 0 = - \\gamma \\dot{x_2} + \\sqrt{2k_B T_2 \\gamma}ξ_2 - V^\\prime _2 (x_2) - k_2 x_1  $$\n",
    "\n",
    "For x_1:\n",
    "\n",
    "$$ \\delta Q_1 = (-\\gamma \\dot{x_1} + \\sqrt{2k_B T_1 \\gamma}ξ_1) \\circ dx_1  = (V^\\prime _1 (x_1) + k_1 x_2) \\circ dx_1$$\n",
    "\n",
    "$$ \\delta Q_1 = (a_1 x_1 + k_1 x_2) \\circ dx_1  $$\n",
    "\n",
    "For x_2:\n",
    "\n",
    "$$ \\delta Q_2 = (-\\gamma \\dot{x_2} + \\sqrt{2k_B T_2 \\gamma}ξ_2) \\circ dx_2  = (V^\\prime _2 (x_2) + k_2 x_1) \\circ dx_2$$\n",
    "\n",
    "$$ \\delta Q_2 = (a_2 x_2 + k_2 x_1) \\circ dx_2  $$"
   ]
  },
  {
   "cell_type": "markdown",
   "id": "e4436397",
   "metadata": {},
   "source": [
    "### Functions for euler method"
   ]
  },
  {
   "cell_type": "markdown",
   "id": "a3a79204",
   "metadata": {},
   "source": [
    "Euler Scheme\n",
    "\n",
    "$$ X_{t+\\Delta t} = X_t + f(X_t, t)\\Delta t + g(X_t,t)\\Delta B_t $$\n",
    "\n",
    "where $$ \\Delta B_t = \\mathcal{N}(0, \\sqrt\\Delta t) $$"
   ]
  },
  {
   "cell_type": "code",
   "execution_count": 1,
   "id": "3cee4281",
   "metadata": {},
   "outputs": [],
   "source": [
    "import numpy as np\n",
    "import matplotlib.pyplot as plt\n",
    "from numpy.linalg import inv, det\n",
    "from matplotlib import cm \n",
    "# from tqdm import tqdm"
   ]
  },
  {
   "cell_type": "code",
   "execution_count": 2,
   "id": "2b792d34",
   "metadata": {},
   "outputs": [],
   "source": [
    "def euler_one_traj(n_time, pars):   \n",
    "    #initial condition\n",
    "    x1 = 0\n",
    "    x2 = 0\n",
    "    x1_traj = []\n",
    "    x2_traj = []\n",
    "    \n",
    "    #performing 1 traj with n_time number of data points\n",
    "    for i in range(n_time):\n",
    "        #generate delta_B\n",
    "        s1 = np.random.normal(0, np.sqrt(pars['delta_t']) )\n",
    "        s2 = np.random.normal(0, np.sqrt(pars['delta_t']) )\n",
    "        #solve for x1, x2\n",
    "        x1_new = x1 - (pars['a1']/pars['gamma'])*x1*pars['delta_t'] - \\\n",
    "        (pars['k1']/pars['gamma'])*x2*pars['delta_t'] + \\\n",
    "        np.sqrt((2*pars['Kb']*pars['T1'])/pars['gamma'])*s1\n",
    "                 \n",
    "        x2_new = x2 - (pars['a2']/pars['gamma'])*x2*pars['delta_t'] - \\\n",
    "        (pars['k2']/pars['gamma'])*x1*pars['delta_t'] + \\\n",
    "        np.sqrt((2*pars['Kb']*pars['T2'])/pars['gamma'])*s2\n",
    "                \n",
    "        x1 = x1_new\n",
    "        x2 = x2_new\n",
    "        \n",
    "        x1_traj.append(x1)\n",
    "        x2_traj.append(x2)\n",
    "    return x1_traj, x2_traj"
   ]
  },
  {
   "cell_type": "code",
   "execution_count": 3,
   "id": "f2d329ab",
   "metadata": {},
   "outputs": [],
   "source": [
    "def euler_n_traj(max_time, pars):\n",
    "    min_time = 0\n",
    "    n_time = int((max_time - min_time)/pars['delta_t'] + 1) #n_time = num of evenly spaced samples (ex. 1001 points)\n",
    "    time = np.linspace(min_time, max_time, n_time) #time(ex. 0 (min time), 0.01, 0.02, ..., 10 (max time)) with n_time no. of data points\n",
    "    \n",
    "    x1_traj_list = []\n",
    "    x2_traj_list = []\n",
    "    for i in range(pars['n_realizations']):\n",
    "        x1_traj, x2_traj = euler_one_traj(n_time, pars)\n",
    "        x1_traj_list.append(x1_traj)\n",
    "        x2_traj_list.append(x2_traj)\n",
    "        \n",
    "    return x1_traj_list, x2_traj_list, time"
   ]
  },
  {
   "cell_type": "code",
   "execution_count": 4,
   "id": "5d3b0b27",
   "metadata": {},
   "outputs": [],
   "source": [
    "#plot trajectories\n",
    "def plotter_traj(x1_traj_list, x2_traj_list):\n",
    "    fig, ax = plt.subplots(1, 3, figsize=(15,3))\n",
    "\n",
    "    for x1 in x1_traj_list:\n",
    "        ax[0].plot(time, x1)\n",
    "    for x2 in x2_traj_list:\n",
    "        ax[1].plot(time, x2)\n",
    "    for x1,x2 in zip(x1_traj_list, x2_traj_list):\n",
    "        ax[2].plot(x1,x2)\n",
    "\n",
    "    ax[0].set_xlabel('t')\n",
    "    ax[0].set_ylabel('x1')\n",
    "\n",
    "    ax[1].set_xlabel('t')\n",
    "    ax[1].set_ylabel('x2')\n",
    "\n",
    "    ax[2].set_xlabel('x1')\n",
    "    ax[2].set_ylabel('x2')\n",
    "\n",
    "    plt.tight_layout()\n",
    "    plt.show()"
   ]
  },
  {
   "cell_type": "code",
   "execution_count": 5,
   "id": "e5bb60d7",
   "metadata": {},
   "outputs": [],
   "source": [
    "def obtain_last_element_traj(x1_traj_list, x2_traj_list):\n",
    "    \"\"\"Obtains the last element of the trajectory from euler_n_traj function:\n",
    "    \n",
    "    Input:\n",
    "    x1_traj_list(nested list) = x1 trajectory\n",
    "    x2_traj_list(nested list) = x2 trajectory\n",
    "    \n",
    "    As an example:\n",
    "    x1_traj_list = [[1,2,3], [4,5,6], [7,8,9]]\n",
    "    Each smaller list of the bigger list contains the trajectory from 1 realization,\n",
    "    so if n_realizations = 3, the number of smaller lists = 3\n",
    "    \n",
    "    Then x1_list = [3,6,9]\n",
    "    \n",
    "    Returns:\n",
    "    x1_list, x2_list (last element of each smaller list)\"\"\"\n",
    "    #obtain the last element of x1_traj_list\n",
    "    x1_list = []\n",
    "    for x1 in x1_traj_list:\n",
    "        last_elementx1 = x1[-1]\n",
    "        x1_list.append(last_elementx1)\n",
    "\n",
    "    #obtain the last element of x2_traj_list\n",
    "    x2_list = []\n",
    "    for x2 in x2_traj_list:\n",
    "        last_elementx2 = x2[-1]\n",
    "        x2_list.append(last_elementx2)\n",
    "        \n",
    "    return x1_list, x2_list"
   ]
  },
  {
   "cell_type": "code",
   "execution_count": 6,
   "id": "7f7a62b3",
   "metadata": {},
   "outputs": [],
   "source": [
    "#plot histogram from last element of x1 traj and x2 traj\n",
    "def plotter_histogram(x1_list, x2_list, pars):\n",
    "    \n",
    "    mean_x1 = np.mean(x1_list)\n",
    "    std_x1 = np.std(x1_list)\n",
    "    mean_x2 = np.mean(x2_list)\n",
    "    std_x2 = np.std(x2_list)\n",
    "\n",
    "\n",
    "    plt.figure(figsize=(10,4))\n",
    "    plt.hist(x1_list, histtype='step', density = True, bins = 30, label='x1')\n",
    "    plt.hist(x2_list, histtype='step', density = True, bins = 30, label='x2')\n",
    "    plt.title('x1: Mean: {:.3g} and Std Dev: {:.3g} \\n x2: Mean: {:.3g} and Std Dev: {:.3g}'.format(mean_x1, std_x1, mean_x2, std_x2))\n",
    "    \n",
    "    plt.suptitle('T1: {}, T2: {}'.format(pars['T1'], pars['T2']))\n",
    "    plt.xlabel('x1')\n",
    "    plt.legend()\n",
    "    \n",
    "    plt.tight_layout()\n",
    "    plt.show()"
   ]
  },
  {
   "cell_type": "markdown",
   "id": "0179e442",
   "metadata": {},
   "source": [
    "Analytical solution"
   ]
  },
  {
   "cell_type": "code",
   "execution_count": 7,
   "id": "a8ba0fbf",
   "metadata": {},
   "outputs": [],
   "source": [
    "def calculate_cov_matrix(pars):\n",
    "    denominator = (pars['a1'] + (pars['a2']*(pars['gamma']/pars['gamma']))) * ((pars['k1']*pars['k2']) - (pars['a1']*pars['a2']))\n",
    "\n",
    "    element_00 = (pars['T2']*(pars['k1']**2)) - (pars['T1']*pars['k1']*pars['k2']) + (pars['T1']*pars['a2']*(pars['a1'] + (pars['a2']*(pars['gamma']/pars['gamma']))))\n",
    "\n",
    "    element_11 = (pars['T1']*(pars['k2']**2)*(pars['gamma']/pars['gamma'])) - (pars['T2']*pars['k1']*pars['k2'])*(pars['gamma']/pars['gamma']) + (pars['T2']*pars['a1']*(pars['a1'] + (pars['a2']*(pars['gamma']/pars['gamma']))))\n",
    "\n",
    "    element_01 = -pars['T2']*pars['a1']*pars['k1'] - pars['T1']*pars['a2']*(pars['k2']*(pars['gamma']/pars['gamma']))\n",
    "\n",
    "    #solving cov matrix\n",
    "    cov_matrix = pars['Kb']*(np.array([[-element_00/denominator, -element_01/denominator], [-element_01/denominator, -element_11/denominator]]))\n",
    "    cov_matrix_new = cov_matrix \n",
    "    cov_matrix_inverse = inv(cov_matrix_new)\n",
    "    cov_matrix_det = det(cov_matrix_new)\n",
    "    \n",
    "    return cov_matrix_new, cov_matrix_inverse, cov_matrix_det\n",
    "\n",
    "def analytical_soln(start, end, pars):\n",
    "    prob_list = []\n",
    "    \n",
    "    x1 = np.linspace(start, end, 100) \n",
    "    x2 = np.linspace(start, end, 100) \n",
    "    \n",
    "    meshx, meshy = np.meshgrid(x1, x2)\n",
    "    \n",
    "    cov_matrix, cov_matrix_inverse, cov_matrix_det = calculate_cov_matrix(pars)\n",
    "    \n",
    "    for x1_, x2_ in zip(meshx.flatten(), meshy.flatten()):\n",
    "        x_vector = np.array([[x1_,x2_]]).T  \n",
    "        exponent = -1/2*(x_vector.T @ cov_matrix_inverse @ x_vector)\n",
    "        final_exp = np.exp(exponent[0][0])\n",
    "        prob = final_exp / np.sqrt(cov_matrix_det*((2*np.pi)**2))\n",
    "        prob_list.append(prob)\n",
    "    return prob_list, meshx, meshy"
   ]
  },
  {
   "cell_type": "code",
   "execution_count": 8,
   "id": "9ba7d5ae",
   "metadata": {},
   "outputs": [],
   "source": [
    "#paramaters\n",
    "pars = {}\n",
    "pars['a1'] = 1\n",
    "pars['k1'] = 0.5\n",
    "pars['T1'] = 300\n",
    "pars['a2'] = 1\n",
    "pars['k2'] = 0.5\n",
    "pars['T2'] = 900\n",
    "\n",
    "pars['gamma'] = 1\n",
    "pars['delta_t'] = 0.01\n",
    "pars['Kb'] = 1.38*10**-2"
   ]
  },
  {
   "cell_type": "code",
   "execution_count": 9,
   "id": "b01b2117",
   "metadata": {
    "scrolled": true
   },
   "outputs": [],
   "source": [
    "# %%time\n",
    "\n",
    "# #plot trajectories with t = 10s\n",
    "# pars['n_realizations'] = 100\n",
    "# x1_traj_list, x2_traj_list, time = euler_n_traj(300, pars)\n",
    "# plotter_traj(x1_traj_list, x2_traj_list)"
   ]
  },
  {
   "cell_type": "code",
   "execution_count": 10,
   "id": "9f5afdd3",
   "metadata": {},
   "outputs": [
    {
     "name": "stdout",
     "output_type": "stream",
     "text": [
      "{'a1': 1, 'k1': 0.5, 'T1': 300, 'a2': 1, 'k2': 0.5, 'T2': 900, 'gamma': 1, 'delta_t': 0.01, 'Kb': 0.0138, 'n_realizations': 1000}\n"
     ]
    },
    {
     "data": {
      "image/png": "[encoded data removed]",
      "text/plain": [
       "<Figure size 720x288 with 1 Axes>"
      ]
     },
     "metadata": {
      "needs_background": "light"
     },
     "output_type": "display_data"
    },
    {
     "name": "stdout",
     "output_type": "stream",
     "text": [
      "Wall time: 28min 42s\n"
     ]
    }
   ],
   "source": [
    "%%time\n",
    "\n",
    "#plot histogram with t = 1s\n",
    "pars['T1'] = 300\n",
    "pars['T2'] = 900\n",
    "pars['n_realizations'] = 1000\n",
    "print(pars)\n",
    "x1_traj_list_eq, x2_traj_list_eq, time = euler_n_traj(500, pars)\n",
    "x1_list_eq, x2_list_eq = obtain_last_element_traj(x1_traj_list_eq, x2_traj_list_eq)\n",
    "plotter_histogram(x1_list_eq, x2_list_eq, pars)"
   ]
  },
  {
   "cell_type": "code",
   "execution_count": 11,
   "id": "5bbdcf51",
   "metadata": {},
   "outputs": [
    {
     "name": "stdout",
     "output_type": "stream",
     "text": [
      "{'a1': 1, 'k1': 0.5, 'T1': 300, 'a2': 1, 'k2': 0.5, 'T2': 900, 'gamma': 1, 'delta_t': 0.01, 'Kb': 0.0138, 'n_realizations': 1000}\n"
     ]
    }
   ],
   "source": [
    "hist_eq, binsx1_eq, binsx2_eq = np.histogram2d(x1_list_eq, x2_list_eq, bins = 18)\n",
    "print(pars)"
   ]
  },
  {
   "cell_type": "code",
   "execution_count": 25,
   "id": "ef23861a",
   "metadata": {},
   "outputs": [
    {
     "data": {
      "image/png": "[encoded data removed]",
      "text/plain": [
       "<Figure size 576x432 with 1 Axes>"
      ]
     },
     "metadata": {
      "needs_background": "light"
     },
     "output_type": "display_data"
    }
   ],
   "source": [
    "fig = plt.figure(figsize=(8,6))\n",
    "ax = fig.add_subplot(111)\n",
    "ax.imshow(hist_eq, extent=[-15, 15, -15, 15], cmap=plt.cm.Reds, aspect='auto', origin='lower')\n",
    "ax.set_aspect('equal')\n",
    "# fig.colorbar(cm.ScalarMappable(cmap=plt.cm.Reds), ax=ax)\n",
    "plt.xlabel('$x_0$', fontsize=18)\n",
    "plt.ylabel('$x_1$', fontsize=18)\n",
    "plt.xticks(fontsize=18)\n",
    "plt.yticks(fontsize=18)\n",
    "fig.tight_layout()\n",
    "fig.savefig('joint_num_neq.png', dpi=300)\n",
    "plt.show()"
   ]
  },
  {
   "cell_type": "code",
   "execution_count": 13,
   "id": "e9e5be89",
   "metadata": {},
   "outputs": [
    {
     "name": "stdout",
     "output_type": "stream",
     "text": [
      "{'a1': 1, 'k1': 0.5, 'T1': 300, 'a2': 1, 'k2': 0.5, 'T2': 900, 'gamma': 1, 'delta_t': 0.01, 'Kb': 0.0138, 'n_realizations': 1000}\n"
     ]
    }
   ],
   "source": [
    "pars['T1'] = 300\n",
    "pars['T2'] = 900\n",
    "print(pars)\n",
    "analytical_eq, x1_eq, x2_eq = analytical_soln(-15, 15, pars)\n",
    "pdf_eq = np.array(analytical_eq).reshape(100,100)"
   ]
  },
  {
   "cell_type": "code",
   "execution_count": 24,
   "id": "4b45391d",
   "metadata": {},
   "outputs": [
    {
     "data": {
      "image/png": "[encoded data removed]",
      "text/plain": [
       "<Figure size 576x432 with 1 Axes>"
      ]
     },
     "metadata": {
      "needs_background": "light"
     },
     "output_type": "display_data"
    }
   ],
   "source": [
    "fig = plt.figure(figsize=(8,6))\n",
    "ax = fig.add_subplot(111)\n",
    "ax.contourf(pdf_eq, extent=[-15.2, 15.2, -15.2, 15.2], cmap=plt.cm.Reds, origin='lower')\n",
    "ax.set_aspect('equal')\n",
    "# fig.colorbar(cm.ScalarMappable(cmap=plt.cm.Reds), ax=ax)\n",
    "plt.xlabel('$x_0$', fontsize=18)\n",
    "plt.ylabel('$x_1$', fontsize=18)\n",
    "plt.xticks(fontsize=18)\n",
    "plt.yticks(fontsize=18)\n",
    "fig.tight_layout()\n",
    "fig.savefig('joint_analyt_neq.png', dpi=300)\n",
    "plt.show()"
   ]
  },
  {
   "cell_type": "markdown",
   "id": "b505cbc1",
   "metadata": {},
   "source": [
    "### Sanity check if simulation and theory agrees"
   ]
  },
  {
   "cell_type": "code",
   "execution_count": 15,
   "id": "b9f9a6c3",
   "metadata": {},
   "outputs": [],
   "source": [
    "def calculate_cov_matrix(pars):\n",
    "    denominator = (pars['a1'] + (pars['a2']*(pars['gamma']/pars['gamma']))) * ((pars['k1']*pars['k2']) - (pars['a1']*pars['a2']))\n",
    "\n",
    "    element_00 = (pars['T2']*(pars['k1']**2)) - (pars['T1']*pars['k1']*pars['k2']) + (pars['T1']*pars['a2']*(pars['a1'] + (pars['a2']*(pars['gamma']/pars['gamma']))))\n",
    "\n",
    "    element_11 = (pars['T1']*(pars['k2']**2)*(pars['gamma']/pars['gamma'])) - (pars['T2']*pars['k1']*pars['k2'])*(pars['gamma']/pars['gamma']) + (pars['T2']*pars['a1']*(pars['a1'] + (pars['a2']*(pars['gamma']/pars['gamma']))))\n",
    "\n",
    "    element_01 = -pars['T2']*pars['a1']*pars['k1'] - pars['T1']*pars['a2']*(pars['k2']*(pars['gamma']/pars['gamma']))\n",
    "\n",
    "    #solving cov matrix\n",
    "    cov_matrix = pars['Kb']*(np.array([[-element_00/denominator, -element_01/denominator], [-element_01/denominator, -element_11/denominator]]))\n",
    "    cov_matrix_new = cov_matrix \n",
    "    cov_matrix_inverse = inv(cov_matrix_new)\n",
    "    cov_matrix_det = det(cov_matrix_new)\n",
    "    \n",
    "    return cov_matrix_new, cov_matrix_inverse, cov_matrix_det\n",
    "\n",
    "def analytical_soln_sanitycheck(x1_numerical, x2_numerical, pars):\n",
    "    prob_list = []\n",
    "    \n",
    "    rescaled_x1 = x1_numerical\n",
    "    rescaled_x2 = x2_numerical \n",
    "    \n",
    "    x1_num_shift = np.roll(rescaled_x1, shift = 1)\n",
    "    x2_num_shift = np.roll(rescaled_x2, shift = 1)\n",
    "    \n",
    "    midpoint_x1 = (rescaled_x1 + x1_num_shift)/2\n",
    "    final_midpoint_x1 = midpoint_x1[1:]\n",
    "    \n",
    "    delta_x1 = rescaled_x1[1] - rescaled_x1[0]\n",
    "\n",
    "    midpoint_x2 = (rescaled_x2 + x2_num_shift)/2\n",
    "    final_midpoint_x2 = midpoint_x2[1:]\n",
    "    \n",
    "    delta_x2 = rescaled_x2[1] - rescaled_x2[0]\n",
    "    \n",
    "    meshx, meshy = np.meshgrid(final_midpoint_x1, final_midpoint_x2)\n",
    "    \n",
    "    cov_matrix, cov_matrix_inverse, cov_matrix_det = calculate_cov_matrix(pars)\n",
    "    \n",
    "    for (x1_, x2_) in zip(meshx.flatten(), meshy.flatten()):\n",
    "        x_vector = np.array([[x1_,x2_]]).T  \n",
    "        exponent = -1/2*(x_vector.T @ cov_matrix_inverse @ x_vector)\n",
    "        final_exp = np.exp(exponent[0][0])\n",
    "        prob = final_exp / np.sqrt(cov_matrix_det*((2*np.pi)**2))\n",
    "        p_th = prob*delta_x1*delta_x2\n",
    "        prob_list.append(p_th)\n",
    "    return prob_list"
   ]
  },
  {
   "cell_type": "markdown",
   "id": "4ca325de",
   "metadata": {},
   "source": [
    "Plot"
   ]
  },
  {
   "cell_type": "code",
   "execution_count": 16,
   "id": "fa23f582",
   "metadata": {},
   "outputs": [],
   "source": [
    "pars['T1'] = 300\n",
    "pars['T2'] = 900\n",
    "p_th = analytical_soln_sanitycheck(binsx1_eq, binsx2_eq, pars)"
   ]
  },
  {
   "cell_type": "code",
   "execution_count": 17,
   "id": "2ba2a2f8",
   "metadata": {},
   "outputs": [
    {
     "data": {
      "text/plain": [
       "{'a1': 1,\n",
       " 'k1': 0.5,\n",
       " 'T1': 300,\n",
       " 'a2': 1,\n",
       " 'k2': 0.5,\n",
       " 'T2': 900,\n",
       " 'gamma': 1,\n",
       " 'delta_t': 0.01,\n",
       " 'Kb': 0.0138,\n",
       " 'n_realizations': 1000}"
      ]
     },
     "execution_count": 17,
     "metadata": {},
     "output_type": "execute_result"
    }
   ],
   "source": [
    "pars"
   ]
  },
  {
   "cell_type": "code",
   "execution_count": 19,
   "id": "9e8b48f7",
   "metadata": {},
   "outputs": [
    {
     "data": {
      "image/png": "[encoded data removed]",
      "text/plain": [
       "<Figure size 576x432 with 1 Axes>"
      ]
     },
     "metadata": {
      "needs_background": "light"
     },
     "output_type": "display_data"
    }
   ],
   "source": [
    "fig = plt.figure(figsize=(8,6))\n",
    "ax = fig.add_subplot(111)\n",
    "plt.scatter(hist_eq.flatten('F')/1000, p_th, label='$\\\\rho$_simulation vs. $\\\\rho$_theoretical', facecolors='none', \\\n",
    "            edgecolors='tab:blue')\n",
    "\n",
    "x = np.linspace(0, 0.03, 100)\n",
    "y = 1*x\n",
    "\n",
    "plt.plot(x,y, label = 'y = x')\n",
    "\n",
    "plt.xlabel('$\\\\rho$_simulation', fontsize=18)\n",
    "plt.ylabel('$\\\\rho$_theoretical', fontsize=18)\n",
    "\n",
    "plt.legend(loc='lower right', fontsize=15)\n",
    "plt.xticks(fontsize=18)\n",
    "plt.yticks(fontsize=18)\n",
    "plt.tight_layout()\n",
    "plt.savefig('sanitycheck_joint_neq.png', dpi=300)\n",
    "plt.show()"
   ]
  },
  {
   "cell_type": "code",
   "execution_count": null,
   "id": "6bd49016",
   "metadata": {},
   "outputs": [],
   "source": []
  }
 ],
 "metadata": {
  "kernelspec": {
   "display_name": "Python 3",
   "language": "python",
   "name": "python3"
  },
  "language_info": {
   "codemirror_mode": {
    "name": "ipython",
    "version": 3
   },
   "file_extension": ".py",
   "mimetype": "text/x-python",
   "name": "python",
   "nbconvert_exporter": "python",
   "pygments_lexer": "ipython3",
   "version": "3.8.8"
  }
 },
 "nbformat": 4,
 "nbformat_minor": 5
}
