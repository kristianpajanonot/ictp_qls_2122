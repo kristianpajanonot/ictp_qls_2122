{
 "cells": [
  {
   "cell_type": "markdown",
   "id": "0a420ec7",
   "metadata": {},
   "source": [
    "### Langevin Equation\n",
    "\n",
    "Equation (1)\n",
    "$$ \\gamma \\dot{x_1} = -V^\\prime _1 (x_1) - k_1 x_2 + \\sqrt{2k_B T_1 \\gamma}ξ_1 $$\n",
    "$$ \\gamma \\dot{x_2} = -V^\\prime _2 (x_2) - k_2 x_1 + \\sqrt{2k_B T_2 \\gamma}ξ_2 $$\n",
    "\n",
    "$$ V_1 (x_1) = \\frac{a_1}{2} x_1^2, V_2 (x_2) = \\frac{a_2}{2} x_2^2 $$\n",
    "\n",
    "Equation (2)\n",
    "\n",
    "$$ \\dot{x_1} = -\\frac{a_1}{\\gamma} x_1 - \\frac{k_1}{\\gamma} x_2 + \\sqrt{\\frac{2k_B T_1}{\\gamma}}ξ_1 $$\n",
    "$$ \\dot{x_2} = -\\frac{a_2}{\\gamma} x_2 - \\frac{k_2}{\\gamma} x_1 + \\sqrt{\\frac{2k_B T_2}{\\gamma}}ξ_2 $$"
   ]
  },
  {
   "cell_type": "markdown",
   "id": "c5a39054",
   "metadata": {},
   "source": [
    "### Stochastic Heat:\n",
    "\n",
    "$$ 0 = - \\gamma \\dot{x_1} + \\sqrt{2k_B T_1 \\gamma}ξ_1 - V^\\prime _1 (x_1) - k_1 x_2  $$\n",
    "$$ 0 = - \\gamma \\dot{x_2} + \\sqrt{2k_B T_2 \\gamma}ξ_2 - V^\\prime _2 (x_2) - k_2 x_1  $$\n",
    "\n",
    "For x_1:\n",
    "\n",
    "$$ \\delta Q_1 = (-\\gamma \\dot{x_1} + \\sqrt{2k_B T_1 \\gamma}ξ_1) \\circ dx_1  = (V^\\prime _1 (x_1) + k_1 x_2) \\circ dx_1$$\n",
    "\n",
    "$$ \\delta Q_1 = (a_1 x_1 + k_1 x_2) \\circ dx_1  $$\n",
    "\n",
    "For x_2:\n",
    "\n",
    "$$ \\delta Q_2 = (-\\gamma \\dot{x_2} + \\sqrt{2k_B T_2 \\gamma}ξ_2) \\circ dx_2  = (V^\\prime _2 (x_2) + k_2 x_1) \\circ dx_2$$\n",
    "\n",
    "$$ \\delta Q_2 = (a_2 x_2 + k_2 x_1) \\circ dx_2  $$"
   ]
  },
  {
   "cell_type": "markdown",
   "id": "e4436397",
   "metadata": {},
   "source": [
    "### Functions for euler method"
   ]
  },
  {
   "cell_type": "markdown",
   "id": "a3a79204",
   "metadata": {},
   "source": [
    "Euler Scheme\n",
    "\n",
    "$$ X_{t+\\Delta t} = X_t + f(X_t, t)\\Delta t + g(X_t,t)\\Delta B_t $$\n",
    "\n",
    "where $$ \\Delta B_t = \\mathcal{N}(0, \\sqrt\\Delta t) $$"
   ]
  },
  {
   "cell_type": "code",
   "execution_count": 1,
   "id": "3cee4281",
   "metadata": {},
   "outputs": [],
   "source": [
    "import numpy as np\n",
    "import matplotlib.pyplot as plt\n",
    "# from tqdm import tqdm"
   ]
  },
  {
   "cell_type": "code",
   "execution_count": 2,
   "id": "2b792d34",
   "metadata": {},
   "outputs": [],
   "source": [
    "def euler_one_traj(n_time, pars):   \n",
    "    #initial condition\n",
    "    x1 = 0\n",
    "    x2 = 0\n",
    "    x1_traj = []\n",
    "    x2_traj = []\n",
    "    \n",
    "    #performing 1 traj with n_time number of data points\n",
    "    for i in range(n_time):\n",
    "        #generate delta_B\n",
    "        s1 = np.random.normal(0, np.sqrt(pars['delta_t']) )\n",
    "        s2 = np.random.normal(0, np.sqrt(pars['delta_t']) )\n",
    "        #solve for x1, x2\n",
    "        x1_new = x1 - (pars['a1']/pars['gamma'])*x1*pars['delta_t'] - \\\n",
    "        (pars['k1']/pars['gamma'])*x2*pars['delta_t'] + \\\n",
    "        np.sqrt((2*pars['Kb']*pars['T1'])/pars['gamma'])*s1\n",
    "                 \n",
    "        x2_new = x2 - (pars['a2']/pars['gamma'])*x2*pars['delta_t'] - \\\n",
    "        (pars['k2']/pars['gamma'])*x1*pars['delta_t'] + \\\n",
    "        np.sqrt((2*pars['Kb']*pars['T2'])/pars['gamma'])*s2\n",
    "                \n",
    "        x1 = x1_new\n",
    "        x2 = x2_new\n",
    "        \n",
    "        x1_traj.append(x1)\n",
    "        x2_traj.append(x2)\n",
    "    return x1_traj, x2_traj"
   ]
  },
  {
   "cell_type": "markdown",
   "id": "abb5ce6f",
   "metadata": {},
   "source": [
    "### Functions for stochastic heat"
   ]
  },
  {
   "cell_type": "markdown",
   "id": "43f94cb2",
   "metadata": {},
   "source": [
    "Equation (3):\n",
    "\n",
    "$$ \\delta Q_1 = (a_1 x_1 + k_1 x_2) \\circ dx_1  $$\n",
    "\n",
    "$$ \\delta Q_2 = (a_2 x_2 + k_2 x_1) \\circ dx_2  $$"
   ]
  },
  {
   "cell_type": "code",
   "execution_count": 3,
   "id": "b3c55719",
   "metadata": {},
   "outputs": [],
   "source": [
    "def calc_stochastic_heat_q1(x1, x2, pars):\n",
    "    \"\"\"Calculates stochastic heat per time delta following equation (3)\n",
    "    Input:\n",
    "    x1 (list) = x1_trajectory_list\n",
    "    x2 (list) = x2_trajectory_list\n",
    "    pars (dictionary) = parameters\n",
    "    \n",
    "    Here's an example:\n",
    "    x1 =       [1,2,3,4,5]\n",
    "    x1_shift = [5,1,2,3,4]\n",
    "    Then we can easily calculate operations, e.g. dx1 = x1 - x1_ shift\n",
    "    Vectorization (technique of implementing array operations without using for loop) is easier.\n",
    "    \n",
    "    After which, we discard the first element\n",
    "    \n",
    "    Returns:\n",
    "    stochastic heat as shown in equation (3)\"\"\"\n",
    "    x1_shift = np.roll(x1, shift = 1)   \n",
    "    x2_shift = np.roll(x2, shift = 1)\n",
    "    \n",
    "    first_term = pars['a1']*((x1 + x1_shift)/2)\n",
    "    second_term = pars['k1']*((x2 + x2_shift)/2)\n",
    "    dx1 = x1 - x1_shift\n",
    "    return (first_term[1:] + second_term[1:])*dx1[1:]\n",
    "\n",
    "def calc_stochastic_heat_q2(x1, x2, pars):\n",
    "    x1_shift = np.roll(x1, shift = 1)   \n",
    "    x2_shift = np.roll(x2, shift = 1)    \n",
    "    \n",
    "    first_term = pars['a2']*((x2 + x2_shift)/2)\n",
    "    second_term = pars['k2']*((x1 + x1_shift)/2)\n",
    "    dx2 = x2 - x2_shift\n",
    "    return (second_term[1:] + first_term[1:])*dx2[1:]"
   ]
  },
  {
   "cell_type": "code",
   "execution_count": 4,
   "id": "3363eeb9",
   "metadata": {},
   "outputs": [],
   "source": [
    "#function to calculate average q (cumulative_heat) after performing n_realizations\n",
    "def average_q(max1_time, pars):\n",
    "    min_time = 0\n",
    "    n_time = int((max1_time - min_time)/pars['delta_t'] + 1) #n_time = num of evenlx2 spaced samples (ex1. 1001 points)\n",
    "    time = np.linspace(min_time, max1_time, n_time) #time(ex1. 0 (min time), 0.01, 0.02, ..., 10 (max1 time)) with n_time no. of data points\n",
    "    \n",
    "    average_q1_trajectorx2 = 0\n",
    "    average_q2_trajectorx2 = 0\n",
    "        \n",
    "    relax_time = int(abs(pars['gamma']/pars['a1']))\n",
    "    \n",
    "    for i in range(pars['n_realizations']):\n",
    "        x1_traj, x2_traj = euler_one_traj(n_time, pars)\n",
    "        final_x1_traj = x1_traj[relax_time::]\n",
    "        final_x2_traj = x2_traj[relax_time::]\n",
    "        \n",
    "        \n",
    "        q1_trajectorx2 = calc_stochastic_heat_q1(final_x1_traj, final_x2_traj, pars)\n",
    "        q1_cumulative = np.cumsum(q1_trajectorx2)\n",
    "        \n",
    "        q2_trajectorx2 = calc_stochastic_heat_q2(final_x1_traj, final_x2_traj, pars)\n",
    "        q2_cumulative = np.cumsum(q2_trajectorx2)\n",
    "        \n",
    "        average_q1_trajectorx2 += q1_cumulative/pars['n_realizations']\n",
    "        average_q2_trajectorx2 += q2_cumulative/pars['n_realizations']\n",
    "        \n",
    "    return average_q1_trajectorx2, average_q2_trajectorx2, time[:-1]"
   ]
  },
  {
   "cell_type": "code",
   "execution_count": 5,
   "id": "30a258a3",
   "metadata": {},
   "outputs": [],
   "source": [
    "#plot stochastic heat\n",
    "def stochastic_heat_plotter(q1, q2, y_range, pars):\n",
    "    mean_q1 = np.mean(q1)\n",
    "    std_q1 = np.std(q1)\n",
    "    mean_q2 = np.mean(q2)\n",
    "    std_q2 = np.std(q2)\n",
    "\n",
    "    plt.figure(figsize=(10,4))\n",
    "    plt.plot(time, q1, label = 'q1')\n",
    "    plt.plot(time, q2, alpha = 0.5, label = 'q2')\n",
    "    plt.title('q1: Mean: {:.3g} and Std Dev: {:.3g} \\n q2: Mean: {:.3g} and Std Dev: {:.3g}'.format(mean_q1, std_q1, mean_q2, std_q2))\n",
    "\n",
    "    plt.suptitle('T1: {}, T2: {}'.format(pars['T1'], pars['T2']))\n",
    "    plt.xlabel('time')\n",
    "    plt.ylabel('stochastic heat')\n",
    "    \n",
    "    plt.ylim(y_range)\n",
    "\n",
    "    plt.legend()\n",
    "\n",
    "    plt.tight_layout()\n",
    "    plt.show()"
   ]
  },
  {
   "cell_type": "markdown",
   "id": "2cfa6355",
   "metadata": {},
   "source": [
    "### Start here"
   ]
  },
  {
   "cell_type": "code",
   "execution_count": 6,
   "id": "9ba7d5ae",
   "metadata": {},
   "outputs": [],
   "source": [
    "#paramaters\n",
    "pars = {}\n",
    "pars['a1'] = 1\n",
    "pars['k1'] = 0.5\n",
    "pars['T1'] = 300\n",
    "pars['a2'] = 1\n",
    "pars['k2'] = 0.5\n",
    "pars['T2'] = 300\n",
    "\n",
    "pars['gamma'] = 1\n",
    "pars['delta_t'] = 0.01\n",
    "pars['Kb'] = 1.38*10**-2"
   ]
  },
  {
   "cell_type": "markdown",
   "id": "0361082a",
   "metadata": {},
   "source": [
    "Plotting T1 = T2"
   ]
  },
  {
   "cell_type": "code",
   "execution_count": 7,
   "id": "b9a5fef8",
   "metadata": {
    "scrolled": true
   },
   "outputs": [
    {
     "name": "stdout",
     "output_type": "stream",
     "text": [
      "Wall time: 563 ms\n"
     ]
    }
   ],
   "source": [
    "%%time\n",
    "pars['T1'] = 300\n",
    "pars['T2'] = 300\n",
    "pars['n_realizations'] = 1\n",
    "q1_eq, q2_eq, time = average_q(500, pars)\n",
    "\n",
    "# y_range = [-5*10**-9, 10*10**-9]\n",
    "# stochastic_heat_plotter(q1_eq, q2_eq, y_range, pars)"
   ]
  },
  {
   "cell_type": "markdown",
   "id": "fc662cbe",
   "metadata": {},
   "source": [
    "Setting T2 > T1"
   ]
  },
  {
   "cell_type": "code",
   "execution_count": 8,
   "id": "33d59a91",
   "metadata": {},
   "outputs": [],
   "source": [
    "pars['T1'] = 300\n",
    "pars['T2'] = 900\n",
    "pars['n_realizations'] = 1\n",
    "q1_neq, q2_neq, time = average_q(500, pars)\n",
    "\n",
    "# y_range = [-8*10**-7, 8*10**-7]\n",
    "# stochastic_heat_plotter(q1_neq, q2_neq, y_range, pars)"
   ]
  },
  {
   "cell_type": "markdown",
   "id": "8e01d94a",
   "metadata": {},
   "source": [
    "### Plotting average cumulative heat "
   ]
  },
  {
   "cell_type": "code",
   "execution_count": 9,
   "id": "81e42596",
   "metadata": {},
   "outputs": [
    {
     "data": {
      "image/png": "[encoded data removed]",
      "text/plain": [
       "<Figure size 576x432 with 1 Axes>"
      ]
     },
     "metadata": {
      "needs_background": "light"
     },
     "output_type": "display_data"
    }
   ],
   "source": [
    "fig = plt.figure(figsize=(8,6))\n",
    "ax = fig.add_subplot(111)\n",
    "ax.plot(time[:-1], q1_eq, color = 'tab:blue',  label = 'system at equilibrium ($x_0$)')\n",
    "ax.plot(time[:-1], q2_eq, color = 'tab:orange',  label= 'system at equilibrium ($x_1$)')\n",
    "ax.plot(time[:-1], q1_neq, color = 'tab:green', label = 'system at non-equilibrium ($x_0$)')\n",
    "ax.plot(time[:-1], q2_neq, color = 'tab:red',  label= 'system at non-equilibrium ($x_1$)')\n",
    "\n",
    "plt.xlabel('t (ms)', fontsize=18)\n",
    "plt.ylabel('$\\\\left<Q \\\\right>$ ($pN$ $nm$)', fontsize=18)\n",
    "plt.xticks(fontsize=18)\n",
    "plt.yticks(fontsize=18)\n",
    "plt.legend(loc='upper center', bbox_to_anchor=(0.5, 1.25),\n",
    "          ncol=2, fancybox=True, fontsize=14)\n",
    "plt.tight_layout()\n",
    "plt.savefig('stoch_heat_1real_fin.png', dpi=100)\n",
    "plt.show()"
   ]
  },
  {
   "cell_type": "code",
   "execution_count": null,
   "id": "bffa0d7b",
   "metadata": {},
   "outputs": [],
   "source": []
  }
 ],
 "metadata": {
  "kernelspec": {
   "display_name": "Python 3",
   "language": "python",
   "name": "python3"
  },
  "language_info": {
   "codemirror_mode": {
    "name": "ipython",
    "version": 3
   },
   "file_extension": ".py",
   "mimetype": "text/x-python",
   "name": "python",
   "nbconvert_exporter": "python",
   "pygments_lexer": "ipython3",
   "version": "3.8.8"
  }
 },
 "nbformat": 4,
 "nbformat_minor": 5
}
