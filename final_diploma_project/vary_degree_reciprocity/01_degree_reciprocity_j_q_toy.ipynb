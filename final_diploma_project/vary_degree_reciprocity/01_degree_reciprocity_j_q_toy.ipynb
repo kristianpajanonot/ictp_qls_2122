{
 "cells": [
  {
   "cell_type": "code",
   "execution_count": 1,
   "id": "3818735d",
   "metadata": {},
   "outputs": [],
   "source": [
    "import numpy as np\n",
    "import matplotlib.pyplot as plt\n",
    "from tqdm import tqdm"
   ]
  },
  {
   "cell_type": "code",
   "execution_count": 2,
   "id": "c372cd5f",
   "metadata": {},
   "outputs": [],
   "source": [
    "def analytical_q(pars):\n",
    "    numerator = pars['a01']*((pars['a10']*pars['T0'])-(pars['a01']*pars['T1']))\n",
    "    denominator = (pars['a00']*pars['gamma1']) + (pars['a11']*pars['gamma0'])\n",
    "    \n",
    "    return pars['kb']*(numerator/denominator)"
   ]
  },
  {
   "cell_type": "code",
   "execution_count": 3,
   "id": "17f3deab",
   "metadata": {},
   "outputs": [],
   "source": [
    "def analytical_soln_acf_generic(omega_list, pars):\n",
    "\n",
    "    autocorr_list = []\n",
    "    for omega in omega_list:\n",
    "        numerator = ( pars['a11']**2 * pars['noise0'] ) \\\n",
    "        + ( pars['a01']**2 * pars['noise1'] ) \\\n",
    "        + ( (omega**2) * (pars['gamma1']**2) * (pars['noise0']) )\n",
    "\n",
    "        denominator = ( -2*pars['a11']*pars['a00']*pars['a10']*pars['a01'] ) \\\n",
    "        + ( (omega**2) * (pars['gamma0']**2) * (pars['a11']**2) ) \\\n",
    "        + ( ( (pars['a10']*pars['a01']) + (pars['gamma0']*pars['gamma1']* (omega**2) ) )**2) \\\n",
    "        + ( (pars['a00']**2) * ( (pars['a11']**2) + ((omega**2) * (pars['gamma1']**2) ) ))\n",
    "\n",
    "        autocorr = numerator/denominator\n",
    "        autocorr_list.append(autocorr)\n",
    "    return autocorr_list"
   ]
  },
  {
   "cell_type": "code",
   "execution_count": 4,
   "id": "24544cb3",
   "metadata": {},
   "outputs": [],
   "source": [
    "def analytical_soln_real_response(omega_list, pars):\n",
    "    real_response_list = []\n",
    "    for omega in omega_list:\n",
    "        numerator = - (omega**2)*(pars['gamma1']**2)*pars['a00'] \\\n",
    "        - (pars['a11']**2)*pars['a00'] \\\n",
    "        + pars['a10']*pars['a01']*pars['a11']\n",
    "        \n",
    "        denominator = ( -2*pars['a11']*pars['a00']*pars['a10']*pars['a01'] ) \\\n",
    "        + ( (omega**2) * (pars['gamma0']**2) * (pars['a11']**2) ) \\\n",
    "        + ( ( (pars['a10']*pars['a01']) + (pars['gamma0']*pars['gamma1']* (omega**2) ) )**2) \\\n",
    "        + ( (pars['a00']**2) * ( (pars['a11']**2) + ((omega**2) * (pars['gamma1']**2) ) ))\n",
    "        \n",
    "        real_response = numerator/denominator\n",
    "        real_response_list.append(real_response)\n",
    "    return real_response_list"
   ]
  },
  {
   "cell_type": "code",
   "execution_count": 5,
   "id": "563abc6a",
   "metadata": {},
   "outputs": [],
   "source": [
    "def analytical_soln_imaginary_response(omega_list, pars):\n",
    "    im_response_list = []\n",
    "    for omega in omega_list:\n",
    "        numerator = omega*(\n",
    "            (pars['gamma1']*pars['a10']*pars['a01']) \\\n",
    "            + (pars['gamma0']*(pars['gamma1']**2)*(omega**2)) \\\n",
    "            + ((pars['a11']**2)*pars['gamma0'])\n",
    "        )\n",
    "        \n",
    "        denominator = ( -2*pars['a11']*pars['a00']*pars['a10']*pars['a01'] ) \\\n",
    "        + ( (omega**2) * (pars['gamma0']**2) * (pars['a11']**2) ) \\\n",
    "        + ( ( (pars['a10']*pars['a01']) + (pars['gamma0']*pars['gamma1']* (omega**2) ) )**2) \\\n",
    "        + ( (pars['a00']**2) * ( (pars['a11']**2) + ((omega**2) * (pars['gamma1']**2) ) ))\n",
    "        \n",
    "        im_response = numerator/denominator\n",
    "        im_response_list.append(im_response)\n",
    "    return im_response_list"
   ]
  },
  {
   "cell_type": "code",
   "execution_count": 6,
   "id": "dfb3ae3c",
   "metadata": {},
   "outputs": [],
   "source": [
    "#paramaters\n",
    "#change all units to: force = pN, length = nm, time = ms\n",
    "pars = {}\n",
    "pars['a00'] = -1\n",
    "pars['a01'] = -0\n",
    "pars['a10'] = -0.5\n",
    "pars['a11'] = -1\n",
    "pars['gamma0'] = 1\n",
    "pars['gamma1'] = 1\n",
    "\n",
    "pars['kb'] = 1.38*10**-2\n",
    "\n",
    "pars['T0'] = 300\n",
    "pars['T1'] = 300\n",
    "pars['noise0'] = 2*pars['gamma0']*pars['kb']*pars['T0']\n",
    "pars['noise1'] = 2*pars['gamma1']*pars['kb']*pars['T1']"
   ]
  },
  {
   "cell_type": "code",
   "execution_count": 7,
   "id": "a5c7c92c",
   "metadata": {},
   "outputs": [
    {
     "data": {
      "text/plain": [
       "1.0"
      ]
     },
     "execution_count": 7,
     "metadata": {},
     "output_type": "execute_result"
    }
   ],
   "source": [
    "(pars['a00']*pars['a11']) - (pars['a01']*pars['a10'])"
   ]
  },
  {
   "cell_type": "code",
   "execution_count": 8,
   "id": "a0c07add",
   "metadata": {},
   "outputs": [],
   "source": [
    "omega_list = np.linspace(-200, 200, 1000)\n",
    "def calculate_energy_diss(pars, omega_list):\n",
    "    \n",
    "    paper_acf_soln = analytical_soln_acf_generic(omega_list, pars)\n",
    "    paper_imaginary_soln = analytical_soln_imaginary_response(omega_list, pars)\n",
    "    final_imaginary = (np.array(2*pars['kb']*pars['T0']*omega_list)*np.array(paper_imaginary_soln))\n",
    "\n",
    "    delta_omega = omega_list[1] - omega_list[0]\n",
    "    omega_squared = (omega_list)**2\n",
    "\n",
    "    #paper_acf_soln is autocrrelation function\n",
    "    #final_imaginary is imaginary of response function * (2*kBT/omega)\n",
    "    violation_function = (pars['gamma0']/(2*np.pi))*(omega_squared*paper_acf_soln - final_imaginary)\n",
    "    #energy dissipated is the integral of the violation_function\n",
    "    energy_diss = np.sum(violation_function*delta_omega)\n",
    "    return energy_diss, paper_acf_soln, final_imaginary"
   ]
  },
  {
   "cell_type": "code",
   "execution_count": 9,
   "id": "d6e99ab5",
   "metadata": {
    "scrolled": true
   },
   "outputs": [
    {
     "data": {
      "text/plain": [
       "array([-0.  , -0.01, -0.02, -0.03, -0.04, -0.05, -0.06, -0.07, -0.08,\n",
       "       -0.09, -0.1 , -0.11, -0.12, -0.13, -0.14, -0.15, -0.16, -0.17,\n",
       "       -0.18, -0.19, -0.2 , -0.21, -0.22, -0.23, -0.24, -0.25, -0.26,\n",
       "       -0.27, -0.28, -0.29, -0.3 , -0.31, -0.32, -0.33, -0.34, -0.35,\n",
       "       -0.36, -0.37, -0.38, -0.39, -0.4 , -0.41, -0.42, -0.43, -0.44,\n",
       "       -0.45, -0.46, -0.47, -0.48, -0.49, -0.5 ])"
      ]
     },
     "execution_count": 9,
     "metadata": {},
     "output_type": "execute_result"
    }
   ],
   "source": [
    "a01_list = np.arange(0, 0.5 + 0.01, 0.01)\n",
    "a01_list_final = np.array(-1)*a01_list\n",
    "a01_list_final"
   ]
  },
  {
   "cell_type": "code",
   "execution_count": 10,
   "id": "3d28dfcb",
   "metadata": {},
   "outputs": [
    {
     "name": "stderr",
     "output_type": "stream",
     "text": [
      "100%|██████████| 51/51 [00:00<00:00, 63.86it/s]\n"
     ]
    }
   ],
   "source": [
    "energy_diss_list = []\n",
    "q_list = []\n",
    "for i in tqdm(a01_list_final):\n",
    "    pars['a01'] = i\n",
    "    energy_diss, paper_acf_soln, final_imaginary = calculate_energy_diss(pars, omega_list)\n",
    "    energy_diss_list.append(energy_diss)\n",
    "    \n",
    "    q_analytical = analytical_q(pars)\n",
    "    q_list.append(q_analytical)"
   ]
  },
  {
   "cell_type": "code",
   "execution_count": 11,
   "id": "561d3982",
   "metadata": {},
   "outputs": [],
   "source": [
    "# import pickle\n",
    "# with open('energy_diss.pkl', 'wb') as f:\n",
    "#     pickle.dump(energy_diss_list, f)"
   ]
  },
  {
   "cell_type": "code",
   "execution_count": 15,
   "id": "24f5d6f4",
   "metadata": {},
   "outputs": [
    {
     "data": {
      "image/png": "[encoded data removed]",
      "text/plain": [
       "<Figure size 576x432 with 1 Axes>"
      ]
     },
     "metadata": {
      "needs_background": "light"
     },
     "output_type": "display_data"
    }
   ],
   "source": [
    "fig = plt.figure(figsize=(8,6))\n",
    "\n",
    "plt.scatter(a01_list_final, energy_diss_list,  facecolors='none', edgecolors='tab:orange', label='$\\\\left<J\\\\right>$')\n",
    "plt.plot(a01_list_final, q_list, color='tab:blue', label='$\\dot{Q}_{x_0}$')\n",
    "plt.xlabel('$a_{01}$', fontsize=18)\n",
    "plt.ylabel('$pN$ $nm/ms$', fontsize=18)\n",
    "plt.xticks(fontsize=18)\n",
    "plt.yticks(fontsize=18)\n",
    "plt.ylim(-0.15,0.01)\n",
    "plt.legend(loc='lower right', fontsize=16)\n",
    "plt.tight_layout()\n",
    "plt.savefig('reciprocity_j_q_fin.png', dpi=300)\n",
    "plt.show()"
   ]
  },
  {
   "cell_type": "code",
   "execution_count": null,
   "id": "02e4e80e",
   "metadata": {},
   "outputs": [],
   "source": []
  },
  {
   "cell_type": "code",
   "execution_count": null,
   "id": "842c0c23",
   "metadata": {},
   "outputs": [],
   "source": []
  }
 ],
 "metadata": {
  "kernelspec": {
   "display_name": "Python 3",
   "language": "python",
   "name": "python3"
  },
  "language_info": {
   "codemirror_mode": {
    "name": "ipython",
    "version": 3
   },
   "file_extension": ".py",
   "mimetype": "text/x-python",
   "name": "python",
   "nbconvert_exporter": "python",
   "pygments_lexer": "ipython3",
   "version": "3.8.8"
  }
 },
 "nbformat": 4,
 "nbformat_minor": 5
}
